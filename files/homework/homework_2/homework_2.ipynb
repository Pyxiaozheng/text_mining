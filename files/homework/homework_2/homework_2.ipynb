{
 "cells": [
  {
   "cell_type": "markdown",
   "id": "ab5ca555",
   "metadata": {},
   "source": [
    "<center><font size=4 style=\"color:#BA4A00\"><strong>Homework-2</strong></font></center>"
   ]
  },
  {
   "cell_type": "markdown",
   "id": "9bdf8cad",
   "metadata": {},
   "source": [
    "<font size=2 >**题目要求**</font>"
   ]
  },
  {
   "cell_type": "markdown",
   "id": "aa292f20",
   "metadata": {},
   "source": [
    "1. 1990-2022政府工作报告文本见`reports`文件夹；\n",
    "\n",
    "2. 参考本课程介绍过的典型语料库结构（参见nltk_data文件夹中不同语料库的存储方式和存储内容结构），应用NLTK `corpus`模块为上述文本构建一个语料库；\n",
    "\n",
    "3. 对第二步建立的语料库进行文本分析，给出三个你认为有价值的分析结果，先陈述每个结果的内容，再给出每个结果的分析过程。"
   ]
  },
  {
   "cell_type": "markdown",
   "id": "3c7e7b73",
   "metadata": {},
   "source": [
    "<font size=2 style=\"color:#FF0000\">**提交要求**</font>"
   ]
  },
  {
   "cell_type": "markdown",
   "id": "bbbb4c4d",
   "metadata": {},
   "source": [
    "请把你的作业写在该Jupyter中，并一并提交你构建的语料库，以`zip`压缩包形式在线提交作业，压缩包内包含该jupyter文件和你构建的语料库，确保你的jupyter文件配合你的语料库可以在任何符合课程要求配置的机器上正确运行。"
   ]
  },
  {
   "cell_type": "markdown",
   "id": "952ba757",
   "metadata": {},
   "source": [
    "<font size=2 style=\"color:#BA4A00\">**分词代码示例（仅供参考）**</font>"
   ]
  },
  {
   "cell_type": "markdown",
   "id": "0313b274",
   "metadata": {},
   "source": [
    "如果你的机器没有安装`jieba`分词，请运行下面这行代码安装"
   ]
  },
  {
   "cell_type": "code",
   "execution_count": 1,
   "id": "ef086bc6",
   "metadata": {},
   "outputs": [],
   "source": [
    "# ! pip install -i https://pypi.tuna.tsinghua.edu.cn/simple jieba"
   ]
  },
  {
   "cell_type": "code",
   "execution_count": 2,
   "id": "de77806f",
   "metadata": {},
   "outputs": [],
   "source": [
    "# 指定windows平台下Python运行时的默认编码类型为UTF-8\n",
    "import _locale\n",
    "_locale._getdefaultlocale = (lambda *args: ['zh_CN', 'utf8'])"
   ]
  },
  {
   "cell_type": "code",
   "execution_count": 3,
   "id": "5a4b142f",
   "metadata": {},
   "outputs": [],
   "source": [
    "with open('./reports/2022.txt') as f:\n",
    "    report_2022 = f.read().strip()"
   ]
  },
  {
   "cell_type": "code",
   "execution_count": 4,
   "id": "cf757d24",
   "metadata": {},
   "outputs": [
    {
     "data": {
      "text/plain": [
       "'各位代表：\\n\\n现在，我代表国务院，向大会报告政府工作，请予审议，并请全国政协委员提出意见。\\n\\n一、2021年工作回顾\\n\\n过去一年是党和国家历史上具有里程碑意义的一年。以习近平同志为核心的党中央团结带领'"
      ]
     },
     "execution_count": 4,
     "metadata": {},
     "output_type": "execute_result"
    }
   ],
   "source": [
    "report_2022[:100]"
   ]
  },
  {
   "cell_type": "code",
   "execution_count": 5,
   "id": "d65c34d4",
   "metadata": {},
   "outputs": [
    {
     "data": {
      "text/plain": [
       "'中国特色社会主义思想为指导，攻坚克难，砥砺奋进，努力完成全年目标任务，以实际行动迎接党的二十大胜利召开，为把我国建设成为富强民主文明和谐美丽的社会主义现代化强国、实现中华民族伟大复兴的中国梦不懈奋斗！'"
      ]
     },
     "execution_count": 5,
     "metadata": {},
     "output_type": "execute_result"
    }
   ],
   "source": [
    "report_2022[-100:]"
   ]
  },
  {
   "cell_type": "code",
   "execution_count": 6,
   "id": "57f72d56",
   "metadata": {},
   "outputs": [],
   "source": [
    "import jieba"
   ]
  },
  {
   "cell_type": "code",
   "execution_count": 7,
   "id": "e80bae7a",
   "metadata": {},
   "outputs": [
    {
     "name": "stderr",
     "output_type": "stream",
     "text": [
      "Building prefix dict from the default dictionary ...\n",
      "Dumping model to file cache /tmp/jieba.cache\n",
      "Loading model cost 0.639 seconds.\n",
      "Prefix dict has been built successfully.\n"
     ]
    }
   ],
   "source": [
    "word_list = list(jieba.cut(report_2022))"
   ]
  },
  {
   "cell_type": "code",
   "execution_count": 8,
   "id": "0d6e7cac",
   "metadata": {},
   "outputs": [
    {
     "data": {
      "text/plain": [
       "['各位',\n",
       " '代表',\n",
       " '：',\n",
       " '\\n',\n",
       " '\\n',\n",
       " '现在',\n",
       " '，',\n",
       " '我',\n",
       " '代表',\n",
       " '国务院',\n",
       " '，',\n",
       " '向',\n",
       " '大会',\n",
       " '报告',\n",
       " '政府',\n",
       " '工作',\n",
       " '，',\n",
       " '请予',\n",
       " '审议',\n",
       " '，']"
      ]
     },
     "execution_count": 8,
     "metadata": {},
     "output_type": "execute_result"
    }
   ],
   "source": [
    "word_list[:20]"
   ]
  },
  {
   "cell_type": "code",
   "execution_count": 9,
   "id": "9c71cefa",
   "metadata": {
    "scrolled": true
   },
   "outputs": [
    {
     "data": {
      "text/plain": [
       "['富强',\n",
       " '民主',\n",
       " '文明',\n",
       " '和谐',\n",
       " '美丽',\n",
       " '的',\n",
       " '社会主义',\n",
       " '现代化',\n",
       " '强国',\n",
       " '、',\n",
       " '实现',\n",
       " '中华民族',\n",
       " '伟大',\n",
       " '复兴',\n",
       " '的',\n",
       " '中国',\n",
       " '梦',\n",
       " '不懈',\n",
       " '奋斗',\n",
       " '！']"
      ]
     },
     "execution_count": 9,
     "metadata": {},
     "output_type": "execute_result"
    }
   ],
   "source": [
    "word_list[-20:]"
   ]
  },
  {
   "cell_type": "code",
   "execution_count": 10,
   "id": "23132146",
   "metadata": {},
   "outputs": [
    {
     "data": {
      "text/plain": [
       "9184"
      ]
     },
     "execution_count": 10,
     "metadata": {},
     "output_type": "execute_result"
    }
   ],
   "source": [
    "len(word_list)"
   ]
  },
  {
   "cell_type": "markdown",
   "id": "01c09dbd",
   "metadata": {},
   "source": [
    "将分词之后的文本写入文件`2022_word.txt`中。"
   ]
  },
  {
   "cell_type": "code",
   "execution_count": 11,
   "id": "23031548",
   "metadata": {},
   "outputs": [],
   "source": [
    "seg_list = []"
   ]
  },
  {
   "cell_type": "code",
   "execution_count": 12,
   "id": "49ca7dc1",
   "metadata": {},
   "outputs": [],
   "source": [
    "for word in word_list:\n",
    "    if word.strip():\n",
    "        seg_list.append(word)"
   ]
  },
  {
   "cell_type": "code",
   "execution_count": 13,
   "id": "3b601e87",
   "metadata": {},
   "outputs": [
    {
     "data": {
      "text/plain": [
       "8994"
      ]
     },
     "execution_count": 13,
     "metadata": {},
     "output_type": "execute_result"
    }
   ],
   "source": [
    "len(seg_list)"
   ]
  },
  {
   "cell_type": "code",
   "execution_count": 14,
   "id": "634b644d",
   "metadata": {},
   "outputs": [],
   "source": [
    "with open('./2022_word.txt','w') as f:\n",
    "    seg_text = ' '.join(seg_list)\n",
    "    f.write(seg_text)"
   ]
  },
  {
   "cell_type": "markdown",
   "id": "cacd26fd",
   "metadata": {},
   "source": [
    "更多关于`jieba`分词的用法，请参考：\n",
    "\n",
    "https://github.com/fxsjy/jieba"
   ]
  },
  {
   "cell_type": "markdown",
   "id": "4239f675",
   "metadata": {},
   "source": [
    "<center><font size=3 ><strong>请将你的作业代码写在下面，并对代码给出必要的注释</strong></font></center>"
   ]
  },
  {
   "cell_type": "code",
   "execution_count": 15,
   "id": "d34f3015",
   "metadata": {},
   "outputs": [],
   "source": [
    "# 你的作业代码"
   ]
  }
 ],
 "metadata": {
  "kernelspec": {
   "display_name": "Python 3 (ipykernel)",
   "language": "python",
   "name": "python3"
  },
  "language_info": {
   "codemirror_mode": {
    "name": "ipython",
    "version": 3
   },
   "file_extension": ".py",
   "mimetype": "text/x-python",
   "name": "python",
   "nbconvert_exporter": "python",
   "pygments_lexer": "ipython3",
   "version": "3.9.7"
  }
 },
 "nbformat": 4,
 "nbformat_minor": 5
}
