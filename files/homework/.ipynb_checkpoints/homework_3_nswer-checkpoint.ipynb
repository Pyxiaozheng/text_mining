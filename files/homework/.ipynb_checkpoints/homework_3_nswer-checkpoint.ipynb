{
 "cells": [
  {
   "cell_type": "markdown",
   "id": "46e64aa1",
   "metadata": {},
   "source": [
    "<center><font size=5 ><strong>Homework 3</strong></font></center>"
   ]
  },
  {
   "cell_type": "markdown",
   "id": "4018b931",
   "metadata": {},
   "source": [
    "<font size=2 style=\"color:#FF0000\">**注意**</font>：\n",
    "\n",
    "- 请在该jupyter文件中每道题目下方直接作答，空间不够可以增加cell；\n",
    "\n",
    "- 请为你的答案添加必要的注释；\n",
    "\n",
    "- 请按时提交，过期不候。\n",
    "\n",
    "\n",
    "截止时间：2022-05-12 00:00\n",
    "\n",
    "提交地址：https://workspace.jianguoyun.com/inbox/collect/854b576c1a174ebeb8bb39d53d850f89/submit"
   ]
  },
  {
   "cell_type": "markdown",
   "id": "f3cc6cab",
   "metadata": {},
   "source": [
    "1. Write a program that takes a sentence expressed as a single string, splits it and counts up the words. Get it to print out each word and the word's frequency, one per line, in alphabetical order. (编写一个程序，将一个句子表示为单个字符串，将其拆分并计算单词。让它按字母顺序打印出每个单词和单词的频率，每行一个)"
   ]
  },
  {
   "cell_type": "code",
   "execution_count": 1,
   "id": "9b61d1d1",
   "metadata": {},
   "outputs": [],
   "source": [
    "# 导入实现该函数所需的模块和包\n",
    "import string\n",
    "from nltk import FreqDist\n",
    "from nltk.tokenize import word_tokenize\n",
    "from nltk.stem import WordNetLemmatizer\n",
    "wnl = WordNetLemmatizer()"
   ]
  },
  {
   "cell_type": "code",
   "execution_count": 2,
   "id": "3eef3bc9",
   "metadata": {},
   "outputs": [],
   "source": [
    "def word_freq(text,first_n):\n",
    "    # 分词\n",
    "    words = word_tokenize(text)\n",
    "    # 词干化，过滤掉只包含数字和标点的单词\n",
    "    lemmas = [wnl.lemmatize(word) for word in words if set(word) - set(string.digits+string.punctuation)]\n",
    "    # 频率统计\n",
    "    fdist = FreqDist(lemmas)\n",
    "    # 按照首字母排序打印输出前n个词的词频\n",
    "    for item in sorted(fdist.keys())[:first_n]:\n",
    "        print(item, fdist.get(item))"
   ]
  },
  {
   "cell_type": "code",
   "execution_count": 3,
   "id": "804896ab",
   "metadata": {},
   "outputs": [
    {
     "name": "stdout",
     "output_type": "stream",
     "text": [
      "10-year 1\n",
      "13th 3\n",
      "14th 5\n",
      "150-million 1\n",
      "16th 1\n",
      "19th 5\n",
      "2021–2025 1\n",
      "20th 3\n",
      "28th 1\n",
      "30th 1\n",
      "5g 1\n",
      "76th 1\n",
      "a 212\n",
      "ability 3\n",
      "able 1\n",
      "ably 1\n",
      "abolish 1\n",
      "abolishing 1\n",
      "about 1\n",
      "above 3\n",
      "abroad 3\n",
      "absence 1\n",
      "absorb 1\n",
      "absorption 1\n",
      "abuse 1\n",
      "academia 1\n",
      "academic 1\n",
      "accelerate 8\n",
      "accelerated 6\n",
      "accelerating 1\n",
      "accept 3\n",
      "acceptance 1\n",
      "access 6\n",
      "accident 1\n",
      "accomplish 1\n",
      "accomplished 1\n",
      "accomplishing 1\n",
      "accordance 7\n",
      "according 2\n",
      "account 2\n",
      "accountability 1\n",
      "achieve 5\n",
      "achieved 2\n",
      "achievement 8\n",
      "achieving 4\n",
      "acquire 2\n",
      "acquired 1\n",
      "acreage 1\n",
      "across 3\n",
      "act 6\n",
      "acting 1\n",
      "action 11\n",
      "active 3\n",
      "actively 5\n",
      "activity 7\n",
      "actual 1\n",
      "acute 2\n",
      "adapt 1\n",
      "adaptability 1\n",
      "adaptive 1\n",
      "added 3\n",
      "addition 2\n",
      "additional 4\n",
      "address 3\n",
      "addressed 2\n",
      "addressing 1\n",
      "adept 1\n",
      "adhere 1\n",
      "adjust 2\n",
      "adjustable 1\n",
      "adjustment 4\n",
      "administer 2\n",
      "administration 4\n",
      "administrative 5\n",
      "adopt 5\n",
      "adopted 6\n",
      "adopting 1\n",
      "advance 20\n",
      "advanced 8\n",
      "advancement 1\n",
      "advancing 1\n",
      "affair 4\n",
      "affected 2\n",
      "affecting 1\n",
      "afloat 1\n",
      "again 2\n",
      "against 11\n",
      "age 1\n",
      "agency 2\n",
      "aggregate 3\n",
      "aging 1\n",
      "agreement 3\n",
      "agricultural 9\n",
      "agriculture 8\n",
      "ahead 3\n",
      "aid 1\n",
      "alignment 1\n",
      "alive 1\n",
      "all 61\n",
      "all-around 2\n"
     ]
    }
   ],
   "source": [
    "# 使用2022年政府工作报告英文版作为待处理文本示例\n",
    "# 如果运行这里出现网络错误，那么请你从下面网址中把数据下载到本地，然后处理\n",
    "text_url = 'https://raw.githubusercontent.com/zhangjianzhang/text_mining/master/files/homework/report_2022_en.txt'\n",
    "import requests\n",
    "# proxies = {\n",
    "# \t\"http\": None,\n",
    "# \t\"https\": None,\n",
    "# }\n",
    "# proxies = proxies\n",
    "html = requests.get(text_url)\n",
    "text = html.text.strip().lower()\n",
    "\n",
    "# 只打印前100个单词的词频，将第二个参数设置充分大时可以打印出全部单词词频\n",
    "word_freq(text,100)\n",
    "# word_freq(text,1000000)"
   ]
  },
  {
   "cell_type": "markdown",
   "id": "e8350187",
   "metadata": {},
   "source": [
    "2. Write a list comprehension that sorts a list of WordNet synsets for proximity to a given synset. For example, given the synsets `minke_whale.n.01`, `orca.n.01`, `novel.n.01`, and `tortoise.n.01`, sort them according to their `shortest_path_distance()` from `right_whale.n.01`. (编写一个列表推导式，对 WordNet 同义词列表进行排序以接近给定同义词。例如，给定一组同义词 `minke_whale.n.01`、`orca.n.01`、`novel.n.01` 和 `tortoise.n.01`，根据他们到`right_whale.n.01`的 最短路径距离进行排序)"
   ]
  },
  {
   "cell_type": "code",
   "execution_count": 4,
   "id": "0381be85",
   "metadata": {},
   "outputs": [],
   "source": [
    "from nltk.corpus import wordnet as wn"
   ]
  },
  {
   "cell_type": "code",
   "execution_count": 5,
   "id": "a3ba86b2",
   "metadata": {},
   "outputs": [],
   "source": [
    "right = wn.synset('right_whale.n.01')"
   ]
  },
  {
   "cell_type": "code",
   "execution_count": 6,
   "id": "33ccbb16",
   "metadata": {},
   "outputs": [],
   "source": [
    "synset_list = ['orca.n.01',\n",
    "              'minke_whale.n.01',\n",
    "              'tortoise.n.01',\n",
    "              'novel.n.01']"
   ]
  },
  {
   "cell_type": "code",
   "execution_count": 7,
   "id": "432f8c0c",
   "metadata": {},
   "outputs": [
    {
     "data": {
      "text/plain": [
       "['minke_whale.n.01', 'orca.n.01', 'tortoise.n.01', 'novel.n.01']"
      ]
     },
     "execution_count": 7,
     "metadata": {},
     "output_type": "execute_result"
    }
   ],
   "source": [
    "sorted(synset_list,key = lambda item:wn.synset(item).shortest_path_distance(right))"
   ]
  },
  {
   "cell_type": "markdown",
   "id": "f82d9d01",
   "metadata": {},
   "source": [
    "3. The Catalan numbers arise in many applications of combinatorial mathematics, including the counting of parse trees. The series can be defined as follows: $C_0 = 1$, and $C_{n+1} = \\sum_{i=0}^{n} C_iC_{n-i}$. (卡塔兰数具有许多重要应用，其递推式为$C_0 = 1$, and $C_{n+1} = \\sum_{i=0}^{n} C_iC_{n-i}$)\n",
    "\n",
    "- Write a recursive function to compute $n$th Catalan number $C_n$; (使用递归计算第n个卡塔兰数)\n",
    "- Now write another function that does this computation using dynamic programming; (使用动态规划计算第n个卡塔兰数)\n",
    "- Use the `timeit` module to compare the performance of these functions as $n$ increases. (使用`timeit`模块比较随着$n$的增长上面两种实现方式计算时间的差异)"
   ]
  },
  {
   "cell_type": "code",
   "execution_count": 8,
   "id": "064908c0",
   "metadata": {},
   "outputs": [],
   "source": [
    "# 1, 1, 2, 5, 14, 42, 132, 429, 1430, ..."
   ]
  },
  {
   "cell_type": "markdown",
   "id": "3d73337d",
   "metadata": {},
   "source": [
    "$C_0 = 1$, and $C_{n+1} = \\sum_{i=0}^{n} C_iC_{n-i},  n \\ge 0$"
   ]
  },
  {
   "cell_type": "markdown",
   "id": "e715a1da",
   "metadata": {},
   "source": [
    "$C_0 = 1$\n",
    "\n",
    "$C_1 = C_0 \\cdot C_0$\n",
    "\n",
    "$C_2 = C_0 \\cdot C_1 + C_1 \\cdot C_0$\n",
    "\n",
    "$C_3 = C_0 \\cdot C_2 + C_1 \\cdot C_1 + C_2 \\cdot C_0$\n",
    "\n",
    "$C_4 = C_0 \\cdot C_3 + C_1 \\cdot C_2 + C_2 \\cdot C_1 + C_3 \\cdot C_0$\n",
    "\n",
    "$......$\n",
    "\n",
    "$C_n = C_0 \\cdot C_{n-1} + C_1 \\cdot C_{n-2} + ... + C_{n-2} \\cdot C_1 + C_{n-1} \\cdot C_0$"
   ]
  },
  {
   "cell_type": "code",
   "execution_count": 9,
   "id": "26da54d2",
   "metadata": {},
   "outputs": [],
   "source": [
    "# 递归实现\n",
    "def catalan_recursive(n):\n",
    "    # 边界条件\n",
    "    if n == 0:\n",
    "        return 1\n",
    "    else:\n",
    "        return sum([catalan_recursive(i) * catalan_recursive(n-1-i) for i in range(n)])"
   ]
  },
  {
   "cell_type": "code",
   "execution_count": 10,
   "id": "4bc50f52",
   "metadata": {},
   "outputs": [
    {
     "data": {
      "text/plain": [
       "1"
      ]
     },
     "execution_count": 10,
     "metadata": {},
     "output_type": "execute_result"
    }
   ],
   "source": [
    "catalan_recursive(1)"
   ]
  },
  {
   "cell_type": "code",
   "execution_count": 11,
   "id": "f4b8a975",
   "metadata": {},
   "outputs": [
    {
     "data": {
      "text/plain": [
       "2"
      ]
     },
     "execution_count": 11,
     "metadata": {},
     "output_type": "execute_result"
    }
   ],
   "source": [
    "catalan_recursive(2)"
   ]
  },
  {
   "cell_type": "code",
   "execution_count": 12,
   "id": "c469b1be",
   "metadata": {},
   "outputs": [
    {
     "data": {
      "text/plain": [
       "42"
      ]
     },
     "execution_count": 12,
     "metadata": {},
     "output_type": "execute_result"
    }
   ],
   "source": [
    "catalan_recursive(5)"
   ]
  },
  {
   "cell_type": "code",
   "execution_count": 13,
   "id": "4c238bc9",
   "metadata": {},
   "outputs": [
    {
     "data": {
      "text/plain": [
       "429"
      ]
     },
     "execution_count": 13,
     "metadata": {},
     "output_type": "execute_result"
    }
   ],
   "source": [
    "catalan_recursive(7)"
   ]
  },
  {
   "cell_type": "code",
   "execution_count": 14,
   "id": "d44e67ac",
   "metadata": {},
   "outputs": [],
   "source": [
    "# n = 19, 1767263190, 递归需要计算很长时间哦，因为存在大量重复计算\n",
    "# catalan_recursive(19)"
   ]
  },
  {
   "cell_type": "code",
   "execution_count": 15,
   "id": "be78fcee",
   "metadata": {},
   "outputs": [],
   "source": [
    "# 动态规划实现，自顶向下\n",
    "def catalan_top_bottom(n, catalan_dict = {0:1}):\n",
    "    if n not in catalan_dict:\n",
    "        catalan_dict[n] = sum([catalan_top_bottom(i) * catalan_top_bottom(n-1-i) for i in range(n)])\n",
    "    return catalan_dict[n]"
   ]
  },
  {
   "cell_type": "code",
   "execution_count": 16,
   "id": "02e8dcc0-3b87-454a-a2b3-eaba804b67ad",
   "metadata": {},
   "outputs": [
    {
     "data": {
      "text/plain": [
       "42"
      ]
     },
     "execution_count": 16,
     "metadata": {},
     "output_type": "execute_result"
    }
   ],
   "source": [
    "catalan_top_bottom(5)"
   ]
  },
  {
   "cell_type": "code",
   "execution_count": 17,
   "id": "9c7b948e-90ad-4e0b-897e-7a5dc01ed990",
   "metadata": {},
   "outputs": [
    {
     "data": {
      "text/plain": [
       "429"
      ]
     },
     "execution_count": 17,
     "metadata": {},
     "output_type": "execute_result"
    }
   ],
   "source": [
    "catalan_top_bottom(7)"
   ]
  },
  {
   "cell_type": "code",
   "execution_count": 18,
   "id": "fb43be31",
   "metadata": {},
   "outputs": [],
   "source": [
    "# 动态规划实现，自底向上\n",
    "def catalan_bottom_top(n):\n",
    "\tlookup = [1]\n",
    "\tfor i in range(1, n+1):\n",
    "\t\titem = sum(lookup[j]*lookup[i -1 - j] for j in range(i))\n",
    "\t\tlookup.append(item)\n",
    "\treturn lookup[n]"
   ]
  },
  {
   "cell_type": "code",
   "execution_count": 19,
   "id": "63038cf4",
   "metadata": {},
   "outputs": [
    {
     "data": {
      "text/plain": [
       "6564120420"
      ]
     },
     "execution_count": 19,
     "metadata": {},
     "output_type": "execute_result"
    }
   ],
   "source": [
    "catalan_bottom_top(20)"
   ]
  },
  {
   "cell_type": "code",
   "execution_count": 20,
   "id": "9dacc63c",
   "metadata": {},
   "outputs": [],
   "source": [
    "from timeit import Timer"
   ]
  },
  {
   "cell_type": "code",
   "execution_count": 21,
   "id": "13616643",
   "metadata": {},
   "outputs": [],
   "source": [
    "setup_recursive = 'from __main__ import catalan_recursive; compute_catalan = catalan_recursive'\n",
    "setup_top_bottom = 'from __main__ import catalan_top_bottom; compute_catalan = catalan_top_bottom'\n",
    "setup_bottom_top = 'from __main__ import catalan_bottom_top; compute_catalan = catalan_bottom_top'"
   ]
  },
  {
   "cell_type": "code",
   "execution_count": 22,
   "id": "246882bc",
   "metadata": {},
   "outputs": [
    {
     "name": "stdout",
     "output_type": "stream",
     "text": [
      "0 2.1890009520575404e-06 4.699000783148222e-06 2.48300057137385e-06\n",
      "1 1.170599898614455e-05 1.4996001482359134e-05 5.0960006774403155e-06\n",
      "2 1.378900014969986e-05 1.6085999959614128e-05 2.582000888651237e-06\n",
      "3 2.104600025631953e-05 1.2566999430418946e-05 3.031000233022496e-06\n",
      "4 6.281700007093605e-05 1.9694000002346e-05 2.7639998734230176e-06\n",
      "5 0.00018386999909125734 2.1947998902760446e-05 4.288998752599582e-06\n",
      "6 0.0003523899995343527 2.5309998818556778e-05 4.288000127417035e-06\n",
      "7 0.0012611900001502363 2.1498999558389187e-05 3.0030005291337147e-06\n",
      "8 0.0038114510007289937 3.0082001103437506e-05 1.3250000847619958e-05\n",
      "9 0.013026906999584753 3.375200139998924e-05 1.7733000277075917e-05\n",
      "10 0.028217080998729216 2.6448000426171347e-05 1.299099858442787e-05\n",
      "11 0.08010833300068043 2.7705000320565887e-05 1.216000055137556e-05\n",
      "12 0.1699019040006533 2.270400000270456e-05 1.45030007843161e-05\n",
      "13 0.4332734370000253 2.1578998712357134e-05 9.339999451185577e-06\n",
      "14 1.3576325390004058 2.745100027823355e-05 1.049899947247468e-05\n"
     ]
    }
   ],
   "source": [
    "# 自顶向下 < 自底向上 < 递归\n",
    "for i in range(15):\n",
    "    statement = 'compute_catalan(%d)'% i\n",
    "    print(i,\n",
    "          Timer(statement, setup_recursive).timeit(1),\n",
    "         Timer(statement, setup_bottom_top).timeit(1),\n",
    "         Timer(statement, setup_top_bottom).timeit(1))"
   ]
  },
  {
   "cell_type": "code",
   "execution_count": 23,
   "id": "181c4832",
   "metadata": {},
   "outputs": [
    {
     "name": "stdout",
     "output_type": "stream",
     "text": [
      "0 3.4940003388328478e-06 2.1519990696106106e-06\n",
      "1 7.062999429763295e-06 1.4880006347084418e-06\n",
      "2 6.672000381513499e-06 1.4069992175791413e-06\n",
      "3 8.682000043336302e-06 1.6160011000465602e-06\n",
      "4 9.733999831951223e-06 1.3690005289390683e-06\n",
      "5 1.0020999980042689e-05 1.2350010365480557e-06\n",
      "6 1.6075000530690886e-05 1.444001100026071e-06\n",
      "7 1.2755999705404975e-05 1.526999767520465e-06\n",
      "8 1.6312000298057683e-05 1.6839985619299114e-06\n",
      "9 1.755700031935703e-05 1.583999619469978e-06\n",
      "10 1.9530998542904854e-05 1.627000528969802e-06\n",
      "11 5.077900095784571e-05 3.34899959852919e-06\n",
      "12 4.0517999877920374e-05 2.7790010790340602e-06\n",
      "13 5.203399996389635e-05 7.054000889183953e-06\n",
      "14 3.5478000427247025e-05 3.339999238960445e-06\n",
      "15 5.744699956267141e-05 2.1869998818146996e-05\n",
      "16 6.682099956378806e-05 2.4379998649237677e-05\n",
      "17 6.731700159434695e-05 2.6137999157072045e-05\n",
      "18 7.182199988164939e-05 2.2742000510334037e-05\n",
      "19 7.347800055867992e-05 2.5380000806762837e-05\n",
      "20 8.335100028489251e-05 2.463000055286102e-05\n",
      "21 9.327299994765781e-05 2.8663998818956316e-05\n",
      "22 0.00010100200051965658 1.7615000615478493e-05\n",
      "23 6.313100129773375e-05 1.7190001017297618e-05\n",
      "24 8.014400009415112e-05 2.5925999580067582e-05\n",
      "25 7.074299901432823e-05 1.8341999748372473e-05\n",
      "26 7.842700142646208e-05 1.964799957931973e-05\n",
      "27 8.287200034828857e-05 2.0206998669891618e-05\n",
      "28 8.704000174475368e-05 2.0867000785074197e-05\n",
      "29 9.822899846767541e-05 2.909300019382499e-05\n",
      "30 0.00010538400056248065 3.6516999898594804e-05\n",
      "31 0.00010625100003380794 2.3992000933503732e-05\n",
      "32 0.00011110499872302171 2.596500053186901e-05\n",
      "33 0.00012077499923179857 2.5654999262769707e-05\n",
      "34 0.0001232860013260506 2.4406999727943912e-05\n",
      "35 0.00012551100007840432 2.4371000108658336e-05\n",
      "36 0.00013872999988961965 2.8213999030413106e-05\n",
      "37 0.0001456440004403703 2.676499934750609e-05\n",
      "38 0.00016173300173250027 2.8773998565156944e-05\n",
      "39 0.00016398399930039886 2.834499900927767e-05\n",
      "40 0.00016688699906808324 2.6808000257005915e-05\n",
      "41 0.00017178000052808784 2.7107000278192572e-05\n",
      "42 0.00018058400019071996 2.8205000489833765e-05\n",
      "43 0.0002015469999605557 3.148900032101665e-05\n",
      "44 0.00020097900051041506 3.263999860791955e-05\n",
      "45 0.00021127800027898047 2.8860000384156592e-05\n",
      "46 0.00021772199943370651 2.9034001272520982e-05\n",
      "47 0.00027350799973646645 4.759399962495081e-05\n",
      "48 0.00024398400091740768 3.740600004675798e-05\n",
      "49 0.0002605520003271522 3.5384000511839986e-05\n",
      "50 0.0002619759998196969 3.227600063837599e-05\n",
      "51 0.0002696050014492357 3.569799991964828e-05\n",
      "52 0.00028679100068984553 3.708099939103704e-05\n",
      "53 0.00029018700115557294 3.3401000109734014e-05\n",
      "54 0.00030205199982447084 3.402400034246966e-05\n",
      "55 0.0003247599997848738 3.4167998819611967e-05\n",
      "56 0.0003251880007155705 3.452499913692009e-05\n",
      "57 0.0003355429998919135 6.704000043100677e-05\n",
      "58 0.0003499769991321955 3.7242998587316833e-05\n",
      "59 0.0003855989998555742 6.372500138240866e-05\n",
      "60 0.00040824800089467317 4.9498999942443334e-05\n",
      "61 0.00047738300054334104 5.451399920275435e-05\n",
      "62 0.0004799449998245109 4.0748000174062327e-05\n",
      "63 0.0005930980005359743 5.905299985897727e-05\n",
      "64 0.0004943299991282402 4.91680002596695e-05\n",
      "65 0.0004428039992490085 4.312800047046039e-05\n",
      "66 0.00047382700176967774 4.5897999370936304e-05\n",
      "67 0.0004682509988924721 4.092299968760926e-05\n",
      "68 0.000489512000058312 4.1215000237571076e-05\n",
      "69 0.0004942199993820395 4.159499985689763e-05\n",
      "70 0.0005077219993836479 4.234999869368039e-05\n",
      "71 0.0005258290002529975 4.2951000068569556e-05\n",
      "72 0.0005508069989446085 4.116600030101836e-05\n",
      "73 0.0005460929987748386 4.86190001538489e-05\n",
      "74 0.0005741109998780303 4.551599886326585e-05\n",
      "75 0.0005706819993065437 4.402699960337486e-05\n",
      "76 0.0009281799993914319 5.092799983685836e-05\n",
      "77 0.0006549169993377291 5.218000114837196e-05\n",
      "78 0.0006750240008841502 4.880499909631908e-05\n",
      "79 0.0006664350003120489 5.434800004877616e-05\n",
      "80 0.0006513930002256529 4.6731998736504465e-05\n",
      "81 0.0006577849999302998 4.606899892678484e-05\n",
      "82 0.0006510350012831623 4.578700099955313e-05\n",
      "83 0.0006711450005241204 4.6428000132436864e-05\n",
      "84 0.0006969530004425906 4.494700078794267e-05\n",
      "85 0.0006914389996381942 4.680799975176342e-05\n",
      "86 0.00070309799957613 4.493199958233163e-05\n",
      "87 0.0007973550000315299 5.113800034450833e-05\n",
      "88 0.0007067410006129649 5.5436999900848605e-05\n",
      "89 0.0007497629994759336 4.9734000640455633e-05\n",
      "90 0.0008829849994071992 5.401899943535682e-05\n",
      "91 0.000794375000623404 5.6041999414446764e-05\n",
      "92 0.000869625000632368 5.5549000535393134e-05\n",
      "93 0.0008239160015364178 5.008100015402306e-05\n",
      "94 0.000809039000159828 4.8863001211429946e-05\n",
      "95 0.0008394239994231611 4.748399987875018e-05\n",
      "96 0.0008150640005624155 4.7699000788270496e-05\n",
      "97 0.0008429760000581155 4.661800085159484e-05\n",
      "98 0.0008516390007571317 4.918400009046309e-05\n",
      "99 0.0009395979996043025 6.175999988045078e-05\n",
      "100 0.00092079800015199 5.4227999498834834e-05\n"
     ]
    }
   ],
   "source": [
    "for i in range(101):\n",
    "    statement = 'compute_catalan(%d)'% i\n",
    "    print(i,\n",
    "          Timer(statement, setup_bottom_top).timeit(1),\n",
    "         Timer(statement, setup_top_bottom).timeit(1))"
   ]
  },
  {
   "cell_type": "code",
   "execution_count": 24,
   "id": "377d27e8",
   "metadata": {},
   "outputs": [
    {
     "name": "stdout",
     "output_type": "stream",
     "text": [
      "THE END!!!\n"
     ]
    }
   ],
   "source": [
    "print(\"THE END!!!\")"
   ]
  },
  {
   "cell_type": "code",
   "execution_count": null,
   "id": "a8e1d497-7838-4d28-8040-5a03a4c3ae18",
   "metadata": {},
   "outputs": [],
   "source": []
  }
 ],
 "metadata": {
  "kernelspec": {
   "display_name": "Python 3 (ipykernel)",
   "language": "python",
   "name": "python3"
  },
  "language_info": {
   "codemirror_mode": {
    "name": "ipython",
    "version": 3
   },
   "file_extension": ".py",
   "mimetype": "text/x-python",
   "name": "python",
   "nbconvert_exporter": "python",
   "pygments_lexer": "ipython3",
   "version": "3.9.7"
  }
 },
 "nbformat": 4,
 "nbformat_minor": 5
}
