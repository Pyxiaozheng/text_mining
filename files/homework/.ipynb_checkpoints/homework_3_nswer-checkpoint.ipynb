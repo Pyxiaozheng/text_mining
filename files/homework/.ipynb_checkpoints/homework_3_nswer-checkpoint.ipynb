{
 "cells": [
  {
   "cell_type": "markdown",
   "id": "46e64aa1",
   "metadata": {},
   "source": [
    "<center><font size=5 ><strong>Homework 3</strong></font></center>"
   ]
  },
  {
   "cell_type": "markdown",
   "id": "4018b931",
   "metadata": {},
   "source": [
    "<font size=2 style=\"color:#FF0000\">**注意**</font>：\n",
    "\n",
    "- 请在该jupyter文件中每道题目下方直接作答，空间不够可以增加cell；\n",
    "\n",
    "- 请为你的答案添加必要的注释；\n",
    "\n",
    "- 请按时提交，过期不候。\n",
    "\n",
    "\n",
    "截止时间：2022-05-12 00:00\n",
    "\n",
    "提交地址：https://workspace.jianguoyun.com/inbox/collect/854b576c1a174ebeb8bb39d53d850f89/submit"
   ]
  },
  {
   "cell_type": "markdown",
   "id": "f3cc6cab",
   "metadata": {},
   "source": [
    "1. Write a program that takes a sentence expressed as a single string, splits it and counts up the words. Get it to print out each word and the word's frequency, one per line, in alphabetical order. (编写一个程序，将一个句子表示为单个字符串，将其拆分并计算单词。让它按字母顺序打印出每个单词和单词的频率，每行一个)"
   ]
  },
  {
   "cell_type": "code",
   "execution_count": 1,
   "id": "9b61d1d1",
   "metadata": {},
   "outputs": [],
   "source": [
    "# 导入实现该函数所需的模块和包\n",
    "import string\n",
    "from nltk import FreqDist\n",
    "from nltk.tokenize import word_tokenize\n",
    "from nltk.stem import WordNetLemmatizer\n",
    "wnl = WordNetLemmatizer()"
   ]
  },
  {
   "cell_type": "code",
   "execution_count": 2,
   "id": "3eef3bc9",
   "metadata": {},
   "outputs": [],
   "source": [
    "def word_freq(text,first_n):\n",
    "    # 分词\n",
    "    words = word_tokenize(text)\n",
    "    # 词干化，过滤掉只包含数字和标点的单词\n",
    "    lemmas = [wnl.lemmatize(word) for word in words if set(word) - set(string.digits+string.punctuation)]\n",
    "    # 频率统计\n",
    "    fdist = FreqDist(lemmas)\n",
    "    # 按照首字母排序打印输出前n个词的词频\n",
    "    for item in sorted(fdist.keys())[:first_n]:\n",
    "        print(item, fdist.get(item))"
   ]
  },
  {
   "cell_type": "code",
   "execution_count": 3,
   "id": "804896ab",
   "metadata": {},
   "outputs": [
    {
     "name": "stdout",
     "output_type": "stream",
     "text": [
      "10-year 1\n",
      "13th 3\n",
      "14th 5\n",
      "150-million 1\n",
      "16th 1\n",
      "19th 5\n",
      "2021–2025 1\n",
      "20th 3\n",
      "28th 1\n",
      "30th 1\n",
      "5g 1\n",
      "76th 1\n",
      "a 212\n",
      "ability 3\n",
      "able 1\n",
      "ably 1\n",
      "abolish 1\n",
      "abolishing 1\n",
      "about 1\n",
      "above 3\n",
      "abroad 3\n",
      "absence 1\n",
      "absorb 1\n",
      "absorption 1\n",
      "abuse 1\n",
      "academia 1\n",
      "academic 1\n",
      "accelerate 8\n",
      "accelerated 6\n",
      "accelerating 1\n",
      "accept 3\n",
      "acceptance 1\n",
      "access 6\n",
      "accident 1\n",
      "accomplish 1\n",
      "accomplished 1\n",
      "accomplishing 1\n",
      "accordance 7\n",
      "according 2\n",
      "account 2\n",
      "accountability 1\n",
      "achieve 5\n",
      "achieved 2\n",
      "achievement 8\n",
      "achieving 4\n",
      "acquire 2\n",
      "acquired 1\n",
      "acreage 1\n",
      "across 3\n",
      "act 6\n",
      "acting 1\n",
      "action 11\n",
      "active 3\n",
      "actively 5\n",
      "activity 7\n",
      "actual 1\n",
      "acute 2\n",
      "adapt 1\n",
      "adaptability 1\n",
      "adaptive 1\n",
      "added 3\n",
      "addition 2\n",
      "additional 4\n",
      "address 3\n",
      "addressed 2\n",
      "addressing 1\n",
      "adept 1\n",
      "adhere 1\n",
      "adjust 2\n",
      "adjustable 1\n",
      "adjustment 4\n",
      "administer 2\n",
      "administration 4\n",
      "administrative 5\n",
      "adopt 5\n",
      "adopted 6\n",
      "adopting 1\n",
      "advance 20\n",
      "advanced 8\n",
      "advancement 1\n",
      "advancing 1\n",
      "affair 4\n",
      "affected 2\n",
      "affecting 1\n",
      "afloat 1\n",
      "again 2\n",
      "against 11\n",
      "age 1\n",
      "agency 2\n",
      "aggregate 3\n",
      "aging 1\n",
      "agreement 3\n",
      "agricultural 9\n",
      "agriculture 8\n",
      "ahead 3\n",
      "aid 1\n",
      "alignment 1\n",
      "alive 1\n",
      "all 61\n",
      "all-around 2\n"
     ]
    }
   ],
   "source": [
    "# 使用2022年政府工作报告英文版作为待处理文本示例\n",
    "text_url = 'https://raw.githubusercontent.com/zhangjianzhang/text_mining/master/files/homework/report_2022_en.txt'\n",
    "import requests\n",
    "proxies = {\n",
    "\t\"http\": None,\n",
    "\t\"https\": None,\n",
    "}\n",
    "html = requests.get(text_url, proxies = proxies)\n",
    "text = html.text.strip().lower()\n",
    "\n",
    "# 只打印前100个单词的词频，将第二个参数设置充分大时可以打印出全部单词词频\n",
    "word_freq(text,100)\n",
    "# word_freq(text,1000000)"
   ]
  },
  {
   "cell_type": "markdown",
   "id": "e8350187",
   "metadata": {},
   "source": [
    "2. Write a list comprehension that sorts a list of WordNet synsets for proximity to a given synset. For example, given the synsets `minke_whale.n.01`, `orca.n.01`, `novel.n.01`, and `tortoise.n.01`, sort them according to their `shortest_path_distance()` from `right_whale.n.01`. (编写一个列表推导式，对 WordNet 同义词列表进行排序以接近给定同义词。例如，给定一组同义词 `minke_whale.n.01`、`orca.n.01`、`novel.n.01` 和 `tortoise.n.01`，根据他们到`right_whale.n.01`的 最短路径距离进行排序)"
   ]
  },
  {
   "cell_type": "code",
   "execution_count": 4,
   "id": "0381be85",
   "metadata": {},
   "outputs": [],
   "source": [
    "from nltk.corpus import wordnet as wn"
   ]
  },
  {
   "cell_type": "code",
   "execution_count": 5,
   "id": "a3ba86b2",
   "metadata": {},
   "outputs": [],
   "source": [
    "right = wn.synset('right_whale.n.01')"
   ]
  },
  {
   "cell_type": "code",
   "execution_count": 6,
   "id": "33ccbb16",
   "metadata": {},
   "outputs": [],
   "source": [
    "synset_list = ['orca.n.01',\n",
    "              'minke_whale.n.01',\n",
    "              'tortoise.n.01',\n",
    "              'novel.n.01']"
   ]
  },
  {
   "cell_type": "code",
   "execution_count": 7,
   "id": "432f8c0c",
   "metadata": {},
   "outputs": [
    {
     "data": {
      "text/plain": [
       "['minke_whale.n.01', 'orca.n.01', 'tortoise.n.01', 'novel.n.01']"
      ]
     },
     "execution_count": 7,
     "metadata": {},
     "output_type": "execute_result"
    }
   ],
   "source": [
    "sorted(synset_list,key = lambda item:wn.synset(item).shortest_path_distance(right))"
   ]
  },
  {
   "cell_type": "markdown",
   "id": "f82d9d01",
   "metadata": {},
   "source": [
    "3. The Catalan numbers arise in many applications of combinatorial mathematics, including the counting of parse trees. The series can be defined as follows: $C_0 = 1$, and $C_{n+1} = \\sum_{i=0}^{n} C_iC_{n-i}$. (卡塔兰数具有许多重要应用，其递推式为$C_0 = 1$, and $C_{n+1} = \\sum_{i=0}^{n} C_iC_{n-i}$)\n",
    "\n",
    "- Write a recursive function to compute $n$th Catalan number $C_n$; (使用递归计算第n个卡塔兰数)\n",
    "- Now write another function that does this computation using dynamic programming; (使用动态规划计算第n个卡塔兰数)\n",
    "- Use the `timeit` module to compare the performance of these functions as $n$ increases. (使用`timeit`模块比较随着$n$的增长上面两种实现方式计算时间的差异)"
   ]
  },
  {
   "cell_type": "code",
   "execution_count": 8,
   "id": "064908c0",
   "metadata": {},
   "outputs": [],
   "source": [
    "# 1, 1, 2, 5, 14, 42, 132, 429, 1430, ..."
   ]
  },
  {
   "cell_type": "markdown",
   "id": "3d73337d",
   "metadata": {},
   "source": [
    "$C_0 = 1$, and $C_{n+1} = \\sum_{i=0}^{n} C_iC_{n-i},  n \\ge 0$"
   ]
  },
  {
   "cell_type": "markdown",
   "id": "e715a1da",
   "metadata": {},
   "source": [
    "$C_0 = 1$\n",
    "\n",
    "$C_1 = C_0 \\cdot C_0$\n",
    "\n",
    "$C_2 = C_0 \\cdot C_1 + C_1 \\cdot C_0$\n",
    "\n",
    "$C_3 = C_0 \\cdot C_2 + C_1 \\cdot C_1 + C_2 \\cdot C_0$\n",
    "\n",
    "$C_4 = C_0 \\cdot C_3 + C_1 \\cdot C_2 + C_2 \\cdot C_1 + C_3 \\cdot C_0$\n",
    "\n",
    "$......$\n",
    "\n",
    "$C_n = C_0 \\cdot C_{n-1} + C_1 \\cdot C_{n-2} + ... + C_{n-2} \\cdot C_1 + C_{n-1} \\cdot C_0$"
   ]
  },
  {
   "cell_type": "code",
   "execution_count": 9,
   "id": "26da54d2",
   "metadata": {},
   "outputs": [],
   "source": [
    "# 递归实现\n",
    "def catalan_recursive(n):\n",
    "    # 边界条件\n",
    "    if n == 0:\n",
    "        return 1\n",
    "    else:\n",
    "        return sum([catalan_recursive(i) * catalan_recursive(n-1-i) for i in range(n)])"
   ]
  },
  {
   "cell_type": "code",
   "execution_count": 10,
   "id": "4bc50f52",
   "metadata": {},
   "outputs": [
    {
     "data": {
      "text/plain": [
       "1"
      ]
     },
     "execution_count": 10,
     "metadata": {},
     "output_type": "execute_result"
    }
   ],
   "source": [
    "catalan_recursive(1)"
   ]
  },
  {
   "cell_type": "code",
   "execution_count": 11,
   "id": "f4b8a975",
   "metadata": {},
   "outputs": [
    {
     "data": {
      "text/plain": [
       "2"
      ]
     },
     "execution_count": 11,
     "metadata": {},
     "output_type": "execute_result"
    }
   ],
   "source": [
    "catalan_recursive(2)"
   ]
  },
  {
   "cell_type": "code",
   "execution_count": 12,
   "id": "c469b1be",
   "metadata": {},
   "outputs": [
    {
     "data": {
      "text/plain": [
       "42"
      ]
     },
     "execution_count": 12,
     "metadata": {},
     "output_type": "execute_result"
    }
   ],
   "source": [
    "catalan_recursive(5)"
   ]
  },
  {
   "cell_type": "code",
   "execution_count": 13,
   "id": "4c238bc9",
   "metadata": {},
   "outputs": [
    {
     "data": {
      "text/plain": [
       "429"
      ]
     },
     "execution_count": 13,
     "metadata": {},
     "output_type": "execute_result"
    }
   ],
   "source": [
    "catalan_recursive(7)"
   ]
  },
  {
   "cell_type": "code",
   "execution_count": 14,
   "id": "d44e67ac",
   "metadata": {},
   "outputs": [],
   "source": [
    "# n = 19, 1767263190, 递归需要计算很长时间哦，因为存在大量重复计算\n",
    "# catalan_recursive(19)"
   ]
  },
  {
   "cell_type": "code",
   "execution_count": 15,
   "id": "be78fcee",
   "metadata": {},
   "outputs": [],
   "source": [
    "# 动态规划实现，自顶向下\n",
    "def catalan_top_bottom(n, catalan_dict = {'0':1}):\n",
    "    if n not in catalan_dict:\n",
    "        catalan_dict[n] = sum([catalan_top_bottom(i) * catalan_top_bottom(n-1-i) for i in range(n)])\n",
    "    return catalan_dict[n]"
   ]
  },
  {
   "cell_type": "code",
   "execution_count": 16,
   "id": "fb43be31",
   "metadata": {},
   "outputs": [],
   "source": [
    "# 动态规划实现，自底向上\n",
    "def catalan_bottom_top(n):\n",
    "\tlookup = [1]\n",
    "\tfor i in range(1, n+1):\n",
    "\t\titem = sum(lookup[j]*lookup[i -1 - j] for j in range(i))\n",
    "\t\tlookup.append(item)\n",
    "\treturn lookup[n]"
   ]
  },
  {
   "cell_type": "code",
   "execution_count": 17,
   "id": "63038cf4",
   "metadata": {},
   "outputs": [
    {
     "data": {
      "text/plain": [
       "6564120420"
      ]
     },
     "execution_count": 17,
     "metadata": {},
     "output_type": "execute_result"
    }
   ],
   "source": [
    "catalan_bottom_top(20)"
   ]
  },
  {
   "cell_type": "code",
   "execution_count": 18,
   "id": "9dacc63c",
   "metadata": {},
   "outputs": [],
   "source": [
    "from timeit import Timer"
   ]
  },
  {
   "cell_type": "code",
   "execution_count": 19,
   "id": "13616643",
   "metadata": {},
   "outputs": [],
   "source": [
    "setup_recursive = 'from __main__ import catalan_recursive; compute_catalan = catalan_recursive'\n",
    "setup_top_bottom = 'from __main__ import catalan_top_bottom; compute_catalan = catalan_top_bottom'\n",
    "setup_bottom_top = 'from __main__ import catalan_bottom_top; compute_catalan = catalan_bottom_top'"
   ]
  },
  {
   "cell_type": "code",
   "execution_count": 20,
   "id": "246882bc",
   "metadata": {},
   "outputs": [
    {
     "name": "stdout",
     "output_type": "stream",
     "text": [
      "0 1.9079998310189694e-06 3.2040006772149354e-06 4.82500036014244e-06\n",
      "1 5.87100294069387e-06 7.422000635415316e-06 6.307000148808584e-06\n",
      "2 9.495997801423073e-06 8.578001143177971e-06 6.38499841443263e-06\n",
      "3 1.545100167277269e-05 8.813000022200868e-06 8.996001270134002e-06\n",
      "4 3.5433000448392704e-05 1.1423999239923432e-05 7.742997695459053e-06\n",
      "5 8.675000208313577e-05 1.6275000234600157e-05 1.0528001439524814e-05\n",
      "6 0.0003684049988805782 2.5391997041879222e-05 1.4756999007659033e-05\n",
      "7 0.0009295800009567756 2.9374001314863563e-05 1.301900192629546e-05\n",
      "8 0.0024819700010993984 1.8299000657862052e-05 9.641000360716134e-06\n",
      "9 0.006865348997962428 2.75350030278787e-05 1.1308999091852456e-05\n",
      "10 0.016869742001290433 1.8871000065701082e-05 8.413000614382327e-06\n",
      "11 0.052288193997810595 2.083999788737856e-05 8.648999937577173e-06\n",
      "12 0.12440859399794135 1.9500999769661576e-05 8.31299985293299e-06\n",
      "13 0.3803208720019029 2.5099998310906813e-05 9.47700027609244e-06\n",
      "14 1.2512192800022603 2.8179998480482027e-05 1.0661999112926424e-05\n"
     ]
    }
   ],
   "source": [
    "# 自顶向下 < 自底向上 < 递归\n",
    "for i in range(15):\n",
    "    statement = 'compute_catalan(%d)'% i\n",
    "    print(i,\n",
    "          Timer(statement, setup_recursive).timeit(1),\n",
    "         Timer(statement, setup_bottom_top).timeit(1),\n",
    "         Timer(statement, setup_top_bottom).timeit(1))"
   ]
  },
  {
   "cell_type": "code",
   "execution_count": 21,
   "id": "181c4832",
   "metadata": {},
   "outputs": [
    {
     "name": "stdout",
     "output_type": "stream",
     "text": [
      "0 3.043998731300235e-06 1.6900012269616127e-06\n",
      "1 9.069997759070247e-06 1.7409984138794243e-06\n",
      "2 8.71199881657958e-06 1.5139994502533227e-06\n",
      "3 1.0735999239841476e-05 1.6850026440806687e-06\n",
      "4 1.3388002116698772e-05 1.7789971025194973e-06\n",
      "5 1.3311000657267869e-05 1.4329998521134257e-06\n",
      "6 1.8026999896392226e-05 4.2530009523034096e-06\n",
      "7 2.7764999686041847e-05 1.7519996617920697e-06\n",
      "8 2.5515997549518943e-05 2.8099966584704816e-06\n",
      "9 2.8769998607458547e-05 1.6989979485515505e-06\n",
      "10 3.1157997000264004e-05 1.9330000213813037e-06\n",
      "11 2.2231000912142918e-05 1.3310018402989954e-06\n",
      "12 2.43520007643383e-05 1.3030003174208105e-06\n",
      "13 2.5656998332124203e-05 1.3380013115238398e-06\n",
      "14 2.871100150514394e-05 1.3659991964232177e-06\n",
      "15 3.1095001759240404e-05 1.3827000657329336e-05\n",
      "16 3.446100163273513e-05 1.296600021305494e-05\n",
      "17 3.516799915814772e-05 1.2481999874580652e-05\n",
      "18 3.7571000575553626e-05 1.2364998838165775e-05\n",
      "19 4.182099655736238e-05 1.331600287812762e-05\n",
      "20 4.899600025964901e-05 1.6215999494306743e-05\n",
      "21 4.990000161342323e-05 1.377899752696976e-05\n",
      "22 5.3422998462338e-05 1.442299981135875e-05\n",
      "23 5.6572000175947323e-05 1.4774999726796523e-05\n",
      "24 5.871299799764529e-05 1.4273002307163551e-05\n",
      "25 7.597800140501931e-05 1.572499968460761e-05\n",
      "26 8.378900020034052e-05 1.5867997717577964e-05\n",
      "27 7.342300159507431e-05 1.581200194777921e-05\n",
      "28 7.708300108788535e-05 1.5753001207485795e-05\n",
      "29 8.148799679474905e-05 1.610700201126747e-05\n",
      "30 9.379599941894412e-05 1.832799898693338e-05\n",
      "31 0.0001797360018827021 3.2043997634900734e-05\n",
      "32 0.00018160900071961805 2.0111001504119486e-05\n",
      "33 0.0001046110010065604 1.9224000425310805e-05\n",
      "34 0.00015446099860128015 2.0729999960167333e-05\n",
      "35 0.00012663600136875175 2.6038997020805255e-05\n",
      "36 0.00015721299860160798 2.377700002398342e-05\n",
      "37 0.00014000199735164642 7.769699732307345e-05\n",
      "38 0.0001470460010750685 2.360500002396293e-05\n",
      "39 0.00015126399739529006 2.2341999283526093e-05\n",
      "40 0.00017218600260093808 2.212699837400578e-05\n",
      "41 0.00019939199773943983 2.8403999749571085e-05\n",
      "42 0.0002080710000882391 3.92399997508619e-05\n",
      "43 0.00018856099995900877 2.676099757081829e-05\n",
      "44 0.00019772200175793841 2.857100116671063e-05\n",
      "45 0.00026218000130029395 2.7488000341691077e-05\n",
      "46 0.00021894699966651388 2.6060999516630545e-05\n",
      "47 0.00022237200028030202 2.6835998141905293e-05\n",
      "48 0.00023470599990105256 2.7796999347629026e-05\n",
      "49 0.0002516349995858036 3.1199000659398735e-05\n",
      "50 0.00026711800092016347 2.6616999093675986e-05\n",
      "51 0.00027324500115355477 2.5889999960782006e-05\n",
      "52 0.0002705250008148141 2.6164001610595733e-05\n",
      "53 0.0003468249997240491 2.8419999580364674e-05\n",
      "54 0.00032959300006041303 2.9151000489946455e-05\n",
      "55 0.00029117400117684156 2.927499735960737e-05\n",
      "56 0.0003042110001842957 2.99400016956497e-05\n",
      "57 0.00033537399940541945 4.43579992861487e-05\n",
      "58 0.0003264459992351476 2.8876002033939585e-05\n",
      "59 0.0006226080004125834 3.272100002504885e-05\n",
      "60 0.00035045399999944493 3.0352999601745978e-05\n",
      "61 0.0003834630006167572 3.4409000363666564e-05\n",
      "62 0.0003799599980993662 3.28880014421884e-05\n",
      "63 0.0004137819996685721 3.4546999813755974e-05\n",
      "64 0.00040044300112640485 3.398099943296984e-05\n",
      "65 0.00042430699977558106 3.838000338873826e-05\n",
      "66 0.0004678449986386113 3.801800266955979e-05\n",
      "67 0.0004741750017274171 3.911000021616928e-05\n",
      "68 0.000519902998348698 3.513200135785155e-05\n",
      "69 0.0004427089988894295 3.2533000194234774e-05\n",
      "70 0.0004684769992309157 3.3283002267125994e-05\n",
      "71 0.0005490340008691419 3.6004999856231734e-05\n",
      "72 0.0005195109988562763 3.783400097745471e-05\n",
      "73 0.0004997459982405417 5.0177000957774e-05\n",
      "74 0.0009189949996653013 5.773399971076287e-05\n",
      "75 0.0008858770015649498 6.254599793464877e-05\n",
      "76 0.0008436659991275519 6.437099727918394e-05\n",
      "77 0.0005750010022893548 3.815300078713335e-05\n",
      "78 0.0005663259980792645 3.978800305048935e-05\n",
      "79 0.0005778679987997748 4.2707000829977915e-05\n",
      "80 0.0007014599977992475 3.93170012102928e-05\n",
      "81 0.0006474440015153959 4.2620002204785123e-05\n",
      "82 0.0006331389995466452 4.0090002585202456e-05\n",
      "83 0.0006778259994462132 4.1458002669969574e-05\n",
      "84 0.0006548399978782982 4.153799818595871e-05\n",
      "85 0.000670514000375988 6.491599924629554e-05\n",
      "86 0.0009139879985013977 4.516199987847358e-05\n",
      "87 0.0007226669986266643 4.502500087255612e-05\n",
      "88 0.0007789430019329302 4.3889998778468e-05\n",
      "89 0.000804118000814924 4.4118998630438e-05\n",
      "90 0.0008686169967404567 4.611099939211272e-05\n",
      "91 0.0008571279977331869 4.7184999857563525e-05\n",
      "92 0.0009122400006162934 5.953800064162351e-05\n",
      "93 0.00080271299884771 4.170499960309826e-05\n",
      "94 0.0008168630010914057 4.480400093598291e-05\n",
      "95 0.0008683799969730899 4.498500129557215e-05\n",
      "96 0.0009634509988245554 4.7064000682439655e-05\n",
      "97 0.0008568469966121484 4.31929984188173e-05\n",
      "98 0.0008730549998290371 7.99509980424773e-05\n",
      "99 0.0013212070007284638 4.730100044980645e-05\n",
      "100 0.0009783149980648886 4.92430008307565e-05\n"
     ]
    }
   ],
   "source": [
    "for i in range(101):\n",
    "    statement = 'compute_catalan(%d)'% i\n",
    "    print(i,\n",
    "          Timer(statement, setup_bottom_top).timeit(1),\n",
    "         Timer(statement, setup_top_bottom).timeit(1))"
   ]
  },
  {
   "cell_type": "code",
   "execution_count": 22,
   "id": "377d27e8",
   "metadata": {},
   "outputs": [
    {
     "name": "stdout",
     "output_type": "stream",
     "text": [
      "THE END!!!\n"
     ]
    }
   ],
   "source": [
    "print(\"THE END!!!\")"
   ]
  }
 ],
 "metadata": {
  "kernelspec": {
   "display_name": "Python 3 (ipykernel)",
   "language": "python",
   "name": "python3"
  },
  "language_info": {
   "codemirror_mode": {
    "name": "ipython",
    "version": 3
   },
   "file_extension": ".py",
   "mimetype": "text/x-python",
   "name": "python",
   "nbconvert_exporter": "python",
   "pygments_lexer": "ipython3",
   "version": "3.9.7"
  }
 },
 "nbformat": 4,
 "nbformat_minor": 5
}
