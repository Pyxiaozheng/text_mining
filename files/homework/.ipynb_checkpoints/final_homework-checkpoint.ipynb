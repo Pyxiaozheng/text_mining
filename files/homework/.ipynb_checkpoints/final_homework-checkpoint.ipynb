{
 "cells": [
  {
   "cell_type": "markdown",
   "id": "27e85707-eaf2-4043-b1e8-f50de285d389",
   "metadata": {},
   "source": [
    "<center><font size=3 style=\"color:#BA4A00\"><strong>期末考试要求</strong></font></center>"
   ]
  },
  {
   "cell_type": "markdown",
   "id": "262271f3-7695-4b5e-a193-84bf04fb00dc",
   "metadata": {},
   "source": [
    "<font size=2 style=\"color:#BA4A00\">**总体要求**</font>"
   ]
  },
  {
   "cell_type": "markdown",
   "id": "3c17447a-d103-4ad1-b712-6ec83af9e99e",
   "metadata": {},
   "source": [
    "小组成员分工合作，**标注**分配给你们小组的**未标注数据**，计算标**注者一致性系数**；使用标注好的数据，**训练文本分类器**，并**汇报结果**。"
   ]
  },
  {
   "cell_type": "markdown",
   "id": "3adc625d-d548-45ff-b944-d55525f46ef7",
   "metadata": {},
   "source": [
    "<font size=2 style=\"color:#BA4A00\">**具体要求**</font>"
   ]
  },
  {
   "cell_type": "markdown",
   "id": "6e70467a-820a-4d0e-ab38-333f8edc4e72",
   "metadata": {},
   "source": [
    "**1. 每个小组会分配到500+300条数据，内容为软件评论，示例如下：**"
   ]
  },
  {
   "cell_type": "markdown",
   "id": "4871b410-0da7-47ed-bd05-8443b1071586",
   "metadata": {},
   "source": [
    "**谈论隐私问题的评论**: *Tech support and selling your information. Tech support is horrible not to mention they allow companies to use your information. Facebook is evil on many levels but screening and filtering to their benefit is #1 priority.*"
   ]
  },
  {
   "cell_type": "markdown",
   "id": "97b8d7bf-e483-4ce3-9c55-9475f503db52",
   "metadata": {},
   "source": [
    "**谈论其他问题的评论**: *Dictature. This Facebook with media control is just like a dictator, I m thinking that I can find my way on informations without this fake news Covid.*"
   ]
  },
  {
   "cell_type": "markdown",
   "id": "9b755a69-91fd-4bde-b4f2-0090aa233ca8",
   "metadata": {},
   "source": [
    "请将谈论隐私问题的软件评论标注为`1`，谈论其他问题的评论标注为`0`，请直接在分发的excel文件中进行标注，数据标注工作至少需要两名同学参与，标注者要就标注标准（即什么样的评论是`1`，什么样的评论是`0`）达成一致之后再进行标注，请将标注结果呈现在excel中最前面的列（如第一列，第二列），请先标注前500条，标注完成后，查看下这500条评论中`1`和`0`的比例，如果未达到**1:1**，请继续从剩余的300条数据中进行标注，最终使得两个类别的比例达到**1:1**，<font style=\"color:#FF0000\">**标注前500数据时，请客观标注，不要刻意为了满足1:1的比例而随意修改标注结果**</font>"
   ]
  },
  {
   "cell_type": "markdown",
   "id": "1da289a2-4f80-45f4-b3e7-9be0b6e336cb",
   "metadata": {},
   "source": [
    "为便于标注，推荐如下在线翻译软件:\n",
    "\n",
    "- https://translate.google.cn/\n",
    "- https://fanyi.baidu.com/#en/zh/\n",
    "- https://cn.bing.com/translator?mkt=zh-CN\n",
    "- https://fanyi.youdao.com/"
   ]
  },
  {
   "cell_type": "markdown",
   "id": "fa8eb459-6905-4154-b7f8-5b689b6cfd3d",
   "metadata": {},
   "source": [
    "最终标注完成后，请计算Cohen's kappa系数，计算示例如下："
   ]
  },
  {
   "cell_type": "markdown",
   "id": "8e149a38-5fed-4ac5-aec6-be173dba6b9f",
   "metadata": {},
   "source": [
    "<center>------------ 以下是Cohen's kappa系数计算示例 ------------</center>"
   ]
  },
  {
   "cell_type": "markdown",
   "id": "268d6b0d-1de4-4c60-8179-318ccc75486e",
   "metadata": {},
   "source": [
    "Suppose that you were analyzing data related to a group of 50 people applying for a grant. Each grant proposal was read by two readers and each reader either said \"Yes\" or \"No\" to the proposal. Suppose the disagreement count data were as follows, where A and B are readers, data on the main diagonal of the matrix (a and d) count the number of agreements and off-diagonal data (b and c) count the number of disagreements:"
   ]
  },
  {
   "cell_type": "markdown",
   "id": "947ca3cf-091e-4316-98c6-f1ae71d04700",
   "metadata": {},
   "source": [
    "<table class=\"wikitable\">\n",
    "<tbody><tr>\n",
    "<th style=\"background:#EAECF0;background:linear-gradient(to top right,#EAECF0 49%,#AAA 49.5%,#AAA 50.5%,#EAECF0 51%);line-height:1.2;padding:0.1em 0.4em;\"><div style=\"margin-left:2em;text-align:right\">B</div><div style=\"margin-right:2em;text-align:left\">A</div>\n",
    "</th>\n",
    "<th>Yes\n",
    "</th>\n",
    "<th>No\n",
    "</th></tr>\n",
    "<tr>\n",
    "<th>Yes\n",
    "</th>\n",
    "<td>a\n",
    "</td>\n",
    "<td>b\n",
    "</td></tr>\n",
    "<tr>\n",
    "<th>No\n",
    "</th>\n",
    "<td>c\n",
    "</td>\n",
    "<td>d\n",
    "</td></tr></tbody></table>"
   ]
  },
  {
   "cell_type": "markdown",
   "id": "599376e0-8f41-4bb3-8e26-8dda3d879df9",
   "metadata": {},
   "source": [
    "e.g."
   ]
  },
  {
   "cell_type": "markdown",
   "id": "9c7a7b56-a716-4436-84b8-dca99fc270ed",
   "metadata": {},
   "source": [
    "<table class=\"wikitable\">\n",
    "<tbody><tr>\n",
    "<th style=\"background:#EAECF0;background:linear-gradient(to top right,#EAECF0 49%,#AAA 49.5%,#AAA 50.5%,#EAECF0 51%);line-height:1.2;padding:0.1em 0.4em;\"><div style=\"margin-left:2em;text-align:right\">B</div><div style=\"margin-right:2em;text-align:left\">A</div>\n",
    "</th>\n",
    "<th>Yes\n",
    "</th>\n",
    "<th>No\n",
    "</th></tr>\n",
    "<tr>\n",
    "<th>Yes\n",
    "</th>\n",
    "<td>20\n",
    "</td>\n",
    "<td>5\n",
    "</td></tr>\n",
    "<tr>\n",
    "<th>No\n",
    "</th>\n",
    "<td>10\n",
    "</td>\n",
    "<td>15\n",
    "</td></tr></tbody></table>"
   ]
  },
  {
   "cell_type": "markdown",
   "id": "08459089-551b-4cf4-8b52-f9c101dea07f",
   "metadata": {},
   "source": [
    "The observed proportionate agreement is:"
   ]
  },
  {
   "cell_type": "code",
   "execution_count": null,
   "id": "2ef4e9a1-3cac-4f5a-8ca9-ad11423cd728",
   "metadata": {},
   "outputs": [],
   "source": []
  },
  {
   "cell_type": "code",
   "execution_count": null,
   "id": "55dd55d9-e16c-4bd8-9a84-7337e4c3e0f0",
   "metadata": {},
   "outputs": [],
   "source": []
  },
  {
   "cell_type": "code",
   "execution_count": null,
   "id": "dd069899-98ce-43db-a456-7ed642a0e4ec",
   "metadata": {},
   "outputs": [],
   "source": []
  },
  {
   "cell_type": "code",
   "execution_count": null,
   "id": "ed4b08c3-b373-4f04-9e12-2933213df7f0",
   "metadata": {},
   "outputs": [],
   "source": []
  },
  {
   "cell_type": "code",
   "execution_count": null,
   "id": "3f3ee8dc-3f8f-442b-b711-2747b2e8b0f3",
   "metadata": {},
   "outputs": [],
   "source": []
  },
  {
   "cell_type": "code",
   "execution_count": null,
   "id": "3f5d92cc-5dbc-4d39-ba36-100d2748cbd7",
   "metadata": {},
   "outputs": [],
   "source": []
  },
  {
   "cell_type": "code",
   "execution_count": null,
   "id": "f2a5ad25-8a9c-4074-bed6-64338f51cae7",
   "metadata": {},
   "outputs": [],
   "source": []
  },
  {
   "cell_type": "code",
   "execution_count": null,
   "id": "de216a47-dccb-4cff-afef-c3757ee643fd",
   "metadata": {},
   "outputs": [],
   "source": []
  },
  {
   "cell_type": "markdown",
   "id": "5fca1397-2b5a-4caa-8ecd-d29918b6b097",
   "metadata": {},
   "source": [
    "对于标注不一致的样本，请标注者之间进行协商，统一这些有分歧的样本类别标签。"
   ]
  },
  {
   "cell_type": "markdown",
   "id": "cb8e002c-3b56-4446-af50-d02d34f05c21",
   "metadata": {},
   "source": [
    "第一步结束后，将得到一份比例为**1:1**的评论标注数据，总条数非常可能大于500条，且标注结果中不存在分歧。"
   ]
  },
  {
   "cell_type": "markdown",
   "id": "f63196ca-6bd4-4452-aaf9-8956689711fa",
   "metadata": {},
   "source": [
    "**2. 对第一步标注的数据进行数据预处理**"
   ]
  },
  {
   "cell_type": "markdown",
   "id": "fa98ed4f-f369-45fd-b2a5-7f166d26b201",
   "metadata": {},
   "source": [
    "具体请参考（但不限于）实验代码`lecture_7_1.ipynb`和`lecture_7_2.ipynb`"
   ]
  },
  {
   "cell_type": "markdown",
   "id": "c5cc1ee3-b6d2-45f4-b7fb-39b5984de88a",
   "metadata": {},
   "source": [
    "**3. 文本向量化表示**"
   ]
  },
  {
   "cell_type": "markdown",
   "id": "2938f07f-f82e-483b-ad3a-a4d5c8ae4c3a",
   "metadata": {},
   "source": [
    "具体请参考（但不限于）实验代码`lecture_7_1.ipynb`和`lecture_7_2.ipynb`"
   ]
  },
  {
   "cell_type": "markdown",
   "id": "115bf873-f117-48e5-b2d4-be7e09ddc52b",
   "metadata": {},
   "source": [
    "**4. 尝试机器学习中的分类算法构建评论二分类器**"
   ]
  },
  {
   "cell_type": "markdown",
   "id": "aa5c04fc-e840-4d2e-b1bd-08765e3502f7",
   "metadata": {},
   "source": [
    "可以尝试已学习过的分类算法，非常鼓励探索使用其他分类算法，例如朴素贝叶斯，支持向量机，逻辑回归，决策树，随机森林，神经网络等，<font style=\"color:#FF0000\">**请至少尝试三个分类算法**</font>。"
   ]
  },
  {
   "cell_type": "markdown",
   "id": "a7d3673c-a412-4ce9-82cf-d158af8c2454",
   "metadata": {},
   "source": [
    "**5. 对选中的三个分类算法进行参数调优化**"
   ]
  },
  {
   "cell_type": "markdown",
   "id": "1f22b5f4-ee60-472d-9838-12718fb78538",
   "metadata": {},
   "source": [
    "可以使用**网格搜索**，**交叉验证法**等进行模型调试，并汇报调优后，三种分类模型的结果对比（）\n",
    "\n",
    "文本向量化和分类算法的参数搜索，请参考（但不限于）实验代码`lecture_7_1.ipynb`和`lecture_7_2.ipynb`"
   ]
  },
  {
   "cell_type": "markdown",
   "id": "b04341e6-9db7-425b-adfa-fa6f22369a34",
   "metadata": {},
   "source": [
    "**6. 请在如下链接下载未标注的测试数据，用你的最好模型对该测试数据进行分类标注**"
   ]
  },
  {
   "cell_type": "markdown",
   "id": "d1358891-75d6-4e4c-a1c9-a4d7ac0a5e21",
   "metadata": {},
   "source": [
    "通过第五步确定好最优分类算法和最优参数后，使用全部标注数据训练最终分类模型，并对未标注数据进行标签预测，请将预测结果填充到excel的第一列，大家上交后，我会根据答案对各组的预测进行统一评测"
   ]
  },
  {
   "cell_type": "markdown",
   "id": "6f7b468c-2481-47af-956f-7a33bb16be80",
   "metadata": {},
   "source": [
    "test_unlabel.xlsx: https://www.github.com"
   ]
  },
  {
   "cell_type": "markdown",
   "id": "b1492022-5653-4e9b-9124-8381770bf6b3",
   "metadata": {},
   "source": [
    "<font size=2 style=\"color:#BA4A00\">**提交要求**</font>"
   ]
  },
  {
   "cell_type": "markdown",
   "id": "8de2a274-1d6f-45d9-9521-06e48aaa4e7a",
   "metadata": {},
   "source": [
    "**1. 请在jupyter文件中写期末作业，必须同时包含实验代码和文字描述，请务必使你的jupyter有结构和条理，有章节标题等，文字写作部分（字体，字号，颜色，图片，公式等）可参考以下jupyter文件模板**"
   ]
  },
  {
   "cell_type": "markdown",
   "id": "01ecf60c-5150-430c-8e2e-3a35f0a34daa",
   "metadata": {},
   "source": [
    "example_jupyter.ipynb: https://www.github.com"
   ]
  },
  {
   "cell_type": "markdown",
   "id": "9984e964-927f-42b3-90ed-e12eaa88abec",
   "metadata": {},
   "source": [
    "**2. 请在提交的jupyter文件开头，显式、详细地注明本小组成员的分工情况**"
   ]
  },
  {
   "cell_type": "markdown",
   "id": "dcfe5300-01d4-4678-9d2c-a43e110c2810",
   "metadata": {},
   "source": [
    "**3. 请在线提交小组期末作业，提交链接如下，过期不候**"
   ]
  },
  {
   "cell_type": "markdown",
   "id": "b1cf18b9-fb8f-471a-8486-36c6328cc126",
   "metadata": {},
   "source": [
    "https://www.baidu.com"
   ]
  },
  {
   "cell_type": "markdown",
   "id": "e221e4c1-415a-4509-9c05-ac59a513a016",
   "metadata": {},
   "source": [
    "**4. 期末作业不仅评价对测试数据的预测结果，也会非常注重实验过程和文字描述**"
   ]
  },
  {
   "cell_type": "code",
   "execution_count": null,
   "id": "a52e9f03-a064-4297-af28-d66182ce5254",
   "metadata": {},
   "outputs": [],
   "source": []
  }
 ],
 "metadata": {
  "kernelspec": {
   "display_name": "Python 3 (ipykernel)",
   "language": "python",
   "name": "python3"
  },
  "language_info": {
   "codemirror_mode": {
    "name": "ipython",
    "version": 3
   },
   "file_extension": ".py",
   "mimetype": "text/x-python",
   "name": "python",
   "nbconvert_exporter": "python",
   "pygments_lexer": "ipython3",
   "version": "3.9.7"
  }
 },
 "nbformat": 4,
 "nbformat_minor": 5
}
