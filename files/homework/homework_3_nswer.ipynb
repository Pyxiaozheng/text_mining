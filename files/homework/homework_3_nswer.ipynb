{
 "cells": [
  {
   "cell_type": "markdown",
   "id": "46e64aa1",
   "metadata": {},
   "source": [
    "<center><font size=5 ><strong>Homework 3</strong></font></center>"
   ]
  },
  {
   "cell_type": "markdown",
   "id": "4018b931",
   "metadata": {},
   "source": [
    "<font size=2 style=\"color:#FF0000\">**注意**</font>：\n",
    "\n",
    "- 请在该jupyter文件中每道题目下方直接作答，空间不够可以增加cell；\n",
    "\n",
    "- 请为你的答案添加必要的注释；\n",
    "\n",
    "- 请按时提交，过期不候。\n",
    "\n",
    "\n",
    "截止时间：2022-05-12 00:00\n",
    "\n",
    "提交地址：https://workspace.jianguoyun.com/inbox/collect/854b576c1a174ebeb8bb39d53d850f89/submit"
   ]
  },
  {
   "cell_type": "markdown",
   "id": "f3cc6cab",
   "metadata": {},
   "source": [
    "1. Write a program that takes a sentence expressed as a single string, splits it and counts up the words. Get it to print out each word and the word's frequency, one per line, in alphabetical order. (编写一个程序，将一个句子表示为单个字符串，将其拆分并计算单词。让它按字母顺序打印出每个单词和单词的频率，每行一个)"
   ]
  },
  {
   "cell_type": "code",
   "execution_count": 1,
   "id": "9b61d1d1",
   "metadata": {},
   "outputs": [],
   "source": [
    "# 导入实现该函数所需的模块和包\n",
    "import string\n",
    "from nltk import FreqDist\n",
    "from nltk.tokenize import word_tokenize\n",
    "from nltk.stem import WordNetLemmatizer\n",
    "wnl = WordNetLemmatizer()"
   ]
  },
  {
   "cell_type": "code",
   "execution_count": 2,
   "id": "3eef3bc9",
   "metadata": {},
   "outputs": [],
   "source": [
    "def word_freq(text,first_n):\n",
    "    # 分词\n",
    "    words = word_tokenize(text)\n",
    "    # 词干化，过滤掉只包含数字和标点的单词\n",
    "    lemmas = [wnl.lemmatize(word) for word in words if set(word) - set(string.digits+string.punctuation)]\n",
    "    # 频率统计\n",
    "    fdist = FreqDist(lemmas)\n",
    "    # 按照首字母排序打印输出前n个词的词频\n",
    "    for item in sorted(fdist.keys())[:first_n]:\n",
    "        print(item, fdist.get(item))"
   ]
  },
  {
   "cell_type": "code",
   "execution_count": 4,
   "id": "804896ab",
   "metadata": {},
   "outputs": [
    {
     "ename": "ValueError",
     "evalue": "Unable to determine SOCKS version from socks://127.0.0.1:1083/",
     "output_type": "error",
     "traceback": [
      "\u001b[0;31m---------------------------------------------------------------------------\u001b[0m",
      "\u001b[0;31mValueError\u001b[0m                                Traceback (most recent call last)",
      "\u001b[0;32m/tmp/ipykernel_20168/3206470245.py\u001b[0m in \u001b[0;36m<module>\u001b[0;34m\u001b[0m\n\u001b[1;32m      6\u001b[0m         \u001b[0;34m\"https\"\u001b[0m\u001b[0;34m:\u001b[0m \u001b[0;32mNone\u001b[0m\u001b[0;34m,\u001b[0m\u001b[0;34m\u001b[0m\u001b[0;34m\u001b[0m\u001b[0m\n\u001b[1;32m      7\u001b[0m }\n\u001b[0;32m----> 8\u001b[0;31m \u001b[0mhtml\u001b[0m \u001b[0;34m=\u001b[0m \u001b[0mrequests\u001b[0m\u001b[0;34m.\u001b[0m\u001b[0mget\u001b[0m\u001b[0;34m(\u001b[0m\u001b[0mtext_url\u001b[0m\u001b[0;34m,\u001b[0m \u001b[0mproxies\u001b[0m \u001b[0;34m=\u001b[0m \u001b[0mproxies\u001b[0m\u001b[0;34m)\u001b[0m\u001b[0;34m\u001b[0m\u001b[0;34m\u001b[0m\u001b[0m\n\u001b[0m\u001b[1;32m      9\u001b[0m \u001b[0mtext\u001b[0m \u001b[0;34m=\u001b[0m \u001b[0mhtml\u001b[0m\u001b[0;34m.\u001b[0m\u001b[0mtext\u001b[0m\u001b[0;34m.\u001b[0m\u001b[0mstrip\u001b[0m\u001b[0;34m(\u001b[0m\u001b[0;34m)\u001b[0m\u001b[0;34m.\u001b[0m\u001b[0mlower\u001b[0m\u001b[0;34m(\u001b[0m\u001b[0;34m)\u001b[0m\u001b[0;34m\u001b[0m\u001b[0;34m\u001b[0m\u001b[0m\n\u001b[1;32m     10\u001b[0m \u001b[0;34m\u001b[0m\u001b[0m\n",
      "\u001b[0;32m/usr/local/anaconda3/lib/python3.9/site-packages/requests/api.py\u001b[0m in \u001b[0;36mget\u001b[0;34m(url, params, **kwargs)\u001b[0m\n\u001b[1;32m     73\u001b[0m     \"\"\"\n\u001b[1;32m     74\u001b[0m \u001b[0;34m\u001b[0m\u001b[0m\n\u001b[0;32m---> 75\u001b[0;31m     \u001b[0;32mreturn\u001b[0m \u001b[0mrequest\u001b[0m\u001b[0;34m(\u001b[0m\u001b[0;34m'get'\u001b[0m\u001b[0;34m,\u001b[0m \u001b[0murl\u001b[0m\u001b[0;34m,\u001b[0m \u001b[0mparams\u001b[0m\u001b[0;34m=\u001b[0m\u001b[0mparams\u001b[0m\u001b[0;34m,\u001b[0m \u001b[0;34m**\u001b[0m\u001b[0mkwargs\u001b[0m\u001b[0;34m)\u001b[0m\u001b[0;34m\u001b[0m\u001b[0;34m\u001b[0m\u001b[0m\n\u001b[0m\u001b[1;32m     76\u001b[0m \u001b[0;34m\u001b[0m\u001b[0m\n\u001b[1;32m     77\u001b[0m \u001b[0;34m\u001b[0m\u001b[0m\n",
      "\u001b[0;32m/usr/local/anaconda3/lib/python3.9/site-packages/requests/api.py\u001b[0m in \u001b[0;36mrequest\u001b[0;34m(method, url, **kwargs)\u001b[0m\n\u001b[1;32m     59\u001b[0m     \u001b[0;31m# cases, and look like a memory leak in others.\u001b[0m\u001b[0;34m\u001b[0m\u001b[0;34m\u001b[0m\u001b[0m\n\u001b[1;32m     60\u001b[0m     \u001b[0;32mwith\u001b[0m \u001b[0msessions\u001b[0m\u001b[0;34m.\u001b[0m\u001b[0mSession\u001b[0m\u001b[0;34m(\u001b[0m\u001b[0;34m)\u001b[0m \u001b[0;32mas\u001b[0m \u001b[0msession\u001b[0m\u001b[0;34m:\u001b[0m\u001b[0;34m\u001b[0m\u001b[0;34m\u001b[0m\u001b[0m\n\u001b[0;32m---> 61\u001b[0;31m         \u001b[0;32mreturn\u001b[0m \u001b[0msession\u001b[0m\u001b[0;34m.\u001b[0m\u001b[0mrequest\u001b[0m\u001b[0;34m(\u001b[0m\u001b[0mmethod\u001b[0m\u001b[0;34m=\u001b[0m\u001b[0mmethod\u001b[0m\u001b[0;34m,\u001b[0m \u001b[0murl\u001b[0m\u001b[0;34m=\u001b[0m\u001b[0murl\u001b[0m\u001b[0;34m,\u001b[0m \u001b[0;34m**\u001b[0m\u001b[0mkwargs\u001b[0m\u001b[0;34m)\u001b[0m\u001b[0;34m\u001b[0m\u001b[0;34m\u001b[0m\u001b[0m\n\u001b[0m\u001b[1;32m     62\u001b[0m \u001b[0;34m\u001b[0m\u001b[0m\n\u001b[1;32m     63\u001b[0m \u001b[0;34m\u001b[0m\u001b[0m\n",
      "\u001b[0;32m/usr/local/anaconda3/lib/python3.9/site-packages/requests/sessions.py\u001b[0m in \u001b[0;36mrequest\u001b[0;34m(self, method, url, params, data, headers, cookies, files, auth, timeout, allow_redirects, proxies, hooks, stream, verify, cert, json)\u001b[0m\n\u001b[1;32m    540\u001b[0m         }\n\u001b[1;32m    541\u001b[0m         \u001b[0msend_kwargs\u001b[0m\u001b[0;34m.\u001b[0m\u001b[0mupdate\u001b[0m\u001b[0;34m(\u001b[0m\u001b[0msettings\u001b[0m\u001b[0;34m)\u001b[0m\u001b[0;34m\u001b[0m\u001b[0;34m\u001b[0m\u001b[0m\n\u001b[0;32m--> 542\u001b[0;31m         \u001b[0mresp\u001b[0m \u001b[0;34m=\u001b[0m \u001b[0mself\u001b[0m\u001b[0;34m.\u001b[0m\u001b[0msend\u001b[0m\u001b[0;34m(\u001b[0m\u001b[0mprep\u001b[0m\u001b[0;34m,\u001b[0m \u001b[0;34m**\u001b[0m\u001b[0msend_kwargs\u001b[0m\u001b[0;34m)\u001b[0m\u001b[0;34m\u001b[0m\u001b[0;34m\u001b[0m\u001b[0m\n\u001b[0m\u001b[1;32m    543\u001b[0m \u001b[0;34m\u001b[0m\u001b[0m\n\u001b[1;32m    544\u001b[0m         \u001b[0;32mreturn\u001b[0m \u001b[0mresp\u001b[0m\u001b[0;34m\u001b[0m\u001b[0;34m\u001b[0m\u001b[0m\n",
      "\u001b[0;32m/usr/local/anaconda3/lib/python3.9/site-packages/requests/sessions.py\u001b[0m in \u001b[0;36msend\u001b[0;34m(self, request, **kwargs)\u001b[0m\n\u001b[1;32m    653\u001b[0m \u001b[0;34m\u001b[0m\u001b[0m\n\u001b[1;32m    654\u001b[0m         \u001b[0;31m# Send the request\u001b[0m\u001b[0;34m\u001b[0m\u001b[0;34m\u001b[0m\u001b[0m\n\u001b[0;32m--> 655\u001b[0;31m         \u001b[0mr\u001b[0m \u001b[0;34m=\u001b[0m \u001b[0madapter\u001b[0m\u001b[0;34m.\u001b[0m\u001b[0msend\u001b[0m\u001b[0;34m(\u001b[0m\u001b[0mrequest\u001b[0m\u001b[0;34m,\u001b[0m \u001b[0;34m**\u001b[0m\u001b[0mkwargs\u001b[0m\u001b[0;34m)\u001b[0m\u001b[0;34m\u001b[0m\u001b[0;34m\u001b[0m\u001b[0m\n\u001b[0m\u001b[1;32m    656\u001b[0m \u001b[0;34m\u001b[0m\u001b[0m\n\u001b[1;32m    657\u001b[0m         \u001b[0;31m# Total elapsed time of the request (approximately)\u001b[0m\u001b[0;34m\u001b[0m\u001b[0;34m\u001b[0m\u001b[0m\n",
      "\u001b[0;32m/usr/local/anaconda3/lib/python3.9/site-packages/requests/adapters.py\u001b[0m in \u001b[0;36msend\u001b[0;34m(self, request, stream, timeout, verify, cert, proxies)\u001b[0m\n\u001b[1;32m    410\u001b[0m \u001b[0;34m\u001b[0m\u001b[0m\n\u001b[1;32m    411\u001b[0m         \u001b[0;32mtry\u001b[0m\u001b[0;34m:\u001b[0m\u001b[0;34m\u001b[0m\u001b[0;34m\u001b[0m\u001b[0m\n\u001b[0;32m--> 412\u001b[0;31m             \u001b[0mconn\u001b[0m \u001b[0;34m=\u001b[0m \u001b[0mself\u001b[0m\u001b[0;34m.\u001b[0m\u001b[0mget_connection\u001b[0m\u001b[0;34m(\u001b[0m\u001b[0mrequest\u001b[0m\u001b[0;34m.\u001b[0m\u001b[0murl\u001b[0m\u001b[0;34m,\u001b[0m \u001b[0mproxies\u001b[0m\u001b[0;34m)\u001b[0m\u001b[0;34m\u001b[0m\u001b[0;34m\u001b[0m\u001b[0m\n\u001b[0m\u001b[1;32m    413\u001b[0m         \u001b[0;32mexcept\u001b[0m \u001b[0mLocationValueError\u001b[0m \u001b[0;32mas\u001b[0m \u001b[0me\u001b[0m\u001b[0;34m:\u001b[0m\u001b[0;34m\u001b[0m\u001b[0;34m\u001b[0m\u001b[0m\n\u001b[1;32m    414\u001b[0m             \u001b[0;32mraise\u001b[0m \u001b[0mInvalidURL\u001b[0m\u001b[0;34m(\u001b[0m\u001b[0me\u001b[0m\u001b[0;34m,\u001b[0m \u001b[0mrequest\u001b[0m\u001b[0;34m=\u001b[0m\u001b[0mrequest\u001b[0m\u001b[0;34m)\u001b[0m\u001b[0;34m\u001b[0m\u001b[0;34m\u001b[0m\u001b[0m\n",
      "\u001b[0;32m/usr/local/anaconda3/lib/python3.9/site-packages/requests/adapters.py\u001b[0m in \u001b[0;36mget_connection\u001b[0;34m(self, url, proxies)\u001b[0m\n\u001b[1;32m    307\u001b[0m                 raise InvalidProxyURL(\"Please check proxy URL. It is malformed\"\n\u001b[1;32m    308\u001b[0m                                       \" and could be missing the host.\")\n\u001b[0;32m--> 309\u001b[0;31m             \u001b[0mproxy_manager\u001b[0m \u001b[0;34m=\u001b[0m \u001b[0mself\u001b[0m\u001b[0;34m.\u001b[0m\u001b[0mproxy_manager_for\u001b[0m\u001b[0;34m(\u001b[0m\u001b[0mproxy\u001b[0m\u001b[0;34m)\u001b[0m\u001b[0;34m\u001b[0m\u001b[0;34m\u001b[0m\u001b[0m\n\u001b[0m\u001b[1;32m    310\u001b[0m             \u001b[0mconn\u001b[0m \u001b[0;34m=\u001b[0m \u001b[0mproxy_manager\u001b[0m\u001b[0;34m.\u001b[0m\u001b[0mconnection_from_url\u001b[0m\u001b[0;34m(\u001b[0m\u001b[0murl\u001b[0m\u001b[0;34m)\u001b[0m\u001b[0;34m\u001b[0m\u001b[0;34m\u001b[0m\u001b[0m\n\u001b[1;32m    311\u001b[0m         \u001b[0;32melse\u001b[0m\u001b[0;34m:\u001b[0m\u001b[0;34m\u001b[0m\u001b[0;34m\u001b[0m\u001b[0m\n",
      "\u001b[0;32m/usr/local/anaconda3/lib/python3.9/site-packages/requests/adapters.py\u001b[0m in \u001b[0;36mproxy_manager_for\u001b[0;34m(self, proxy, **proxy_kwargs)\u001b[0m\n\u001b[1;32m    180\u001b[0m         \u001b[0;32melif\u001b[0m \u001b[0mproxy\u001b[0m\u001b[0;34m.\u001b[0m\u001b[0mlower\u001b[0m\u001b[0;34m(\u001b[0m\u001b[0;34m)\u001b[0m\u001b[0;34m.\u001b[0m\u001b[0mstartswith\u001b[0m\u001b[0;34m(\u001b[0m\u001b[0;34m'socks'\u001b[0m\u001b[0;34m)\u001b[0m\u001b[0;34m:\u001b[0m\u001b[0;34m\u001b[0m\u001b[0;34m\u001b[0m\u001b[0m\n\u001b[1;32m    181\u001b[0m             \u001b[0musername\u001b[0m\u001b[0;34m,\u001b[0m \u001b[0mpassword\u001b[0m \u001b[0;34m=\u001b[0m \u001b[0mget_auth_from_url\u001b[0m\u001b[0;34m(\u001b[0m\u001b[0mproxy\u001b[0m\u001b[0;34m)\u001b[0m\u001b[0;34m\u001b[0m\u001b[0;34m\u001b[0m\u001b[0m\n\u001b[0;32m--> 182\u001b[0;31m             manager = self.proxy_manager[proxy] = SOCKSProxyManager(\n\u001b[0m\u001b[1;32m    183\u001b[0m                 \u001b[0mproxy\u001b[0m\u001b[0;34m,\u001b[0m\u001b[0;34m\u001b[0m\u001b[0;34m\u001b[0m\u001b[0m\n\u001b[1;32m    184\u001b[0m                 \u001b[0musername\u001b[0m\u001b[0;34m=\u001b[0m\u001b[0musername\u001b[0m\u001b[0;34m,\u001b[0m\u001b[0;34m\u001b[0m\u001b[0;34m\u001b[0m\u001b[0m\n",
      "\u001b[0;32m/usr/local/anaconda3/lib/python3.9/site-packages/urllib3/contrib/socks.py\u001b[0m in \u001b[0;36m__init__\u001b[0;34m(self, proxy_url, username, password, num_pools, headers, **connection_pool_kw)\u001b[0m\n\u001b[1;32m    196\u001b[0m             \u001b[0mrdns\u001b[0m \u001b[0;34m=\u001b[0m \u001b[0;32mTrue\u001b[0m\u001b[0;34m\u001b[0m\u001b[0;34m\u001b[0m\u001b[0m\n\u001b[1;32m    197\u001b[0m         \u001b[0;32melse\u001b[0m\u001b[0;34m:\u001b[0m\u001b[0;34m\u001b[0m\u001b[0;34m\u001b[0m\u001b[0m\n\u001b[0;32m--> 198\u001b[0;31m             \u001b[0;32mraise\u001b[0m \u001b[0mValueError\u001b[0m\u001b[0;34m(\u001b[0m\u001b[0;34m\"Unable to determine SOCKS version from %s\"\u001b[0m \u001b[0;34m%\u001b[0m \u001b[0mproxy_url\u001b[0m\u001b[0;34m)\u001b[0m\u001b[0;34m\u001b[0m\u001b[0;34m\u001b[0m\u001b[0m\n\u001b[0m\u001b[1;32m    199\u001b[0m \u001b[0;34m\u001b[0m\u001b[0m\n\u001b[1;32m    200\u001b[0m         \u001b[0mself\u001b[0m\u001b[0;34m.\u001b[0m\u001b[0mproxy_url\u001b[0m \u001b[0;34m=\u001b[0m \u001b[0mproxy_url\u001b[0m\u001b[0;34m\u001b[0m\u001b[0;34m\u001b[0m\u001b[0m\n",
      "\u001b[0;31mValueError\u001b[0m: Unable to determine SOCKS version from socks://127.0.0.1:1083/"
     ]
    }
   ],
   "source": [
    "# 使用2022年政府工作报告英文版作为待处理文本示例\n",
    "text_url = 'https://raw.githubusercontent.com/zhangjianzhang/text_mining/master/files/homework/report_2022_en.txt'\n",
    "import requests\n",
    "proxies = {\n",
    "\t\"http\": None,\n",
    "\t\"https\": None,\n",
    "}\n",
    "html = requests.get(text_url, proxies = proxies)\n",
    "text = html.text.strip().lower()\n",
    "\n",
    "# 只打印前100个单词的词频，将第二个参数设置充分大时可以打印出全部单词词频\n",
    "word_freq(text,100)\n",
    "# word_freq(text,1000000)"
   ]
  },
  {
   "cell_type": "markdown",
   "id": "e8350187",
   "metadata": {},
   "source": [
    "2. Write a list comprehension that sorts a list of WordNet synsets for proximity to a given synset. For example, given the synsets `minke_whale.n.01`, `orca.n.01`, `novel.n.01`, and `tortoise.n.01`, sort them according to their `shortest_path_distance()` from `right_whale.n.01`. (编写一个列表推导式，对 WordNet 同义词列表进行排序以接近给定同义词。例如，给定一组同义词 `minke_whale.n.01`、`orca.n.01`、`novel.n.01` 和 `tortoise.n.01`，根据他们到`right_whale.n.01`的 最短路径距离进行排序)"
   ]
  },
  {
   "cell_type": "code",
   "execution_count": null,
   "id": "0381be85",
   "metadata": {},
   "outputs": [],
   "source": [
    "from nltk.corpus import wordnet as wn"
   ]
  },
  {
   "cell_type": "code",
   "execution_count": null,
   "id": "a3ba86b2",
   "metadata": {},
   "outputs": [],
   "source": [
    "right = wn.synset('right_whale.n.01')"
   ]
  },
  {
   "cell_type": "code",
   "execution_count": null,
   "id": "33ccbb16",
   "metadata": {},
   "outputs": [],
   "source": [
    "synset_list = ['orca.n.01',\n",
    "              'minke_whale.n.01',\n",
    "              'tortoise.n.01',\n",
    "              'novel.n.01']"
   ]
  },
  {
   "cell_type": "code",
   "execution_count": null,
   "id": "432f8c0c",
   "metadata": {},
   "outputs": [],
   "source": [
    "sorted(synset_list,key = lambda item:wn.synset(item).shortest_path_distance(right))"
   ]
  },
  {
   "cell_type": "markdown",
   "id": "f82d9d01",
   "metadata": {},
   "source": [
    "3. The Catalan numbers arise in many applications of combinatorial mathematics, including the counting of parse trees. The series can be defined as follows: $C_0 = 1$, and $C_{n+1} = \\sum_{i=0}^{n} C_iC_{n-i}$. (卡塔兰数具有许多重要应用，其递推式为$C_0 = 1$, and $C_{n+1} = \\sum_{i=0}^{n} C_iC_{n-i}$)\n",
    "\n",
    "- Write a recursive function to compute $n$th Catalan number $C_n$; (使用递归计算第n个卡塔兰数)\n",
    "- Now write another function that does this computation using dynamic programming; (使用动态规划计算第n个卡塔兰数)\n",
    "- Use the `timeit` module to compare the performance of these functions as $n$ increases. (使用`timeit`模块比较随着$n$的增长上面两种实现方式计算时间的差异)"
   ]
  },
  {
   "cell_type": "code",
   "execution_count": 5,
   "id": "064908c0",
   "metadata": {},
   "outputs": [],
   "source": [
    "# 1, 1, 2, 5, 14, 42, 132, 429, 1430, ..."
   ]
  },
  {
   "cell_type": "markdown",
   "id": "3d73337d",
   "metadata": {},
   "source": [
    "$C_0 = 1$, and $C_{n+1} = \\sum_{i=0}^{n} C_iC_{n-i},  n \\ge 0$"
   ]
  },
  {
   "cell_type": "markdown",
   "id": "e715a1da",
   "metadata": {},
   "source": [
    "$C_0 = 1$\n",
    "\n",
    "$C_1 = C_0 \\cdot C_0$\n",
    "\n",
    "$C_2 = C_0 \\cdot C_1 + C_1 \\cdot C_0$\n",
    "\n",
    "$C_3 = C_0 \\cdot C_2 + C_1 \\cdot C_1 + C_2 \\cdot C_0$\n",
    "\n",
    "$C_4 = C_0 \\cdot C_3 + C_1 \\cdot C_2 + C_2 \\cdot C_1 + C_3 \\cdot C_0$\n",
    "\n",
    "$......$\n",
    "\n",
    "$C_n = C_0 \\cdot C_{n-1} + C_1 \\cdot C_{n-2} + ... + C_{n-2} \\cdot C_1 + C_{n-1} \\cdot C_0$"
   ]
  },
  {
   "cell_type": "code",
   "execution_count": 6,
   "id": "26da54d2",
   "metadata": {},
   "outputs": [],
   "source": [
    "# 递归实现\n",
    "def catalan_recursive(n):\n",
    "    # 边界条件\n",
    "    if n == 0:\n",
    "        return 1\n",
    "    else:\n",
    "        return sum([catalan_recursive(i) * catalan_recursive(n-1-i) for i in range(n)])"
   ]
  },
  {
   "cell_type": "code",
   "execution_count": 7,
   "id": "4bc50f52",
   "metadata": {},
   "outputs": [
    {
     "data": {
      "text/plain": [
       "1"
      ]
     },
     "execution_count": 7,
     "metadata": {},
     "output_type": "execute_result"
    }
   ],
   "source": [
    "catalan_recursive(1)"
   ]
  },
  {
   "cell_type": "code",
   "execution_count": 8,
   "id": "f4b8a975",
   "metadata": {},
   "outputs": [
    {
     "data": {
      "text/plain": [
       "2"
      ]
     },
     "execution_count": 8,
     "metadata": {},
     "output_type": "execute_result"
    }
   ],
   "source": [
    "catalan_recursive(2)"
   ]
  },
  {
   "cell_type": "code",
   "execution_count": 9,
   "id": "c469b1be",
   "metadata": {},
   "outputs": [
    {
     "data": {
      "text/plain": [
       "42"
      ]
     },
     "execution_count": 9,
     "metadata": {},
     "output_type": "execute_result"
    }
   ],
   "source": [
    "catalan_recursive(5)"
   ]
  },
  {
   "cell_type": "code",
   "execution_count": 10,
   "id": "4c238bc9",
   "metadata": {},
   "outputs": [
    {
     "data": {
      "text/plain": [
       "429"
      ]
     },
     "execution_count": 10,
     "metadata": {},
     "output_type": "execute_result"
    }
   ],
   "source": [
    "catalan_recursive(7)"
   ]
  },
  {
   "cell_type": "code",
   "execution_count": 11,
   "id": "d44e67ac",
   "metadata": {},
   "outputs": [],
   "source": [
    "# n = 19, 1767263190, 递归需要计算很长时间哦，因为存在大量重复计算\n",
    "# catalan_recursive(19)"
   ]
  },
  {
   "cell_type": "code",
   "execution_count": 12,
   "id": "be78fcee",
   "metadata": {},
   "outputs": [],
   "source": [
    "# 动态规划实现，自顶向下\n",
    "def catalan_top_bottom(n, catalan_dict = {'0':1}):\n",
    "    if n not in catalan_dict:\n",
    "        catalan_dict[n] = sum([catalan_top_bottom(i) * catalan_top_bottom(n-1-i) for i in range(n)])\n",
    "    return catalan_dict[n]"
   ]
  },
  {
   "cell_type": "code",
   "execution_count": 20,
   "id": "02e8dcc0-3b87-454a-a2b3-eaba804b67ad",
   "metadata": {},
   "outputs": [
    {
     "data": {
      "text/plain": [
       "0"
      ]
     },
     "execution_count": 20,
     "metadata": {},
     "output_type": "execute_result"
    }
   ],
   "source": [
    "catalan_top_bottom(2)"
   ]
  },
  {
   "cell_type": "code",
   "execution_count": 13,
   "id": "fb43be31",
   "metadata": {},
   "outputs": [],
   "source": [
    "# 动态规划实现，自底向上\n",
    "def catalan_bottom_top(n):\n",
    "\tlookup = [1]\n",
    "\tfor i in range(1, n+1):\n",
    "\t\titem = sum(lookup[j]*lookup[i -1 - j] for j in range(i))\n",
    "\t\tlookup.append(item)\n",
    "\treturn lookup[n]"
   ]
  },
  {
   "cell_type": "code",
   "execution_count": 14,
   "id": "63038cf4",
   "metadata": {},
   "outputs": [
    {
     "data": {
      "text/plain": [
       "6564120420"
      ]
     },
     "execution_count": 14,
     "metadata": {},
     "output_type": "execute_result"
    }
   ],
   "source": [
    "catalan_bottom_top(20)"
   ]
  },
  {
   "cell_type": "code",
   "execution_count": 15,
   "id": "9dacc63c",
   "metadata": {},
   "outputs": [],
   "source": [
    "from timeit import Timer"
   ]
  },
  {
   "cell_type": "code",
   "execution_count": 16,
   "id": "13616643",
   "metadata": {},
   "outputs": [],
   "source": [
    "setup_recursive = 'from __main__ import catalan_recursive; compute_catalan = catalan_recursive'\n",
    "setup_top_bottom = 'from __main__ import catalan_top_bottom; compute_catalan = catalan_top_bottom'\n",
    "setup_bottom_top = 'from __main__ import catalan_bottom_top; compute_catalan = catalan_bottom_top'"
   ]
  },
  {
   "cell_type": "code",
   "execution_count": 17,
   "id": "246882bc",
   "metadata": {},
   "outputs": [
    {
     "name": "stdout",
     "output_type": "stream",
     "text": [
      "0 2.4979999579954892e-06 2.724998921621591e-06 4.875000740867108e-06\n",
      "1 5.513000360224396e-06 5.842999598826282e-06 5.538999175769277e-06\n",
      "2 8.025999704841524e-06 6.873999154777266e-06 5.216001227381639e-06\n",
      "3 1.7549000403960235e-05 7.942999218357727e-06 5.497000529430807e-06\n",
      "4 3.228700006729923e-05 1.0338000720366836e-05 7.168999218265526e-06\n",
      "5 7.949599967105314e-05 1.028299993777182e-05 6.5900003392016515e-06\n",
      "6 0.000230093000936904 1.1208001524209976e-05 6.746999133611098e-06\n",
      "7 0.0006650190007349011 1.1920999895664863e-05 6.842999937362038e-06\n",
      "8 0.0018861429998651147 1.805099964258261e-05 9.485998816671781e-06\n",
      "9 0.006659642998783966 3.0359000447788276e-05 1.5266999980667606e-05\n",
      "10 0.019097460000921274 2.141499862773344e-05 1.2874001185991801e-05\n",
      "11 0.06837310399896523 2.6993000574293546e-05 1.1430998711148277e-05\n",
      "12 0.21687908199965023 2.3426000552717596e-05 9.727998985908926e-06\n",
      "13 0.4511254070002906 4.30370000685798e-05 1.555500057293102e-05\n",
      "14 1.467141465000168 2.8634000045713037e-05 1.0724999810918234e-05\n"
     ]
    }
   ],
   "source": [
    "# 自顶向下 < 自底向上 < 递归\n",
    "for i in range(15):\n",
    "    statement = 'compute_catalan(%d)'% i\n",
    "    print(i,\n",
    "          Timer(statement, setup_recursive).timeit(1),\n",
    "         Timer(statement, setup_bottom_top).timeit(1),\n",
    "         Timer(statement, setup_top_bottom).timeit(1))"
   ]
  },
  {
   "cell_type": "code",
   "execution_count": 18,
   "id": "181c4832",
   "metadata": {},
   "outputs": [
    {
     "name": "stdout",
     "output_type": "stream",
     "text": [
      "0 4.8080000851769e-06 1.8170012481277809e-06\n",
      "1 2.0354000298539177e-05 6.275000487221405e-06\n",
      "2 2.421300087007694e-05 7.559001460322179e-06\n",
      "3 2.056599987554364e-05 8.221999451052397e-06\n",
      "4 3.214300159015693e-05 6.435000614146702e-06\n",
      "5 4.903900116914883e-05 3.07300069835037e-06\n",
      "6 2.318199949513655e-05 2.2329986677505076e-06\n",
      "7 2.5420999008929357e-05 2.427999788778834e-06\n",
      "8 3.0220000553526916e-05 4.6889999794075266e-06\n",
      "9 2.3194001187221147e-05 1.7810016288422048e-06\n",
      "10 2.0577001123456284e-05 1.3879998732591048e-06\n",
      "11 2.2344000171869993e-05 1.8549999367678538e-06\n",
      "12 2.4790999304968864e-05 1.365000571240671e-06\n",
      "13 2.7071000658906996e-05 1.276999682886526e-06\n",
      "14 2.9979999453644268e-05 1.5229998098220676e-06\n",
      "15 3.2014999305829406e-05 1.2097998478566296e-05\n",
      "16 3.473299875622615e-05 1.1981999705312774e-05\n",
      "17 3.789200127357617e-05 1.7579999621375464e-05\n",
      "18 7.882499994593672e-05 2.349600072193425e-05\n",
      "19 9.014799979922827e-05 1.974400038307067e-05\n",
      "20 9.640300049795769e-05 2.5762999939615838e-05\n",
      "21 9.853600022324827e-05 2.490699989721179e-05\n",
      "22 0.00011416199959057849 2.5524001102894545e-05\n",
      "23 9.945899910235312e-05 1.58969996846281e-05\n",
      "24 6.622100045206025e-05 1.6254998627118766e-05\n",
      "25 7.037300019874237e-05 1.6711999705876224e-05\n",
      "26 0.0001298280003538821 2.421099998173304e-05\n",
      "27 0.0001299799987464212 4.254300074535422e-05\n",
      "28 0.00016708499970263802 3.014899994013831e-05\n",
      "29 0.00017828599993663374 3.10159994114656e-05\n",
      "30 0.0001721600001474144 3.333099994051736e-05\n",
      "31 0.0002135720005753683 3.196400029992219e-05\n",
      "32 0.0002041689986072015 3.7660998714272864e-05\n",
      "33 0.00023056899954099208 5.2192999646649696e-05\n",
      "34 0.00014665399976365734 2.3671998860663734e-05\n",
      "35 0.00013503999980457593 3.5206998290959746e-05\n",
      "36 0.00019493899890221655 3.7787000110256486e-05\n",
      "37 0.0002939099995273864 3.97809999412857e-05\n",
      "38 0.00026817500111064874 3.806099994108081e-05\n",
      "39 0.00018163999993703328 3.5275999834993854e-05\n",
      "40 0.0002984910006489372 2.5563998860889114e-05\n",
      "41 0.0001807690005080076 2.5477000235696323e-05\n",
      "42 0.0002109259985445533 2.574700010882225e-05\n",
      "43 0.00019802300084847957 2.4359000235563144e-05\n",
      "44 0.00024803599990264047 2.5545999960741028e-05\n",
      "45 0.00021907399968768004 2.5746998289832845e-05\n",
      "46 0.000263841999185388 3.3262000215472654e-05\n",
      "47 0.0002427969993732404 3.7341000279411674e-05\n",
      "48 0.0002738839993980946 3.45799999195151e-05\n",
      "49 0.00041719100045156665 3.9739999920129776e-05\n",
      "50 0.00042983200000890065 3.049400038435124e-05\n",
      "51 0.00044340099884720985 5.159399916010443e-05\n",
      "52 0.0003713270016305614 3.720700078702066e-05\n",
      "53 0.00030815500031167176 3.0500999855576083e-05\n",
      "54 0.0003299590007372899 2.9460999940056354e-05\n",
      "55 0.000322445999699994 2.9831000574631616e-05\n",
      "56 0.00033912400067492854 4.762800017488189e-05\n",
      "57 0.0003325810012029251 2.987100015161559e-05\n",
      "58 0.0003611290012486279 3.0254001103457995e-05\n",
      "59 0.0003566230006981641 3.0360000891960226e-05\n",
      "60 0.0003680539994093124 3.0282999432529323e-05\n",
      "61 0.00038964399936958216 5.097299981571268e-05\n",
      "62 0.0004342659995018039 4.2409999878145754e-05\n",
      "63 0.0004828809996979544 3.5876999390893616e-05\n",
      "64 0.0005297010011418024 3.860400101984851e-05\n",
      "65 0.0004750009993585991 4.2531999497441575e-05\n",
      "66 0.0004880460001004394 4.0561999412602745e-05\n",
      "67 0.0004645550015993649 3.455299884080887e-05\n",
      "68 0.0004758970007969765 3.462200038484298e-05\n",
      "69 0.000491474000227754 3.5199000194552355e-05\n",
      "70 0.0005086870005470701 3.5832999856211245e-05\n",
      "71 0.0005260620000626659 3.612500040617306e-05\n",
      "72 0.0005356670008040965 3.618600021582097e-05\n",
      "73 0.0005725070004700683 3.728000046976376e-05\n",
      "74 0.0005671530016115867 3.747799928532913e-05\n",
      "75 0.0005812310009787325 3.762099913728889e-05\n",
      "76 0.0006697539993183454 6.631899850617629e-05\n",
      "77 0.0007891730001574615 6.916900019859895e-05\n",
      "78 0.0007349099996645236 4.507100129558239e-05\n",
      "79 0.0007844919982744614 4.3993000872433186e-05\n",
      "80 0.0007946039986563846 5.479500032379292e-05\n",
      "81 0.0006951349987502908 4.185499892628286e-05\n",
      "82 0.0007099559989001136 4.151800021645613e-05\n",
      "83 0.000738001999707194 4.1167999370372854e-05\n",
      "84 0.0007431419999193167 4.300299951864872e-05\n",
      "85 0.0010936270009551663 5.089699880045373e-05\n",
      "86 0.00096264700005122 4.827399970963597e-05\n",
      "87 0.0008580459998484002 4.704300044977572e-05\n",
      "88 0.0008483900001010625 4.6519000534317456e-05\n",
      "89 0.0008391659994231304 4.423400059749838e-05\n",
      "90 0.0008666450012242422 4.499500028032344e-05\n",
      "91 0.0008772550008870894 4.516199987847358e-05\n",
      "92 0.0009035750008479226 4.513099884206895e-05\n",
      "93 0.0009176409985229839 4.607799928635359e-05\n",
      "94 0.0010257819994876627 4.704200000560377e-05\n",
      "95 0.0009624889989936491 4.765800076711457e-05\n",
      "96 0.0010917309991782531 5.299600161379203e-05\n",
      "97 0.0011555670007510344 6.516800021927338e-05\n",
      "98 0.0010506769995117793 5.0960001317434944e-05\n",
      "99 0.0010440040005050832 4.9808000767370686e-05\n",
      "100 0.0010752660000434844 4.963500032317825e-05\n"
     ]
    }
   ],
   "source": [
    "for i in range(101):\n",
    "    statement = 'compute_catalan(%d)'% i\n",
    "    print(i,\n",
    "          Timer(statement, setup_bottom_top).timeit(1),\n",
    "         Timer(statement, setup_top_bottom).timeit(1))"
   ]
  },
  {
   "cell_type": "code",
   "execution_count": 19,
   "id": "377d27e8",
   "metadata": {},
   "outputs": [
    {
     "name": "stdout",
     "output_type": "stream",
     "text": [
      "THE END!!!\n"
     ]
    }
   ],
   "source": [
    "print(\"THE END!!!\")"
   ]
  },
  {
   "cell_type": "code",
   "execution_count": null,
   "id": "a8e1d497-7838-4d28-8040-5a03a4c3ae18",
   "metadata": {},
   "outputs": [],
   "source": []
  }
 ],
 "metadata": {
  "kernelspec": {
   "display_name": "Python 3 (ipykernel)",
   "language": "python",
   "name": "python3"
  },
  "language_info": {
   "codemirror_mode": {
    "name": "ipython",
    "version": 3
   },
   "file_extension": ".py",
   "mimetype": "text/x-python",
   "name": "python",
   "nbconvert_exporter": "python",
   "pygments_lexer": "ipython3",
   "version": "3.9.7"
  }
 },
 "nbformat": 4,
 "nbformat_minor": 5
}
