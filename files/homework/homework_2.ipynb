{
 "cells": [
  {
   "cell_type": "markdown",
   "id": "ac91564c-c78e-4e11-8304-1119799f6ec3",
   "metadata": {},
   "source": [
    "### 第一题"
   ]
  },
  {
   "cell_type": "markdown",
   "id": "6f35c265-038a-4c1c-beeb-45cf89aca9ea",
   "metadata": {},
   "source": [
    "使用`Numpy`包依据四分类结果的混淆矩阵计算如下分类评价指标\n",
    "\n",
    "宏 (微、加权) 查准率、查全率和 F1值"
   ]
  },
  {
   "cell_type": "markdown",
   "id": "9d0aa569-048e-4b4f-aadb-3e1385c5e302",
   "metadata": {},
   "source": [
    "混淆矩阵见第四讲文本分类课件中的`图 7: 多分类混淆矩阵示例`，课件地址：https://zhangjianzhang.github.io/text_mining/files/slides/lecture_4.pdf"
   ]
  },
  {
   "cell_type": "code",
   "execution_count": 1,
   "id": "bf882d8f-cdcf-44ff-a037-14529c9d0766",
   "metadata": {},
   "outputs": [],
   "source": [
    "### 请在这里写你的答案"
   ]
  },
  {
   "cell_type": "markdown",
   "id": "f1a58152-baf6-4cc2-8310-cb3531388589",
   "metadata": {},
   "source": [
    "### 第二题"
   ]
  },
  {
   "cell_type": "markdown",
   "id": "55b24c46-f5c6-41dd-b9f6-e5874fdf63fc",
   "metadata": {},
   "source": [
    "使用本课程提供的中文新闻语料库，使用 scikit-learn 训练新闻多分类模型，使用包含朴素贝叶斯在内的三种分类算法，计算对比不同分类模型的性能，并对实验结果进行简要分析。\n",
    "\n",
    "中文新闻语料库下载地址如下：\n",
    "\n",
    "https://www.kaggle.com/datasets/jianzhangzhang/text-mining-course-data?select=cn_news_tagged"
   ]
  },
  {
   "cell_type": "code",
   "execution_count": 2,
   "id": "cad25c36-555f-4176-b1d2-b9bcefb8128c",
   "metadata": {},
   "outputs": [],
   "source": [
    "### 请在这里写你的答案"
   ]
  },
  {
   "cell_type": "code",
   "execution_count": null,
   "id": "6113c8a1-74f7-4df8-9374-4c32d4359c4b",
   "metadata": {},
   "outputs": [],
   "source": []
  }
 ],
 "metadata": {
  "kernelspec": {
   "display_name": "Python 3 (ipykernel)",
   "language": "python",
   "name": "python3"
  },
  "language_info": {
   "codemirror_mode": {
    "name": "ipython",
    "version": 3
   },
   "file_extension": ".py",
   "mimetype": "text/x-python",
   "name": "python",
   "nbconvert_exporter": "python",
   "pygments_lexer": "ipython3",
   "version": "3.9.7"
  }
 },
 "nbformat": 4,
 "nbformat_minor": 5
}
