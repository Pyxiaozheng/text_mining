{
 "cells": [
  {
   "cell_type": "markdown",
   "id": "ac91564c-c78e-4e11-8304-1119799f6ec3",
   "metadata": {},
   "source": [
    "### 第一题"
   ]
  },
  {
   "cell_type": "markdown",
   "id": "6f35c265-038a-4c1c-beeb-45cf89aca9ea",
   "metadata": {},
   "source": [
    "请编写一个名为`generate_ngrams`的函数，用于生成一段文本的n-gram序列，该函数接受两个参数，`text`是一段英文文本，`n`表示滑动窗口大小，返回一个二维列表，用于表示text文本的n-gram序列。\n",
    "\n",
    "例如，对于Text = \"this is a very good book to study\"\n",
    "\n",
    "n = 1时，函数输出的1-gram序列为\n",
    "\n",
    "`[['this'], ['is'], ['a'], ['very'], ['good'], ['book'], ['to'], ['study']]`\n",
    "\n",
    "n = 2，函数输出的2-gram序列为\n",
    "\n",
    "`[['this', 'is'], ['is', 'a'], ['a', 'very'], ['very', 'good'], ['good', 'book'], ['book', 'to'], ['to', 'study']]`\n",
    "\n",
    "n = 3，函数输出的3-gram序列为\n",
    "\n",
    "`[['this', 'is', 'a'], ['is', 'a', 'very'], ['a', 'very', 'good'], ['very', 'good', 'book'], ['good', 'book', 'to'], ['book', 'to', 'study']]`\n",
    "\n",
    "n = 8，函数输出的8-gram序列为\n",
    "\n",
    "`[['this', 'is', 'a', 'very', 'good', 'book', 'to', 'study']]`\n",
    "\n",
    "n >= 9时，函数输出的n-gram序列为\n",
    "\n",
    "`[]`，因为text只包含8个单词，所以n>=9时函数返回空列表"
   ]
  },
  {
   "cell_type": "code",
   "execution_count": 1,
   "id": "bf882d8f-cdcf-44ff-a037-14529c9d0766",
   "metadata": {},
   "outputs": [],
   "source": [
    "### 请在这里写你的答案"
   ]
  },
  {
   "cell_type": "markdown",
   "id": "f1a58152-baf6-4cc2-8310-cb3531388589",
   "metadata": {},
   "source": [
    "### 第二题"
   ]
  },
  {
   "cell_type": "markdown",
   "id": "55b24c46-f5c6-41dd-b9f6-e5874fdf63fc",
   "metadata": {},
   "source": [
    "参考第二讲`文本统计量与向量化表示`的内容，使用政府工作报告数据集进行文本描述性统计分析，数据见`reports_tagged`文件夹，下载地址如下：\n",
    "\n",
    "https://www.kaggle.com/datasets/jianzhangzhang/text-mining-course-data?select=reports_tagged\n",
    "\n",
    "**具体要求**\n",
    "\n",
    "1. 进行至少三种描述性统计分析；\n",
    "\n",
    "2. 分析结果包含图表和文字解释；\n",
    "\n",
    "3. 鼓励考虑时间维度的分析；"
   ]
  },
  {
   "cell_type": "code",
   "execution_count": null,
   "id": "cad25c36-555f-4176-b1d2-b9bcefb8128c",
   "metadata": {},
   "outputs": [],
   "source": [
    "### 请在这里写你的答案"
   ]
  }
 ],
 "metadata": {
  "kernelspec": {
   "display_name": "Python 3 (ipykernel)",
   "language": "python",
   "name": "python3"
  },
  "language_info": {
   "codemirror_mode": {
    "name": "ipython",
    "version": 3
   },
   "file_extension": ".py",
   "mimetype": "text/x-python",
   "name": "python",
   "nbconvert_exporter": "python",
   "pygments_lexer": "ipython3",
   "version": "3.9.7"
  }
 },
 "nbformat": 4,
 "nbformat_minor": 5
}
