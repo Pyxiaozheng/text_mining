{
 "cells": [
  {
   "cell_type": "markdown",
   "id": "ebb83a70-6426-4df5-bea7-06c2c42b9e62",
   "metadata": {},
   "source": [
    "<center><font size=3 style=\"color:#BA4A00\"><strong>文本分析与数据挖掘期末作业（待完善）</strong></font></center>"
   ]
  },
  {
   "cell_type": "markdown",
   "id": "ed1e68b7-e2e2-4d9a-b8be-3e9b9171bfba",
   "metadata": {},
   "source": [
    "### 期末作业总体要求"
   ]
  },
  {
   "cell_type": "markdown",
   "id": "8d954907-194a-4cf4-9ee6-d0e8e24f1372",
   "metadata": {},
   "source": [
    "40个人分为10组，每组4人，3个任务"
   ]
  },
  {
   "cell_type": "markdown",
   "id": "82fb82f6-33dd-4033-a2a1-1f69315e9fa3",
   "metadata": {},
   "source": [
    "不忘专业的初心（管理与应用），牢记课程的使命（文本分析与数据挖掘）"
   ]
  },
  {
   "cell_type": "markdown",
   "id": "b18c0717-71a1-48bf-82e0-7604afd07fce",
   "metadata": {},
   "source": [
    "<div align=center>\n",
    "<img width=\"850\" height=\"550\" src=\"https://raw.githubusercontent.com/zhangjianzhang/text_mining/master/files/final/App%E9%9A%90%E7%A7%81%E8%A1%8C%E4%B8%BA%E4%B8%80%E8%87%B4%E6%80%A7%E6%A3%80%E6%B5%8B%E6%A1%86%E6%9E%B6.png\">\n",
    "<br>\n",
    "<center><strong>期末作业框架图</strong></center>\n",
    "</div>"
   ]
  },
  {
   "cell_type": "markdown",
   "id": "53dea303-5a7a-4fc9-9aef-41f5714d52a0",
   "metadata": {},
   "source": [
    "### 每个小组的具体任务"
   ]
  },
  {
   "cell_type": "markdown",
   "id": "8f7da894-4f9a-4d0b-8f5d-0a16b4e17ac0",
   "metadata": {},
   "source": [
    "1. **必做**，抽取法条，约束App隐私数据实践的三级法条《民法典》《个人信息保护法》《网络安全法》,先列出上位法的具体法条，再列出下位法的具体法条;\n",
    "\n",
    "2. **必做**，每个组做一个类别的App隐私政策分析，每个类别按照下载量排序后分层抽样，可从七麦排名平台获取（ICSE 2021用过，所以我们也引用一下），主题模型 OR 聚类 ---> 监督分类;\n",
    "3. **选做**，选取本小组获得的App样本，从豌豆荚（https://www.wandoujia.com/） 下载安卓APK文件， 借助在线静态分析工具（https://mobsf.live/）， 进行软件包静态分析，并分析报告结果（西瓜视频APK分析结果示例：https://mobsf.live/static_analyzer/?name=xigua-video.apk&checksum=6dcbda45fe715d44c6e945e7d1988ac3&type=apk） ，分析的重点是App行为是否与隐私政策声明一致（比如，政策未声明某些行为，但实际上App进行了这些行为；政策只是宽泛的声明，但App行为是很具体的；政策声明App不会进行哪些行为，但实际上App进行了这些行为等）。"
   ]
  },
  {
   "cell_type": "markdown",
   "id": "30962a01-de7f-45b5-a430-3cd7080c4a54",
   "metadata": {},
   "source": [
    "### 需要提交的内容"
   ]
  },
  {
   "cell_type": "markdown",
   "id": "20f4ed29-a843-4a6d-9aeb-0442c655a2bd",
   "metadata": {},
   "source": [
    "1. `小组成员分工.txt`;\n",
    "\n",
    "2. 相关法条抽取结果，以`txt`文件格式提交；\n",
    "\n",
    "3. 隐私政策文本挖掘代码及结果定量、定性分析，以`ipynb`文件格式提交；\n",
    "\n",
    "4. App行为静态分析报告的结果分析，以及依照隐私政策对其行为进行的一致性分析，以`txt`文件格式提交。"
   ]
  },
  {
   "cell_type": "code",
   "execution_count": null,
   "id": "a0d05eb1-8fbb-4229-97f3-8c344c0b4bdc",
   "metadata": {},
   "outputs": [],
   "source": []
  }
 ],
 "metadata": {
  "kernelspec": {
   "display_name": "Python 3 (ipykernel)",
   "language": "python",
   "name": "python3"
  },
  "language_info": {
   "codemirror_mode": {
    "name": "ipython",
    "version": 3
   },
   "file_extension": ".py",
   "mimetype": "text/x-python",
   "name": "python",
   "nbconvert_exporter": "python",
   "pygments_lexer": "ipython3",
   "version": "3.9.7"
  }
 },
 "nbformat": 4,
 "nbformat_minor": 5
}
