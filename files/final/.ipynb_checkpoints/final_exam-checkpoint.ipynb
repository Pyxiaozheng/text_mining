{
 "cells": [
  {
   "cell_type": "markdown",
   "id": "ebb83a70-6426-4df5-bea7-06c2c42b9e62",
   "metadata": {},
   "source": [
    "<center><font size=5 style=\"color:#BA4A00\"><strong>文本分析与数据挖掘期末作业（待完善）</strong></font></center>"
   ]
  },
  {
   "cell_type": "markdown",
   "id": "ed1e68b7-e2e2-4d9a-b8be-3e9b9171bfba",
   "metadata": {},
   "source": [
    "## **期末作业总体要求**"
   ]
  },
  {
   "cell_type": "markdown",
   "id": "8d954907-194a-4cf4-9ee6-d0e8e24f1372",
   "metadata": {},
   "source": [
    "40个人分为10组，每组4人，每组需完成3个任务，前两个为必完成，第三个为可选。"
   ]
  },
  {
   "cell_type": "markdown",
   "id": "3a37e11c-31a5-410b-a13e-1d808df2c18c",
   "metadata": {},
   "source": [
    "**分组代码如下**\n",
    "\n",
    "```python\n",
    "with open('./stu_names.txt') as f:\n",
    "    stu_name_str = f.read()\n",
    "\n",
    "stu_name_list = stu_name_str.strip().split()\n",
    "\n",
    "assert len(set(stu_name_list)) == 40\n",
    "\n",
    "import random\n",
    "\n",
    "random.seed('text_mining_2023')\n",
    "\n",
    "random.shuffle(stu_name_list)\n",
    "\n",
    "groups = [stu_name_list[n:n+4] for n in range(0, len(set(stu_name_list)), 4)]\n",
    "\n",
    "for i, group in enumerate(groups, start=1):\n",
    "    print('第{}组: {}'.format(i, group))\n",
    "```\n",
    "\n",
    "**分组结果如下**\n",
    "\n",
    "```python\n",
    "第1组: ['唐毓', '莫海翠', '李涛', '郑远程']\n",
    "第2组: ['安敏', '叶欣鑫', '杨翔宇', '黄馨兰']\n",
    "第3组: ['王资舒', '郑桐珺', '吕笑语', '王子康']\n",
    "第4组: ['陈政琦', '王艾君', '熊一帆', '欧荣伟']\n",
    "第5组: ['钟雨婷', '熊昭旸', '王柄皓', '李成']\n",
    "第6组: ['史育榕', '黄炳豪', '臧恒', '杨姗颖']\n",
    "第7组: ['杨昊天', '徐青群', '朱家成', '曾焓']\n",
    "第8组: ['陈绵绵', '李金憩', '彭弘毅', '向婷']\n",
    "第9组: ['叶闻语', '莫嘉雯', '石桂萌', '贾梓轩']\n",
    "第10组: ['易冰冰', '郑宇杰', '马雪薇', '唐健杰']\n",
    "```"
   ]
  },
  {
   "cell_type": "markdown",
   "id": "82fb82f6-33dd-4033-a2a1-1f69315e9fa3",
   "metadata": {},
   "source": [
    "**期末文本挖掘项目整体框架如下所示**\n",
    "\n",
    "不忘专业的初心（管理与应用），牢记课程的使命（文本分析与数据挖掘）"
   ]
  },
  {
   "cell_type": "markdown",
   "id": "b18c0717-71a1-48bf-82e0-7604afd07fce",
   "metadata": {},
   "source": [
    "<div align=center>\n",
    "<img width=\"850\" height=\"550\" src=\"https://raw.githubusercontent.com/zhangjianzhang/text_mining/master/files/final/App%E9%9A%90%E7%A7%81%E8%A1%8C%E4%B8%BA%E4%B8%80%E8%87%B4%E6%80%A7%E6%A3%80%E6%B5%8B%E6%A1%86%E6%9E%B6.png\">\n",
    "<br>\n",
    "<center><strong>期末作业框架图</strong></center>\n",
    "</div>"
   ]
  },
  {
   "cell_type": "markdown",
   "id": "53dea303-5a7a-4fc9-9aef-41f5714d52a0",
   "metadata": {},
   "source": [
    "## **每个小组的具体任务**"
   ]
  },
  {
   "cell_type": "markdown",
   "id": "4702f812-6ba8-443e-91f0-b9b62db27314",
   "metadata": {},
   "source": [
    "#### 1. **必做**，从下面法律、法规中抽取监管App隐私数据实践的`具体法条`\n",
    "  - 《民法典》\n",
    "  - 《个人信息保护法》\n",
    "  - 《数据安全法》\n",
    "  - 《网络安全法》\n",
    "  - 《电信和互联网用户个人信息保护规定》\n",
    "  \n",
    "  提交`隐私法规条款.xlsx`文件，最后一列请填写一条句子，如果有多条句子，那么就需要填写多行结果。"
   ]
  },
  {
   "cell_type": "markdown",
   "id": "3f88ff50-720d-4406-93f3-c18c8382e9e6",
   "metadata": {},
   "source": [
    "#### 2. **必做-1-无监督文本挖掘**，对隐私政策进行聚类或者主题分析，对于主题或类簇的命名和解释可参考（但不限于）第一步的结果。\n",
    "   \n",
    "   - 提交`无监督文本挖掘.ipynb`文件，注意，文件中需要包含源代码和对结果的文字解释。\n",
    "\n",
    "\n",
    "#### 2. **必做-2-有监督文本挖掘**，结合聚类或者主题分析的结果，以句子为单位标注隐私政策文本的类别标签（收集和使用、共享、保存、其他），为每个类别标注200条数据，共计800条数据，从800条数据中随机采样600条数据作为训练集，剩下200条作为测试集，确保训练集和测试集中均包含5个类别的数据，训练文本分类模型，并在测试集上测试模型的性能，对测试结果进行分析。\n",
    "\n",
    "   - 提交`有监督文本挖掘.ipynb`文件，文件中需要包含源代码和对结果的文字解释；\n",
    "   \n",
    "   - 提交`隐私政策语句分类标注.xlsx`文件，最后一列请填写一条句子，如果有多条句子，那么就需要填写多行结果。"
   ]
  },
  {
   "cell_type": "markdown",
   "id": "8f7da894-4f9a-4d0b-8f5d-0a16b4e17ac0",
   "metadata": {
    "tags": []
   },
   "source": [
    "3. **选做-分析App行为与隐私政策声明的一致性**，选取本小组获得的App样本，至少选取三个，从豌豆荚（https://www.wandoujia.com/ ） 下载其安卓APK文件，借助在线静态分析工具（https://mobsf.live/ ） ， 进行软件包静态分析，依据静态分析结果报告，识别App在个人信息`收集和使用`行为方面与隐私政策声明存在的不一致。比如，政策未声明收集和使用某些信息，但实际上App收集和使用了这些信息；政策只是宽泛地声明收集和使用个人信息，但App实际上收集和使用了许多具体的个人信息；政策声明App不会收集和使用某些信息，但实际上App实际上收集和使用了这些信息，不限于上述三种情况。\n",
    "\n",
    "   - 提交`App个人信息收集和使用行为不一致分析.xlsx`；\n",
    "   - App的静态分析报告PDF版本。"
   ]
  },
  {
   "cell_type": "markdown",
   "id": "61e6f92a-173e-4106-90c4-e0f1fd7e4493",
   "metadata": {},
   "source": [
    "## **提交目录清单**"
   ]
  },
  {
   "cell_type": "markdown",
   "id": "448a99d6-be16-49de-a6d1-4e14dd5cde27",
   "metadata": {},
   "source": [
    "(1) `小组成员分工.txt`"
   ]
  },
  {
   "cell_type": "markdown",
   "id": "88dfe2e6-3d0f-44cd-9dd5-965712bb9744",
   "metadata": {},
   "source": [
    "(2) `隐私法规条款.xlsx`"
   ]
  },
  {
   "cell_type": "markdown",
   "id": "ccc58d88-5819-4073-a67c-b675b7267bbf",
   "metadata": {},
   "source": [
    "(3) `无监督文本挖掘.ipynb`"
   ]
  },
  {
   "cell_type": "markdown",
   "id": "89c235f6-2894-4164-884e-0db19dc095d2",
   "metadata": {},
   "source": [
    "(4) `有监督文本挖掘.ipynb`"
   ]
  },
  {
   "cell_type": "markdown",
   "id": "9f91c4ce-851d-4edd-bb75-b5ee0ab7e49b",
   "metadata": {},
   "source": [
    "(5) `隐私政策语句分类标注.xlsx`"
   ]
  },
  {
   "cell_type": "markdown",
   "id": "069881a3-b75b-4220-83cb-0a82c5ec4f6f",
   "metadata": {},
   "source": [
    "(6) `App个人信息收集和使用行为不一致分析.xlsx`（可选）"
   ]
  },
  {
   "cell_type": "markdown",
   "id": "4727326b-606f-41df-8102-a0ccdc6db716",
   "metadata": {},
   "source": [
    "(7) App的静态分析报告PDF版本（可选）"
   ]
  },
  {
   "cell_type": "markdown",
   "id": "d70c6bd7-fba2-4e78-a7b4-f2588247d329",
   "metadata": {},
   "source": [
    "## **主要评分标准**"
   ]
  },
  {
   "cell_type": "markdown",
   "id": "aa56ffb3-ecca-407a-aad0-1caee40ba497",
   "metadata": {},
   "source": [
    "(1) 文本预处理是否完善；\n",
    "\n",
    "(2) 无监督文本挖掘算法应用和结果呈现、分析；\n",
    "\n",
    "(3) 隐私政策文本数据标注质量；\n",
    "\n",
    "(4) 有监督文本挖掘算法应用和结果呈现、分析。"
   ]
  },
  {
   "cell_type": "markdown",
   "id": "b4e0cc8d-5a93-4c36-bc75-3e7978ed0afd",
   "metadata": {},
   "source": []
  },
  {
   "cell_type": "markdown",
   "id": "ab295712-7bf5-4342-8945-cbd9b4aef6cc",
   "metadata": {},
   "source": []
  },
  {
   "cell_type": "markdown",
   "id": "ffbbbad9-09d7-41a8-aab8-cfe5515d4ab0",
   "metadata": {},
   "source": []
  },
  {
   "cell_type": "code",
   "execution_count": null,
   "id": "b4fce14b-1a6a-420b-ab89-149e46f0b7f8",
   "metadata": {},
   "outputs": [],
   "source": []
  },
  {
   "cell_type": "markdown",
   "id": "89ea6ae9-9c0a-4c48-8beb-1acf36ee531f",
   "metadata": {},
   "source": [
    "并分析报告结果（西瓜视频APK分析结果示例：https://mobsf.live/static_analyzer/?name=xigua-video.apk&checksum=6dcbda45fe715d44c6e945e7d1988ac3&type=apk ） ，分析的重点是App行为是否与隐私政策声明一致（）。"
   ]
  },
  {
   "cell_type": "markdown",
   "id": "1c82842b-f79b-415e-bbbc-7336e82cf0a2",
   "metadata": {},
   "source": [
    "每个组做一个类别的App隐私政策分析，每个类别按照下载量排序后分层抽样，可从七麦排名平台获取（ICSE 2021用过，所以我们也引用一下），主题模型 OR 聚类 ---> 监督分类;"
   ]
  },
  {
   "cell_type": "markdown",
   "id": "30962a01-de7f-45b5-a430-3cd7080c4a54",
   "metadata": {},
   "source": [
    "### 需要提交的内容"
   ]
  },
  {
   "cell_type": "markdown",
   "id": "20f4ed29-a843-4a6d-9aeb-0442c655a2bd",
   "metadata": {},
   "source": [
    "1. `小组成员分工.txt`;\n",
    "\n",
    "2. 相关法条抽取结果，以`txt`文件格式提交；\n",
    "\n",
    "3. 隐私政策文本挖掘代码及结果定量、定性分析，以`ipynb`文件格式提交；\n",
    "\n",
    "4. App行为静态分析报告的结果分析，以及依照隐私政策对其行为进行的一致性分析，以`txt`文件格式提交。"
   ]
  },
  {
   "cell_type": "markdown",
   "id": "0f7484e3-7b1d-4695-b485-7992f43577e7",
   "metadata": {},
   "source": []
  },
  {
   "cell_type": "markdown",
   "id": "f0fe224f-f135-40f8-bde5-0c472d2c3730",
   "metadata": {},
   "source": [
    "涉及个人隐私信息保护的三级法律法规：\n",
    "\n",
    "1. 《民法典》第六章  隐私权和个人信息保护（http://www.npc.gov.cn/npc/c30834/202006/75ba6483b8344591abd07917e1d25cc8.shtml） ，在民法典中搜索`隐私`二字，也能匹配到其他相关法条；大数据时代反垄断法对个人隐私权的保护路径（http://paper.people.com.cn/rmlt/html/2022-08/20/content_25947255.htm）\n",
    "2. 《个人信息保护法》、《数据安全法》、《网络安全法》\n",
    "3. "
   ]
  },
  {
   "cell_type": "markdown",
   "id": "002bbb54-0d17-4953-bfee-9d34da1b1c58",
   "metadata": {},
   "source": []
  },
  {
   "cell_type": "markdown",
   "id": "8fbea0a8-6a3f-4d47-ac11-29f27047cde3",
   "metadata": {},
   "source": []
  },
  {
   "cell_type": "markdown",
   "id": "21e738b4-8c26-4927-a61b-4c1af765a347",
   "metadata": {},
   "source": [
    "**分组代码如下**\n",
    "\n",
    "```python\n",
    "with open('./stu_names.txt') as f:\n",
    "    stu_name_str = f.read()\n",
    "\n",
    "stu_name_list = stu_name_str.strip().split()\n",
    "\n",
    "assert len(set(stu_name_list)) == 40\n",
    "\n",
    "import random\n",
    "\n",
    "random.seed('text_mining_2023')\n",
    "\n",
    "random.shuffle(stu_name_list)\n",
    "\n",
    "groups = [stu_name_list[n:n+4] for n in range(0, len(set(stu_name_list)), 4)]\n",
    "\n",
    "for i, group in enumerate(groups, start=1):\n",
    "    print('第{}组: {}'.format(i, group))\n",
    "```\n",
    "\n",
    "**分组结果如下**\n",
    "\n",
    "```python\n",
    "第1组: ['唐毓', '莫海翠', '李涛', '郑远程']\n",
    "第2组: ['安敏', '叶欣鑫', '杨翔宇', '黄馨兰']\n",
    "第3组: ['王资舒', '郑桐珺', '吕笑语', '王子康']\n",
    "第4组: ['陈政琦', '王艾君', '熊一帆', '欧荣伟']\n",
    "第5组: ['钟雨婷', '熊昭旸', '王柄皓', '李成']\n",
    "第6组: ['史育榕', '黄炳豪', '臧恒', '杨姗颖']\n",
    "第7组: ['杨昊天', '徐青群', '朱家成', '曾焓']\n",
    "第8组: ['陈绵绵', '李金憩', '彭弘毅', '向婷']\n",
    "第9组: ['叶闻语', '莫嘉雯', '石桂萌', '贾梓轩']\n",
    "第10组: ['易冰冰', '郑宇杰', '马雪薇', '唐健杰']\n",
    "```"
   ]
  },
  {
   "cell_type": "code",
   "execution_count": 2,
   "id": "49df5fb1-ec5b-468a-893f-34a8f1026753",
   "metadata": {},
   "outputs": [
    {
     "data": {
      "text/plain": [
       "600.0"
      ]
     },
     "execution_count": 2,
     "metadata": {},
     "output_type": "execute_result"
    }
   ],
   "source": [
    "750*0.8"
   ]
  },
  {
   "cell_type": "code",
   "execution_count": null,
   "id": "159c7229-46ac-413d-a0d2-31a4654a3d58",
   "metadata": {},
   "outputs": [],
   "source": []
  }
 ],
 "metadata": {
  "kernelspec": {
   "display_name": "Python 3 (ipykernel)",
   "language": "python",
   "name": "python3"
  },
  "language_info": {
   "codemirror_mode": {
    "name": "ipython",
    "version": 3
   },
   "file_extension": ".py",
   "mimetype": "text/x-python",
   "name": "python",
   "nbconvert_exporter": "python",
   "pygments_lexer": "ipython3",
   "version": "3.9.7"
  }
 },
 "nbformat": 4,
 "nbformat_minor": 5
}
