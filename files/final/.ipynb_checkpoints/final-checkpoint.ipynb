{
 "cells": [
  {
   "cell_type": "markdown",
   "id": "fe46efc1-4e0c-41b1-ba88-ddd0fd10bea4",
   "metadata": {},
   "source": [
    "<center><font size=5 style=\"color:#BA4A00\"><strong>文本分析与数据挖掘期末作业</strong></font></center>"
   ]
  },
  {
   "cell_type": "markdown",
   "id": "b4eccfa5-d286-42e6-a325-4c4b269266b2",
   "metadata": {},
   "source": [
    "## **期末作业总体要求**"
   ]
  },
  {
   "cell_type": "markdown",
   "id": "8b507d27-70a1-4532-9ad9-5c71d9952cc5",
   "metadata": {},
   "source": [
    "40个人分为10组，每组4人，每组需完成3个任务，前两个为必完成，第三个为可选。"
   ]
  },
  {
   "cell_type": "markdown",
   "id": "991c37c2-0b60-430e-adf0-943d0991617d",
   "metadata": {},
   "source": [
    "**分组代码如下**\n",
    "\n",
    "```python\n",
    "with open('./stu_names.txt') as f:\n",
    "    stu_name_str = f.read()\n",
    "\n",
    "stu_name_list = stu_name_str.strip().split()\n",
    "\n",
    "assert len(set(stu_name_list)) == 40\n",
    "\n",
    "import random\n",
    "\n",
    "random.seed('text_mining_2023')\n",
    "\n",
    "random.shuffle(stu_name_list)\n",
    "\n",
    "groups = [stu_name_list[n:n+4] for n in range(0, len(set(stu_name_list)), 4)]\n",
    "\n",
    "for i, group in enumerate(groups, start=1):\n",
    "    print('第{}组: {}'.format(i, group))\n",
    "```\n",
    "\n",
    "**分组结果见课程钉钉群**"
   ]
  },
  {
   "cell_type": "markdown",
   "id": "9fae647d-504a-4eb4-b91d-789012c7f8c6",
   "metadata": {},
   "source": [
    "**期末文本挖掘项目整体框架如下所示**\n",
    "\n",
    "不忘专业的初心（管理与应用），牢记课程的使命（文本分析与数据挖掘）"
   ]
  },
  {
   "cell_type": "markdown",
   "id": "6d7df949-bb74-4ba0-a5b4-510b496eaa5d",
   "metadata": {},
   "source": [
    "<div align=center>\n",
    "<img width=\"850\" height=\"550\" src=\"https://raw.githubusercontent.com/zhangjianzhang/text_mining/master/files/final/App%E9%9A%90%E7%A7%81%E8%A1%8C%E4%B8%BA%E4%B8%80%E8%87%B4%E6%80%A7%E6%A3%80%E6%B5%8B%E6%A1%86%E6%9E%B6.png\">\n",
    "<br>\n",
    "<center><strong>期末作业框架图</strong></center>\n",
    "</div>"
   ]
  },
  {
   "cell_type": "markdown",
   "id": "3a963efa-b79e-40f2-a4af-54c79c3befe7",
   "metadata": {},
   "source": [
    "## **每个小组的具体任务**"
   ]
  },
  {
   "cell_type": "markdown",
   "id": "68b0daa9-88b9-426b-ab5f-104b5bc158de",
   "metadata": {},
   "source": [
    "#### 1. **必做**，从下面法律、法规中抽取监管App隐私数据实践的`具体法条`\n",
    "  - 《民法典》\n",
    "  - 《个人信息保护法》\n",
    "  - 《数据安全法》\n",
    "  - 《网络安全法》\n",
    "  - 《电信和互联网用户个人信息保护规定》\n",
    "  \n",
    "  提交`隐私法规条款.xlsx`文件，最后一列请填写一条句子，如果有多条句子，那么就需要填写多行结果。"
   ]
  },
  {
   "cell_type": "markdown",
   "id": "7efe838d-e6e4-478c-9691-f5e0fa8d8362",
   "metadata": {},
   "source": [
    "#### 2. **必做-1-无监督文本挖掘**，对隐私政策进行聚类或者主题分析，对于主题或类簇的命名和解释可参考（但不限于）第一步的结果。\n",
    "   \n",
    "   - 提交`无监督文本挖掘.ipynb`文件，注意，文件中需要包含源代码和对结果的文字解释。\n",
    "\n",
    "\n",
    "#### 2. **必做-2-有监督文本挖掘**，结合聚类或者主题分析的结果，以句子为单位标注隐私政策文本的类别标签（收集和使用、共享、保存、其他），为每个类别标注200条数据，共计800条数据，从800条数据中随机采样600条数据作为训练集，剩下200条作为测试集，确保训练集和测试集中均包含5个类别的数据，训练文本分类模型，并在测试集上测试模型的性能，对测试结果进行分析。\n",
    "\n",
    "   - 提交`有监督文本挖掘.ipynb`文件，文件中需要包含源代码和对结果的文字解释；\n",
    "   \n",
    "   - 提交`隐私政策语句分类标注.xlsx`文件，最后一列请填写一条句子，如果有多条句子，那么就需要填写多行结果。"
   ]
  },
  {
   "cell_type": "markdown",
   "id": "5534d887-55c3-483c-a1c0-88188742de0c",
   "metadata": {
    "tags": []
   },
   "source": [
    "3. **选做-分析App行为与隐私政策声明的一致性**，选取本小组获得的App样本，至少选取三个，从豌豆荚（https://www.wandoujia.com/ ） 下载其安卓APK文件，借助在线静态分析工具（https://mobsf.live/ ） ， 进行软件包静态分析，依据静态分析结果报告，识别App在个人信息`收集和使用`行为方面与隐私政策声明存在的不一致。比如，政策未声明收集和使用某些信息，但实际上App收集和使用了这些信息；政策只是宽泛地声明收集和使用个人信息，但App实际上收集和使用了许多具体的个人信息；政策声明App不会收集和使用某些信息，但实际上App实际上收集和使用了这些信息，不限于上述三种情况。\n",
    "\n",
    "   - 提交`App个人信息收集和使用行为不一致分析.xlsx`；\n",
    "   - App的静态分析报告PDF版本。"
   ]
  },
  {
   "cell_type": "markdown",
   "id": "f70e2118-9ef5-437d-8ad6-fababcd64448",
   "metadata": {},
   "source": [
    "## **提交目录清单**"
   ]
  },
  {
   "cell_type": "markdown",
   "id": "546395a5-c26f-4320-97f8-df5dd871f713",
   "metadata": {},
   "source": [
    "(1) `小组成员分工.txt`"
   ]
  },
  {
   "cell_type": "markdown",
   "id": "3d25a7d9-ac58-4d14-8622-cc5468dc8819",
   "metadata": {},
   "source": [
    "(2) `隐私法规条款.xlsx`"
   ]
  },
  {
   "cell_type": "markdown",
   "id": "25d152a5-1ec7-49eb-8741-d6834d143851",
   "metadata": {},
   "source": [
    "(3) `无监督文本挖掘.ipynb`"
   ]
  },
  {
   "cell_type": "markdown",
   "id": "3d6c8769-63a5-4019-a1be-89510ae7c56c",
   "metadata": {},
   "source": [
    "(4) `有监督文本挖掘.ipynb`"
   ]
  },
  {
   "cell_type": "markdown",
   "id": "d1b0af6c-38bc-4c8b-8910-0aa6db6e9858",
   "metadata": {},
   "source": [
    "(5) `隐私政策语句分类标注.xlsx`"
   ]
  },
  {
   "cell_type": "markdown",
   "id": "0fbe4799-82f9-4bf6-8cc3-21eff5cdc2c4",
   "metadata": {},
   "source": [
    "(6) `App个人信息收集和使用行为不一致分析.xlsx`（可选）"
   ]
  },
  {
   "cell_type": "markdown",
   "id": "ee5e26d6-b43d-4a26-b27e-46912664a9d8",
   "metadata": {},
   "source": [
    "(7) App的静态分析报告PDF版本（可选）"
   ]
  },
  {
   "cell_type": "markdown",
   "id": "1476a8bc-024a-4c57-b2d5-2713090af73f",
   "metadata": {},
   "source": [
    "## **主要评分标准**"
   ]
  },
  {
   "cell_type": "markdown",
   "id": "41513021-9ddf-43ed-87e9-47e05f1b51ec",
   "metadata": {},
   "source": [
    "(1) 文本预处理是否完善；\n",
    "\n",
    "(2) 无监督文本挖掘算法应用和结果呈现、分析；\n",
    "\n",
    "(3) 隐私法规条款列举的完整情况、隐私政策文本数据标注质量；\n",
    "\n",
    "(4) 有监督文本挖掘算法应用和结果呈现、分析。"
   ]
  }
 ],
 "metadata": {
  "kernelspec": {
   "display_name": "Python 3 (ipykernel)",
   "language": "python",
   "name": "python3"
  },
  "language_info": {
   "codemirror_mode": {
    "name": "ipython",
    "version": 3
   },
   "file_extension": ".py",
   "mimetype": "text/x-python",
   "name": "python",
   "nbconvert_exporter": "python",
   "pygments_lexer": "ipython3",
   "version": "3.9.7"
  }
 },
 "nbformat": 4,
 "nbformat_minor": 5
}
