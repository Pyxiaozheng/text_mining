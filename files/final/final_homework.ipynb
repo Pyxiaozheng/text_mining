{
 "cells": [
  {
   "cell_type": "markdown",
   "id": "27e85707-eaf2-4043-b1e8-f50de285d389",
   "metadata": {},
   "source": [
    "<center><font size=3 style=\"color:#BA4A00\"><strong>期末考试要求</strong></font></center>"
   ]
  },
  {
   "cell_type": "markdown",
   "id": "262271f3-7695-4b5e-a193-84bf04fb00dc",
   "metadata": {},
   "source": [
    "<font size=2 style=\"color:#BA4A00\">**总体要求**</font>"
   ]
  },
  {
   "cell_type": "markdown",
   "id": "3c17447a-d103-4ad1-b712-6ec83af9e99e",
   "metadata": {},
   "source": [
    "小组成员分工合作，**标注**分配给你们小组的**未标注数据**，计算标**注者一致性系数**；使用标注好的数据，**训练文本分类器**，并**汇报结果**。"
   ]
  },
  {
   "cell_type": "markdown",
   "id": "3adc625d-d548-45ff-b944-d55525f46ef7",
   "metadata": {},
   "source": [
    "<font size=2 style=\"color:#BA4A00\">**具体要求**</font>"
   ]
  },
  {
   "cell_type": "markdown",
   "id": "6e70467a-820a-4d0e-ab38-333f8edc4e72",
   "metadata": {},
   "source": [
    "**1. 每个小组会分配到1000+条数据，内容为软件评论，示例如下：**"
   ]
  },
  {
   "cell_type": "markdown",
   "id": "4871b410-0da7-47ed-bd05-8443b1071586",
   "metadata": {},
   "source": [
    "**谈及个人信息隐私安全的评论**: *Tech support and selling your information. Tech support is horrible not to mention they allow companies to use your information. Facebook is evil on many levels but screening and filtering to their benefit is #1 priority.*"
   ]
  },
  {
   "cell_type": "markdown",
   "id": "97b8d7bf-e483-4ce3-9c55-9475f503db52",
   "metadata": {},
   "source": [
    "**没有谈及个人信息隐私安全的评论**: *Dictature. This Facebook with media control is just like a dictator, I m thinking that I can find my way on informations without this fake news Covid.*"
   ]
  },
  {
   "cell_type": "markdown",
   "id": "9b755a69-91fd-4bde-b4f2-0090aa233ca8",
   "metadata": {},
   "source": [
    "请将谈及个人信息隐私安全的软件评论标注为`1`，没有谈及个人信息隐私安全的评论标注为`0`，请直接在分发的excel文件中进行标注，数据标注工作需要两名同学参与，标注者要就标注标准（即什么样的评论是`1`，什么样的评论是`0`）达成一致之后再进行标注，请将标注结果呈现在excel中最前面的列（第一列和第二列），请先标注前500条，标注完成后，查看下这500条评论中`1`和`0`的比例，如果未达到**1:1**，请继续从剩余的数据中进行标注，最终使得两个类别的比例达到**1:1**，<font style=\"color:#FF0000\">**标注前500数据时，请客观标注，不要刻意为了满足1:1的比例而随意修改标注结果**</font>\n",
    "\n",
    "注意：谈及账户安全（account security）话题的评论也应标注为`1`。"
   ]
  },
  {
   "cell_type": "markdown",
   "id": "0ece000d-b528-4bf1-85c7-0296768772fc",
   "metadata": {},
   "source": [
    "标注样例如下:\n",
    "\n",
    "`annotation_example.xlsx`:\n",
    "\n",
    "https://github.com/zhangjianzhang/text_mining/raw/master/files/final/annotation_example.xlsx"
   ]
  },
  {
   "cell_type": "markdown",
   "id": "1da289a2-4f80-45f4-b3e7-9be0b6e336cb",
   "metadata": {},
   "source": [
    "为便于标注，推荐如下在线翻译软件:\n",
    "\n",
    "- https://translate.google.cn/\n",
    "- https://fanyi.baidu.com/#en/zh/\n",
    "- https://cn.bing.com/translator?mkt=zh-CN\n",
    "- https://fanyi.youdao.com/"
   ]
  },
  {
   "cell_type": "markdown",
   "id": "680d86e5-505f-4ad3-b461-6e466e815275",
   "metadata": {},
   "source": [
    "请各小组从下链接根据数据文件名下载本组数据，如`group-1-Instagram_reviews.xlsx`为第一组的数据:\n",
    "\n",
    "https://github.com/zhangjianzhang/text_mining/tree/master/files/final/review_annotation"
   ]
  },
  {
   "cell_type": "markdown",
   "id": "fa8eb459-6905-4154-b7f8-5b689b6cfd3d",
   "metadata": {},
   "source": [
    "最终标注完成后，请计算Cohen's kappa系数，计算示例如下："
   ]
  },
  {
   "cell_type": "markdown",
   "id": "8e149a38-5fed-4ac5-aec6-be173dba6b9f",
   "metadata": {},
   "source": [
    "<center><strong>------------ 以下是Cohen's kappa系数计算示例 ------------</strong></center>"
   ]
  },
  {
   "cell_type": "markdown",
   "id": "268d6b0d-1de4-4c60-8179-318ccc75486e",
   "metadata": {},
   "source": [
    "Suppose that you were analyzing data related to a group of 50 people applying for a grant. Each grant proposal was read by two readers and each reader either said \"Yes\" or \"No\" to the proposal. Suppose the disagreement count data were as follows, where A and B are readers, data on the main diagonal of the matrix (a and d) count the number of agreements and off-diagonal data (b and c) count the number of disagreements:"
   ]
  },
  {
   "cell_type": "markdown",
   "id": "947ca3cf-091e-4316-98c6-f1ae71d04700",
   "metadata": {},
   "source": [
    "<table class=\"wikitable\">\n",
    "<tbody><tr>\n",
    "<th style=\"background:#EAECF0;background:linear-gradient(to top right,#EAECF0 49%,#AAA 49.5%,#AAA 50.5%,#EAECF0 51%);line-height:1.2;padding:0.1em 0.4em;\"><div style=\"margin-left:2em;text-align:right\">B</div><div style=\"margin-right:2em;text-align:left\">A</div>\n",
    "</th>\n",
    "<th>Yes\n",
    "</th>\n",
    "<th>No\n",
    "</th></tr>\n",
    "<tr>\n",
    "<th>Yes\n",
    "</th>\n",
    "<td>a\n",
    "</td>\n",
    "<td>b\n",
    "</td></tr>\n",
    "<tr>\n",
    "<th>No\n",
    "</th>\n",
    "<td>c\n",
    "</td>\n",
    "<td>d\n",
    "</td></tr></tbody></table>"
   ]
  },
  {
   "cell_type": "markdown",
   "id": "599376e0-8f41-4bb3-8e26-8dda3d879df9",
   "metadata": {},
   "source": [
    "e.g."
   ]
  },
  {
   "cell_type": "markdown",
   "id": "9c7a7b56-a716-4436-84b8-dca99fc270ed",
   "metadata": {},
   "source": [
    "<table class=\"wikitable\">\n",
    "<tbody><tr>\n",
    "<th style=\"background:#EAECF0;background:linear-gradient(to top right,#EAECF0 49%,#AAA 49.5%,#AAA 50.5%,#EAECF0 51%);line-height:1.2;padding:0.1em 0.4em;\"><div style=\"margin-left:2em;text-align:right\">B</div><div style=\"margin-right:2em;text-align:left\">A</div>\n",
    "</th>\n",
    "<th>Yes\n",
    "</th>\n",
    "<th>No\n",
    "</th></tr>\n",
    "<tr>\n",
    "<th>Yes\n",
    "</th>\n",
    "<td>20\n",
    "</td>\n",
    "<td>5\n",
    "</td></tr>\n",
    "<tr>\n",
    "<th>No\n",
    "</th>\n",
    "<td>10\n",
    "</td>\n",
    "<td>15\n",
    "</td></tr></tbody></table>"
   ]
  },
  {
   "cell_type": "markdown",
   "id": "08459089-551b-4cf4-8b52-f9c101dea07f",
   "metadata": {},
   "source": [
    "The observed proportionate agreement is:"
   ]
  },
  {
   "cell_type": "markdown",
   "id": "635be015-ca71-4ac8-92c5-80da2518817e",
   "metadata": {},
   "source": [
    "<div align=center>\n",
    "<img src=\"https://raw.githubusercontent.com/zhangjianzhang/text_mining/5d6f1c549229d91558eaca6043aae20598c38f85/files/final/p0.svg\">\n",
    "<br>\n",
    "</div>"
   ]
  },
  {
   "cell_type": "markdown",
   "id": "26353319-4f04-4f4c-80fb-a8944d59dac0",
   "metadata": {},
   "source": [
    "To calculate $p_{e}$ (the probability of random agreement) we note that:\n",
    "\n",
    "- Reader A said \"Yes\" to 25 applicants and \"No\" to 25 applicants. Thus reader A said \"Yes\" 50% of the time.\n",
    "- Reader B said \"Yes\" to 30 applicants and \"No\" to 20 applicants. Thus reader B said \"Yes\" 60% of the time."
   ]
  },
  {
   "cell_type": "markdown",
   "id": "904de292-34c3-401f-9864-d8f75d444179",
   "metadata": {},
   "source": [
    "So the expected probability that both would say yes at random is:\n",
    "\n",
    "<div align=center>\n",
    "<img src=\"https://raw.githubusercontent.com/zhangjianzhang/text_mining/5d6f1c549229d91558eaca6043aae20598c38f85/files/final/py.svg\">\n",
    "<br>\n",
    "</div>"
   ]
  },
  {
   "cell_type": "markdown",
   "id": "22a677e6-8c67-4249-8320-1d640fcd8905",
   "metadata": {},
   "source": [
    "Similarly:"
   ]
  },
  {
   "cell_type": "markdown",
   "id": "63a41a24-e98a-41c0-9284-afd4e117645a",
   "metadata": {},
   "source": [
    "<div align=center>\n",
    "<img src=\"https://raw.githubusercontent.com/zhangjianzhang/text_mining/5d6f1c549229d91558eaca6043aae20598c38f85/files/final/pn.svg\">\n",
    "<br>\n",
    "</div>"
   ]
  },
  {
   "cell_type": "markdown",
   "id": "b42c6873-ce71-4358-9c89-bd804155b6da",
   "metadata": {},
   "source": [
    "Overall random agreement probability is the probability that they agreed on either Yes or No, i.e.:"
   ]
  },
  {
   "cell_type": "markdown",
   "id": "b18824d1-ae61-4a4a-a89c-436017d24c9e",
   "metadata": {},
   "source": [
    "<div align=center>\n",
    "<img src=\"https://raw.githubusercontent.com/zhangjianzhang/text_mining/5d6f1c549229d91558eaca6043aae20598c38f85/files/final/pe.svg\">\n",
    "<br>\n",
    "</div>"
   ]
  },
  {
   "cell_type": "markdown",
   "id": "51d2d78f-caae-4ef0-8cca-59f70bd20485",
   "metadata": {},
   "source": [
    "So now applying our formula for Cohen's Kappa we get:"
   ]
  },
  {
   "cell_type": "markdown",
   "id": "7adbd992-3015-4ce2-83ce-4f5507ff0a7c",
   "metadata": {},
   "source": [
    "<div align=center>\n",
    "<img src=\"https://raw.githubusercontent.com/zhangjianzhang/text_mining/5d6f1c549229d91558eaca6043aae20598c38f85/files/final/kp.svg\">\n",
    "<br>\n",
    "</div>"
   ]
  },
  {
   "cell_type": "markdown",
   "id": "8ad1e757-d59f-4aac-ba3a-bbfd9f2d63c0",
   "metadata": {},
   "source": [
    "<center><strong>------------ 以上是Cohen's kappa系数计算示例 ------------</strong></center>"
   ]
  },
  {
   "cell_type": "markdown",
   "id": "5fca1397-2b5a-4caa-8ecd-d29918b6b097",
   "metadata": {},
   "source": [
    "对于标注不一致的样本，请标注者之间进行协商，统一这些有分歧的样本类别标签。"
   ]
  },
  {
   "cell_type": "markdown",
   "id": "cb8e002c-3b56-4446-af50-d02d34f05c21",
   "metadata": {},
   "source": [
    "第一步结束后，将得到一份比例为**1:1**的评论标注数据，总条数可能大于500条，且标注结果中不存在分歧。"
   ]
  },
  {
   "cell_type": "markdown",
   "id": "f63196ca-6bd4-4452-aaf9-8956689711fa",
   "metadata": {},
   "source": [
    "**2. 对第一步标注的数据进行数据预处理**"
   ]
  },
  {
   "cell_type": "markdown",
   "id": "fa98ed4f-f369-45fd-b2a5-7f166d26b201",
   "metadata": {},
   "source": [
    "具体请参考（但不限于）实验代码`lecture_7_1.ipynb`和`lecture_7_2.ipynb`"
   ]
  },
  {
   "cell_type": "markdown",
   "id": "c5cc1ee3-b6d2-45f4-b7fb-39b5984de88a",
   "metadata": {},
   "source": [
    "**3. 文本向量化表示**"
   ]
  },
  {
   "cell_type": "markdown",
   "id": "2938f07f-f82e-483b-ad3a-a4d5c8ae4c3a",
   "metadata": {},
   "source": [
    "具体请参考（但不限于）实验代码`lecture_7_1.ipynb`和`lecture_7_2.ipynb`"
   ]
  },
  {
   "cell_type": "markdown",
   "id": "115bf873-f117-48e5-b2d4-be7e09ddc52b",
   "metadata": {},
   "source": [
    "**4. 尝试机器学习中的分类算法构建评论二分类器**"
   ]
  },
  {
   "cell_type": "markdown",
   "id": "aa5c04fc-e840-4d2e-b1bd-08765e3502f7",
   "metadata": {},
   "source": [
    "可以尝试已学习过的分类算法，非常鼓励探索使用其他分类算法，例如朴素贝叶斯，支持向量机，逻辑回归，决策树，随机森林，神经网络等，<font style=\"color:#FF0000\">**请至少尝试三个分类算法**</font>。"
   ]
  },
  {
   "cell_type": "markdown",
   "id": "a7d3673c-a412-4ce9-82cf-d158af8c2454",
   "metadata": {},
   "source": [
    "**5. 对选中的三个分类算法进行参数调优化**"
   ]
  },
  {
   "cell_type": "markdown",
   "id": "1f22b5f4-ee60-472d-9838-12718fb78538",
   "metadata": {},
   "source": [
    "可以使用**网格搜索**，**交叉验证法**等进行模型调试，并汇报调优后，三种分类模型的结果对比，鼓励以图表等可视化形式呈现对比结果。\n",
    "\n",
    "文本向量化和分类算法的参数搜索，请参考（但不限于）实验代码`lecture_7_1.ipynb`和`lecture_7_2.ipynb`"
   ]
  },
  {
   "cell_type": "markdown",
   "id": "b04341e6-9db7-425b-adfa-fa6f22369a34",
   "metadata": {},
   "source": [
    "**6. 请在如下链接下载未标注的测试数据，用你的最好模型对该测试数据进行分类标注**"
   ]
  },
  {
   "cell_type": "markdown",
   "id": "d1358891-75d6-4e4c-a1c9-a4d7ac0a5e21",
   "metadata": {},
   "source": [
    "通过第五步确定好最优分类算法和最优参数后，使用全部标注数据训练最终分类模型，并对未标注数据进行标签预测，请将预测结果填充到excel的第一列，大家上交后，我会根据答案对各组的预测进行统一评测"
   ]
  },
  {
   "cell_type": "markdown",
   "id": "6f7b468c-2481-47af-956f-7a33bb16be80",
   "metadata": {},
   "source": [
    "`test_data.xlsx`: \n",
    "\n",
    "https://github.com/zhangjianzhang/text_mining/raw/master/files/final/test_data.xlsx"
   ]
  },
  {
   "cell_type": "markdown",
   "id": "3b2a23a1-7ff8-40e8-962d-c05b78e97059",
   "metadata": {},
   "source": [
    "<font size=2 style=\"color:#BA4A00\">**提交内容**</font>"
   ]
  },
  {
   "cell_type": "markdown",
   "id": "0f94dd30-f5f5-49aa-bb01-9eb7e2564dac",
   "metadata": {},
   "source": [
    "1. jupyter文件\n",
    "\n",
    "2. 本小组对数据的标注结果excel文件，Cohen's kappa系数请在jupyter文件中计算并汇报"
   ]
  },
  {
   "cell_type": "markdown",
   "id": "b1492022-5653-4e9b-9124-8381770bf6b3",
   "metadata": {},
   "source": [
    "<font size=2 style=\"color:#BA4A00\">**提交要求**</font>"
   ]
  },
  {
   "cell_type": "markdown",
   "id": "8de2a274-1d6f-45d9-9521-06e48aaa4e7a",
   "metadata": {},
   "source": [
    "**1. 请在jupyter文件中写期末作业，必须同时包含实验代码和文字描述，请务必使你的jupyter有结构和条理，有章节标题等，文字写作部分（字体，字号，颜色，图片，公式等）可参考以下jupyter文件模板**"
   ]
  },
  {
   "cell_type": "markdown",
   "id": "01ecf60c-5150-430c-8e2e-3a35f0a34daa",
   "metadata": {},
   "source": [
    "`example_jupyter.ipynb`:\n",
    "\n",
    "https://raw.githubusercontent.com/zhangjianzhang/text_mining/master/files/final/example_jupyter.ipynb"
   ]
  },
  {
   "cell_type": "markdown",
   "id": "9984e964-927f-42b3-90ed-e12eaa88abec",
   "metadata": {},
   "source": [
    "**2. 请在提交的jupyter文件开头，显式、详细地注明本小组成员的分工情况**"
   ]
  },
  {
   "cell_type": "markdown",
   "id": "dcfe5300-01d4-4678-9d2c-a43e110c2810",
   "metadata": {},
   "source": [
    "**3. 请在线提交小组期末作业，提交链接如下，过期不候**"
   ]
  },
  {
   "cell_type": "markdown",
   "id": "b1cf18b9-fb8f-471a-8486-36c6328cc126",
   "metadata": {},
   "source": [
    "https://workspace.jianguoyun.com/inbox/collect/d89b3d87fdb4466ea75ffffb7e43e589/submit"
   ]
  },
  {
   "cell_type": "markdown",
   "id": "e221e4c1-415a-4509-9c05-ac59a513a016",
   "metadata": {},
   "source": [
    "**4. 期末作业不仅评价对测试数据的预测结果，也会非常注重实验过程和文字描述**"
   ]
  },
  {
   "cell_type": "markdown",
   "id": "b71eefe9-f91e-437d-900c-aa738da76b44",
   "metadata": {},
   "source": [
    "**5. 可以使用`annotation_example.xlsx`作为development_set（开发集）进行模型调优，但是不能将其用作训练数据**"
   ]
  }
 ],
 "metadata": {
  "kernelspec": {
   "display_name": "Python 3 (ipykernel)",
   "language": "python",
   "name": "python3"
  },
  "language_info": {
   "codemirror_mode": {
    "name": "ipython",
    "version": 3
   },
   "file_extension": ".py",
   "mimetype": "text/x-python",
   "name": "python",
   "nbconvert_exporter": "python",
   "pygments_lexer": "ipython3",
   "version": "3.9.7"
  }
 },
 "nbformat": 4,
 "nbformat_minor": 5
}
