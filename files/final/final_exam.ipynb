{
 "cells": [
  {
   "cell_type": "markdown",
   "id": "ebb83a70-6426-4df5-bea7-06c2c42b9e62",
   "metadata": {},
   "source": [
    "<center><font size=3 style=\"color:#BA4A00\"><strong>文本分析与数据挖掘期末作业</strong></font></center>"
   ]
  },
  {
   "cell_type": "markdown",
   "id": "8d954907-194a-4cf4-9ee6-d0e8e24f1372",
   "metadata": {},
   "source": [
    "40个人分为10组，每组4人，3个任务"
   ]
  },
  {
   "cell_type": "markdown",
   "id": "82fb82f6-33dd-4033-a2a1-1f69315e9fa3",
   "metadata": {},
   "source": [
    "不忘专业的初心（管理与应用），牢记课程的使命（文本分析与数据挖掘）"
   ]
  },
  {
   "cell_type": "markdown",
   "id": "b18c0717-71a1-48bf-82e0-7604afd07fce",
   "metadata": {},
   "source": []
  },
  {
   "cell_type": "markdown",
   "id": "8f7da894-4f9a-4d0b-8f5d-0a16b4e17ac0",
   "metadata": {},
   "source": [
    "1. 抽取法条，约束App隐私数据实践的三级法条《民法典》《个人信息保护法》《网络安全法》,先列出上位法的具体法条，再列出下位法的具体法条\n",
    "2. 每个组做一个类别的App隐私政策分析，每个类别按照下载量排序后分层抽样，可从七麦排名平台获取（ICSE 2021用过，所以我们也引用一下），主题模型 OR 聚类 ---> 监督分类\n",
    "3. 选取本小组获得的App样本，从豌豆荚（https://www.wandoujia.com/） 下载安卓APK文件， 借助在线静态分析工具（https://mobsf.live/）， 进行软件包静态分析，并分析报告结果（西瓜视频APK分析结果示例：https://mobsf.live/static_analyzer/?name=xigua-video.apk&checksum=6dcbda45fe715d44c6e945e7d1988ac3&type=apk） ，分析的重点是App行为是否与隐私政策声明一致（比如，政策未声明某些行为，但实际上App进行了这些行为；政策只是宽泛的声明，但App行为是很具体的；政策声明App不会进行哪些行为，但实际上App进行了这些行为等）"
   ]
  },
  {
   "cell_type": "markdown",
   "id": "f23fa8aa-ebb7-42df-945c-7bb100118413",
   "metadata": {},
   "source": []
  },
  {
   "cell_type": "markdown",
   "id": "09f6675c-d8c9-4f1b-83a6-b6bbbcb3da88",
   "metadata": {},
   "source": []
  },
  {
   "cell_type": "markdown",
   "id": "33e2896a-cf50-4f79-952f-9e4ba3d05a8a",
   "metadata": {},
   "source": []
  },
  {
   "cell_type": "markdown",
   "id": "f2002a24-88ee-48d1-b35a-f554817f3213",
   "metadata": {},
   "source": []
  },
  {
   "cell_type": "markdown",
   "id": "cbe205e1-ddee-4c75-8a53-f1aededdbdbb",
   "metadata": {},
   "source": []
  },
  {
   "cell_type": "markdown",
   "id": "65456a4e-82fc-490f-a718-960d6108f881",
   "metadata": {},
   "source": []
  },
  {
   "cell_type": "markdown",
   "id": "72bae4c6-9144-4000-a2ff-fa68ce8be954",
   "metadata": {},
   "source": []
  },
  {
   "cell_type": "markdown",
   "id": "2d28cd54-85de-408a-bfd1-140a550382c4",
   "metadata": {},
   "source": []
  },
  {
   "cell_type": "markdown",
   "id": "c79512cb-d2ee-4336-b383-cc4bd5a0f469",
   "metadata": {},
   "source": []
  },
  {
   "cell_type": "markdown",
   "id": "17740779-41da-439d-bb29-696fbf9be984",
   "metadata": {},
   "source": []
  },
  {
   "cell_type": "markdown",
   "id": "b9125105-b839-425a-83a4-6c1363a7efa7",
   "metadata": {},
   "source": []
  }
 ],
 "metadata": {
  "kernelspec": {
   "display_name": "Python 3 (ipykernel)",
   "language": "python",
   "name": "python3"
  },
  "language_info": {
   "codemirror_mode": {
    "name": "ipython",
    "version": 3
   },
   "file_extension": ".py",
   "mimetype": "text/x-python",
   "name": "python",
   "nbconvert_exporter": "python",
   "pygments_lexer": "ipython3",
   "version": "3.9.7"
  }
 },
 "nbformat": 4,
 "nbformat_minor": 5
}
