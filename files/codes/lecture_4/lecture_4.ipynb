{
 "cells": [
  {
   "cell_type": "markdown",
   "id": "e18e607d",
   "metadata": {},
   "source": [
    "# 4.   Writing Structured Programs"
   ]
  },
  {
   "cell_type": "markdown",
   "id": "d01cf908",
   "metadata": {},
   "source": [
    "## 4.1   Back to the Basics"
   ]
  },
  {
   "cell_type": "markdown",
   "id": "4a7e6163",
   "metadata": {},
   "source": [
    "- Assignment\n",
    "\n",
    "- Equality\n",
    "\n",
    "- Conditionals"
   ]
  },
  {
   "cell_type": "markdown",
   "id": "a0432a5f",
   "metadata": {},
   "source": [
    "## 4.2   Sequences"
   ]
  },
  {
   "cell_type": "markdown",
   "id": "32b484ec",
   "metadata": {},
   "source": [
    "- Operating on Sequence Types\n",
    "\n",
    "- Combining Different Sequence Types\n",
    "\n",
    "- Generator Expressions"
   ]
  },
  {
   "cell_type": "markdown",
   "id": "fbadf92e",
   "metadata": {},
   "source": [
    "## 4.3   Questions of Style"
   ]
  },
  {
   "cell_type": "markdown",
   "id": "50b1dade",
   "metadata": {},
   "source": [
    "- Python Coding Style\n",
    "\n",
    "- Procedural vs Declarative Style\n",
    "\n",
    "- Some Legitimate Uses for Counters"
   ]
  },
  {
   "cell_type": "markdown",
   "id": "be24f048",
   "metadata": {},
   "source": [
    "## 4.4   Functions: The Foundation of Structured Programming"
   ]
  },
  {
   "cell_type": "markdown",
   "id": "8d629adf",
   "metadata": {},
   "source": [
    "- Function Inputs and Outputs\n",
    "\n",
    "- Parameter Passing\n",
    "\n",
    "- Variable Scope\n",
    "\n",
    "- Checking Parameter Types\n",
    "\n",
    "- Functional Decomposition\n",
    "\n",
    "- Documenting Functions"
   ]
  },
  {
   "cell_type": "markdown",
   "id": "65d51840",
   "metadata": {},
   "source": [
    "## 4.5   Doing More with Functions"
   ]
  },
  {
   "cell_type": "markdown",
   "id": "5e826923",
   "metadata": {},
   "source": [
    "- Functions as Arguments\n",
    "\n",
    "- Accumulative Functions\n",
    "\n",
    "- Higher-Order Functions\n",
    "\n",
    "- Named Arguments"
   ]
  },
  {
   "cell_type": "markdown",
   "id": "adae3957",
   "metadata": {},
   "source": [
    "## 4.6   Program Development"
   ]
  },
  {
   "cell_type": "code",
   "execution_count": null,
   "id": "9f0264d5",
   "metadata": {},
   "outputs": [],
   "source": []
  }
 ],
 "metadata": {
  "kernelspec": {
   "display_name": "Python 3 (ipykernel)",
   "language": "python",
   "name": "python3"
  },
  "language_info": {
   "codemirror_mode": {
    "name": "ipython",
    "version": 3
   },
   "file_extension": ".py",
   "mimetype": "text/x-python",
   "name": "python",
   "nbconvert_exporter": "python",
   "pygments_lexer": "ipython3",
   "version": "3.9.7"
  }
 },
 "nbformat": 4,
 "nbformat_minor": 5
}
