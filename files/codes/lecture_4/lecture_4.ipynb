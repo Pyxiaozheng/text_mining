{
 "cells": [
  {
   "cell_type": "markdown",
   "id": "e18e607d",
   "metadata": {},
   "source": [
    "# 4.   Writing Structured Programs"
   ]
  },
  {
   "cell_type": "markdown",
   "id": "d01cf908",
   "metadata": {},
   "source": [
    "## 4.1   Back to the Basics"
   ]
  },
  {
   "cell_type": "markdown",
   "id": "4a7e6163",
   "metadata": {},
   "source": [
    "- Assignment\n",
    "\n",
    "- Equality\n",
    "\n",
    "- Conditionals"
   ]
  },
  {
   "cell_type": "markdown",
   "id": "a0432a5f",
   "metadata": {},
   "source": [
    "## 4.2   Sequences"
   ]
  },
  {
   "cell_type": "markdown",
   "id": "32b484ec",
   "metadata": {},
   "source": [
    "- Operating on Sequence Types\n",
    "\n",
    "- Combining Different Sequence Types\n",
    "\n",
    "- Generator Expressions"
   ]
  },
  {
   "cell_type": "markdown",
   "id": "fbadf92e",
   "metadata": {},
   "source": [
    "## 4.3   Questions of Style"
   ]
  },
  {
   "cell_type": "markdown",
   "id": "50b1dade",
   "metadata": {},
   "source": [
    "- Python Coding Style\n",
    "\n",
    "- Procedural vs Declarative Style\n",
    "\n",
    "- Some Legitimate Uses for Counters"
   ]
  },
  {
   "cell_type": "markdown",
   "id": "be24f048",
   "metadata": {},
   "source": [
    "## 4.4   Functions: The Foundation of Structured Programming"
   ]
  },
  {
   "cell_type": "markdown",
   "id": "8d629adf",
   "metadata": {},
   "source": [
    "- Function Inputs and Outputs\n",
    "\n",
    "- Parameter Passing\n",
    "\n",
    "- Variable Scope\n",
    "\n",
    "- Checking Parameter Types\n",
    "\n",
    "- Functional Decomposition\n",
    "\n",
    "- Documenting Functions"
   ]
  },
  {
   "cell_type": "markdown",
   "id": "65d51840",
   "metadata": {},
   "source": [
    "## 4.5   Doing More with Functions"
   ]
  },
  {
   "cell_type": "markdown",
   "id": "5e826923",
   "metadata": {},
   "source": [
    "- Functions as Arguments\n",
    "\n",
    "- Accumulative Functions\n",
    "\n",
    "- Higher-Order Functions\n",
    "\n",
    "- Named Arguments"
   ]
  },
  {
   "cell_type": "markdown",
   "id": "adae3957",
   "metadata": {},
   "source": [
    "## 4.6   Program Development"
   ]
  },
  {
   "cell_type": "markdown",
   "id": "f7298b7b",
   "metadata": {},
   "source": [
    "- Structure of a Python Module\n",
    "\n",
    "- Multi-Module Programs\n",
    "\n",
    "- Sources of Error\n",
    "\n",
    "- Debugging Techniques\n",
    "\n",
    "- Defensive Programming"
   ]
  },
  {
   "cell_type": "markdown",
   "id": "2809b6de",
   "metadata": {},
   "source": [
    "The above content is out of the scope of our course and you can learn it by yourself:\n",
    "\n",
    "- Refer to the content in <a href=\"https://www.nltk.org/book/ch04.html\" target=\"_blank\">Chapter 4</a> of *Natural Language Processing with Python*\n",
    "\n",
    "- I strongly recommend you to learn the related lectures in my *programming basics* course: <a href=\"https://zhangjianzhang.github.io/programming_basics/\" target=\"_blank\">Course Website</a>\n"
   ]
  },
  {
   "cell_type": "markdown",
   "id": "b3ef864a",
   "metadata": {},
   "source": [
    "## 4.7   Algorithm Design"
   ]
  },
  {
   "cell_type": "markdown",
   "id": "34b8c0e2",
   "metadata": {},
   "source": [
    "***divide-and-conquer***"
   ]
  },
  {
   "cell_type": "markdown",
   "id": "a0330076",
   "metadata": {},
   "source": [
    "We attack a problem of size n by **dividing it into two problems of size n/2**, solve these problems, and **combine their results into a solution of the original problem**. "
   ]
  },
  {
   "cell_type": "markdown",
   "id": "d012eb4c",
   "metadata": {},
   "source": [
    "<font size=2 style=\"color:#2ECC71\">**Example**</font>\n",
    "\n",
    "**Merge Sort (归并排序)**"
   ]
  },
  {
   "cell_type": "markdown",
   "id": "2e66c55d",
   "metadata": {},
   "source": [
    "归并排序是采用分治法（Divide and Conquer）的一个非常典型的应用：\n",
    "\n",
    "\n",
    "- 分割：递归地把当前序列平均分割成两半；\n",
    "- 集成：在保持元素顺序的同时将上一步得到的子序列集成到一起。"
   ]
  },
  {
   "cell_type": "markdown",
   "id": "4337da54",
   "metadata": {},
   "source": [
    "<div align=center>\n",
    "<img width=\"850\" height=\"550\" src=\"https://www.runoob.com/wp-content/uploads/2019/03/mergeSort.gif\">\n",
    "<br>\n",
    "<center><em><strong>归并排序示意图</strong></em></center>\n",
    "</div>"
   ]
  },
  {
   "cell_type": "markdown",
   "id": "2910f47e",
   "metadata": {},
   "source": [
    "1. 首先递归地将列表进行二等分，直到不可分为止，即每个子列表只包含一个元素"
   ]
  },
  {
   "cell_type": "markdown",
   "id": "fcda71e7",
   "metadata": {},
   "source": [
    "<div align=center>\n",
    "<img width=\"1000\" height=\"750\" src=\"https://raw.githubusercontent.com/zhangjianzhang/text_mining/master/files/codes/lecture_4/split.png\">\n",
    "<br>\n",
    "<center><em><strong>递归划分列表</strong></em></center>\n",
    "</div>"
   ]
  },
  {
   "cell_type": "code",
   "execution_count": 5,
   "id": "394ef2f4",
   "metadata": {},
   "outputs": [],
   "source": [
    "def merge_sort(arr):\n",
    "    if len(arr) == 1:\n",
    "        return arr\n",
    "    else:\n",
    "        length = len(arr)\n",
    "        left_arr = arr[:length//2]\n",
    "        right_arr = arr[length//2:]\n",
    "        return sort_list(merge_sort(left_arr), merge_sort(right_arr))"
   ]
  },
  {
   "cell_type": "code",
   "execution_count": 6,
   "id": "673fcda5",
   "metadata": {},
   "outputs": [],
   "source": [
    "def sort_list(left, right):\n",
    "    \n",
    "    result = []\n",
    "    while len(left) > 0 and len(right) > 0:\n",
    "        if left[0] < right[0]:\n",
    "            result.append(left.pop(0))\n",
    "        else:\n",
    "            result.append(right.pop(0))\n",
    "    \n",
    "    result += left\n",
    "    result += right\n",
    "    \n",
    "    return result"
   ]
  },
  {
   "cell_type": "code",
   "execution_count": 7,
   "id": "9ecd2a40",
   "metadata": {},
   "outputs": [],
   "source": [
    "arr = [11, 18, 10, 9, 6]"
   ]
  },
  {
   "cell_type": "code",
   "execution_count": 8,
   "id": "d7656ddf",
   "metadata": {},
   "outputs": [
    {
     "data": {
      "text/plain": [
       "[6, 9, 10, 11, 18]"
      ]
     },
     "execution_count": 8,
     "metadata": {},
     "output_type": "execute_result"
    }
   ],
   "source": [
    "merge_sort(arr)"
   ]
  },
  {
   "cell_type": "code",
   "execution_count": 9,
   "id": "0a43fa76",
   "metadata": {},
   "outputs": [
    {
     "data": {
      "text/plain": [
       "2"
      ]
     },
     "execution_count": 9,
     "metadata": {},
     "output_type": "execute_result"
    }
   ],
   "source": [
    "5//2"
   ]
  },
  {
   "cell_type": "code",
   "execution_count": null,
   "id": "357f8e44",
   "metadata": {},
   "outputs": [],
   "source": []
  }
 ],
 "metadata": {
  "kernelspec": {
   "display_name": "Python 3 (ipykernel)",
   "language": "python",
   "name": "python3"
  },
  "language_info": {
   "codemirror_mode": {
    "name": "ipython",
    "version": 3
   },
   "file_extension": ".py",
   "mimetype": "text/x-python",
   "name": "python",
   "nbconvert_exporter": "python",
   "pygments_lexer": "ipython3",
   "version": "3.9.7"
  }
 },
 "nbformat": 4,
 "nbformat_minor": 5
}
