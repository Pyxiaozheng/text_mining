{
 "cells": [
  {
   "cell_type": "markdown",
   "id": "e18e607d",
   "metadata": {},
   "source": [
    "# 4.   Writing Structured Programs"
   ]
  },
  {
   "cell_type": "markdown",
   "id": "d01cf908",
   "metadata": {},
   "source": [
    "## 4.1   Back to the Basics"
   ]
  },
  {
   "cell_type": "markdown",
   "id": "4a7e6163",
   "metadata": {},
   "source": [
    "- Assignment\n",
    "\n",
    "- Equality\n",
    "\n",
    "- Conditionals"
   ]
  },
  {
   "cell_type": "markdown",
   "id": "a0432a5f",
   "metadata": {},
   "source": [
    "## 4.2   Sequences"
   ]
  },
  {
   "cell_type": "markdown",
   "id": "32b484ec",
   "metadata": {},
   "source": [
    "- Operating on Sequence Types\n",
    "\n",
    "- Combining Different Sequence Types\n",
    "\n",
    "- Generator Expressions"
   ]
  },
  {
   "cell_type": "markdown",
   "id": "fbadf92e",
   "metadata": {},
   "source": [
    "## 4.3   Questions of Style"
   ]
  },
  {
   "cell_type": "markdown",
   "id": "50b1dade",
   "metadata": {},
   "source": [
    "- Python Coding Style\n",
    "\n",
    "- Procedural vs Declarative Style\n",
    "\n",
    "- Some Legitimate Uses for Counters"
   ]
  },
  {
   "cell_type": "markdown",
   "id": "be24f048",
   "metadata": {},
   "source": [
    "## 4.4   Functions: The Foundation of Structured Programming"
   ]
  },
  {
   "cell_type": "markdown",
   "id": "8d629adf",
   "metadata": {},
   "source": [
    "- Function Inputs and Outputs\n",
    "\n",
    "- Parameter Passing\n",
    "\n",
    "- Variable Scope\n",
    "\n",
    "- Checking Parameter Types\n",
    "\n",
    "- Functional Decomposition\n",
    "\n",
    "- Documenting Functions"
   ]
  },
  {
   "cell_type": "markdown",
   "id": "65d51840",
   "metadata": {},
   "source": [
    "## 4.5   Doing More with Functions"
   ]
  },
  {
   "cell_type": "markdown",
   "id": "5e826923",
   "metadata": {},
   "source": [
    "- Functions as Arguments\n",
    "\n",
    "- Accumulative Functions\n",
    "\n",
    "- Higher-Order Functions\n",
    "\n",
    "- Named Arguments"
   ]
  },
  {
   "cell_type": "markdown",
   "id": "adae3957",
   "metadata": {},
   "source": [
    "## 4.6   Program Development"
   ]
  },
  {
   "cell_type": "markdown",
   "id": "00a59ff0",
   "metadata": {},
   "source": [
    "- Structure of a Python Module\n",
    "\n",
    "- Multi-Module Programs\n",
    "\n",
    "- Sources of Error\n",
    "\n",
    "- Debugging Techniques\n",
    "\n",
    "- Defensive Programming"
   ]
  },
  {
   "cell_type": "markdown",
   "id": "3ac1241a",
   "metadata": {},
   "source": [
    "The above content is out of the scope of our course and you can learn it by yourself:\n",
    "\n",
    "- Refer to the content in <a href=\"https://www.nltk.org/book/ch04.html\" target=\"_blank\">Chapter 4</a> of *Natural Language Processing with Python*\n",
    "\n",
    "- I strongly recommend you to learn the related lectures in my *programming basics* course: <a href=\"https://zhangjianzhang.github.io/programming_basics/\" target=\"_blank\">Course Website</a>\n"
   ]
  },
  {
   "cell_type": "markdown",
   "id": "c628346e",
   "metadata": {},
   "source": [
    "## 4.7   Algorithm Design"
   ]
  },
  {
   "cell_type": "markdown",
   "id": "18815b3c",
   "metadata": {},
   "source": [
    "***divide-and-conquer***"
   ]
  },
  {
   "cell_type": "markdown",
   "id": "7f0b7ee2",
   "metadata": {},
   "source": [
    "We attack a problem of size n by **dividing it into two problems of size n/2**, solve these problems, and **combine their results into a solution of the original problem**. "
   ]
  },
  {
   "cell_type": "markdown",
   "id": "e381c2cd",
   "metadata": {},
   "source": [
    "<font size=2 style=\"color:#2ECC71\">**Example**</font>\n",
    "\n",
    "**Merge Sort (归并排序)**"
   ]
  },
  {
   "cell_type": "markdown",
   "id": "c2b99bc9",
   "metadata": {},
   "source": [
    "归并排序是采用分治法（Divide and Conquer）的一个非常典型的应用。"
   ]
  },
  {
   "cell_type": "markdown",
   "id": "c9fa420c",
   "metadata": {},
   "source": [
    "1. 自顶向下，递归地**二等分**列表，直到不可分为止，即每个子列表只包含一个元素"
   ]
  },
  {
   "cell_type": "markdown",
   "id": "a0a756d6",
   "metadata": {},
   "source": [
    "<div align=center>\n",
    "<img width=\"1000\" height=\"750\" src=\"https://raw.githubusercontent.com/zhangjianzhang/text_mining/master/files/codes/lecture_4/split.png\">\n",
    "<br>\n",
    "<center><em><strong>递归划分列表</strong></em></center>\n",
    "</div>"
   ]
  },
  {
   "cell_type": "code",
   "execution_count": 1,
   "id": "c250cc2c",
   "metadata": {},
   "outputs": [],
   "source": [
    "def merge_sort(arr):\n",
    "    if len(arr) == 1:\n",
    "        return arr\n",
    "    else:\n",
    "        length = len(arr)\n",
    "        left_arr = arr[:length//2]\n",
    "        right_arr = arr[length//2:]\n",
    "        print('split',arr,'--->',left_arr, right_arr)\n",
    "        return sort_list(merge_sort(left_arr), merge_sort(right_arr))"
   ]
  },
  {
   "cell_type": "markdown",
   "id": "629b911d",
   "metadata": {},
   "source": [
    "2. 自底向上，递归地**排序**、**合并**子列表"
   ]
  },
  {
   "cell_type": "markdown",
   "id": "4c43c662",
   "metadata": {},
   "source": [
    "<div align=center>\n",
    "<img width=\"1000\" height=\"750\" src=\"https://raw.githubusercontent.com/zhangjianzhang/text_mining/master/files/codes/lecture_4/merge.png\">\n",
    "<br>\n",
    "<center><em><strong>递归排序、合并列表</strong></em></center>\n",
    "</div>"
   ]
  },
  {
   "cell_type": "markdown",
   "id": "26eff3c5",
   "metadata": {},
   "source": [
    "**已排序子列表**`[11, 18]`和`[6, 9, 10]`的排序合并过程如下：\n",
    "\n",
    "1. 对比第一个元素，$11 < 6$，6放入结果列表中，结果列表为`[6]`；\n",
    "\n",
    "2. 两个子列表变为`[11, 18]`和`[9, 10]`；\n",
    "\n",
    "3. 对比第一个元素$11 > 9$，9放入结果列表中，结果列表为`[6, 9]`；\n",
    "\n",
    "4. 两个子列表变为`[11, 18]`和`[10]`；\n",
    "\n",
    "5. 对比第一个元素$11 > 10$，10放入结果列表中，结果列表为`[6, 9, 10]`；\n",
    "\n",
    "6. 两个子列表变为`[11, 18]`和`[]`；\n",
    "\n",
    "7. 第一个子列表有序，第二个子列表为空，将第一个子列表加入结果列表，结果列表为`[6, 9, 10, 11, 18]`。"
   ]
  },
  {
   "cell_type": "code",
   "execution_count": 2,
   "id": "d5c4525c",
   "metadata": {},
   "outputs": [],
   "source": [
    "from copy import deepcopy\n",
    "\n",
    "def sort_list(left, right):\n",
    "    \n",
    "    l, r = deepcopy(left), deepcopy(right)\n",
    "    \n",
    "    result = []\n",
    "    while len(left) > 0 and len(right) > 0:\n",
    "        if left[0] < right[0]:\n",
    "            result.append(left.pop(0))\n",
    "        else:\n",
    "            result.append(right.pop(0))\n",
    "    \n",
    "    result += left\n",
    "    result += right\n",
    "    \n",
    "    print('merge',l, r,'--->',result)\n",
    "    \n",
    "    return result"
   ]
  },
  {
   "cell_type": "code",
   "execution_count": 3,
   "id": "109a3f85",
   "metadata": {},
   "outputs": [],
   "source": [
    "arr = [11, 18, 10, 9, 6]"
   ]
  },
  {
   "cell_type": "code",
   "execution_count": 4,
   "id": "eee176a7",
   "metadata": {},
   "outputs": [
    {
     "name": "stdout",
     "output_type": "stream",
     "text": [
      "split [11, 18, 10, 9, 6] ---> [11, 18] [10, 9, 6]\n",
      "split [11, 18] ---> [11] [18]\n",
      "merge [11] [18] ---> [11, 18]\n",
      "split [10, 9, 6] ---> [10] [9, 6]\n",
      "split [9, 6] ---> [9] [6]\n",
      "merge [9] [6] ---> [6, 9]\n",
      "merge [10] [6, 9] ---> [6, 9, 10]\n",
      "merge [11, 18] [6, 9, 10] ---> [6, 9, 10, 11, 18]\n"
     ]
    },
    {
     "data": {
      "text/plain": [
       "[6, 9, 10, 11, 18]"
      ]
     },
     "execution_count": 4,
     "metadata": {},
     "output_type": "execute_result"
    }
   ],
   "source": [
    "merge_sort(arr)"
   ]
  },
  {
   "cell_type": "code",
   "execution_count": 5,
   "id": "726ec0b7",
   "metadata": {},
   "outputs": [],
   "source": [
    "arr = [1,4,2]"
   ]
  },
  {
   "cell_type": "code",
   "execution_count": 6,
   "id": "8b50fffc",
   "metadata": {},
   "outputs": [
    {
     "name": "stdout",
     "output_type": "stream",
     "text": [
      "split [1, 4, 2] ---> [1] [4, 2]\n",
      "split [4, 2] ---> [4] [2]\n",
      "merge [4] [2] ---> [2, 4]\n",
      "merge [1] [2, 4] ---> [1, 2, 4]\n"
     ]
    },
    {
     "data": {
      "text/plain": [
       "[1, 2, 4]"
      ]
     },
     "execution_count": 6,
     "metadata": {},
     "output_type": "execute_result"
    }
   ],
   "source": [
    "merge_sort(arr)"
   ]
  },
  {
   "cell_type": "markdown",
   "id": "ec40403b",
   "metadata": {},
   "source": [
    "<font size=2 style=\"color:#2ECC71\">**Example**</font>\n",
    "\n",
    "***Recursion***\n",
    "\n",
    "Let's count the size of the hypernym hierarchy rooted at a given synset s. (以同义词集s为根的WordNet子树所包含的节点个数)"
   ]
  },
  {
   "cell_type": "code",
   "execution_count": 7,
   "id": "00dd40ed",
   "metadata": {},
   "outputs": [],
   "source": [
    "def size1(s):\n",
    "    return 1 + sum(size1(child) for child in s.hyponyms())"
   ]
  },
  {
   "cell_type": "code",
   "execution_count": null,
   "id": "c9c557af",
   "metadata": {},
   "outputs": [],
   "source": [
    "node_dict = {\n",
    "    node1\n",
    "}"
   ]
  },
  {
   "cell_type": "code",
   "execution_count": 8,
   "id": "ac7adcb1",
   "metadata": {},
   "outputs": [
    {
     "data": {
      "text/plain": [
       "0"
      ]
     },
     "execution_count": 8,
     "metadata": {},
     "output_type": "execute_result"
    }
   ],
   "source": [
    "sum([])"
   ]
  },
  {
   "cell_type": "code",
   "execution_count": null,
   "id": "d7245e55",
   "metadata": {},
   "outputs": [],
   "source": []
  }
 ],
 "metadata": {
  "kernelspec": {
   "display_name": "Python 3 (ipykernel)",
   "language": "python",
   "name": "python3"
  },
  "language_info": {
   "codemirror_mode": {
    "name": "ipython",
    "version": 3
   },
   "file_extension": ".py",
   "mimetype": "text/x-python",
   "name": "python",
   "nbconvert_exporter": "python",
   "pygments_lexer": "ipython3",
   "version": "3.9.7"
  }
 },
 "nbformat": 4,
 "nbformat_minor": 5
}
