{
 "cells": [
  {
   "cell_type": "markdown",
   "id": "fdb2490d",
   "metadata": {},
   "source": [
    "# 5. Categorizing and Tagging Words"
   ]
  },
  {
   "cell_type": "code",
   "execution_count": null,
   "id": "78c48dc3",
   "metadata": {},
   "outputs": [],
   "source": []
  }
 ],
 "metadata": {
  "kernelspec": {
   "display_name": "Python 3 (ipykernel)",
   "language": "python",
   "name": "python3"
  },
  "language_info": {
   "codemirror_mode": {
    "name": "ipython",
    "version": 3
   },
   "file_extension": ".py",
   "mimetype": "text/x-python",
   "name": "python",
   "nbconvert_exporter": "python",
   "pygments_lexer": "ipython3",
   "version": "3.9.7"
  }
 },
 "nbformat": 4,
 "nbformat_minor": 5
}
