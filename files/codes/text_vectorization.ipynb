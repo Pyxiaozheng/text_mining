{
 "cells": [
  {
   "cell_type": "markdown",
   "id": "439f1f4d-9ae8-4887-88a1-7191de2d0788",
   "metadata": {},
   "source": [
    "<center><font size=4 style=\"color:#BA4A00\"><strong>文本向量化</strong></font></center>"
   ]
  },
  {
   "cell_type": "markdown",
   "id": "150614d4-33f3-4acd-bf1f-cfa4630bf91f",
   "metadata": {},
   "source": [
    "### 1. 计算IT新闻的词频矩阵"
   ]
  },
  {
   "cell_type": "code",
   "execution_count": 1,
   "id": "7c0e1b5a-ffdc-4cb2-aa39-f32d3504311f",
   "metadata": {},
   "outputs": [],
   "source": [
    "from nltk.corpus.reader import CategorizedTaggedCorpusReader"
   ]
  },
  {
   "cell_type": "code",
   "execution_count": 2,
   "id": "348e2655-d055-41dc-89cc-e170abafeb1f",
   "metadata": {},
   "outputs": [],
   "source": [
    "creader = CategorizedTaggedCorpusReader('./cn_news_tagged/', '.*',cat_pattern = r'(.+)/.+txt')"
   ]
  },
  {
   "cell_type": "code",
   "execution_count": 3,
   "id": "cfd07927-94d4-432c-8f1b-c21a0ef3c0f4",
   "metadata": {},
   "outputs": [],
   "source": [
    "import re\n",
    "import string"
   ]
  },
  {
   "cell_type": "code",
   "execution_count": 4,
   "id": "84ef2067-07cc-4fa0-9cf1-3bd99b2be6ac",
   "metadata": {},
   "outputs": [],
   "source": [
    "zh_char = re.compile(r'[\\u4e00-\\u9fa5]')"
   ]
  },
  {
   "cell_type": "code",
   "execution_count": 5,
   "id": "04b1d9a3-c432-48d9-b99f-83fc93059141",
   "metadata": {},
   "outputs": [],
   "source": [
    "with open('./stopwords.txt') as f:\n",
    "    stopwords = f.read().strip().split()\n",
    "    \n",
    "domain_stopwords = ['记者', '报道']"
   ]
  },
  {
   "cell_type": "code",
   "execution_count": 6,
   "id": "ad500a37-0236-4169-bdda-9ba286a81565",
   "metadata": {},
   "outputs": [],
   "source": [
    "cn_filter = lambda item: len(zh_char.findall(item)) > 1 and item not in (stopwords + domain_stopwords) and not set(item) & set(string.punctuation)"
   ]
  },
  {
   "cell_type": "code",
   "execution_count": 7,
   "id": "8e46c590-b762-41ed-becb-df385c1f2886",
   "metadata": {},
   "outputs": [],
   "source": [
    "tokenized_docs = []\n",
    "for file_id in creader.fileids(categories=['IT']):\n",
    "    doc = creader.words(fileids=[file_id])\n",
    "    clean_doc = filter(cn_filter, doc)\n",
    "    tokenized_docs.append(clean_doc)"
   ]
  },
  {
   "cell_type": "code",
   "execution_count": 8,
   "id": "6b66fde1-c8bc-4967-9054-82335cd11755",
   "metadata": {},
   "outputs": [],
   "source": [
    "import numpy as np\n",
    "from sklearn.feature_extraction.text import CountVectorizer, TfidfTransformer"
   ]
  },
  {
   "cell_type": "code",
   "execution_count": 9,
   "id": "38285d1f-d611-4fac-8e5e-219bfe786f60",
   "metadata": {},
   "outputs": [],
   "source": [
    "count_vectorizer = CountVectorizer(tokenizer=lambda text:list(text), lowercase=False, min_df = 5)\n",
    "\n",
    "count_matrix = count_vectorizer.fit_transform(tokenized_docs)\n",
    "binary_matrix = np.where(count_matrix.toarray() > 0, 1, 0)\n",
    "tfidf_transformer = TfidfTransformer()\n",
    "tfidf_matrix = tfidf_transformer.fit_transform(count_matrix)"
   ]
  },
  {
   "cell_type": "code",
   "execution_count": 10,
   "id": "7851a909-0afa-4f0f-ae4b-9caa7b4cdbaf",
   "metadata": {},
   "outputs": [
    {
     "name": "stdout",
     "output_type": "stream",
     "text": [
      "Vocabulary Size: 7045\n",
      "Vocabulary (100): ['10月份' '11月份' '1990年代' '1亿多' '1月份' '200多万' '20多万' '2月份' '3亿多' '3月份' '3月底'\n",
      " '4月份' '4月初' '4月底' '5月份' '65纳米' '6月份' '6月底' '70年代' '7月份' '80年代' '90年代'\n",
      " '9月份' 'CEO一职' 'C生活' 'E系列' 'V牌照' '一一' '一万' '一下子' '一两' '一个个' '一举' '一些' '一亿'\n",
      " '一代' '一体' '一体化' '一共' '一再' '一半' '一口气' '一句话' '一同' '一向' '一味' '一块' '一大' '一大堆'\n",
      " '一头' '一季度' '一定' '一审' '一家' '一对' '一对一' '一帆风顺' '一席之地' '一年一度' '一并' '一度' '一开始'\n",
      " '一律' '一手' '一批' '一整套' '一方' '一旁' '一族' '一时' '一时间' '一月' '一次性' '一次次' '一流'\n",
      " '一清二楚' '一点' '一点儿' '一环' '一生' '一百' '一百多' '一目了然' '一直' '一瞬间' '一站式' '一类' '一系列'\n",
      " '一级' '一线' '一经' '一般来说' '一行' '一贯' '一路' '一身' '一道' '一部分' '七八' '七月']\n",
      "Matrix Shape (1990, 7045)\n",
      "Count Matrix:\n",
      "[[0 0 0 ... 0 0 0]\n",
      " [0 0 0 ... 0 0 0]\n",
      " [0 0 0 ... 0 0 0]\n",
      " ...\n",
      " [0 0 0 ... 0 0 0]\n",
      " [0 0 0 ... 0 0 0]\n",
      " [0 0 0 ... 0 0 0]]\n"
     ]
    }
   ],
   "source": [
    "# 打印词表规模\n",
    "print('Vocabulary Size:', len(count_vectorizer.get_feature_names_out()))\n",
    "# 打印词汇表中的100个词语\n",
    "print(\"Vocabulary (100):\", count_vectorizer.get_feature_names_out()[:100])\n",
    "\n",
    "print('Matrix Shape', count_matrix.shape)\n",
    "\n",
    "# 打印词频矩阵\n",
    "print(\"Count Matrix:\")\n",
    "print(count_matrix.toarray())"
   ]
  },
  {
   "cell_type": "code",
   "execution_count": 11,
   "id": "313f9b5d-24e0-4411-a0a9-5d4ac3c6f382",
   "metadata": {},
   "outputs": [
    {
     "name": "stdout",
     "output_type": "stream",
     "text": [
      "Binary Matrix:\n",
      "[[0 0 0 ... 0 0 0]\n",
      " [0 0 0 ... 0 0 0]\n",
      " [0 0 0 ... 0 0 0]\n",
      " ...\n",
      " [0 0 0 ... 0 0 0]\n",
      " [0 0 0 ... 0 0 0]\n",
      " [0 0 0 ... 0 0 0]]\n"
     ]
    }
   ],
   "source": [
    "# 打印二进制词频矩阵\n",
    "print(\"Binary Matrix:\")\n",
    "print(binary_matrix)"
   ]
  },
  {
   "cell_type": "code",
   "execution_count": 14,
   "id": "09023d96-8641-433d-904d-b06c00ef88ab",
   "metadata": {},
   "outputs": [
    {
     "name": "stdout",
     "output_type": "stream",
     "text": [
      "TF-IDF Matrix:\n",
      "[[0. 0. 0. ... 0. 0. 0.]\n",
      " [0. 0. 0. ... 0. 0. 0.]\n",
      " [0. 0. 0. ... 0. 0. 0.]\n",
      " ...\n",
      " [0. 0. 0. ... 0. 0. 0.]\n",
      " [0. 0. 0. ... 0. 0. 0.]\n",
      " [0. 0. 0. ... 0. 0. 0.]]\n"
     ]
    }
   ],
   "source": [
    "# 打印TF-IDF矩阵\n",
    "print(\"TF-IDF Matrix:\")\n",
    "print(tfidf_matrix.toarray())"
   ]
  },
  {
   "cell_type": "code",
   "execution_count": 13,
   "id": "50d70ab0-9f17-4d45-8305-f8f9908402a4",
   "metadata": {},
   "outputs": [],
   "source": [
    "# help(CountVectorizer)"
   ]
  },
  {
   "cell_type": "code",
   "execution_count": 16,
   "id": "304cbf06-cd2f-41d2-b8ca-d3881a05a7c5",
   "metadata": {},
   "outputs": [
    {
     "name": "stdout",
     "output_type": "stream",
     "text": [
      "0.04207719181487542\n",
      "0.03942975607759037\n",
      "0.02966734752137295\n",
      "0.04487850625562139\n",
      "0.04390752521587121\n",
      "0.027856694223604078\n",
      "0.03312093426531009\n",
      "0.03478019507323494\n",
      "0.3073526765110985\n",
      "0.032801992536907174\n",
      "0.04062863606172611\n",
      "0.044642552416873864\n",
      "0.03907191835851229\n",
      "0.021313513191736255\n",
      "0.01601485354046968\n",
      "0.02534874055722864\n",
      "0.017782744475892075\n",
      "0.053397769351626066\n",
      "0.12278710878047562\n",
      "0.026572055964009408\n",
      "0.04020570014681188\n",
      "0.024142161871521302\n",
      "0.018679048588090958\n",
      "0.034064048278973566\n",
      "0.08718098858147377\n",
      "0.13071837519175822\n",
      "0.031644170420844685\n",
      "0.04064134334474956\n",
      "0.0550072236478882\n",
      "0.021071536124294292\n",
      "0.02051313369986972\n",
      "0.046395798779019726\n",
      "0.041560191921660807\n",
      "0.03240597810015758\n",
      "0.10673507008911315\n",
      "0.10737908761310158\n",
      "0.022601878347951732\n",
      "0.04290332476001578\n",
      "0.015520749322655833\n",
      "0.04747120109665891\n",
      "0.059701890236309015\n",
      "0.023220872836151603\n",
      "0.019286066582305982\n",
      "0.021204930361092875\n",
      "0.015003749429441219\n",
      "0.044642552416873864\n",
      "0.014062510978038529\n",
      "0.04390752521587121\n",
      "0.03053448643209404\n",
      "0.6720317724996062\n",
      "0.5572972378332092\n",
      "0.013005101325551327\n",
      "0.022003091984228982\n",
      "0.0372415849575165\n",
      "0.03779998738194107\n",
      "0.015217383873893634\n",
      "0.04107887653608617\n",
      "0.02651416097586823\n",
      "0.03942975607759037\n",
      "0.027637775690180593\n",
      "0.029758542362872526\n",
      "0.13088479145369253\n",
      "0.028579014141583283\n",
      "0.02156418588447068\n"
     ]
    }
   ],
   "source": [
    "# 查看TF-IDF矩阵中的非0元素值\n",
    "for item in tfidf_matrix.toarray()[2]:\n",
    "    if item != 0:\n",
    "        print(item)"
   ]
  },
  {
   "cell_type": "code",
   "execution_count": null,
   "id": "668523a2-270f-45d8-9e03-53d7a4e85645",
   "metadata": {},
   "outputs": [],
   "source": []
  }
 ],
 "metadata": {
  "kernelspec": {
   "display_name": "Python 3 (ipykernel)",
   "language": "python",
   "name": "python3"
  },
  "language_info": {
   "codemirror_mode": {
    "name": "ipython",
    "version": 3
   },
   "file_extension": ".py",
   "mimetype": "text/x-python",
   "name": "python",
   "nbconvert_exporter": "python",
   "pygments_lexer": "ipython3",
   "version": "3.9.7"
  }
 },
 "nbformat": 4,
 "nbformat_minor": 5
}
