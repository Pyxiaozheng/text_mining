{
 "cells": [
  {
   "cell_type": "markdown",
   "id": "505f7afb-b60a-4ce5-a1d1-08c4c92d012e",
   "metadata": {},
   "source": [
    "<center><font size=4 style=\"color:#BA4A00\"><strong>购物类APP隐私政策获取</strong></font></center>"
   ]
  },
  {
   "cell_type": "markdown",
   "id": "8c11da85-c124-478b-b3cd-cea331830e8f",
   "metadata": {},
   "source": [
    "**在Kaggle中运行该代码时，请注意修改相应的文件路径。**\n",
    "\n",
    "**本课程所用数据集均已上传为Kaggle公开数据集，地址如下：**\n",
    "\n",
    "https://www.kaggle.com/datasets/jianzhangzhang/text-mining-course-data"
   ]
  },
  {
   "cell_type": "markdown",
   "id": "184b2203-8868-475b-a085-cc0de078934d",
   "metadata": {},
   "source": [
    "### 任务要求\n",
    "\n",
    "- 从应用市场中获取购物类别APP的隐私政策，保存在本地文本文件中；\n",
    "- 应用市场采用**百度应用市场**；\n",
    "- 每个APP的隐私政策保存在一个html文件中，命名格式为`APP名字.html`。"
   ]
  },
  {
   "cell_type": "markdown",
   "id": "0e89f2da-60f6-4c69-a39d-9fce75de7190",
   "metadata": {},
   "source": [
    "### 1. 分析应用市场页面源代码和返回数据"
   ]
  },
  {
   "cell_type": "markdown",
   "id": "878cca46-f52f-4a3f-9149-9da594039036",
   "metadata": {},
   "source": [
    "借助Chrome浏览器的页面`审查`功能，然后使用`requests`自动发送请求，分析返回数据。"
   ]
  },
  {
   "cell_type": "code",
   "execution_count": 1,
   "id": "b18c27d2-6787-4a14-a5d1-2004c55de2b6",
   "metadata": {},
   "outputs": [],
   "source": [
    "import requests"
   ]
  },
  {
   "cell_type": "code",
   "execution_count": 2,
   "id": "43443bbd-1bec-4887-a8bc-c53e72f21814",
   "metadata": {},
   "outputs": [],
   "source": [
    "# pn即page number\n",
    "# boardId表示APP 类别\n",
    "url = 'https://mobile.baidu.com/api/board?boardid=board_101_0316&boardId=34612&pn=0'"
   ]
  },
  {
   "cell_type": "code",
   "execution_count": 3,
   "id": "9905a460-c9d3-4bf7-a3d7-1b78b4a957a5",
   "metadata": {},
   "outputs": [],
   "source": [
    "# 设置代理\n",
    "proxies = {\n",
    "\t\"http\": None,\n",
    "\t\"https\": None,\n",
    "}"
   ]
  },
  {
   "cell_type": "code",
   "execution_count": 4,
   "id": "804cf610-bf5a-4d36-bc72-fcaf92554e3c",
   "metadata": {},
   "outputs": [],
   "source": [
    "# 发送请求\n",
    "response = requests.get(url, proxies = proxies)"
   ]
  },
  {
   "cell_type": "code",
   "execution_count": 5,
   "id": "8bacb05e-3b37-4bbb-89fe-ae6c9b058208",
   "metadata": {},
   "outputs": [],
   "source": [
    "# 获取返回内容\n",
    "cont = response.content"
   ]
  },
  {
   "cell_type": "code",
   "execution_count": 6,
   "id": "694ee338-4ba1-4489-abd9-b5ce4edf166d",
   "metadata": {},
   "outputs": [
    {
     "data": {
      "text/plain": [
       "bytes"
      ]
     },
     "execution_count": 6,
     "metadata": {},
     "output_type": "execute_result"
    }
   ],
   "source": [
    "# 查看返回内容的数据类型\n",
    "type(cont)"
   ]
  },
  {
   "cell_type": "code",
   "execution_count": 7,
   "id": "445765d3-20d5-4377-bfbd-953233e60f07",
   "metadata": {},
   "outputs": [],
   "source": [
    "# 解码返回内容，使用UTF-8编码\n",
    "cont_str = cont.decode('UTF-8')"
   ]
  },
  {
   "cell_type": "code",
   "execution_count": 8,
   "id": "93df6787-3606-4846-bb0f-d0c1777d3964",
   "metadata": {},
   "outputs": [
    {
     "data": {
      "text/plain": [
       "str"
      ]
     },
     "execution_count": 8,
     "metadata": {},
     "output_type": "execute_result"
    }
   ],
   "source": [
    "type(cont_str)"
   ]
  },
  {
   "cell_type": "code",
   "execution_count": 9,
   "id": "9d1c1923-fad6-4375-8194-60fd5723f7c1",
   "metadata": {},
   "outputs": [],
   "source": [
    "# 将返回内容字符串转换为字典\n",
    "cont_dict = eval(cont_str.replace('true','True'))"
   ]
  },
  {
   "cell_type": "code",
   "execution_count": 10,
   "id": "5a87bb29-c136-4c7e-baff-f725926ade24",
   "metadata": {},
   "outputs": [
    {
     "data": {
      "text/plain": [
       "dict_keys(['data', 'errorCode', 'errorMessage', 'errorObj'])"
      ]
     },
     "execution_count": 10,
     "metadata": {},
     "output_type": "execute_result"
    }
   ],
   "source": [
    "# 查看字典中的keys\n",
    "cont_dict.keys()"
   ]
  },
  {
   "cell_type": "code",
   "execution_count": 11,
   "id": "fbe728cb-1d6b-4ddb-8bee-13e422535fd3",
   "metadata": {},
   "outputs": [
    {
     "data": {
      "text/plain": [
       "dict"
      ]
     },
     "execution_count": 11,
     "metadata": {},
     "output_type": "execute_result"
    }
   ],
   "source": [
    "# 查看data的数据类型\n",
    "type(cont_dict['data'])"
   ]
  },
  {
   "cell_type": "code",
   "execution_count": 12,
   "id": "b08a0ca3-f065-4478-844b-1dfc0123d191",
   "metadata": {},
   "outputs": [],
   "source": [
    "data_dict = cont_dict['data']"
   ]
  },
  {
   "cell_type": "code",
   "execution_count": 13,
   "id": "67a443ad-eb2f-4871-9c52-5e659aae16fd",
   "metadata": {},
   "outputs": [
    {
     "data": {
      "text/plain": [
       "dict_keys(['total', 'pn', 'data', 'hasNextPage', 'title'])"
      ]
     },
     "execution_count": 13,
     "metadata": {},
     "output_type": "execute_result"
    }
   ],
   "source": [
    "data_dict.keys()"
   ]
  },
  {
   "cell_type": "code",
   "execution_count": 14,
   "id": "b8bc1f6e-0f35-4676-b7ab-ded267888e86",
   "metadata": {},
   "outputs": [],
   "source": [
    "# 抽取data_dict中的字符信息\n",
    "for item in data_dict.keys():\n",
    "    exec('{} = data_dict[\"{}\"]'.format(item,item)) # exec与eval的区别，https://blog.csdn.net/zhenaoxi1077/article/details/80903709"
   ]
  },
  {
   "cell_type": "code",
   "execution_count": 15,
   "id": "8d5072e3-2fc0-4b32-bb58-5673b8a79ab9",
   "metadata": {},
   "outputs": [
    {
     "data": {
      "text/plain": [
       "188"
      ]
     },
     "execution_count": 15,
     "metadata": {},
     "output_type": "execute_result"
    }
   ],
   "source": [
    "# 该类别（网络购物）下共有188个APP\n",
    "total"
   ]
  },
  {
   "cell_type": "code",
   "execution_count": 16,
   "id": "4d66abd1-0ca5-4322-8613-b6b1b2aff6b5",
   "metadata": {},
   "outputs": [
    {
     "data": {
      "text/plain": [
       "0"
      ]
     },
     "execution_count": 16,
     "metadata": {},
     "output_type": "execute_result"
    }
   ],
   "source": [
    "# 现在是第几页\n",
    "pn"
   ]
  },
  {
   "cell_type": "code",
   "execution_count": 17,
   "id": "06bfd99c-48e9-4d39-b28c-b4985a697387",
   "metadata": {},
   "outputs": [
    {
     "data": {
      "text/plain": [
       "True"
      ]
     },
     "execution_count": 17,
     "metadata": {},
     "output_type": "execute_result"
    }
   ],
   "source": [
    "# 还有没有下一页内容\n",
    "hasNextPage"
   ]
  },
  {
   "cell_type": "code",
   "execution_count": 18,
   "id": "92b4ec97-b71c-4f55-a487-4ac0fe3ff4bb",
   "metadata": {},
   "outputs": [
    {
     "data": {
      "text/plain": [
       "'网上购物'"
      ]
     },
     "execution_count": 18,
     "metadata": {},
     "output_type": "execute_result"
    }
   ],
   "source": [
    "# 这个类别的名字是什么\n",
    "title"
   ]
  },
  {
   "cell_type": "code",
   "execution_count": 19,
   "id": "7f12527b-e627-4ac1-ba24-99fedf319178",
   "metadata": {},
   "outputs": [
    {
     "data": {
      "text/plain": [
       "list"
      ]
     },
     "execution_count": 19,
     "metadata": {},
     "output_type": "execute_result"
    }
   ],
   "source": [
    "# 最关键的来了，包含的APP信息有哪些\n",
    "type(data)"
   ]
  },
  {
   "cell_type": "code",
   "execution_count": 20,
   "id": "396b6b5e-f35a-4fd9-9ba8-369bdeb33678",
   "metadata": {},
   "outputs": [
    {
     "data": {
      "text/plain": [
       "14"
      ]
     },
     "execution_count": 20,
     "metadata": {},
     "output_type": "execute_result"
    }
   ],
   "source": [
    "len(data)"
   ]
  },
  {
   "cell_type": "code",
   "execution_count": 21,
   "id": "0cfeacaa-ab2f-4246-b017-7f9f17375bc5",
   "metadata": {},
   "outputs": [
    {
     "data": {
      "text/plain": [
       "{'docid': 5001612384,\n",
       " 'packageid': 1766075084,\n",
       " 'package': 'com.taobao.taobao',\n",
       " 'sname': '淘宝',\n",
       " 'icon': 'https://gdown.baidu.com/appcenter/source/3117733246/6c6d31d260ed4e0a028fd4651714a490/res/mipmap-xhdpi-v4/ic_tb_app_foreground.png',\n",
       " 'type': '0',\n",
       " 'showSize': '107.56MB',\n",
       " 'manual_brief': '淘宝，也太好逛了吧！',\n",
       " 'strDownload': '4.4亿',\n",
       " 'downloadUrl': 'https://m.gdown.baidu.com/c6f3b6740987390e7d3ec2c3bfb044ca138bb670c61656e4615bc4b058d0ef25973fc801d7bf7233726e2b05f125d04dffb7a31d33e16b570f3761e15b5fbf0d1a1d02938ea578e26b54bc267776d0bf53fcd8c74f848e57777897241aa79bb349c10e831759c316f73de2760a30b45ba1da5a3f16134b1a51bca1fda9869b5ef8fa2355a6bc79e69a815a40fa9f3dcf7574431ad8e82e8950b982c03ff1d0e3416270a8227cfe73a753da8fa5c2bfe98b29529971982ab8084e295ebf5f136cbf7f29d6328f8d9f82205d50d11414fc06c0afc4ac3f22e8',\n",
       " 'hidownParam': {'k': '4T3La3t6TGjqAPLB12wPNgmJcmIEcoWSN5C3BJn_sK3RruzoZic3XksbBSToTNPEgYtR88WtvFNpzV5bc9FoztN5C_kfJLR5BuhFNP5tte4BMGz5f0mghAVDfFZ2QC9KxeBSdLZ6D5Ckxv80nxVATomNkzlSEOQfjuYsAr67kYqeC',\n",
       "  'p': 'uma9PPqp6WbaAlqCM9bQMYX6fbA3sUx9xWADkSsHS75S2TdDm5yqIy1laNmqkJFtKRtnekLSUDCjplQ3r_FYsSY7U2-fF2zB6g9D9sSNPZA_pDl-h-jLlYRojOsgYyKm4V621wNUQmny50Exxzak0I82ixAsIjfz9P76Bk4DPsvpDm0NYtszN-vUiXWgU2kLB2DXv_mOEeCUoFtoFEfUfE6EZLmF-BdTy-C2kWeBdLkK7qWPL6__VAzBNhkDA'},\n",
       " 'privacyUrl': 'https://terms.alicdn.com/legal-agreement/terms/suit_bu1_taobao/suit_bu1_taobao201703241622_61002.html?spm=a21dqf.23558089.0.0.7d9c6e26MXkWie',\n",
       " 'devname': '浙江淘宝网络有限公司',\n",
       " 'permissionLink': '/permission?docid=5001612384',\n",
       " 'appScore': 4.1,\n",
       " 'versionname': '10.18.10',\n",
       " 'source': 'wandoujia',\n",
       " 'updatetime': '2022-12-01 08:01:00',\n",
       " 'brief': '淘宝是一个好逛、丰富、有趣的消费生活社区，每天有亿万消费者来淘宝“逛街”：发现好物、找到乐趣、表达体验……淘宝能满足人们生活中的各种需求：搜索和浏览商品、加入购物车、下单支付、物流查询、客服交流、发表购物评论、分享优质商品等等，还能通过本地功能，找到附近的生活优惠信息。\\n\\n淘宝好逛，是因为——\\n\\n1、在淘宝上，找到最丰富的商品：\\n各种各样的优质好物、神奇商品都在淘宝上。\\n再小的需求，也能在淘宝上被满足；再小的爱好，也能在淘宝上找到同好。\\n\\n2、在淘宝上，获得最好逛的体验：\\n淘宝每天都会推荐优质、有趣的商品、服务和优惠信息。\\n每个人都能在这里找到自己感兴趣的商品，足不出户就能逛到好物。\\n\\n3、在淘宝上，看到最真实的内容：\\n淘宝直播间里的实物展示、评论区里真实的买家秀，让人买起来更放心。 \\n人们也能在淘宝“逛逛”社区分享自己的购物体验、推荐优质商品。\\n\\n4、在淘宝上，买到最优惠的商品：\\n每年双11、618等大促活动，商家集体打折，人们能在淘宝上获得真正的实惠。\\n同时，成为88VIP会员和品牌会员，还能享受更多福利。',\n",
       " 'download_url': 'https://gdown.baidu.com/appcenter/pkg/upload/56a128fe4aae083791d171d3f8c2b988',\n",
       " 'groupid': 5000159641,\n",
       " 'size': 112780706,\n",
       " 'versioncode': 422,\n",
       " 'md5': '56a128fe4aae083791d171d3f8c2b988'}"
      ]
     },
     "execution_count": 21,
     "metadata": {},
     "output_type": "execute_result"
    }
   ],
   "source": [
    "data[1]"
   ]
  },
  {
   "cell_type": "code",
   "execution_count": 22,
   "id": "6e0c4ee1-df2b-4fe9-8fba-93e606521c66",
   "metadata": {},
   "outputs": [],
   "source": [
    "# 获取隐私政策链接\n",
    "privacy_url = data[0]['privacyUrl']"
   ]
  },
  {
   "cell_type": "code",
   "execution_count": 23,
   "id": "5f4ebe31-b323-4f17-9dc5-779c97517c0c",
   "metadata": {},
   "outputs": [
    {
     "data": {
      "text/plain": [
       "'http://m.pinduoduo.net/private_policy.html'"
      ]
     },
     "execution_count": 23,
     "metadata": {},
     "output_type": "execute_result"
    }
   ],
   "source": [
    "privacy_url"
   ]
  },
  {
   "cell_type": "code",
   "execution_count": 24,
   "id": "88b52404-3acf-48ba-bbc5-fd543129b87f",
   "metadata": {},
   "outputs": [],
   "source": [
    "# 获取APP名字\n",
    "app_name = data[0]['sname']"
   ]
  },
  {
   "cell_type": "markdown",
   "id": "2b5e2faa-fb7b-43d6-b3f2-444e34ad6463",
   "metadata": {},
   "source": [
    "### 2. 获取并解析APP隐私政策文本"
   ]
  },
  {
   "cell_type": "code",
   "execution_count": 25,
   "id": "fad3461b-5c0c-43bf-9b88-14d566bed7ea",
   "metadata": {},
   "outputs": [],
   "source": [
    "import re"
   ]
  },
  {
   "cell_type": "code",
   "execution_count": 26,
   "id": "2b1bb9f8-236f-4038-b7d4-1a9352ab9276",
   "metadata": {},
   "outputs": [],
   "source": [
    "from bs4 import BeautifulSoup"
   ]
  },
  {
   "cell_type": "code",
   "execution_count": 27,
   "id": "18b1242f-74eb-453b-a404-c875683abf93",
   "metadata": {},
   "outputs": [],
   "source": [
    "response = requests.get(privacy_url, proxies = proxies)"
   ]
  },
  {
   "cell_type": "code",
   "execution_count": 28,
   "id": "6d4dd6fe-bdf5-46f5-b6f3-0a8d5095e3cf",
   "metadata": {},
   "outputs": [
    {
     "data": {
      "text/plain": [
       "200"
      ]
     },
     "execution_count": 28,
     "metadata": {},
     "output_type": "execute_result"
    }
   ],
   "source": [
    "# 查看返回状态是否正常，200为正常\n",
    "response.status_code"
   ]
  },
  {
   "cell_type": "code",
   "execution_count": 29,
   "id": "bfe795b8-4f67-49f4-8daa-e0ff2de5df6f",
   "metadata": {},
   "outputs": [],
   "source": [
    "html = response.content.decode('UTF-8')"
   ]
  },
  {
   "cell_type": "code",
   "execution_count": 30,
   "id": "a43fab4e-3657-41f0-b7af-72dbee9dbb6e",
   "metadata": {},
   "outputs": [
    {
     "name": "stdout",
     "output_type": "stream",
     "text": [
      "mkdir: 无法创建目录\"app_privacy\": 文件已存在\n"
     ]
    }
   ],
   "source": [
    "# 使用linux shell命令在当前目录新建保存隐私政策网页文件的文件夹\n",
    "! mkdir app_privacy"
   ]
  },
  {
   "cell_type": "code",
   "execution_count": 31,
   "id": "097ea945-d3a1-492f-aa86-921dbf034c90",
   "metadata": {},
   "outputs": [],
   "source": [
    "# 将隐私政策以html格式保存在建立的文件夹中，供今后分析\n",
    "with open('./app_privacy/{}.html'.format(app_name),'w+') as f:\n",
    "    f.write(html)"
   ]
  },
  {
   "cell_type": "code",
   "execution_count": 32,
   "id": "ab47e8ab-725b-4849-8298-49ca8b2f6341",
   "metadata": {},
   "outputs": [
    {
     "name": "stdout",
     "output_type": "stream",
     "text": [
      "58同城.html    京东.html    省钱快报.html  淘宝.html\t一淘.html\n",
      "阿里巴巴.html  拼多多.html  识货.html\t   唯品会.html\n",
      "多点.html      千牛.html    苏宁易购.html  小红书.html\n"
     ]
    }
   ],
   "source": [
    "! ls ./app_privacy/"
   ]
  },
  {
   "cell_type": "markdown",
   "id": "fd9c227e-8d2a-4444-8caa-9331dd67a657",
   "metadata": {},
   "source": [
    "### 3. 自动化批量获取和保存APP隐私政策"
   ]
  },
  {
   "cell_type": "code",
   "execution_count": 33,
   "id": "26b055e5-d3e5-48d9-8174-576bb110879f",
   "metadata": {},
   "outputs": [],
   "source": [
    "import time\n",
    "from requests.adapters import SSLError"
   ]
  },
  {
   "cell_type": "code",
   "execution_count": 36,
   "id": "56a04c5b-9656-47bf-bfe9-bf3cc98f8a06",
   "metadata": {},
   "outputs": [
    {
     "name": "stdout",
     "output_type": "stream",
     "text": [
      "Save the Privacy Policy of com.xunmeng.pinduoduo\n",
      "Save the Privacy Policy of com.taobao.taobao\n",
      "Save the Privacy Policy of com.jingdong.app.mall\n",
      "Save the Privacy Policy of com.wuba\n",
      "Save the Privacy Policy of com.xingin.xhs\n",
      "Save the Privacy Policy of com.achievo.vipshop\n",
      "Save the Privacy Policy of com.suning.mobile.ebuy\n",
      "Save the Privacy Policy of com.alibaba.wireless\n",
      "Save the Privacy Policy of com.wm.dmall\n",
      "Save the Privacy Policy of com.taobao.qianniu\n",
      "Save the Privacy Policy of com.jzyd.coupon\n",
      "Save the Privacy Policy of com.hupu.shihuo\n",
      "Save the Privacy Policy of com.taobao.etao\n",
      "Done\n"
     ]
    }
   ],
   "source": [
    "for record in data:\n",
    "    privacy_url = record['privacyUrl']\n",
    "    app_name = record['package']\n",
    "    try:\n",
    "        response = requests.get(privacy_url, proxies = proxies)\n",
    "        time.sleep(1)\n",
    "        if response.status_code == 200:\n",
    "            html = response.content.decode('UTF-8')\n",
    "            with open('./app_privacy/{}.html'.format(app_name),'w+') as f:\n",
    "                f.write(html)\n",
    "                print('Save the Privacy Policy of {}'.format(app_name))\n",
    "    except (SSLError):\n",
    "        time.sleep(3)\n",
    "        continue\n",
    "\n",
    "print('Done')"
   ]
  },
  {
   "cell_type": "markdown",
   "id": "f152f5f0-ddce-43b0-b075-1e86bebb16e6",
   "metadata": {},
   "source": [
    "### 4. It's Your Turn"
   ]
  },
  {
   "cell_type": "markdown",
   "id": "fd32a127-18c2-4340-92d8-68e18da89d4e",
   "metadata": {},
   "source": [
    "请参考上面代码将`网络购物`类别下全部APP的隐私政策以`html`格式保存到本地文件夹中。"
   ]
  },
  {
   "cell_type": "code",
   "execution_count": null,
   "id": "90b20c6a-0810-4338-878a-9a9f27b61c78",
   "metadata": {},
   "outputs": [],
   "source": []
  }
 ],
 "metadata": {
  "kernelspec": {
   "display_name": "Python 3 (ipykernel)",
   "language": "python",
   "name": "python3"
  },
  "language_info": {
   "codemirror_mode": {
    "name": "ipython",
    "version": 3
   },
   "file_extension": ".py",
   "mimetype": "text/x-python",
   "name": "python",
   "nbconvert_exporter": "python",
   "pygments_lexer": "ipython3",
   "version": "3.9.7"
  }
 },
 "nbformat": 4,
 "nbformat_minor": 5
}
