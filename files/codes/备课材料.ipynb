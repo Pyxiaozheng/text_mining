{
 "cells": [
  {
   "cell_type": "code",
   "execution_count": 79,
   "id": "96031df6-53ba-48e8-8d59-df9c06cef87c",
   "metadata": {},
   "outputs": [],
   "source": [
    "def remove_invisible_chars(text):\n",
    "    \"\"\"移除所有不可见字符，除\\r\\t\\n和空格外\"\"\"\n",
    "    result = ''\n",
    "    for char in text:\n",
    "        if char not in ['\\r','\\t','\\n',' '] and char.isprintable():\n",
    "            result += char\n",
    "    return result"
   ]
  },
  {
   "cell_type": "code",
   "execution_count": 126,
   "id": "5a1b2f3f-381e-4865-a35c-7b43131c5db0",
   "metadata": {},
   "outputs": [],
   "source": [
    "def han_percent(text):\n",
    "    '''\n",
    "    计算文本中中文字符比例\n",
    "    '''\n",
    "    pattern = re.compile(r'[\\u4e00-\\u9fa5]')  # 匹配 Unicode 编码范围在 4E00 到 9FA5 之间的字符\n",
    "    result = pattern.findall(text)\n",
    "    return len(result)/(len(text)+0.001)"
   ]
  },
  {
   "cell_type": "code",
   "execution_count": null,
   "id": "6e06eff8-636e-4572-9bc6-1694dac8301a",
   "metadata": {},
   "outputs": [],
   "source": []
  },
  {
   "cell_type": "code",
   "execution_count": 50,
   "id": "e328d671-92e6-4a0e-b561-63e07ec1c0e9",
   "metadata": {},
   "outputs": [],
   "source": [
    "soup = BeautifulSoup(response.content)"
   ]
  },
  {
   "cell_type": "code",
   "execution_count": 142,
   "id": "60174e52-5908-4305-8778-dd34bf743d64",
   "metadata": {},
   "outputs": [],
   "source": [
    "privacy_text = soup.get_text()"
   ]
  },
  {
   "cell_type": "code",
   "execution_count": 56,
   "id": "8bc79024-d2b4-401a-990d-d992bb6dca03",
   "metadata": {},
   "outputs": [
    {
     "data": {
      "text/plain": [
       "str"
      ]
     },
     "execution_count": 56,
     "metadata": {},
     "output_type": "execute_result"
    }
   ],
   "source": [
    "type(privacy_text)"
   ]
  },
  {
   "cell_type": "code",
   "execution_count": 59,
   "id": "59d0b58c-bee1-43ef-8baf-6d5f001ef87b",
   "metadata": {},
   "outputs": [
    {
     "data": {
      "text/plain": [
       "'拼多多隐私政策\\u200b\\u200b\\u200b\\u200b\\u200b\\u200b\\u200b\\u200b\\u200b\\u200b\\u200b\\u200b\\u200b\\u200b\\u200b\\u200b\\u200b\\u200b\\u200b\\u200b\\u200b\\u200b\\u200b\\u200b\\u200b\\u200b\\u200b\\u200b\\u200b\\u200b\\u200b\\u200b\\u200b\\u200b\\u200b\\u200b\\u200b\\u200b\\u200b\\u200b\\u200b\\u200b\\u200b\\u200b\\u200b\\u200b\\u200b\\u200b\\u200b\\u200b\\u200b\\u200b\\u200b\\u200b\\u200b\\u200b\\u200b\\u200b\\u200b\\u200b\\u200b\\u200b\\u200b\\u200b\\u200b\\u200b\\u200b\\u200b\\u200b\\u200b\\u200b\\u200b\\u200b\\u200b\\u200b\\u200b\\u200b\\u200b\\u200b\\u200b\\u200b\\u200b\\u200b\\u200b\\u200b\\u200b\\u200b\\u200b\\u200b\\u200b\\u200b\\u200b\\u200b ...... 售后、发布信息，以及IP地址、浏览器类型、使用的语言、访问日期和时间、电信运营商。具体以实际收集情况为准。15.关联公司：是指一方直接或间接控制、共同控制另一方，以及两方或两方以上受同一主体控制、共同控制的公司。前述“控制”是指，直接或间接拥有的权力，从而通过行使表决权、合同或其他方式决定或影响某一方的管理或决策方向，包括Pinduoduo Inc最新上市公司年报披露的拼多多服务提供者的关联公司。'"
      ]
     },
     "execution_count": 59,
     "metadata": {},
     "output_type": "execute_result"
    }
   ],
   "source": [
    "privacy_text[:100] + ' ...... ' + privacy_text[-200:]"
   ]
  },
  {
   "cell_type": "code",
   "execution_count": 65,
   "id": "cfd14d0f-88cb-40b0-aa89-727ff21fe7e1",
   "metadata": {},
   "outputs": [],
   "source": [
    "text_elements = soup.find_all(text=re.compile('.+'))"
   ]
  },
  {
   "cell_type": "code",
   "execution_count": 85,
   "id": "8df9a281-c2aa-455e-8654-78d459018faa",
   "metadata": {},
   "outputs": [
    {
     "data": {
      "text/plain": [
       "271"
      ]
     },
     "execution_count": 85,
     "metadata": {},
     "output_type": "execute_result"
    }
   ],
   "source": [
    "len(text_elements)"
   ]
  },
  {
   "cell_type": "code",
   "execution_count": 137,
   "id": "5860a086-bcc5-4b82-a66e-1ff6c77263fe",
   "metadata": {},
   "outputs": [],
   "source": [
    "cleaned_text = ''"
   ]
  },
  {
   "cell_type": "code",
   "execution_count": 138,
   "id": "7cc1b962-f7e1-4e19-81bb-28b239b61433",
   "metadata": {},
   "outputs": [],
   "source": [
    "for item in text_elements:\n",
    "    text = str(item)\n",
    "    tmp_text = remove_invisible_chars(text)\n",
    "    if han_percent(tmp_text) > 0.5:\n",
    "        cleaned_text += ('<STR>'+tmp_text+'<END>\\n')"
   ]
  },
  {
   "cell_type": "code",
   "execution_count": 125,
   "id": "151e9146-460b-4a77-91e8-e3ff186f76bc",
   "metadata": {},
   "outputs": [
    {
     "data": {
      "text/plain": [
       "0.00184221065278334"
      ]
     },
     "execution_count": 125,
     "metadata": {},
     "output_type": "execute_result"
    }
   ],
   "source": [
    "han_percent(str(text_elements[3]))"
   ]
  },
  {
   "cell_type": "code",
   "execution_count": 106,
   "id": "d8e9003d-2da1-45cc-9490-c31d72d67638",
   "metadata": {},
   "outputs": [
    {
     "data": {
      "text/plain": [
       "''"
      ]
     },
     "execution_count": 106,
     "metadata": {},
     "output_type": "execute_result"
    }
   ],
   "source": [
    "remove_js(str(text_elements[8]))"
   ]
  },
  {
   "cell_type": "code",
   "execution_count": 119,
   "id": "af968f24-df0a-41a2-8734-e0f8bae82c4e",
   "metadata": {},
   "outputs": [
    {
     "data": {
      "text/plain": [
       "'initInlineLogger({\"universalPaths\":[\"/private_policy.html\",\"/commercial_pre_orders.html\"],\"universalQueryKeys\":[\"_t_module_name\"],\"appId\":\"100754\",\"testAppId\":\"100356\",\"bizSide\":\"consumer-platform-fe\"})'"
      ]
     },
     "execution_count": 119,
     "metadata": {},
     "output_type": "execute_result"
    }
   ],
   "source": [
    "text_elements[4]"
   ]
  }
 ],
 "metadata": {
  "kernelspec": {
   "display_name": "Python 3 (ipykernel)",
   "language": "python",
   "name": "python3"
  },
  "language_info": {
   "codemirror_mode": {
    "name": "ipython",
    "version": 3
   },
   "file_extension": ".py",
   "mimetype": "text/x-python",
   "name": "python",
   "nbconvert_exporter": "python",
   "pygments_lexer": "ipython3",
   "version": "3.9.7"
  }
 },
 "nbformat": 4,
 "nbformat_minor": 5
}
