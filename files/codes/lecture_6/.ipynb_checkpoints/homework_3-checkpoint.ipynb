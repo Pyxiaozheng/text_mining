{
 "cells": [
  {
   "cell_type": "markdown",
   "id": "46e64aa1",
   "metadata": {},
   "source": [
    "<center><font size=5 ><strong>Homework 3</strong></font></center>"
   ]
  },
  {
   "cell_type": "markdown",
   "id": "f3cc6cab",
   "metadata": {},
   "source": [
    "1. Write a program that takes a sentence expressed as a single string, splits it and counts up the words. Get it to print out each word and the word's frequency, one per line, in alphabetical order. (编写一个程序，将一个句子表示为单个字符串，将其拆分并计算单词。让它按字母顺序打印出每个单词和单词的频率，每行一个)"
   ]
  },
  {
   "cell_type": "code",
   "execution_count": null,
   "id": "970b2b20",
   "metadata": {},
   "outputs": [],
   "source": []
  },
  {
   "cell_type": "code",
   "execution_count": null,
   "id": "eedaa684",
   "metadata": {},
   "outputs": [],
   "source": []
  },
  {
   "cell_type": "code",
   "execution_count": null,
   "id": "4dc1407d",
   "metadata": {},
   "outputs": [],
   "source": []
  },
  {
   "cell_type": "markdown",
   "id": "e8350187",
   "metadata": {},
   "source": [
    "2. Write a list comprehension that sorts a list of WordNet synsets for proximity to a given synset. For example, given the synsets `minke_whale.n.01`, `orca.n.01`, `novel.n.01`, and `tortoise.n.01`, sort them according to their `shortest_path_distance()` from `right_whale.n.01`. (编写一个列表推导式，对 WordNet 同义词列表进行排序以接近给定同义词。例如，给定一组同义词 `minke_whale.n.01`、`orca.n.01`、`novel.n.01` 和 `tortoise.n.01`，根据他们到`right_whale.n.01`的 最短路径距离进行排序)"
   ]
  },
  {
   "cell_type": "code",
   "execution_count": null,
   "id": "0381be85",
   "metadata": {},
   "outputs": [],
   "source": []
  },
  {
   "cell_type": "code",
   "execution_count": null,
   "id": "a3ba86b2",
   "metadata": {},
   "outputs": [],
   "source": []
  },
  {
   "cell_type": "code",
   "execution_count": null,
   "id": "33ccbb16",
   "metadata": {},
   "outputs": [],
   "source": []
  },
  {
   "cell_type": "markdown",
   "id": "f82d9d01",
   "metadata": {},
   "source": [
    "3. The Catalan numbers arise in many applications of combinatorial mathematics, including the counting of parse trees. The series can be defined as follows: $C_0 = 1$, and $C_{n+1} = \\sum_{i=0}^{n} C_iC_{n-i}$. (卡塔兰数具有许多重要应用，其递推式为$C_0 = 1$, and $C_{n+1} = \\sum_{i=0}^{n} C_iC_{n-i}$)\n",
    "\n",
    "- Write a recursive function to compute $n$th Catalan number $C_n$; (使用递归计算第n个卡塔兰数)\n",
    "- Now write another function that does this computation using dynamic programming; (使用动态规划计算第n个卡塔兰数)\n",
    "- Use the `timeit` module to compare the performance of these functions as $n$ increases. (使用`timeit`模块比较随着$n$的增长上面两种实现方式计算时间的差异)"
   ]
  },
  {
   "cell_type": "code",
   "execution_count": null,
   "id": "064908c0",
   "metadata": {},
   "outputs": [],
   "source": []
  },
  {
   "cell_type": "code",
   "execution_count": null,
   "id": "4d226cbd",
   "metadata": {},
   "outputs": [],
   "source": []
  },
  {
   "cell_type": "code",
   "execution_count": null,
   "id": "26da54d2",
   "metadata": {},
   "outputs": [],
   "source": []
  }
 ],
 "metadata": {
  "kernelspec": {
   "display_name": "Python 3 (ipykernel)",
   "language": "python",
   "name": "python3"
  },
  "language_info": {
   "codemirror_mode": {
    "name": "ipython",
    "version": 3
   },
   "file_extension": ".py",
   "mimetype": "text/x-python",
   "name": "python",
   "nbconvert_exporter": "python",
   "pygments_lexer": "ipython3",
   "version": "3.9.7"
  }
 },
 "nbformat": 4,
 "nbformat_minor": 5
}
