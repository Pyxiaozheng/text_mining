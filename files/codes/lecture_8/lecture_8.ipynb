{
 "cells": [
  {
   "cell_type": "markdown",
   "id": "67d4cdca-c65c-4725-bd66-ac9f5bb3ed0b",
   "metadata": {},
   "source": [
    "# <center>Text clustering with KMeans algorithm using scikit learn</center>"
   ]
  },
  {
   "cell_type": "markdown",
   "id": "460df0fa-6af1-4d95-88b0-b17e0ac73043",
   "metadata": {},
   "source": [
    "There are many clustering algorithms for clustering including **KMeans, DBSCAN, Spectral clustering, hierarchical clustering etc.** and they have their own advantages and disadvantages. \n",
    "\n",
    "The choice of the algorithm mainly depends on **whether or not you already know how many clusters to create**. \n",
    "\n",
    "Some algorithms such as KMeans need you to specify number of clusters to create whereas DBSCAN does not need you to specify. \n",
    "\n",
    "Another consideration is whether you need the trained model to able to predict cluster for unseen dataset. **KMeans can be used to predict the clusters for new dataset whereas DBSCAN cannot be used for new dataset**."
   ]
  },
  {
   "cell_type": "markdown",
   "id": "4341d98b-e81b-4f01-a482-5cdbc60faf01",
   "metadata": {},
   "source": [
    "## 1. Load data"
   ]
  },
  {
   "cell_type": "markdown",
   "id": "203d6b80-82c2-479d-b4b7-743a4c45f922",
   "metadata": {},
   "source": [
    "In this experiment we’ll cluster news articles into different categories. \n",
    "\n",
    "First download the dataset from http://mlg.ucd.ie/files/datasets/bbc-fulltext.zip and extract. \n",
    "\n",
    "The dataset consists of 2225 documents and 5 categories: business, entertainment, politics, sport, and tech. \n",
    "\n",
    "For most part, we'll ignore the labels but we'll use them while evaluating the trained model since many of the evaluation metrics need the \"true\" labels."
   ]
  }
 ],
 "metadata": {
  "kernelspec": {
   "display_name": "Python 3 (ipykernel)",
   "language": "python",
   "name": "python3"
  },
  "language_info": {
   "codemirror_mode": {
    "name": "ipython",
    "version": 3
   },
   "file_extension": ".py",
   "mimetype": "text/x-python",
   "name": "python",
   "nbconvert_exporter": "python",
   "pygments_lexer": "ipython3",
   "version": "3.9.7"
  }
 },
 "nbformat": 4,
 "nbformat_minor": 5
}
