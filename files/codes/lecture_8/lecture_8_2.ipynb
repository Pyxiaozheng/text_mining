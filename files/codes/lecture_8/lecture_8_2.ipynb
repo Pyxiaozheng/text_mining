{
 "cells": [
  {
   "cell_type": "markdown",
   "id": "47da607f-2ea5-4cea-a5a5-6e251ae098d4",
   "metadata": {},
   "source": [
    "# <center>Hierarchical Clustering with Python and Scikit-Learn</center>"
   ]
  },
  {
   "cell_type": "markdown",
   "id": "ba42303a-5f7b-4ef6-9030-37af77536bdd",
   "metadata": {},
   "source": [
    "## 1. Role of Dendrograms for Hierarchical Clustering"
   ]
  },
  {
   "cell_type": "markdown",
   "id": "d11d4dc1-caea-4347-bfd3-7c3c353d0c49",
   "metadata": {},
   "source": [
    "In the last section, we said that once one large cluster is formed by the combination of small clusters, dendrograms of the cluster are used to actually split the cluster into multiple clusters of related data points. Let's see how it's actually done."
   ]
  },
  {
   "cell_type": "markdown",
   "id": "6dfa5324-7bb0-41b1-8616-c4e47cdc21e9",
   "metadata": {},
   "source": [
    "Suppose we have a collection of data points represented by a `numpy` array as follows:"
   ]
  },
  {
   "cell_type": "code",
   "execution_count": 1,
   "id": "5b7cf918-14cb-4669-8e54-8355297f57ab",
   "metadata": {},
   "outputs": [],
   "source": [
    "import numpy as np\n",
    "\n",
    "X = np.array([[5,3],\n",
    "    [10,15],\n",
    "    [15,12],\n",
    "    [24,10],\n",
    "    [30,30],\n",
    "    [85,70],\n",
    "    [71,80],\n",
    "    [60,78],\n",
    "    [70,55],\n",
    "    [80,91],])"
   ]
  },
  {
   "cell_type": "markdown",
   "id": "6ff3e09b-3a50-40b0-9934-0473724a0477",
   "metadata": {},
   "source": [
    "Let's plot the above data points."
   ]
  },
  {
   "cell_type": "code",
   "execution_count": 2,
   "id": "0004e985-93a4-4286-a6ab-4874957b1c0a",
   "metadata": {},
   "outputs": [
    {
     "data": {
      "image/png": "[encoded data removed]",
      "text/plain": [
       "<Figure size 720x504 with 1 Axes>"
      ]
     },
     "metadata": {
      "needs_background": "light"
     },
     "output_type": "display_data"
    }
   ],
   "source": [
    "import matplotlib.pyplot as plt\n",
    "\n",
    "labels = range(1, 11)\n",
    "plt.figure(figsize=(10, 7))\n",
    "plt.subplots_adjust(bottom=0.1)\n",
    "plt.scatter(X[:,0],X[:,1], label='True Position')\n",
    "\n",
    "for label, x, y in zip(labels, X[:, 0], X[:, 1]):\n",
    "    plt.annotate(\n",
    "        label,\n",
    "        xy=(x, y), xytext=(-3, 3),\n",
    "        textcoords='offset points', ha='right', va='bottom')\n",
    "plt.show()"
   ]
  },
  {
   "cell_type": "markdown",
   "id": "cc9d8b0a-4b27-4347-8fd7-5c7fad05b41a",
   "metadata": {},
   "source": [
    "The script above draws the data points in the `X` numpy array and label data points from 1 to 10. "
   ]
  },
  {
   "cell_type": "markdown",
   "id": "ffaea7d2-30e6-4caa-a360-38cb407d49ee",
   "metadata": {},
   "source": [
    "Let's name the above plot as Graph1. It can be seen from the naked eye that the data points form **two clusters**: \n",
    "\n",
    "first at the bottom left consisting of points 1-5 while second at the top right consisting of points 6-10."
   ]
  },
  {
   "cell_type": "markdown",
   "id": "1acc2fec-0a7f-454e-82a7-8894b490cbd2",
   "metadata": {},
   "source": [
    "However, in the real world, we may have thousands of data points in many more than 2 dimensions. In that case it would not be possible to spot clusters with the naked eye. \n",
    "\n",
    "This is why clustering algorithms have been developed."
   ]
  },
  {
   "cell_type": "markdown",
   "id": "f8544cd9-449e-4e01-8c2a-8f8609f7c0c8",
   "metadata": {},
   "source": [
    "Let's draw the dendrograms for our data points. We will use the `scipy` library for that purpose:"
   ]
  },
  {
   "cell_type": "code",
   "execution_count": 3,
   "id": "e9592e1d-1bb1-4022-9cae-1b08e253c337",
   "metadata": {},
   "outputs": [
    {
     "data": {
      "image/png": "[encoded data removed]",
      "text/plain": [
       "<Figure size 720x504 with 1 Axes>"
      ]
     },
     "metadata": {
      "needs_background": "light"
     },
     "output_type": "display_data"
    }
   ],
   "source": [
    "from scipy.cluster.hierarchy import dendrogram, linkage\n",
    "from matplotlib import pyplot as plt\n",
    "\n",
    "linked = linkage(X, 'single')\n",
    "\n",
    "labelList = range(1, 11)\n",
    "\n",
    "plt.figure(figsize=(10, 7))\n",
    "dendrogram(linked,\n",
    "            orientation='top',\n",
    "            labels=labelList,\n",
    "            distance_sort='descending',\n",
    "            show_leaf_counts=True)\n",
    "plt.show()"
   ]
  },
  {
   "cell_type": "markdown",
   "id": "7b1da068-7a30-49ea-a505-b2442dd18d6b",
   "metadata": {},
   "source": [
    "The algorithm starts by finding the two points that are closest to each other on the basis of Euclidean distance."
   ]
  },
  {
   "cell_type": "markdown",
   "id": "f1df8968-d064-47e4-9b87-97be67d693c9",
   "metadata": {},
   "source": [
    "The vertical height of the dendogram shows the Euclidean distances between points. From the above figure, it can be seen that Euclidean distance between points 8 and 7 is greater than the distance between point 2 and 3."
   ]
  },
  {
   "cell_type": "markdown",
   "id": "e2676625-3bbc-4599-aef0-7166a74f07de",
   "metadata": {},
   "source": [
    "Once one big cluster is formed,  a horizontal line is drawn.\n",
    "\n",
    "The number of vertical lines this newly created horizontal line passes is equal to number of clusters. \n",
    "\n",
    "Take a look at the following plot:"
   ]
  },
  {
   "cell_type": "markdown",
   "id": "7ccbb797-e3bf-4bad-8697-ca1a48473797",
   "metadata": {},
   "source": [
    "<div align=center>\n",
    "<img src=\"https://github.com/zhangjianzhang/text_mining/blob/master/files/codes/lecture_8/hierarchical-clustering-python-scikit-learn-3.png?raw=true\">\n",
    "<br>\n",
    "</div>"
   ]
  },
  {
   "cell_type": "markdown",
   "id": "b5ef98be-6626-4e4f-b94a-0b42711d7030",
   "metadata": {},
   "source": [
    "Basically the horizontal line is a threshold, which defines the minimum distance required to be a separate cluster. \n",
    "\n",
    "If we draw a line further down, the threshold required to be a new cluster will be decreased and more clusters will be formed as see in the image below:"
   ]
  },
  {
   "cell_type": "markdown",
   "id": "668164f0-14d2-40fd-be1e-3d7c69eb1e76",
   "metadata": {},
   "source": [
    "<div align=center>\n",
    "<img src=\"https://github.com/zhangjianzhang/text_mining/blob/master/files/codes/lecture_8/hierarchical-clustering-python-scikit-learn-4.png?raw=true\">\n",
    "<br>\n",
    "</div>"
   ]
  },
  {
   "cell_type": "markdown",
   "id": "249998c3-f3c8-497a-93de-261d474b07ca",
   "metadata": {},
   "source": [
    "In the above plot, the horizontal line passes through four vertical lines **resulting in four clusters**: cluster of points 6,7,8 and 10, cluster of points 3,2,4 and points 9 and 5 will be treated as single point clusters."
   ]
  },
  {
   "cell_type": "markdown",
   "id": "aadc2396-db46-41f0-9200-609c55db65e2",
   "metadata": {},
   "source": [
    "## 2. Simple Example"
   ]
  },
  {
   "cell_type": "markdown",
   "id": "cffc0cfa-2ec5-4b38-aa4a-4d4e59177f26",
   "metadata": {},
   "source": [
    "In our first example we will cluster the X numpy array of data points that we created in the previous section.\n",
    "\n",
    "The process of clustering is similar to any other unsupervised machine learning algorithm. \n",
    "\n",
    "We start by importing the required libraries:"
   ]
  },
  {
   "cell_type": "code",
   "execution_count": 4,
   "id": "7e28b031-41a1-4d3b-a928-689663c42e96",
   "metadata": {},
   "outputs": [],
   "source": [
    "import matplotlib.pyplot as plt\n",
    "import pandas as pd\n",
    "%matplotlib inline\n",
    "import numpy as np"
   ]
  },
  {
   "cell_type": "markdown",
   "id": "d75aa230-abef-45b3-bda4-c790e1b5545c",
   "metadata": {},
   "source": [
    "The next step is to import or create the dataset. In this example, we'll use the following example data:"
   ]
  },
  {
   "cell_type": "code",
   "execution_count": 5,
   "id": "d94dee06-d0c9-486e-b5ea-9f4154e3abe1",
   "metadata": {},
   "outputs": [],
   "source": [
    "X = np.array([[5,3],\n",
    "    [10,15],\n",
    "    [15,12],\n",
    "    [24,10],\n",
    "    [30,30],\n",
    "    [85,70],\n",
    "    [71,80],\n",
    "    [60,78],\n",
    "    [70,55],\n",
    "    [80,91],])"
   ]
  },
  {
   "cell_type": "markdown",
   "id": "c28eb51e-ca11-4365-bf45-ddee24f68972",
   "metadata": {},
   "source": [
    "The next step is to import the class for clustering and call its `fit_predict` method to predict the clusters that each data point belongs to."
   ]
  },
  {
   "cell_type": "code",
   "execution_count": 6,
   "id": "ce52c50a-1cfb-426c-a6a7-8fed13173ce7",
   "metadata": {},
   "outputs": [
    {
     "data": {
      "text/plain": [
       "array([1, 1, 1, 1, 1, 0, 0, 0, 0, 0])"
      ]
     },
     "execution_count": 6,
     "metadata": {},
     "output_type": "execute_result"
    }
   ],
   "source": [
    "from sklearn.cluster import AgglomerativeClustering\n",
    "\n",
    "cluster = AgglomerativeClustering(n_clusters=2, affinity='euclidean', linkage='ward')\n",
    "cluster.fit_predict(X)"
   ]
  },
  {
   "cell_type": "code",
   "execution_count": 8,
   "id": "f970c650-1457-4d58-bc4a-3f1dbc59d698",
   "metadata": {},
   "outputs": [],
   "source": [
    "# help(AgglomerativeClustering)"
   ]
  },
  {
   "cell_type": "markdown",
   "id": "de6b23dd-7521-44b0-bb49-759be0615517",
   "metadata": {},
   "source": [
    "Next we call the fit_predict method from the AgglomerativeClustering class variable cluster. \n",
    "\n",
    "This method returns the names of the clusters that each data point belongs to. \n",
    "\n",
    "Execute the following script to see how the data points have been clustered."
   ]
  },
  {
   "cell_type": "code",
   "execution_count": 9,
   "id": "4fc38add-f4d4-484d-b40f-04306276141a",
   "metadata": {},
   "outputs": [
    {
     "name": "stdout",
     "output_type": "stream",
     "text": [
      "[1 1 1 1 1 0 0 0 0 0]\n"
     ]
    }
   ],
   "source": [
    "print(cluster.labels_)"
   ]
  },
  {
   "cell_type": "markdown",
   "id": "a1e9b82c-f387-484a-98a6-4262dc1ce61a",
   "metadata": {},
   "source": [
    "The output is a one-dimensional array of 10 elements corresponding to the clusters assigned to our 10 data points."
   ]
  },
  {
   "cell_type": "markdown",
   "id": "c490e10f-d1b1-4254-97fd-a0cd289b9070",
   "metadata": {},
   "source": [
    "As expected the first five points have been clustered together while the last five points have been clustered together.\n",
    "\n",
    "It is important to mention here that these ones and zeros are merely labels assigned to the clusters and have no mathematical implications.\n",
    "\n",
    "Finally, let's plot our clusters. To do so, execute the following code:"
   ]
  },
  {
   "cell_type": "code",
   "execution_count": 10,
   "id": "d6c1b042-37cf-40b5-a366-ae0d26851488",
   "metadata": {},
   "outputs": [
    {
     "data": {
      "text/plain": [
       "<matplotlib.collections.PathCollection at 0x7fa61fb42760>"
      ]
     },
     "execution_count": 10,
     "metadata": {},
     "output_type": "execute_result"
    },
    {
     "data": {
      "image/png": "[encoded data removed]",
      "text/plain": [
       "<Figure size 432x288 with 1 Axes>"
      ]
     },
     "metadata": {
      "needs_background": "light"
     },
     "output_type": "display_data"
    }
   ],
   "source": [
    "plt.scatter(X[:,0],X[:,1], c=cluster.labels_, cmap='rainbow')"
   ]
  },
  {
   "cell_type": "markdown",
   "id": "ac6ca855-5ecc-49bc-8188-11135823e249",
   "metadata": {},
   "source": [
    "## 3. Clustering Shopping Data"
   ]
  },
  {
   "cell_type": "markdown",
   "id": "755e045e-f9e3-4e7b-8775-035a76d39fe6",
   "metadata": {},
   "source": [
    "In this example, we will perform hierarchical clustering on real-world data and see how it can be used to solve an actual problem."
   ]
  },
  {
   "cell_type": "markdown",
   "id": "25d2bcc8-2858-4ff3-a52e-5ffb0ff2f7e1",
   "metadata": {},
   "source": [
    "The problem that we are going to solve in this section is to segment customers into different groups based on their shopping trends."
   ]
  },
  {
   "cell_type": "markdown",
   "id": "78af4581-3f8a-429c-b55d-51f7739a335c",
   "metadata": {},
   "source": [
    "The dataset for this problem can be downloaded from the following link:\n",
    "\n",
    "https://raw.githubusercontent.com/zhangjianzhang/text_mining/master/files/codes/lecture_8/hierarchical-clustering-with-python-and-scikit-learn-shopping-data.csv"
   ]
  },
  {
   "cell_type": "markdown",
   "id": "bcd99c27-e7eb-4cc6-96ea-36eda7e8285a",
   "metadata": {},
   "source": [
    "### 3.1 Import required libraries"
   ]
  },
  {
   "cell_type": "code",
   "execution_count": 11,
   "id": "b584cee9-d7b9-46e2-8e76-0b46302303d0",
   "metadata": {},
   "outputs": [],
   "source": [
    "import matplotlib.pyplot as plt\n",
    "import pandas as pd\n",
    "%matplotlib inline\n",
    "import numpy as np"
   ]
  },
  {
   "cell_type": "markdown",
   "id": "f1f284b2-6ffa-4fb8-a71f-2e6d7caee15f",
   "metadata": {},
   "source": [
    "### 3.2 Load the dataset"
   ]
  },
  {
   "cell_type": "code",
   "execution_count": 12,
   "id": "75fff025-b82c-4068-b15a-71774585c697",
   "metadata": {},
   "outputs": [],
   "source": [
    "customer_data = pd.read_csv('./hierarchical-clustering-with-python-and-scikit-learn-shopping-data.csv')"
   ]
  },
  {
   "cell_type": "code",
   "execution_count": 13,
   "id": "0ade56ac-4085-43cf-867d-20fd4d1ca821",
   "metadata": {},
   "outputs": [
    {
     "data": {
      "text/plain": [
       "(200, 5)"
      ]
     },
     "execution_count": 13,
     "metadata": {},
     "output_type": "execute_result"
    }
   ],
   "source": [
    "customer_data.shape"
   ]
  },
  {
   "cell_type": "code",
   "execution_count": 14,
   "id": "b57ead27-97f1-4469-afd8-f37270a8bfd1",
   "metadata": {},
   "outputs": [
    {
     "data": {
      "text/html": [
       "<div>\n",
       "<style scoped>\n",
       "    .dataframe tbody tr th:only-of-type {\n",
       "        vertical-align: middle;\n",
       "    }\n",
       "\n",
       "    .dataframe tbody tr th {\n",
       "        vertical-align: top;\n",
       "    }\n",
       "\n",
       "    .dataframe thead th {\n",
       "        text-align: right;\n",
       "    }\n",
       "</style>\n",
       "<table border=\"1\" class=\"dataframe\">\n",
       "  <thead>\n",
       "    <tr style=\"text-align: right;\">\n",
       "      <th></th>\n",
       "      <th>CustomerID</th>\n",
       "      <th>Genre</th>\n",
       "      <th>Age</th>\n",
       "      <th>Annual Income (k$)</th>\n",
       "      <th>Spending Score (1-100)</th>\n",
       "    </tr>\n",
       "  </thead>\n",
       "  <tbody>\n",
       "    <tr>\n",
       "      <th>0</th>\n",
       "      <td>1</td>\n",
       "      <td>Male</td>\n",
       "      <td>19</td>\n",
       "      <td>15</td>\n",
       "      <td>39</td>\n",
       "    </tr>\n",
       "    <tr>\n",
       "      <th>1</th>\n",
       "      <td>2</td>\n",
       "      <td>Male</td>\n",
       "      <td>21</td>\n",
       "      <td>15</td>\n",
       "      <td>81</td>\n",
       "    </tr>\n",
       "    <tr>\n",
       "      <th>2</th>\n",
       "      <td>3</td>\n",
       "      <td>Female</td>\n",
       "      <td>20</td>\n",
       "      <td>16</td>\n",
       "      <td>6</td>\n",
       "    </tr>\n",
       "    <tr>\n",
       "      <th>3</th>\n",
       "      <td>4</td>\n",
       "      <td>Female</td>\n",
       "      <td>23</td>\n",
       "      <td>16</td>\n",
       "      <td>77</td>\n",
       "    </tr>\n",
       "    <tr>\n",
       "      <th>4</th>\n",
       "      <td>5</td>\n",
       "      <td>Female</td>\n",
       "      <td>31</td>\n",
       "      <td>17</td>\n",
       "      <td>40</td>\n",
       "    </tr>\n",
       "  </tbody>\n",
       "</table>\n",
       "</div>"
      ],
      "text/plain": [
       "   CustomerID   Genre  Age  Annual Income (k$)  Spending Score (1-100)\n",
       "0           1    Male   19                  15                      39\n",
       "1           2    Male   21                  15                      81\n",
       "2           3  Female   20                  16                       6\n",
       "3           4  Female   23                  16                      77\n",
       "4           5  Female   31                  17                      40"
      ]
     },
     "execution_count": 14,
     "metadata": {},
     "output_type": "execute_result"
    }
   ],
   "source": [
    "customer_data.head()"
   ]
  },
  {
   "cell_type": "markdown",
   "id": "c091b7d6-f7ac-464c-86e9-2496f60e9d3a",
   "metadata": {},
   "source": [
    "Our dataset has five columns: CustomerID, Genre, Age, Annual Income, and Spending Score. \n",
    "\n",
    "To view the results in two-dimensional feature space, we will retain only two of these five columns. \n",
    "\n",
    "We can remove CustomerID column, Genre, and Age column. \n",
    "\n",
    "We will retain the Annual Income (in thousands of dollars) and Spending Score (1-100) columns. "
   ]
  },
  {
   "cell_type": "markdown",
   "id": "fdaf6f1f-2578-464d-9050-d69713113f56",
   "metadata": {},
   "source": [
    "Execute the following script to filter the first three columns from our dataset:"
   ]
  },
  {
   "cell_type": "code",
   "execution_count": 15,
   "id": "c6b5738b-f0c5-442c-a7a0-d60980230c1d",
   "metadata": {},
   "outputs": [],
   "source": [
    "data = customer_data.iloc[:, 3:5].values"
   ]
  },
  {
   "cell_type": "code",
   "execution_count": 17,
   "id": "f13dd86d-cac7-4a50-8fd8-f6d644d8516b",
   "metadata": {},
   "outputs": [
    {
     "data": {
      "text/plain": [
       "(200, 2)"
      ]
     },
     "execution_count": 17,
     "metadata": {},
     "output_type": "execute_result"
    }
   ],
   "source": [
    "data.shape"
   ]
  },
  {
   "cell_type": "markdown",
   "id": "43109bed-a373-4d14-afb1-5e35ae03e34f",
   "metadata": {},
   "source": [
    "Next, we need to know the clusters that we want our data to be split to. We will again use the scipy library to create the dendrograms for our dataset. Execute the following script to do so:"
   ]
  },
  {
   "cell_type": "code",
   "execution_count": 18,
   "id": "192ab792-b0db-4bc2-bc66-ae54e7fb5cfb",
   "metadata": {},
   "outputs": [
    {
     "data": {
      "image/png": "[encoded data removed]",
      "text/plain": [
       "<Figure size 720x504 with 1 Axes>"
      ]
     },
     "metadata": {
      "needs_background": "light"
     },
     "output_type": "display_data"
    }
   ],
   "source": [
    "import scipy.cluster.hierarchy as shc\n",
    "\n",
    "plt.figure(figsize=(10, 7))\n",
    "plt.title(\"Customer Dendograms\")\n",
    "dend = shc.dendrogram(shc.linkage(data, method='ward'))"
   ]
  },
  {
   "cell_type": "markdown",
   "id": "9a52514e-841a-495e-a850-6d18ad831d96",
   "metadata": {},
   "source": [
    "In the script above we import the hierarchy class of the `scipy.cluster` library as `shc`. \n",
    "\n",
    "The hierarchy class has a `dendrogram` method which takes the value returned by the `linkage` method of the same class. \n",
    "\n",
    "The `linkage` method takes the dataset and the method to minimize distances as parameters. \n",
    "\n",
    "We use 'ward' as the method since it minimizes then variants of distances between the clusters."
   ]
  },
  {
   "cell_type": "code",
   "execution_count": null,
   "id": "044c36a9-13a5-475a-9eff-2e5a74b8a4d5",
   "metadata": {},
   "outputs": [],
   "source": []
  }
 ],
 "metadata": {
  "kernelspec": {
   "display_name": "Python 3 (ipykernel)",
   "language": "python",
   "name": "python3"
  },
  "language_info": {
   "codemirror_mode": {
    "name": "ipython",
    "version": 3
   },
   "file_extension": ".py",
   "mimetype": "text/x-python",
   "name": "python",
   "nbconvert_exporter": "python",
   "pygments_lexer": "ipython3",
   "version": "3.9.7"
  }
 },
 "nbformat": 4,
 "nbformat_minor": 5
}
