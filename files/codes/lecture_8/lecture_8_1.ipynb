{
 "cells": [
  {
   "cell_type": "markdown",
   "id": "67d4cdca-c65c-4725-bd66-ac9f5bb3ed0b",
   "metadata": {},
   "source": [
    "# <center>Text clustering with KMeans algorithm using scikit learn</center>"
   ]
  },
  {
   "cell_type": "markdown",
   "id": "460df0fa-6af1-4d95-88b0-b17e0ac73043",
   "metadata": {},
   "source": [
    "There are many clustering algorithms for clustering including **KMeans, DBSCAN, Spectral clustering, hierarchical clustering etc.** and they have their own advantages and disadvantages. \n",
    "\n",
    "The choice of the algorithm mainly depends on **whether or not you already know how many clusters to create**. \n",
    "\n",
    "Some algorithms such as KMeans need you to specify number of clusters to create whereas DBSCAN does not need you to specify. \n",
    "\n",
    "Another consideration is whether you need the trained model to able to predict cluster for unseen dataset. **KMeans can be used to predict the clusters for new dataset whereas DBSCAN cannot be used for new dataset**."
   ]
  },
  {
   "cell_type": "markdown",
   "id": "4341d98b-e81b-4f01-a482-5cdbc60faf01",
   "metadata": {},
   "source": [
    "## 1. Load data"
   ]
  },
  {
   "cell_type": "markdown",
   "id": "203d6b80-82c2-479d-b4b7-743a4c45f922",
   "metadata": {},
   "source": [
    "In this experiment we’ll cluster news articles into different categories. \n",
    "\n",
    "First download the dataset from the below link and extract:\n",
    "\n",
    "https://github.com/zhangjianzhang/text_mining/blob/master/files/codes/lecture_8/bbc-fulltext.zip?raw=true\n",
    "\n",
    "The dataset consists of 2225 documents and 5 categories: business, entertainment, politics, sport, and tech. \n",
    "\n",
    "For most part, we'll ignore the labels but we'll use them while evaluating the trained model since many of the evaluation metrics need the \"true\" labels."
   ]
  },
  {
   "cell_type": "code",
   "execution_count": 1,
   "id": "6fb4f039-1dfe-4f49-b279-e325e016a8d4",
   "metadata": {},
   "outputs": [],
   "source": [
    "# import required libraries\n",
    "import pandas as pd\n",
    "import numpy as np\n",
    "from sklearn.cluster import MiniBatchKMeans\n",
    "from sklearn.feature_extraction.text import TfidfVectorizer\n",
    "from sklearn.decomposition import PCA\n",
    "import matplotlib.pyplot as plt"
   ]
  },
  {
   "cell_type": "markdown",
   "id": "44d451c2-1c79-4254-be84-78ab16d5c95b",
   "metadata": {},
   "source": [
    "Now we can read the data. If you look at the extracted zip, you'll see there are 5 folders each containing articles. \n",
    "\n",
    "Each folder indicates a category and the articles contained in that folder belong to that category. \n",
    "\n",
    "To load data in this kind of format, sklearn has easy utility function called `load_files` which load text files with categories as subfolder names."
   ]
  },
  {
   "cell_type": "code",
   "execution_count": 2,
   "id": "559fdd69-311b-4b4f-9ca0-7c96693cb6a7",
   "metadata": {},
   "outputs": [],
   "source": [
    "from sklearn.datasets import load_files\n",
    "\n",
    "# for reproducibility\n",
    "random_state = 100 \n",
    "\n",
    "DATA_DIR = \"./bbc/\"\n",
    "data = load_files(DATA_DIR, encoding=\"utf-8\", decode_error=\"replace\", random_state=random_state)"
   ]
  },
  {
   "cell_type": "code",
   "execution_count": 3,
   "id": "2d3fc206-e9cd-49a7-98be-4bcc8d0695ab",
   "metadata": {},
   "outputs": [
    {
     "data": {
      "text/plain": [
       "list"
      ]
     },
     "execution_count": 3,
     "metadata": {},
     "output_type": "execute_result"
    }
   ],
   "source": [
    "type(data.target_names)"
   ]
  },
  {
   "cell_type": "code",
   "execution_count": 4,
   "id": "527dcc58-f7f5-4f29-a721-da3bf0cdb7e4",
   "metadata": {},
   "outputs": [
    {
     "data": {
      "text/plain": [
       "['business', 'entertainment', 'politics', 'sport', 'tech']"
      ]
     },
     "execution_count": 4,
     "metadata": {},
     "output_type": "execute_result"
    }
   ],
   "source": [
    "data.target_names"
   ]
  },
  {
   "cell_type": "code",
   "execution_count": 5,
   "id": "cf7a350f-4aa3-4852-bc93-4463118b5eec",
   "metadata": {},
   "outputs": [
    {
     "data": {
      "text/plain": [
       "list"
      ]
     },
     "execution_count": 5,
     "metadata": {},
     "output_type": "execute_result"
    }
   ],
   "source": [
    "type(data.data)"
   ]
  },
  {
   "cell_type": "code",
   "execution_count": 6,
   "id": "43da70f0-a53d-4406-b5be-8798463eb2e3",
   "metadata": {},
   "outputs": [
    {
     "data": {
      "text/plain": [
       "2225"
      ]
     },
     "execution_count": 6,
     "metadata": {},
     "output_type": "execute_result"
    }
   ],
   "source": [
    "len(data.data)"
   ]
  },
  {
   "cell_type": "code",
   "execution_count": 7,
   "id": "6f103f83-6c74-4ca1-98b3-3a482982b1b5",
   "metadata": {},
   "outputs": [
    {
     "name": "stdout",
     "output_type": "stream",
     "text": [
      "US woman sues over ink cartridges\n",
      "\n",
      "A US woman is suing Hewlett Packard (HP), saying its printer ink cartridges are secretly programmed to expire on a certain date.\n",
      "\n",
      "The unnamed woman from Georgia says that a chip inside the cartridge tells the printer that it needs re-filling even when it does not. The lawsuit seeks to represent anyone in the US who has purchased an HP inkjet printer since February 2001. HP, the world's biggest printer firm, declined to comment on the lawsuit. HP ink cartridges use a chip technology to sense when they are low on ink and advise the user to make a change.\n",
      "\n",
      "But the suit claims the chips also shut down the cartridges at a predetermined date regardless of whether they are empty. \"The smart chip is dually engineered to prematurely register ink depletion and to render a cartridge unusable through the use of a built-in expiration date that is not revealed to the consumer,\" the suit said. The lawsuit is asking for restitution, damages and other compensation. The cost of printer cartridges has been a contentious issue in Europe for the last 18 months. The price of inkjet printers has come down to as little as £34 but it could cost up to £1,700 in running costs over an 18-month period due to cartridge, a study by Computeractive Magazine revealed last year. The inkjet printer market has been the subject of an investigation by the UK's Office of Fair Trading (OFT), which concluded in a 2002 report that retailers and manufacturers needed to make pricing more transparent for consumers.\n",
      "\n"
     ]
    }
   ],
   "source": [
    "print(data.data[0])"
   ]
  },
  {
   "cell_type": "code",
   "execution_count": 8,
   "id": "e65e402d-61e2-4fbe-a876-8649d80c3a7e",
   "metadata": {},
   "outputs": [
    {
     "name": "stdout",
     "output_type": "stream",
     "text": [
      "EU software patent law delayed\n",
      "\n",
      "Controversial new EU rules for the patenting of computer-based inventions have been put on hold due to a last minute intervention from Poland.\n",
      "\n",
      "Poland - a large and therefore crucial EU member - has requested more time to consider the issue, especially as it relates to the patenting of software. Critics say the law would favour large companies over small, innovative ones. They say it could have massive ramifications for developments such as open source software.\n",
      "\n",
      "Polish ministers want to see the phrasing of the text of the Directive on the Patentability of Computer-Implemented Inventions changed so that it excludes the patenting of software. The planned law has ignited angry debate about whether the EU should allow the patenting of computer programs and internet business methods as currently happens in the US. So, for instance, US-based Amazon.com holds a patent on 'one-click shopping'. Critics claim the law, which the EU says is needed to harmonise with the US, is little more than a law on ideas. \"Patent rights, it is claimed, protect inventors but in this case it is exclusively the interests of the big companies that are protected,\" Eva Lichtenberg, a Austrian Green member of the European Parliament said in a statement. \"Smaller, innovative firms cannot afford the patenting and legal costs that the directive would inflict on them,\" she added. The European Parliament has already clashed with the European Union on the issue and there have been accusations that the process to decide the issue has been undemocratic. The directive has been subject to several previous delays.\n",
      "\n"
     ]
    }
   ],
   "source": [
    "print(data.data[1])"
   ]
  },
  {
   "cell_type": "code",
   "execution_count": 9,
   "id": "244458a5-8aae-4d19-97bf-f5b46a764a7c",
   "metadata": {},
   "outputs": [
    {
     "data": {
      "text/plain": [
       "numpy.ndarray"
      ]
     },
     "execution_count": 9,
     "metadata": {},
     "output_type": "execute_result"
    }
   ],
   "source": [
    "type(data.target)"
   ]
  },
  {
   "cell_type": "code",
   "execution_count": 10,
   "id": "f1c222ce-ecd1-4a12-9ef2-910e38103140",
   "metadata": {},
   "outputs": [
    {
     "data": {
      "text/plain": [
       "2225"
      ]
     },
     "execution_count": 10,
     "metadata": {},
     "output_type": "execute_result"
    }
   ],
   "source": [
    "len(data.target)"
   ]
  },
  {
   "cell_type": "code",
   "execution_count": 11,
   "id": "ce609a8a-babd-493d-834e-50712b8418f6",
   "metadata": {},
   "outputs": [
    {
     "name": "stdout",
     "output_type": "stream",
     "text": [
      "[4 4]\n"
     ]
    }
   ],
   "source": [
    "print(data.target[:2])"
   ]
  },
  {
   "cell_type": "code",
   "execution_count": 12,
   "id": "2b2553c1-e8eb-48a2-b60d-5d07d681107c",
   "metadata": {},
   "outputs": [
    {
     "data": {
      "text/html": [
       "<div>\n",
       "<style scoped>\n",
       "    .dataframe tbody tr th:only-of-type {\n",
       "        vertical-align: middle;\n",
       "    }\n",
       "\n",
       "    .dataframe tbody tr th {\n",
       "        vertical-align: top;\n",
       "    }\n",
       "\n",
       "    .dataframe thead th {\n",
       "        text-align: right;\n",
       "    }\n",
       "</style>\n",
       "<table border=\"1\" class=\"dataframe\">\n",
       "  <thead>\n",
       "    <tr style=\"text-align: right;\">\n",
       "      <th></th>\n",
       "      <th>text</th>\n",
       "      <th>label</th>\n",
       "    </tr>\n",
       "  </thead>\n",
       "  <tbody>\n",
       "    <tr>\n",
       "      <th>0</th>\n",
       "      <td>US woman sues over ink cartridges\\n\\nA US woma...</td>\n",
       "      <td>4</td>\n",
       "    </tr>\n",
       "    <tr>\n",
       "      <th>1</th>\n",
       "      <td>EU software patent law delayed\\n\\nControversia...</td>\n",
       "      <td>4</td>\n",
       "    </tr>\n",
       "    <tr>\n",
       "      <th>2</th>\n",
       "      <td>Robben plays down European return\\n\\nInjured C...</td>\n",
       "      <td>3</td>\n",
       "    </tr>\n",
       "    <tr>\n",
       "      <th>3</th>\n",
       "      <td>US regulator to rule on pain drug\\n\\nUS food a...</td>\n",
       "      <td>0</td>\n",
       "    </tr>\n",
       "    <tr>\n",
       "      <th>4</th>\n",
       "      <td>Edwards tips Idowu for Euro gold\\n\\nWorld outd...</td>\n",
       "      <td>3</td>\n",
       "    </tr>\n",
       "  </tbody>\n",
       "</table>\n",
       "</div>"
      ],
      "text/plain": [
       "                                                text  label\n",
       "0  US woman sues over ink cartridges\\n\\nA US woma...      4\n",
       "1  EU software patent law delayed\\n\\nControversia...      4\n",
       "2  Robben plays down European return\\n\\nInjured C...      3\n",
       "3  US regulator to rule on pain drug\\n\\nUS food a...      0\n",
       "4  Edwards tips Idowu for Euro gold\\n\\nWorld outd...      3"
      ]
     },
     "execution_count": 12,
     "metadata": {},
     "output_type": "execute_result"
    }
   ],
   "source": [
    "df = pd.DataFrame(list(zip(data['data'], data['target'])), columns=['text', 'label'])\n",
    "df.head()"
   ]
  },
  {
   "cell_type": "markdown",
   "id": "3d5a1b9d-8aaa-4211-aeab-6a9c68371394",
   "metadata": {},
   "source": [
    "## 2. Feature extraction"
   ]
  },
  {
   "cell_type": "markdown",
   "id": "575734c2-cda0-4081-a80f-751a01767e9f",
   "metadata": {},
   "source": [
    "For each article in our dataset, we’ll compute TF-IDF values."
   ]
  },
  {
   "cell_type": "code",
   "execution_count": 13,
   "id": "65d5aab9-f5a1-4835-b174-8ef074e36b17",
   "metadata": {},
   "outputs": [],
   "source": [
    "vec = TfidfVectorizer(stop_words=\"english\")\n",
    "vec.fit(df.text.values)\n",
    "features = vec.transform(df.text.values)"
   ]
  },
  {
   "cell_type": "markdown",
   "id": "be636fbe-6e3f-459a-857e-cc53b689d59c",
   "metadata": {},
   "source": [
    "Now we have our feature matrix, we can feed to the model for training."
   ]
  },
  {
   "cell_type": "markdown",
   "id": "482044b7-16cc-42e6-bf78-d5852e52fb55",
   "metadata": {},
   "source": [
    "## 3. Model training"
   ]
  },
  {
   "cell_type": "markdown",
   "id": "9e7afdba-c7c5-463c-8476-bf96055194d7",
   "metadata": {},
   "source": [
    "Let's create an instance of KMeans. I'll choose 5 as the number of clusters since the dataset contains articles that belong to one of 5 categories.\n",
    "\n",
    "Obviously, if you do not have labels then you won't exactly know how many clusters to create so you have to find the best one that fits your needs via **running multiple experiements and using domain knowledge to guide you**."
   ]
  },
  {
   "cell_type": "code",
   "execution_count": 14,
   "id": "157a11c5-2ec4-45cc-8847-8d96253b7357",
   "metadata": {},
   "outputs": [
    {
     "data": {
      "text/plain": [
       "MiniBatchKMeans(n_clusters=5, random_state=100)"
      ]
     },
     "execution_count": 14,
     "metadata": {},
     "output_type": "execute_result"
    }
   ],
   "source": [
    "cls = MiniBatchKMeans(n_clusters=5, random_state=random_state)\n",
    "cls.fit(features)"
   ]
  },
  {
   "cell_type": "code",
   "execution_count": 15,
   "id": "23a75c48-b31e-4e95-b36f-ed208ebe5779",
   "metadata": {},
   "outputs": [],
   "source": [
    "# For more information about the usage of MiniBatchKMeans, see the documentation as follow (uncomment the below code):\n",
    "# help(MiniBatchKMeans)"
   ]
  },
  {
   "cell_type": "markdown",
   "id": "1d8d31cb-fa4d-4d7d-ac0d-0a8487d4f1ad",
   "metadata": {},
   "source": [
    "That is all it takes to create and train a clustering model. Now to predict the clusters, we can call `predict` function of the model.\n",
    "\n",
    "Note that not all clustering algorithms can predit on new datasets. In that case, you can get the cluster labels of the data that you used when calling the fit function using `labels_` attribute of the model."
   ]
  },
  {
   "cell_type": "code",
   "execution_count": 16,
   "id": "b252a224-3015-4b92-b16b-663847adf12b",
   "metadata": {},
   "outputs": [
    {
     "data": {
      "text/plain": [
       "array([2, 2, 0, ..., 2, 2, 0], dtype=int32)"
      ]
     },
     "execution_count": 16,
     "metadata": {},
     "output_type": "execute_result"
    }
   ],
   "source": [
    "# predict cluster labels for new dataset\n",
    "cls.predict(features)\n",
    "\n",
    "# to get cluster labels for the dataset used while\n",
    "# training the model (used for models that does not\n",
    "# support prediction on new dataset).\n",
    "cls.labels_"
   ]
  },
  {
   "cell_type": "code",
   "execution_count": 17,
   "id": "5b4155cc-1779-4154-960a-ed0750b01ce2",
   "metadata": {},
   "outputs": [
    {
     "data": {
      "text/plain": [
       "numpy.ndarray"
      ]
     },
     "execution_count": 17,
     "metadata": {},
     "output_type": "execute_result"
    }
   ],
   "source": [
    "type(cls.cluster_centers_)"
   ]
  },
  {
   "cell_type": "code",
   "execution_count": 18,
   "id": "3d5d895c-daa9-4d82-b1ab-5c5c1e429661",
   "metadata": {},
   "outputs": [
    {
     "data": {
      "text/plain": [
       "(5, 29126)"
      ]
     },
     "execution_count": 18,
     "metadata": {},
     "output_type": "execute_result"
    }
   ],
   "source": [
    "cls.cluster_centers_.shape"
   ]
  },
  {
   "cell_type": "markdown",
   "id": "1fd83ee2-be81-4d9a-ae91-f5248e67f138",
   "metadata": {},
   "source": [
    "## 4. Visualization"
   ]
  },
  {
   "cell_type": "markdown",
   "id": "8f7868e6-4e7d-4f0e-baa0-22a7bf8fadb9",
   "metadata": {},
   "source": [
    "To visualize, we’ll plot the features in a 2D space. \n",
    "\n",
    "As we know the dimension of features that we obtained from TfIdfVectorizer is quite large ( > 10,000), we need to reduce the dimension before we can plot. For this, we’ll ues **PCA** to transform our high dimensional features into 2 dimensions."
   ]
  },
  {
   "cell_type": "code",
   "execution_count": 19,
   "id": "7d747d32-3619-412d-8607-f3cb4f819764",
   "metadata": {},
   "outputs": [],
   "source": [
    "# reduce the features to 2D\n",
    "pca = PCA(n_components=2, random_state=random_state)\n",
    "reduced_features = pca.fit_transform(features.toarray())\n",
    "\n",
    "# reduce the cluster centers to 2D\n",
    "reduced_cluster_centers = pca.transform(cls.cluster_centers_)"
   ]
  },
  {
   "cell_type": "code",
   "execution_count": 20,
   "id": "0b14c8f5-4334-4a10-a0d0-8c94f45ff81a",
   "metadata": {},
   "outputs": [
    {
     "data": {
      "text/plain": [
       "(2225, 2)"
      ]
     },
     "execution_count": 20,
     "metadata": {},
     "output_type": "execute_result"
    }
   ],
   "source": [
    "reduced_features.shape"
   ]
  },
  {
   "cell_type": "markdown",
   "id": "cab310e4-0393-4b06-90d4-d52e86f0e83e",
   "metadata": {},
   "source": [
    "Now that we have reduced our features and cluster centers into 2D, we can plot those points using a scatter plot. \n",
    "\n",
    "The first dimension will be used as X values and second dimension will be used as Y values in a X-Y plot. \n",
    "\n",
    "We also assign colors to each items using the predicted cluster labels so that items in a same cluster will be represented with same color. \n",
    "\n",
    "This is done by passing the labels to `c` parameter in `scatter` function. \n",
    "\n",
    "Again, if the clustering algorithm does not support predict function or if you want to visualize in the training data itself, you can also use `c = cls.labels_` instead."
   ]
  },
  {
   "cell_type": "code",
   "execution_count": 21,
   "id": "a94ed204-f3bf-4ba1-a04e-5cf353599259",
   "metadata": {},
   "outputs": [
    {
     "data": {
      "text/plain": [
       "<matplotlib.collections.PathCollection at 0x7f578fa31940>"
      ]
     },
     "execution_count": 21,
     "metadata": {},
     "output_type": "execute_result"
    },
    {
     "data": {
      "image/png": "[encoded data removed]",
      "text/plain": [
       "<Figure size 432x288 with 1 Axes>"
      ]
     },
     "metadata": {
      "needs_background": "light"
     },
     "output_type": "display_data"
    }
   ],
   "source": [
    "plt.scatter(reduced_features[:,0], reduced_features[:,1], c=cls.predict(features))\n",
    "plt.scatter(reduced_cluster_centers[:, 0], reduced_cluster_centers[:,1], marker='x', s=100, c='r')"
   ]
  },
  {
   "cell_type": "markdown",
   "id": "9a4ed65d-7c90-4540-af18-c0042ce4725c",
   "metadata": {},
   "source": [
    "From the plot below we can see that apart from the rightmost two clusters, items of other three clusters seem to be scattered all around and overlapping as well."
   ]
  },
  {
   "cell_type": "markdown",
   "id": "73aa5b5e-2ab8-4f3d-870c-e5e5706d493e",
   "metadata": {},
   "source": [
    "## 5. Evaluation"
   ]
  },
  {
   "cell_type": "markdown",
   "id": "375abc82-2075-41cb-a9e5-4fa4e6f363d3",
   "metadata": {},
   "source": [
    "Evaluation for unsupervised learning algorithms is **a bit difficult and requires human judgement** but there are some metrics which you might use. \n",
    "\n",
    "There are two kinds of metrics you can use **depending on whether or not you have the labels**. For most of the clustering problems, you probably won’t have labels."
   ]
  },
  {
   "cell_type": "markdown",
   "id": "bfaed83c-2a28-462b-81b6-0ccf51cb11f8",
   "metadata": {},
   "source": [
    "### 5.1 Evalauation with labelled dataset"
   ]
  },
  {
   "cell_type": "markdown",
   "id": "605f3f84-0fb5-4576-8f74-800c3a0c65c5",
   "metadata": {},
   "source": [
    "If you have labelled dataset then you can use few metrics that give you an idea of how good your clustering model is. \n",
    "\n",
    "The one I’m going to show you here is **homogeneity_score** but you can find and read about many other metrics in `sklearn.metrics` module. \n",
    "\n",
    "The score ranges between 0 and 1 where 1 stands for perfectly homogeneous labeling."
   ]
  },
  {
   "cell_type": "code",
   "execution_count": 22,
   "id": "dce86f1a-9fca-474c-89a8-ecc81e72479b",
   "metadata": {},
   "outputs": [
    {
     "data": {
      "text/plain": [
       "0.5156703649915512"
      ]
     },
     "execution_count": 22,
     "metadata": {},
     "output_type": "execute_result"
    }
   ],
   "source": [
    "from sklearn.metrics import homogeneity_score\n",
    "homogeneity_score(df.label, cls.predict(features))"
   ]
  },
  {
   "cell_type": "markdown",
   "id": "bb0acac9-b058-474c-9fea-8cbadc00f37d",
   "metadata": {},
   "source": [
    "### 5.2 Evaluation with unlabelled dataset"
   ]
  },
  {
   "cell_type": "markdown",
   "id": "7e3ad814-7e75-412c-b4ec-6b661c8e4ac0",
   "metadata": {},
   "source": [
    "If you don't have labels for your dataset, then you can still evaluate your clustering model with some metrics. One of them is **Silhouette Coefficient**."
   ]
  },
  {
   "cell_type": "markdown",
   "id": "7cd7bf96-42a0-4513-b309-492f7a9bd6ab",
   "metadata": {},
   "source": [
    "The best value is 1 and the worst value is -1. \n",
    "\n",
    "Values near 0 indicate overlapping clusters. \n",
    "\n",
    "Negative values generally indicate that a sample has been assigned to the wrong cluster, as a different cluster is more similar."
   ]
  },
  {
   "cell_type": "code",
   "execution_count": 23,
   "id": "2be4f7e2-8529-4bb2-b4f1-963066829dff",
   "metadata": {},
   "outputs": [
    {
     "data": {
      "text/plain": [
       "0.009190345442346363"
      ]
     },
     "execution_count": 23,
     "metadata": {},
     "output_type": "execute_result"
    }
   ],
   "source": [
    "from sklearn.metrics import silhouette_score\n",
    "silhouette_score(features, labels=cls.predict(features))"
   ]
  },
  {
   "cell_type": "markdown",
   "id": "9c70b139-558f-4277-8c98-cf1452b0f38f",
   "metadata": {},
   "source": [
    "So this value means that our clusters are overlapping. We can also see this in the plot above. Perhaps tuning different parameters for feature extractor and the clustering model will increase this score."
   ]
  },
  {
   "cell_type": "markdown",
   "id": "822a3fe6-c891-4ee3-8f64-c33c1180db46",
   "metadata": {},
   "source": [
    "## 6. Conclusion\n",
    "\n",
    "This experiment showed you how to cluster text using KMeans algorithm. You can cluster any kind of data, not just text and can be used for wide variety of problems. While the evaluation of clustering algorithms is not as easy compared to supervised learning models, it is still desirable to get an idea of how your model is performing. However, it is important to know what the metrics are measuring and if they are biased or have any limitations."
   ]
  },
  {
   "cell_type": "markdown",
   "id": "e2f55212-cf60-4751-95b2-5b9db1792041",
   "metadata": {},
   "source": [
    "<font size=2 style=\"color:#BA4A00\">**练习**</font>"
   ]
  },
  {
   "cell_type": "markdown",
   "id": "d7e4ef82-0ac4-4c61-9498-eda37cccf4b0",
   "metadata": {},
   "source": [
    "1. 请将上面使用的数据按照9:1进行划分训练集和测试集合，重复上述实验；\n",
    "\n",
    "2. 使用20newsgroup数据集（可以只使用一部分）进行实验，计算不同K值（类簇数量）对应的聚类评价指标的值，如homogeneity_score，Silhouette Coefficient，或者其他指标，通过多次实验（可以绘制折线图），找出一个最优的K值，scikit-learn内置了20newsgroup数据集，可参考lecture_7的代码导入该数据集；\n",
    "\n",
    "3. 通过互联网查找学习聚类结果评价指标，可参考scikit-learn文档中的示例进行学习:\n",
    "https://scikit-learn.org/stable/modules/classes.html#clustering-metrics"
   ]
  }
 ],
 "metadata": {
  "kernelspec": {
   "display_name": "Python 3 (ipykernel)",
   "language": "python",
   "name": "python3"
  },
  "language_info": {
   "codemirror_mode": {
    "name": "ipython",
    "version": 3
   },
   "file_extension": ".py",
   "mimetype": "text/x-python",
   "name": "python",
   "nbconvert_exporter": "python",
   "pygments_lexer": "ipython3",
   "version": "3.9.7"
  }
 },
 "nbformat": 4,
 "nbformat_minor": 5
}
