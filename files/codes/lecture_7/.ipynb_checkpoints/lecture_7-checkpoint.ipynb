{
 "cells": [
  {
   "cell_type": "markdown",
   "id": "3b3a327e-fa1b-4464-b8a4-e1868a8f0ecf",
   "metadata": {},
   "source": [
    "# <center>7. Learning to Classify Text with Python</center>"
   ]
  },
  {
   "cell_type": "markdown",
   "id": "49c5cca2-67f8-4a49-83e9-9ea2ce31e888",
   "metadata": {},
   "source": [
    "## 1. load the text data and check it"
   ]
  },
  {
   "cell_type": "code",
   "execution_count": 1,
   "id": "a1763a1c-7da3-4abd-a702-5ce8349219ef",
   "metadata": {},
   "outputs": [],
   "source": [
    "# load training dtat\n",
    "from sklearn.datasets import fetch_20newsgroups\n",
    "twenty_train = fetch_20newsgroups(subset='train', shuffle=True)"
   ]
  },
  {
   "cell_type": "code",
   "execution_count": 5,
   "id": "3b12e193-cc3f-45c0-a4aa-4f41c54fcb4f",
   "metadata": {},
   "outputs": [
    {
     "data": {
      "text/plain": [
       "11314"
      ]
     },
     "execution_count": 5,
     "metadata": {},
     "output_type": "execute_result"
    }
   ],
   "source": [
    "# the size of training data\n",
    "len(twenty_train.filenames)"
   ]
  },
  {
   "cell_type": "code",
   "execution_count": 6,
   "id": "46db1006-d81f-42ef-963f-6d82f5e2aee0",
   "metadata": {},
   "outputs": [
    {
     "data": {
      "text/plain": [
       "['alt.atheism',\n",
       " 'comp.graphics',\n",
       " 'comp.os.ms-windows.misc',\n",
       " 'comp.sys.ibm.pc.hardware',\n",
       " 'comp.sys.mac.hardware',\n",
       " 'comp.windows.x',\n",
       " 'misc.forsale',\n",
       " 'rec.autos',\n",
       " 'rec.motorcycles',\n",
       " 'rec.sport.baseball',\n",
       " 'rec.sport.hockey',\n",
       " 'sci.crypt',\n",
       " 'sci.electronics',\n",
       " 'sci.med',\n",
       " 'sci.space',\n",
       " 'soc.religion.christian',\n",
       " 'talk.politics.guns',\n",
       " 'talk.politics.mideast',\n",
       " 'talk.politics.misc',\n",
       " 'talk.religion.misc']"
      ]
     },
     "execution_count": 6,
     "metadata": {},
     "output_type": "execute_result"
    }
   ],
   "source": [
    "# class labels of training data\n",
    "twenty_train.target_names"
   ]
  },
  {
   "cell_type": "code",
   "execution_count": 7,
   "id": "de619c0b-1cc1-4eed-84a1-35c5cf718f8a",
   "metadata": {},
   "outputs": [
    {
     "data": {
      "text/plain": [
       "20"
      ]
     },
     "execution_count": 7,
     "metadata": {},
     "output_type": "execute_result"
    }
   ],
   "source": [
    "# the size of class labels\n",
    "len(twenty_train.target_names)"
   ]
  },
  {
   "cell_type": "code",
   "execution_count": 9,
   "id": "348f42cf-0a15-4d19-b43c-dd31b58a9969",
   "metadata": {},
   "outputs": [
    {
     "data": {
      "text/plain": [
       "list"
      ]
     },
     "execution_count": 9,
     "metadata": {},
     "output_type": "execute_result"
    }
   ],
   "source": [
    "# check the type of training data\n",
    "twenty_train.data.__class__"
   ]
  },
  {
   "cell_type": "code",
   "execution_count": 18,
   "id": "e30b5b84-a44a-4ee9-a37b-2d6b97e0318c",
   "metadata": {},
   "outputs": [
    {
     "name": "stdout",
     "output_type": "stream",
     "text": [
      "From: irwin@cmptrc.lonestar.org (Irwin Arnstein)\n",
      "Subject: Re: Recommendation on Duc\n",
      "Summary: What's it worth?\n",
      "Distribution: usa\n",
      "Expires: Sat, 1 May 1993 05:00:00 GMT\n",
      "Organization: CompuTrac Inc., Richardson TX\n",
      "Keywords: Ducati, GTS, How much? \n",
      "Lines: 13\n",
      "\n",
      "I have a line on a Ducati 900GTS 1978 model with 17k on the clock.  Runs\n",
      "very well, paint is the bronze/brown/orange faded out, leaks a bit of oil\n",
      "and pops out of 1st with hard accel.  The shop will fix trans and oil \n",
      "leak.  They sold the bike to the 1 and only owner.  They want $3495, and\n",
      "I am thinking more like $3K.  Any opinions out there?  Please email me.\n",
      "Thanks.  It would be a nice stable mate to the Beemer.  Then I'll get\n",
      "a jap bike and call myself Axis Motors!\n",
      "\n",
      "-- \n",
      "-----------------------------------------------------------------------\n",
      "\"Tuba\" (Irwin)      \"I honk therefore I am\"     CompuTrac-Richardson,Tx\n",
      "irwin@cmptrc.lonestar.org    DoD #0826          (R75/6)\n",
      "-----------------------------------------------------------------------\n",
      "\n"
     ]
    }
   ],
   "source": [
    "# investigate what the raw text data in the training data,\n",
    "# e.g., input text of the 15th training sample\n",
    "print(twenty_train.data[10])"
   ]
  },
  {
   "cell_type": "code",
   "execution_count": 17,
   "id": "3f0bceb5-243f-4f0f-869d-0b7027bd549e",
   "metadata": {},
   "outputs": [
    {
     "name": "stdout",
     "output_type": "stream",
     "text": [
      "8 rec.motorcycles\n"
     ]
    }
   ],
   "source": [
    "# investigate the label (numerical and textual) of the training data,\n",
    "# e.g., label of the 15th training sample\n",
    "print(twenty_train.target[10],twenty_train.target_names[twenty_train.target[10]])"
   ]
  },
  {
   "cell_type": "markdown",
   "id": "b9d04158-76bd-4bd8-ad72-b565a7c80a4f",
   "metadata": {},
   "source": [
    "## 2. Extract features from raw text"
   ]
  },
  {
   "cell_type": "markdown",
   "id": "747eac3d-cb5d-4121-844d-0fbf937c7353",
   "metadata": {},
   "source": [
    "Text files are actually series of words (ordered). In order to run machine learning algorithms we need to **convert the text files into numerical feature vectors**. We will be using **bag of words** model for our example. "
   ]
  },
  {
   "cell_type": "code",
   "execution_count": null,
   "id": "76f965b7-0f2a-4917-a39c-df746df6d1cd",
   "metadata": {},
   "outputs": [],
   "source": [
    "from sklearn.feature_extraction.text import CountVectorizer\n",
    "count_vect = CountVectorizer()\n",
    "X_train_counts = count_vect.fit_transform(twenty_train.data)\n",
    "X_train_counts.shape"
   ]
  }
 ],
 "metadata": {
  "kernelspec": {
   "display_name": "Python 3 (ipykernel)",
   "language": "python",
   "name": "python3"
  },
  "language_info": {
   "codemirror_mode": {
    "name": "ipython",
    "version": 3
   },
   "file_extension": ".py",
   "mimetype": "text/x-python",
   "name": "python",
   "nbconvert_exporter": "python",
   "pygments_lexer": "ipython3",
   "version": "3.9.7"
  }
 },
 "nbformat": 4,
 "nbformat_minor": 5
}
