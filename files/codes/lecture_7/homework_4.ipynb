{
 "cells": [
  {
   "cell_type": "markdown",
   "id": "3605d12b-1e46-4ff2-9f4b-017e8df78571",
   "metadata": {},
   "source": [
    "<center><font size=5 ><strong>Homework 4</strong></font></center>"
   ]
  },
  {
   "cell_type": "code",
   "execution_count": null,
   "id": "7cdf2c18-546e-43e7-be5b-2cb220a8f9d2",
   "metadata": {},
   "outputs": [],
   "source": []
  },
  {
   "cell_type": "markdown",
   "id": "6075d802-28da-4626-bd91-e23c91a77b18",
   "metadata": {},
   "source": [
    "<div align=center>\n",
    "<img width=\"850\" height=\"350\" src=\"./patterns.jpg\">\n",
    "<br>\n",
    "<center><em><strong>SAFE patterns</strong></em></center>\n",
    "</div>"
   ]
  }
 ],
 "metadata": {
  "kernelspec": {
   "display_name": "Python 3 (ipykernel)",
   "language": "python",
   "name": "python3"
  },
  "language_info": {
   "codemirror_mode": {
    "name": "ipython",
    "version": 3
   },
   "file_extension": ".py",
   "mimetype": "text/x-python",
   "name": "python",
   "nbconvert_exporter": "python",
   "pygments_lexer": "ipython3",
   "version": "3.9.7"
  }
 },
 "nbformat": 4,
 "nbformat_minor": 5
}
