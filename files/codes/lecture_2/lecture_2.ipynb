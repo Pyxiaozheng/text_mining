{
 "cells": [
  {
   "cell_type": "markdown",
   "metadata": {},
   "source": [
    "# 1   Accessing Text Corpora"
   ]
  },
  {
   "cell_type": "markdown",
   "metadata": {},
   "source": [
    "## 1.1   Gutenberg Corpus"
   ]
  },
  {
   "cell_type": "code",
   "execution_count": 1,
   "metadata": {
    "execution": {
     "iopub.execute_input": "2022-03-03T11:42:07.509002Z",
     "iopub.status.busy": "2022-03-03T11:42:07.508654Z",
     "iopub.status.idle": "2022-03-03T11:42:23.339142Z",
     "shell.execute_reply": "2022-03-03T11:42:23.338266Z",
     "shell.execute_reply.started": "2022-03-03T11:42:07.508906Z"
    }
   },
   "outputs": [
    {
     "name": "stdout",
     "output_type": "stream",
     "text": [
      "Looking in indexes: https://mirrors.aliyun.com/pypi/simple/\n",
      "Requirement already satisfied: nltk==3.5 in /usr/local/anaconda3/lib/python3.7/site-packages (3.5)\n",
      "Requirement already satisfied: regex in /usr/local/anaconda3/lib/python3.7/site-packages (from nltk==3.5) (2020.2.20)\n",
      "Requirement already satisfied: joblib in /usr/local/anaconda3/lib/python3.7/site-packages (from nltk==3.5) (0.14.1)\n",
      "Requirement already satisfied: tqdm in /usr/local/anaconda3/lib/python3.7/site-packages (from nltk==3.5) (4.43.0)\n",
      "Requirement already satisfied: click in /usr/local/anaconda3/lib/python3.7/site-packages (from nltk==3.5) (7.0)\n"
     ]
    }
   ],
   "source": [
    "! pip install nltk==3.5"
   ]
  },
  {
   "cell_type": "code",
   "execution_count": 2,
   "metadata": {
    "execution": {
     "iopub.execute_input": "2022-03-03T11:42:23.341454Z",
     "iopub.status.busy": "2022-03-03T11:42:23.341206Z",
     "iopub.status.idle": "2022-03-03T11:42:24.818863Z",
     "shell.execute_reply": "2022-03-03T11:42:24.817703Z",
     "shell.execute_reply.started": "2022-03-03T11:42:23.341426Z"
    }
   },
   "outputs": [],
   "source": [
    "import nltk"
   ]
  },
  {
   "cell_type": "markdown",
   "metadata": {},
   "source": [
    "NLTK includes a small selection of texts from the Project Gutenberg electronic text archive, which contains some 25,000 free electronic books, hosted at http://www.gutenberg.org/."
   ]
  },
  {
   "cell_type": "code",
   "execution_count": 3,
   "metadata": {
    "execution": {
     "iopub.execute_input": "2022-03-03T11:42:24.820703Z",
     "iopub.status.busy": "2022-03-03T11:42:24.820347Z",
     "iopub.status.idle": "2022-03-03T11:42:24.835742Z",
     "shell.execute_reply": "2022-03-03T11:42:24.834942Z",
     "shell.execute_reply.started": "2022-03-03T11:42:24.820659Z"
    }
   },
   "outputs": [
    {
     "data": {
      "text/plain": [
       "['austen-emma.txt',\n",
       " 'austen-persuasion.txt',\n",
       " 'austen-sense.txt',\n",
       " 'bible-kjv.txt',\n",
       " 'blake-poems.txt',\n",
       " 'bryant-stories.txt',\n",
       " 'burgess-busterbrown.txt',\n",
       " 'carroll-alice.txt',\n",
       " 'chesterton-ball.txt',\n",
       " 'chesterton-brown.txt',\n",
       " 'chesterton-thursday.txt',\n",
       " 'edgeworth-parents.txt',\n",
       " 'melville-moby_dick.txt',\n",
       " 'milton-paradise.txt',\n",
       " 'shakespeare-caesar.txt',\n",
       " 'shakespeare-hamlet.txt',\n",
       " 'shakespeare-macbeth.txt',\n",
       " 'whitman-leaves.txt']"
      ]
     },
     "execution_count": 3,
     "metadata": {},
     "output_type": "execute_result"
    }
   ],
   "source": [
    "# the file identifiers in this corpus\n",
    "nltk.corpus.gutenberg.fileids()"
   ]
  },
  {
   "cell_type": "code",
   "execution_count": 4,
   "metadata": {
    "execution": {
     "iopub.execute_input": "2022-03-03T11:42:24.837935Z",
     "iopub.status.busy": "2022-03-03T11:42:24.837502Z",
     "iopub.status.idle": "2022-03-03T11:42:24.843305Z",
     "shell.execute_reply": "2022-03-03T11:42:24.842466Z",
     "shell.execute_reply.started": "2022-03-03T11:42:24.837898Z"
    }
   },
   "outputs": [],
   "source": [
    "emma = nltk.corpus.gutenberg.words('austen-emma.txt')"
   ]
  },
  {
   "cell_type": "code",
   "execution_count": 5,
   "metadata": {
    "execution": {
     "iopub.execute_input": "2022-03-03T11:42:24.844786Z",
     "iopub.status.busy": "2022-03-03T11:42:24.844451Z",
     "iopub.status.idle": "2022-03-03T11:42:25.104167Z",
     "shell.execute_reply": "2022-03-03T11:42:25.103368Z",
     "shell.execute_reply.started": "2022-03-03T11:42:24.844752Z"
    }
   },
   "outputs": [
    {
     "data": {
      "text/plain": [
       "192427"
      ]
     },
     "execution_count": 5,
     "metadata": {},
     "output_type": "execute_result"
    }
   ],
   "source": [
    "len(emma)"
   ]
  },
  {
   "cell_type": "markdown",
   "metadata": {},
   "source": [
    "Now that you have started examining data from `nltk.corpus`, you have to employ the following pair of statements to perform concordancing and other tasks from chapter 1:"
   ]
  },
  {
   "cell_type": "code",
   "execution_count": 6,
   "metadata": {
    "execution": {
     "iopub.execute_input": "2022-03-03T11:42:25.105511Z",
     "iopub.status.busy": "2022-03-03T11:42:25.105277Z",
     "iopub.status.idle": "2022-03-03T11:42:25.620768Z",
     "shell.execute_reply": "2022-03-03T11:42:25.620088Z",
     "shell.execute_reply.started": "2022-03-03T11:42:25.105476Z"
    }
   },
   "outputs": [],
   "source": [
    "emma = nltk.Text(nltk.corpus.gutenberg.words('austen-emma.txt'))"
   ]
  },
  {
   "cell_type": "code",
   "execution_count": 7,
   "metadata": {
    "execution": {
     "iopub.execute_input": "2022-03-03T11:42:25.622434Z",
     "iopub.status.busy": "2022-03-03T11:42:25.622014Z",
     "iopub.status.idle": "2022-03-03T11:42:25.756329Z",
     "shell.execute_reply": "2022-03-03T11:42:25.755466Z",
     "shell.execute_reply.started": "2022-03-03T11:42:25.622384Z"
    }
   },
   "outputs": [
    {
     "name": "stdout",
     "output_type": "stream",
     "text": [
      "Displaying 25 of 37 matches:\n",
      "er father , was sometimes taken by surprize at his being still able to pity ` \n",
      "hem do the other any good .\" \" You surprize me ! Emma must do Harriet good : a\n",
      "Knightley actually looked red with surprize and displeasure , as he stood up ,\n",
      "r . Elton , and found to his great surprize , that Mr . Elton was actually on \n",
      "d aid .\" Emma saw Mrs . Weston ' s surprize , and felt that it must be great ,\n",
      "father was quite taken up with the surprize of so sudden a journey , and his f\n",
      "y , in all the favouring warmth of surprize and conjecture . She was , moreove\n",
      "he appeared , to have her share of surprize , introduction , and pleasure . Th\n",
      "ir plans ; and it was an agreeable surprize to her , therefore , to perceive t\n",
      "talking aunt had taken me quite by surprize , it must have been the death of m\n",
      "f all the dialogue which ensued of surprize , and inquiry , and congratulation\n",
      " the present . They might chuse to surprize her .\" Mrs . Cole had many to agre\n",
      "the mode of it , the mystery , the surprize , is more like a young woman ' s s\n",
      " to her song took her agreeably by surprize -- a second , slightly but correct\n",
      "\" \" Oh ! no -- there is nothing to surprize one at all .-- A pretty fortune ; \n",
      "t to be considered . Emma ' s only surprize was that Jane Fairfax should accep\n",
      "of your admiration may take you by surprize some day or other .\" Mr . Knightle\n",
      "ation for her will ever take me by surprize .-- I never had a thought of her i\n",
      " expected by the best judges , for surprize -- but there was great joy . Mr . \n",
      " sound of at first , without great surprize . \" So unreasonably early !\" she w\n",
      "d Frank Churchill , with a look of surprize and displeasure .-- \" That is easy\n",
      "; and Emma could imagine with what surprize and mortification she must be retu\n",
      "tled that Jane should go . Quite a surprize to me ! I had not the least idea !\n",
      " . It is impossible to express our surprize . He came to speak to his father o\n",
      "g engaged !\" Emma even jumped with surprize ;-- and , horror - struck , exclai\n"
     ]
    }
   ],
   "source": [
    "emma.concordance(\"surprize\")"
   ]
  },
  {
   "cell_type": "markdown",
   "metadata": {},
   "source": [
    "Another way to import something in Python"
   ]
  },
  {
   "cell_type": "code",
   "execution_count": 8,
   "metadata": {
    "execution": {
     "iopub.execute_input": "2022-03-03T11:42:25.757848Z",
     "iopub.status.busy": "2022-03-03T11:42:25.757587Z",
     "iopub.status.idle": "2022-03-03T11:42:25.761758Z",
     "shell.execute_reply": "2022-03-03T11:42:25.760869Z",
     "shell.execute_reply.started": "2022-03-03T11:42:25.757790Z"
    }
   },
   "outputs": [],
   "source": [
    "from nltk.corpus import gutenberg"
   ]
  },
  {
   "cell_type": "code",
   "execution_count": 9,
   "metadata": {
    "execution": {
     "iopub.execute_input": "2022-03-03T11:42:25.763717Z",
     "iopub.status.busy": "2022-03-03T11:42:25.763027Z",
     "iopub.status.idle": "2022-03-03T11:42:25.778186Z",
     "shell.execute_reply": "2022-03-03T11:42:25.777158Z",
     "shell.execute_reply.started": "2022-03-03T11:42:25.763681Z"
    }
   },
   "outputs": [
    {
     "data": {
      "text/plain": [
       "['austen-emma.txt',\n",
       " 'austen-persuasion.txt',\n",
       " 'austen-sense.txt',\n",
       " 'bible-kjv.txt',\n",
       " 'blake-poems.txt',\n",
       " 'bryant-stories.txt',\n",
       " 'burgess-busterbrown.txt',\n",
       " 'carroll-alice.txt',\n",
       " 'chesterton-ball.txt',\n",
       " 'chesterton-brown.txt',\n",
       " 'chesterton-thursday.txt',\n",
       " 'edgeworth-parents.txt',\n",
       " 'melville-moby_dick.txt',\n",
       " 'milton-paradise.txt',\n",
       " 'shakespeare-caesar.txt',\n",
       " 'shakespeare-hamlet.txt',\n",
       " 'shakespeare-macbeth.txt',\n",
       " 'whitman-leaves.txt']"
      ]
     },
     "execution_count": 9,
     "metadata": {},
     "output_type": "execute_result"
    }
   ],
   "source": [
    "gutenberg.fileids()"
   ]
  },
  {
   "cell_type": "code",
   "execution_count": 10,
   "metadata": {
    "execution": {
     "iopub.execute_input": "2022-03-03T11:42:25.782085Z",
     "iopub.status.busy": "2022-03-03T11:42:25.781736Z",
     "iopub.status.idle": "2022-03-03T11:42:25.803069Z",
     "shell.execute_reply": "2022-03-03T11:42:25.802233Z",
     "shell.execute_reply.started": "2022-03-03T11:42:25.782052Z"
    }
   },
   "outputs": [],
   "source": [
    "emma = gutenberg.words('austen-emma.txt')"
   ]
  },
  {
   "cell_type": "markdown",
   "metadata": {},
   "source": [
    "Display other information about each text, by looping over all the values of fileid"
   ]
  },
  {
   "cell_type": "code",
   "execution_count": 11,
   "metadata": {
    "execution": {
     "iopub.execute_input": "2022-03-03T11:42:25.805754Z",
     "iopub.status.busy": "2022-03-03T11:42:25.804804Z",
     "iopub.status.idle": "2022-03-03T11:42:41.304916Z",
     "shell.execute_reply": "2022-03-03T11:42:41.304053Z",
     "shell.execute_reply.started": "2022-03-03T11:42:25.805706Z"
    }
   },
   "outputs": [
    {
     "name": "stdout",
     "output_type": "stream",
     "text": [
      "5 25 26 austen-emma.txt\n",
      "5 26 17 austen-persuasion.txt\n",
      "5 28 22 austen-sense.txt\n",
      "4 34 79 bible-kjv.txt\n",
      "5 19 5 blake-poems.txt\n",
      "4 19 14 bryant-stories.txt\n",
      "4 18 12 burgess-busterbrown.txt\n",
      "4 20 13 carroll-alice.txt\n",
      "5 20 12 chesterton-ball.txt\n",
      "5 23 11 chesterton-brown.txt\n",
      "5 18 11 chesterton-thursday.txt\n",
      "4 21 25 edgeworth-parents.txt\n",
      "5 26 15 melville-moby_dick.txt\n",
      "5 52 11 milton-paradise.txt\n",
      "4 12 9 shakespeare-caesar.txt\n",
      "4 12 8 shakespeare-hamlet.txt\n",
      "4 12 7 shakespeare-macbeth.txt\n",
      "5 36 12 whitman-leaves.txt\n"
     ]
    }
   ],
   "source": [
    "for fileid in gutenberg.fileids():\n",
    "    num_chars = len(gutenberg.raw(fileid))\n",
    "    num_words = len(gutenberg.words(fileid))\n",
    "    num_sents = len(gutenberg.sents(fileid))\n",
    "    num_vocab = len(set(w.lower() for w in gutenberg.words(fileid)))\n",
    "    print(round(num_chars/num_words), round(num_words/num_sents), round(num_words/num_vocab), fileid)"
   ]
  },
  {
   "cell_type": "markdown",
   "metadata": {},
   "source": [
    "Observe that average word length appears to be a general property of English, since it has a recurrent value of 4. (In fact, the average word length is really 3 not 4, since the num_chars variable counts space characters.) By contrast average sentence length and lexical diversity appear to be characteristics of particular authors."
   ]
  },
  {
   "cell_type": "markdown",
   "metadata": {},
   "source": [
    "Access the text in various ways as follows:"
   ]
  },
  {
   "cell_type": "code",
   "execution_count": 12,
   "metadata": {
    "execution": {
     "iopub.execute_input": "2022-03-03T11:42:41.306421Z",
     "iopub.status.busy": "2022-03-03T11:42:41.306179Z",
     "iopub.status.idle": "2022-03-03T11:42:41.310551Z",
     "shell.execute_reply": "2022-03-03T11:42:41.309934Z",
     "shell.execute_reply.started": "2022-03-03T11:42:41.306391Z"
    }
   },
   "outputs": [],
   "source": [
    "macbeth_sentences = gutenberg.sents('shakespeare-macbeth.txt')"
   ]
  },
  {
   "cell_type": "code",
   "execution_count": 13,
   "metadata": {
    "execution": {
     "iopub.execute_input": "2022-03-03T11:42:41.311713Z",
     "iopub.status.busy": "2022-03-03T11:42:41.311475Z",
     "iopub.status.idle": "2022-03-03T11:42:41.330001Z",
     "shell.execute_reply": "2022-03-03T11:42:41.328991Z",
     "shell.execute_reply.started": "2022-03-03T11:42:41.311684Z"
    }
   },
   "outputs": [
    {
     "data": {
      "text/plain": [
       "[['[', 'The', 'Tragedie', 'of', 'Macbeth', 'by', 'William', 'Shakespeare', '1603', ']'], ['Actus', 'Primus', '.'], ...]"
      ]
     },
     "execution_count": 13,
     "metadata": {},
     "output_type": "execute_result"
    }
   ],
   "source": [
    "macbeth_sentences"
   ]
  },
  {
   "cell_type": "code",
   "execution_count": 14,
   "metadata": {
    "execution": {
     "iopub.execute_input": "2022-03-03T11:42:41.332251Z",
     "iopub.status.busy": "2022-03-03T11:42:41.331925Z",
     "iopub.status.idle": "2022-03-03T11:42:41.408143Z",
     "shell.execute_reply": "2022-03-03T11:42:41.407135Z",
     "shell.execute_reply.started": "2022-03-03T11:42:41.332213Z"
    }
   },
   "outputs": [
    {
     "data": {
      "text/plain": [
       "['Double',\n",
       " ',',\n",
       " 'double',\n",
       " ',',\n",
       " 'toile',\n",
       " 'and',\n",
       " 'trouble',\n",
       " ';',\n",
       " 'Fire',\n",
       " 'burne',\n",
       " ',',\n",
       " 'and',\n",
       " 'Cauldron',\n",
       " 'bubble']"
      ]
     },
     "execution_count": 14,
     "metadata": {},
     "output_type": "execute_result"
    }
   ],
   "source": [
    "macbeth_sentences[1116]"
   ]
  },
  {
   "cell_type": "code",
   "execution_count": 15,
   "metadata": {
    "execution": {
     "iopub.execute_input": "2022-03-03T11:42:41.409763Z",
     "iopub.status.busy": "2022-03-03T11:42:41.409529Z",
     "iopub.status.idle": "2022-03-03T11:42:41.520691Z",
     "shell.execute_reply": "2022-03-03T11:42:41.519852Z",
     "shell.execute_reply.started": "2022-03-03T11:42:41.409735Z"
    }
   },
   "outputs": [],
   "source": [
    "longest_len = max(len(s) for s in macbeth_sentences)"
   ]
  },
  {
   "cell_type": "code",
   "execution_count": 16,
   "metadata": {
    "execution": {
     "iopub.execute_input": "2022-03-03T11:42:41.522505Z",
     "iopub.status.busy": "2022-03-03T11:42:41.522287Z",
     "iopub.status.idle": "2022-03-03T11:42:41.529117Z",
     "shell.execute_reply": "2022-03-03T11:42:41.528296Z",
     "shell.execute_reply.started": "2022-03-03T11:42:41.522478Z"
    }
   },
   "outputs": [
    {
     "data": {
      "text/plain": [
       "158"
      ]
     },
     "execution_count": 16,
     "metadata": {},
     "output_type": "execute_result"
    }
   ],
   "source": [
    "longest_len"
   ]
  },
  {
   "cell_type": "markdown",
   "metadata": {},
   "source": [
    "Find the sentences with largest length"
   ]
  },
  {
   "cell_type": "code",
   "execution_count": 17,
   "metadata": {
    "execution": {
     "iopub.execute_input": "2022-03-03T11:42:41.530717Z",
     "iopub.status.busy": "2022-03-03T11:42:41.530505Z",
     "iopub.status.idle": "2022-03-03T11:42:41.648849Z",
     "shell.execute_reply": "2022-03-03T11:42:41.647941Z",
     "shell.execute_reply.started": "2022-03-03T11:42:41.530692Z"
    }
   },
   "outputs": [
    {
     "data": {
      "text/plain": [
       "[['Doubtfull',\n",
       "  'it',\n",
       "  'stood',\n",
       "  ',',\n",
       "  'As',\n",
       "  'two',\n",
       "  'spent',\n",
       "  'Swimmers',\n",
       "  ',',\n",
       "  'that',\n",
       "  'doe',\n",
       "  'cling',\n",
       "  'together',\n",
       "  ',',\n",
       "  'And',\n",
       "  'choake',\n",
       "  'their',\n",
       "  'Art',\n",
       "  ':',\n",
       "  'The',\n",
       "  'mercilesse',\n",
       "  'Macdonwald',\n",
       "  '(',\n",
       "  'Worthie',\n",
       "  'to',\n",
       "  'be',\n",
       "  'a',\n",
       "  'Rebell',\n",
       "  ',',\n",
       "  'for',\n",
       "  'to',\n",
       "  'that',\n",
       "  'The',\n",
       "  'multiplying',\n",
       "  'Villanies',\n",
       "  'of',\n",
       "  'Nature',\n",
       "  'Doe',\n",
       "  'swarme',\n",
       "  'vpon',\n",
       "  'him',\n",
       "  ')',\n",
       "  'from',\n",
       "  'the',\n",
       "  'Westerne',\n",
       "  'Isles',\n",
       "  'Of',\n",
       "  'Kernes',\n",
       "  'and',\n",
       "  'Gallowgrosses',\n",
       "  'is',\n",
       "  'supply',\n",
       "  \"'\",\n",
       "  'd',\n",
       "  ',',\n",
       "  'And',\n",
       "  'Fortune',\n",
       "  'on',\n",
       "  'his',\n",
       "  'damned',\n",
       "  'Quarry',\n",
       "  'smiling',\n",
       "  ',',\n",
       "  'Shew',\n",
       "  \"'\",\n",
       "  'd',\n",
       "  'like',\n",
       "  'a',\n",
       "  'Rebells',\n",
       "  'Whore',\n",
       "  ':',\n",
       "  'but',\n",
       "  'all',\n",
       "  \"'\",\n",
       "  's',\n",
       "  'too',\n",
       "  'weake',\n",
       "  ':',\n",
       "  'For',\n",
       "  'braue',\n",
       "  'Macbeth',\n",
       "  '(',\n",
       "  'well',\n",
       "  'hee',\n",
       "  'deserues',\n",
       "  'that',\n",
       "  'Name',\n",
       "  ')',\n",
       "  'Disdayning',\n",
       "  'Fortune',\n",
       "  ',',\n",
       "  'with',\n",
       "  'his',\n",
       "  'brandisht',\n",
       "  'Steele',\n",
       "  ',',\n",
       "  'Which',\n",
       "  'smoak',\n",
       "  \"'\",\n",
       "  'd',\n",
       "  'with',\n",
       "  'bloody',\n",
       "  'execution',\n",
       "  '(',\n",
       "  'Like',\n",
       "  'Valours',\n",
       "  'Minion',\n",
       "  ')',\n",
       "  'caru',\n",
       "  \"'\",\n",
       "  'd',\n",
       "  'out',\n",
       "  'his',\n",
       "  'passage',\n",
       "  ',',\n",
       "  'Till',\n",
       "  'hee',\n",
       "  'fac',\n",
       "  \"'\",\n",
       "  'd',\n",
       "  'the',\n",
       "  'Slaue',\n",
       "  ':',\n",
       "  'Which',\n",
       "  'neu',\n",
       "  \"'\",\n",
       "  'r',\n",
       "  'shooke',\n",
       "  'hands',\n",
       "  ',',\n",
       "  'nor',\n",
       "  'bad',\n",
       "  'farwell',\n",
       "  'to',\n",
       "  'him',\n",
       "  ',',\n",
       "  'Till',\n",
       "  'he',\n",
       "  'vnseam',\n",
       "  \"'\",\n",
       "  'd',\n",
       "  'him',\n",
       "  'from',\n",
       "  'the',\n",
       "  'Naue',\n",
       "  'toth',\n",
       "  \"'\",\n",
       "  'Chops',\n",
       "  ',',\n",
       "  'And',\n",
       "  'fix',\n",
       "  \"'\",\n",
       "  'd',\n",
       "  'his',\n",
       "  'Head',\n",
       "  'vpon',\n",
       "  'our',\n",
       "  'Battlements']]"
      ]
     },
     "execution_count": 17,
     "metadata": {},
     "output_type": "execute_result"
    }
   ],
   "source": [
    "[s for s in macbeth_sentences if len(s) == longest_len]"
   ]
  },
  {
   "cell_type": "markdown",
   "metadata": {},
   "source": [
    "Most NLTK corpus readers include a variety of access methods apart from words(), raw(), and sents(). Richer linguistic content is available from some corpora, such as part-of-speech tags, dialogue tags, syntactic trees, and so forth; we will see these in later chapters."
   ]
  },
  {
   "cell_type": "markdown",
   "metadata": {},
   "source": [
    "## 1.2   Web and Chat Text"
   ]
  },
  {
   "cell_type": "markdown",
   "metadata": {},
   "source": [
    "Although Project Gutenberg contains thousands of books, it represents established literature. It is important to consider less formal language as well. "
   ]
  },
  {
   "cell_type": "markdown",
   "metadata": {},
   "source": [
    "NLTK's small collection of web text includes content from a Firefox discussion forum, conversations overheard in New York, the movie script of Pirates of the Carribean, personal advertisements, and wine reviews"
   ]
  },
  {
   "cell_type": "code",
   "execution_count": 18,
   "metadata": {
    "execution": {
     "iopub.execute_input": "2022-03-03T11:42:41.650475Z",
     "iopub.status.busy": "2022-03-03T11:42:41.650255Z",
     "iopub.status.idle": "2022-03-03T11:42:41.655391Z",
     "shell.execute_reply": "2022-03-03T11:42:41.654054Z",
     "shell.execute_reply.started": "2022-03-03T11:42:41.650449Z"
    }
   },
   "outputs": [],
   "source": [
    "from nltk.corpus import webtext"
   ]
  },
  {
   "cell_type": "code",
   "execution_count": 19,
   "metadata": {
    "execution": {
     "iopub.execute_input": "2022-03-03T11:42:41.657099Z",
     "iopub.status.busy": "2022-03-03T11:42:41.656748Z",
     "iopub.status.idle": "2022-03-03T11:42:41.693788Z",
     "shell.execute_reply": "2022-03-03T11:42:41.692913Z",
     "shell.execute_reply.started": "2022-03-03T11:42:41.657070Z"
    }
   },
   "outputs": [
    {
     "name": "stdout",
     "output_type": "stream",
     "text": [
      "firefox.txt Cookie Manager: \"Don't allow sites that set removed cookies to se ...\n",
      "grail.txt SCENE 1: [wind] [clop clop clop] \n",
      "KING ARTHUR: Whoa there!  [clop ...\n",
      "overheard.txt White guy: So, do you have any plans for this evening?\n",
      "Asian girl ...\n",
      "pirates.txt PIRATES OF THE CARRIBEAN: DEAD MAN'S CHEST, by Ted Elliott & Terr ...\n",
      "singles.txt 25 SEXY MALE, seeks attrac older single lady, for discreet encoun ...\n",
      "wine.txt Lovely delicate, fragrant Rhone wine. Polished leather and strawb ...\n"
     ]
    }
   ],
   "source": [
    "for fileid in webtext.fileids():\n",
    "    print(fileid, webtext.raw(fileid)[:65], '...')"
   ]
  },
  {
   "cell_type": "markdown",
   "metadata": {},
   "source": [
    "There is also a corpus of instant messaging chat sessions, originally collected by the Naval Postgraduate School for research on automatic detection of Internet predators. The corpus contains over 10,000 posts, anonymized by replacing usernames with generic names of the form \"UserNNN\", and manually edited to remove any other identifying information."
   ]
  },
  {
   "cell_type": "markdown",
   "metadata": {},
   "source": [
    "e.g., `10-19-20s_706posts.xml` contains 706 posts gathered from the 20s chat room on 10/19/2006."
   ]
  },
  {
   "cell_type": "code",
   "execution_count": 20,
   "metadata": {
    "execution": {
     "iopub.execute_input": "2022-03-03T11:42:41.695690Z",
     "iopub.status.busy": "2022-03-03T11:42:41.695372Z",
     "iopub.status.idle": "2022-03-03T11:42:41.699939Z",
     "shell.execute_reply": "2022-03-03T11:42:41.699096Z",
     "shell.execute_reply.started": "2022-03-03T11:42:41.695647Z"
    }
   },
   "outputs": [],
   "source": [
    "from nltk.corpus import nps_chat"
   ]
  },
  {
   "cell_type": "code",
   "execution_count": 21,
   "metadata": {
    "execution": {
     "iopub.execute_input": "2022-03-03T11:42:41.701761Z",
     "iopub.status.busy": "2022-03-03T11:42:41.701382Z",
     "iopub.status.idle": "2022-03-03T11:42:41.717981Z",
     "shell.execute_reply": "2022-03-03T11:42:41.717004Z",
     "shell.execute_reply.started": "2022-03-03T11:42:41.701724Z"
    }
   },
   "outputs": [],
   "source": [
    "chatroom = nps_chat.posts('10-19-20s_706posts.xml')"
   ]
  },
  {
   "cell_type": "code",
   "execution_count": 22,
   "metadata": {
    "execution": {
     "iopub.execute_input": "2022-03-03T11:42:41.720276Z",
     "iopub.status.busy": "2022-03-03T11:42:41.719707Z",
     "iopub.status.idle": "2022-03-03T11:42:41.743057Z",
     "shell.execute_reply": "2022-03-03T11:42:41.742361Z",
     "shell.execute_reply.started": "2022-03-03T11:42:41.720242Z"
    }
   },
   "outputs": [
    {
     "data": {
      "text/plain": [
       "['i',\n",
       " 'do',\n",
       " \"n't\",\n",
       " 'want',\n",
       " 'hot',\n",
       " 'pics',\n",
       " 'of',\n",
       " 'a',\n",
       " 'female',\n",
       " ',',\n",
       " 'I',\n",
       " 'can',\n",
       " 'look',\n",
       " 'in',\n",
       " 'a',\n",
       " 'mirror',\n",
       " '.']"
      ]
     },
     "execution_count": 22,
     "metadata": {},
     "output_type": "execute_result"
    }
   ],
   "source": [
    "chatroom[123]"
   ]
  },
  {
   "cell_type": "markdown",
   "metadata": {},
   "source": [
    "## 1.3   Brown Corpus"
   ]
  },
  {
   "cell_type": "markdown",
   "metadata": {},
   "source": [
    "The Brown Corpus was the first million-word electronic corpus of English, created in 1961 at Brown University. This corpus contains text from 500 sources, and the sources have been categorized by genre, such as news, editorial, and so on."
   ]
  },
  {
   "cell_type": "markdown",
   "metadata": {},
   "source": [
    "We can access the corpus as a list of words, or a list of sentences (where each sentence is itself just a list of words). We can optionally specify particular categories or files to read:"
   ]
  },
  {
   "cell_type": "code",
   "execution_count": 23,
   "metadata": {
    "execution": {
     "iopub.execute_input": "2022-03-03T11:42:41.744666Z",
     "iopub.status.busy": "2022-03-03T11:42:41.744427Z",
     "iopub.status.idle": "2022-03-03T11:42:41.748543Z",
     "shell.execute_reply": "2022-03-03T11:42:41.747681Z",
     "shell.execute_reply.started": "2022-03-03T11:42:41.744636Z"
    }
   },
   "outputs": [],
   "source": [
    "from nltk.corpus import brown"
   ]
  },
  {
   "cell_type": "code",
   "execution_count": 24,
   "metadata": {
    "execution": {
     "iopub.execute_input": "2022-03-03T11:42:41.750597Z",
     "iopub.status.busy": "2022-03-03T11:42:41.749957Z",
     "iopub.status.idle": "2022-03-03T11:42:41.774183Z",
     "shell.execute_reply": "2022-03-03T11:42:41.773304Z",
     "shell.execute_reply.started": "2022-03-03T11:42:41.750548Z"
    }
   },
   "outputs": [
    {
     "data": {
      "text/plain": [
       "['adventure',\n",
       " 'belles_lettres',\n",
       " 'editorial',\n",
       " 'fiction',\n",
       " 'government',\n",
       " 'hobbies',\n",
       " 'humor',\n",
       " 'learned',\n",
       " 'lore',\n",
       " 'mystery',\n",
       " 'news',\n",
       " 'religion',\n",
       " 'reviews',\n",
       " 'romance',\n",
       " 'science_fiction']"
      ]
     },
     "execution_count": 24,
     "metadata": {},
     "output_type": "execute_result"
    }
   ],
   "source": [
    "brown.categories()"
   ]
  },
  {
   "cell_type": "code",
   "execution_count": 25,
   "metadata": {
    "execution": {
     "iopub.execute_input": "2022-03-03T11:42:41.775548Z",
     "iopub.status.busy": "2022-03-03T11:42:41.775307Z",
     "iopub.status.idle": "2022-03-03T11:42:41.784384Z",
     "shell.execute_reply": "2022-03-03T11:42:41.783502Z",
     "shell.execute_reply.started": "2022-03-03T11:42:41.775519Z"
    }
   },
   "outputs": [
    {
     "data": {
      "text/plain": [
       "['The', 'Fulton', 'County', 'Grand', 'Jury', 'said', ...]"
      ]
     },
     "execution_count": 25,
     "metadata": {},
     "output_type": "execute_result"
    }
   ],
   "source": [
    "brown.words(categories='news')"
   ]
  },
  {
   "cell_type": "code",
   "execution_count": 26,
   "metadata": {
    "execution": {
     "iopub.execute_input": "2022-03-03T11:42:41.786081Z",
     "iopub.status.busy": "2022-03-03T11:42:41.785421Z",
     "iopub.status.idle": "2022-03-03T11:42:41.798201Z",
     "shell.execute_reply": "2022-03-03T11:42:41.797613Z",
     "shell.execute_reply.started": "2022-03-03T11:42:41.786042Z"
    }
   },
   "outputs": [
    {
     "data": {
      "text/plain": [
       "['Does', 'our', 'society', 'have', 'a', 'runaway', ',', ...]"
      ]
     },
     "execution_count": 26,
     "metadata": {},
     "output_type": "execute_result"
    }
   ],
   "source": [
    "brown.words(fileids=['cg22'])"
   ]
  },
  {
   "cell_type": "code",
   "execution_count": 27,
   "metadata": {
    "execution": {
     "iopub.execute_input": "2022-03-03T11:42:41.799652Z",
     "iopub.status.busy": "2022-03-03T11:42:41.799407Z",
     "iopub.status.idle": "2022-03-03T11:42:41.811695Z",
     "shell.execute_reply": "2022-03-03T11:42:41.811036Z",
     "shell.execute_reply.started": "2022-03-03T11:42:41.799622Z"
    }
   },
   "outputs": [
    {
     "data": {
      "text/plain": [
       "[['The', 'Fulton', 'County', 'Grand', 'Jury', 'said', 'Friday', 'an', 'investigation', 'of', \"Atlanta's\", 'recent', 'primary', 'election', 'produced', '``', 'no', 'evidence', \"''\", 'that', 'any', 'irregularities', 'took', 'place', '.'], ['The', 'jury', 'further', 'said', 'in', 'term-end', 'presentments', 'that', 'the', 'City', 'Executive', 'Committee', ',', 'which', 'had', 'over-all', 'charge', 'of', 'the', 'election', ',', '``', 'deserves', 'the', 'praise', 'and', 'thanks', 'of', 'the', 'City', 'of', 'Atlanta', \"''\", 'for', 'the', 'manner', 'in', 'which', 'the', 'election', 'was', 'conducted', '.'], ...]"
      ]
     },
     "execution_count": 27,
     "metadata": {},
     "output_type": "execute_result"
    }
   ],
   "source": [
    "brown.sents(categories=['news', 'editorial', 'reviews'])"
   ]
  },
  {
   "cell_type": "markdown",
   "metadata": {},
   "source": [
    "The Brown Corpus is a convenient resource for studying systematic differences between genres, a kind of linguistic inquiry known as stylistics (文体学). Let's compare genres in their usage of modal verbs. "
   ]
  },
  {
   "cell_type": "code",
   "execution_count": 28,
   "metadata": {
    "execution": {
     "iopub.execute_input": "2022-03-03T11:42:41.817333Z",
     "iopub.status.busy": "2022-03-03T11:42:41.817028Z",
     "iopub.status.idle": "2022-03-03T11:42:41.825180Z",
     "shell.execute_reply": "2022-03-03T11:42:41.824321Z",
     "shell.execute_reply.started": "2022-03-03T11:42:41.817302Z"
    }
   },
   "outputs": [],
   "source": [
    "import nltk\n",
    "from nltk.corpus import brown"
   ]
  },
  {
   "cell_type": "code",
   "execution_count": 29,
   "metadata": {
    "execution": {
     "iopub.execute_input": "2022-03-03T11:42:41.826616Z",
     "iopub.status.busy": "2022-03-03T11:42:41.826383Z",
     "iopub.status.idle": "2022-03-03T11:42:41.840784Z",
     "shell.execute_reply": "2022-03-03T11:42:41.839882Z",
     "shell.execute_reply.started": "2022-03-03T11:42:41.826589Z"
    }
   },
   "outputs": [],
   "source": [
    "news_text = brown.words(categories='news')"
   ]
  },
  {
   "cell_type": "code",
   "execution_count": 30,
   "metadata": {
    "execution": {
     "iopub.execute_input": "2022-03-03T11:42:41.843060Z",
     "iopub.status.busy": "2022-03-03T11:42:41.842415Z",
     "iopub.status.idle": "2022-03-03T11:42:42.309714Z",
     "shell.execute_reply": "2022-03-03T11:42:42.308679Z",
     "shell.execute_reply.started": "2022-03-03T11:42:41.843011Z"
    }
   },
   "outputs": [],
   "source": [
    "fdist = nltk.FreqDist(w.lower() for w in news_text)"
   ]
  },
  {
   "cell_type": "code",
   "execution_count": 31,
   "metadata": {
    "execution": {
     "iopub.execute_input": "2022-03-03T11:42:42.311129Z",
     "iopub.status.busy": "2022-03-03T11:42:42.310899Z",
     "iopub.status.idle": "2022-03-03T11:42:42.315689Z",
     "shell.execute_reply": "2022-03-03T11:42:42.314758Z",
     "shell.execute_reply.started": "2022-03-03T11:42:42.311102Z"
    }
   },
   "outputs": [],
   "source": [
    "modals = ['can', 'could', 'may', 'might', 'must', 'will']"
   ]
  },
  {
   "cell_type": "code",
   "execution_count": 32,
   "metadata": {
    "execution": {
     "iopub.execute_input": "2022-03-03T11:42:42.317150Z",
     "iopub.status.busy": "2022-03-03T11:42:42.316915Z",
     "iopub.status.idle": "2022-03-03T11:42:42.329870Z",
     "shell.execute_reply": "2022-03-03T11:42:42.329169Z",
     "shell.execute_reply.started": "2022-03-03T11:42:42.317108Z"
    }
   },
   "outputs": [
    {
     "name": "stdout",
     "output_type": "stream",
     "text": [
      "can: 94 could: 87 may: 93 might: 38 must: 53 will: 389 "
     ]
    }
   ],
   "source": [
    "for m in modals:\n",
    "    print(m + ':', fdist[m], end=' ')"
   ]
  },
  {
   "cell_type": "markdown",
   "metadata": {},
   "source": [
    "### <span style=\"color:blue\">*Your Turn*</span>\n",
    "\n",
    "Choose a different section of the Brown Corpus, and adapt the previous example to count a selection of wh words, such as what, when, where, who, and why."
   ]
  },
  {
   "cell_type": "markdown",
   "metadata": {},
   "source": [
    "Next, we need to obtain counts for each genre of interest. We'll use NLTK's support for **conditional frequency distributions**."
   ]
  },
  {
   "cell_type": "code",
   "execution_count": 33,
   "metadata": {
    "execution": {
     "iopub.execute_input": "2022-03-03T11:42:42.332193Z",
     "iopub.status.busy": "2022-03-03T11:42:42.331508Z",
     "iopub.status.idle": "2022-03-03T11:42:47.506365Z",
     "shell.execute_reply": "2022-03-03T11:42:47.505201Z",
     "shell.execute_reply.started": "2022-03-03T11:42:42.332145Z"
    }
   },
   "outputs": [],
   "source": [
    "cfd = nltk.ConditionalFreqDist(\n",
    "    (genre, word)\n",
    "    for genre in brown.categories()\n",
    "    for word in brown.words(categories=genre))"
   ]
  },
  {
   "cell_type": "code",
   "execution_count": 34,
   "metadata": {
    "execution": {
     "iopub.execute_input": "2022-03-03T11:42:47.508860Z",
     "iopub.status.busy": "2022-03-03T11:42:47.507850Z",
     "iopub.status.idle": "2022-03-03T11:42:47.514463Z",
     "shell.execute_reply": "2022-03-03T11:42:47.512344Z",
     "shell.execute_reply.started": "2022-03-03T11:42:47.508794Z"
    }
   },
   "outputs": [],
   "source": [
    "genres = ['news', 'religion', 'hobbies', 'science_fiction', 'romance', 'humor']"
   ]
  },
  {
   "cell_type": "code",
   "execution_count": 35,
   "metadata": {
    "execution": {
     "iopub.execute_input": "2022-03-03T11:42:47.516139Z",
     "iopub.status.busy": "2022-03-03T11:42:47.515763Z",
     "iopub.status.idle": "2022-03-03T11:42:47.542120Z",
     "shell.execute_reply": "2022-03-03T11:42:47.541108Z",
     "shell.execute_reply.started": "2022-03-03T11:42:47.516092Z"
    }
   },
   "outputs": [],
   "source": [
    "modals = ['can', 'could', 'may', 'might', 'must', 'will']"
   ]
  },
  {
   "cell_type": "code",
   "execution_count": 36,
   "metadata": {
    "execution": {
     "iopub.execute_input": "2022-03-03T11:42:47.543839Z",
     "iopub.status.busy": "2022-03-03T11:42:47.543490Z",
     "iopub.status.idle": "2022-03-03T11:42:47.614619Z",
     "shell.execute_reply": "2022-03-03T11:42:47.613014Z",
     "shell.execute_reply.started": "2022-03-03T11:42:47.543780Z"
    }
   },
   "outputs": [
    {
     "name": "stdout",
     "output_type": "stream",
     "text": [
      "                  can could   may might  must  will \n",
      "           news    93    86    66    38    50   389 \n",
      "       religion    82    59    78    12    54    71 \n",
      "        hobbies   268    58   131    22    83   264 \n",
      "science_fiction    16    49     4    12     8    16 \n",
      "        romance    74   193    11    51    45    43 \n",
      "          humor    16    30     8     8     9    13 \n"
     ]
    }
   ],
   "source": [
    "cfd.tabulate(conditions=genres, samples=modals)"
   ]
  },
  {
   "cell_type": "markdown",
   "metadata": {},
   "source": [
    "Observe that the most frequent modal in the news genre is will, while the most frequent modal in the romance genre is could. Would you have predicted this? "
   ]
  },
  {
   "cell_type": "markdown",
   "metadata": {},
   "source": [
    "**word counts might distinguish genres**"
   ]
  },
  {
   "cell_type": "markdown",
   "metadata": {},
   "source": [
    "## 1.4   Reuters Corpus"
   ]
  },
  {
   "cell_type": "markdown",
   "metadata": {},
   "source": [
    "The Reuters Corpus contains 10,788 news documents totaling 1.3 million words. The documents have been classified into 90 topics, and grouped into two sets, called \"training\" and \"test\"; thus, the text with fileid 'test/14826' is a document drawn from the test set. This split is for training and testing algorithms that automatically detect the topic of a document."
   ]
  },
  {
   "cell_type": "code",
   "execution_count": 37,
   "metadata": {
    "execution": {
     "iopub.execute_input": "2022-03-03T11:42:47.617059Z",
     "iopub.status.busy": "2022-03-03T11:42:47.616743Z",
     "iopub.status.idle": "2022-03-03T11:42:47.621229Z",
     "shell.execute_reply": "2022-03-03T11:42:47.620451Z",
     "shell.execute_reply.started": "2022-03-03T11:42:47.617027Z"
    }
   },
   "outputs": [],
   "source": [
    "from nltk.corpus import reuters"
   ]
  },
  {
   "cell_type": "code",
   "execution_count": 38,
   "metadata": {
    "execution": {
     "iopub.execute_input": "2022-03-03T11:42:47.622554Z",
     "iopub.status.busy": "2022-03-03T11:42:47.622247Z",
     "iopub.status.idle": "2022-03-03T11:42:48.051951Z",
     "shell.execute_reply": "2022-03-03T11:42:48.050901Z",
     "shell.execute_reply.started": "2022-03-03T11:42:47.622519Z"
    }
   },
   "outputs": [
    {
     "data": {
      "text/plain": [
       "['test/14826',\n",
       " 'test/14828',\n",
       " 'test/14829',\n",
       " 'test/14832',\n",
       " 'test/14833',\n",
       " 'test/14839',\n",
       " 'test/14840',\n",
       " 'test/14841',\n",
       " 'test/14842',\n",
       " 'test/14843']"
      ]
     },
     "execution_count": 38,
     "metadata": {},
     "output_type": "execute_result"
    }
   ],
   "source": [
    "reuters.fileids()[:10]"
   ]
  },
  {
   "cell_type": "code",
   "execution_count": 39,
   "metadata": {
    "execution": {
     "iopub.execute_input": "2022-03-03T11:42:48.053643Z",
     "iopub.status.busy": "2022-03-03T11:42:48.053331Z",
     "iopub.status.idle": "2022-03-03T11:42:48.059912Z",
     "shell.execute_reply": "2022-03-03T11:42:48.059157Z",
     "shell.execute_reply.started": "2022-03-03T11:42:48.053608Z"
    }
   },
   "outputs": [
    {
     "data": {
      "text/plain": [
       "10788"
      ]
     },
     "execution_count": 39,
     "metadata": {},
     "output_type": "execute_result"
    }
   ],
   "source": [
    "len(reuters.fileids())"
   ]
  },
  {
   "cell_type": "code",
   "execution_count": 40,
   "metadata": {
    "execution": {
     "iopub.execute_input": "2022-03-03T11:42:48.062099Z",
     "iopub.status.busy": "2022-03-03T11:42:48.061327Z",
     "iopub.status.idle": "2022-03-03T11:42:49.041162Z",
     "shell.execute_reply": "2022-03-03T11:42:49.040118Z",
     "shell.execute_reply.started": "2022-03-03T11:42:48.062062Z"
    }
   },
   "outputs": [
    {
     "data": {
      "text/plain": [
       "['acq',\n",
       " 'alum',\n",
       " 'barley',\n",
       " 'bop',\n",
       " 'carcass',\n",
       " 'castor-oil',\n",
       " 'cocoa',\n",
       " 'coconut',\n",
       " 'coconut-oil',\n",
       " 'coffee']"
      ]
     },
     "execution_count": 40,
     "metadata": {},
     "output_type": "execute_result"
    }
   ],
   "source": [
    "reuters.categories()[:10]"
   ]
  },
  {
   "cell_type": "code",
   "execution_count": 41,
   "metadata": {
    "execution": {
     "iopub.execute_input": "2022-03-03T11:42:49.042516Z",
     "iopub.status.busy": "2022-03-03T11:42:49.042255Z",
     "iopub.status.idle": "2022-03-03T11:42:49.049422Z",
     "shell.execute_reply": "2022-03-03T11:42:49.048567Z",
     "shell.execute_reply.started": "2022-03-03T11:42:49.042486Z"
    }
   },
   "outputs": [
    {
     "data": {
      "text/plain": [
       "90"
      ]
     },
     "execution_count": 41,
     "metadata": {},
     "output_type": "execute_result"
    }
   ],
   "source": [
    "len(reuters.categories())"
   ]
  },
  {
   "cell_type": "markdown",
   "metadata": {},
   "source": [
    "Unlike the Brown Corpus, categories in the Reuters corpus **overlap** with each other, simply because a news story often covers multiple topics. We can ask for the topics covered by one or more documents, or for the documents included in one or more categories. For convenience, the corpus methods accept a single fileid or a list of fileids."
   ]
  },
  {
   "cell_type": "code",
   "execution_count": 42,
   "metadata": {
    "execution": {
     "iopub.execute_input": "2022-03-03T11:42:49.051657Z",
     "iopub.status.busy": "2022-03-03T11:42:49.050987Z",
     "iopub.status.idle": "2022-03-03T11:42:49.062300Z",
     "shell.execute_reply": "2022-03-03T11:42:49.061205Z",
     "shell.execute_reply.started": "2022-03-03T11:42:49.051617Z"
    }
   },
   "outputs": [
    {
     "data": {
      "text/plain": [
       "['barley', 'corn', 'grain', 'wheat']"
      ]
     },
     "execution_count": 42,
     "metadata": {},
     "output_type": "execute_result"
    }
   ],
   "source": [
    "reuters.categories('training/9865')"
   ]
  },
  {
   "cell_type": "code",
   "execution_count": 43,
   "metadata": {
    "execution": {
     "iopub.execute_input": "2022-03-03T11:42:49.063727Z",
     "iopub.status.busy": "2022-03-03T11:42:49.063488Z",
     "iopub.status.idle": "2022-03-03T11:42:49.075081Z",
     "shell.execute_reply": "2022-03-03T11:42:49.074365Z",
     "shell.execute_reply.started": "2022-03-03T11:42:49.063699Z"
    }
   },
   "outputs": [
    {
     "data": {
      "text/plain": [
       "['barley', 'corn', 'grain', 'money-fx', 'wheat']"
      ]
     },
     "execution_count": 43,
     "metadata": {},
     "output_type": "execute_result"
    }
   ],
   "source": [
    "reuters.categories(['training/9865', 'training/9880'])"
   ]
  },
  {
   "cell_type": "code",
   "execution_count": 44,
   "metadata": {
    "execution": {
     "iopub.execute_input": "2022-03-03T11:42:49.076319Z",
     "iopub.status.busy": "2022-03-03T11:42:49.076093Z",
     "iopub.status.idle": "2022-03-03T11:42:49.087522Z",
     "shell.execute_reply": "2022-03-03T11:42:49.086532Z",
     "shell.execute_reply.started": "2022-03-03T11:42:49.076292Z"
    }
   },
   "outputs": [
    {
     "data": {
      "text/plain": [
       "['test/15618',\n",
       " 'test/15649',\n",
       " 'test/15676',\n",
       " 'test/15728',\n",
       " 'test/15871',\n",
       " 'test/15875',\n",
       " 'test/15952',\n",
       " 'test/17767',\n",
       " 'test/17769',\n",
       " 'test/18024']"
      ]
     },
     "execution_count": 44,
     "metadata": {},
     "output_type": "execute_result"
    }
   ],
   "source": [
    "reuters.fileids('barley')[:10]"
   ]
  },
  {
   "cell_type": "code",
   "execution_count": 45,
   "metadata": {
    "execution": {
     "iopub.execute_input": "2022-03-03T11:42:49.089233Z",
     "iopub.status.busy": "2022-03-03T11:42:49.088920Z",
     "iopub.status.idle": "2022-03-03T11:42:49.099957Z",
     "shell.execute_reply": "2022-03-03T11:42:49.098795Z",
     "shell.execute_reply.started": "2022-03-03T11:42:49.089192Z"
    }
   },
   "outputs": [
    {
     "data": {
      "text/plain": [
       "51"
      ]
     },
     "execution_count": 45,
     "metadata": {},
     "output_type": "execute_result"
    }
   ],
   "source": [
    "len(reuters.fileids('barley'))"
   ]
  },
  {
   "cell_type": "markdown",
   "metadata": {},
   "source": [
    "Similarly, we can specify the words or sentences we want in terms of files or categories. The first handful of words in each of these texts are the **titles**, which by convention are stored as **upper case**.\n"
   ]
  },
  {
   "cell_type": "code",
   "execution_count": 46,
   "metadata": {
    "execution": {
     "iopub.execute_input": "2022-03-03T11:42:49.103549Z",
     "iopub.status.busy": "2022-03-03T11:42:49.101730Z",
     "iopub.status.idle": "2022-03-03T11:42:49.118885Z",
     "shell.execute_reply": "2022-03-03T11:42:49.117856Z",
     "shell.execute_reply.started": "2022-03-03T11:42:49.103509Z"
    }
   },
   "outputs": [
    {
     "data": {
      "text/plain": [
       "['FRENCH',\n",
       " 'FREE',\n",
       " 'MARKET',\n",
       " 'CEREAL',\n",
       " 'EXPORT',\n",
       " 'BIDS',\n",
       " 'DETAILED',\n",
       " 'French',\n",
       " 'operators',\n",
       " 'have',\n",
       " 'requested',\n",
       " 'licences',\n",
       " 'to',\n",
       " 'export']"
      ]
     },
     "execution_count": 46,
     "metadata": {},
     "output_type": "execute_result"
    }
   ],
   "source": [
    "reuters.words('training/9865')[:14]"
   ]
  },
  {
   "cell_type": "code",
   "execution_count": 47,
   "metadata": {
    "execution": {
     "iopub.execute_input": "2022-03-03T11:42:49.120662Z",
     "iopub.status.busy": "2022-03-03T11:42:49.120170Z",
     "iopub.status.idle": "2022-03-03T11:42:49.127774Z",
     "shell.execute_reply": "2022-03-03T11:42:49.126980Z",
     "shell.execute_reply.started": "2022-03-03T11:42:49.120630Z"
    }
   },
   "outputs": [
    {
     "data": {
      "text/plain": [
       "['FRENCH', 'FREE', 'MARKET', 'CEREAL', 'EXPORT', ...]"
      ]
     },
     "execution_count": 47,
     "metadata": {},
     "output_type": "execute_result"
    }
   ],
   "source": [
    "reuters.words(['training/9865', 'training/9880'])"
   ]
  },
  {
   "cell_type": "code",
   "execution_count": 48,
   "metadata": {
    "execution": {
     "iopub.execute_input": "2022-03-03T11:42:49.129435Z",
     "iopub.status.busy": "2022-03-03T11:42:49.129030Z",
     "iopub.status.idle": "2022-03-03T11:42:49.150161Z",
     "shell.execute_reply": "2022-03-03T11:42:49.149229Z",
     "shell.execute_reply.started": "2022-03-03T11:42:49.129397Z"
    }
   },
   "outputs": [
    {
     "data": {
      "text/plain": [
       "['FRENCH', 'FREE', 'MARKET', 'CEREAL', 'EXPORT', ...]"
      ]
     },
     "execution_count": 48,
     "metadata": {},
     "output_type": "execute_result"
    }
   ],
   "source": [
    "reuters.words(categories='barley')"
   ]
  },
  {
   "cell_type": "code",
   "execution_count": 49,
   "metadata": {
    "execution": {
     "iopub.execute_input": "2022-03-03T11:42:49.151804Z",
     "iopub.status.busy": "2022-03-03T11:42:49.151536Z",
     "iopub.status.idle": "2022-03-03T11:42:49.169297Z",
     "shell.execute_reply": "2022-03-03T11:42:49.168634Z",
     "shell.execute_reply.started": "2022-03-03T11:42:49.151772Z"
    }
   },
   "outputs": [
    {
     "data": {
      "text/plain": [
       "['THAI', 'TRADE', 'DEFICIT', 'WIDENS', 'IN', 'FIRST', ...]"
      ]
     },
     "execution_count": 49,
     "metadata": {},
     "output_type": "execute_result"
    }
   ],
   "source": [
    "reuters.words(categories=['barley', 'corn'])"
   ]
  },
  {
   "cell_type": "markdown",
   "metadata": {},
   "source": [
    "## 1.5   Inaugural Address Corpus"
   ]
  },
  {
   "cell_type": "markdown",
   "metadata": {},
   "source": [
    "An interesting property of this collection is its time **dimension**."
   ]
  },
  {
   "cell_type": "code",
   "execution_count": 50,
   "metadata": {
    "execution": {
     "iopub.execute_input": "2022-03-03T11:42:49.170954Z",
     "iopub.status.busy": "2022-03-03T11:42:49.170612Z",
     "iopub.status.idle": "2022-03-03T11:42:49.179997Z",
     "shell.execute_reply": "2022-03-03T11:42:49.178992Z",
     "shell.execute_reply.started": "2022-03-03T11:42:49.170923Z"
    }
   },
   "outputs": [],
   "source": [
    "from nltk.corpus import inaugural"
   ]
  },
  {
   "cell_type": "code",
   "execution_count": 51,
   "metadata": {
    "execution": {
     "iopub.execute_input": "2022-03-03T11:42:49.181233Z",
     "iopub.status.busy": "2022-03-03T11:42:49.181006Z",
     "iopub.status.idle": "2022-03-03T11:42:49.199783Z",
     "shell.execute_reply": "2022-03-03T11:42:49.198794Z",
     "shell.execute_reply.started": "2022-03-03T11:42:49.181207Z"
    }
   },
   "outputs": [
    {
     "data": {
      "text/plain": [
       "['1789-Washington.txt',\n",
       " '1793-Washington.txt',\n",
       " '1797-Adams.txt',\n",
       " '1801-Jefferson.txt',\n",
       " '1805-Jefferson.txt',\n",
       " '1809-Madison.txt',\n",
       " '1813-Madison.txt',\n",
       " '1817-Monroe.txt',\n",
       " '1821-Monroe.txt',\n",
       " '1825-Adams.txt',\n",
       " '1829-Jackson.txt',\n",
       " '1833-Jackson.txt',\n",
       " '1837-VanBuren.txt',\n",
       " '1841-Harrison.txt',\n",
       " '1845-Polk.txt',\n",
       " '1849-Taylor.txt',\n",
       " '1853-Pierce.txt',\n",
       " '1857-Buchanan.txt',\n",
       " '1861-Lincoln.txt',\n",
       " '1865-Lincoln.txt',\n",
       " '1869-Grant.txt',\n",
       " '1873-Grant.txt',\n",
       " '1877-Hayes.txt',\n",
       " '1881-Garfield.txt',\n",
       " '1885-Cleveland.txt',\n",
       " '1889-Harrison.txt',\n",
       " '1893-Cleveland.txt',\n",
       " '1897-McKinley.txt',\n",
       " '1901-McKinley.txt',\n",
       " '1905-Roosevelt.txt',\n",
       " '1909-Taft.txt',\n",
       " '1913-Wilson.txt',\n",
       " '1917-Wilson.txt',\n",
       " '1921-Harding.txt',\n",
       " '1925-Coolidge.txt',\n",
       " '1929-Hoover.txt',\n",
       " '1933-Roosevelt.txt',\n",
       " '1937-Roosevelt.txt',\n",
       " '1941-Roosevelt.txt',\n",
       " '1945-Roosevelt.txt',\n",
       " '1949-Truman.txt',\n",
       " '1953-Eisenhower.txt',\n",
       " '1957-Eisenhower.txt',\n",
       " '1961-Kennedy.txt',\n",
       " '1965-Johnson.txt',\n",
       " '1969-Nixon.txt',\n",
       " '1973-Nixon.txt',\n",
       " '1977-Carter.txt',\n",
       " '1981-Reagan.txt',\n",
       " '1985-Reagan.txt',\n",
       " '1989-Bush.txt',\n",
       " '1993-Clinton.txt',\n",
       " '1997-Clinton.txt',\n",
       " '2001-Bush.txt',\n",
       " '2005-Bush.txt',\n",
       " '2009-Obama.txt',\n",
       " '2013-Obama.txt',\n",
       " '2017-Trump.txt',\n",
       " '2021-Biden.txt']"
      ]
     },
     "execution_count": 51,
     "metadata": {},
     "output_type": "execute_result"
    }
   ],
   "source": [
    "inaugural.fileids()"
   ]
  },
  {
   "cell_type": "code",
   "execution_count": 52,
   "metadata": {
    "execution": {
     "iopub.execute_input": "2022-03-03T11:42:49.201734Z",
     "iopub.status.busy": "2022-03-03T11:42:49.201211Z",
     "iopub.status.idle": "2022-03-03T11:42:49.209497Z",
     "shell.execute_reply": "2022-03-03T11:42:49.208275Z",
     "shell.execute_reply.started": "2022-03-03T11:42:49.201683Z"
    }
   },
   "outputs": [
    {
     "data": {
      "text/plain": [
       "59"
      ]
     },
     "execution_count": 52,
     "metadata": {},
     "output_type": "execute_result"
    }
   ],
   "source": [
    "len(inaugural.fileids())"
   ]
  },
  {
   "cell_type": "code",
   "execution_count": 53,
   "metadata": {
    "execution": {
     "iopub.execute_input": "2022-03-03T11:42:49.211560Z",
     "iopub.status.busy": "2022-03-03T11:42:49.210958Z",
     "iopub.status.idle": "2022-03-03T11:42:49.224675Z",
     "shell.execute_reply": "2022-03-03T11:42:49.223881Z",
     "shell.execute_reply.started": "2022-03-03T11:42:49.211511Z"
    }
   },
   "outputs": [
    {
     "data": {
      "text/plain": [
       "['1789',\n",
       " '1793',\n",
       " '1797',\n",
       " '1801',\n",
       " '1805',\n",
       " '1809',\n",
       " '1813',\n",
       " '1817',\n",
       " '1821',\n",
       " '1825',\n",
       " '1829',\n",
       " '1833',\n",
       " '1837',\n",
       " '1841',\n",
       " '1845',\n",
       " '1849',\n",
       " '1853',\n",
       " '1857',\n",
       " '1861',\n",
       " '1865',\n",
       " '1869',\n",
       " '1873',\n",
       " '1877',\n",
       " '1881',\n",
       " '1885',\n",
       " '1889',\n",
       " '1893',\n",
       " '1897',\n",
       " '1901',\n",
       " '1905',\n",
       " '1909',\n",
       " '1913',\n",
       " '1917',\n",
       " '1921',\n",
       " '1925',\n",
       " '1929',\n",
       " '1933',\n",
       " '1937',\n",
       " '1941',\n",
       " '1945',\n",
       " '1949',\n",
       " '1953',\n",
       " '1957',\n",
       " '1961',\n",
       " '1965',\n",
       " '1969',\n",
       " '1973',\n",
       " '1977',\n",
       " '1981',\n",
       " '1985',\n",
       " '1989',\n",
       " '1993',\n",
       " '1997',\n",
       " '2001',\n",
       " '2005',\n",
       " '2009',\n",
       " '2013',\n",
       " '2017',\n",
       " '2021']"
      ]
     },
     "execution_count": 53,
     "metadata": {},
     "output_type": "execute_result"
    }
   ],
   "source": [
    "[fileid[:4] for fileid in inaugural.fileids()]"
   ]
  },
  {
   "cell_type": "markdown",
   "metadata": {},
   "source": [
    "Let's look at how the words *America* and *citizen* are used over time. The following code converts the words in the Inaugural corpus to lowercase using `w.lower()`, then checks if they start with either of the \"targets\" america or citizen using `startswith()`. Thus it will count words like *American's* and *Citizens*."
   ]
  },
  {
   "cell_type": "code",
   "execution_count": 54,
   "metadata": {
    "execution": {
     "iopub.execute_input": "2022-03-03T11:42:49.226545Z",
     "iopub.status.busy": "2022-03-03T11:42:49.226302Z",
     "iopub.status.idle": "2022-03-03T11:42:49.518776Z",
     "shell.execute_reply": "2022-03-03T11:42:49.517879Z",
     "shell.execute_reply.started": "2022-03-03T11:42:49.226517Z"
    }
   },
   "outputs": [],
   "source": [
    "cfd = nltk.ConditionalFreqDist(\n",
    "    (target, fileid[:4])\n",
    "    for fileid in inaugural.fileids()\n",
    "    for w in inaugural.words(fileid)\n",
    "    for target in ['america', 'citizen']\n",
    "    if w.lower().startswith(target))"
   ]
  },
  {
   "cell_type": "code",
   "execution_count": 55,
   "metadata": {
    "execution": {
     "iopub.execute_input": "2022-03-03T11:42:49.520480Z",
     "iopub.status.busy": "2022-03-03T11:42:49.520185Z",
     "iopub.status.idle": "2022-03-03T11:42:50.220685Z",
     "shell.execute_reply": "2022-03-03T11:42:50.219768Z",
     "shell.execute_reply.started": "2022-03-03T11:42:49.520442Z"
    }
   },
   "outputs": [
    {
     "data": {
      "text/plain": [
       "<Figure size 640x480 with 1 Axes>"
      ]
     },
     "metadata": {},
     "output_type": "display_data"
    },
    {
     "data": {
      "text/plain": [
       "<AxesSubplot:xlabel='Samples', ylabel='Counts'>"
      ]
     },
     "execution_count": 55,
     "metadata": {},
     "output_type": "execute_result"
    }
   ],
   "source": [
    "cfd.plot()"
   ]
  },
  {
   "cell_type": "markdown",
   "metadata": {},
   "source": [
    "## 1.6   Annotated Text Corpora"
   ]
  },
  {
   "cell_type": "markdown",
   "metadata": {},
   "source": [
    "Many text corpora contain linguistic annotations, representing POS tags, named entities, syntactic structures, semantic roles, and so forth. NLTK provides convenient ways to access several of these corpora, and has data packages containing corpora and corpus samples, freely downloadable for use in teaching and research. For more information, please refer the following websites:"
   ]
  },
  {
   "cell_type": "markdown",
   "metadata": {},
   "source": [
    "http://nltk.org/data\n",
    "\n",
    "https://www.nltk.org/howto/"
   ]
  },
  {
   "cell_type": "markdown",
   "metadata": {},
   "source": [
    "## 1.7   Corpora in Other Languages"
   ]
  },
  {
   "cell_type": "markdown",
   "metadata": {},
   "source": [
    "See several corpora in other language than English."
   ]
  },
  {
   "cell_type": "code",
   "execution_count": 56,
   "metadata": {},
   "outputs": [
    {
     "name": "stderr",
     "output_type": "stream",
     "text": [
      "[nltk_data] Downloading package cess_esp to\n",
      "[nltk_data]     /usr/local/share/nltk_data...\n",
      "[nltk_data]   Package cess_esp is already up-to-date!\n"
     ]
    },
    {
     "data": {
      "text/plain": [
       "True"
      ]
     },
     "execution_count": 56,
     "metadata": {},
     "output_type": "execute_result"
    }
   ],
   "source": [
    "nltk.download('cess_esp')"
   ]
  },
  {
   "cell_type": "code",
   "execution_count": 57,
   "metadata": {
    "execution": {
     "iopub.execute_input": "2022-03-03T11:42:50.222377Z",
     "iopub.status.busy": "2022-03-03T11:42:50.222070Z",
     "iopub.status.idle": "2022-03-03T11:42:50.263234Z",
     "shell.execute_reply": "2022-03-03T11:42:50.262336Z",
     "shell.execute_reply.started": "2022-03-03T11:42:50.222336Z"
    }
   },
   "outputs": [
    {
     "data": {
      "text/plain": [
       "['El', 'grupo', 'estatal', 'Electricité_de_France', ...]"
      ]
     },
     "execution_count": 57,
     "metadata": {},
     "output_type": "execute_result"
    }
   ],
   "source": [
    "nltk.corpus.cess_esp.words()"
   ]
  },
  {
   "cell_type": "code",
   "execution_count": 58,
   "metadata": {},
   "outputs": [
    {
     "name": "stderr",
     "output_type": "stream",
     "text": [
      "[nltk_data] Downloading package floresta to\n",
      "[nltk_data]     /usr/local/share/nltk_data...\n",
      "[nltk_data]   Package floresta is already up-to-date!\n"
     ]
    },
    {
     "data": {
      "text/plain": [
       "True"
      ]
     },
     "execution_count": 58,
     "metadata": {},
     "output_type": "execute_result"
    }
   ],
   "source": [
    "nltk.download('floresta')"
   ]
  },
  {
   "cell_type": "code",
   "execution_count": 59,
   "metadata": {
    "execution": {
     "iopub.execute_input": "2022-03-03T11:42:50.265360Z",
     "iopub.status.busy": "2022-03-03T11:42:50.264526Z",
     "iopub.status.idle": "2022-03-03T11:42:50.295345Z",
     "shell.execute_reply": "2022-03-03T11:42:50.294722Z",
     "shell.execute_reply.started": "2022-03-03T11:42:50.265316Z"
    }
   },
   "outputs": [
    {
     "data": {
      "text/plain": [
       "['Um', 'revivalismo', 'refrescante', 'O', '7_e_Meio', ...]"
      ]
     },
     "execution_count": 59,
     "metadata": {},
     "output_type": "execute_result"
    }
   ],
   "source": [
    "nltk.corpus.floresta.words()"
   ]
  },
  {
   "cell_type": "code",
   "execution_count": 60,
   "metadata": {},
   "outputs": [
    {
     "name": "stderr",
     "output_type": "stream",
     "text": [
      "[nltk_data] Downloading package indian to\n",
      "[nltk_data]     /usr/local/share/nltk_data...\n",
      "[nltk_data]   Package indian is already up-to-date!\n"
     ]
    },
    {
     "data": {
      "text/plain": [
       "True"
      ]
     },
     "execution_count": 60,
     "metadata": {},
     "output_type": "execute_result"
    }
   ],
   "source": [
    "nltk.download('indian')"
   ]
  },
  {
   "cell_type": "code",
   "execution_count": 61,
   "metadata": {
    "execution": {
     "iopub.execute_input": "2022-03-03T11:42:50.296960Z",
     "iopub.status.busy": "2022-03-03T11:42:50.296260Z",
     "iopub.status.idle": "2022-03-03T11:42:50.305627Z",
     "shell.execute_reply": "2022-03-03T11:42:50.304882Z",
     "shell.execute_reply.started": "2022-03-03T11:42:50.296924Z"
    }
   },
   "outputs": [
    {
     "data": {
      "text/plain": [
       "['पूर्ण', 'प्रतिबंध', 'हटाओ', ':', 'इराक', 'संयुक्त', ...]"
      ]
     },
     "execution_count": 61,
     "metadata": {},
     "output_type": "execute_result"
    }
   ],
   "source": [
    "nltk.corpus.indian.words('hindi.pos')"
   ]
  },
  {
   "cell_type": "code",
   "execution_count": 62,
   "metadata": {},
   "outputs": [
    {
     "name": "stderr",
     "output_type": "stream",
     "text": [
      "[nltk_data] Downloading package udhr to /usr/local/share/nltk_data...\n",
      "[nltk_data]   Package udhr is already up-to-date!\n"
     ]
    },
    {
     "data": {
      "text/plain": [
       "True"
      ]
     },
     "execution_count": 62,
     "metadata": {},
     "output_type": "execute_result"
    }
   ],
   "source": [
    "nltk.download('udhr')"
   ]
  },
  {
   "cell_type": "code",
   "execution_count": 63,
   "metadata": {
    "execution": {
     "iopub.execute_input": "2022-03-03T11:42:50.307199Z",
     "iopub.status.busy": "2022-03-03T11:42:50.306712Z",
     "iopub.status.idle": "2022-03-03T11:42:50.322101Z",
     "shell.execute_reply": "2022-03-03T11:42:50.321467Z",
     "shell.execute_reply.started": "2022-03-03T11:42:50.307163Z"
    }
   },
   "outputs": [
    {
     "data": {
      "text/plain": [
       "['Abkhaz-Cyrillic+Abkh',\n",
       " 'Abkhaz-UTF8',\n",
       " 'Achehnese-Latin1',\n",
       " 'Achuar-Shiwiar-Latin1',\n",
       " 'Adja-UTF8',\n",
       " 'Afaan_Oromo_Oromiffa-Latin1',\n",
       " 'Afrikaans-Latin1',\n",
       " 'Aguaruna-Latin1',\n",
       " 'Akuapem_Twi-UTF8',\n",
       " 'Albanian_Shqip-Latin1']"
      ]
     },
     "execution_count": 63,
     "metadata": {},
     "output_type": "execute_result"
    }
   ],
   "source": [
    "nltk.corpus.udhr.fileids()[:10]"
   ]
  },
  {
   "cell_type": "code",
   "execution_count": 64,
   "metadata": {
    "execution": {
     "iopub.execute_input": "2022-03-03T11:42:50.323863Z",
     "iopub.status.busy": "2022-03-03T11:42:50.323118Z",
     "iopub.status.idle": "2022-03-03T11:42:50.349973Z",
     "shell.execute_reply": "2022-03-03T11:42:50.349112Z",
     "shell.execute_reply.started": "2022-03-03T11:42:50.323830Z"
    }
   },
   "outputs": [
    {
     "data": {
      "text/plain": [
       "['PRANYATAN',\n",
       " 'UMUM',\n",
       " 'NGENANI',\n",
       " 'HAK',\n",
       " '-',\n",
       " 'HAK',\n",
       " 'ASASI',\n",
       " '(',\n",
       " 'UMAT',\n",
       " ')',\n",
       " 'MANUNGSA']"
      ]
     },
     "execution_count": 64,
     "metadata": {},
     "output_type": "execute_result"
    }
   ],
   "source": [
    "nltk.corpus.udhr.words('Javanese-Latin1')[:11]"
   ]
  },
  {
   "cell_type": "markdown",
   "metadata": {},
   "source": [
    "`udhr` contains the Universal Declaration of Human Rights in over 300 languages. Let's use a conditional frequency distribution to examine the differences in word lengths for a selection of languages included in the udhr corpus."
   ]
  },
  {
   "cell_type": "code",
   "execution_count": 65,
   "metadata": {
    "execution": {
     "iopub.execute_input": "2022-03-03T11:42:50.351962Z",
     "iopub.status.busy": "2022-03-03T11:42:50.351166Z",
     "iopub.status.idle": "2022-03-03T11:42:50.355786Z",
     "shell.execute_reply": "2022-03-03T11:42:50.354967Z",
     "shell.execute_reply.started": "2022-03-03T11:42:50.351928Z"
    }
   },
   "outputs": [],
   "source": [
    "from nltk.corpus import udhr"
   ]
  },
  {
   "cell_type": "code",
   "execution_count": 66,
   "metadata": {
    "execution": {
     "iopub.execute_input": "2022-03-03T11:42:50.358027Z",
     "iopub.status.busy": "2022-03-03T11:42:50.357533Z",
     "iopub.status.idle": "2022-03-03T11:42:50.367513Z",
     "shell.execute_reply": "2022-03-03T11:42:50.366531Z",
     "shell.execute_reply.started": "2022-03-03T11:42:50.357982Z"
    }
   },
   "outputs": [],
   "source": [
    "languages = ['Chickasaw', 'English', 'German_Deutsch','Greenlandic_Inuktikut', 'Hungarian_Magyar', 'Ibibio_Efik']"
   ]
  },
  {
   "cell_type": "code",
   "execution_count": 67,
   "metadata": {
    "execution": {
     "iopub.execute_input": "2022-03-03T11:42:50.369980Z",
     "iopub.status.busy": "2022-03-03T11:42:50.369475Z",
     "iopub.status.idle": "2022-03-03T11:42:50.410016Z",
     "shell.execute_reply": "2022-03-03T11:42:50.408976Z",
     "shell.execute_reply.started": "2022-03-03T11:42:50.369936Z"
    }
   },
   "outputs": [],
   "source": [
    "cfd = nltk.ConditionalFreqDist(\n",
    "    (lang, len(word))\n",
    "    for lang in languages\n",
    "    for word in udhr.words(lang + '-Latin1'))"
   ]
  },
  {
   "cell_type": "code",
   "execution_count": 68,
   "metadata": {
    "execution": {
     "iopub.execute_input": "2022-03-03T11:42:50.412006Z",
     "iopub.status.busy": "2022-03-03T11:42:50.411442Z",
     "iopub.status.idle": "2022-03-03T11:42:50.830682Z",
     "shell.execute_reply": "2022-03-03T11:42:50.829873Z",
     "shell.execute_reply.started": "2022-03-03T11:42:50.411967Z"
    }
   },
   "outputs": [
    {
     "data": {
      "image/png": "[encoded data removed]",
      "text/plain": [
       "<Figure size 432x288 with 1 Axes>"
      ]
     },
     "metadata": {
      "needs_background": "light"
     },
     "output_type": "display_data"
    },
    {
     "data": {
      "text/plain": [
       "<AxesSubplot:xlabel='Samples', ylabel='Cumulative Counts'>"
      ]
     },
     "execution_count": 68,
     "metadata": {},
     "output_type": "execute_result"
    }
   ],
   "source": [
    "cfd.plot(cumulative=True)"
   ]
  },
  {
   "cell_type": "markdown",
   "metadata": {},
   "source": [
    "### <span style=\"color:blue\">*Your Turn*</span>\n",
    "\n",
    "Pick a language of interest in udhr.fileids(), and define a variable raw_text = udhr.raw(Language-Latin1). Now plot a frequency distribution of the letters of the text using `nltk.FreqDist(raw_text).plot()`."
   ]
  },
  {
   "cell_type": "markdown",
   "metadata": {},
   "source": [
    "## 1.8   Text Corpus Structure"
   ]
  },
  {
   "cell_type": "markdown",
   "metadata": {},
   "source": [
    "NLTK's corpus readers support efficient access to a variety of corpora, and can be used to work with new corpora. 1.3 lists functionality provided by the corpus readers."
   ]
  },
  {
   "cell_type": "markdown",
   "metadata": {
    "execution": {
     "iopub.execute_input": "2022-03-03T08:14:09.728187Z",
     "iopub.status.busy": "2022-03-03T08:14:09.727673Z",
     "iopub.status.idle": "2022-03-03T08:14:09.735061Z",
     "shell.execute_reply": "2022-03-03T08:14:09.733648Z",
     "shell.execute_reply.started": "2022-03-03T08:14:09.728153Z"
    }
   },
   "source": [
    "We illustrate the difference between some of the corpus access methods below:"
   ]
  },
  {
   "cell_type": "code",
   "execution_count": 69,
   "metadata": {
    "execution": {
     "iopub.execute_input": "2022-03-03T11:42:50.832663Z",
     "iopub.status.busy": "2022-03-03T11:42:50.832247Z",
     "iopub.status.idle": "2022-03-03T11:42:50.836629Z",
     "shell.execute_reply": "2022-03-03T11:42:50.835591Z",
     "shell.execute_reply.started": "2022-03-03T11:42:50.832630Z"
    }
   },
   "outputs": [],
   "source": [
    "raw = gutenberg.raw(\"burgess-busterbrown.txt\")"
   ]
  },
  {
   "cell_type": "code",
   "execution_count": 70,
   "metadata": {
    "execution": {
     "iopub.execute_input": "2022-03-03T11:42:50.838097Z",
     "iopub.status.busy": "2022-03-03T11:42:50.837858Z",
     "iopub.status.idle": "2022-03-03T11:42:50.851731Z",
     "shell.execute_reply": "2022-03-03T11:42:50.850773Z",
     "shell.execute_reply.started": "2022-03-03T11:42:50.838071Z"
    }
   },
   "outputs": [
    {
     "data": {
      "text/plain": [
       "'The Adventures of B'"
      ]
     },
     "execution_count": 70,
     "metadata": {},
     "output_type": "execute_result"
    }
   ],
   "source": [
    "raw[1:20]"
   ]
  },
  {
   "cell_type": "code",
   "execution_count": 71,
   "metadata": {
    "execution": {
     "iopub.execute_input": "2022-03-03T11:42:50.853830Z",
     "iopub.status.busy": "2022-03-03T11:42:50.853064Z",
     "iopub.status.idle": "2022-03-03T11:42:50.863766Z",
     "shell.execute_reply": "2022-03-03T11:42:50.863034Z",
     "shell.execute_reply.started": "2022-03-03T11:42:50.853762Z"
    }
   },
   "outputs": [],
   "source": [
    "words = gutenberg.words(\"burgess-busterbrown.txt\")"
   ]
  },
  {
   "cell_type": "code",
   "execution_count": 72,
   "metadata": {
    "execution": {
     "iopub.execute_input": "2022-03-03T11:42:50.865718Z",
     "iopub.status.busy": "2022-03-03T11:42:50.865222Z",
     "iopub.status.idle": "2022-03-03T11:42:50.878564Z",
     "shell.execute_reply": "2022-03-03T11:42:50.877791Z",
     "shell.execute_reply.started": "2022-03-03T11:42:50.865675Z"
    }
   },
   "outputs": [
    {
     "data": {
      "text/plain": [
       "['The',\n",
       " 'Adventures',\n",
       " 'of',\n",
       " 'Buster',\n",
       " 'Bear',\n",
       " 'by',\n",
       " 'Thornton',\n",
       " 'W',\n",
       " '.',\n",
       " 'Burgess',\n",
       " '1920',\n",
       " ']',\n",
       " 'I',\n",
       " 'BUSTER',\n",
       " 'BEAR',\n",
       " 'GOES',\n",
       " 'FISHING',\n",
       " 'Buster',\n",
       " 'Bear']"
      ]
     },
     "execution_count": 72,
     "metadata": {},
     "output_type": "execute_result"
    }
   ],
   "source": [
    "words[1:20]"
   ]
  },
  {
   "cell_type": "code",
   "execution_count": 73,
   "metadata": {
    "execution": {
     "iopub.execute_input": "2022-03-03T11:42:50.880387Z",
     "iopub.status.busy": "2022-03-03T11:42:50.879996Z",
     "iopub.status.idle": "2022-03-03T11:42:50.886545Z",
     "shell.execute_reply": "2022-03-03T11:42:50.885886Z",
     "shell.execute_reply.started": "2022-03-03T11:42:50.880342Z"
    }
   },
   "outputs": [],
   "source": [
    "sents = gutenberg.sents(\"burgess-busterbrown.txt\")"
   ]
  },
  {
   "cell_type": "code",
   "execution_count": 74,
   "metadata": {
    "execution": {
     "iopub.execute_input": "2022-03-03T11:42:50.887995Z",
     "iopub.status.busy": "2022-03-03T11:42:50.887665Z",
     "iopub.status.idle": "2022-03-03T11:42:50.899551Z",
     "shell.execute_reply": "2022-03-03T11:42:50.898972Z",
     "shell.execute_reply.started": "2022-03-03T11:42:50.887968Z"
    }
   },
   "outputs": [
    {
     "data": {
      "text/plain": [
       "[['I'], ['BUSTER', 'BEAR', 'GOES', 'FISHING']]"
      ]
     },
     "execution_count": 74,
     "metadata": {},
     "output_type": "execute_result"
    }
   ],
   "source": [
    "sents[1:3]"
   ]
  },
  {
   "cell_type": "markdown",
   "metadata": {},
   "source": [
    "## 1.9   Loading your own Corpus"
   ]
  },
  {
   "cell_type": "markdown",
   "metadata": {},
   "source": [
    "If you have your own collection of text files that you would like to access using the above methods, you can easily load them with the help of NLTK's `PlaintextCorpusReader`."
   ]
  },
  {
   "cell_type": "code",
   "execution_count": 75,
   "metadata": {
    "execution": {
     "iopub.execute_input": "2022-03-03T11:42:50.901022Z",
     "iopub.status.busy": "2022-03-03T11:42:50.900506Z",
     "iopub.status.idle": "2022-03-03T11:42:50.909119Z",
     "shell.execute_reply": "2022-03-03T11:42:50.908232Z",
     "shell.execute_reply.started": "2022-03-03T11:42:50.900986Z"
    }
   },
   "outputs": [],
   "source": [
    "from nltk.corpus import PlaintextCorpusReader"
   ]
  },
  {
   "cell_type": "code",
   "execution_count": 76,
   "metadata": {
    "execution": {
     "iopub.execute_input": "2022-03-03T11:42:50.910724Z",
     "iopub.status.busy": "2022-03-03T11:42:50.910489Z",
     "iopub.status.idle": "2022-03-03T11:42:50.921467Z",
     "shell.execute_reply": "2022-03-03T11:42:50.920429Z",
     "shell.execute_reply.started": "2022-03-03T11:42:50.910697Z"
    }
   },
   "outputs": [],
   "source": [
    "corpus_root = '/usr/share/dict'"
   ]
  },
  {
   "cell_type": "code",
   "execution_count": 77,
   "metadata": {
    "execution": {
     "iopub.execute_input": "2022-03-03T11:42:50.922934Z",
     "iopub.status.busy": "2022-03-03T11:42:50.922526Z",
     "iopub.status.idle": "2022-03-03T11:42:50.935126Z",
     "shell.execute_reply": "2022-03-03T11:42:50.934248Z",
     "shell.execute_reply.started": "2022-03-03T11:42:50.922897Z"
    }
   },
   "outputs": [],
   "source": [
    "wordlists = PlaintextCorpusReader(corpus_root, '.*')"
   ]
  },
  {
   "cell_type": "code",
   "execution_count": 78,
   "metadata": {
    "execution": {
     "iopub.execute_input": "2022-03-03T11:42:50.936729Z",
     "iopub.status.busy": "2022-03-03T11:42:50.936358Z",
     "iopub.status.idle": "2022-03-03T11:42:50.946330Z",
     "shell.execute_reply": "2022-03-03T11:42:50.945561Z",
     "shell.execute_reply.started": "2022-03-03T11:42:50.936693Z"
    }
   },
   "outputs": [
    {
     "data": {
      "text/plain": [
       "['README.select-wordlist',\n",
       " 'american-english',\n",
       " 'british-english',\n",
       " 'cracklib-small',\n",
       " 'words',\n",
       " 'words.pre-dictionaries-common']"
      ]
     },
     "execution_count": 78,
     "metadata": {},
     "output_type": "execute_result"
    }
   ],
   "source": [
    "wordlists.fileids()"
   ]
  },
  {
   "cell_type": "code",
   "execution_count": 79,
   "metadata": {
    "execution": {
     "iopub.execute_input": "2022-03-03T11:42:50.947641Z",
     "iopub.status.busy": "2022-03-03T11:42:50.947394Z",
     "iopub.status.idle": "2022-03-03T11:42:50.962453Z",
     "shell.execute_reply": "2022-03-03T11:42:50.961565Z",
     "shell.execute_reply.started": "2022-03-03T11:42:50.947614Z"
    }
   },
   "outputs": [
    {
     "data": {
      "text/plain": [
       "['Please',\n",
       " 'use',\n",
       " \"'\",\n",
       " 'select',\n",
       " '-',\n",
       " 'default',\n",
       " '-',\n",
       " 'wordlist',\n",
       " \"'\",\n",
       " 'superuser',\n",
       " 'script',\n",
       " 'to',\n",
       " 'change',\n",
       " 'your',\n",
       " 'selection',\n",
       " '.',\n",
       " 'Note',\n",
       " 'that',\n",
       " 'you',\n",
       " 'will',\n",
       " 'need',\n",
       " 'to',\n",
       " 'run',\n",
       " 'that',\n",
       " 'script',\n",
       " 'and',\n",
       " 'select',\n",
       " 'the',\n",
       " \"'\",\n",
       " 'manual']"
      ]
     },
     "execution_count": 79,
     "metadata": {},
     "output_type": "execute_result"
    }
   ],
   "source": [
    "wordlists.words('README.select-wordlist')[:30]"
   ]
  },
  {
   "cell_type": "markdown",
   "metadata": {},
   "source": [
    "### <span style=\"color:blue\">*Your Turn*</span>\n",
    "\n",
    "从网站`http://opinion.people.com.cn/GB/8213/49160/49217/index.html` 下载人民日报评论员文章，构建语料库，并测试NLTK的Basic Corpus Functionality和本课程已经讲过的语料库相关操作，可以参考NLTK已有语料库的结构和格式构建，关于NLTK语料库的更多信息可参考`https://www.nltk.org/howto/corpus.html`，构建完成后，思考一下该语料库如何辅助你学习申论写作（假如你想尝试考公务员）。"
   ]
  },
  {
   "cell_type": "markdown",
   "metadata": {},
   "source": [
    "# 2   Conditional Frequency Distributions"
   ]
  },
  {
   "cell_type": "markdown",
   "metadata": {},
   "source": [
    "We saw that given some list `mylist` of words or other items, `FreqDist(mylist)` would compute the number of occurrences of each item in the list. "
   ]
  },
  {
   "cell_type": "markdown",
   "metadata": {},
   "source": [
    "A **conditional frequency distribution** is a collection of frequency distributions, each one for a different \"condition\". The condition will often be the category of the text."
   ]
  },
  {
   "cell_type": "markdown",
   "metadata": {},
   "source": [
    "## 2.1   Conditions and Events"
   ]
  },
  {
   "cell_type": "markdown",
   "metadata": {},
   "source": [
    "A **frequency distribution** counts observable events, such as the appearance of words in a text. A conditional frequency distribution needs to **pair each event with a condition**. So instead of processing a sequence of words, we have to process **a sequence of pairs**."
   ]
  },
  {
   "cell_type": "code",
   "execution_count": 80,
   "metadata": {
    "execution": {
     "iopub.execute_input": "2022-03-03T11:42:50.964666Z",
     "iopub.status.busy": "2022-03-03T11:42:50.964417Z",
     "iopub.status.idle": "2022-03-03T11:42:50.969123Z",
     "shell.execute_reply": "2022-03-03T11:42:50.968491Z",
     "shell.execute_reply.started": "2022-03-03T11:42:50.964637Z"
    }
   },
   "outputs": [],
   "source": [
    "text = ['The', 'Fulton', 'County', 'Grand', 'Jury', 'said']"
   ]
  },
  {
   "cell_type": "code",
   "execution_count": 81,
   "metadata": {
    "execution": {
     "iopub.execute_input": "2022-03-03T11:42:50.970654Z",
     "iopub.status.busy": "2022-03-03T11:42:50.970132Z",
     "iopub.status.idle": "2022-03-03T11:42:50.983451Z",
     "shell.execute_reply": "2022-03-03T11:42:50.982040Z",
     "shell.execute_reply.started": "2022-03-03T11:42:50.970619Z"
    }
   },
   "outputs": [],
   "source": [
    "pairs = [('news', 'The'), ('news', 'Fulton'), ('news', 'County')]"
   ]
  },
  {
   "cell_type": "markdown",
   "metadata": {},
   "source": [
    "Each pair has the form `(condition, event)`. If we were processing the entire Brown Corpus by genre there would be 15 conditions (one per genre), and 1,161,192 events (one per word)."
   ]
  },
  {
   "cell_type": "markdown",
   "metadata": {},
   "source": [
    "## 2.2   Counting Words by Genre"
   ]
  },
  {
   "cell_type": "markdown",
   "metadata": {},
   "source": [
    "Whereas `FreqDist()` takes a simple list as input, `ConditionalFreqDist()` takes a list of pairs."
   ]
  },
  {
   "cell_type": "code",
   "execution_count": 82,
   "metadata": {
    "execution": {
     "iopub.execute_input": "2022-03-03T11:42:50.985375Z",
     "iopub.status.busy": "2022-03-03T11:42:50.985119Z",
     "iopub.status.idle": "2022-03-03T11:42:50.994371Z",
     "shell.execute_reply": "2022-03-03T11:42:50.993513Z",
     "shell.execute_reply.started": "2022-03-03T11:42:50.985347Z"
    }
   },
   "outputs": [],
   "source": [
    "from nltk.corpus import brown"
   ]
  },
  {
   "cell_type": "code",
   "execution_count": 83,
   "metadata": {
    "execution": {
     "iopub.execute_input": "2022-03-03T11:42:50.996075Z",
     "iopub.status.busy": "2022-03-03T11:42:50.995783Z",
     "iopub.status.idle": "2022-03-03T11:42:55.722728Z",
     "shell.execute_reply": "2022-03-03T11:42:55.721870Z",
     "shell.execute_reply.started": "2022-03-03T11:42:50.996034Z"
    }
   },
   "outputs": [],
   "source": [
    "cfd = nltk.ConditionalFreqDist(\n",
    "    (genre, word)\n",
    "    for genre in brown.categories()\n",
    "    for word in brown.words(categories=genre))"
   ]
  },
  {
   "cell_type": "code",
   "execution_count": 84,
   "metadata": {
    "execution": {
     "iopub.execute_input": "2022-03-03T11:42:55.724200Z",
     "iopub.status.busy": "2022-03-03T11:42:55.723963Z",
     "iopub.status.idle": "2022-03-03T11:42:56.294098Z",
     "shell.execute_reply": "2022-03-03T11:42:56.293192Z",
     "shell.execute_reply.started": "2022-03-03T11:42:55.724167Z"
    }
   },
   "outputs": [],
   "source": [
    "# recall the list comprehensions\n",
    "genre_word = [(genre, word)\n",
    "              for genre in ['news', 'romance']\n",
    "              for word in brown.words(categories=genre)]"
   ]
  },
  {
   "cell_type": "code",
   "execution_count": 85,
   "metadata": {
    "execution": {
     "iopub.execute_input": "2022-03-03T11:42:56.295523Z",
     "iopub.status.busy": "2022-03-03T11:42:56.295273Z",
     "iopub.status.idle": "2022-03-03T11:42:56.300521Z",
     "shell.execute_reply": "2022-03-03T11:42:56.300020Z",
     "shell.execute_reply.started": "2022-03-03T11:42:56.295487Z"
    }
   },
   "outputs": [
    {
     "data": {
      "text/plain": [
       "170576"
      ]
     },
     "execution_count": 85,
     "metadata": {},
     "output_type": "execute_result"
    }
   ],
   "source": [
    "len(genre_word)"
   ]
  },
  {
   "cell_type": "code",
   "execution_count": 86,
   "metadata": {
    "execution": {
     "iopub.execute_input": "2022-03-03T11:42:56.308578Z",
     "iopub.status.busy": "2022-03-03T11:42:56.308047Z",
     "iopub.status.idle": "2022-03-03T11:42:56.315502Z",
     "shell.execute_reply": "2022-03-03T11:42:56.314875Z",
     "shell.execute_reply.started": "2022-03-03T11:42:56.308530Z"
    }
   },
   "outputs": [
    {
     "data": {
      "text/plain": [
       "[('news', 'The'),\n",
       " ('news', 'Fulton'),\n",
       " ('news', 'County'),\n",
       " ('news', 'Grand'),\n",
       " ('news', 'Jury'),\n",
       " ('news', 'said'),\n",
       " ('news', 'Friday'),\n",
       " ('news', 'an'),\n",
       " ('news', 'investigation'),\n",
       " ('news', 'of')]"
      ]
     },
     "execution_count": 86,
     "metadata": {},
     "output_type": "execute_result"
    }
   ],
   "source": [
    "genre_word[:10]"
   ]
  },
  {
   "cell_type": "code",
   "execution_count": 87,
   "metadata": {
    "execution": {
     "iopub.execute_input": "2022-03-03T11:42:56.317080Z",
     "iopub.status.busy": "2022-03-03T11:42:56.316678Z",
     "iopub.status.idle": "2022-03-03T11:42:56.327790Z",
     "shell.execute_reply": "2022-03-03T11:42:56.327193Z",
     "shell.execute_reply.started": "2022-03-03T11:42:56.317005Z"
    }
   },
   "outputs": [
    {
     "data": {
      "text/plain": [
       "[('romance', 'Washington'),\n",
       " ('romance', 'episode'),\n",
       " ('romance', \"''\"),\n",
       " ('romance', '.'),\n",
       " ('romance', '``'),\n",
       " ('romance', \"I'm\"),\n",
       " ('romance', 'afraid'),\n",
       " ('romance', 'not'),\n",
       " ('romance', \"''\"),\n",
       " ('romance', '.')]"
      ]
     },
     "execution_count": 87,
     "metadata": {},
     "output_type": "execute_result"
    }
   ],
   "source": [
    "genre_word[-10:]"
   ]
  },
  {
   "cell_type": "markdown",
   "metadata": {},
   "source": [
    "We can now use this list of pairs to create a `ConditionalFreqDist`, and save it in a variable `cfd`."
   ]
  },
  {
   "cell_type": "code",
   "execution_count": 88,
   "metadata": {
    "execution": {
     "iopub.execute_input": "2022-03-03T11:42:56.329189Z",
     "iopub.status.busy": "2022-03-03T11:42:56.328861Z",
     "iopub.status.idle": "2022-03-03T11:42:56.338777Z",
     "shell.execute_reply": "2022-03-03T11:42:56.337907Z",
     "shell.execute_reply.started": "2022-03-03T11:42:56.329162Z"
    }
   },
   "outputs": [],
   "source": [
    "import nltk"
   ]
  },
  {
   "cell_type": "code",
   "execution_count": 89,
   "metadata": {
    "execution": {
     "iopub.execute_input": "2022-03-03T11:42:56.341151Z",
     "iopub.status.busy": "2022-03-03T11:42:56.340566Z",
     "iopub.status.idle": "2022-03-03T11:42:56.523804Z",
     "shell.execute_reply": "2022-03-03T11:42:56.523090Z",
     "shell.execute_reply.started": "2022-03-03T11:42:56.341104Z"
    }
   },
   "outputs": [],
   "source": [
    "cfd = nltk.ConditionalFreqDist(genre_word)"
   ]
  },
  {
   "cell_type": "code",
   "execution_count": 90,
   "metadata": {
    "execution": {
     "iopub.execute_input": "2022-03-03T11:42:56.526008Z",
     "iopub.status.busy": "2022-03-03T11:42:56.525076Z",
     "iopub.status.idle": "2022-03-03T11:42:56.532373Z",
     "shell.execute_reply": "2022-03-03T11:42:56.531557Z",
     "shell.execute_reply.started": "2022-03-03T11:42:56.525961Z"
    }
   },
   "outputs": [
    {
     "data": {
      "text/plain": [
       "<ConditionalFreqDist with 2 conditions>"
      ]
     },
     "execution_count": 90,
     "metadata": {},
     "output_type": "execute_result"
    }
   ],
   "source": [
    "cfd"
   ]
  },
  {
   "cell_type": "code",
   "execution_count": 91,
   "metadata": {
    "execution": {
     "iopub.execute_input": "2022-03-03T11:42:56.534388Z",
     "iopub.status.busy": "2022-03-03T11:42:56.533919Z",
     "iopub.status.idle": "2022-03-03T11:42:56.544405Z",
     "shell.execute_reply": "2022-03-03T11:42:56.543794Z",
     "shell.execute_reply.started": "2022-03-03T11:42:56.534342Z"
    }
   },
   "outputs": [
    {
     "data": {
      "text/plain": [
       "['news', 'romance']"
      ]
     },
     "execution_count": 91,
     "metadata": {},
     "output_type": "execute_result"
    }
   ],
   "source": [
    "cfd.conditions()"
   ]
  },
  {
   "cell_type": "markdown",
   "metadata": {},
   "source": [
    "Let's access the two conditions, and satisfy ourselves that **each is just a frequency distribution**:"
   ]
  },
  {
   "cell_type": "code",
   "execution_count": 92,
   "metadata": {
    "execution": {
     "iopub.execute_input": "2022-03-03T11:42:56.546083Z",
     "iopub.status.busy": "2022-03-03T11:42:56.545515Z",
     "iopub.status.idle": "2022-03-03T11:42:56.557383Z",
     "shell.execute_reply": "2022-03-03T11:42:56.556389Z",
     "shell.execute_reply.started": "2022-03-03T11:42:56.546051Z"
    }
   },
   "outputs": [
    {
     "name": "stdout",
     "output_type": "stream",
     "text": [
      "<FreqDist with 14394 samples and 100554 outcomes>\n"
     ]
    }
   ],
   "source": [
    "print(cfd['news'])"
   ]
  },
  {
   "cell_type": "code",
   "execution_count": 93,
   "metadata": {
    "execution": {
     "iopub.execute_input": "2022-03-03T11:42:56.559228Z",
     "iopub.status.busy": "2022-03-03T11:42:56.558495Z",
     "iopub.status.idle": "2022-03-03T11:42:56.570365Z",
     "shell.execute_reply": "2022-03-03T11:42:56.569397Z",
     "shell.execute_reply.started": "2022-03-03T11:42:56.559190Z"
    }
   },
   "outputs": [
    {
     "name": "stdout",
     "output_type": "stream",
     "text": [
      "<FreqDist with 8452 samples and 70022 outcomes>\n"
     ]
    }
   ],
   "source": [
    "print(cfd['romance'])"
   ]
  },
  {
   "cell_type": "code",
   "execution_count": 94,
   "metadata": {
    "execution": {
     "iopub.execute_input": "2022-03-03T11:42:56.572380Z",
     "iopub.status.busy": "2022-03-03T11:42:56.571600Z",
     "iopub.status.idle": "2022-03-03T11:42:56.587736Z",
     "shell.execute_reply": "2022-03-03T11:42:56.586788Z",
     "shell.execute_reply.started": "2022-03-03T11:42:56.572339Z"
    }
   },
   "outputs": [
    {
     "data": {
      "text/plain": [
       "[(',', 3899),\n",
       " ('.', 3736),\n",
       " ('the', 2758),\n",
       " ('and', 1776),\n",
       " ('to', 1502),\n",
       " ('a', 1335),\n",
       " ('of', 1186),\n",
       " ('``', 1045),\n",
       " (\"''\", 1044),\n",
       " ('was', 993),\n",
       " ('I', 951),\n",
       " ('in', 875),\n",
       " ('he', 702),\n",
       " ('had', 692),\n",
       " ('?', 690),\n",
       " ('her', 651),\n",
       " ('that', 583),\n",
       " ('it', 573),\n",
       " ('his', 559),\n",
       " ('she', 496)]"
      ]
     },
     "execution_count": 94,
     "metadata": {},
     "output_type": "execute_result"
    }
   ],
   "source": [
    "cfd['romance'].most_common(20)"
   ]
  },
  {
   "cell_type": "code",
   "execution_count": 95,
   "metadata": {
    "execution": {
     "iopub.execute_input": "2022-03-03T11:42:56.589995Z",
     "iopub.status.busy": "2022-03-03T11:42:56.589149Z",
     "iopub.status.idle": "2022-03-03T11:42:56.601595Z",
     "shell.execute_reply": "2022-03-03T11:42:56.600775Z",
     "shell.execute_reply.started": "2022-03-03T11:42:56.589940Z"
    }
   },
   "outputs": [
    {
     "data": {
      "text/plain": [
       "193"
      ]
     },
     "execution_count": 95,
     "metadata": {},
     "output_type": "execute_result"
    }
   ],
   "source": [
    "cfd['romance']['could']"
   ]
  },
  {
   "cell_type": "markdown",
   "metadata": {},
   "source": [
    "## 2.3   Plotting and Tabulating Distributions"
   ]
  },
  {
   "cell_type": "markdown",
   "metadata": {},
   "source": [
    "A `ConditionalFreqDist` provides some useful methods for tabulation and plotting."
   ]
  },
  {
   "cell_type": "markdown",
   "metadata": {},
   "source": [
    "Try to understand the following codes:"
   ]
  },
  {
   "cell_type": "code",
   "execution_count": 96,
   "metadata": {
    "execution": {
     "iopub.execute_input": "2022-03-03T11:42:56.603322Z",
     "iopub.status.busy": "2022-03-03T11:42:56.602912Z",
     "iopub.status.idle": "2022-03-03T11:42:56.614177Z",
     "shell.execute_reply": "2022-03-03T11:42:56.613371Z",
     "shell.execute_reply.started": "2022-03-03T11:42:56.603275Z"
    }
   },
   "outputs": [],
   "source": [
    "from nltk.corpus import inaugural"
   ]
  },
  {
   "cell_type": "code",
   "execution_count": 97,
   "metadata": {
    "execution": {
     "iopub.execute_input": "2022-03-03T11:42:56.615865Z",
     "iopub.status.busy": "2022-03-03T11:42:56.615439Z",
     "iopub.status.idle": "2022-03-03T11:42:56.863129Z",
     "shell.execute_reply": "2022-03-03T11:42:56.862515Z",
     "shell.execute_reply.started": "2022-03-03T11:42:56.615803Z"
    }
   },
   "outputs": [],
   "source": [
    "cfd = nltk.ConditionalFreqDist(\n",
    "    (target, fileid[:4])\n",
    "    for fileid in inaugural.fileids()\n",
    "    for w in inaugural.words(fileid)\n",
    "    for target in ['america', 'citizen']\n",
    "    if w.lower().startswith(target))"
   ]
  },
  {
   "cell_type": "code",
   "execution_count": 98,
   "metadata": {
    "execution": {
     "iopub.execute_input": "2022-03-03T11:42:56.864706Z",
     "iopub.status.busy": "2022-03-03T11:42:56.864302Z",
     "iopub.status.idle": "2022-03-03T11:42:57.103888Z",
     "shell.execute_reply": "2022-03-03T11:42:57.103088Z",
     "shell.execute_reply.started": "2022-03-03T11:42:56.864658Z"
    }
   },
   "outputs": [],
   "source": [
    "inaugural_list = [(target, fileid[:4])\n",
    "    for fileid in inaugural.fileids()\n",
    "    for w in inaugural.words(fileid)\n",
    "    for target in ['america', 'citizen']\n",
    "    if w.lower().startswith(target)]"
   ]
  },
  {
   "cell_type": "code",
   "execution_count": 99,
   "metadata": {
    "execution": {
     "iopub.execute_input": "2022-03-03T11:42:57.105514Z",
     "iopub.status.busy": "2022-03-03T11:42:57.105124Z",
     "iopub.status.idle": "2022-03-03T11:42:57.111609Z",
     "shell.execute_reply": "2022-03-03T11:42:57.110863Z",
     "shell.execute_reply.started": "2022-03-03T11:42:57.105463Z"
    }
   },
   "outputs": [
    {
     "data": {
      "text/plain": [
       "[('citizen', '1789'),\n",
       " ('citizen', '1789'),\n",
       " ('citizen', '1789'),\n",
       " ('citizen', '1789'),\n",
       " ('citizen', '1789'),\n",
       " ('america', '1789'),\n",
       " ('america', '1789'),\n",
       " ('citizen', '1793'),\n",
       " ('america', '1793'),\n",
       " ('america', '1797')]"
      ]
     },
     "execution_count": 99,
     "metadata": {},
     "output_type": "execute_result"
    }
   ],
   "source": [
    "inaugural_list[:10]"
   ]
  },
  {
   "cell_type": "code",
   "execution_count": 100,
   "metadata": {
    "execution": {
     "iopub.execute_input": "2022-03-03T11:42:57.113045Z",
     "iopub.status.busy": "2022-03-03T11:42:57.112770Z",
     "iopub.status.idle": "2022-03-03T11:42:57.126917Z",
     "shell.execute_reply": "2022-03-03T11:42:57.126274Z",
     "shell.execute_reply.started": "2022-03-03T11:42:57.113016Z"
    }
   },
   "outputs": [
    {
     "data": {
      "text/plain": [
       "[('america', '2021'),\n",
       " ('america', '2021'),\n",
       " ('america', '2021'),\n",
       " ('america', '2021'),\n",
       " ('america', '2021'),\n",
       " ('america', '2021'),\n",
       " ('america', '2021'),\n",
       " ('america', '2021'),\n",
       " ('america', '2021'),\n",
       " ('america', '2021')]"
      ]
     },
     "execution_count": 100,
     "metadata": {},
     "output_type": "execute_result"
    }
   ],
   "source": [
    "inaugural_list[-10:]"
   ]
  },
  {
   "cell_type": "code",
   "execution_count": 101,
   "metadata": {
    "execution": {
     "iopub.execute_input": "2022-03-03T11:42:57.128465Z",
     "iopub.status.busy": "2022-03-03T11:42:57.128095Z",
     "iopub.status.idle": "2022-03-03T11:42:57.139008Z",
     "shell.execute_reply": "2022-03-03T11:42:57.138040Z",
     "shell.execute_reply.started": "2022-03-03T11:42:57.128420Z"
    }
   },
   "outputs": [],
   "source": [
    "from nltk.corpus import udhr"
   ]
  },
  {
   "cell_type": "code",
   "execution_count": 102,
   "metadata": {
    "execution": {
     "iopub.execute_input": "2022-03-03T11:42:57.140582Z",
     "iopub.status.busy": "2022-03-03T11:42:57.140251Z",
     "iopub.status.idle": "2022-03-03T11:42:57.152873Z",
     "shell.execute_reply": "2022-03-03T11:42:57.151837Z",
     "shell.execute_reply.started": "2022-03-03T11:42:57.140554Z"
    }
   },
   "outputs": [],
   "source": [
    "languages = ['Chickasaw', 'English', 'German_Deutsch','Greenlandic_Inuktikut', 'Hungarian_Magyar', 'Ibibio_Efik']"
   ]
  },
  {
   "cell_type": "code",
   "execution_count": 103,
   "metadata": {
    "execution": {
     "iopub.execute_input": "2022-03-03T11:42:57.154979Z",
     "iopub.status.busy": "2022-03-03T11:42:57.154187Z",
     "iopub.status.idle": "2022-03-03T11:42:57.190664Z",
     "shell.execute_reply": "2022-03-03T11:42:57.189938Z",
     "shell.execute_reply.started": "2022-03-03T11:42:57.154938Z"
    }
   },
   "outputs": [],
   "source": [
    "cfd = nltk.ConditionalFreqDist(\n",
    "    (lang, len(word))\n",
    "    for lang in languages\n",
    "    for word in udhr.words(lang + '-Latin1'))"
   ]
  },
  {
   "cell_type": "markdown",
   "metadata": {},
   "source": [
    "In the `plot()` and `tabulate()` methods, we can optionally specify which conditions to display with a `conditions= parameter`. "
   ]
  },
  {
   "cell_type": "markdown",
   "metadata": {},
   "source": [
    "Similarly, we can limit the samples to display with a `samples= parameter`. "
   ]
  },
  {
   "cell_type": "markdown",
   "metadata": {},
   "source": [
    "It also gives us full control over the order of conditions and samples in any displays."
   ]
  },
  {
   "cell_type": "code",
   "execution_count": 104,
   "metadata": {
    "execution": {
     "iopub.execute_input": "2022-03-03T11:42:57.192426Z",
     "iopub.status.busy": "2022-03-03T11:42:57.192155Z",
     "iopub.status.idle": "2022-03-03T11:42:57.204116Z",
     "shell.execute_reply": "2022-03-03T11:42:57.203010Z",
     "shell.execute_reply.started": "2022-03-03T11:42:57.192395Z"
    }
   },
   "outputs": [
    {
     "name": "stdout",
     "output_type": "stream",
     "text": [
      "                  0    1    2    3    4    5    6    7    8    9 \n",
      "       English    0  185  525  883  997 1166 1283 1440 1558 1638 \n",
      "German_Deutsch    0  171  263  614  717  894 1013 1110 1213 1275 \n"
     ]
    }
   ],
   "source": [
    "cfd.tabulate(conditions=['English', 'German_Deutsch'],samples=range(10), cumulative=True)"
   ]
  },
  {
   "cell_type": "code",
   "execution_count": 105,
   "metadata": {
    "execution": {
     "iopub.execute_input": "2022-03-03T11:42:57.206478Z",
     "iopub.status.busy": "2022-03-03T11:42:57.205527Z",
     "iopub.status.idle": "2022-03-03T11:42:57.421023Z",
     "shell.execute_reply": "2022-03-03T11:42:57.420218Z",
     "shell.execute_reply.started": "2022-03-03T11:42:57.206428Z"
    }
   },
   "outputs": [
    {
     "data": {
      "image/png": "[encoded data removed]",
      "text/plain": [
       "<Figure size 432x288 with 1 Axes>"
      ]
     },
     "metadata": {
      "needs_background": "light"
     },
     "output_type": "display_data"
    },
    {
     "data": {
      "text/plain": [
       "<AxesSubplot:xlabel='Samples', ylabel='Cumulative Counts'>"
      ]
     },
     "execution_count": 105,
     "metadata": {},
     "output_type": "execute_result"
    }
   ],
   "source": [
    "cfd.plot(conditions=['English', 'German_Deutsch'],samples=range(10), cumulative=True)"
   ]
  },
  {
   "cell_type": "markdown",
   "metadata": {},
   "source": [
    " We interpret the last cell on the top row to mean that 1,638 words of the English text have 9 or fewer letters."
   ]
  },
  {
   "cell_type": "markdown",
   "metadata": {},
   "source": [
    "### <span style=\"color:blue\">*Your Turn*</span>\n",
    "\n",
    "Your Turn: Working with the news and romance genres from the Brown Corpus, find out which days of the week are most newsworthy, and which are most romantic. Define a variable called days containing a list of days of the week, i.e. `['Monday', ...]`. Now tabulate the counts for these words using cfd.tabulate(samples=days). Now try the same thing using plot in place of tabulate. You may control the output order of days with the help of an extra parameter: `samples=['Monday', ...]`."
   ]
  },
  {
   "cell_type": "code",
   "execution_count": 106,
   "metadata": {
    "execution": {
     "iopub.execute_input": "2022-03-03T11:42:57.423064Z",
     "iopub.status.busy": "2022-03-03T11:42:57.422263Z",
     "iopub.status.idle": "2022-03-03T11:42:57.427769Z",
     "shell.execute_reply": "2022-03-03T11:42:57.426991Z",
     "shell.execute_reply.started": "2022-03-03T11:42:57.423020Z"
    }
   },
   "outputs": [
    {
     "name": "stdout",
     "output_type": "stream",
     "text": [
      "To be continued\n"
     ]
    }
   ],
   "source": [
    "print('To be continued')"
   ]
  }
 ],
 "metadata": {
  "kernelspec": {
   "display_name": "Python 3",
   "language": "python",
   "name": "python3"
  },
  "language_info": {
   "codemirror_mode": {
    "name": "ipython",
    "version": 3
   },
   "file_extension": ".py",
   "mimetype": "text/x-python",
   "name": "python",
   "nbconvert_exporter": "python",
   "pygments_lexer": "ipython3",
   "version": "3.7.1"
  }
 },
 "nbformat": 4,
 "nbformat_minor": 4
}
