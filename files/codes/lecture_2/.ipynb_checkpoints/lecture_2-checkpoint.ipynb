{
 "cells": [
  {
   "cell_type": "markdown",
   "metadata": {},
   "source": [
    "<center><font size=5><strong>2. Accessing Text Corpora and Lexical Resources</strong></font></center>\n",
    "<br>"
   ]
  },
  {
   "cell_type": "code",
   "execution_count": 1,
   "metadata": {},
   "outputs": [],
   "source": [
    "! pip install nltk==3.5\n",
    "import nltk"
   ]
  },
  {
   "cell_type": "markdown",
   "metadata": {},
   "source": [
    "# 1   Accessing Text Corpora"
   ]
  },
  {
   "cell_type": "markdown",
   "metadata": {},
   "source": [
    "<font size=2 style=\"color:#3498DB\">**A text corpus**</font> is a large body of text. Many corpora are designed to contain <font style=\"background:#00FF00\"><strong>a careful balance of material in one or more genres</strong></font>."
   ]
  },
  {
   "cell_type": "markdown",
   "metadata": {},
   "source": [
    "## 1.1   Gutenberg Corpus"
   ]
  },
  {
   "cell_type": "markdown",
   "metadata": {},
   "source": [
    "NLTK includes a small selection of texts from the Project Gutenberg electronic text archive, which contains some 25,000 free electronic books, hosted at http://www.gutenberg.org/."
   ]
  },
  {
   "cell_type": "code",
   "execution_count": 2,
   "metadata": {
    "execution": {
     "iopub.execute_input": "2022-03-03T11:42:24.820703Z",
     "iopub.status.busy": "2022-03-03T11:42:24.820347Z",
     "iopub.status.idle": "2022-03-03T11:42:24.835742Z",
     "shell.execute_reply": "2022-03-03T11:42:24.834942Z",
     "shell.execute_reply.started": "2022-03-03T11:42:24.820659Z"
    }
   },
   "outputs": [
    {
     "data": {
      "text/plain": [
       "['austen-emma.txt',\n",
       " 'austen-persuasion.txt',\n",
       " 'austen-sense.txt',\n",
       " 'bible-kjv.txt',\n",
       " 'blake-poems.txt',\n",
       " 'bryant-stories.txt',\n",
       " 'burgess-busterbrown.txt',\n",
       " 'carroll-alice.txt',\n",
       " 'chesterton-ball.txt',\n",
       " 'chesterton-brown.txt',\n",
       " 'chesterton-thursday.txt',\n",
       " 'edgeworth-parents.txt',\n",
       " 'melville-moby_dick.txt',\n",
       " 'milton-paradise.txt',\n",
       " 'shakespeare-caesar.txt',\n",
       " 'shakespeare-hamlet.txt',\n",
       " 'shakespeare-macbeth.txt',\n",
       " 'whitman-leaves.txt']"
      ]
     },
     "execution_count": 2,
     "metadata": {},
     "output_type": "execute_result"
    }
   ],
   "source": [
    "# the file identifiers in this corpus\n",
    "nltk.corpus.gutenberg.fileids()"
   ]
  },
  {
   "cell_type": "code",
   "execution_count": 3,
   "metadata": {
    "execution": {
     "iopub.execute_input": "2022-03-03T11:42:24.837935Z",
     "iopub.status.busy": "2022-03-03T11:42:24.837502Z",
     "iopub.status.idle": "2022-03-03T11:42:24.843305Z",
     "shell.execute_reply": "2022-03-03T11:42:24.842466Z",
     "shell.execute_reply.started": "2022-03-03T11:42:24.837898Z"
    }
   },
   "outputs": [],
   "source": [
    "emma = nltk.corpus.gutenberg.words('austen-emma.txt')"
   ]
  },
  {
   "cell_type": "code",
   "execution_count": 4,
   "metadata": {
    "execution": {
     "iopub.execute_input": "2022-03-03T11:42:24.844786Z",
     "iopub.status.busy": "2022-03-03T11:42:24.844451Z",
     "iopub.status.idle": "2022-03-03T11:42:25.104167Z",
     "shell.execute_reply": "2022-03-03T11:42:25.103368Z",
     "shell.execute_reply.started": "2022-03-03T11:42:24.844752Z"
    }
   },
   "outputs": [
    {
     "data": {
      "text/plain": [
       "192427"
      ]
     },
     "execution_count": 4,
     "metadata": {},
     "output_type": "execute_result"
    }
   ],
   "source": [
    "len(emma)"
   ]
  },
  {
   "cell_type": "markdown",
   "metadata": {},
   "source": [
    "Now that you have started examining data from `nltk.corpus`, you have to employ the following pair of statements to perform <font style=\"background:#00FF00\"><strong>concordancing</strong></font> (语料库检索) and other tasks from chapter 1:"
   ]
  },
  {
   "cell_type": "code",
   "execution_count": 5,
   "metadata": {
    "execution": {
     "iopub.execute_input": "2022-03-03T11:42:25.105511Z",
     "iopub.status.busy": "2022-03-03T11:42:25.105277Z",
     "iopub.status.idle": "2022-03-03T11:42:25.620768Z",
     "shell.execute_reply": "2022-03-03T11:42:25.620088Z",
     "shell.execute_reply.started": "2022-03-03T11:42:25.105476Z"
    }
   },
   "outputs": [],
   "source": [
    "emma = nltk.Text(nltk.corpus.gutenberg.words('austen-emma.txt'))"
   ]
  },
  {
   "cell_type": "code",
   "execution_count": 6,
   "metadata": {},
   "outputs": [
    {
     "data": {
      "text/plain": [
       "nltk.text.Text"
      ]
     },
     "execution_count": 6,
     "metadata": {},
     "output_type": "execute_result"
    }
   ],
   "source": [
    "type(emma)"
   ]
  },
  {
   "cell_type": "code",
   "execution_count": 7,
   "metadata": {
    "execution": {
     "iopub.execute_input": "2022-03-03T11:42:25.622434Z",
     "iopub.status.busy": "2022-03-03T11:42:25.622014Z",
     "iopub.status.idle": "2022-03-03T11:42:25.756329Z",
     "shell.execute_reply": "2022-03-03T11:42:25.755466Z",
     "shell.execute_reply.started": "2022-03-03T11:42:25.622384Z"
    }
   },
   "outputs": [
    {
     "name": "stdout",
     "output_type": "stream",
     "text": [
      "Displaying 25 of 37 matches:\n",
      "er father , was sometimes taken by surprize at his being still able to pity ` \n",
      "hem do the other any good .\" \" You surprize me ! Emma must do Harriet good : a\n",
      "Knightley actually looked red with surprize and displeasure , as he stood up ,\n",
      "r . Elton , and found to his great surprize , that Mr . Elton was actually on \n",
      "d aid .\" Emma saw Mrs . Weston ' s surprize , and felt that it must be great ,\n",
      "father was quite taken up with the surprize of so sudden a journey , and his f\n",
      "y , in all the favouring warmth of surprize and conjecture . She was , moreove\n",
      "he appeared , to have her share of surprize , introduction , and pleasure . Th\n",
      "ir plans ; and it was an agreeable surprize to her , therefore , to perceive t\n",
      "talking aunt had taken me quite by surprize , it must have been the death of m\n",
      "f all the dialogue which ensued of surprize , and inquiry , and congratulation\n",
      " the present . They might chuse to surprize her .\" Mrs . Cole had many to agre\n",
      "the mode of it , the mystery , the surprize , is more like a young woman ' s s\n",
      " to her song took her agreeably by surprize -- a second , slightly but correct\n",
      "\" \" Oh ! no -- there is nothing to surprize one at all .-- A pretty fortune ; \n",
      "t to be considered . Emma ' s only surprize was that Jane Fairfax should accep\n",
      "of your admiration may take you by surprize some day or other .\" Mr . Knightle\n",
      "ation for her will ever take me by surprize .-- I never had a thought of her i\n",
      " expected by the best judges , for surprize -- but there was great joy . Mr . \n",
      " sound of at first , without great surprize . \" So unreasonably early !\" she w\n",
      "d Frank Churchill , with a look of surprize and displeasure .-- \" That is easy\n",
      "; and Emma could imagine with what surprize and mortification she must be retu\n",
      "tled that Jane should go . Quite a surprize to me ! I had not the least idea !\n",
      " . It is impossible to express our surprize . He came to speak to his father o\n",
      "g engaged !\" Emma even jumped with surprize ;-- and , horror - struck , exclai\n"
     ]
    }
   ],
   "source": [
    "emma.concordance(\"surprize\") # 惊喜"
   ]
  },
  {
   "cell_type": "markdown",
   "metadata": {},
   "source": [
    "Another way to import something in Python"
   ]
  },
  {
   "cell_type": "code",
   "execution_count": 8,
   "metadata": {
    "execution": {
     "iopub.execute_input": "2022-03-03T11:42:25.757848Z",
     "iopub.status.busy": "2022-03-03T11:42:25.757587Z",
     "iopub.status.idle": "2022-03-03T11:42:25.761758Z",
     "shell.execute_reply": "2022-03-03T11:42:25.760869Z",
     "shell.execute_reply.started": "2022-03-03T11:42:25.757790Z"
    }
   },
   "outputs": [],
   "source": [
    "from nltk.corpus import gutenberg"
   ]
  },
  {
   "cell_type": "code",
   "execution_count": 9,
   "metadata": {
    "execution": {
     "iopub.execute_input": "2022-03-03T11:42:25.763717Z",
     "iopub.status.busy": "2022-03-03T11:42:25.763027Z",
     "iopub.status.idle": "2022-03-03T11:42:25.778186Z",
     "shell.execute_reply": "2022-03-03T11:42:25.777158Z",
     "shell.execute_reply.started": "2022-03-03T11:42:25.763681Z"
    }
   },
   "outputs": [
    {
     "data": {
      "text/plain": [
       "['austen-emma.txt',\n",
       " 'austen-persuasion.txt',\n",
       " 'austen-sense.txt',\n",
       " 'bible-kjv.txt',\n",
       " 'blake-poems.txt',\n",
       " 'bryant-stories.txt',\n",
       " 'burgess-busterbrown.txt',\n",
       " 'carroll-alice.txt',\n",
       " 'chesterton-ball.txt',\n",
       " 'chesterton-brown.txt',\n",
       " 'chesterton-thursday.txt',\n",
       " 'edgeworth-parents.txt',\n",
       " 'melville-moby_dick.txt',\n",
       " 'milton-paradise.txt',\n",
       " 'shakespeare-caesar.txt',\n",
       " 'shakespeare-hamlet.txt',\n",
       " 'shakespeare-macbeth.txt',\n",
       " 'whitman-leaves.txt']"
      ]
     },
     "execution_count": 9,
     "metadata": {},
     "output_type": "execute_result"
    }
   ],
   "source": [
    "gutenberg.fileids()"
   ]
  },
  {
   "cell_type": "code",
   "execution_count": 10,
   "metadata": {
    "execution": {
     "iopub.execute_input": "2022-03-03T11:42:25.782085Z",
     "iopub.status.busy": "2022-03-03T11:42:25.781736Z",
     "iopub.status.idle": "2022-03-03T11:42:25.803069Z",
     "shell.execute_reply": "2022-03-03T11:42:25.802233Z",
     "shell.execute_reply.started": "2022-03-03T11:42:25.782052Z"
    }
   },
   "outputs": [],
   "source": [
    "emma = gutenberg.words('austen-emma.txt')"
   ]
  },
  {
   "cell_type": "markdown",
   "metadata": {},
   "source": [
    "Display other information about each text, by looping over all the values of fileid"
   ]
  },
  {
   "cell_type": "code",
   "execution_count": 11,
   "metadata": {
    "execution": {
     "iopub.execute_input": "2022-03-03T11:42:25.805754Z",
     "iopub.status.busy": "2022-03-03T11:42:25.804804Z",
     "iopub.status.idle": "2022-03-03T11:42:41.304916Z",
     "shell.execute_reply": "2022-03-03T11:42:41.304053Z",
     "shell.execute_reply.started": "2022-03-03T11:42:25.805706Z"
    }
   },
   "outputs": [
    {
     "name": "stdout",
     "output_type": "stream",
     "text": [
      "5 25 26 austen-emma.txt\n",
      "5 26 17 austen-persuasion.txt\n",
      "5 28 22 austen-sense.txt\n",
      "4 34 79 bible-kjv.txt\n",
      "5 19 5 blake-poems.txt\n",
      "4 19 14 bryant-stories.txt\n",
      "4 18 12 burgess-busterbrown.txt\n",
      "4 20 13 carroll-alice.txt\n",
      "5 20 12 chesterton-ball.txt\n",
      "5 23 11 chesterton-brown.txt\n",
      "5 18 11 chesterton-thursday.txt\n",
      "4 21 25 edgeworth-parents.txt\n",
      "5 26 15 melville-moby_dick.txt\n",
      "5 52 11 milton-paradise.txt\n",
      "4 12 9 shakespeare-caesar.txt\n",
      "4 12 8 shakespeare-hamlet.txt\n",
      "4 12 7 shakespeare-macbeth.txt\n",
      "5 36 12 whitman-leaves.txt\n"
     ]
    }
   ],
   "source": [
    "# 平均词长，平均句长，词汇丰富度\n",
    "for fileid in gutenberg.fileids():\n",
    "    num_chars = len(gutenberg.raw(fileid))\n",
    "    num_words = len(gutenberg.words(fileid))\n",
    "    num_sents = len(gutenberg.sents(fileid))\n",
    "    num_vocab = len(set(w.lower() for w in gutenberg.words(fileid)))\n",
    "    print(round(num_chars/num_words), round(num_words/num_sents), round(num_words/num_vocab), fileid)"
   ]
  },
  {
   "cell_type": "markdown",
   "metadata": {},
   "source": [
    "Observe that <font size=2 style=\"color:#3498DB\">**average word length**</font> appears to be a general property of English, since it has a recurrent value of 4. (In fact, <font style=\"background:#00FF00\"><strong>the average word length is really 3 not 4</strong></font>, since the num_chars variable counts space characters.) \n",
    "\n",
    "By contrast, <font style=\"background:#00FF00\"><strong>average sentence length and lexical diversity appear to be characteristics of particular authors</strong></font>."
   ]
  },
  {
   "cell_type": "markdown",
   "metadata": {},
   "source": [
    "Access the text in various ways as follows:"
   ]
  },
  {
   "cell_type": "code",
   "execution_count": 12,
   "metadata": {
    "execution": {
     "iopub.execute_input": "2022-03-03T11:42:41.306421Z",
     "iopub.status.busy": "2022-03-03T11:42:41.306179Z",
     "iopub.status.idle": "2022-03-03T11:42:41.310551Z",
     "shell.execute_reply": "2022-03-03T11:42:41.309934Z",
     "shell.execute_reply.started": "2022-03-03T11:42:41.306391Z"
    }
   },
   "outputs": [],
   "source": [
    "macbeth_sentences = gutenberg.sents('shakespeare-macbeth.txt') # 莎士比亚-麦克白"
   ]
  },
  {
   "cell_type": "code",
   "execution_count": 13,
   "metadata": {
    "execution": {
     "iopub.execute_input": "2022-03-03T11:42:41.311713Z",
     "iopub.status.busy": "2022-03-03T11:42:41.311475Z",
     "iopub.status.idle": "2022-03-03T11:42:41.330001Z",
     "shell.execute_reply": "2022-03-03T11:42:41.328991Z",
     "shell.execute_reply.started": "2022-03-03T11:42:41.311684Z"
    }
   },
   "outputs": [
    {
     "data": {
      "text/plain": [
       "[['[', 'The', 'Tragedie', 'of', 'Macbeth', 'by', 'William', 'Shakespeare', '1603', ']'], ['Actus', 'Primus', '.'], ...]"
      ]
     },
     "execution_count": 13,
     "metadata": {},
     "output_type": "execute_result"
    }
   ],
   "source": [
    "macbeth_sentences"
   ]
  },
  {
   "cell_type": "code",
   "execution_count": 14,
   "metadata": {},
   "outputs": [
    {
     "data": {
      "text/plain": [
       "1907"
      ]
     },
     "execution_count": 14,
     "metadata": {},
     "output_type": "execute_result"
    }
   ],
   "source": [
    "len(macbeth_sentences)"
   ]
  },
  {
   "cell_type": "code",
   "execution_count": 15,
   "metadata": {
    "execution": {
     "iopub.execute_input": "2022-03-03T11:42:41.332251Z",
     "iopub.status.busy": "2022-03-03T11:42:41.331925Z",
     "iopub.status.idle": "2022-03-03T11:42:41.408143Z",
     "shell.execute_reply": "2022-03-03T11:42:41.407135Z",
     "shell.execute_reply.started": "2022-03-03T11:42:41.332213Z"
    }
   },
   "outputs": [
    {
     "data": {
      "text/plain": [
       "['Double',\n",
       " ',',\n",
       " 'double',\n",
       " ',',\n",
       " 'toile',\n",
       " 'and',\n",
       " 'trouble',\n",
       " ';',\n",
       " 'Fire',\n",
       " 'burne',\n",
       " ',',\n",
       " 'and',\n",
       " 'Cauldron',\n",
       " 'bubble']"
      ]
     },
     "execution_count": 15,
     "metadata": {},
     "output_type": "execute_result"
    }
   ],
   "source": [
    "macbeth_sentences[1116]"
   ]
  },
  {
   "cell_type": "code",
   "execution_count": 16,
   "metadata": {},
   "outputs": [
    {
     "data": {
      "text/plain": [
       "'Double , double , toile and trouble ; Fire burne , and Cauldron bubble'"
      ]
     },
     "execution_count": 16,
     "metadata": {},
     "output_type": "execute_result"
    }
   ],
   "source": [
    "' '.join(macbeth_sentences[1116])"
   ]
  },
  {
   "cell_type": "code",
   "execution_count": 17,
   "metadata": {
    "execution": {
     "iopub.execute_input": "2022-03-03T11:42:41.409763Z",
     "iopub.status.busy": "2022-03-03T11:42:41.409529Z",
     "iopub.status.idle": "2022-03-03T11:42:41.520691Z",
     "shell.execute_reply": "2022-03-03T11:42:41.519852Z",
     "shell.execute_reply.started": "2022-03-03T11:42:41.409735Z"
    }
   },
   "outputs": [],
   "source": [
    "# 最大的句子长度\n",
    "longest_len = max(len(s) for s in macbeth_sentences)"
   ]
  },
  {
   "cell_type": "code",
   "execution_count": 18,
   "metadata": {
    "execution": {
     "iopub.execute_input": "2022-03-03T11:42:41.522505Z",
     "iopub.status.busy": "2022-03-03T11:42:41.522287Z",
     "iopub.status.idle": "2022-03-03T11:42:41.529117Z",
     "shell.execute_reply": "2022-03-03T11:42:41.528296Z",
     "shell.execute_reply.started": "2022-03-03T11:42:41.522478Z"
    }
   },
   "outputs": [
    {
     "data": {
      "text/plain": [
       "158"
      ]
     },
     "execution_count": 18,
     "metadata": {},
     "output_type": "execute_result"
    }
   ],
   "source": [
    "longest_len"
   ]
  },
  {
   "cell_type": "markdown",
   "metadata": {},
   "source": [
    "Find the sentences with largest length:"
   ]
  },
  {
   "cell_type": "code",
   "execution_count": 19,
   "metadata": {
    "execution": {
     "iopub.execute_input": "2022-03-03T11:42:41.530717Z",
     "iopub.status.busy": "2022-03-03T11:42:41.530505Z",
     "iopub.status.idle": "2022-03-03T11:42:41.648849Z",
     "shell.execute_reply": "2022-03-03T11:42:41.647941Z",
     "shell.execute_reply.started": "2022-03-03T11:42:41.530692Z"
    }
   },
   "outputs": [],
   "source": [
    "sent_list = [s for s in macbeth_sentences if len(s) == longest_len]"
   ]
  },
  {
   "cell_type": "code",
   "execution_count": 20,
   "metadata": {},
   "outputs": [
    {
     "data": {
      "text/plain": [
       "1"
      ]
     },
     "execution_count": 20,
     "metadata": {},
     "output_type": "execute_result"
    }
   ],
   "source": [
    "len(sent_list)"
   ]
  },
  {
   "cell_type": "code",
   "execution_count": 21,
   "metadata": {},
   "outputs": [
    {
     "data": {
      "text/plain": [
       "['Doubtfull',\n",
       " 'it',\n",
       " 'stood',\n",
       " ',',\n",
       " 'As',\n",
       " 'two',\n",
       " 'spent',\n",
       " 'Swimmers',\n",
       " ',',\n",
       " 'that',\n",
       " 'doe',\n",
       " 'cling',\n",
       " 'together',\n",
       " ',',\n",
       " 'And',\n",
       " 'choake',\n",
       " 'their',\n",
       " 'Art',\n",
       " ':',\n",
       " 'The',\n",
       " 'mercilesse',\n",
       " 'Macdonwald',\n",
       " '(',\n",
       " 'Worthie',\n",
       " 'to',\n",
       " 'be',\n",
       " 'a',\n",
       " 'Rebell',\n",
       " ',',\n",
       " 'for',\n",
       " 'to',\n",
       " 'that',\n",
       " 'The',\n",
       " 'multiplying',\n",
       " 'Villanies',\n",
       " 'of',\n",
       " 'Nature',\n",
       " 'Doe',\n",
       " 'swarme',\n",
       " 'vpon',\n",
       " 'him',\n",
       " ')',\n",
       " 'from',\n",
       " 'the',\n",
       " 'Westerne',\n",
       " 'Isles',\n",
       " 'Of',\n",
       " 'Kernes',\n",
       " 'and',\n",
       " 'Gallowgrosses',\n",
       " 'is',\n",
       " 'supply',\n",
       " \"'\",\n",
       " 'd',\n",
       " ',',\n",
       " 'And',\n",
       " 'Fortune',\n",
       " 'on',\n",
       " 'his',\n",
       " 'damned',\n",
       " 'Quarry',\n",
       " 'smiling',\n",
       " ',',\n",
       " 'Shew',\n",
       " \"'\",\n",
       " 'd',\n",
       " 'like',\n",
       " 'a',\n",
       " 'Rebells',\n",
       " 'Whore',\n",
       " ':',\n",
       " 'but',\n",
       " 'all',\n",
       " \"'\",\n",
       " 's',\n",
       " 'too',\n",
       " 'weake',\n",
       " ':',\n",
       " 'For',\n",
       " 'braue',\n",
       " 'Macbeth',\n",
       " '(',\n",
       " 'well',\n",
       " 'hee',\n",
       " 'deserues',\n",
       " 'that',\n",
       " 'Name',\n",
       " ')',\n",
       " 'Disdayning',\n",
       " 'Fortune',\n",
       " ',',\n",
       " 'with',\n",
       " 'his',\n",
       " 'brandisht',\n",
       " 'Steele',\n",
       " ',',\n",
       " 'Which',\n",
       " 'smoak',\n",
       " \"'\",\n",
       " 'd',\n",
       " 'with',\n",
       " 'bloody',\n",
       " 'execution',\n",
       " '(',\n",
       " 'Like',\n",
       " 'Valours',\n",
       " 'Minion',\n",
       " ')',\n",
       " 'caru',\n",
       " \"'\",\n",
       " 'd',\n",
       " 'out',\n",
       " 'his',\n",
       " 'passage',\n",
       " ',',\n",
       " 'Till',\n",
       " 'hee',\n",
       " 'fac',\n",
       " \"'\",\n",
       " 'd',\n",
       " 'the',\n",
       " 'Slaue',\n",
       " ':',\n",
       " 'Which',\n",
       " 'neu',\n",
       " \"'\",\n",
       " 'r',\n",
       " 'shooke',\n",
       " 'hands',\n",
       " ',',\n",
       " 'nor',\n",
       " 'bad',\n",
       " 'farwell',\n",
       " 'to',\n",
       " 'him',\n",
       " ',',\n",
       " 'Till',\n",
       " 'he',\n",
       " 'vnseam',\n",
       " \"'\",\n",
       " 'd',\n",
       " 'him',\n",
       " 'from',\n",
       " 'the',\n",
       " 'Naue',\n",
       " 'toth',\n",
       " \"'\",\n",
       " 'Chops',\n",
       " ',',\n",
       " 'And',\n",
       " 'fix',\n",
       " \"'\",\n",
       " 'd',\n",
       " 'his',\n",
       " 'Head',\n",
       " 'vpon',\n",
       " 'our',\n",
       " 'Battlements']"
      ]
     },
     "execution_count": 21,
     "metadata": {},
     "output_type": "execute_result"
    }
   ],
   "source": [
    "sent_list[0]"
   ]
  },
  {
   "cell_type": "markdown",
   "metadata": {},
   "source": [
    "Most NLTK corpus readers include a variety of access methods apart from `words()`, `raw()`, and `sents()`. Richer linguistic content is available from some corpora, such as part-of-speech tags, dialogue tags, syntactic trees, and so forth; we will see these in later chapters."
   ]
  },
  {
   "cell_type": "markdown",
   "metadata": {},
   "source": [
    "## 1.2   Web and Chat Text"
   ]
  },
  {
   "cell_type": "markdown",
   "metadata": {},
   "source": [
    "Although Project Gutenberg contains thousands of books, it represents established literature. It is important to consider <font style=\"background:#00FF00\"><strong>less formal language as well</strong></font>. "
   ]
  },
  {
   "cell_type": "markdown",
   "metadata": {},
   "source": [
    "NLTK's small collection of <font size=2 style=\"color:#3498DB\">**web text**</font> includes content from a Firefox discussion forum, conversations overheard in New York, the movie script of Pirates of the Carribean, personal advertisements, and wine reviews (Firefox论坛、对话、加勒比海盗的电影剧本、广告、酒评)."
   ]
  },
  {
   "cell_type": "code",
   "execution_count": 22,
   "metadata": {
    "execution": {
     "iopub.execute_input": "2022-03-03T11:42:41.650475Z",
     "iopub.status.busy": "2022-03-03T11:42:41.650255Z",
     "iopub.status.idle": "2022-03-03T11:42:41.655391Z",
     "shell.execute_reply": "2022-03-03T11:42:41.654054Z",
     "shell.execute_reply.started": "2022-03-03T11:42:41.650449Z"
    }
   },
   "outputs": [],
   "source": [
    "from nltk.corpus import webtext"
   ]
  },
  {
   "cell_type": "code",
   "execution_count": 23,
   "metadata": {},
   "outputs": [
    {
     "data": {
      "text/plain": [
       "['firefox.txt',\n",
       " 'grail.txt',\n",
       " 'overheard.txt',\n",
       " 'pirates.txt',\n",
       " 'singles.txt',\n",
       " 'wine.txt']"
      ]
     },
     "execution_count": 23,
     "metadata": {},
     "output_type": "execute_result"
    }
   ],
   "source": [
    "webtext.fileids()"
   ]
  },
  {
   "cell_type": "code",
   "execution_count": 24,
   "metadata": {
    "execution": {
     "iopub.execute_input": "2022-03-03T11:42:41.657099Z",
     "iopub.status.busy": "2022-03-03T11:42:41.656748Z",
     "iopub.status.idle": "2022-03-03T11:42:41.693788Z",
     "shell.execute_reply": "2022-03-03T11:42:41.692913Z",
     "shell.execute_reply.started": "2022-03-03T11:42:41.657070Z"
    }
   },
   "outputs": [
    {
     "name": "stdout",
     "output_type": "stream",
     "text": [
      "firefox.txt Cookie Manager: \"Don't allow sites that set removed cookies to se ...\n",
      "grail.txt SCENE 1: [wind] [clop clop clop] \n",
      "KING ARTHUR: Whoa there!  [clop ...\n",
      "overheard.txt White guy: So, do you have any plans for this evening?\n",
      "Asian girl ...\n",
      "pirates.txt PIRATES OF THE CARRIBEAN: DEAD MAN'S CHEST, by Ted Elliott & Terr ...\n",
      "singles.txt 25 SEXY MALE, seeks attrac older single lady, for discreet encoun ...\n",
      "wine.txt Lovely delicate, fragrant Rhone wine. Polished leather and strawb ...\n"
     ]
    }
   ],
   "source": [
    "for fileid in webtext.fileids():\n",
    "    print(fileid, webtext.raw(fileid)[:65], '...')"
   ]
  },
  {
   "cell_type": "markdown",
   "metadata": {},
   "source": [
    "There is also a corpus of instant messaging chat sessions (即时聊天会话), originally collected by the Naval Postgraduate School for research on automatic detection of Internet predators (网络掠夺者检测). \n",
    "\n",
    "The corpus contains over 10,000 posts, anonymized by replacing usernames with generic names of the form \"UserNNN\", and manually edited to remove any other identifying information."
   ]
  },
  {
   "cell_type": "markdown",
   "metadata": {},
   "source": [
    "File `10-19-20s_706posts.xml` contains 706 posts gathered from the 20s (age) chat room on 10/19/2006."
   ]
  },
  {
   "cell_type": "code",
   "execution_count": 25,
   "metadata": {
    "execution": {
     "iopub.execute_input": "2022-03-03T11:42:41.695690Z",
     "iopub.status.busy": "2022-03-03T11:42:41.695372Z",
     "iopub.status.idle": "2022-03-03T11:42:41.699939Z",
     "shell.execute_reply": "2022-03-03T11:42:41.699096Z",
     "shell.execute_reply.started": "2022-03-03T11:42:41.695647Z"
    }
   },
   "outputs": [],
   "source": [
    "from nltk.corpus import nps_chat"
   ]
  },
  {
   "cell_type": "code",
   "execution_count": 26,
   "metadata": {
    "execution": {
     "iopub.execute_input": "2022-03-03T11:42:41.701761Z",
     "iopub.status.busy": "2022-03-03T11:42:41.701382Z",
     "iopub.status.idle": "2022-03-03T11:42:41.717981Z",
     "shell.execute_reply": "2022-03-03T11:42:41.717004Z",
     "shell.execute_reply.started": "2022-03-03T11:42:41.701724Z"
    }
   },
   "outputs": [],
   "source": [
    "chatroom = nps_chat.posts('10-19-20s_706posts.xml')"
   ]
  },
  {
   "cell_type": "code",
   "execution_count": 27,
   "metadata": {},
   "outputs": [
    {
     "data": {
      "text/plain": [
       "706"
      ]
     },
     "execution_count": 27,
     "metadata": {},
     "output_type": "execute_result"
    }
   ],
   "source": [
    "len(chatroom)"
   ]
  },
  {
   "cell_type": "code",
   "execution_count": 28,
   "metadata": {
    "execution": {
     "iopub.execute_input": "2022-03-03T11:42:41.720276Z",
     "iopub.status.busy": "2022-03-03T11:42:41.719707Z",
     "iopub.status.idle": "2022-03-03T11:42:41.743057Z",
     "shell.execute_reply": "2022-03-03T11:42:41.742361Z",
     "shell.execute_reply.started": "2022-03-03T11:42:41.720242Z"
    }
   },
   "outputs": [
    {
     "data": {
      "text/plain": [
       "['i',\n",
       " 'do',\n",
       " \"n't\",\n",
       " 'want',\n",
       " 'hot',\n",
       " 'pics',\n",
       " 'of',\n",
       " 'a',\n",
       " 'female',\n",
       " ',',\n",
       " 'I',\n",
       " 'can',\n",
       " 'look',\n",
       " 'in',\n",
       " 'a',\n",
       " 'mirror',\n",
       " '.']"
      ]
     },
     "execution_count": 28,
     "metadata": {},
     "output_type": "execute_result"
    }
   ],
   "source": [
    "chatroom[123]"
   ]
  },
  {
   "cell_type": "markdown",
   "metadata": {},
   "source": [
    "## 1.3   Brown Corpus"
   ]
  },
  {
   "cell_type": "markdown",
   "metadata": {},
   "source": [
    "The <font size=2 style=\"color:#3498DB\">**Brown Corpus**</font> was the first million-word electronic corpus of English, created in 1961 at Brown University. This corpus contains text from 500 sources, and the sources have been <font style=\"background:#00FF00\"><strong>categorized by genre, such as news, editorial, and so on</strong></font>. (按照体裁分类)"
   ]
  },
  {
   "cell_type": "markdown",
   "metadata": {},
   "source": [
    "For access this corpus:\n",
    "\n",
    "We can access the corpus as a list of words, or a list of sentences (where each sentence is itself just a list of words). \n",
    "\n",
    "We can optionally specify particular categories or files to read."
   ]
  },
  {
   "cell_type": "code",
   "execution_count": 29,
   "metadata": {
    "execution": {
     "iopub.execute_input": "2022-03-03T11:42:41.744666Z",
     "iopub.status.busy": "2022-03-03T11:42:41.744427Z",
     "iopub.status.idle": "2022-03-03T11:42:41.748543Z",
     "shell.execute_reply": "2022-03-03T11:42:41.747681Z",
     "shell.execute_reply.started": "2022-03-03T11:42:41.744636Z"
    }
   },
   "outputs": [],
   "source": [
    "from nltk.corpus import brown"
   ]
  },
  {
   "cell_type": "code",
   "execution_count": 30,
   "metadata": {
    "execution": {
     "iopub.execute_input": "2022-03-03T11:42:41.750597Z",
     "iopub.status.busy": "2022-03-03T11:42:41.749957Z",
     "iopub.status.idle": "2022-03-03T11:42:41.774183Z",
     "shell.execute_reply": "2022-03-03T11:42:41.773304Z",
     "shell.execute_reply.started": "2022-03-03T11:42:41.750548Z"
    }
   },
   "outputs": [
    {
     "data": {
      "text/plain": [
       "['adventure',\n",
       " 'belles_lettres',\n",
       " 'editorial',\n",
       " 'fiction',\n",
       " 'government',\n",
       " 'hobbies',\n",
       " 'humor',\n",
       " 'learned',\n",
       " 'lore',\n",
       " 'mystery',\n",
       " 'news',\n",
       " 'religion',\n",
       " 'reviews',\n",
       " 'romance',\n",
       " 'science_fiction']"
      ]
     },
     "execution_count": 30,
     "metadata": {},
     "output_type": "execute_result"
    }
   ],
   "source": [
    "brown.categories()"
   ]
  },
  {
   "cell_type": "code",
   "execution_count": 31,
   "metadata": {
    "execution": {
     "iopub.execute_input": "2022-03-03T11:42:41.775548Z",
     "iopub.status.busy": "2022-03-03T11:42:41.775307Z",
     "iopub.status.idle": "2022-03-03T11:42:41.784384Z",
     "shell.execute_reply": "2022-03-03T11:42:41.783502Z",
     "shell.execute_reply.started": "2022-03-03T11:42:41.775519Z"
    }
   },
   "outputs": [
    {
     "data": {
      "text/plain": [
       "['The', 'Fulton', 'County', 'Grand', 'Jury', 'said', ...]"
      ]
     },
     "execution_count": 31,
     "metadata": {},
     "output_type": "execute_result"
    }
   ],
   "source": [
    "brown.words(categories='news')"
   ]
  },
  {
   "cell_type": "code",
   "execution_count": 32,
   "metadata": {
    "execution": {
     "iopub.execute_input": "2022-03-03T11:42:41.786081Z",
     "iopub.status.busy": "2022-03-03T11:42:41.785421Z",
     "iopub.status.idle": "2022-03-03T11:42:41.798201Z",
     "shell.execute_reply": "2022-03-03T11:42:41.797613Z",
     "shell.execute_reply.started": "2022-03-03T11:42:41.786042Z"
    }
   },
   "outputs": [
    {
     "data": {
      "text/plain": [
       "['Does', 'our', 'society', 'have', 'a', 'runaway', ',', ...]"
      ]
     },
     "execution_count": 32,
     "metadata": {},
     "output_type": "execute_result"
    }
   ],
   "source": [
    "brown.words(fileids=['cg22'])"
   ]
  },
  {
   "cell_type": "code",
   "execution_count": 33,
   "metadata": {
    "execution": {
     "iopub.execute_input": "2022-03-03T11:42:41.799652Z",
     "iopub.status.busy": "2022-03-03T11:42:41.799407Z",
     "iopub.status.idle": "2022-03-03T11:42:41.811695Z",
     "shell.execute_reply": "2022-03-03T11:42:41.811036Z",
     "shell.execute_reply.started": "2022-03-03T11:42:41.799622Z"
    }
   },
   "outputs": [
    {
     "data": {
      "text/plain": [
       "[['The', 'Fulton', 'County', 'Grand', 'Jury', 'said', 'Friday', 'an', 'investigation', 'of', \"Atlanta's\", 'recent', 'primary', 'election', 'produced', '``', 'no', 'evidence', \"''\", 'that', 'any', 'irregularities', 'took', 'place', '.'], ['The', 'jury', 'further', 'said', 'in', 'term-end', 'presentments', 'that', 'the', 'City', 'Executive', 'Committee', ',', 'which', 'had', 'over-all', 'charge', 'of', 'the', 'election', ',', '``', 'deserves', 'the', 'praise', 'and', 'thanks', 'of', 'the', 'City', 'of', 'Atlanta', \"''\", 'for', 'the', 'manner', 'in', 'which', 'the', 'election', 'was', 'conducted', '.'], ...]"
      ]
     },
     "execution_count": 33,
     "metadata": {},
     "output_type": "execute_result"
    }
   ],
   "source": [
    "brown.sents(categories=['news', 'editorial', 'reviews'])"
   ]
  },
  {
   "cell_type": "markdown",
   "metadata": {},
   "source": [
    "The Brown Corpus is a convenient resource for studying systematic differences between genres, a kind of linguistic inquiry known as stylistics (文体学). "
   ]
  },
  {
   "cell_type": "markdown",
   "metadata": {},
   "source": [
    "<font size=2 style=\"color:#2ECC71\">**Example**</font>\n",
    "\n",
    "Let's compare genres in their usage of modal verbs:"
   ]
  },
  {
   "cell_type": "code",
   "execution_count": 34,
   "metadata": {
    "execution": {
     "iopub.execute_input": "2022-03-03T11:42:41.817333Z",
     "iopub.status.busy": "2022-03-03T11:42:41.817028Z",
     "iopub.status.idle": "2022-03-03T11:42:41.825180Z",
     "shell.execute_reply": "2022-03-03T11:42:41.824321Z",
     "shell.execute_reply.started": "2022-03-03T11:42:41.817302Z"
    }
   },
   "outputs": [],
   "source": [
    "import nltk\n",
    "from nltk.corpus import brown"
   ]
  },
  {
   "cell_type": "code",
   "execution_count": 35,
   "metadata": {
    "execution": {
     "iopub.execute_input": "2022-03-03T11:42:41.826616Z",
     "iopub.status.busy": "2022-03-03T11:42:41.826383Z",
     "iopub.status.idle": "2022-03-03T11:42:41.840784Z",
     "shell.execute_reply": "2022-03-03T11:42:41.839882Z",
     "shell.execute_reply.started": "2022-03-03T11:42:41.826589Z"
    }
   },
   "outputs": [],
   "source": [
    "news_text = brown.words(categories='news')"
   ]
  },
  {
   "cell_type": "code",
   "execution_count": 36,
   "metadata": {
    "execution": {
     "iopub.execute_input": "2022-03-03T11:42:41.843060Z",
     "iopub.status.busy": "2022-03-03T11:42:41.842415Z",
     "iopub.status.idle": "2022-03-03T11:42:42.309714Z",
     "shell.execute_reply": "2022-03-03T11:42:42.308679Z",
     "shell.execute_reply.started": "2022-03-03T11:42:41.843011Z"
    }
   },
   "outputs": [],
   "source": [
    "fdist = nltk.FreqDist(w.lower() for w in news_text)"
   ]
  },
  {
   "cell_type": "code",
   "execution_count": 37,
   "metadata": {
    "execution": {
     "iopub.execute_input": "2022-03-03T11:42:42.311129Z",
     "iopub.status.busy": "2022-03-03T11:42:42.310899Z",
     "iopub.status.idle": "2022-03-03T11:42:42.315689Z",
     "shell.execute_reply": "2022-03-03T11:42:42.314758Z",
     "shell.execute_reply.started": "2022-03-03T11:42:42.311102Z"
    }
   },
   "outputs": [],
   "source": [
    "modals = ['can', 'could', 'may', 'might', 'must', 'will']"
   ]
  },
  {
   "cell_type": "code",
   "execution_count": 38,
   "metadata": {
    "execution": {
     "iopub.execute_input": "2022-03-03T11:42:42.317150Z",
     "iopub.status.busy": "2022-03-03T11:42:42.316915Z",
     "iopub.status.idle": "2022-03-03T11:42:42.329870Z",
     "shell.execute_reply": "2022-03-03T11:42:42.329169Z",
     "shell.execute_reply.started": "2022-03-03T11:42:42.317108Z"
    }
   },
   "outputs": [
    {
     "name": "stdout",
     "output_type": "stream",
     "text": [
      "can: 94 could: 87 may: 93 might: 38 must: 53 will: 389 "
     ]
    }
   ],
   "source": [
    "for m in modals:\n",
    "    print(m + ':', fdist[m], end=' ')"
   ]
  },
  {
   "cell_type": "markdown",
   "metadata": {},
   "source": [
    "Next, we need to obtain counts for each genre of interest. \n",
    "\n",
    "We'll use NLTK's support for <font size=2 style=\"color:#3498DB\">**conditional frequency distributions**</font>."
   ]
  },
  {
   "cell_type": "code",
   "execution_count": 39,
   "metadata": {
    "execution": {
     "iopub.execute_input": "2022-03-03T11:42:42.332193Z",
     "iopub.status.busy": "2022-03-03T11:42:42.331508Z",
     "iopub.status.idle": "2022-03-03T11:42:47.506365Z",
     "shell.execute_reply": "2022-03-03T11:42:47.505201Z",
     "shell.execute_reply.started": "2022-03-03T11:42:42.332145Z"
    }
   },
   "outputs": [],
   "source": [
    "cfd = nltk.ConditionalFreqDist(\n",
    "    (genre, word)\n",
    "    for genre in brown.categories()\n",
    "    for word in brown.words(categories=genre))"
   ]
  },
  {
   "cell_type": "code",
   "execution_count": 40,
   "metadata": {
    "execution": {
     "iopub.execute_input": "2022-03-03T11:42:47.508860Z",
     "iopub.status.busy": "2022-03-03T11:42:47.507850Z",
     "iopub.status.idle": "2022-03-03T11:42:47.514463Z",
     "shell.execute_reply": "2022-03-03T11:42:47.512344Z",
     "shell.execute_reply.started": "2022-03-03T11:42:47.508794Z"
    }
   },
   "outputs": [],
   "source": [
    "genres = ['news', 'religion', 'hobbies', 'science_fiction', 'romance', 'humor']"
   ]
  },
  {
   "cell_type": "code",
   "execution_count": 41,
   "metadata": {
    "execution": {
     "iopub.execute_input": "2022-03-03T11:42:47.516139Z",
     "iopub.status.busy": "2022-03-03T11:42:47.515763Z",
     "iopub.status.idle": "2022-03-03T11:42:47.542120Z",
     "shell.execute_reply": "2022-03-03T11:42:47.541108Z",
     "shell.execute_reply.started": "2022-03-03T11:42:47.516092Z"
    }
   },
   "outputs": [],
   "source": [
    "modals = ['can', 'could', 'may', 'might', 'must', 'will']"
   ]
  },
  {
   "cell_type": "code",
   "execution_count": 42,
   "metadata": {
    "execution": {
     "iopub.execute_input": "2022-03-03T11:42:47.543839Z",
     "iopub.status.busy": "2022-03-03T11:42:47.543490Z",
     "iopub.status.idle": "2022-03-03T11:42:47.614619Z",
     "shell.execute_reply": "2022-03-03T11:42:47.613014Z",
     "shell.execute_reply.started": "2022-03-03T11:42:47.543780Z"
    }
   },
   "outputs": [
    {
     "name": "stdout",
     "output_type": "stream",
     "text": [
      "                  can could   may might  must  will \n",
      "           news    93    86    66    38    50   389 \n",
      "       religion    82    59    78    12    54    71 \n",
      "        hobbies   268    58   131    22    83   264 \n",
      "science_fiction    16    49     4    12     8    16 \n",
      "        romance    74   193    11    51    45    43 \n",
      "          humor    16    30     8     8     9    13 \n"
     ]
    }
   ],
   "source": [
    "cfd.tabulate(conditions=genres, samples=modals)"
   ]
  },
  {
   "cell_type": "markdown",
   "metadata": {},
   "source": [
    "Observe that the most frequent modal in the news genre is will, while the most frequent modal in the romance genre is could. Would you have predicted this? "
   ]
  },
  {
   "cell_type": "markdown",
   "metadata": {},
   "source": [
    "<font style=\"background:#00FF00\"><strong>Word counts might distinguish genres</strong></font>."
   ]
  },
  {
   "cell_type": "markdown",
   "metadata": {},
   "source": [
    "<font size=2 style=\"color:#BA4A00\">**Exercise**</font>\n",
    "\n",
    "Choose a different section of the Brown Corpus, and adapt the previous example to count a selection of wh words, such as ***what, when, where, who, why***."
   ]
  },
  {
   "cell_type": "markdown",
   "metadata": {},
   "source": [
    "## 1.4   Reuters Corpus"
   ]
  },
  {
   "cell_type": "markdown",
   "metadata": {},
   "source": [
    "The Reuters Corpus contains 10,788 news documents totaling 1.3 million words. The documents have been classified into 90 topics, and grouped into two sets, called \"training\" and \"test\".\n",
    "\n",
    "Thus, the text with fileid 'test/14826' is a document drawn from the test set. This split is for training and testing algorithms that <font style=\"background:#00FF00\"><strong>automatically detect the topic of a document</strong></font>."
   ]
  },
  {
   "cell_type": "code",
   "execution_count": 43,
   "metadata": {
    "execution": {
     "iopub.execute_input": "2022-03-03T11:42:47.617059Z",
     "iopub.status.busy": "2022-03-03T11:42:47.616743Z",
     "iopub.status.idle": "2022-03-03T11:42:47.621229Z",
     "shell.execute_reply": "2022-03-03T11:42:47.620451Z",
     "shell.execute_reply.started": "2022-03-03T11:42:47.617027Z"
    }
   },
   "outputs": [],
   "source": [
    "from nltk.corpus import reuters"
   ]
  },
  {
   "cell_type": "code",
   "execution_count": 44,
   "metadata": {
    "execution": {
     "iopub.execute_input": "2022-03-03T11:42:47.622554Z",
     "iopub.status.busy": "2022-03-03T11:42:47.622247Z",
     "iopub.status.idle": "2022-03-03T11:42:48.051951Z",
     "shell.execute_reply": "2022-03-03T11:42:48.050901Z",
     "shell.execute_reply.started": "2022-03-03T11:42:47.622519Z"
    }
   },
   "outputs": [
    {
     "data": {
      "text/plain": [
       "['test/14826',\n",
       " 'test/14828',\n",
       " 'test/14829',\n",
       " 'test/14832',\n",
       " 'test/14833',\n",
       " 'test/14839',\n",
       " 'test/14840',\n",
       " 'test/14841',\n",
       " 'test/14842',\n",
       " 'test/14843']"
      ]
     },
     "execution_count": 44,
     "metadata": {},
     "output_type": "execute_result"
    }
   ],
   "source": [
    "reuters.fileids()[:10]"
   ]
  },
  {
   "cell_type": "code",
   "execution_count": 45,
   "metadata": {
    "execution": {
     "iopub.execute_input": "2022-03-03T11:42:48.053643Z",
     "iopub.status.busy": "2022-03-03T11:42:48.053331Z",
     "iopub.status.idle": "2022-03-03T11:42:48.059912Z",
     "shell.execute_reply": "2022-03-03T11:42:48.059157Z",
     "shell.execute_reply.started": "2022-03-03T11:42:48.053608Z"
    }
   },
   "outputs": [
    {
     "data": {
      "text/plain": [
       "10788"
      ]
     },
     "execution_count": 45,
     "metadata": {},
     "output_type": "execute_result"
    }
   ],
   "source": [
    "len(reuters.fileids())"
   ]
  },
  {
   "cell_type": "code",
   "execution_count": 46,
   "metadata": {
    "execution": {
     "iopub.execute_input": "2022-03-03T11:42:48.062099Z",
     "iopub.status.busy": "2022-03-03T11:42:48.061327Z",
     "iopub.status.idle": "2022-03-03T11:42:49.041162Z",
     "shell.execute_reply": "2022-03-03T11:42:49.040118Z",
     "shell.execute_reply.started": "2022-03-03T11:42:48.062062Z"
    }
   },
   "outputs": [
    {
     "data": {
      "text/plain": [
       "['acq',\n",
       " 'alum',\n",
       " 'barley',\n",
       " 'bop',\n",
       " 'carcass',\n",
       " 'castor-oil',\n",
       " 'cocoa',\n",
       " 'coconut',\n",
       " 'coconut-oil',\n",
       " 'coffee']"
      ]
     },
     "execution_count": 46,
     "metadata": {},
     "output_type": "execute_result"
    }
   ],
   "source": [
    "reuters.categories()[:10]"
   ]
  },
  {
   "cell_type": "code",
   "execution_count": 47,
   "metadata": {
    "execution": {
     "iopub.execute_input": "2022-03-03T11:42:49.042516Z",
     "iopub.status.busy": "2022-03-03T11:42:49.042255Z",
     "iopub.status.idle": "2022-03-03T11:42:49.049422Z",
     "shell.execute_reply": "2022-03-03T11:42:49.048567Z",
     "shell.execute_reply.started": "2022-03-03T11:42:49.042486Z"
    }
   },
   "outputs": [
    {
     "data": {
      "text/plain": [
       "90"
      ]
     },
     "execution_count": 47,
     "metadata": {},
     "output_type": "execute_result"
    }
   ],
   "source": [
    "len(reuters.categories())"
   ]
  },
  {
   "cell_type": "markdown",
   "metadata": {},
   "source": [
    "Unlike the Brown Corpus, categories in the Reuters corpus <font size=2 style=\"color:#3498DB\">**overlap**</font> with each other, simply because <font style=\"background:#00FF00\"><strong>a news story often covers multiple topics</strong></font>. \n",
    "\n",
    "We can ask for the topics covered by one or more documents, or for the documents included in one or more categories. For convenience, the corpus methods accept a single fileid or a list of fileids."
   ]
  },
  {
   "cell_type": "code",
   "execution_count": 48,
   "metadata": {
    "execution": {
     "iopub.execute_input": "2022-03-03T11:42:49.051657Z",
     "iopub.status.busy": "2022-03-03T11:42:49.050987Z",
     "iopub.status.idle": "2022-03-03T11:42:49.062300Z",
     "shell.execute_reply": "2022-03-03T11:42:49.061205Z",
     "shell.execute_reply.started": "2022-03-03T11:42:49.051617Z"
    }
   },
   "outputs": [
    {
     "data": {
      "text/plain": [
       "['barley', 'corn', 'grain', 'wheat']"
      ]
     },
     "execution_count": 48,
     "metadata": {},
     "output_type": "execute_result"
    }
   ],
   "source": [
    "reuters.categories('training/9865') # 根据文件id返回主题"
   ]
  },
  {
   "cell_type": "code",
   "execution_count": 49,
   "metadata": {
    "execution": {
     "iopub.execute_input": "2022-03-03T11:42:49.063727Z",
     "iopub.status.busy": "2022-03-03T11:42:49.063488Z",
     "iopub.status.idle": "2022-03-03T11:42:49.075081Z",
     "shell.execute_reply": "2022-03-03T11:42:49.074365Z",
     "shell.execute_reply.started": "2022-03-03T11:42:49.063699Z"
    }
   },
   "outputs": [
    {
     "data": {
      "text/plain": [
       "['barley', 'corn', 'grain', 'money-fx', 'wheat']"
      ]
     },
     "execution_count": 49,
     "metadata": {},
     "output_type": "execute_result"
    }
   ],
   "source": [
    "reuters.categories(['training/9865', 'training/9880'])"
   ]
  },
  {
   "cell_type": "code",
   "execution_count": 50,
   "metadata": {
    "execution": {
     "iopub.execute_input": "2022-03-03T11:42:49.076319Z",
     "iopub.status.busy": "2022-03-03T11:42:49.076093Z",
     "iopub.status.idle": "2022-03-03T11:42:49.087522Z",
     "shell.execute_reply": "2022-03-03T11:42:49.086532Z",
     "shell.execute_reply.started": "2022-03-03T11:42:49.076292Z"
    }
   },
   "outputs": [
    {
     "data": {
      "text/plain": [
       "['test/15618',\n",
       " 'test/15649',\n",
       " 'test/15676',\n",
       " 'test/15728',\n",
       " 'test/15871',\n",
       " 'test/15875',\n",
       " 'test/15952',\n",
       " 'test/17767',\n",
       " 'test/17769',\n",
       " 'test/18024']"
      ]
     },
     "execution_count": 50,
     "metadata": {},
     "output_type": "execute_result"
    }
   ],
   "source": [
    "reuters.fileids('barley')[:10] # 根据主题返回文件id"
   ]
  },
  {
   "cell_type": "code",
   "execution_count": 51,
   "metadata": {
    "execution": {
     "iopub.execute_input": "2022-03-03T11:42:49.089233Z",
     "iopub.status.busy": "2022-03-03T11:42:49.088920Z",
     "iopub.status.idle": "2022-03-03T11:42:49.099957Z",
     "shell.execute_reply": "2022-03-03T11:42:49.098795Z",
     "shell.execute_reply.started": "2022-03-03T11:42:49.089192Z"
    }
   },
   "outputs": [
    {
     "data": {
      "text/plain": [
       "51"
      ]
     },
     "execution_count": 51,
     "metadata": {},
     "output_type": "execute_result"
    }
   ],
   "source": [
    "len(reuters.fileids('barley'))"
   ]
  },
  {
   "cell_type": "markdown",
   "metadata": {},
   "source": [
    "Similarly, we can specify the words or sentences we want **in terms of files or categories**. The first handful of words in each of these texts are the **titles**, which by convention are stored as **upper case**.\n"
   ]
  },
  {
   "cell_type": "code",
   "execution_count": 52,
   "metadata": {
    "execution": {
     "iopub.execute_input": "2022-03-03T11:42:49.103549Z",
     "iopub.status.busy": "2022-03-03T11:42:49.101730Z",
     "iopub.status.idle": "2022-03-03T11:42:49.118885Z",
     "shell.execute_reply": "2022-03-03T11:42:49.117856Z",
     "shell.execute_reply.started": "2022-03-03T11:42:49.103509Z"
    }
   },
   "outputs": [
    {
     "data": {
      "text/plain": [
       "['FRENCH',\n",
       " 'FREE',\n",
       " 'MARKET',\n",
       " 'CEREAL',\n",
       " 'EXPORT',\n",
       " 'BIDS',\n",
       " 'DETAILED',\n",
       " 'French',\n",
       " 'operators',\n",
       " 'have',\n",
       " 'requested',\n",
       " 'licences',\n",
       " 'to',\n",
       " 'export']"
      ]
     },
     "execution_count": 52,
     "metadata": {},
     "output_type": "execute_result"
    }
   ],
   "source": [
    "reuters.words('training/9865')[:14]"
   ]
  },
  {
   "cell_type": "code",
   "execution_count": 53,
   "metadata": {
    "execution": {
     "iopub.execute_input": "2022-03-03T11:42:49.120662Z",
     "iopub.status.busy": "2022-03-03T11:42:49.120170Z",
     "iopub.status.idle": "2022-03-03T11:42:49.127774Z",
     "shell.execute_reply": "2022-03-03T11:42:49.126980Z",
     "shell.execute_reply.started": "2022-03-03T11:42:49.120630Z"
    }
   },
   "outputs": [
    {
     "data": {
      "text/plain": [
       "['FRENCH', 'FREE', 'MARKET', 'CEREAL', 'EXPORT', ...]"
      ]
     },
     "execution_count": 53,
     "metadata": {},
     "output_type": "execute_result"
    }
   ],
   "source": [
    "reuters.words(['training/9865', 'training/9880'])"
   ]
  },
  {
   "cell_type": "code",
   "execution_count": 54,
   "metadata": {
    "execution": {
     "iopub.execute_input": "2022-03-03T11:42:49.129435Z",
     "iopub.status.busy": "2022-03-03T11:42:49.129030Z",
     "iopub.status.idle": "2022-03-03T11:42:49.150161Z",
     "shell.execute_reply": "2022-03-03T11:42:49.149229Z",
     "shell.execute_reply.started": "2022-03-03T11:42:49.129397Z"
    }
   },
   "outputs": [
    {
     "data": {
      "text/plain": [
       "['FRENCH', 'FREE', 'MARKET', 'CEREAL', 'EXPORT', ...]"
      ]
     },
     "execution_count": 54,
     "metadata": {},
     "output_type": "execute_result"
    }
   ],
   "source": [
    "reuters.words(categories='barley')"
   ]
  },
  {
   "cell_type": "code",
   "execution_count": 55,
   "metadata": {
    "execution": {
     "iopub.execute_input": "2022-03-03T11:42:49.151804Z",
     "iopub.status.busy": "2022-03-03T11:42:49.151536Z",
     "iopub.status.idle": "2022-03-03T11:42:49.169297Z",
     "shell.execute_reply": "2022-03-03T11:42:49.168634Z",
     "shell.execute_reply.started": "2022-03-03T11:42:49.151772Z"
    }
   },
   "outputs": [
    {
     "data": {
      "text/plain": [
       "['THAI', 'TRADE', 'DEFICIT', 'WIDENS', 'IN', 'FIRST', ...]"
      ]
     },
     "execution_count": 55,
     "metadata": {},
     "output_type": "execute_result"
    }
   ],
   "source": [
    "reuters.words(categories=['barley', 'corn'])"
   ]
  },
  {
   "cell_type": "markdown",
   "metadata": {},
   "source": [
    "## 1.5   Inaugural Address Corpus"
   ]
  },
  {
   "cell_type": "markdown",
   "metadata": {},
   "source": [
    "An interesting property of this collection is its **time dimension**."
   ]
  },
  {
   "cell_type": "code",
   "execution_count": 56,
   "metadata": {
    "execution": {
     "iopub.execute_input": "2022-03-03T11:42:49.170954Z",
     "iopub.status.busy": "2022-03-03T11:42:49.170612Z",
     "iopub.status.idle": "2022-03-03T11:42:49.179997Z",
     "shell.execute_reply": "2022-03-03T11:42:49.178992Z",
     "shell.execute_reply.started": "2022-03-03T11:42:49.170923Z"
    }
   },
   "outputs": [],
   "source": [
    "from nltk.corpus import inaugural"
   ]
  },
  {
   "cell_type": "code",
   "execution_count": 57,
   "metadata": {
    "execution": {
     "iopub.execute_input": "2022-03-03T11:42:49.181233Z",
     "iopub.status.busy": "2022-03-03T11:42:49.181006Z",
     "iopub.status.idle": "2022-03-03T11:42:49.199783Z",
     "shell.execute_reply": "2022-03-03T11:42:49.198794Z",
     "shell.execute_reply.started": "2022-03-03T11:42:49.181207Z"
    }
   },
   "outputs": [
    {
     "data": {
      "text/plain": [
       "['1789-Washington.txt',\n",
       " '1793-Washington.txt',\n",
       " '1797-Adams.txt',\n",
       " '1801-Jefferson.txt',\n",
       " '1805-Jefferson.txt',\n",
       " '1809-Madison.txt',\n",
       " '1813-Madison.txt',\n",
       " '1817-Monroe.txt',\n",
       " '1821-Monroe.txt',\n",
       " '1825-Adams.txt',\n",
       " '1829-Jackson.txt',\n",
       " '1833-Jackson.txt',\n",
       " '1837-VanBuren.txt',\n",
       " '1841-Harrison.txt',\n",
       " '1845-Polk.txt',\n",
       " '1849-Taylor.txt',\n",
       " '1853-Pierce.txt',\n",
       " '1857-Buchanan.txt',\n",
       " '1861-Lincoln.txt',\n",
       " '1865-Lincoln.txt',\n",
       " '1869-Grant.txt',\n",
       " '1873-Grant.txt',\n",
       " '1877-Hayes.txt',\n",
       " '1881-Garfield.txt',\n",
       " '1885-Cleveland.txt',\n",
       " '1889-Harrison.txt',\n",
       " '1893-Cleveland.txt',\n",
       " '1897-McKinley.txt',\n",
       " '1901-McKinley.txt',\n",
       " '1905-Roosevelt.txt',\n",
       " '1909-Taft.txt',\n",
       " '1913-Wilson.txt',\n",
       " '1917-Wilson.txt',\n",
       " '1921-Harding.txt',\n",
       " '1925-Coolidge.txt',\n",
       " '1929-Hoover.txt',\n",
       " '1933-Roosevelt.txt',\n",
       " '1937-Roosevelt.txt',\n",
       " '1941-Roosevelt.txt',\n",
       " '1945-Roosevelt.txt',\n",
       " '1949-Truman.txt',\n",
       " '1953-Eisenhower.txt',\n",
       " '1957-Eisenhower.txt',\n",
       " '1961-Kennedy.txt',\n",
       " '1965-Johnson.txt',\n",
       " '1969-Nixon.txt',\n",
       " '1973-Nixon.txt',\n",
       " '1977-Carter.txt',\n",
       " '1981-Reagan.txt',\n",
       " '1985-Reagan.txt',\n",
       " '1989-Bush.txt',\n",
       " '1993-Clinton.txt',\n",
       " '1997-Clinton.txt',\n",
       " '2001-Bush.txt',\n",
       " '2005-Bush.txt',\n",
       " '2009-Obama.txt',\n",
       " '2013-Obama.txt',\n",
       " '2017-Trump.txt',\n",
       " '2021-Biden.txt']"
      ]
     },
     "execution_count": 57,
     "metadata": {},
     "output_type": "execute_result"
    }
   ],
   "source": [
    "inaugural.fileids()"
   ]
  },
  {
   "cell_type": "code",
   "execution_count": 58,
   "metadata": {
    "execution": {
     "iopub.execute_input": "2022-03-03T11:42:49.201734Z",
     "iopub.status.busy": "2022-03-03T11:42:49.201211Z",
     "iopub.status.idle": "2022-03-03T11:42:49.209497Z",
     "shell.execute_reply": "2022-03-03T11:42:49.208275Z",
     "shell.execute_reply.started": "2022-03-03T11:42:49.201683Z"
    }
   },
   "outputs": [
    {
     "data": {
      "text/plain": [
       "59"
      ]
     },
     "execution_count": 58,
     "metadata": {},
     "output_type": "execute_result"
    }
   ],
   "source": [
    "len(inaugural.fileids())"
   ]
  },
  {
   "cell_type": "code",
   "execution_count": 59,
   "metadata": {
    "execution": {
     "iopub.execute_input": "2022-03-03T11:42:49.211560Z",
     "iopub.status.busy": "2022-03-03T11:42:49.210958Z",
     "iopub.status.idle": "2022-03-03T11:42:49.224675Z",
     "shell.execute_reply": "2022-03-03T11:42:49.223881Z",
     "shell.execute_reply.started": "2022-03-03T11:42:49.211511Z"
    }
   },
   "outputs": [
    {
     "data": {
      "text/plain": [
       "['1789',\n",
       " '1793',\n",
       " '1797',\n",
       " '1801',\n",
       " '1805',\n",
       " '1809',\n",
       " '1813',\n",
       " '1817',\n",
       " '1821',\n",
       " '1825',\n",
       " '1829',\n",
       " '1833',\n",
       " '1837',\n",
       " '1841',\n",
       " '1845',\n",
       " '1849',\n",
       " '1853',\n",
       " '1857',\n",
       " '1861',\n",
       " '1865',\n",
       " '1869',\n",
       " '1873',\n",
       " '1877',\n",
       " '1881',\n",
       " '1885',\n",
       " '1889',\n",
       " '1893',\n",
       " '1897',\n",
       " '1901',\n",
       " '1905',\n",
       " '1909',\n",
       " '1913',\n",
       " '1917',\n",
       " '1921',\n",
       " '1925',\n",
       " '1929',\n",
       " '1933',\n",
       " '1937',\n",
       " '1941',\n",
       " '1945',\n",
       " '1949',\n",
       " '1953',\n",
       " '1957',\n",
       " '1961',\n",
       " '1965',\n",
       " '1969',\n",
       " '1973',\n",
       " '1977',\n",
       " '1981',\n",
       " '1985',\n",
       " '1989',\n",
       " '1993',\n",
       " '1997',\n",
       " '2001',\n",
       " '2005',\n",
       " '2009',\n",
       " '2013',\n",
       " '2017',\n",
       " '2021']"
      ]
     },
     "execution_count": 59,
     "metadata": {},
     "output_type": "execute_result"
    }
   ],
   "source": [
    "[fileid[:4] for fileid in inaugural.fileids()]"
   ]
  },
  {
   "cell_type": "markdown",
   "metadata": {},
   "source": [
    "<font size=2 style=\"color:#2ECC71\">**Example**</font>\n",
    "\n",
    "Let's look at how the words ***America*** and ***citizen*** are used over time. \n",
    "\n",
    "The following code converts the words in the Inaugural corpus to lowercase using `w.lower()`, then checks if they start with either of the \"targets\" ***america*** or ***citizen*** using `startswith()`. Thus it will count words like *American's* and *Citizens*."
   ]
  },
  {
   "cell_type": "code",
   "execution_count": 60,
   "metadata": {
    "execution": {
     "iopub.execute_input": "2022-03-03T11:42:49.226545Z",
     "iopub.status.busy": "2022-03-03T11:42:49.226302Z",
     "iopub.status.idle": "2022-03-03T11:42:49.518776Z",
     "shell.execute_reply": "2022-03-03T11:42:49.517879Z",
     "shell.execute_reply.started": "2022-03-03T11:42:49.226517Z"
    }
   },
   "outputs": [],
   "source": [
    "inaugural_cfd = nltk.ConditionalFreqDist(\n",
    "    (target, fileid[:4])\n",
    "    for fileid in inaugural.fileids()\n",
    "    for w in inaugural.words(fileid)\n",
    "    for target in ['america', 'citizen']\n",
    "    if w.lower().startswith(target))"
   ]
  },
  {
   "cell_type": "code",
   "execution_count": 61,
   "metadata": {
    "execution": {
     "iopub.execute_input": "2022-03-03T11:42:49.520480Z",
     "iopub.status.busy": "2022-03-03T11:42:49.520185Z",
     "iopub.status.idle": "2022-03-03T11:42:50.220685Z",
     "shell.execute_reply": "2022-03-03T11:42:50.219768Z",
     "shell.execute_reply.started": "2022-03-03T11:42:49.520442Z"
    }
   },
   "outputs": [
    {
     "data": {
      "text/plain": [
       "<Figure size 640x480 with 1 Axes>"
      ]
     },
     "metadata": {},
     "output_type": "display_data"
    },
    {
     "data": {
      "text/plain": [
       "<AxesSubplot:xlabel='Samples', ylabel='Counts'>"
      ]
     },
     "execution_count": 61,
     "metadata": {},
     "output_type": "execute_result"
    }
   ],
   "source": [
    "inaugural_cfd.plot()"
   ]
  },
  {
   "cell_type": "markdown",
   "metadata": {},
   "source": [
    "## 1.6   Annotated Text Corpora"
   ]
  },
  {
   "cell_type": "markdown",
   "metadata": {},
   "source": [
    "Many text corpora contain ***linguistic annotations***, representing POS tags, named entities, syntactic structures, semantic roles, and so forth. \n",
    "\n",
    "NLTK provides convenient ways to access several of these corpora, and has data packages containing corpora and corpus samples, freely downloadable for use in teaching and research. \n",
    "\n",
    "For more information, please refer the following websites:"
   ]
  },
  {
   "cell_type": "markdown",
   "metadata": {},
   "source": [
    "http://nltk.org/data\n",
    "\n",
    "https://www.nltk.org/howto/"
   ]
  },
  {
   "cell_type": "markdown",
   "metadata": {},
   "source": [
    "## 1.7   Corpora in Other Languages"
   ]
  },
  {
   "cell_type": "markdown",
   "metadata": {},
   "source": [
    "See several corpora in other language than English."
   ]
  },
  {
   "cell_type": "code",
   "execution_count": 62,
   "metadata": {},
   "outputs": [
    {
     "name": "stderr",
     "output_type": "stream",
     "text": [
      "[nltk_data] Downloading package cess_esp to\n",
      "[nltk_data]     /usr/local/share/nltk_data...\n",
      "[nltk_data]   Package cess_esp is already up-to-date!\n"
     ]
    },
    {
     "data": {
      "text/plain": [
       "True"
      ]
     },
     "execution_count": 62,
     "metadata": {},
     "output_type": "execute_result"
    }
   ],
   "source": [
    "nltk.download('cess_esp')"
   ]
  },
  {
   "cell_type": "code",
   "execution_count": 63,
   "metadata": {
    "execution": {
     "iopub.execute_input": "2022-03-03T11:42:50.222377Z",
     "iopub.status.busy": "2022-03-03T11:42:50.222070Z",
     "iopub.status.idle": "2022-03-03T11:42:50.263234Z",
     "shell.execute_reply": "2022-03-03T11:42:50.262336Z",
     "shell.execute_reply.started": "2022-03-03T11:42:50.222336Z"
    }
   },
   "outputs": [
    {
     "data": {
      "text/plain": [
       "['El', 'grupo', 'estatal', 'Electricité_de_France', ...]"
      ]
     },
     "execution_count": 63,
     "metadata": {},
     "output_type": "execute_result"
    }
   ],
   "source": [
    "nltk.corpus.cess_esp.words() # 法语"
   ]
  },
  {
   "cell_type": "code",
   "execution_count": 64,
   "metadata": {},
   "outputs": [
    {
     "name": "stderr",
     "output_type": "stream",
     "text": [
      "[nltk_data] Downloading package floresta to\n",
      "[nltk_data]     /usr/local/share/nltk_data...\n",
      "[nltk_data]   Package floresta is already up-to-date!\n"
     ]
    },
    {
     "data": {
      "text/plain": [
       "True"
      ]
     },
     "execution_count": 64,
     "metadata": {},
     "output_type": "execute_result"
    }
   ],
   "source": [
    "nltk.download('floresta')"
   ]
  },
  {
   "cell_type": "code",
   "execution_count": 65,
   "metadata": {
    "execution": {
     "iopub.execute_input": "2022-03-03T11:42:50.265360Z",
     "iopub.status.busy": "2022-03-03T11:42:50.264526Z",
     "iopub.status.idle": "2022-03-03T11:42:50.295345Z",
     "shell.execute_reply": "2022-03-03T11:42:50.294722Z",
     "shell.execute_reply.started": "2022-03-03T11:42:50.265316Z"
    }
   },
   "outputs": [
    {
     "data": {
      "text/plain": [
       "['Um', 'revivalismo', 'refrescante', 'O', '7_e_Meio', ...]"
      ]
     },
     "execution_count": 65,
     "metadata": {},
     "output_type": "execute_result"
    }
   ],
   "source": [
    "nltk.corpus.floresta.words() # 葡萄牙语"
   ]
  },
  {
   "cell_type": "code",
   "execution_count": 66,
   "metadata": {},
   "outputs": [
    {
     "name": "stderr",
     "output_type": "stream",
     "text": [
      "[nltk_data] Downloading package indian to\n",
      "[nltk_data]     /usr/local/share/nltk_data...\n",
      "[nltk_data]   Package indian is already up-to-date!\n"
     ]
    },
    {
     "data": {
      "text/plain": [
       "True"
      ]
     },
     "execution_count": 66,
     "metadata": {},
     "output_type": "execute_result"
    }
   ],
   "source": [
    "nltk.download('indian')"
   ]
  },
  {
   "cell_type": "code",
   "execution_count": 67,
   "metadata": {
    "execution": {
     "iopub.execute_input": "2022-03-03T11:42:50.296960Z",
     "iopub.status.busy": "2022-03-03T11:42:50.296260Z",
     "iopub.status.idle": "2022-03-03T11:42:50.305627Z",
     "shell.execute_reply": "2022-03-03T11:42:50.304882Z",
     "shell.execute_reply.started": "2022-03-03T11:42:50.296924Z"
    }
   },
   "outputs": [
    {
     "data": {
      "text/plain": [
       "['पूर्ण', 'प्रतिबंध', 'हटाओ', ':', 'इराक', 'संयुक्त', ...]"
      ]
     },
     "execution_count": 67,
     "metadata": {},
     "output_type": "execute_result"
    }
   ],
   "source": [
    "nltk.corpus.indian.words('hindi.pos') # 印地语"
   ]
  },
  {
   "cell_type": "code",
   "execution_count": 68,
   "metadata": {},
   "outputs": [
    {
     "name": "stderr",
     "output_type": "stream",
     "text": [
      "[nltk_data] Downloading package udhr to /usr/local/share/nltk_data...\n",
      "[nltk_data]   Package udhr is already up-to-date!\n"
     ]
    },
    {
     "data": {
      "text/plain": [
       "True"
      ]
     },
     "execution_count": 68,
     "metadata": {},
     "output_type": "execute_result"
    }
   ],
   "source": [
    "nltk.download('udhr')"
   ]
  },
  {
   "cell_type": "markdown",
   "metadata": {},
   "source": [
    "`udhr` contains the Universal Declaration of Human Rights (人权宣言) in over 300 languages."
   ]
  },
  {
   "cell_type": "code",
   "execution_count": 69,
   "metadata": {
    "execution": {
     "iopub.execute_input": "2022-03-03T11:42:50.307199Z",
     "iopub.status.busy": "2022-03-03T11:42:50.306712Z",
     "iopub.status.idle": "2022-03-03T11:42:50.322101Z",
     "shell.execute_reply": "2022-03-03T11:42:50.321467Z",
     "shell.execute_reply.started": "2022-03-03T11:42:50.307163Z"
    }
   },
   "outputs": [
    {
     "data": {
      "text/plain": [
       "['Abkhaz-Cyrillic+Abkh',\n",
       " 'Abkhaz-UTF8',\n",
       " 'Achehnese-Latin1',\n",
       " 'Achuar-Shiwiar-Latin1',\n",
       " 'Adja-UTF8',\n",
       " 'Afaan_Oromo_Oromiffa-Latin1',\n",
       " 'Afrikaans-Latin1',\n",
       " 'Aguaruna-Latin1',\n",
       " 'Akuapem_Twi-UTF8',\n",
       " 'Albanian_Shqip-Latin1']"
      ]
     },
     "execution_count": 69,
     "metadata": {},
     "output_type": "execute_result"
    }
   ],
   "source": [
    "nltk.corpus.udhr.fileids()[:10]"
   ]
  },
  {
   "cell_type": "code",
   "execution_count": 70,
   "metadata": {
    "execution": {
     "iopub.execute_input": "2022-03-03T11:42:50.323863Z",
     "iopub.status.busy": "2022-03-03T11:42:50.323118Z",
     "iopub.status.idle": "2022-03-03T11:42:50.349973Z",
     "shell.execute_reply": "2022-03-03T11:42:50.349112Z",
     "shell.execute_reply.started": "2022-03-03T11:42:50.323830Z"
    }
   },
   "outputs": [
    {
     "data": {
      "text/plain": [
       "['PRANYATAN',\n",
       " 'UMUM',\n",
       " 'NGENANI',\n",
       " 'HAK',\n",
       " '-',\n",
       " 'HAK',\n",
       " 'ASASI',\n",
       " '(',\n",
       " 'UMAT',\n",
       " ')',\n",
       " 'MANUNGSA']"
      ]
     },
     "execution_count": 70,
     "metadata": {},
     "output_type": "execute_result"
    }
   ],
   "source": [
    "nltk.corpus.udhr.words('Javanese-Latin1')[:11] # 爪哇语"
   ]
  },
  {
   "cell_type": "markdown",
   "metadata": {},
   "source": [
    "Let's use a ***conditional frequency distribution*** to examine the differences in word lengths for a selection of languages included in the udhr corpus."
   ]
  },
  {
   "cell_type": "code",
   "execution_count": 71,
   "metadata": {
    "execution": {
     "iopub.execute_input": "2022-03-03T11:42:50.351962Z",
     "iopub.status.busy": "2022-03-03T11:42:50.351166Z",
     "iopub.status.idle": "2022-03-03T11:42:50.355786Z",
     "shell.execute_reply": "2022-03-03T11:42:50.354967Z",
     "shell.execute_reply.started": "2022-03-03T11:42:50.351928Z"
    }
   },
   "outputs": [],
   "source": [
    "from nltk.corpus import udhr"
   ]
  },
  {
   "cell_type": "code",
   "execution_count": 72,
   "metadata": {
    "execution": {
     "iopub.execute_input": "2022-03-03T11:42:50.358027Z",
     "iopub.status.busy": "2022-03-03T11:42:50.357533Z",
     "iopub.status.idle": "2022-03-03T11:42:50.367513Z",
     "shell.execute_reply": "2022-03-03T11:42:50.366531Z",
     "shell.execute_reply.started": "2022-03-03T11:42:50.357982Z"
    }
   },
   "outputs": [],
   "source": [
    "languages = ['Chickasaw', 'English', 'German_Deutsch','Greenlandic_Inuktikut', 'Hungarian_Magyar', 'Ibibio_Efik']"
   ]
  },
  {
   "cell_type": "code",
   "execution_count": 73,
   "metadata": {
    "execution": {
     "iopub.execute_input": "2022-03-03T11:42:50.369980Z",
     "iopub.status.busy": "2022-03-03T11:42:50.369475Z",
     "iopub.status.idle": "2022-03-03T11:42:50.410016Z",
     "shell.execute_reply": "2022-03-03T11:42:50.408976Z",
     "shell.execute_reply.started": "2022-03-03T11:42:50.369936Z"
    }
   },
   "outputs": [],
   "source": [
    "lang_cfd = nltk.ConditionalFreqDist(\n",
    "    (lang, len(word))\n",
    "    for lang in languages\n",
    "    for word in udhr.words(lang + '-Latin1'))"
   ]
  },
  {
   "cell_type": "code",
   "execution_count": 74,
   "metadata": {
    "execution": {
     "iopub.execute_input": "2022-03-03T11:42:50.412006Z",
     "iopub.status.busy": "2022-03-03T11:42:50.411442Z",
     "iopub.status.idle": "2022-03-03T11:42:50.830682Z",
     "shell.execute_reply": "2022-03-03T11:42:50.829873Z",
     "shell.execute_reply.started": "2022-03-03T11:42:50.411967Z"
    }
   },
   "outputs": [
    {
     "data": {
      "image/png": "[encoded data removed]",
      "text/plain": [
       "<Figure size 432x288 with 1 Axes>"
      ]
     },
     "metadata": {
      "needs_background": "light"
     },
     "output_type": "display_data"
    },
    {
     "data": {
      "text/plain": [
       "<AxesSubplot:xlabel='Samples', ylabel='Cumulative Counts'>"
      ]
     },
     "execution_count": 74,
     "metadata": {},
     "output_type": "execute_result"
    }
   ],
   "source": [
    "lang_cfd.plot(cumulative=True)"
   ]
  },
  {
   "cell_type": "markdown",
   "metadata": {},
   "source": [
    "<font size=2 style=\"color:#BA4A00\">**Exercise**</font>\n",
    "\n",
    "Pick a language of interest in `udhr.fileids()`, and define a variable `raw_text = udhr.raw(Language-Latin1)`.\n",
    "\n",
    "Now plot a frequency distribution of the letters of the text using `nltk.FreqDist(raw_text).plot()`."
   ]
  },
  {
   "cell_type": "markdown",
   "metadata": {},
   "source": [
    "## 1.8   Text Corpus Structure"
   ]
  },
  {
   "cell_type": "markdown",
   "metadata": {},
   "source": [
    "NLTK's corpus readers support efficient access to a variety of corpora, and can be used to work with new corpora."
   ]
  },
  {
   "cell_type": "markdown",
   "metadata": {},
   "source": [
    "<div align=center>\n",
    "<img src=\"https://www.nltk.org/images/text-corpus-structure.png\">\n",
    "<br>\n",
    "<center><em><strong>Common Structures for Text Corpora</strong></em></center>\n",
    "</div>"
   ]
  },
  {
   "cell_type": "markdown",
   "metadata": {},
   "source": [
    "- The simplest kind of corpus is a collection of isolated texts with no particular organization;\n",
    "\n",
    "- Some corpora are structured into categories like genre (Brown Corpus); \n",
    "\n",
    "- Some categorizations overlap, such as topic categories (Reuters Corpus); \n",
    "\n",
    "- Other corpora represent language use over time (Inaugural Address Corpus)."
   ]
  },
  {
   "cell_type": "markdown",
   "metadata": {},
   "source": [
    "Functionality provided by the corpus readers is as follow:\n",
    "\n",
    "\n",
    "<table border=\"1\" class=\"docutils\" style=text-align:center>\n",
    "<colgroup>\n",
    "<col width=\"35%\">\n",
    "<col width=\"65%\">\n",
    "</colgroup>\n",
    "<thead valign=\"left\">\n",
    "<tr><th class=\"head\">Example</th>\n",
    "<th class=\"head\">Description</th>\n",
    "</tr>\n",
    "</thead>\n",
    "<tbody valign=\"top\">\n",
    "<tr><td><tt class=\"doctest\"><span class=\"pre\">fileids()</span></tt></td>\n",
    "<td>the files of the corpus</td>\n",
    "</tr>\n",
    "<tr><td><tt class=\"doctest\"><span class=\"pre\">fileids([categories])</span></tt></td>\n",
    "<td>the files of the corpus corresponding to these categories</td>\n",
    "</tr>\n",
    "<tr><td><tt class=\"doctest\"><span class=\"pre\">categories()</span></tt></td>\n",
    "<td>the categories of the corpus</td>\n",
    "</tr>\n",
    "<tr><td><tt class=\"doctest\"><span class=\"pre\">categories([fileids])</span></tt></td>\n",
    "<td>the categories of the corpus corresponding to these files</td>\n",
    "</tr>\n",
    "<tr><td><tt class=\"doctest\"><span class=\"pre\">raw()</span></tt></td>\n",
    "<td>the raw content of the corpus</td>\n",
    "</tr>\n",
    "<tr><td><tt class=\"doctest\"><span class=\"pre\">raw(fileids=[f1,f2,f3])</span></tt></td>\n",
    "<td>the raw content of the specified files</td>\n",
    "</tr>\n",
    "<tr><td><tt class=\"doctest\"><span class=\"pre\">raw(categories=[c1,c2])</span></tt></td>\n",
    "<td>the raw content of the specified categories</td>\n",
    "</tr>\n",
    "<tr><td><tt class=\"doctest\"><span class=\"pre\">words()</span></tt></td>\n",
    "<td>the words of the whole corpus</td>\n",
    "</tr>\n",
    "<tr><td><tt class=\"doctest\"><span class=\"pre\">words(fileids=[f1,f2,f3])</span></tt></td>\n",
    "<td>the words of the specified fileids</td>\n",
    "</tr>\n",
    "<tr><td><tt class=\"doctest\"><span class=\"pre\">words(categories=[c1,c2])</span></tt></td>\n",
    "<td>the words of the specified categories</td>\n",
    "</tr>\n",
    "<tr><td><tt class=\"doctest\"><span class=\"pre\">sents()</span></tt></td>\n",
    "<td>the sentences of the whole corpus</td>\n",
    "</tr>\n",
    "<tr><td><tt class=\"doctest\"><span class=\"pre\">sents(fileids=[f1,f2,f3])</span></tt></td>\n",
    "<td>the sentences of the specified fileids</td>\n",
    "</tr>\n",
    "<tr><td><tt class=\"doctest\"><span class=\"pre\">sents(categories=[c1,c2])</span></tt></td>\n",
    "<td>the sentences of the specified categories</td>\n",
    "</tr>\n",
    "<tr><td><tt class=\"doctest\"><span class=\"pre\">abspath(fileid)</span></tt></td>\n",
    "<td>the location of the given file on disk</td>\n",
    "</tr>\n",
    "<tr><td><tt class=\"doctest\"><span class=\"pre\">encoding(fileid)</span></tt></td>\n",
    "<td>the encoding of the file (if known)</td>\n",
    "</tr>\n",
    "<tr><td><tt class=\"doctest\"><span class=\"pre\">open(fileid)</span></tt></td>\n",
    "<td>open a stream for reading the given corpus file</td>\n",
    "</tr>\n",
    "<tr><td><tt class=\"doctest\"><span class=\"pre\">root</span></tt></td>\n",
    "<td>if the path to the root of locally installed corpus</td>\n",
    "</tr>\n",
    "<tr><td><tt class=\"doctest\"><span class=\"pre\">readme()</span></tt></td>\n",
    "<td>the contents of the README file of the corpus</td>\n",
    "</tr>\n",
    "</tbody>\n",
    "\n",
    "\n",
    "</table>"
   ]
  },
  {
   "cell_type": "markdown",
   "metadata": {
    "execution": {
     "iopub.execute_input": "2022-03-03T08:14:09.728187Z",
     "iopub.status.busy": "2022-03-03T08:14:09.727673Z",
     "iopub.status.idle": "2022-03-03T08:14:09.735061Z",
     "shell.execute_reply": "2022-03-03T08:14:09.733648Z",
     "shell.execute_reply.started": "2022-03-03T08:14:09.728153Z"
    }
   },
   "source": [
    "We illustrate the difference between some of the corpus access methods below:"
   ]
  },
  {
   "cell_type": "code",
   "execution_count": 75,
   "metadata": {
    "execution": {
     "iopub.execute_input": "2022-03-03T11:42:50.832663Z",
     "iopub.status.busy": "2022-03-03T11:42:50.832247Z",
     "iopub.status.idle": "2022-03-03T11:42:50.836629Z",
     "shell.execute_reply": "2022-03-03T11:42:50.835591Z",
     "shell.execute_reply.started": "2022-03-03T11:42:50.832630Z"
    }
   },
   "outputs": [],
   "source": [
    "raw = gutenberg.raw(\"burgess-busterbrown.txt\")"
   ]
  },
  {
   "cell_type": "code",
   "execution_count": 76,
   "metadata": {
    "execution": {
     "iopub.execute_input": "2022-03-03T11:42:50.838097Z",
     "iopub.status.busy": "2022-03-03T11:42:50.837858Z",
     "iopub.status.idle": "2022-03-03T11:42:50.851731Z",
     "shell.execute_reply": "2022-03-03T11:42:50.850773Z",
     "shell.execute_reply.started": "2022-03-03T11:42:50.838071Z"
    }
   },
   "outputs": [
    {
     "data": {
      "text/plain": [
       "'The Adventures of B'"
      ]
     },
     "execution_count": 76,
     "metadata": {},
     "output_type": "execute_result"
    }
   ],
   "source": [
    "raw[1:20]"
   ]
  },
  {
   "cell_type": "code",
   "execution_count": 77,
   "metadata": {
    "execution": {
     "iopub.execute_input": "2022-03-03T11:42:50.853830Z",
     "iopub.status.busy": "2022-03-03T11:42:50.853064Z",
     "iopub.status.idle": "2022-03-03T11:42:50.863766Z",
     "shell.execute_reply": "2022-03-03T11:42:50.863034Z",
     "shell.execute_reply.started": "2022-03-03T11:42:50.853762Z"
    }
   },
   "outputs": [],
   "source": [
    "words = gutenberg.words(\"burgess-busterbrown.txt\")"
   ]
  },
  {
   "cell_type": "code",
   "execution_count": 78,
   "metadata": {
    "execution": {
     "iopub.execute_input": "2022-03-03T11:42:50.865718Z",
     "iopub.status.busy": "2022-03-03T11:42:50.865222Z",
     "iopub.status.idle": "2022-03-03T11:42:50.878564Z",
     "shell.execute_reply": "2022-03-03T11:42:50.877791Z",
     "shell.execute_reply.started": "2022-03-03T11:42:50.865675Z"
    }
   },
   "outputs": [
    {
     "data": {
      "text/plain": [
       "['The',\n",
       " 'Adventures',\n",
       " 'of',\n",
       " 'Buster',\n",
       " 'Bear',\n",
       " 'by',\n",
       " 'Thornton',\n",
       " 'W',\n",
       " '.',\n",
       " 'Burgess',\n",
       " '1920',\n",
       " ']',\n",
       " 'I',\n",
       " 'BUSTER',\n",
       " 'BEAR',\n",
       " 'GOES',\n",
       " 'FISHING',\n",
       " 'Buster',\n",
       " 'Bear']"
      ]
     },
     "execution_count": 78,
     "metadata": {},
     "output_type": "execute_result"
    }
   ],
   "source": [
    "words[1:20]"
   ]
  },
  {
   "cell_type": "code",
   "execution_count": 79,
   "metadata": {
    "execution": {
     "iopub.execute_input": "2022-03-03T11:42:50.880387Z",
     "iopub.status.busy": "2022-03-03T11:42:50.879996Z",
     "iopub.status.idle": "2022-03-03T11:42:50.886545Z",
     "shell.execute_reply": "2022-03-03T11:42:50.885886Z",
     "shell.execute_reply.started": "2022-03-03T11:42:50.880342Z"
    }
   },
   "outputs": [],
   "source": [
    "sents = gutenberg.sents(\"burgess-busterbrown.txt\")"
   ]
  },
  {
   "cell_type": "code",
   "execution_count": 80,
   "metadata": {
    "execution": {
     "iopub.execute_input": "2022-03-03T11:42:50.887995Z",
     "iopub.status.busy": "2022-03-03T11:42:50.887665Z",
     "iopub.status.idle": "2022-03-03T11:42:50.899551Z",
     "shell.execute_reply": "2022-03-03T11:42:50.898972Z",
     "shell.execute_reply.started": "2022-03-03T11:42:50.887968Z"
    }
   },
   "outputs": [
    {
     "data": {
      "text/plain": [
       "[['I'], ['BUSTER', 'BEAR', 'GOES', 'FISHING']]"
      ]
     },
     "execution_count": 80,
     "metadata": {},
     "output_type": "execute_result"
    }
   ],
   "source": [
    "sents[1:3]"
   ]
  },
  {
   "cell_type": "markdown",
   "metadata": {},
   "source": [
    "## 1.9   Loading your own Corpus"
   ]
  },
  {
   "cell_type": "markdown",
   "metadata": {},
   "source": [
    "If you have your own collection of text files that you would like to access using the above methods, you can easily load them with the help of NLTK's `PlaintextCorpusReader`."
   ]
  },
  {
   "cell_type": "code",
   "execution_count": 81,
   "metadata": {},
   "outputs": [],
   "source": [
    "# 以下几行注释掉的代码在Linux系统下可直接运行"
   ]
  },
  {
   "cell_type": "code",
   "execution_count": 82,
   "metadata": {
    "execution": {
     "iopub.execute_input": "2022-03-03T11:42:50.901022Z",
     "iopub.status.busy": "2022-03-03T11:42:50.900506Z",
     "iopub.status.idle": "2022-03-03T11:42:50.909119Z",
     "shell.execute_reply": "2022-03-03T11:42:50.908232Z",
     "shell.execute_reply.started": "2022-03-03T11:42:50.900986Z"
    }
   },
   "outputs": [],
   "source": [
    "# from nltk.corpus import PlaintextCorpusReader"
   ]
  },
  {
   "cell_type": "code",
   "execution_count": 83,
   "metadata": {
    "execution": {
     "iopub.execute_input": "2022-03-03T11:42:50.910724Z",
     "iopub.status.busy": "2022-03-03T11:42:50.910489Z",
     "iopub.status.idle": "2022-03-03T11:42:50.921467Z",
     "shell.execute_reply": "2022-03-03T11:42:50.920429Z",
     "shell.execute_reply.started": "2022-03-03T11:42:50.910697Z"
    }
   },
   "outputs": [],
   "source": [
    "# corpus_root = '/usr/share/dict'"
   ]
  },
  {
   "cell_type": "code",
   "execution_count": 84,
   "metadata": {
    "execution": {
     "iopub.execute_input": "2022-03-03T11:42:50.922934Z",
     "iopub.status.busy": "2022-03-03T11:42:50.922526Z",
     "iopub.status.idle": "2022-03-03T11:42:50.935126Z",
     "shell.execute_reply": "2022-03-03T11:42:50.934248Z",
     "shell.execute_reply.started": "2022-03-03T11:42:50.922897Z"
    }
   },
   "outputs": [],
   "source": [
    "# wordlists = PlaintextCorpusReader(corpus_root, '.*')"
   ]
  },
  {
   "cell_type": "code",
   "execution_count": 85,
   "metadata": {
    "execution": {
     "iopub.execute_input": "2022-03-03T11:42:50.936729Z",
     "iopub.status.busy": "2022-03-03T11:42:50.936358Z",
     "iopub.status.idle": "2022-03-03T11:42:50.946330Z",
     "shell.execute_reply": "2022-03-03T11:42:50.945561Z",
     "shell.execute_reply.started": "2022-03-03T11:42:50.936693Z"
    }
   },
   "outputs": [],
   "source": [
    "# wordlists.fileids()"
   ]
  },
  {
   "cell_type": "code",
   "execution_count": 86,
   "metadata": {
    "execution": {
     "iopub.execute_input": "2022-03-03T11:42:50.947641Z",
     "iopub.status.busy": "2022-03-03T11:42:50.947394Z",
     "iopub.status.idle": "2022-03-03T11:42:50.962453Z",
     "shell.execute_reply": "2022-03-03T11:42:50.961565Z",
     "shell.execute_reply.started": "2022-03-03T11:42:50.947614Z"
    }
   },
   "outputs": [],
   "source": [
    "# wordlists.words('README.select-wordlist')[:30]"
   ]
  },
  {
   "cell_type": "markdown",
   "metadata": {},
   "source": [
    "<font size=2 style=\"color:#BA4A00\">**Exercise**</font>\n",
    "\n",
    "从网站`http://opinion.people.com.cn/GB/8213/49160/49217/index.html` 下载人民日报评论员文章，构建语料库，并测试NLTK的Basic Corpus Functionality和本课程已经讲过的语料库相关操作，可以参考NLTK已有语料库的结构和格式构建，关于NLTK语料库的更多信息可参考`https://www.nltk.org/howto/corpus.html`，构建完成后，思考一下利用该语料库你可以进行哪些有趣的分析。"
   ]
  },
  {
   "cell_type": "markdown",
   "metadata": {},
   "source": [
    "# 2.   Conditional Frequency Distributions"
   ]
  },
  {
   "cell_type": "markdown",
   "metadata": {},
   "source": [
    "We saw that given some list `mylist` of words or other items, `FreqDist(mylist)` would compute the number of occurrences of each item in the list. "
   ]
  },
  {
   "cell_type": "markdown",
   "metadata": {},
   "source": [
    "A <font size=2 style=\"color:#3498DB\">**conditional frequency distribution**</font> is a collection of frequency distributions, each one for a different \"condition\".\n",
    "\n",
    "The condition will often be the category of the text."
   ]
  },
  {
   "cell_type": "markdown",
   "metadata": {},
   "source": [
    "## 2.1   Conditions and Events"
   ]
  },
  {
   "cell_type": "markdown",
   "metadata": {},
   "source": [
    "A <font size=2 style=\"color:#3498DB\">**frequency distribution**</font> counts observable events, such as the appearance of words in a text. \n",
    "\n",
    "A conditional frequency distribution needs to <font style=\"background:#00FF00\"><strong>pair each event with a condition</strong></font>. So instead of processing a sequence of words, we have to process <font style=\"background:#00FF00\"><strong>a sequence of pairs</strong></font>."
   ]
  },
  {
   "cell_type": "code",
   "execution_count": 87,
   "metadata": {
    "execution": {
     "iopub.execute_input": "2022-03-03T11:42:50.964666Z",
     "iopub.status.busy": "2022-03-03T11:42:50.964417Z",
     "iopub.status.idle": "2022-03-03T11:42:50.969123Z",
     "shell.execute_reply": "2022-03-03T11:42:50.968491Z",
     "shell.execute_reply.started": "2022-03-03T11:42:50.964637Z"
    }
   },
   "outputs": [],
   "source": [
    "text = ['The', 'Fulton', 'County', 'Grand', 'Jury', 'said']"
   ]
  },
  {
   "cell_type": "code",
   "execution_count": 88,
   "metadata": {
    "execution": {
     "iopub.execute_input": "2022-03-03T11:42:50.970654Z",
     "iopub.status.busy": "2022-03-03T11:42:50.970132Z",
     "iopub.status.idle": "2022-03-03T11:42:50.983451Z",
     "shell.execute_reply": "2022-03-03T11:42:50.982040Z",
     "shell.execute_reply.started": "2022-03-03T11:42:50.970619Z"
    }
   },
   "outputs": [],
   "source": [
    "pairs = [('news', 'The'), ('news', 'Fulton'), ('news', 'County')]"
   ]
  },
  {
   "cell_type": "markdown",
   "metadata": {},
   "source": [
    "Each pair has the form `(condition, event)`. If we were processing the entire Brown Corpus by genre there would be 15 conditions (one per genre), and 1,161,192 events (one per word)."
   ]
  },
  {
   "cell_type": "markdown",
   "metadata": {},
   "source": [
    "## 2.2   Counting Words by Genre"
   ]
  },
  {
   "cell_type": "markdown",
   "metadata": {},
   "source": [
    "Whereas `FreqDist()` takes a simple list as input;\n",
    "\n",
    "`ConditionalFreqDist()` takes a list of pairs."
   ]
  },
  {
   "cell_type": "code",
   "execution_count": 89,
   "metadata": {
    "execution": {
     "iopub.execute_input": "2022-03-03T11:42:50.985375Z",
     "iopub.status.busy": "2022-03-03T11:42:50.985119Z",
     "iopub.status.idle": "2022-03-03T11:42:50.994371Z",
     "shell.execute_reply": "2022-03-03T11:42:50.993513Z",
     "shell.execute_reply.started": "2022-03-03T11:42:50.985347Z"
    }
   },
   "outputs": [],
   "source": [
    "from nltk.corpus import brown"
   ]
  },
  {
   "cell_type": "code",
   "execution_count": 90,
   "metadata": {
    "execution": {
     "iopub.execute_input": "2022-03-03T11:42:50.996075Z",
     "iopub.status.busy": "2022-03-03T11:42:50.995783Z",
     "iopub.status.idle": "2022-03-03T11:42:55.722728Z",
     "shell.execute_reply": "2022-03-03T11:42:55.721870Z",
     "shell.execute_reply.started": "2022-03-03T11:42:50.996034Z"
    }
   },
   "outputs": [],
   "source": [
    "cfd = nltk.ConditionalFreqDist(\n",
    "    (genre, word)\n",
    "    for genre in brown.categories()\n",
    "    for word in brown.words(categories=genre))"
   ]
  },
  {
   "cell_type": "code",
   "execution_count": 91,
   "metadata": {
    "execution": {
     "iopub.execute_input": "2022-03-03T11:42:55.724200Z",
     "iopub.status.busy": "2022-03-03T11:42:55.723963Z",
     "iopub.status.idle": "2022-03-03T11:42:56.294098Z",
     "shell.execute_reply": "2022-03-03T11:42:56.293192Z",
     "shell.execute_reply.started": "2022-03-03T11:42:55.724167Z"
    }
   },
   "outputs": [],
   "source": [
    "# recall the list comprehensions\n",
    "genre_word = [(genre, word)\n",
    "              for genre in ['news', 'romance']\n",
    "              for word in brown.words(categories=genre)]"
   ]
  },
  {
   "cell_type": "code",
   "execution_count": 92,
   "metadata": {
    "execution": {
     "iopub.execute_input": "2022-03-03T11:42:56.295523Z",
     "iopub.status.busy": "2022-03-03T11:42:56.295273Z",
     "iopub.status.idle": "2022-03-03T11:42:56.300521Z",
     "shell.execute_reply": "2022-03-03T11:42:56.300020Z",
     "shell.execute_reply.started": "2022-03-03T11:42:56.295487Z"
    }
   },
   "outputs": [
    {
     "data": {
      "text/plain": [
       "170576"
      ]
     },
     "execution_count": 92,
     "metadata": {},
     "output_type": "execute_result"
    }
   ],
   "source": [
    "len(genre_word)"
   ]
  },
  {
   "cell_type": "code",
   "execution_count": 93,
   "metadata": {
    "execution": {
     "iopub.execute_input": "2022-03-03T11:42:56.308578Z",
     "iopub.status.busy": "2022-03-03T11:42:56.308047Z",
     "iopub.status.idle": "2022-03-03T11:42:56.315502Z",
     "shell.execute_reply": "2022-03-03T11:42:56.314875Z",
     "shell.execute_reply.started": "2022-03-03T11:42:56.308530Z"
    }
   },
   "outputs": [
    {
     "data": {
      "text/plain": [
       "[('news', 'The'),\n",
       " ('news', 'Fulton'),\n",
       " ('news', 'County'),\n",
       " ('news', 'Grand'),\n",
       " ('news', 'Jury'),\n",
       " ('news', 'said'),\n",
       " ('news', 'Friday'),\n",
       " ('news', 'an'),\n",
       " ('news', 'investigation'),\n",
       " ('news', 'of')]"
      ]
     },
     "execution_count": 93,
     "metadata": {},
     "output_type": "execute_result"
    }
   ],
   "source": [
    "genre_word[:10]"
   ]
  },
  {
   "cell_type": "code",
   "execution_count": 94,
   "metadata": {
    "execution": {
     "iopub.execute_input": "2022-03-03T11:42:56.317080Z",
     "iopub.status.busy": "2022-03-03T11:42:56.316678Z",
     "iopub.status.idle": "2022-03-03T11:42:56.327790Z",
     "shell.execute_reply": "2022-03-03T11:42:56.327193Z",
     "shell.execute_reply.started": "2022-03-03T11:42:56.317005Z"
    }
   },
   "outputs": [
    {
     "data": {
      "text/plain": [
       "[('romance', 'Washington'),\n",
       " ('romance', 'episode'),\n",
       " ('romance', \"''\"),\n",
       " ('romance', '.'),\n",
       " ('romance', '``'),\n",
       " ('romance', \"I'm\"),\n",
       " ('romance', 'afraid'),\n",
       " ('romance', 'not'),\n",
       " ('romance', \"''\"),\n",
       " ('romance', '.')]"
      ]
     },
     "execution_count": 94,
     "metadata": {},
     "output_type": "execute_result"
    }
   ],
   "source": [
    "genre_word[-10:]"
   ]
  },
  {
   "cell_type": "markdown",
   "metadata": {},
   "source": [
    "We can now use this list of pairs to create a `ConditionalFreqDist`, and save it in a variable `cfd`."
   ]
  },
  {
   "cell_type": "code",
   "execution_count": 95,
   "metadata": {
    "execution": {
     "iopub.execute_input": "2022-03-03T11:42:56.329189Z",
     "iopub.status.busy": "2022-03-03T11:42:56.328861Z",
     "iopub.status.idle": "2022-03-03T11:42:56.338777Z",
     "shell.execute_reply": "2022-03-03T11:42:56.337907Z",
     "shell.execute_reply.started": "2022-03-03T11:42:56.329162Z"
    }
   },
   "outputs": [],
   "source": [
    "import nltk"
   ]
  },
  {
   "cell_type": "code",
   "execution_count": 96,
   "metadata": {
    "execution": {
     "iopub.execute_input": "2022-03-03T11:42:56.341151Z",
     "iopub.status.busy": "2022-03-03T11:42:56.340566Z",
     "iopub.status.idle": "2022-03-03T11:42:56.523804Z",
     "shell.execute_reply": "2022-03-03T11:42:56.523090Z",
     "shell.execute_reply.started": "2022-03-03T11:42:56.341104Z"
    }
   },
   "outputs": [],
   "source": [
    "cfd = nltk.ConditionalFreqDist(genre_word)"
   ]
  },
  {
   "cell_type": "code",
   "execution_count": 97,
   "metadata": {
    "execution": {
     "iopub.execute_input": "2022-03-03T11:42:56.526008Z",
     "iopub.status.busy": "2022-03-03T11:42:56.525076Z",
     "iopub.status.idle": "2022-03-03T11:42:56.532373Z",
     "shell.execute_reply": "2022-03-03T11:42:56.531557Z",
     "shell.execute_reply.started": "2022-03-03T11:42:56.525961Z"
    }
   },
   "outputs": [
    {
     "data": {
      "text/plain": [
       "<ConditionalFreqDist with 2 conditions>"
      ]
     },
     "execution_count": 97,
     "metadata": {},
     "output_type": "execute_result"
    }
   ],
   "source": [
    "cfd"
   ]
  },
  {
   "cell_type": "code",
   "execution_count": 98,
   "metadata": {
    "execution": {
     "iopub.execute_input": "2022-03-03T11:42:56.534388Z",
     "iopub.status.busy": "2022-03-03T11:42:56.533919Z",
     "iopub.status.idle": "2022-03-03T11:42:56.544405Z",
     "shell.execute_reply": "2022-03-03T11:42:56.543794Z",
     "shell.execute_reply.started": "2022-03-03T11:42:56.534342Z"
    }
   },
   "outputs": [
    {
     "data": {
      "text/plain": [
       "['news', 'romance']"
      ]
     },
     "execution_count": 98,
     "metadata": {},
     "output_type": "execute_result"
    }
   ],
   "source": [
    "cfd.conditions()"
   ]
  },
  {
   "cell_type": "markdown",
   "metadata": {},
   "source": [
    "Let's access the two conditions, and satisfy ourselves that **each is just a frequency distribution**:"
   ]
  },
  {
   "cell_type": "code",
   "execution_count": 99,
   "metadata": {
    "execution": {
     "iopub.execute_input": "2022-03-03T11:42:56.546083Z",
     "iopub.status.busy": "2022-03-03T11:42:56.545515Z",
     "iopub.status.idle": "2022-03-03T11:42:56.557383Z",
     "shell.execute_reply": "2022-03-03T11:42:56.556389Z",
     "shell.execute_reply.started": "2022-03-03T11:42:56.546051Z"
    }
   },
   "outputs": [
    {
     "name": "stdout",
     "output_type": "stream",
     "text": [
      "<FreqDist with 14394 samples and 100554 outcomes>\n"
     ]
    }
   ],
   "source": [
    "print(cfd['news'])"
   ]
  },
  {
   "cell_type": "code",
   "execution_count": 100,
   "metadata": {
    "execution": {
     "iopub.execute_input": "2022-03-03T11:42:56.559228Z",
     "iopub.status.busy": "2022-03-03T11:42:56.558495Z",
     "iopub.status.idle": "2022-03-03T11:42:56.570365Z",
     "shell.execute_reply": "2022-03-03T11:42:56.569397Z",
     "shell.execute_reply.started": "2022-03-03T11:42:56.559190Z"
    }
   },
   "outputs": [
    {
     "name": "stdout",
     "output_type": "stream",
     "text": [
      "<FreqDist with 8452 samples and 70022 outcomes>\n"
     ]
    }
   ],
   "source": [
    "print(cfd['romance'])"
   ]
  },
  {
   "cell_type": "code",
   "execution_count": 101,
   "metadata": {
    "execution": {
     "iopub.execute_input": "2022-03-03T11:42:56.572380Z",
     "iopub.status.busy": "2022-03-03T11:42:56.571600Z",
     "iopub.status.idle": "2022-03-03T11:42:56.587736Z",
     "shell.execute_reply": "2022-03-03T11:42:56.586788Z",
     "shell.execute_reply.started": "2022-03-03T11:42:56.572339Z"
    }
   },
   "outputs": [
    {
     "data": {
      "text/plain": [
       "[(',', 3899),\n",
       " ('.', 3736),\n",
       " ('the', 2758),\n",
       " ('and', 1776),\n",
       " ('to', 1502),\n",
       " ('a', 1335),\n",
       " ('of', 1186),\n",
       " ('``', 1045),\n",
       " (\"''\", 1044),\n",
       " ('was', 993),\n",
       " ('I', 951),\n",
       " ('in', 875),\n",
       " ('he', 702),\n",
       " ('had', 692),\n",
       " ('?', 690),\n",
       " ('her', 651),\n",
       " ('that', 583),\n",
       " ('it', 573),\n",
       " ('his', 559),\n",
       " ('she', 496)]"
      ]
     },
     "execution_count": 101,
     "metadata": {},
     "output_type": "execute_result"
    }
   ],
   "source": [
    "cfd['romance'].most_common(20)"
   ]
  },
  {
   "cell_type": "code",
   "execution_count": 102,
   "metadata": {
    "execution": {
     "iopub.execute_input": "2022-03-03T11:42:56.589995Z",
     "iopub.status.busy": "2022-03-03T11:42:56.589149Z",
     "iopub.status.idle": "2022-03-03T11:42:56.601595Z",
     "shell.execute_reply": "2022-03-03T11:42:56.600775Z",
     "shell.execute_reply.started": "2022-03-03T11:42:56.589940Z"
    }
   },
   "outputs": [
    {
     "data": {
      "text/plain": [
       "193"
      ]
     },
     "execution_count": 102,
     "metadata": {},
     "output_type": "execute_result"
    }
   ],
   "source": [
    "cfd['romance']['could']"
   ]
  },
  {
   "cell_type": "markdown",
   "metadata": {},
   "source": [
    "## 2.3   Plotting and Tabulating Distributions"
   ]
  },
  {
   "cell_type": "markdown",
   "metadata": {},
   "source": [
    "A `ConditionalFreqDist` provides some useful methods for <font style=\"background:#00FF00\"><strong>tabulation and plotting</strong></font>."
   ]
  },
  {
   "cell_type": "markdown",
   "metadata": {},
   "source": [
    "Try to understand the following codes:"
   ]
  },
  {
   "cell_type": "code",
   "execution_count": 103,
   "metadata": {
    "execution": {
     "iopub.execute_input": "2022-03-03T11:42:56.603322Z",
     "iopub.status.busy": "2022-03-03T11:42:56.602912Z",
     "iopub.status.idle": "2022-03-03T11:42:56.614177Z",
     "shell.execute_reply": "2022-03-03T11:42:56.613371Z",
     "shell.execute_reply.started": "2022-03-03T11:42:56.603275Z"
    }
   },
   "outputs": [],
   "source": [
    "from nltk.corpus import inaugural"
   ]
  },
  {
   "cell_type": "code",
   "execution_count": 104,
   "metadata": {
    "execution": {
     "iopub.execute_input": "2022-03-03T11:42:56.615865Z",
     "iopub.status.busy": "2022-03-03T11:42:56.615439Z",
     "iopub.status.idle": "2022-03-03T11:42:56.863129Z",
     "shell.execute_reply": "2022-03-03T11:42:56.862515Z",
     "shell.execute_reply.started": "2022-03-03T11:42:56.615803Z"
    }
   },
   "outputs": [],
   "source": [
    "inaugural_cfd = nltk.ConditionalFreqDist(\n",
    "    (target, fileid[:4])\n",
    "    for fileid in inaugural.fileids()\n",
    "    for w in inaugural.words(fileid)\n",
    "    for target in ['america', 'citizen']\n",
    "    if w.lower().startswith(target))"
   ]
  },
  {
   "cell_type": "code",
   "execution_count": 105,
   "metadata": {
    "execution": {
     "iopub.execute_input": "2022-03-03T11:42:56.864706Z",
     "iopub.status.busy": "2022-03-03T11:42:56.864302Z",
     "iopub.status.idle": "2022-03-03T11:42:57.103888Z",
     "shell.execute_reply": "2022-03-03T11:42:57.103088Z",
     "shell.execute_reply.started": "2022-03-03T11:42:56.864658Z"
    }
   },
   "outputs": [],
   "source": [
    "inaugural_list = [(target, fileid[:4])\n",
    "    for fileid in inaugural.fileids()\n",
    "    for w in inaugural.words(fileid)\n",
    "    for target in ['america', 'citizen']\n",
    "    if w.lower().startswith(target)]"
   ]
  },
  {
   "cell_type": "code",
   "execution_count": 106,
   "metadata": {
    "execution": {
     "iopub.execute_input": "2022-03-03T11:42:57.105514Z",
     "iopub.status.busy": "2022-03-03T11:42:57.105124Z",
     "iopub.status.idle": "2022-03-03T11:42:57.111609Z",
     "shell.execute_reply": "2022-03-03T11:42:57.110863Z",
     "shell.execute_reply.started": "2022-03-03T11:42:57.105463Z"
    }
   },
   "outputs": [
    {
     "data": {
      "text/plain": [
       "[('citizen', '1789'),\n",
       " ('citizen', '1789'),\n",
       " ('citizen', '1789'),\n",
       " ('citizen', '1789'),\n",
       " ('citizen', '1789'),\n",
       " ('america', '1789'),\n",
       " ('america', '1789'),\n",
       " ('citizen', '1793'),\n",
       " ('america', '1793'),\n",
       " ('america', '1797')]"
      ]
     },
     "execution_count": 106,
     "metadata": {},
     "output_type": "execute_result"
    }
   ],
   "source": [
    "inaugural_list[:10]"
   ]
  },
  {
   "cell_type": "code",
   "execution_count": 107,
   "metadata": {
    "execution": {
     "iopub.execute_input": "2022-03-03T11:42:57.113045Z",
     "iopub.status.busy": "2022-03-03T11:42:57.112770Z",
     "iopub.status.idle": "2022-03-03T11:42:57.126917Z",
     "shell.execute_reply": "2022-03-03T11:42:57.126274Z",
     "shell.execute_reply.started": "2022-03-03T11:42:57.113016Z"
    }
   },
   "outputs": [
    {
     "data": {
      "text/plain": [
       "[('america', '2021'),\n",
       " ('america', '2021'),\n",
       " ('america', '2021'),\n",
       " ('america', '2021'),\n",
       " ('america', '2021'),\n",
       " ('america', '2021'),\n",
       " ('america', '2021'),\n",
       " ('america', '2021'),\n",
       " ('america', '2021'),\n",
       " ('america', '2021')]"
      ]
     },
     "execution_count": 107,
     "metadata": {},
     "output_type": "execute_result"
    }
   ],
   "source": [
    "inaugural_list[-10:]"
   ]
  },
  {
   "cell_type": "code",
   "execution_count": 108,
   "metadata": {
    "execution": {
     "iopub.execute_input": "2022-03-03T11:42:57.128465Z",
     "iopub.status.busy": "2022-03-03T11:42:57.128095Z",
     "iopub.status.idle": "2022-03-03T11:42:57.139008Z",
     "shell.execute_reply": "2022-03-03T11:42:57.138040Z",
     "shell.execute_reply.started": "2022-03-03T11:42:57.128420Z"
    }
   },
   "outputs": [],
   "source": [
    "from nltk.corpus import udhr"
   ]
  },
  {
   "cell_type": "code",
   "execution_count": 109,
   "metadata": {
    "execution": {
     "iopub.execute_input": "2022-03-03T11:42:57.140582Z",
     "iopub.status.busy": "2022-03-03T11:42:57.140251Z",
     "iopub.status.idle": "2022-03-03T11:42:57.152873Z",
     "shell.execute_reply": "2022-03-03T11:42:57.151837Z",
     "shell.execute_reply.started": "2022-03-03T11:42:57.140554Z"
    }
   },
   "outputs": [],
   "source": [
    "languages = ['Chickasaw', 'English', 'German_Deutsch','Greenlandic_Inuktikut', 'Hungarian_Magyar', 'Ibibio_Efik']"
   ]
  },
  {
   "cell_type": "code",
   "execution_count": 110,
   "metadata": {
    "execution": {
     "iopub.execute_input": "2022-03-03T11:42:57.154979Z",
     "iopub.status.busy": "2022-03-03T11:42:57.154187Z",
     "iopub.status.idle": "2022-03-03T11:42:57.190664Z",
     "shell.execute_reply": "2022-03-03T11:42:57.189938Z",
     "shell.execute_reply.started": "2022-03-03T11:42:57.154938Z"
    }
   },
   "outputs": [],
   "source": [
    "cfd = nltk.ConditionalFreqDist(\n",
    "    (lang, len(word))\n",
    "    for lang in languages\n",
    "    for word in udhr.words(lang + '-Latin1'))"
   ]
  },
  {
   "cell_type": "markdown",
   "metadata": {},
   "source": [
    "In the `plot()` and `tabulate()` methods, we can optionally specify which conditions to display with a `conditions= parameter`. "
   ]
  },
  {
   "cell_type": "markdown",
   "metadata": {},
   "source": [
    "Similarly, we can limit the samples to display with a `samples= parameter`. "
   ]
  },
  {
   "cell_type": "markdown",
   "metadata": {},
   "source": [
    "It also gives us full control over the order of conditions and samples in any displays."
   ]
  },
  {
   "cell_type": "code",
   "execution_count": 111,
   "metadata": {
    "execution": {
     "iopub.execute_input": "2022-03-03T11:42:57.192426Z",
     "iopub.status.busy": "2022-03-03T11:42:57.192155Z",
     "iopub.status.idle": "2022-03-03T11:42:57.204116Z",
     "shell.execute_reply": "2022-03-03T11:42:57.203010Z",
     "shell.execute_reply.started": "2022-03-03T11:42:57.192395Z"
    }
   },
   "outputs": [
    {
     "name": "stdout",
     "output_type": "stream",
     "text": [
      "                  0    1    2    3    4    5    6    7    8    9 \n",
      "       English    0  185  525  883  997 1166 1283 1440 1558 1638 \n",
      "German_Deutsch    0  171  263  614  717  894 1013 1110 1213 1275 \n"
     ]
    }
   ],
   "source": [
    "cfd.tabulate(conditions=['English', 'German_Deutsch'],samples=range(10), cumulative=True)"
   ]
  },
  {
   "cell_type": "markdown",
   "metadata": {},
   "source": [
    "We interpret the last cell on the top row to mean that 1,638 words of the English text have 9 or fewer letters."
   ]
  },
  {
   "cell_type": "code",
   "execution_count": 112,
   "metadata": {
    "execution": {
     "iopub.execute_input": "2022-03-03T11:42:57.206478Z",
     "iopub.status.busy": "2022-03-03T11:42:57.205527Z",
     "iopub.status.idle": "2022-03-03T11:42:57.421023Z",
     "shell.execute_reply": "2022-03-03T11:42:57.420218Z",
     "shell.execute_reply.started": "2022-03-03T11:42:57.206428Z"
    }
   },
   "outputs": [
    {
     "data": {
      "image/png": "[encoded data removed]",
      "text/plain": [
       "<Figure size 432x288 with 1 Axes>"
      ]
     },
     "metadata": {
      "needs_background": "light"
     },
     "output_type": "display_data"
    },
    {
     "data": {
      "text/plain": [
       "<AxesSubplot:xlabel='Samples', ylabel='Cumulative Counts'>"
      ]
     },
     "execution_count": 112,
     "metadata": {},
     "output_type": "execute_result"
    }
   ],
   "source": [
    "cfd.plot(conditions=['English', 'German_Deutsch'],samples=range(10), cumulative=True)"
   ]
  },
  {
   "cell_type": "markdown",
   "metadata": {},
   "source": [
    "<font size=2 style=\"color:#BA4A00\">**Exercise**</font>\n",
    "\n",
    "Working with the ***news*** and ***romance*** genres from the Brown Corpus, find out which days of the week are most newsworthy, and which are most romantic. \n",
    "\n",
    "- Define a variable called `days` containing a list of days of the week, i.e. `['Monday', ...]`. \n",
    "\n",
    "- Now tabulate the counts for these words using cfd.tabulate(samples=days). \n",
    "\n",
    "- Now try the same thing using plot in place of tabulate. You may control the output order of days with the help of an extra parameter: `samples=['Monday', ...]`."
   ]
  },
  {
   "cell_type": "markdown",
   "metadata": {
    "execution": {
     "iopub.execute_input": "2022-03-03T11:42:57.423064Z",
     "iopub.status.busy": "2022-03-03T11:42:57.422263Z",
     "iopub.status.idle": "2022-03-03T11:42:57.427769Z",
     "shell.execute_reply": "2022-03-03T11:42:57.426991Z",
     "shell.execute_reply.started": "2022-03-03T11:42:57.423020Z"
    }
   },
   "source": [
    "## 2.4   Generating Random Text with Bigrams"
   ]
  },
  {
   "cell_type": "markdown",
   "metadata": {},
   "source": [
    "We can use a **conditional frequency distribution** to create a table of bigrams (word pairs). The `bigrams()` function takes a list of words and builds a list of consecutive word pairs. In order to see the result and not a cryptic \"generator object\", we need to use the `list()`function:"
   ]
  },
  {
   "cell_type": "code",
   "execution_count": 113,
   "metadata": {},
   "outputs": [],
   "source": [
    "sent = ['In', 'the', 'beginning', 'God', 'created', 'the', 'heaven','and', 'the', 'earth', '.']"
   ]
  },
  {
   "cell_type": "code",
   "execution_count": 114,
   "metadata": {},
   "outputs": [
    {
     "data": {
      "text/plain": [
       "[('In', 'the'),\n",
       " ('the', 'beginning'),\n",
       " ('beginning', 'God'),\n",
       " ('God', 'created'),\n",
       " ('created', 'the'),\n",
       " ('the', 'heaven'),\n",
       " ('heaven', 'and'),\n",
       " ('and', 'the'),\n",
       " ('the', 'earth'),\n",
       " ('earth', '.')]"
      ]
     },
     "execution_count": 114,
     "metadata": {},
     "output_type": "execute_result"
    }
   ],
   "source": [
    "list(nltk.bigrams(sent))"
   ]
  },
  {
   "cell_type": "markdown",
   "metadata": {},
   "source": [
    "<font size=2 style=\"color:#2ECC71\">**Example**</font>\n",
    "\n",
    "Generating Random Text\n",
    "\n",
    "This program obtains all bigrams from the text of the book of Genesis, then constructs a conditional frequency distribution to record which words are most likely to follow a given word; e.g., after the word ***living***, the most likely word is ***creature***; the `generate_model()` function uses this data, and a `seed word`, to generate random text."
   ]
  },
  {
   "cell_type": "code",
   "execution_count": 115,
   "metadata": {},
   "outputs": [],
   "source": [
    "text = nltk.corpus.genesis.words('english-kjv.txt')"
   ]
  },
  {
   "cell_type": "code",
   "execution_count": 116,
   "metadata": {},
   "outputs": [
    {
     "data": {
      "text/plain": [
       "nltk.corpus.reader.util.StreamBackedCorpusView"
      ]
     },
     "execution_count": 116,
     "metadata": {},
     "output_type": "execute_result"
    }
   ],
   "source": [
    "type(text)"
   ]
  },
  {
   "cell_type": "code",
   "execution_count": 117,
   "metadata": {},
   "outputs": [
    {
     "data": {
      "text/plain": [
       "['In',\n",
       " 'the',\n",
       " 'beginning',\n",
       " 'God',\n",
       " 'created',\n",
       " 'the',\n",
       " 'heaven',\n",
       " 'and',\n",
       " 'the',\n",
       " 'earth']"
      ]
     },
     "execution_count": 117,
     "metadata": {},
     "output_type": "execute_result"
    }
   ],
   "source": [
    "text[:10]"
   ]
  },
  {
   "cell_type": "code",
   "execution_count": 118,
   "metadata": {},
   "outputs": [],
   "source": [
    "bigrams = nltk.bigrams(text)"
   ]
  },
  {
   "cell_type": "markdown",
   "metadata": {},
   "source": [
    "<font size=2 style=\"color:#FF0000\">**Note**</font>: 函数`ConditionalFreqDist`接收的参数为`[(condition, event), (condition, event), ...]`，它对`event`进行计数"
   ]
  },
  {
   "cell_type": "code",
   "execution_count": 119,
   "metadata": {},
   "outputs": [],
   "source": [
    "cfd = nltk.ConditionalFreqDist(bigrams)"
   ]
  },
  {
   "cell_type": "code",
   "execution_count": 120,
   "metadata": {},
   "outputs": [
    {
     "data": {
      "text/plain": [
       "FreqDist({'creature': 7, 'thing': 4, 'substance': 2, 'soul': 1, '.': 1, ',': 1})"
      ]
     },
     "execution_count": 120,
     "metadata": {},
     "output_type": "execute_result"
    }
   ],
   "source": [
    "cfd['living']"
   ]
  },
  {
   "cell_type": "code",
   "execution_count": 121,
   "metadata": {},
   "outputs": [],
   "source": [
    "def generate_model(cfdist, word, num=15):\n",
    "    for i in range(num):\n",
    "        print(word, end=' ')\n",
    "        word = cfdist[word].max()"
   ]
  },
  {
   "cell_type": "code",
   "execution_count": 122,
   "metadata": {},
   "outputs": [
    {
     "name": "stdout",
     "output_type": "stream",
     "text": [
      "living creature that he said , and the land of the land of the land "
     ]
    }
   ],
   "source": [
    "generate_model(cfd, 'living')"
   ]
  },
  {
   "cell_type": "markdown",
   "metadata": {},
   "source": [
    "<font size=2 style=\"color:#9B59B6\">**Think**</font>: 上述生成过程会陷入死循环，为什么？"
   ]
  },
  {
   "cell_type": "markdown",
   "metadata": {},
   "source": [
    "Conditional frequency distributions are \n",
    "<font style=\"background:#00FF00\"><strong>a useful data structure for many NLP tasks</strong></font>. Their commonly-used methods are summarized as follow:\n",
    "\n",
    "<table border=\"1\" class=\"docutils\" id=\"tab-conditionalfreqdist\">\n",
    "<colgroup>\n",
    "<col width=\"36%\">\n",
    "<col width=\"64%\">\n",
    "</colgroup>\n",
    "<thead valign=\"bottom\">\n",
    "<tr><th class=\"head\">Example</th>\n",
    "<th class=\"head\">Description</th>\n",
    "</tr>\n",
    "</thead>\n",
    "<tbody valign=\"top\">\n",
    "<tr><td><tt class=\"doctest\"><span class=\"pre\">cfdist = ConditionalFreqDist(pairs)</span></tt></td>\n",
    "<td>create a conditional frequency distribution from a list of pairs</td>\n",
    "</tr>\n",
    "<tr><td><tt class=\"doctest\"><span class=\"pre\">cfdist.conditions()</span></tt></td>\n",
    "<td>the conditions</td>\n",
    "</tr>\n",
    "<tr><td><tt class=\"doctest\"><span class=\"pre\">cfdist[condition]</span></tt></td>\n",
    "<td>the frequency distribution for this condition</td>\n",
    "</tr>\n",
    "<tr><td><tt class=\"doctest\"><span class=\"pre\">cfdist[condition][sample]</span></tt></td>\n",
    "<td>frequency for the given sample for this condition</td>\n",
    "</tr>\n",
    "<tr><td><tt class=\"doctest\"><span class=\"pre\">cfdist.tabulate()</span></tt></td>\n",
    "<td>tabulate the conditional frequency distribution</td>\n",
    "</tr>\n",
    "<tr><td><tt class=\"doctest\"><span class=\"pre\">cfdist.tabulate(samples, conditions)</span></tt></td>\n",
    "<td>tabulation limited to the specified samples and conditions</td>\n",
    "</tr>\n",
    "<tr><td><tt class=\"doctest\"><span class=\"pre\">cfdist.plot()</span></tt></td>\n",
    "<td>graphical plot of the conditional frequency distribution</td>\n",
    "</tr>\n",
    "<tr><td><tt class=\"doctest\"><span class=\"pre\">cfdist.plot(samples, conditions)</span></tt></td>\n",
    "<td>graphical plot limited to the specified samples and conditions</td>\n",
    "</tr>\n",
    "<tr><td><tt class=\"doctest\"><span class=\"pre\">cfdist1 &lt; cfdist2</span></tt></td>\n",
    "<td>test if samples in <tt class=\"doctest\"><span class=\"pre\">cfdist1</span></tt> occur less frequently than in <tt class=\"doctest\"><span class=\"pre\">cfdist2</span></tt></td>\n",
    "</tr>\n",
    "</tbody>\n",
    "\n",
    "\n",
    "</table>"
   ]
  },
  {
   "cell_type": "markdown",
   "metadata": {},
   "source": [
    "# 3. More Python: Reusing Code"
   ]
  },
  {
   "cell_type": "markdown",
   "metadata": {},
   "source": [
    "## 3.1 Creating Programs with a Text Editor"
   ]
  },
  {
   "cell_type": "markdown",
   "metadata": {},
   "source": [
    "## 3.2   Functions"
   ]
  },
  {
   "cell_type": "markdown",
   "metadata": {},
   "source": [
    "<font size=2 style=\"color:#2ECC71\">**Example**</font>\n",
    "\n",
    "Compute lexical diversity for text corpus:"
   ]
  },
  {
   "cell_type": "code",
   "execution_count": 123,
   "metadata": {},
   "outputs": [],
   "source": [
    "def lexical_diversity(my_text_data):\n",
    "    word_count = len(my_text_data)\n",
    "    vocab_size = len(set(my_text_data))\n",
    "    diversity_score = vocab_size / word_count\n",
    "    return diversity_score"
   ]
  },
  {
   "cell_type": "code",
   "execution_count": 124,
   "metadata": {},
   "outputs": [],
   "source": [
    "from nltk.corpus import genesis"
   ]
  },
  {
   "cell_type": "code",
   "execution_count": 125,
   "metadata": {},
   "outputs": [],
   "source": [
    "kjv = genesis.words('english-kjv.txt')"
   ]
  },
  {
   "cell_type": "code",
   "execution_count": 126,
   "metadata": {},
   "outputs": [
    {
     "data": {
      "text/plain": [
       "0.06230453042623537"
      ]
     },
     "execution_count": 126,
     "metadata": {},
     "output_type": "execute_result"
    }
   ],
   "source": [
    "lexical_diversity(kjv)"
   ]
  },
  {
   "cell_type": "markdown",
   "metadata": {},
   "source": [
    "<font size=2 style=\"color:#2ECC71\">**Example**</font>\n",
    "\n",
    "A Python Function: this function tries to work out the plural form of any English noun."
   ]
  },
  {
   "cell_type": "code",
   "execution_count": 127,
   "metadata": {},
   "outputs": [],
   "source": [
    "def plural(word):\n",
    "    if word.endswith('y'):\n",
    "        return word[:-1] + 'ies'\n",
    "    elif word[-1] in 'sx' or word[-2:] in ['sh', 'ch']:\n",
    "        return word + 'es'\n",
    "    elif word.endswith('an'):\n",
    "        return word[:-2] + 'en'\n",
    "    else:\n",
    "        return word + 's'"
   ]
  },
  {
   "cell_type": "code",
   "execution_count": 128,
   "metadata": {},
   "outputs": [
    {
     "data": {
      "text/plain": [
       "'fairies'"
      ]
     },
     "execution_count": 128,
     "metadata": {},
     "output_type": "execute_result"
    }
   ],
   "source": [
    "plural('fairy')"
   ]
  },
  {
   "cell_type": "code",
   "execution_count": 129,
   "metadata": {},
   "outputs": [
    {
     "data": {
      "text/plain": [
       "'women'"
      ]
     },
     "execution_count": 129,
     "metadata": {},
     "output_type": "execute_result"
    }
   ],
   "source": [
    "plural('woman')"
   ]
  },
  {
   "cell_type": "markdown",
   "metadata": {},
   "source": [
    "## 3.3   Modules"
   ]
  },
  {
   "cell_type": "markdown",
   "metadata": {},
   "source": [
    "A collection of variable and function definitions in a file is called a Python <font size=2 style=\"color:#3498DB\">**module**</font>.\n",
    "\n",
    "A collection of related modules is called a <font size=2 style=\"color:#3498DB\">**package**</font>. "
   ]
  },
  {
   "cell_type": "markdown",
   "metadata": {},
   "source": [
    "<font size=2 style=\"color:#2ECC71\">**Examples**</font>\n",
    "\n",
    "- NLTK's code for processing the Brown Corpus is an example of a module.\n",
    "\n",
    "- Its collection of code for processing all the different corpora is an example of a package. \n",
    "\n",
    "- NLTK itself is a set of packages, sometimes called a <font size=2 style=\"color:#3498DB\">**library**</font>.\n",
    "\n"
   ]
  },
  {
   "cell_type": "markdown",
   "metadata": {},
   "source": [
    "# 4. Lexical Resources"
   ]
  },
  {
   "cell_type": "markdown",
   "metadata": {},
   "source": [
    "<font size=2 style=\"color:#3498DB\">**A lexicon, or lexical resource**</font>, is <font style=\"background:#00FF00\"><strong>a collection of words and/or phrases</strong></font> along with associated information such as <font style=\"background:#00FF00\"><strong>part of speech and sense definitions</strong></font>."
   ]
  },
  {
   "cell_type": "markdown",
   "metadata": {},
   "source": [
    "Lexical resources are secondary to texts, and are usually created and enriched with the help of texts."
   ]
  },
  {
   "cell_type": "markdown",
   "metadata": {},
   "source": [
    "A <font size=2 style=\"color:#3498DB\">**lexical entry**</font> consists of a <font size=2 style=\"color:#3498DB\">**headword**</font> (also known as a <font size=2 style=\"color:#3498DB\">**lemma**</font>) along with additional information such as the part of speech and the sense definition. Two distinct words having the same spelling are called <font size=2 style=\"color:#3498DB\">**homonyms**</font>."
   ]
  },
  {
   "cell_type": "markdown",
   "metadata": {},
   "source": [
    "<div align=center>\n",
    "<img src=\"https://www.nltk.org/images/lexicon.png\">\n",
    "<br>\n",
    "<center><em><strong>lexical entry examples</strong></em></center>\n",
    "</div>"
   ]
  },
  {
   "cell_type": "markdown",
   "metadata": {},
   "source": [
    "The simplest kind of lexicon is nothing more than a sorted list of words.\n",
    "\n",
    "Sophisticated lexicons include complex structure within and across the individual entries. \n",
    "\n",
    "In this section we'll look at some lexical resources included with NLTK."
   ]
  },
  {
   "cell_type": "markdown",
   "metadata": {},
   "source": [
    "## 4.1  Wordlist Corpora"
   ]
  },
  {
   "cell_type": "markdown",
   "metadata": {},
   "source": [
    "NLTK includes some corpora that are <font style=\"background:#00FF00\"><strong>nothing more than wordlists</strong></font>. \n",
    "\n",
    "The Words Corpus is the /usr/share/dict/words file from Unix, used by some spell checkers. \n",
    "\n",
    "We can use it to <font style=\"background:#00FF00\"><strong>find unusual or mis-spelt words</strong></font> in a text corpus."
   ]
  },
  {
   "cell_type": "markdown",
   "metadata": {},
   "source": [
    "<font size=2 style=\"color:#2ECC71\">**Example**:</font>\n",
    "\n",
    "Define a function to find the uncommon or mis-spelt words in a text."
   ]
  },
  {
   "cell_type": "code",
   "execution_count": 130,
   "metadata": {},
   "outputs": [],
   "source": [
    "# nltk.download('words')"
   ]
  },
  {
   "cell_type": "code",
   "execution_count": 131,
   "metadata": {},
   "outputs": [],
   "source": [
    "def unusual_words(text):\n",
    "    text_vocab = set(w.lower() for w in text if w.isalpha())\n",
    "    english_vocab = set(w.lower() for w in nltk.corpus.words.words())\n",
    "    unusual = text_vocab - english_vocab\n",
    "    return sorted(unusual)"
   ]
  },
  {
   "cell_type": "code",
   "execution_count": 132,
   "metadata": {},
   "outputs": [
    {
     "data": {
      "text/plain": [
       "['abbeyland',\n",
       " 'abhorred',\n",
       " 'abilities',\n",
       " 'abounded',\n",
       " 'abridgement',\n",
       " 'abused',\n",
       " 'abuses',\n",
       " 'accents',\n",
       " 'accepting',\n",
       " 'accommodations',\n",
       " 'accompanied',\n",
       " 'accounted',\n",
       " 'accounts',\n",
       " 'accustomary',\n",
       " 'aches',\n",
       " 'acknowledging',\n",
       " 'acknowledgment',\n",
       " 'acknowledgments',\n",
       " 'acquaintances',\n",
       " 'acquiesced',\n",
       " 'acquitted',\n",
       " 'acquitting',\n",
       " 'acted',\n",
       " 'actions',\n",
       " 'adapted',\n",
       " 'adding',\n",
       " 'additions',\n",
       " 'addressed',\n",
       " 'addresses',\n",
       " 'addressing',\n",
       " 'adhering',\n",
       " 'adieus',\n",
       " 'adjusting',\n",
       " 'administering',\n",
       " 'admirers',\n",
       " 'admires',\n",
       " 'admitting',\n",
       " 'adorned',\n",
       " 'advances',\n",
       " 'advantages',\n",
       " 'affairs',\n",
       " 'affections',\n",
       " 'affects',\n",
       " 'affixed',\n",
       " 'afflictions',\n",
       " 'afforded',\n",
       " 'affording',\n",
       " 'ages',\n",
       " 'agitated',\n",
       " 'agonies',\n",
       " 'ailments',\n",
       " 'aimed',\n",
       " 'alarms',\n",
       " 'alienated',\n",
       " 'alighted',\n",
       " 'alleged',\n",
       " 'allenham',\n",
       " 'allowances',\n",
       " 'allowed',\n",
       " 'allowing',\n",
       " 'alluded',\n",
       " 'alterations',\n",
       " 'altered',\n",
       " 'altering',\n",
       " 'amended',\n",
       " 'amounted',\n",
       " 'amusements',\n",
       " 'ankles',\n",
       " 'annamaria',\n",
       " 'annexed',\n",
       " 'announced',\n",
       " 'announcing',\n",
       " 'annuities',\n",
       " 'annum',\n",
       " 'answered',\n",
       " 'answering',\n",
       " 'answers',\n",
       " 'anticipated',\n",
       " 'anticipating',\n",
       " 'anticipations',\n",
       " 'anymore',\n",
       " 'apartments',\n",
       " 'apologies',\n",
       " 'apologising',\n",
       " 'apologized',\n",
       " 'appearances',\n",
       " 'appeared',\n",
       " 'appearing',\n",
       " 'appeased',\n",
       " 'appetites',\n",
       " 'applauded',\n",
       " 'applying',\n",
       " 'appointed',\n",
       " 'apprehended',\n",
       " 'apprehensions',\n",
       " 'approached',\n",
       " 'approved',\n",
       " 'arbour',\n",
       " 'ardour',\n",
       " 'arguments',\n",
       " 'arranged',\n",
       " 'arrangements',\n",
       " 'arranging',\n",
       " 'arrived',\n",
       " 'arrives',\n",
       " 'arriving',\n",
       " 'ascended',\n",
       " 'ascertained',\n",
       " 'asked',\n",
       " 'asking',\n",
       " 'assembled',\n",
       " 'assemblies',\n",
       " 'asserted',\n",
       " 'assertions',\n",
       " 'assiduities',\n",
       " 'assisted',\n",
       " 'assisting',\n",
       " 'associating',\n",
       " 'assurances',\n",
       " 'astonished',\n",
       " 'atoned',\n",
       " 'atoning',\n",
       " 'attaching',\n",
       " 'attachments',\n",
       " 'attacked',\n",
       " 'attacks',\n",
       " 'attained',\n",
       " 'attempted',\n",
       " 'attempting',\n",
       " 'attempts',\n",
       " 'attendants',\n",
       " 'attended',\n",
       " 'attending',\n",
       " 'attentions',\n",
       " 'attracted',\n",
       " 'attractions',\n",
       " 'attributed',\n",
       " 'attributing',\n",
       " 'auditors',\n",
       " 'augmenting',\n",
       " 'austen',\n",
       " 'authorised',\n",
       " 'authors',\n",
       " 'availed',\n",
       " 'avignon',\n",
       " 'avoided',\n",
       " 'avoiding',\n",
       " 'awaited',\n",
       " 'awakened',\n",
       " 'awaking',\n",
       " 'bags',\n",
       " 'balls',\n",
       " 'banished',\n",
       " 'barouches',\n",
       " 'bathed',\n",
       " 'bears',\n",
       " 'beasts',\n",
       " 'beauties',\n",
       " 'became',\n",
       " 'bedrooms',\n",
       " 'beds',\n",
       " 'befallen',\n",
       " 'befalls',\n",
       " 'befell',\n",
       " 'began',\n",
       " 'begged',\n",
       " 'begins',\n",
       " 'behaved',\n",
       " 'beings',\n",
       " 'believed',\n",
       " 'believes',\n",
       " 'belonged',\n",
       " 'belongs',\n",
       " 'benefited',\n",
       " 'bequeathed',\n",
       " 'berkeley',\n",
       " 'bestowed',\n",
       " 'betrayed',\n",
       " 'betraying',\n",
       " 'biased',\n",
       " 'blackest',\n",
       " 'blameable',\n",
       " 'blessings',\n",
       " 'blights',\n",
       " 'blossoms',\n",
       " 'blundered',\n",
       " 'blushed',\n",
       " 'blushes',\n",
       " 'bolder',\n",
       " 'bones',\n",
       " 'bonomi',\n",
       " 'books',\n",
       " 'booksellers',\n",
       " 'borrowed',\n",
       " 'bottoms',\n",
       " 'boys',\n",
       " 'breakfasting',\n",
       " 'bribing',\n",
       " 'brightened',\n",
       " 'brighter',\n",
       " 'bringing',\n",
       " 'brings',\n",
       " 'broader',\n",
       " 'brothers',\n",
       " 'bruised',\n",
       " 'buildings',\n",
       " 'bursts',\n",
       " 'buying',\n",
       " 'called',\n",
       " 'calls',\n",
       " 'calming',\n",
       " 'candles',\n",
       " 'candour',\n",
       " 'canvassing',\n",
       " 'cards',\n",
       " 'cares',\n",
       " 'caresses',\n",
       " 'careys',\n",
       " 'carriages',\n",
       " 'carries',\n",
       " 'cases',\n",
       " 'casts',\n",
       " 'cats',\n",
       " 'caused',\n",
       " 'ceased',\n",
       " 'ceasing',\n",
       " 'censured',\n",
       " 'centre',\n",
       " 'certainties',\n",
       " 'chagrined',\n",
       " 'chairs',\n",
       " 'chambers',\n",
       " 'chanced',\n",
       " 'changed',\n",
       " 'changes',\n",
       " 'changing',\n",
       " 'characters',\n",
       " 'charged',\n",
       " 'charmed',\n",
       " 'charms',\n",
       " 'cheated',\n",
       " 'checking',\n",
       " 'cheeks',\n",
       " 'cheerfuller',\n",
       " 'cherished',\n",
       " 'cherries',\n",
       " 'children',\n",
       " 'choked',\n",
       " 'chuse',\n",
       " 'chusing',\n",
       " 'circles',\n",
       " 'circumstances',\n",
       " 'civilities',\n",
       " 'claimed',\n",
       " 'claiming',\n",
       " 'claims',\n",
       " 'clarke',\n",
       " 'cleared',\n",
       " 'cleveland',\n",
       " 'clogged',\n",
       " 'closing',\n",
       " 'clouds',\n",
       " 'coats',\n",
       " 'collecting',\n",
       " 'coloured',\n",
       " 'colouring',\n",
       " 'combe',\n",
       " 'comforted',\n",
       " 'comforts',\n",
       " 'comings',\n",
       " 'commanded',\n",
       " 'commands',\n",
       " 'commended',\n",
       " 'comments',\n",
       " 'commissioned',\n",
       " 'commonest',\n",
       " 'communicated',\n",
       " 'companions',\n",
       " 'compared',\n",
       " 'compares',\n",
       " 'comparisons',\n",
       " 'complained',\n",
       " 'complaining',\n",
       " 'complaints',\n",
       " 'completed',\n",
       " 'compliments',\n",
       " 'comprehended',\n",
       " 'concealing',\n",
       " 'concerns',\n",
       " 'concessions',\n",
       " 'concluded',\n",
       " 'conclusions',\n",
       " 'conditions',\n",
       " 'conducted',\n",
       " 'confessed',\n",
       " 'confidante',\n",
       " 'conforming',\n",
       " 'congratulated',\n",
       " 'congratulating',\n",
       " 'congratulations',\n",
       " 'conjectured',\n",
       " 'conjectures',\n",
       " 'conjecturing',\n",
       " 'connections',\n",
       " 'conquests',\n",
       " 'consented',\n",
       " 'consequences',\n",
       " 'considerations',\n",
       " 'considers',\n",
       " 'consisted',\n",
       " 'consists',\n",
       " 'consoled',\n",
       " 'conspired',\n",
       " 'constantia',\n",
       " 'consulted',\n",
       " 'contained',\n",
       " 'containing',\n",
       " 'contend',\n",
       " 'contenting',\n",
       " 'continuing',\n",
       " 'contradicted',\n",
       " 'contrasted',\n",
       " 'contributed',\n",
       " 'contributing',\n",
       " 'contrived',\n",
       " 'contrives',\n",
       " 'contriving',\n",
       " 'controlled',\n",
       " 'conveniences',\n",
       " 'conversations',\n",
       " 'conversed',\n",
       " 'conversing',\n",
       " 'conveyed',\n",
       " 'conveying',\n",
       " 'copying',\n",
       " 'cordials',\n",
       " 'cottages',\n",
       " 'counsellor',\n",
       " 'counteracted',\n",
       " 'couples',\n",
       " 'courted',\n",
       " 'courting',\n",
       " 'courtland',\n",
       " 'cousins',\n",
       " 'cowper',\n",
       " 'cows',\n",
       " 'coxcombs',\n",
       " 'cramps',\n",
       " 'created',\n",
       " 'creating',\n",
       " 'creatures',\n",
       " 'cries',\n",
       " 'crimsoned',\n",
       " 'curtsying',\n",
       " 'cutlets',\n",
       " 'danced',\n",
       " 'dances',\n",
       " 'dared',\n",
       " 'darker',\n",
       " 'dartford',\n",
       " 'dashwood',\n",
       " 'dashwoods',\n",
       " 'daughters',\n",
       " 'davies',\n",
       " 'dawdled',\n",
       " 'dawlish',\n",
       " 'dawned',\n",
       " 'dearer',\n",
       " 'dearest',\n",
       " 'debated',\n",
       " 'debts',\n",
       " 'deceived',\n",
       " 'deciding',\n",
       " 'decisions',\n",
       " 'declares',\n",
       " 'declaring',\n",
       " 'declining',\n",
       " 'deemed',\n",
       " 'deeper',\n",
       " 'deepest',\n",
       " 'defects',\n",
       " 'defended',\n",
       " 'deficiencies',\n",
       " 'degrees',\n",
       " 'delaford',\n",
       " 'delayed',\n",
       " 'delays',\n",
       " 'deliberating',\n",
       " 'delicacies',\n",
       " 'delighful',\n",
       " 'delineated',\n",
       " 'delivered',\n",
       " 'demanded',\n",
       " 'demands',\n",
       " 'demonstrations',\n",
       " 'demur',\n",
       " 'denied',\n",
       " 'dennison',\n",
       " 'denoted',\n",
       " 'denoting',\n",
       " 'departing',\n",
       " 'depended',\n",
       " 'depends',\n",
       " 'deprived',\n",
       " 'described',\n",
       " 'describing',\n",
       " 'deserts',\n",
       " 'deserves',\n",
       " 'designs',\n",
       " 'desiring',\n",
       " 'despatch',\n",
       " 'despatching',\n",
       " 'despised',\n",
       " 'despising',\n",
       " 'destroyed',\n",
       " 'destroys',\n",
       " 'detaining',\n",
       " 'detected',\n",
       " 'detecting',\n",
       " 'determining',\n",
       " 'deterred',\n",
       " 'detested',\n",
       " 'devolved',\n",
       " 'died',\n",
       " 'dies',\n",
       " 'differed',\n",
       " 'differing',\n",
       " 'difficulties',\n",
       " 'dimensions',\n",
       " 'diminished',\n",
       " 'dined',\n",
       " 'dinners',\n",
       " 'directing',\n",
       " 'directions',\n",
       " 'disagreements',\n",
       " 'disappeared',\n",
       " 'disappointments',\n",
       " 'disapproved',\n",
       " 'disapproves',\n",
       " 'disapproving',\n",
       " 'discarded',\n",
       " 'discharged',\n",
       " 'disclaiming',\n",
       " 'disclosing',\n",
       " 'discontents',\n",
       " 'discovering',\n",
       " 'discussions',\n",
       " 'disgraced',\n",
       " 'disinherited',\n",
       " 'disliked',\n",
       " 'dismissed',\n",
       " 'dismounted',\n",
       " 'dispatched',\n",
       " 'dispatches',\n",
       " 'dispersing',\n",
       " 'disposing',\n",
       " 'disputes',\n",
       " 'disqualifications',\n",
       " 'disregarded',\n",
       " 'dissembling',\n",
       " 'dissented',\n",
       " 'distresses',\n",
       " 'distrusts',\n",
       " 'diverted',\n",
       " 'doatingly',\n",
       " 'donavan',\n",
       " 'doomed',\n",
       " 'dooming',\n",
       " 'doors',\n",
       " 'dorsetshire',\n",
       " 'doubted',\n",
       " 'doubts',\n",
       " 'douceur',\n",
       " 'downs',\n",
       " 'dr',\n",
       " 'drains',\n",
       " 'drawings',\n",
       " 'draws',\n",
       " 'dreaded',\n",
       " 'dreading',\n",
       " 'dreaming',\n",
       " 'dresses',\n",
       " 'drives',\n",
       " 'dropped',\n",
       " 'drops',\n",
       " 'drury',\n",
       " 'duets',\n",
       " 'duties',\n",
       " 'earlier',\n",
       " 'earliest',\n",
       " 'earned',\n",
       " 'ears',\n",
       " 'echoed',\n",
       " 'editions',\n",
       " 'edtions',\n",
       " 'effected',\n",
       " 'effecting',\n",
       " 'effusions',\n",
       " 'ellison',\n",
       " 'ellisons',\n",
       " 'eloping',\n",
       " 'eluded',\n",
       " 'embellishments',\n",
       " 'embraced',\n",
       " 'embraces',\n",
       " 'employments',\n",
       " 'enabled',\n",
       " 'enamoured',\n",
       " 'encouraged',\n",
       " 'encouragements',\n",
       " 'encroachments',\n",
       " 'encumbered',\n",
       " 'endeavoring',\n",
       " 'endeavors',\n",
       " 'endeavour',\n",
       " 'endeavoured',\n",
       " 'endeavouring',\n",
       " 'endeavours',\n",
       " 'endowed',\n",
       " 'ends',\n",
       " 'endured',\n",
       " 'enfeebled',\n",
       " 'enforcing',\n",
       " 'engagements',\n",
       " 'england',\n",
       " 'enjoyed',\n",
       " 'enjoyments',\n",
       " 'enquired',\n",
       " 'enquiries',\n",
       " 'enquiring',\n",
       " 'ensued',\n",
       " 'ensured',\n",
       " 'entered',\n",
       " 'entertained',\n",
       " 'entitled',\n",
       " 'entreated',\n",
       " 'entreaties',\n",
       " 'entrusted',\n",
       " 'equalled',\n",
       " 'equals',\n",
       " 'erred',\n",
       " 'errors',\n",
       " 'escaped',\n",
       " 'esq',\n",
       " 'establishing',\n",
       " 'esteemed',\n",
       " 'esteeming',\n",
       " 'esteems',\n",
       " 'estimating',\n",
       " 'estranged',\n",
       " 'evenings',\n",
       " 'events',\n",
       " 'evils',\n",
       " 'examined',\n",
       " 'exceeded',\n",
       " 'excellencies',\n",
       " 'exchanged',\n",
       " 'exclaimed',\n",
       " 'exclamations',\n",
       " 'excused',\n",
       " 'excuses',\n",
       " 'exercised',\n",
       " 'exercising',\n",
       " 'exerted',\n",
       " 'exertions',\n",
       " 'exeter',\n",
       " 'exhilarated',\n",
       " 'existed',\n",
       " 'expectations',\n",
       " 'expected',\n",
       " 'expecting',\n",
       " 'expects',\n",
       " 'expenses',\n",
       " 'experiencing',\n",
       " 'explained',\n",
       " 'explanations',\n",
       " 'expressing',\n",
       " 'expressions',\n",
       " 'extolling',\n",
       " 'extorted',\n",
       " 'extorting',\n",
       " 'extremest',\n",
       " 'eyeing',\n",
       " 'eyes',\n",
       " 'faces',\n",
       " 'facts',\n",
       " 'failed',\n",
       " 'falls',\n",
       " 'familiarized',\n",
       " 'families',\n",
       " 'fancying',\n",
       " 'fates',\n",
       " 'fatigued',\n",
       " 'fatigues',\n",
       " 'faults',\n",
       " 'favour',\n",
       " 'favourable',\n",
       " 'favourite',\n",
       " 'favourites',\n",
       " 'fearing',\n",
       " 'fears',\n",
       " 'features',\n",
       " 'feelings',\n",
       " 'feels',\n",
       " 'feet',\n",
       " 'felicitations',\n",
       " 'females',\n",
       " 'ferrars',\n",
       " 'fetches',\n",
       " 'fettered',\n",
       " 'finds',\n",
       " 'finest',\n",
       " 'fingers',\n",
       " 'flattered',\n",
       " 'flatteries',\n",
       " 'flowed',\n",
       " 'fluctuating',\n",
       " 'flushed',\n",
       " 'foibles',\n",
       " 'followed',\n",
       " 'follows',\n",
       " 'fond',\n",
       " 'footsteps',\n",
       " 'forebodings',\n",
       " 'foreplanned',\n",
       " 'foresaw',\n",
       " 'foreseeing',\n",
       " 'foreseen',\n",
       " 'forfeited',\n",
       " 'forfeiting',\n",
       " 'forgave',\n",
       " 'forgiven',\n",
       " 'forms',\n",
       " 'forsaking',\n",
       " 'fortunes',\n",
       " 'forwarded',\n",
       " 'foundations',\n",
       " 'founded',\n",
       " 'fowls',\n",
       " 'friendliest',\n",
       " 'friends',\n",
       " 'frightens',\n",
       " 'froid',\n",
       " 'frosts',\n",
       " 'fulfil',\n",
       " 'fulfilled',\n",
       " 'fullest',\n",
       " 'gained',\n",
       " 'gales',\n",
       " 'gardens',\n",
       " 'garrets',\n",
       " 'gates',\n",
       " 'gathered',\n",
       " 'generations',\n",
       " 'gentlemen',\n",
       " 'gigs',\n",
       " 'gilberts',\n",
       " 'girls',\n",
       " 'gives',\n",
       " 'glances',\n",
       " 'gloried',\n",
       " 'gloves',\n",
       " 'godby',\n",
       " 'goings',\n",
       " 'goodby',\n",
       " 'governed',\n",
       " 'gowns',\n",
       " 'graces',\n",
       " 'grandmothers',\n",
       " 'granted',\n",
       " 'greatest',\n",
       " 'grieves',\n",
       " 'grows',\n",
       " 'guardians',\n",
       " 'guessed',\n",
       " 'guests',\n",
       " 'guided',\n",
       " 'guineas',\n",
       " 'habits',\n",
       " 'hallooing',\n",
       " 'hands',\n",
       " 'handsomer',\n",
       " 'handsomest',\n",
       " 'hang',\n",
       " 'hanover',\n",
       " 'happened',\n",
       " 'happens',\n",
       " 'hardened',\n",
       " 'hardships',\n",
       " 'harley',\n",
       " 'has',\n",
       " 'hastened',\n",
       " 'hastening',\n",
       " 'hated',\n",
       " 'hates',\n",
       " 'hating',\n",
       " 'having',\n",
       " 'hazarded',\n",
       " 'hazarding',\n",
       " 'heads',\n",
       " 'heard',\n",
       " 'hears',\n",
       " 'heightened',\n",
       " 'heightening',\n",
       " 'heights',\n",
       " 'heirs',\n",
       " 'held',\n",
       " 'hens',\n",
       " 'henshawe',\n",
       " 'hesitated',\n",
       " 'hiding',\n",
       " 'hills',\n",
       " 'hinted',\n",
       " 'hints',\n",
       " 'hoarded',\n",
       " 'holborn',\n",
       " 'holburn',\n",
       " 'holds',\n",
       " 'holidays',\n",
       " 'homes',\n",
       " 'honeysuckles',\n",
       " 'honiton',\n",
       " 'honour',\n",
       " 'honourable',\n",
       " 'honourably',\n",
       " 'honoured',\n",
       " 'honours',\n",
       " 'hopes',\n",
       " 'hoping',\n",
       " 'horrors',\n",
       " 'horses',\n",
       " 'hours',\n",
       " 'houses',\n",
       " 'howsever',\n",
       " 'humbled',\n",
       " 'humiliations',\n",
       " 'humored',\n",
       " 'humoured',\n",
       " 'humouring',\n",
       " 'hunted',\n",
       " 'hunters',\n",
       " 'hunts',\n",
       " 'hurrying',\n",
       " 'husbands',\n",
       " 'huswifes',\n",
       " 'ideas',\n",
       " 'idled',\n",
       " 'idolized',\n",
       " 'ii',\n",
       " 'imaginations',\n",
       " 'imagined',\n",
       " 'imagining',\n",
       " 'imbibed',\n",
       " 'immoveable',\n",
       " 'imparted',\n",
       " 'imperfections',\n",
       " 'implied',\n",
       " 'implies',\n",
       " 'impoverished',\n",
       " 'impoverishing',\n",
       " 'improved',\n",
       " 'improvements',\n",
       " 'imputed',\n",
       " 'inclinations',\n",
       " 'inclined',\n",
       " 'inclosing',\n",
       " 'including',\n",
       " 'incommoded',\n",
       " 'inconveniences',\n",
       " 'increased',\n",
       " 'incurred',\n",
       " 'incurring',\n",
       " 'indulged',\n",
       " 'infants',\n",
       " 'inflicted',\n",
       " 'inflicting',\n",
       " 'influenced',\n",
       " 'inforce',\n",
       " 'inforced',\n",
       " 'informing',\n",
       " 'inhabitants',\n",
       " 'inhabiting',\n",
       " 'inheriting',\n",
       " 'injuries',\n",
       " 'inquired',\n",
       " 'inquiries',\n",
       " 'insinuations',\n",
       " 'insisted',\n",
       " 'installed',\n",
       " 'instigated',\n",
       " 'instructions',\n",
       " 'insulted',\n",
       " 'intends',\n",
       " 'intentions',\n",
       " 'intents',\n",
       " 'interests',\n",
       " 'interposed',\n",
       " 'interspersed',\n",
       " 'intervals',\n",
       " 'interviews',\n",
       " 'intimated',\n",
       " 'introduced',\n",
       " 'introducing',\n",
       " 'intruded',\n",
       " 'invented',\n",
       " 'inventing',\n",
       " 'invitations',\n",
       " 'invited',\n",
       " 'irritated',\n",
       " 'irritates',\n",
       " 'issued',\n",
       " 'jealousies',\n",
       " 'jenning',\n",
       " 'jennings',\n",
       " 'jewels',\n",
       " 'jilting',\n",
       " 'joined',\n",
       " 'joked',\n",
       " 'jokes',\n",
       " 'joking',\n",
       " 'joys',\n",
       " 'judged',\n",
       " 'judging',\n",
       " 'judgments',\n",
       " 'jumbled',\n",
       " 'justified',\n",
       " 'keeps',\n",
       " 'keys',\n",
       " 'kicked',\n",
       " 'kinder',\n",
       " 'kindest',\n",
       " 'kingham',\n",
       " 'kissed',\n",
       " 'kisses',\n",
       " 'knees',\n",
       " 'knives',\n",
       " 'knows',\n",
       " 'laboured',\n",
       " 'lamentations',\n",
       " 'lamps',\n",
       " 'lanes',\n",
       " 'languages',\n",
       " 'larger',\n",
       " 'largest',\n",
       " 'lasted',\n",
       " 'laughed',\n",
       " 'laughs',\n",
       " 'leagued',\n",
       " 'legacies',\n",
       " 'lengthened',\n",
       " 'lengths',\n",
       " 'lessened',\n",
       " 'lessening',\n",
       " 'letters',\n",
       " 'letting',\n",
       " 'lies',\n",
       " 'lifted',\n",
       " 'lightened',\n",
       " 'liked',\n",
       " 'likes',\n",
       " 'limbs',\n",
       " 'limits',\n",
       " 'lines',\n",
       " 'lingered',\n",
       " 'lingering',\n",
       " 'lips',\n",
       " 'listened',\n",
       " 'lives',\n",
       " 'livings',\n",
       " 'll',\n",
       " 'lodges',\n",
       " 'loitered',\n",
       " 'lombardy',\n",
       " 'london',\n",
       " 'longed',\n",
       " 'longest',\n",
       " 'longstaple',\n",
       " 'looked',\n",
       " 'looks',\n",
       " 'loved',\n",
       " 'lovers',\n",
       " 'loves',\n",
       " 'lowered',\n",
       " 'lurking',\n",
       " 'magna',\n",
       " 'maids',\n",
       " 'maintained',\n",
       " 'makes',\n",
       " 'mama',\n",
       " 'managed',\n",
       " 'marlborough',\n",
       " 'marriages',\n",
       " 'marries',\n",
       " 'matters',\n",
       " 'maxims',\n",
       " 'meadows',\n",
       " 'meals',\n",
       " 'means',\n",
       " 'meantime',\n",
       " 'measures',\n",
       " 'medicines',\n",
       " 'meditated',\n",
       " 'meditations',\n",
       " 'meetings',\n",
       " 'mentioned',\n",
       " 'mentioning',\n",
       " 'merest',\n",
       " 'merits',\n",
       " 'merrier',\n",
       " 'messages',\n",
       " 'middleton',\n",
       " 'middletons',\n",
       " 'militated',\n",
       " 'minds',\n",
       " 'minutes',\n",
       " 'misapplied',\n",
       " 'misinformed',\n",
       " 'missed',\n",
       " 'misses',\n",
       " 'mistakes',\n",
       " 'mixing',\n",
       " 'modestest',\n",
       " 'mohrs',\n",
       " 'moments',\n",
       " 'months',\n",
       " 'mosquitoes',\n",
       " 'mothers',\n",
       " 'motives',\n",
       " 'moved',\n",
       " 'murmurings',\n",
       " 'muttered',\n",
       " 'nabobs',\n",
       " 'named',\n",
       " 'names',\n",
       " 'natured',\n",
       " 'nearer',\n",
       " 'needed',\n",
       " 'neglected',\n",
       " 'neighbour',\n",
       " 'neighbourhood',\n",
       " 'neighbouring',\n",
       " 'neighbourly',\n",
       " 'neighbours',\n",
       " 'nerves',\n",
       " 'nests',\n",
       " 'nettles',\n",
       " 'newer',\n",
       " 'newspapers',\n",
       " 'nicest',\n",
       " 'nieces',\n",
       " 'nipped',\n",
       " 'nodded',\n",
       " 'nods',\n",
       " 'noisier',\n",
       " 'notes',\n",
       " 'noticed',\n",
       " 'noticing',\n",
       " 'notions',\n",
       " 'nt',\n",
       " 'nurses',\n",
       " 'obeyed',\n",
       " 'objected',\n",
       " 'objections',\n",
       " 'objects',\n",
       " 'obligations',\n",
       " 'observations',\n",
       " 'observed',\n",
       " 'obstacles',\n",
       " 'obstructed',\n",
       " 'obtained',\n",
       " 'obtaining',\n",
       " 'obviated',\n",
       " 'obviating',\n",
       " 'occasioned',\n",
       " 'occasions',\n",
       " 'occupations',\n",
       " 'occupied',\n",
       " 'occurred',\n",
       " 'oddest',\n",
       " 'offence',\n",
       " 'offences',\n",
       " 'offending',\n",
       " 'offered',\n",
       " 'offices',\n",
       " 'oftener',\n",
       " 'oftenest',\n",
       " 'oldest',\n",
       " 'olives',\n",
       " 'omitted',\n",
       " 'ones',\n",
       " 'opened',\n",
       " 'opinions',\n",
       " 'opportunities',\n",
       " 'ordained',\n",
       " 'orders',\n",
       " 'originated',\n",
       " 'ornamented',\n",
       " 'ornaments',\n",
       " 'others',\n",
       " 'outdone',\n",
       " ...]"
      ]
     },
     "execution_count": 132,
     "metadata": {},
     "output_type": "execute_result"
    }
   ],
   "source": [
    "unusual_words(nltk.corpus.gutenberg.words('austen-sense.txt'))"
   ]
  },
  {
   "cell_type": "code",
   "execution_count": 133,
   "metadata": {},
   "outputs": [
    {
     "data": {
      "text/plain": [
       "['aaaaaaaaaaaaaaaaa',\n",
       " 'aaahhhh',\n",
       " 'abortions',\n",
       " 'abou',\n",
       " 'abourted',\n",
       " 'abs',\n",
       " 'ack',\n",
       " 'acros',\n",
       " 'actualy',\n",
       " 'adams',\n",
       " 'adds',\n",
       " 'adduser',\n",
       " 'adjusts',\n",
       " 'adoted',\n",
       " 'adreniline',\n",
       " 'ads',\n",
       " 'adults',\n",
       " 'afe',\n",
       " 'affairs',\n",
       " 'affari',\n",
       " 'affects',\n",
       " 'afk',\n",
       " 'agaibn',\n",
       " 'ages',\n",
       " 'aggravated',\n",
       " 'agurlwithbigguns',\n",
       " 'ahah',\n",
       " 'ahahah',\n",
       " 'ahahh',\n",
       " 'ahahha',\n",
       " 'ahh',\n",
       " 'ahhah',\n",
       " 'ahhahahaha',\n",
       " 'ahhh',\n",
       " 'ahhhh',\n",
       " 'ahhhhhh',\n",
       " 'ahhhhhhhhhhhhhh',\n",
       " 'aiiiiiiiiiiiiiiiiiiiiiiii',\n",
       " 'aiken',\n",
       " 'aime',\n",
       " 'akdt',\n",
       " 'akon',\n",
       " 'akron',\n",
       " 'akst',\n",
       " 'aligator',\n",
       " 'allergies',\n",
       " 'allo',\n",
       " 'allowed',\n",
       " 'aloha',\n",
       " 'alohaaa',\n",
       " 'alohas',\n",
       " 'alot',\n",
       " 'alotta',\n",
       " 'alternatives',\n",
       " 'alterz',\n",
       " 'alwys',\n",
       " 'alzheimers',\n",
       " 'amazingness',\n",
       " 'americans',\n",
       " 'anithing',\n",
       " 'ans',\n",
       " 'answering',\n",
       " 'answers',\n",
       " 'antidepressants',\n",
       " 'anygirl',\n",
       " 'anymore',\n",
       " 'anythin',\n",
       " 'anytime',\n",
       " 'anyyyyyyyyyyyyyyyyy',\n",
       " 'aok',\n",
       " 'apoligize',\n",
       " 'appearently',\n",
       " 'appears',\n",
       " 'applaudes',\n",
       " 'appleton',\n",
       " 'appologise',\n",
       " 'appologize',\n",
       " 'aqwesome',\n",
       " 'arggghhh',\n",
       " 'argh',\n",
       " 'armtnpeat',\n",
       " 'arrested',\n",
       " 'arrived',\n",
       " 'arround',\n",
       " 'asked',\n",
       " 'askin',\n",
       " 'asking',\n",
       " 'asks',\n",
       " 'asl',\n",
       " 'asnwer',\n",
       " 'asses',\n",
       " 'asshole',\n",
       " 'assholes',\n",
       " 'asss',\n",
       " 'assumes',\n",
       " 'aterry',\n",
       " 'atl',\n",
       " 'attempted',\n",
       " 'attracted',\n",
       " 'aussies',\n",
       " 'awesomee',\n",
       " 'awesomes',\n",
       " 'awrighty',\n",
       " 'awsome',\n",
       " 'aww',\n",
       " 'awww',\n",
       " 'awwww',\n",
       " 'awwwwww',\n",
       " 'awwwwwww',\n",
       " 'awwwwwwwwww',\n",
       " 'aynawy',\n",
       " 'az',\n",
       " 'azerbaijan',\n",
       " 'baaaaalllllllliiiiiiinnnnnnnnnnn',\n",
       " 'babay',\n",
       " 'babblein',\n",
       " 'babes',\n",
       " 'babies',\n",
       " 'babiess',\n",
       " 'babycakeses',\n",
       " 'bachelorette',\n",
       " 'backatchya',\n",
       " 'backfrontsidewaysandallaroundtheworld',\n",
       " 'backroom',\n",
       " 'bacl',\n",
       " 'bagels',\n",
       " 'bahahahaa',\n",
       " 'bak',\n",
       " 'balad',\n",
       " 'balck',\n",
       " 'ballin',\n",
       " 'balls',\n",
       " 'bandito',\n",
       " 'bandsaw',\n",
       " 'banjoes',\n",
       " 'banned',\n",
       " 'baord',\n",
       " 'barbie',\n",
       " 'barbieee',\n",
       " 'bares',\n",
       " 'barfights',\n",
       " 'barks',\n",
       " 'bbbbbyyyyyyyeeeeeeeee',\n",
       " 'bbiam',\n",
       " 'bbl',\n",
       " 'bbs',\n",
       " 'bc',\n",
       " 'beachhhh',\n",
       " 'beams',\n",
       " 'beans',\n",
       " 'bears',\n",
       " 'beatles',\n",
       " 'beats',\n",
       " 'beattles',\n",
       " 'beckley',\n",
       " 'beeeeehave',\n",
       " 'beeehave',\n",
       " 'bein',\n",
       " 'beleive',\n",
       " 'belongings',\n",
       " 'benz',\n",
       " 'beuty',\n",
       " 'bf',\n",
       " 'bi',\n",
       " 'biatch',\n",
       " 'biebsa',\n",
       " 'bied',\n",
       " 'bigest',\n",
       " 'biiiatch',\n",
       " 'biiiiiitch',\n",
       " 'bikes',\n",
       " 'bio',\n",
       " 'biographys',\n",
       " 'birdgang',\n",
       " 'birfday',\n",
       " 'bishes',\n",
       " 'bitches',\n",
       " 'bitdh',\n",
       " 'bites',\n",
       " 'biyatch',\n",
       " 'bj',\n",
       " 'blankie',\n",
       " 'blazed',\n",
       " 'blech',\n",
       " 'blessings',\n",
       " 'blew',\n",
       " 'bloe',\n",
       " 'blondes',\n",
       " 'bloooooooood',\n",
       " 'bloooooooooood',\n",
       " 'bloooooooooooood',\n",
       " 'blowjob',\n",
       " 'bodies',\n",
       " 'boed',\n",
       " 'boght',\n",
       " 'boi',\n",
       " 'boing',\n",
       " 'boinked',\n",
       " 'bones',\n",
       " 'boning',\n",
       " 'booboo',\n",
       " 'boobs',\n",
       " 'books',\n",
       " 'boooooooooooglyyyyyy',\n",
       " 'bootay',\n",
       " 'booyah',\n",
       " 'borat',\n",
       " 'bored',\n",
       " 'bothering',\n",
       " 'bounced',\n",
       " 'bouncers',\n",
       " 'bouts',\n",
       " 'boyfriend',\n",
       " 'boys',\n",
       " 'boyz',\n",
       " 'brady',\n",
       " 'brakes',\n",
       " 'brb',\n",
       " 'brbbb',\n",
       " 'breaks',\n",
       " 'brightened',\n",
       " 'brings',\n",
       " 'bro',\n",
       " 'brooklyn',\n",
       " 'brothers',\n",
       " 'brrrrrrr',\n",
       " 'bruises',\n",
       " 'brwn',\n",
       " 'btw',\n",
       " 'bucks',\n",
       " 'buddyyyyyy',\n",
       " 'bugs',\n",
       " 'buh',\n",
       " 'builds',\n",
       " 'bulls',\n",
       " 'bumber',\n",
       " 'bumped',\n",
       " 'burger',\n",
       " 'burito',\n",
       " 'burns',\n",
       " 'burpin',\n",
       " 'burps',\n",
       " 'burried',\n",
       " 'burryed',\n",
       " 'buses',\n",
       " 'buying',\n",
       " 'bwahahahahahahahahahaha',\n",
       " 'bwhaha',\n",
       " 'byb',\n",
       " 'byeee',\n",
       " 'byeeee',\n",
       " 'byeeeeeeee',\n",
       " 'byeeeeeeeeeeeee',\n",
       " 'byes',\n",
       " 'caan',\n",
       " 'caint',\n",
       " 'caiuse',\n",
       " 'cakes',\n",
       " 'cali',\n",
       " 'called',\n",
       " 'callifornia',\n",
       " 'calls',\n",
       " 'cams',\n",
       " 'canadaian',\n",
       " 'canadain',\n",
       " 'canehda',\n",
       " 'caps',\n",
       " 'cardinals',\n",
       " 'cardnials',\n",
       " 'cards',\n",
       " 'cares',\n",
       " 'cars',\n",
       " 'casts',\n",
       " 'catches',\n",
       " 'categories',\n",
       " 'catterick',\n",
       " 'caused',\n",
       " 'cdt',\n",
       " 'cepn',\n",
       " 'cereals',\n",
       " 'chamillionaire',\n",
       " 'changed',\n",
       " 'changing',\n",
       " 'chanop',\n",
       " 'chanowner',\n",
       " 'chathide',\n",
       " 'chatland',\n",
       " 'chatr',\n",
       " 'chatroom',\n",
       " 'chats',\n",
       " 'chatt',\n",
       " 'chatted',\n",
       " 'chattin',\n",
       " 'chcken',\n",
       " 'cheaking',\n",
       " 'checkin',\n",
       " 'checking',\n",
       " 'checks',\n",
       " 'cheeeez',\n",
       " 'cheers',\n",
       " 'cheking',\n",
       " 'chews',\n",
       " 'chica',\n",
       " 'chickens',\n",
       " 'chics',\n",
       " 'chik',\n",
       " 'children',\n",
       " 'chineese',\n",
       " 'chingy',\n",
       " 'choc',\n",
       " 'chocha',\n",
       " 'chococake',\n",
       " 'choices',\n",
       " 'chokes',\n",
       " 'chops',\n",
       " 'chp',\n",
       " 'chuckles',\n",
       " 'chunks',\n",
       " 'churches',\n",
       " 'ciao',\n",
       " 'ciara',\n",
       " 'cigars',\n",
       " 'ciggareets',\n",
       " 'ck',\n",
       " 'claws',\n",
       " 'cleared',\n",
       " 'cleveland',\n",
       " 'clicked',\n",
       " 'clients',\n",
       " 'clinicals',\n",
       " 'clooney',\n",
       " 'closes',\n",
       " 'clubs',\n",
       " 'cmon',\n",
       " 'cnnecticut',\n",
       " 'co',\n",
       " 'coconuts',\n",
       " 'coem',\n",
       " 'coffe',\n",
       " 'coggieeee',\n",
       " 'com',\n",
       " 'combo',\n",
       " 'comenting',\n",
       " 'comin',\n",
       " 'commanded',\n",
       " 'comments',\n",
       " 'comon',\n",
       " 'comp',\n",
       " 'complains',\n",
       " 'completly',\n",
       " 'compliments',\n",
       " 'compoud',\n",
       " 'comprende',\n",
       " 'comps',\n",
       " 'computers',\n",
       " 'computor',\n",
       " 'concernin',\n",
       " 'confessed',\n",
       " 'confusing',\n",
       " 'confusting',\n",
       " 'congrat',\n",
       " 'congrats',\n",
       " 'connecticutt',\n",
       " 'constituents',\n",
       " 'contast',\n",
       " 'contemplating',\n",
       " 'controll',\n",
       " 'controllers',\n",
       " 'controllin',\n",
       " 'controlling',\n",
       " 'convo',\n",
       " 'conway',\n",
       " 'cookie',\n",
       " 'cookies',\n",
       " 'coolcat',\n",
       " 'coonarsee',\n",
       " 'cooooooooookiiiiiiiiiiiieeeeeeeeeeee',\n",
       " 'copone',\n",
       " 'cops',\n",
       " 'costumes',\n",
       " 'cottons',\n",
       " 'coudl',\n",
       " 'coughed',\n",
       " 'coughs',\n",
       " 'cougs',\n",
       " 'couldnt',\n",
       " 'counts',\n",
       " 'coupons',\n",
       " 'courst',\n",
       " 'covers',\n",
       " 'coworkers',\n",
       " 'cpr',\n",
       " 'cramps',\n",
       " 'crashed',\n",
       " 'creme',\n",
       " 'cries',\n",
       " 'cripos',\n",
       " 'crosses',\n",
       " 'csi',\n",
       " 'cst',\n",
       " 'ct',\n",
       " 'ctrl',\n",
       " 'cuddlicious',\n",
       " 'cuffed',\n",
       " 'cums',\n",
       " 'cuppers',\n",
       " 'curls',\n",
       " 'currious',\n",
       " 'cus',\n",
       " 'cusion',\n",
       " 'cutes',\n",
       " 'cuz',\n",
       " 'cya',\n",
       " 'cyas',\n",
       " 'cyber',\n",
       " 'czeching',\n",
       " 'daamn',\n",
       " 'dahlin',\n",
       " 'damnit',\n",
       " 'dances',\n",
       " 'danes',\n",
       " 'dangit',\n",
       " 'darlin',\n",
       " 'darlings',\n",
       " 'darwin',\n",
       " 'dat',\n",
       " 'dated',\n",
       " 'daughters',\n",
       " 'daveeee',\n",
       " 'davis',\n",
       " 'dawg',\n",
       " 'dawnstar',\n",
       " 'dayum',\n",
       " 'dd',\n",
       " 'deals',\n",
       " 'deaths',\n",
       " 'decades',\n",
       " 'deceived',\n",
       " 'deciding',\n",
       " 'declaw',\n",
       " 'declawed',\n",
       " 'deeper',\n",
       " 'definately',\n",
       " 'definitley',\n",
       " 'defragging',\n",
       " 'defrags',\n",
       " 'degrees',\n",
       " 'deleware',\n",
       " 'delivers',\n",
       " 'dem',\n",
       " 'democrats',\n",
       " 'denver',\n",
       " 'denzel',\n",
       " 'deop',\n",
       " 'depeche',\n",
       " 'depends',\n",
       " 'descriminate',\n",
       " 'despie',\n",
       " 'despises',\n",
       " 'detroit',\n",
       " 'didnts',\n",
       " 'died',\n",
       " 'dies',\n",
       " 'diggin',\n",
       " 'dik',\n",
       " 'dipset',\n",
       " 'dirrrrty',\n",
       " 'diseast',\n",
       " 'disocvered',\n",
       " 'dissing',\n",
       " 'divorced',\n",
       " 'dj',\n",
       " 'dl',\n",
       " 'dman',\n",
       " 'docs',\n",
       " 'doggies',\n",
       " 'doin',\n",
       " 'dojn',\n",
       " 'dokey',\n",
       " 'dokken',\n",
       " 'dollars',\n",
       " 'dolls',\n",
       " 'donno',\n",
       " 'dontcha',\n",
       " 'donuts',\n",
       " 'dood',\n",
       " 'doody',\n",
       " 'doors',\n",
       " 'dork',\n",
       " 'dotn',\n",
       " 'doublewide',\n",
       " 'douchebag',\n",
       " 'doupt',\n",
       " 'downloaded',\n",
       " 'downloading',\n",
       " 'downnnnnn',\n",
       " 'downs',\n",
       " 'dr',\n",
       " 'drags',\n",
       " 'dratts',\n",
       " 'dreaded',\n",
       " 'dreammm',\n",
       " 'dreams',\n",
       " 'drinks',\n",
       " 'driveby',\n",
       " 'drivers',\n",
       " 'drivin',\n",
       " 'drools',\n",
       " 'dropped',\n",
       " 'drops',\n",
       " 'drugs',\n",
       " 'dryer',\n",
       " 'dsklgjsdk',\n",
       " 'du',\n",
       " 'duh',\n",
       " 'dumbass',\n",
       " 'dummmm',\n",
       " 'dunkin',\n",
       " 'dunno',\n",
       " 'dvd',\n",
       " 'dya',\n",
       " 'dyed',\n",
       " 'dyslexic',\n",
       " 'earplugs',\n",
       " 'earrings',\n",
       " 'ears',\n",
       " 'eay',\n",
       " 'ebay',\n",
       " 'edgewood',\n",
       " 'edmonton',\n",
       " 'eeeeeeeeewwwwwwww',\n",
       " 'eeeek',\n",
       " 'eeek',\n",
       " 'eeekk',\n",
       " 'eeewww',\n",
       " 'eeewwwwww',\n",
       " 'eeww',\n",
       " 'eggs',\n",
       " 'ehh',\n",
       " 'eitther',\n",
       " 'elbows',\n",
       " 'elected',\n",
       " 'elections',\n",
       " 'elev',\n",
       " 'ello',\n",
       " 'elo',\n",
       " 'email',\n",
       " 'eng',\n",
       " 'england',\n",
       " 'enjoys',\n",
       " 'enters',\n",
       " 'entitled',\n",
       " 'enuf',\n",
       " 'enuff',\n",
       " 'ep',\n",
       " 'erics',\n",
       " 'erm',\n",
       " 'eroticaust',\n",
       " 'errrrr',\n",
       " 'escaped',\n",
       " 'est',\n",
       " 'este',\n",
       " 'estefan',\n",
       " 'estra',\n",
       " 'eticket',\n",
       " 'euphamisms',\n",
       " 'evah',\n",
       " 'everbody',\n",
       " 'everone',\n",
       " 'evertonr',\n",
       " 'everytime',\n",
       " 'ewedding',\n",
       " 'eww',\n",
       " 'ewww',\n",
       " 'ewwww',\n",
       " 'ewwwww',\n",
       " 'ewwwwww',\n",
       " 'ewwwwwww',\n",
       " 'exchanged',\n",
       " 'exchanging',\n",
       " 'excitin',\n",
       " 'excuuuuuuse',\n",
       " 'experimenting',\n",
       " 'extensions',\n",
       " 'extras',\n",
       " 'exwife',\n",
       " 'eyes',\n",
       " 'facilitated',\n",
       " 'fails',\n",
       " 'fairbanks',\n",
       " 'fallout',\n",
       " 'falls',\n",
       " 'fallz',\n",
       " 'farms',\n",
       " 'fart',\n",
       " 'farting',\n",
       " 'farts',\n",
       " 'fav',\n",
       " 'fawk',\n",
       " 'fawked',\n",
       " 'fawker',\n",
       " 'fck',\n",
       " 'febe',\n",
       " 'feeds',\n",
       " 'feelings',\n",
       " 'feels',\n",
       " 'feet',\n",
       " 'fella',\n",
       " 'fellows',\n",
       " 'females',\n",
       " 'femine',\n",
       " 'fer',\n",
       " 'fergalicious',\n",
       " 'fergie',\n",
       " 'fetterline',\n",
       " 'fettish',\n",
       " 'ff',\n",
       " 'fiddles',\n",
       " 'files',\n",
       " 'fillin',\n",
       " 'finds',\n",
       " 'finers',\n",
       " 'fingers',\n",
       " 'firs',\n",
       " 'fishercat',\n",
       " 'fishercats',\n",
       " 'fishers',\n",
       " 'fishin',\n",
       " 'fits',\n",
       " 'fkajslf',\n",
       " 'fl',\n",
       " 'flames',\n",
       " 'flashed',\n",
       " 'flattered',\n",
       " 'flatts',\n",
       " 'flavors',\n",
       " 'flippin',\n",
       " 'flirts',\n",
       " 'fliuds',\n",
       " 'flops',\n",
       " 'fluids',\n",
       " 'fock',\n",
       " 'foley',\n",
       " 'folks',\n",
       " 'fongul',\n",
       " 'foothills',\n",
       " 'footprints',\n",
       " 'foreplay',\n",
       " 'forgets',\n",
       " 'forwads',\n",
       " 'foxes',\n",
       " 'foxwoods',\n",
       " 'fractured',\n",
       " 'fragged',\n",
       " 'fraggle',\n",
       " 'frags',\n",
       " 'freaing',\n",
       " 'freaked',\n",
       " 'freakin',\n",
       " 'freaking',\n",
       " 'freaks',\n",
       " 'freeeezinggg',\n",
       " 'freeezinggggg',\n",
       " 'freesbee',\n",
       " 'freind',\n",
       " 'frenchkiss',\n",
       " 'friends',\n",
       " 'fries',\n",
       " 'frm',\n",
       " 'froogle',\n",
       " 'frst',\n",
       " 'frustrating',\n",
       " 'ft',\n",
       " 'fuck',\n",
       " 'fucker',\n",
       " 'fuckin',\n",
       " 'fucking',\n",
       " 'fucks',\n",
       " 'fuddahnut',\n",
       " 'fuked',\n",
       " 'fulfilling',\n",
       " 'futurama',\n",
       " 'fwd',\n",
       " 'gaaaaaaay',\n",
       " 'gagas',\n",
       " 'gags',\n",
       " 'gained',\n",
       " 'gals',\n",
       " 'gamefly',\n",
       " 'games',\n",
       " 'garciae',\n",
       " 'gaspppp',\n",
       " 'gawd',\n",
       " 'gayoholic',\n",
       " 'gays',\n",
       " 'geeks',\n",
       " 'gees',\n",
       " 'geesh',\n",
       " 'geeshh',\n",
       " 'geeshhh',\n",
       " 'geessh',\n",
       " 'geeze',\n",
       " 'gente',\n",
       " 'gentlemen',\n",
       " 'gets',\n",
       " 'gettign',\n",
       " 'gettin',\n",
       " 'gettysburg',\n",
       " 'gezzz',\n",
       " 'gf',\n",
       " 'gguyyyzzzz',\n",
       " 'ghet',\n",
       " 'giggles',\n",
       " 'girlfriend',\n",
       " 'girls',\n",
       " 'giva',\n",
       " 'gives',\n",
       " 'givs',\n",
       " 'glitches',\n",
       " 'gm',\n",
       " 'gn',\n",
       " 'gng',\n",
       " 'goddamn',\n",
       " 'goin',\n",
       " 'goneee',\n",
       " 'gonna',\n",
       " 'goodbye',\n",
       " 'goodie',\n",
       " 'goodnight',\n",
       " 'goodnite',\n",
       " 'google',\n",
       " 'gooo',\n",
       " 'goooooo',\n",
       " 'gorda',\n",
       " 'gotaa',\n",
       " 'goths',\n",
       " 'gotta',\n",
       " 'gottsa',\n",
       " 'grabs',\n",
       " 'gracemont',\n",
       " 'grea',\n",
       " 'greetings',\n",
       " 'gret',\n",
       " 'grettings',\n",
       " 'grilfriend',\n",
       " 'grins',\n",
       " 'gritt',\n",
       " 'grlz',\n",
       " 'groups',\n",
       " 'grrl',\n",
       " 'grrr',\n",
       " 'grrrrrring',\n",
       " 'grrrrrrrr',\n",
       " 'grrrrrrrrr',\n",
       " 'grrrrrrrrrrrrrrrrr',\n",
       " 'gs',\n",
       " 'gtg',\n",
       " 'guns',\n",
       " 'gurlie',\n",
       " 'gurls',\n",
       " 'gurrrrl',\n",
       " 'guts',\n",
       " 'guys',\n",
       " 'guyz',\n",
       " 'guyzz',\n",
       " 'haaa',\n",
       " 'hafta',\n",
       " 'haha',\n",
       " 'hahaaa',\n",
       " 'hahaaaa',\n",
       " 'hahah',\n",
       " 'hahaha',\n",
       " 'hahahaa',\n",
       " 'hahahah',\n",
       " 'hahahaha',\n",
       " 'hahahahaaa',\n",
       " 'hahahahahaha',\n",
       " 'hahahahahahaha',\n",
       " 'hahahahahahahahahahahahahahahaha',\n",
       " 'hahahhahah',\n",
       " 'hahhaa',\n",
       " 'hahhahahaha',\n",
       " 'hairs',\n",
       " 'halfa',\n",
       " 'hallo',\n",
       " 'handheld',\n",
       " 'handing',\n",
       " 'hands',\n",
       " 'handyman',\n",
       " 'hang',\n",
       " 'hangin',\n",
       " 'hangs',\n",
       " 'happend',\n",
       " 'happened',\n",
       " 'happens',\n",
       " 'happpy',\n",
       " 'harley',\n",
       " 'hartford',\n",
       " 'has',\n",
       " 'haters',\n",
       " 'hates',\n",
       " 'hav',\n",
       " 'havin',\n",
       " 'having',\n",
       " 'hawaii',\n",
       " 'hawt',\n",
       " 'hb',\n",
       " 'headach',\n",
       " 'headlights',\n",
       " 'heads',\n",
       " 'heard',\n",
       " 'hearin',\n",
       " 'hearthechatters',\n",
       " 'heee',\n",
       " 'heeee',\n",
       " 'heeeey',\n",
       " 'heeheeheeheeheehee',\n",
       " 'heh',\n",
       " 'heheh',\n",
       " 'hehehe',\n",
       " 'hehehee',\n",
       " 'hehehehe',\n",
       " 'hel',\n",
       " 'helloooo',\n",
       " 'hellos',\n",
       " 'helped',\n",
       " 'hendrix',\n",
       " 'heroes',\n",
       " 'hertory',\n",
       " 'hes',\n",
       " 'heya',\n",
       " 'heyheyhey',\n",
       " 'heys',\n",
       " 'heyy',\n",
       " 'heyyy',\n",
       " 'heyyyy',\n",
       " 'heyyyyy',\n",
       " 'heyyyyyy',\n",
       " 'heyyyyyyy',\n",
       " 'heyyyyyyyy',\n",
       " 'heyyyyyyyyy',\n",
       " 'heyyyyyyyyyy',\n",
       " 'heyyyyyyyyyyyyyy',\n",
       " 'hfglhs',\n",
       " 'hgey',\n",
       " 'hgfhgfjgf',\n",
       " 'hhaaaaatttee',\n",
       " 'hheeyy',\n",
       " 'hheeyyy',\n",
       " 'hheeyyyyyyyyyyyyyyyyyyyyyyyyyyyyyyyyyyyyyyyyyyyyyyy',\n",
       " 'hhehe',\n",
       " 'hiding',\n",
       " 'hih',\n",
       " 'hii',\n",
       " 'hiii',\n",
       " 'hiiii',\n",
       " 'hio',\n",
       " 'hiom',\n",
       " 'hissy',\n",
       " 'hits',\n",
       " 'hitting',\n",
       " 'hix',\n",
       " 'hiy',\n",
       " 'hiya',\n",
       " 'hiyas',\n",
       " 'hm',\n",
       " 'hmm',\n",
       " 'hmmm',\n",
       " 'hmmmm',\n",
       " 'hmmmmm',\n",
       " 'hmmmmmmm',\n",
       " 'hmmmmmmmm',\n",
       " 'hmmmmmmmmmm',\n",
       " 'hmph',\n",
       " 'hogs',\n",
       " 'hohohohhohhoo',\n",
       " 'hola',\n",
       " 'holdin',\n",
       " 'holds',\n",
       " 'holocaustyourmom',\n",
       " 'hom',\n",
       " 'homeade',\n",
       " 'homeboys',\n",
       " 'homes',\n",
       " 'homies',\n",
       " 'homophobic',\n",
       " 'hoo',\n",
       " 'hooo',\n",
       " 'hooooo',\n",
       " 'hopin',\n",
       " 'hoping',\n",
       " 'horace',\n",
       " 'horriable',\n",
       " 'horrified',\n",
       " 'hots',\n",
       " 'hott',\n",
       " 'hottie',\n",
       " 'hotties',\n",
       " 'hours',\n",
       " 'houses',\n",
       " 'hows',\n",
       " 'howz',\n",
       " 'hpa',\n",
       " 'hr',\n",
       " 'hrs',\n",
       " 'http',\n",
       " 'hubbys',\n",
       " 'hugggs',\n",
       " 'huggs',\n",
       " 'huggss',\n",
       " 'hugs',\n",
       " 'hugss',\n",
       " 'hugsss',\n",
       " 'hugsssss',\n",
       " 'hugsssssssss',\n",
       " 'hugzzzzzzz',\n",
       " 'humm',\n",
       " 'hummmm',\n",
       " 'humple',\n",
       " 'hunters',\n",
       " 'huskers',\n",
       " 'husteling',\n",
       " 'huuuuuuuuuuuuuuuuuuuuuuuuuuuuuuuuuuugz',\n",
       " 'hx',\n",
       " 'hyy',\n",
       " 'iamahotnip',\n",
       " 'iamahotniplickme',\n",
       " 'iamahotnipwithhotnippics',\n",
       " 'iamahotnipwithpics',\n",
       " 'icky',\n",
       " 'ico',\n",
       " 'idiots',\n",
       " 'idnt',\n",
       " 'ifr',\n",
       " 'ignored',\n",
       " 'ignoring',\n",
       " 'ihavehotnips',\n",
       " 'ii',\n",
       " 'il',\n",
       " 'illin',\n",
       " 'im',\n",
       " 'images',\n",
       " 'imhave',\n",
       " 'imma',\n",
       " 'immersed',\n",
       " 'impaired',\n",
       " 'impared',\n",
       " 'impressed',\n",
       " 'indiantown',\n",
       " 'infor',\n",
       " 'inhales',\n",
       " 'injureis',\n",
       " 'innit',\n",
       " 'innocense',\n",
       " 'insuklting',\n",
       " 'internet',\n",
       " 'intersting',\n",
       " 'invisiable',\n",
       " 'involves',\n",
       " 'irc',\n",
       " 'irl',\n",
       " 'isnt',\n",
       " 'issues',\n",
       " 'italians',\n",
       " 'italy',\n",
       " 'itches',\n",
       " 'items',\n",
       " 'itz',\n",
       " 'ive',\n",
       " 'iz',\n",
       " 'ja',\n",
       " 'jackie',\n",
       " 'jacking',\n",
       " 'jajajaaa',\n",
       " 'jammed',\n",
       " 'jammers',\n",
       " 'jammies',\n",
       " 'jayse',\n",
       " 'jerimiah',\n",
       " 'jerkettes',\n",
       " 'jerketts',\n",
       " 'jerks',\n",
       " 'jeter',\n",
       " 'jk',\n",
       " 'johnson',\n",
       " 'johny',\n",
       " 'joined',\n",
       " 'jokes',\n",
       " 'joking',\n",
       " 'jonesboro',\n",
       " 'jordison',\n",
       " 'joshy',\n",
       " 'jr',\n",
       " 'jrz',\n",
       " 'jto',\n",
       " 'jucilicious',\n",
       " 'judges',\n",
       " 'jujubees',\n",
       " 'jumpin',\n",
       " 'jumps',\n",
       " ...]"
      ]
     },
     "execution_count": 133,
     "metadata": {},
     "output_type": "execute_result"
    }
   ],
   "source": [
    "unusual_words(nltk.corpus.nps_chat.words())"
   ]
  },
  {
   "cell_type": "markdown",
   "metadata": {},
   "source": [
    "There is also a corpus of <font size=2 style=\"color:#3498DB\">**stopwords**</font>, that is, high-frequency words like *the*, *to* and *also* that we sometimes want to filter out of a document before further processing.\n",
    "\n",
    "Stopwords usually <font style=\"background:#00FF00\"><strong>have little lexical content</strong></font>, and their presence in a text fails to distinguish it from other texts."
   ]
  },
  {
   "cell_type": "code",
   "execution_count": 134,
   "metadata": {},
   "outputs": [],
   "source": [
    "from nltk.corpus import stopwords"
   ]
  },
  {
   "cell_type": "code",
   "execution_count": 135,
   "metadata": {},
   "outputs": [
    {
     "data": {
      "text/plain": [
       "['i',\n",
       " 'me',\n",
       " 'my',\n",
       " 'myself',\n",
       " 'we',\n",
       " 'our',\n",
       " 'ours',\n",
       " 'ourselves',\n",
       " 'you',\n",
       " \"you're\",\n",
       " \"you've\",\n",
       " \"you'll\",\n",
       " \"you'd\",\n",
       " 'your',\n",
       " 'yours',\n",
       " 'yourself',\n",
       " 'yourselves',\n",
       " 'he',\n",
       " 'him',\n",
       " 'his',\n",
       " 'himself',\n",
       " 'she',\n",
       " \"she's\",\n",
       " 'her',\n",
       " 'hers',\n",
       " 'herself',\n",
       " 'it',\n",
       " \"it's\",\n",
       " 'its',\n",
       " 'itself',\n",
       " 'they',\n",
       " 'them',\n",
       " 'their',\n",
       " 'theirs',\n",
       " 'themselves',\n",
       " 'what',\n",
       " 'which',\n",
       " 'who',\n",
       " 'whom',\n",
       " 'this',\n",
       " 'that',\n",
       " \"that'll\",\n",
       " 'these',\n",
       " 'those',\n",
       " 'am',\n",
       " 'is',\n",
       " 'are',\n",
       " 'was',\n",
       " 'were',\n",
       " 'be',\n",
       " 'been',\n",
       " 'being',\n",
       " 'have',\n",
       " 'has',\n",
       " 'had',\n",
       " 'having',\n",
       " 'do',\n",
       " 'does',\n",
       " 'did',\n",
       " 'doing',\n",
       " 'a',\n",
       " 'an',\n",
       " 'the',\n",
       " 'and',\n",
       " 'but',\n",
       " 'if',\n",
       " 'or',\n",
       " 'because',\n",
       " 'as',\n",
       " 'until',\n",
       " 'while',\n",
       " 'of',\n",
       " 'at',\n",
       " 'by',\n",
       " 'for',\n",
       " 'with',\n",
       " 'about',\n",
       " 'against',\n",
       " 'between',\n",
       " 'into',\n",
       " 'through',\n",
       " 'during',\n",
       " 'before',\n",
       " 'after',\n",
       " 'above',\n",
       " 'below',\n",
       " 'to',\n",
       " 'from',\n",
       " 'up',\n",
       " 'down',\n",
       " 'in',\n",
       " 'out',\n",
       " 'on',\n",
       " 'off',\n",
       " 'over',\n",
       " 'under',\n",
       " 'again',\n",
       " 'further',\n",
       " 'then',\n",
       " 'once',\n",
       " 'here',\n",
       " 'there',\n",
       " 'when',\n",
       " 'where',\n",
       " 'why',\n",
       " 'how',\n",
       " 'all',\n",
       " 'any',\n",
       " 'both',\n",
       " 'each',\n",
       " 'few',\n",
       " 'more',\n",
       " 'most',\n",
       " 'other',\n",
       " 'some',\n",
       " 'such',\n",
       " 'no',\n",
       " 'nor',\n",
       " 'not',\n",
       " 'only',\n",
       " 'own',\n",
       " 'same',\n",
       " 'so',\n",
       " 'than',\n",
       " 'too',\n",
       " 'very',\n",
       " 's',\n",
       " 't',\n",
       " 'can',\n",
       " 'will',\n",
       " 'just',\n",
       " 'don',\n",
       " \"don't\",\n",
       " 'should',\n",
       " \"should've\",\n",
       " 'now',\n",
       " 'd',\n",
       " 'll',\n",
       " 'm',\n",
       " 'o',\n",
       " 're',\n",
       " 've',\n",
       " 'y',\n",
       " 'ain',\n",
       " 'aren',\n",
       " \"aren't\",\n",
       " 'couldn',\n",
       " \"couldn't\",\n",
       " 'didn',\n",
       " \"didn't\",\n",
       " 'doesn',\n",
       " \"doesn't\",\n",
       " 'hadn',\n",
       " \"hadn't\",\n",
       " 'hasn',\n",
       " \"hasn't\",\n",
       " 'haven',\n",
       " \"haven't\",\n",
       " 'isn',\n",
       " \"isn't\",\n",
       " 'ma',\n",
       " 'mightn',\n",
       " \"mightn't\",\n",
       " 'mustn',\n",
       " \"mustn't\",\n",
       " 'needn',\n",
       " \"needn't\",\n",
       " 'shan',\n",
       " \"shan't\",\n",
       " 'shouldn',\n",
       " \"shouldn't\",\n",
       " 'wasn',\n",
       " \"wasn't\",\n",
       " 'weren',\n",
       " \"weren't\",\n",
       " 'won',\n",
       " \"won't\",\n",
       " 'wouldn',\n",
       " \"wouldn't\"]"
      ]
     },
     "execution_count": 135,
     "metadata": {},
     "output_type": "execute_result"
    }
   ],
   "source": [
    "stopwords.words('english')"
   ]
  },
  {
   "cell_type": "markdown",
   "metadata": {},
   "source": [
    "<font size=2 style=\"color:#2ECC71\">**Example**:</font>\n",
    "\n",
    "Define a function to compute what fraction of words in a text are not in the stopwords list."
   ]
  },
  {
   "cell_type": "code",
   "execution_count": 136,
   "metadata": {},
   "outputs": [],
   "source": [
    "def content_fraction(text):\n",
    "    stopwords = nltk.corpus.stopwords.words('english')\n",
    "    content = [w for w in text if w.lower() not in stopwords]\n",
    "    return len(content) / len(text)"
   ]
  },
  {
   "cell_type": "code",
   "execution_count": 137,
   "metadata": {},
   "outputs": [
    {
     "data": {
      "text/plain": [
       "0.735240435097661"
      ]
     },
     "execution_count": 137,
     "metadata": {},
     "output_type": "execute_result"
    }
   ],
   "source": [
    "content_fraction(nltk.corpus.reuters.words())"
   ]
  },
  {
   "cell_type": "markdown",
   "metadata": {},
   "source": [
    "<font size=2 style=\"color:#2ECC71\">**Example**:</font>\n",
    "\n",
    "Use the corpus `nltk.corpus.words` to help solve **Word Puzzle** defined as follow:"
   ]
  },
  {
   "cell_type": "markdown",
   "metadata": {},
   "source": [
    "<div align=center>\n",
    "<img src=\"https://www.nltk.org/images/target.png\">\n",
    "<br>\n",
    "<center>Word Puzzle</center>\n",
    "</div>"
   ]
  },
  {
   "cell_type": "code",
   "execution_count": 138,
   "metadata": {},
   "outputs": [],
   "source": [
    "puzzle_letters = nltk.FreqDist('egivrvonl')"
   ]
  },
  {
   "cell_type": "code",
   "execution_count": 139,
   "metadata": {},
   "outputs": [],
   "source": [
    "obligatory = 'r'"
   ]
  },
  {
   "cell_type": "code",
   "execution_count": 140,
   "metadata": {},
   "outputs": [],
   "source": [
    "wordlist = nltk.corpus.words.words()"
   ]
  },
  {
   "cell_type": "code",
   "execution_count": 141,
   "metadata": {},
   "outputs": [
    {
     "data": {
      "text/plain": [
       "['enrol',\n",
       " 'ergon',\n",
       " 'genro',\n",
       " 'girl',\n",
       " 'girn',\n",
       " 'giro',\n",
       " 'giver',\n",
       " 'glor',\n",
       " 'glore',\n",
       " 'glover',\n",
       " 'goer',\n",
       " 'goner',\n",
       " 'gore',\n",
       " 'gorlin',\n",
       " 'govern',\n",
       " 'grein',\n",
       " 'grin',\n",
       " 'groin',\n",
       " 'grove',\n",
       " 'grovel',\n",
       " 'ignore',\n",
       " 'inro',\n",
       " 'involver',\n",
       " 'iron',\n",
       " 'irone',\n",
       " 'levir',\n",
       " 'lienor',\n",
       " 'lier',\n",
       " 'liner',\n",
       " 'linger',\n",
       " 'lire',\n",
       " 'liver',\n",
       " 'livor',\n",
       " 'livre',\n",
       " 'loir',\n",
       " 'longer',\n",
       " 'lore',\n",
       " 'lori',\n",
       " 'lorn',\n",
       " 'lover',\n",
       " 'lovering',\n",
       " 'negro',\n",
       " 'nigre',\n",
       " 'noiler',\n",
       " 'noir',\n",
       " 'nori',\n",
       " 'norie',\n",
       " 'ogler',\n",
       " 'ogre',\n",
       " 'oiler',\n",
       " 'oner',\n",
       " 'oriel',\n",
       " 'orle',\n",
       " 'over',\n",
       " 'overling',\n",
       " 'regin',\n",
       " 'region',\n",
       " 'reign',\n",
       " 'rein',\n",
       " 'renvoi',\n",
       " 'reoil',\n",
       " 'revolving',\n",
       " 'rigol',\n",
       " 'rile',\n",
       " 'rine',\n",
       " 'ring',\n",
       " 'ringe',\n",
       " 'ringle',\n",
       " 'rive',\n",
       " 'rivel',\n",
       " 'riven',\n",
       " 'roil',\n",
       " 'role',\n",
       " 'rone',\n",
       " 'rove',\n",
       " 'roving',\n",
       " 'vergi',\n",
       " 'veri',\n",
       " 'vier',\n",
       " 'vigor',\n",
       " 'viner',\n",
       " 'violer',\n",
       " 'vire',\n",
       " 'vireo',\n",
       " 'virl',\n",
       " 'virole',\n",
       " 'viron',\n",
       " 'viver',\n",
       " 'girl',\n",
       " 'iron',\n",
       " 'over',\n",
       " 'ring']"
      ]
     },
     "execution_count": 141,
     "metadata": {},
     "output_type": "execute_result"
    }
   ],
   "source": [
    "[w for w in wordlist if len(w) >= 4\n",
    " and obligatory in w\n",
    " and nltk.FreqDist(w) <= puzzle_letters]"
   ]
  },
  {
   "cell_type": "markdown",
   "metadata": {},
   "source": [
    "<font size=2 style=\"color:#2ECC71\">**Example**:</font>\n",
    "\n",
    "Find those first names that are in both male and female names."
   ]
  },
  {
   "cell_type": "code",
   "execution_count": 142,
   "metadata": {},
   "outputs": [],
   "source": [
    "names = nltk.corpus.names"
   ]
  },
  {
   "cell_type": "code",
   "execution_count": 143,
   "metadata": {},
   "outputs": [],
   "source": [
    "# nltk.download('names')"
   ]
  },
  {
   "cell_type": "code",
   "execution_count": 144,
   "metadata": {},
   "outputs": [
    {
     "data": {
      "text/plain": [
       "['female.txt', 'male.txt']"
      ]
     },
     "execution_count": 144,
     "metadata": {},
     "output_type": "execute_result"
    }
   ],
   "source": [
    "names.fileids()"
   ]
  },
  {
   "cell_type": "code",
   "execution_count": 145,
   "metadata": {},
   "outputs": [],
   "source": [
    "male_names = names.words('male.txt')"
   ]
  },
  {
   "cell_type": "code",
   "execution_count": 146,
   "metadata": {},
   "outputs": [],
   "source": [
    "female_names = names.words('female.txt')"
   ]
  },
  {
   "cell_type": "code",
   "execution_count": 147,
   "metadata": {},
   "outputs": [
    {
     "data": {
      "text/plain": [
       "['Abbey',\n",
       " 'Abbie',\n",
       " 'Abby',\n",
       " 'Addie',\n",
       " 'Adrian',\n",
       " 'Adrien',\n",
       " 'Ajay',\n",
       " 'Alex',\n",
       " 'Alexis',\n",
       " 'Alfie',\n",
       " 'Ali',\n",
       " 'Alix',\n",
       " 'Allie',\n",
       " 'Allyn',\n",
       " 'Andie',\n",
       " 'Andrea',\n",
       " 'Andy',\n",
       " 'Angel',\n",
       " 'Angie',\n",
       " 'Ariel',\n",
       " 'Ashley',\n",
       " 'Aubrey',\n",
       " 'Augustine',\n",
       " 'Austin',\n",
       " 'Averil',\n",
       " 'Barrie',\n",
       " 'Barry',\n",
       " 'Beau',\n",
       " 'Bennie',\n",
       " 'Benny',\n",
       " 'Bernie',\n",
       " 'Bert',\n",
       " 'Bertie',\n",
       " 'Bill',\n",
       " 'Billie',\n",
       " 'Billy',\n",
       " 'Blair',\n",
       " 'Blake',\n",
       " 'Bo',\n",
       " 'Bobbie',\n",
       " 'Bobby',\n",
       " 'Brandy',\n",
       " 'Brett',\n",
       " 'Britt',\n",
       " 'Brook',\n",
       " 'Brooke',\n",
       " 'Brooks',\n",
       " 'Bryn',\n",
       " 'Cal',\n",
       " 'Cam',\n",
       " 'Cammy',\n",
       " 'Carey',\n",
       " 'Carlie',\n",
       " 'Carlin',\n",
       " 'Carmine',\n",
       " 'Carroll',\n",
       " 'Cary',\n",
       " 'Caryl',\n",
       " 'Casey',\n",
       " 'Cass',\n",
       " 'Cat',\n",
       " 'Cecil',\n",
       " 'Chad',\n",
       " 'Chris',\n",
       " 'Chrissy',\n",
       " 'Christian',\n",
       " 'Christie',\n",
       " 'Christy',\n",
       " 'Clair',\n",
       " 'Claire',\n",
       " 'Clare',\n",
       " 'Claude',\n",
       " 'Clem',\n",
       " 'Clemmie',\n",
       " 'Cody',\n",
       " 'Connie',\n",
       " 'Constantine',\n",
       " 'Corey',\n",
       " 'Corrie',\n",
       " 'Cory',\n",
       " 'Courtney',\n",
       " 'Cris',\n",
       " 'Daffy',\n",
       " 'Dale',\n",
       " 'Dallas',\n",
       " 'Dana',\n",
       " 'Dani',\n",
       " 'Daniel',\n",
       " 'Dannie',\n",
       " 'Danny',\n",
       " 'Darby',\n",
       " 'Darcy',\n",
       " 'Darryl',\n",
       " 'Daryl',\n",
       " 'Deane',\n",
       " 'Del',\n",
       " 'Dell',\n",
       " 'Demetris',\n",
       " 'Dennie',\n",
       " 'Denny',\n",
       " 'Devin',\n",
       " 'Devon',\n",
       " 'Dion',\n",
       " 'Dionis',\n",
       " 'Dominique',\n",
       " 'Donnie',\n",
       " 'Donny',\n",
       " 'Dorian',\n",
       " 'Dory',\n",
       " 'Drew',\n",
       " 'Eddie',\n",
       " 'Eddy',\n",
       " 'Edie',\n",
       " 'Elisha',\n",
       " 'Emmy',\n",
       " 'Erin',\n",
       " 'Esme',\n",
       " 'Evelyn',\n",
       " 'Felice',\n",
       " 'Fran',\n",
       " 'Francis',\n",
       " 'Frank',\n",
       " 'Frankie',\n",
       " 'Franky',\n",
       " 'Fred',\n",
       " 'Freddie',\n",
       " 'Freddy',\n",
       " 'Gabriel',\n",
       " 'Gabriell',\n",
       " 'Gail',\n",
       " 'Gale',\n",
       " 'Gay',\n",
       " 'Gayle',\n",
       " 'Gene',\n",
       " 'George',\n",
       " 'Georgia',\n",
       " 'Georgie',\n",
       " 'Geri',\n",
       " 'Germaine',\n",
       " 'Gerri',\n",
       " 'Gerry',\n",
       " 'Gill',\n",
       " 'Ginger',\n",
       " 'Glen',\n",
       " 'Glenn',\n",
       " 'Grace',\n",
       " 'Gretchen',\n",
       " 'Gus',\n",
       " 'Haleigh',\n",
       " 'Haley',\n",
       " 'Hannibal',\n",
       " 'Harley',\n",
       " 'Hazel',\n",
       " 'Heath',\n",
       " 'Henrie',\n",
       " 'Hilary',\n",
       " 'Hillary',\n",
       " 'Holly',\n",
       " 'Ike',\n",
       " 'Ikey',\n",
       " 'Ira',\n",
       " 'Isa',\n",
       " 'Isador',\n",
       " 'Isadore',\n",
       " 'Jackie',\n",
       " 'Jaime',\n",
       " 'Jamie',\n",
       " 'Jan',\n",
       " 'Jean',\n",
       " 'Jere',\n",
       " 'Jermaine',\n",
       " 'Jerrie',\n",
       " 'Jerry',\n",
       " 'Jess',\n",
       " 'Jesse',\n",
       " 'Jessie',\n",
       " 'Jo',\n",
       " 'Jodi',\n",
       " 'Jodie',\n",
       " 'Jody',\n",
       " 'Joey',\n",
       " 'Jordan',\n",
       " 'Juanita',\n",
       " 'Jude',\n",
       " 'Judith',\n",
       " 'Judy',\n",
       " 'Julie',\n",
       " 'Justin',\n",
       " 'Karel',\n",
       " 'Kellen',\n",
       " 'Kelley',\n",
       " 'Kelly',\n",
       " 'Kelsey',\n",
       " 'Kerry',\n",
       " 'Kim',\n",
       " 'Kip',\n",
       " 'Kirby',\n",
       " 'Kit',\n",
       " 'Kris',\n",
       " 'Kyle',\n",
       " 'Lane',\n",
       " 'Lanny',\n",
       " 'Lauren',\n",
       " 'Laurie',\n",
       " 'Lee',\n",
       " 'Leigh',\n",
       " 'Leland',\n",
       " 'Lesley',\n",
       " 'Leslie',\n",
       " 'Lin',\n",
       " 'Lind',\n",
       " 'Lindsay',\n",
       " 'Lindsey',\n",
       " 'Lindy',\n",
       " 'Lonnie',\n",
       " 'Loren',\n",
       " 'Lorne',\n",
       " 'Lorrie',\n",
       " 'Lou',\n",
       " 'Luce',\n",
       " 'Lyn',\n",
       " 'Lynn',\n",
       " 'Maddie',\n",
       " 'Maddy',\n",
       " 'Marietta',\n",
       " 'Marion',\n",
       " 'Marlo',\n",
       " 'Martie',\n",
       " 'Marty',\n",
       " 'Mattie',\n",
       " 'Matty',\n",
       " 'Maurise',\n",
       " 'Max',\n",
       " 'Maxie',\n",
       " 'Mead',\n",
       " 'Meade',\n",
       " 'Mel',\n",
       " 'Meredith',\n",
       " 'Merle',\n",
       " 'Merrill',\n",
       " 'Merry',\n",
       " 'Meryl',\n",
       " 'Michal',\n",
       " 'Michel',\n",
       " 'Michele',\n",
       " 'Mickie',\n",
       " 'Micky',\n",
       " 'Millicent',\n",
       " 'Morgan',\n",
       " 'Morlee',\n",
       " 'Muffin',\n",
       " 'Nat',\n",
       " 'Nichole',\n",
       " 'Nickie',\n",
       " 'Nicky',\n",
       " 'Niki',\n",
       " 'Nikki',\n",
       " 'Noel',\n",
       " 'Ollie',\n",
       " 'Page',\n",
       " 'Paige',\n",
       " 'Pat',\n",
       " 'Patrice',\n",
       " 'Patsy',\n",
       " 'Pattie',\n",
       " 'Patty',\n",
       " 'Pen',\n",
       " 'Pennie',\n",
       " 'Penny',\n",
       " 'Perry',\n",
       " 'Phil',\n",
       " 'Pooh',\n",
       " 'Quentin',\n",
       " 'Quinn',\n",
       " 'Randi',\n",
       " 'Randie',\n",
       " 'Randy',\n",
       " 'Ray',\n",
       " 'Regan',\n",
       " 'Reggie',\n",
       " 'Rene',\n",
       " 'Rey',\n",
       " 'Ricki',\n",
       " 'Rickie',\n",
       " 'Ricky',\n",
       " 'Rikki',\n",
       " 'Robbie',\n",
       " 'Robin',\n",
       " 'Ronnie',\n",
       " 'Ronny',\n",
       " 'Rory',\n",
       " 'Ruby',\n",
       " 'Sal',\n",
       " 'Sam',\n",
       " 'Sammy',\n",
       " 'Sandy',\n",
       " 'Sascha',\n",
       " 'Sasha',\n",
       " 'Saundra',\n",
       " 'Sayre',\n",
       " 'Scotty',\n",
       " 'Sean',\n",
       " 'Shaine',\n",
       " 'Shane',\n",
       " 'Shannon',\n",
       " 'Shaun',\n",
       " 'Shawn',\n",
       " 'Shay',\n",
       " 'Shayne',\n",
       " 'Shea',\n",
       " 'Shelby',\n",
       " 'Shell',\n",
       " 'Shelley',\n",
       " 'Sibyl',\n",
       " 'Simone',\n",
       " 'Sonnie',\n",
       " 'Sonny',\n",
       " 'Stacy',\n",
       " 'Sunny',\n",
       " 'Sydney',\n",
       " 'Tabbie',\n",
       " 'Tabby',\n",
       " 'Tallie',\n",
       " 'Tally',\n",
       " 'Tammie',\n",
       " 'Tammy',\n",
       " 'Tate',\n",
       " 'Ted',\n",
       " 'Teddie',\n",
       " 'Teddy',\n",
       " 'Terri',\n",
       " 'Terry',\n",
       " 'Theo',\n",
       " 'Tim',\n",
       " 'Timmie',\n",
       " 'Timmy',\n",
       " 'Tobe',\n",
       " 'Tobie',\n",
       " 'Toby',\n",
       " 'Tommie',\n",
       " 'Tommy',\n",
       " 'Tony',\n",
       " 'Torey',\n",
       " 'Trace',\n",
       " 'Tracey',\n",
       " 'Tracie',\n",
       " 'Tracy',\n",
       " 'Val',\n",
       " 'Vale',\n",
       " 'Valentine',\n",
       " 'Van',\n",
       " 'Vin',\n",
       " 'Vinnie',\n",
       " 'Vinny',\n",
       " 'Virgie',\n",
       " 'Wallie',\n",
       " 'Wallis',\n",
       " 'Wally',\n",
       " 'Whitney',\n",
       " 'Willi',\n",
       " 'Willie',\n",
       " 'Willy',\n",
       " 'Winnie',\n",
       " 'Winny',\n",
       " 'Wynn']"
      ]
     },
     "execution_count": 147,
     "metadata": {},
     "output_type": "execute_result"
    }
   ],
   "source": [
    "[w for w in male_names if w in female_names]"
   ]
  },
  {
   "cell_type": "markdown",
   "metadata": {},
   "source": [
    "<font size=2 style=\"color:#2ECC71\">**Example**:</font>\n",
    "\n",
    "Illustrate the relation between the last letter of names and gender with `nltk.ConditionalFreqDist`."
   ]
  },
  {
   "cell_type": "code",
   "execution_count": 148,
   "metadata": {},
   "outputs": [],
   "source": [
    "cfd = nltk.ConditionalFreqDist(\n",
    "    (fileid[:-4], name[-1])\n",
    "    for fileid in names.fileids()\n",
    "    for name in names.words(fileid))"
   ]
  },
  {
   "cell_type": "code",
   "execution_count": 149,
   "metadata": {},
   "outputs": [
    {
     "data": {
      "image/png": "[encoded data removed]",
      "text/plain": [
       "<Figure size 432x288 with 1 Axes>"
      ]
     },
     "metadata": {
      "needs_background": "light"
     },
     "output_type": "display_data"
    },
    {
     "data": {
      "text/plain": [
       "<AxesSubplot:xlabel='Samples', ylabel='Counts'>"
      ]
     },
     "execution_count": 149,
     "metadata": {},
     "output_type": "execute_result"
    }
   ],
   "source": [
    "cfd.plot()"
   ]
  },
  {
   "cell_type": "markdown",
   "metadata": {},
   "source": [
    "It can be seen that names ending in the letter <strong>a</strong> and **e** are most female."
   ]
  },
  {
   "cell_type": "markdown",
   "metadata": {},
   "source": [
    "## 4.2   A Pronouncing Dictionary"
   ]
  },
  {
   "cell_type": "markdown",
   "metadata": {},
   "source": [
    "NLTK includes the CMU Pronouncing Dictionary for US English, which was designed for use by <font style=\"background:#00FF00\"><strong>speech synthesizers</strong></font>."
   ]
  },
  {
   "cell_type": "markdown",
   "metadata": {},
   "source": [
    "Learn about this corpus by yourself if you are interested in it."
   ]
  },
  {
   "cell_type": "markdown",
   "metadata": {},
   "source": [
    "## 4.3   Comparative Wordlists"
   ]
  },
  {
   "cell_type": "markdown",
   "metadata": {},
   "source": [
    "NLTK includes so-called Swadesh wordlists, lists of about <font style=\"background:#00FF00\"><strong>200 common words in several languages</strong></font>. The languages are identified using an ISO 639 two-letter code.\n",
    "\n",
    "Let's take a brief look at this lexical corpus with the following code snippets."
   ]
  },
  {
   "cell_type": "code",
   "execution_count": 150,
   "metadata": {},
   "outputs": [],
   "source": [
    "from nltk.corpus import swadesh"
   ]
  },
  {
   "cell_type": "code",
   "execution_count": 151,
   "metadata": {},
   "outputs": [],
   "source": [
    "# nltk.download('swadesh')"
   ]
  },
  {
   "cell_type": "code",
   "execution_count": 152,
   "metadata": {},
   "outputs": [
    {
     "data": {
      "text/plain": [
       "['be',\n",
       " 'bg',\n",
       " 'bs',\n",
       " 'ca',\n",
       " 'cs',\n",
       " 'cu',\n",
       " 'de',\n",
       " 'en',\n",
       " 'es',\n",
       " 'fr',\n",
       " 'hr',\n",
       " 'it',\n",
       " 'la',\n",
       " 'mk',\n",
       " 'nl',\n",
       " 'pl',\n",
       " 'pt',\n",
       " 'ro',\n",
       " 'ru',\n",
       " 'sk',\n",
       " 'sl',\n",
       " 'sr',\n",
       " 'sw',\n",
       " 'uk']"
      ]
     },
     "execution_count": 152,
     "metadata": {},
     "output_type": "execute_result"
    }
   ],
   "source": [
    "swadesh.fileids()"
   ]
  },
  {
   "cell_type": "code",
   "execution_count": 153,
   "metadata": {},
   "outputs": [
    {
     "data": {
      "text/plain": [
       "['I',\n",
       " 'you (singular), thou',\n",
       " 'he',\n",
       " 'we',\n",
       " 'you (plural)',\n",
       " 'they',\n",
       " 'this',\n",
       " 'that',\n",
       " 'here',\n",
       " 'there',\n",
       " 'who',\n",
       " 'what',\n",
       " 'where',\n",
       " 'when',\n",
       " 'how',\n",
       " 'not',\n",
       " 'all',\n",
       " 'many',\n",
       " 'some',\n",
       " 'few',\n",
       " 'other',\n",
       " 'one',\n",
       " 'two',\n",
       " 'three',\n",
       " 'four',\n",
       " 'five',\n",
       " 'big',\n",
       " 'long',\n",
       " 'wide',\n",
       " 'thick',\n",
       " 'heavy',\n",
       " 'small',\n",
       " 'short',\n",
       " 'narrow',\n",
       " 'thin',\n",
       " 'woman',\n",
       " 'man (adult male)',\n",
       " 'man (human being)',\n",
       " 'child',\n",
       " 'wife',\n",
       " 'husband',\n",
       " 'mother',\n",
       " 'father',\n",
       " 'animal',\n",
       " 'fish',\n",
       " 'bird',\n",
       " 'dog',\n",
       " 'louse',\n",
       " 'snake',\n",
       " 'worm',\n",
       " 'tree',\n",
       " 'forest',\n",
       " 'stick',\n",
       " 'fruit',\n",
       " 'seed',\n",
       " 'leaf',\n",
       " 'root',\n",
       " 'bark (from tree)',\n",
       " 'flower',\n",
       " 'grass',\n",
       " 'rope',\n",
       " 'skin',\n",
       " 'meat',\n",
       " 'blood',\n",
       " 'bone',\n",
       " 'fat (noun)',\n",
       " 'egg',\n",
       " 'horn',\n",
       " 'tail',\n",
       " 'feather',\n",
       " 'hair',\n",
       " 'head',\n",
       " 'ear',\n",
       " 'eye',\n",
       " 'nose',\n",
       " 'mouth',\n",
       " 'tooth',\n",
       " 'tongue',\n",
       " 'fingernail',\n",
       " 'foot',\n",
       " 'leg',\n",
       " 'knee',\n",
       " 'hand',\n",
       " 'wing',\n",
       " 'belly',\n",
       " 'guts',\n",
       " 'neck',\n",
       " 'back',\n",
       " 'breast',\n",
       " 'heart',\n",
       " 'liver',\n",
       " 'drink',\n",
       " 'eat',\n",
       " 'bite',\n",
       " 'suck',\n",
       " 'spit',\n",
       " 'vomit',\n",
       " 'blow',\n",
       " 'breathe',\n",
       " 'laugh',\n",
       " 'see',\n",
       " 'hear',\n",
       " 'know (a fact)',\n",
       " 'think',\n",
       " 'smell',\n",
       " 'fear',\n",
       " 'sleep',\n",
       " 'live',\n",
       " 'die',\n",
       " 'kill',\n",
       " 'fight',\n",
       " 'hunt',\n",
       " 'hit',\n",
       " 'cut',\n",
       " 'split',\n",
       " 'stab',\n",
       " 'scratch',\n",
       " 'dig',\n",
       " 'swim',\n",
       " 'fly (verb)',\n",
       " 'walk',\n",
       " 'come',\n",
       " 'lie',\n",
       " 'sit',\n",
       " 'stand',\n",
       " 'turn',\n",
       " 'fall',\n",
       " 'give',\n",
       " 'hold',\n",
       " 'squeeze',\n",
       " 'rub',\n",
       " 'wash',\n",
       " 'wipe',\n",
       " 'pull',\n",
       " 'push',\n",
       " 'throw',\n",
       " 'tie',\n",
       " 'sew',\n",
       " 'count',\n",
       " 'say',\n",
       " 'sing',\n",
       " 'play',\n",
       " 'float',\n",
       " 'flow',\n",
       " 'freeze',\n",
       " 'swell',\n",
       " 'sun',\n",
       " 'moon',\n",
       " 'star',\n",
       " 'water',\n",
       " 'rain',\n",
       " 'river',\n",
       " 'lake',\n",
       " 'sea',\n",
       " 'salt',\n",
       " 'stone',\n",
       " 'sand',\n",
       " 'dust',\n",
       " 'earth',\n",
       " 'cloud',\n",
       " 'fog',\n",
       " 'sky',\n",
       " 'wind',\n",
       " 'snow',\n",
       " 'ice',\n",
       " 'smoke',\n",
       " 'fire',\n",
       " 'ashes',\n",
       " 'burn',\n",
       " 'road',\n",
       " 'mountain',\n",
       " 'red',\n",
       " 'green',\n",
       " 'yellow',\n",
       " 'white',\n",
       " 'black',\n",
       " 'night',\n",
       " 'day',\n",
       " 'year',\n",
       " 'warm',\n",
       " 'cold',\n",
       " 'full',\n",
       " 'new',\n",
       " 'old',\n",
       " 'good',\n",
       " 'bad',\n",
       " 'rotten',\n",
       " 'dirty',\n",
       " 'straight',\n",
       " 'round',\n",
       " 'sharp',\n",
       " 'dull',\n",
       " 'smooth',\n",
       " 'wet',\n",
       " 'dry',\n",
       " 'correct',\n",
       " 'near',\n",
       " 'far',\n",
       " 'right',\n",
       " 'left',\n",
       " 'at',\n",
       " 'in',\n",
       " 'with',\n",
       " 'and',\n",
       " 'if',\n",
       " 'because',\n",
       " 'name']"
      ]
     },
     "execution_count": 153,
     "metadata": {},
     "output_type": "execute_result"
    }
   ],
   "source": [
    "swadesh.words('en')"
   ]
  },
  {
   "cell_type": "code",
   "execution_count": 154,
   "metadata": {},
   "outputs": [],
   "source": [
    "fr2en = swadesh.entries(['fr', 'en'])"
   ]
  },
  {
   "cell_type": "code",
   "execution_count": 155,
   "metadata": {},
   "outputs": [
    {
     "data": {
      "text/plain": [
       "[('je', 'I'),\n",
       " ('tu, vous', 'you (singular), thou'),\n",
       " ('il', 'he'),\n",
       " ('nous', 'we'),\n",
       " ('vous', 'you (plural)'),\n",
       " ('ils, elles', 'they'),\n",
       " ('ceci', 'this'),\n",
       " ('cela', 'that'),\n",
       " ('ici', 'here'),\n",
       " ('là', 'there'),\n",
       " ('qui', 'who'),\n",
       " ('quoi', 'what'),\n",
       " ('où', 'where'),\n",
       " ('quand', 'when'),\n",
       " ('comment', 'how'),\n",
       " ('ne...pas', 'not'),\n",
       " ('tout', 'all'),\n",
       " ('plusieurs', 'many'),\n",
       " ('quelques', 'some'),\n",
       " ('peu', 'few'),\n",
       " ('autre', 'other'),\n",
       " ('un', 'one'),\n",
       " ('deux', 'two'),\n",
       " ('trois', 'three'),\n",
       " ('quatre', 'four'),\n",
       " ('cinq', 'five'),\n",
       " ('grand', 'big'),\n",
       " ('long', 'long'),\n",
       " ('large', 'wide'),\n",
       " ('épais', 'thick'),\n",
       " ('lourd', 'heavy'),\n",
       " ('petit', 'small'),\n",
       " ('court', 'short'),\n",
       " ('étroit', 'narrow'),\n",
       " ('mince', 'thin'),\n",
       " ('femme', 'woman'),\n",
       " ('homme', 'man (adult male)'),\n",
       " ('homme', 'man (human being)'),\n",
       " ('enfant', 'child'),\n",
       " ('femme, épouse', 'wife'),\n",
       " ('mari, époux', 'husband'),\n",
       " ('mère', 'mother'),\n",
       " ('père', 'father'),\n",
       " ('animal', 'animal'),\n",
       " ('poisson', 'fish'),\n",
       " ('oiseau', 'bird'),\n",
       " ('chien', 'dog'),\n",
       " ('pou', 'louse'),\n",
       " ('serpent', 'snake'),\n",
       " ('ver', 'worm'),\n",
       " ('arbre', 'tree'),\n",
       " ('forêt', 'forest'),\n",
       " ('bâton', 'stick'),\n",
       " ('fruit', 'fruit'),\n",
       " ('graine', 'seed'),\n",
       " ('feuille', 'leaf'),\n",
       " ('racine', 'root'),\n",
       " ('écorce', 'bark (from tree)'),\n",
       " ('fleur', 'flower'),\n",
       " ('herbe', 'grass'),\n",
       " ('corde', 'rope'),\n",
       " ('peau', 'skin'),\n",
       " ('viande', 'meat'),\n",
       " ('sang', 'blood'),\n",
       " ('os', 'bone'),\n",
       " ('graisse', 'fat (noun)'),\n",
       " ('œuf', 'egg'),\n",
       " ('corne', 'horn'),\n",
       " ('queue', 'tail'),\n",
       " ('plume', 'feather'),\n",
       " ('cheveu', 'hair'),\n",
       " ('tête', 'head'),\n",
       " ('oreille', 'ear'),\n",
       " ('œil', 'eye'),\n",
       " ('nez', 'nose'),\n",
       " ('bouche', 'mouth'),\n",
       " ('dent', 'tooth'),\n",
       " ('langue', 'tongue'),\n",
       " ('ongle', 'fingernail'),\n",
       " ('pied', 'foot'),\n",
       " ('jambe', 'leg'),\n",
       " ('genou', 'knee'),\n",
       " ('main', 'hand'),\n",
       " ('aile', 'wing'),\n",
       " ('ventre', 'belly'),\n",
       " ('entrailles', 'guts'),\n",
       " ('cou', 'neck'),\n",
       " ('dos', 'back'),\n",
       " ('sein, poitrine', 'breast'),\n",
       " ('cœur', 'heart'),\n",
       " ('foie', 'liver'),\n",
       " ('boire', 'drink'),\n",
       " ('manger', 'eat'),\n",
       " ('mordre', 'bite'),\n",
       " ('sucer', 'suck'),\n",
       " ('cracher', 'spit'),\n",
       " ('vomir', 'vomit'),\n",
       " ('souffler', 'blow'),\n",
       " ('respirer', 'breathe'),\n",
       " ('rire', 'laugh'),\n",
       " ('voir', 'see'),\n",
       " ('entendre', 'hear'),\n",
       " ('savoir', 'know (a fact)'),\n",
       " ('penser', 'think'),\n",
       " ('sentir', 'smell'),\n",
       " ('craindre, avoir peur', 'fear'),\n",
       " ('dormir', 'sleep'),\n",
       " ('vivre', 'live'),\n",
       " ('mourir', 'die'),\n",
       " ('tuer', 'kill'),\n",
       " ('se battre', 'fight'),\n",
       " ('chasser', 'hunt'),\n",
       " ('frapper', 'hit'),\n",
       " ('couper', 'cut'),\n",
       " ('fendre', 'split'),\n",
       " ('poignarder', 'stab'),\n",
       " ('gratter', 'scratch'),\n",
       " ('creuser', 'dig'),\n",
       " ('nager', 'swim'),\n",
       " ('voler', 'fly (verb)'),\n",
       " ('marcher', 'walk'),\n",
       " ('venir', 'come'),\n",
       " (\"s'étendre\", 'lie'),\n",
       " (\"s'asseoir\", 'sit'),\n",
       " ('se lever', 'stand'),\n",
       " ('tourner', 'turn'),\n",
       " ('tomber', 'fall'),\n",
       " ('donner', 'give'),\n",
       " ('tenir', 'hold'),\n",
       " ('serrer', 'squeeze'),\n",
       " ('frotter', 'rub'),\n",
       " ('laver', 'wash'),\n",
       " ('essuyer', 'wipe'),\n",
       " ('tirer', 'pull'),\n",
       " ('pousser', 'push'),\n",
       " ('jeter', 'throw'),\n",
       " ('lier', 'tie'),\n",
       " ('coudre', 'sew'),\n",
       " ('compter', 'count'),\n",
       " ('dire', 'say'),\n",
       " ('chanter', 'sing'),\n",
       " ('jouer', 'play'),\n",
       " ('flotter', 'float'),\n",
       " ('couler', 'flow'),\n",
       " ('geler', 'freeze'),\n",
       " ('gonfler', 'swell'),\n",
       " ('soleil', 'sun'),\n",
       " ('lune', 'moon'),\n",
       " ('étoile', 'star'),\n",
       " ('eau', 'water'),\n",
       " ('pluie', 'rain'),\n",
       " ('rivière', 'river'),\n",
       " ('lac', 'lake'),\n",
       " ('mer', 'sea'),\n",
       " ('sel', 'salt'),\n",
       " ('pierre', 'stone'),\n",
       " ('sable', 'sand'),\n",
       " ('poussière', 'dust'),\n",
       " ('terre', 'earth'),\n",
       " ('nuage', 'cloud'),\n",
       " ('brouillard', 'fog'),\n",
       " ('ciel', 'sky'),\n",
       " ('vent', 'wind'),\n",
       " ('neige', 'snow'),\n",
       " ('glace', 'ice'),\n",
       " ('fumée', 'smoke'),\n",
       " ('feu', 'fire'),\n",
       " ('cendres', 'ashes'),\n",
       " ('brûler', 'burn'),\n",
       " ('route', 'road'),\n",
       " ('montagne', 'mountain'),\n",
       " ('rouge', 'red'),\n",
       " ('vert', 'green'),\n",
       " ('jaune', 'yellow'),\n",
       " ('blanc', 'white'),\n",
       " ('noir', 'black'),\n",
       " ('nuit', 'night'),\n",
       " ('jour', 'day'),\n",
       " ('an, année', 'year'),\n",
       " ('chaud', 'warm'),\n",
       " ('froid', 'cold'),\n",
       " ('plein', 'full'),\n",
       " ('nouveau', 'new'),\n",
       " ('vieux', 'old'),\n",
       " ('bon', 'good'),\n",
       " ('mauvais', 'bad'),\n",
       " ('pourri', 'rotten'),\n",
       " ('sale', 'dirty'),\n",
       " ('droit', 'straight'),\n",
       " ('rond', 'round'),\n",
       " ('tranchant, pointu, aigu', 'sharp'),\n",
       " ('émoussé', 'dull'),\n",
       " ('lisse', 'smooth'),\n",
       " ('mouillé', 'wet'),\n",
       " ('sec', 'dry'),\n",
       " ('juste, correct', 'correct'),\n",
       " ('proche', 'near'),\n",
       " ('loin', 'far'),\n",
       " ('à droite', 'right'),\n",
       " ('à gauche', 'left'),\n",
       " ('à', 'at'),\n",
       " ('dans', 'in'),\n",
       " ('avec', 'with'),\n",
       " ('et', 'and'),\n",
       " ('si', 'if'),\n",
       " ('parce que', 'because'),\n",
       " ('nom', 'name')]"
      ]
     },
     "execution_count": 155,
     "metadata": {},
     "output_type": "execute_result"
    }
   ],
   "source": [
    "fr2en"
   ]
  },
  {
   "cell_type": "code",
   "execution_count": 156,
   "metadata": {},
   "outputs": [],
   "source": [
    "translate = dict(fr2en)"
   ]
  },
  {
   "cell_type": "code",
   "execution_count": 157,
   "metadata": {},
   "outputs": [
    {
     "data": {
      "text/plain": [
       "'dog'"
      ]
     },
     "execution_count": 157,
     "metadata": {},
     "output_type": "execute_result"
    }
   ],
   "source": [
    "translate['chien']"
   ]
  },
  {
   "cell_type": "code",
   "execution_count": 158,
   "metadata": {},
   "outputs": [
    {
     "data": {
      "text/plain": [
       "'throw'"
      ]
     },
     "execution_count": 158,
     "metadata": {},
     "output_type": "execute_result"
    }
   ],
   "source": [
    "translate['jeter']"
   ]
  },
  {
   "cell_type": "code",
   "execution_count": 159,
   "metadata": {},
   "outputs": [],
   "source": [
    "de2en = swadesh.entries(['de', 'en']) # German-English"
   ]
  },
  {
   "cell_type": "code",
   "execution_count": 160,
   "metadata": {},
   "outputs": [],
   "source": [
    "es2en = swadesh.entries(['es', 'en']) # Spanish-English"
   ]
  },
  {
   "cell_type": "code",
   "execution_count": 161,
   "metadata": {},
   "outputs": [],
   "source": [
    "translate.update(dict(de2en))"
   ]
  },
  {
   "cell_type": "code",
   "execution_count": 162,
   "metadata": {},
   "outputs": [],
   "source": [
    "translate.update(dict(es2en))"
   ]
  },
  {
   "cell_type": "code",
   "execution_count": 163,
   "metadata": {},
   "outputs": [
    {
     "data": {
      "text/plain": [
       "'dog'"
      ]
     },
     "execution_count": 163,
     "metadata": {},
     "output_type": "execute_result"
    }
   ],
   "source": [
    "translate['Hund']"
   ]
  },
  {
   "cell_type": "code",
   "execution_count": 164,
   "metadata": {},
   "outputs": [
    {
     "data": {
      "text/plain": [
       "'dog'"
      ]
     },
     "execution_count": 164,
     "metadata": {},
     "output_type": "execute_result"
    }
   ],
   "source": [
    "translate['perro']"
   ]
  },
  {
   "cell_type": "code",
   "execution_count": 165,
   "metadata": {},
   "outputs": [
    {
     "name": "stdout",
     "output_type": "stream",
     "text": [
      "('say', 'sagen', 'zeggen', 'decir', 'dire', 'dizer', 'dicere')\n",
      "('sing', 'singen', 'zingen', 'cantar', 'chanter', 'cantar', 'canere')\n",
      "('play', 'spielen', 'spelen', 'jugar', 'jouer', 'jogar, brincar', 'ludere')\n",
      "('float', 'schweben', 'zweven', 'flotar', 'flotter', 'flutuar, boiar', 'fluctuare')\n"
     ]
    }
   ],
   "source": [
    "# compare words in various Germanic and Romance languages\n",
    "languages = ['en', 'de', 'nl', 'es', 'fr', 'pt', 'la']\n",
    "for i in [139, 140, 141, 142]:\n",
    "    print(swadesh.entries(languages)[i])"
   ]
  },
  {
   "cell_type": "markdown",
   "metadata": {},
   "source": [
    "## 4.4   Shoebox and Toolbox Lexicons"
   ]
  },
  {
   "cell_type": "markdown",
   "metadata": {},
   "source": [
    "Perhaps the single most popular tool used by linguists for managing data is *Toolbox*, which is freely downloadable from https://software.sil.org/toolbox/."
   ]
  },
  {
   "cell_type": "markdown",
   "metadata": {},
   "source": [
    "# 5.   WordNet"
   ]
  },
  {
   "cell_type": "markdown",
   "metadata": {},
   "source": [
    "<font size=2 style=\"color:#3498DB\">**WordNet**</font> is a semantically-oriented dictionary of English, similar to a traditional thesaurus but with a richer structure. \n",
    "\n",
    "NLTK includes the English WordNet, with 155,287 words and 117,659 <font size=2 style=\"color:#3498DB\">**synonym sets**</font>. We'll begin by looking at synonyms and how they are accessed in WordNet."
   ]
  },
  {
   "cell_type": "markdown",
   "metadata": {},
   "source": [
    "## 5.1   Senses and Synonyms"
   ]
  },
  {
   "cell_type": "markdown",
   "metadata": {},
   "source": [
    "Consider the sentence in (a). If we replace the word *motorcar* in (a) by *automobile*, to get (b), the meaning of the sentence stays pretty much the same:"
   ]
  },
  {
   "cell_type": "markdown",
   "metadata": {},
   "source": [
    "- (a)\t\tBenz is credited with the invention of the **motorcar**.\n",
    "\n",
    "- (b)\t\tBenz is credited with the invention of the **automobile**."
   ]
  },
  {
   "cell_type": "markdown",
   "metadata": {},
   "source": [
    "Since everything else in the sentence has remained unchanged, we can conclude that the words *motorcar* and *automobile* have the same meaning, i.e. they are <font size=2 style=\"color:#3498DB\">**synonyms**</font>."
   ]
  },
  {
   "cell_type": "markdown",
   "metadata": {},
   "source": [
    "<font size=2 style=\"color:#2ECC71\">**Examples**</font>\n",
    "\n",
    "Explore the structure of WordNet with NLTK as follow:"
   ]
  },
  {
   "cell_type": "code",
   "execution_count": 166,
   "metadata": {},
   "outputs": [],
   "source": [
    "from nltk.corpus import wordnet as wn"
   ]
  },
  {
   "cell_type": "code",
   "execution_count": 167,
   "metadata": {},
   "outputs": [
    {
     "data": {
      "text/plain": [
       "[Synset('car.n.01')]"
      ]
     },
     "execution_count": 167,
     "metadata": {},
     "output_type": "execute_result"
    }
   ],
   "source": [
    "wn.synsets('motorcar')"
   ]
  },
  {
   "cell_type": "markdown",
   "metadata": {},
   "source": [
    "*motorcar* has just one possible meaning and it is identified as `car.n.01`, the first noun sense of car. The entity `car.n.01` is called a synset, or \"synonym set\", <font style=\"background:#00FF00\"><strong>a collection of synonymous words (or \"lemmas\")</strong></font>."
   ]
  },
  {
   "cell_type": "code",
   "execution_count": 168,
   "metadata": {},
   "outputs": [
    {
     "data": {
      "text/plain": [
       "['car', 'auto', 'automobile', 'machine', 'motorcar']"
      ]
     },
     "execution_count": 168,
     "metadata": {},
     "output_type": "execute_result"
    }
   ],
   "source": [
    "wn.synset('car.n.01').lemma_names()"
   ]
  },
  {
   "cell_type": "markdown",
   "metadata": {},
   "source": [
    "<font style=\"background:#00FF00\"><strong>Each word of a synset can have several meanings</strong></font>, e.g., car can also signify a train carriage, a gondola, or an elevator car (火车车厢、缆车或电梯车厢). However, we are only interested in <font style=\"background:#00FF00\"><strong>the single meaning that is common to all words of the above synset</strong></font>. \n",
    "\n",
    "Synsets also come with a <font style=\"background:#00FF00\"><strong>tprose definition and some example sentences</strong></font>:"
   ]
  },
  {
   "cell_type": "code",
   "execution_count": 169,
   "metadata": {},
   "outputs": [
    {
     "data": {
      "text/plain": [
       "'a motor vehicle with four wheels; usually propelled by an internal combustion engine'"
      ]
     },
     "execution_count": 169,
     "metadata": {},
     "output_type": "execute_result"
    }
   ],
   "source": [
    "wn.synset('car.n.01').definition()"
   ]
  },
  {
   "cell_type": "code",
   "execution_count": 170,
   "metadata": {},
   "outputs": [
    {
     "data": {
      "text/plain": [
       "['he needs a car to get to work']"
      ]
     },
     "execution_count": 170,
     "metadata": {},
     "output_type": "execute_result"
    }
   ],
   "source": [
    "wn.synset('car.n.01').examples()"
   ]
  },
  {
   "cell_type": "code",
   "execution_count": 171,
   "metadata": {},
   "outputs": [
    {
     "data": {
      "text/plain": [
       "[Lemma('car.n.01.car'),\n",
       " Lemma('car.n.01.auto'),\n",
       " Lemma('car.n.01.automobile'),\n",
       " Lemma('car.n.01.machine'),\n",
       " Lemma('car.n.01.motorcar')]"
      ]
     },
     "execution_count": 171,
     "metadata": {},
     "output_type": "execute_result"
    }
   ],
   "source": [
    "# get all the lemmas for a given synset\n",
    "wn.synset('car.n.01').lemmas()"
   ]
  },
  {
   "cell_type": "code",
   "execution_count": 172,
   "metadata": {},
   "outputs": [
    {
     "data": {
      "text/plain": [
       "Lemma('car.n.01.automobile')"
      ]
     },
     "execution_count": 172,
     "metadata": {},
     "output_type": "execute_result"
    }
   ],
   "source": [
    "# look up a particular lemma\n",
    "wn.lemma('car.n.01.automobile')"
   ]
  },
  {
   "cell_type": "code",
   "execution_count": 173,
   "metadata": {},
   "outputs": [
    {
     "data": {
      "text/plain": [
       "Synset('car.n.01')"
      ]
     },
     "execution_count": 173,
     "metadata": {},
     "output_type": "execute_result"
    }
   ],
   "source": [
    "# get the synset corresponding to a lemma\n",
    "wn.lemma('car.n.01.automobile').synset()"
   ]
  },
  {
   "cell_type": "code",
   "execution_count": 174,
   "metadata": {},
   "outputs": [
    {
     "data": {
      "text/plain": [
       "'automobile'"
      ]
     },
     "execution_count": 174,
     "metadata": {},
     "output_type": "execute_result"
    }
   ],
   "source": [
    "# get the \"name\" of a lemma \n",
    "wn.lemma('car.n.01.automobile').name()"
   ]
  },
  {
   "cell_type": "markdown",
   "metadata": {},
   "source": [
    "Unlike the word *motorcar*, which is unambiguous and has one synset, the word *car* is ambiguous, having five synsets:"
   ]
  },
  {
   "cell_type": "code",
   "execution_count": 175,
   "metadata": {},
   "outputs": [
    {
     "data": {
      "text/plain": [
       "[Synset('car.n.01'),\n",
       " Synset('car.n.02'),\n",
       " Synset('car.n.03'),\n",
       " Synset('car.n.04'),\n",
       " Synset('cable_car.n.01')]"
      ]
     },
     "execution_count": 175,
     "metadata": {},
     "output_type": "execute_result"
    }
   ],
   "source": [
    "wn.synsets('car')"
   ]
  },
  {
   "cell_type": "code",
   "execution_count": 176,
   "metadata": {},
   "outputs": [
    {
     "name": "stdout",
     "output_type": "stream",
     "text": [
      "['car', 'auto', 'automobile', 'machine', 'motorcar']\n",
      "['car', 'railcar', 'railway_car', 'railroad_car']\n",
      "['car', 'gondola']\n",
      "['car', 'elevator_car']\n",
      "['cable_car', 'car']\n"
     ]
    }
   ],
   "source": [
    "for synset in wn.synsets('car'):\n",
    "    print(synset.lemma_names())"
   ]
  },
  {
   "cell_type": "code",
   "execution_count": 177,
   "metadata": {},
   "outputs": [
    {
     "data": {
      "text/plain": [
       "[Lemma('car.n.01.car'),\n",
       " Lemma('car.n.02.car'),\n",
       " Lemma('car.n.03.car'),\n",
       " Lemma('car.n.04.car'),\n",
       " Lemma('cable_car.n.01.car')]"
      ]
     },
     "execution_count": 177,
     "metadata": {},
     "output_type": "execute_result"
    }
   ],
   "source": [
    "# access all the lemmas involving the word car as follows\n",
    "wn.lemmas('car')"
   ]
  },
  {
   "cell_type": "markdown",
   "metadata": {},
   "source": [
    "<font size=2 style=\"color:#BA4A00\">**Exercise**</font>\n",
    "\n",
    "Write down all the senses of the word ***dish*** that you can think of. Now, explore this word with the help of WordNet, using the same operations we used above."
   ]
  },
  {
   "cell_type": "markdown",
   "metadata": {},
   "source": [
    "## 5.2   The WordNet Hierarchy"
   ]
  },
  {
   "cell_type": "markdown",
   "metadata": {},
   "source": [
    "WordNet synsets correspond to abstract concepts, and they don't always have corresponding words in English. \n",
    "\n",
    "<font style=\"background:#00FF00\"><strong>These concepts are linked together in a hierarchy</strong></font>.\n",
    "\n",
    "Some concepts are very general, such as ***Entity, State, Event*** — these are called unique beginners or root synsets. \n",
    "\n",
    "Others, such as ***gas guzzler*** (油老虎) and ***hatchback*** (翻斗车), are much more specific. A small portion of a concept hierarchy is illustrated as follow:"
   ]
  },
  {
   "attachments": {},
   "cell_type": "markdown",
   "metadata": {},
   "source": [
    "<a name=\"divtop\">\n",
    "<div align=center>\n",
    "<img src=\"https://www.nltk.org/images/wordnet-hierarchy.png\">\n",
    "<br>\n",
    "<center><em><strong>Fragment of WordNet Concept Hierarchy</strong></em></center>\n",
    "</div>\n",
    "</a>"
   ]
  },
  {
   "cell_type": "markdown",
   "metadata": {},
   "source": [
    "Nodes correspond to synsets; edges indicate the <font style=\"background:#00FF00\"><strong>hypernym/hyponym relation</strong></font> (上位词/下位词关系), i.e. the relation between <font style=\"background:#00FF00\"><strong>superordinate and subordinate concepts</strong></font> (上位概念和下位概念)."
   ]
  },
  {
   "cell_type": "markdown",
   "metadata": {},
   "source": [
    "<font size=2 style=\"color:#2ECC71\">**Example**</font>\n",
    "\n",
    "Navigate up the hierarchy by visiting hyponyms."
   ]
  },
  {
   "cell_type": "code",
   "execution_count": 178,
   "metadata": {},
   "outputs": [],
   "source": [
    "motorcar = wn.synset('car.n.01')"
   ]
  },
  {
   "cell_type": "code",
   "execution_count": 179,
   "metadata": {},
   "outputs": [],
   "source": [
    "types_of_motorcar = motorcar.hyponyms()"
   ]
  },
  {
   "cell_type": "code",
   "execution_count": 180,
   "metadata": {},
   "outputs": [
    {
     "data": {
      "text/plain": [
       "[Synset('ambulance.n.01'),\n",
       " Synset('beach_wagon.n.01'),\n",
       " Synset('bus.n.04'),\n",
       " Synset('cab.n.03'),\n",
       " Synset('compact.n.03'),\n",
       " Synset('convertible.n.01'),\n",
       " Synset('coupe.n.01'),\n",
       " Synset('cruiser.n.01'),\n",
       " Synset('electric.n.01'),\n",
       " Synset('gas_guzzler.n.01'),\n",
       " Synset('hardtop.n.01'),\n",
       " Synset('hatchback.n.01'),\n",
       " Synset('horseless_carriage.n.01'),\n",
       " Synset('hot_rod.n.01'),\n",
       " Synset('jeep.n.01'),\n",
       " Synset('limousine.n.01'),\n",
       " Synset('loaner.n.02'),\n",
       " Synset('minicar.n.01'),\n",
       " Synset('minivan.n.01'),\n",
       " Synset('model_t.n.01'),\n",
       " Synset('pace_car.n.01'),\n",
       " Synset('racer.n.02'),\n",
       " Synset('roadster.n.01'),\n",
       " Synset('sedan.n.01'),\n",
       " Synset('sport_utility.n.01'),\n",
       " Synset('sports_car.n.01'),\n",
       " Synset('stanley_steamer.n.01'),\n",
       " Synset('stock_car.n.01'),\n",
       " Synset('subcompact.n.01'),\n",
       " Synset('touring_car.n.01'),\n",
       " Synset('used-car.n.01')]"
      ]
     },
     "execution_count": 180,
     "metadata": {},
     "output_type": "execute_result"
    }
   ],
   "source": [
    "types_of_motorcar"
   ]
  },
  {
   "cell_type": "code",
   "execution_count": 181,
   "metadata": {},
   "outputs": [
    {
     "data": {
      "text/plain": [
       "['Model_T',\n",
       " 'S.U.V.',\n",
       " 'SUV',\n",
       " 'Stanley_Steamer',\n",
       " 'ambulance',\n",
       " 'beach_waggon',\n",
       " 'beach_wagon',\n",
       " 'bus',\n",
       " 'cab',\n",
       " 'compact',\n",
       " 'compact_car',\n",
       " 'convertible',\n",
       " 'coupe',\n",
       " 'cruiser',\n",
       " 'electric',\n",
       " 'electric_automobile',\n",
       " 'electric_car',\n",
       " 'estate_car',\n",
       " 'gas_guzzler',\n",
       " 'hack',\n",
       " 'hardtop',\n",
       " 'hatchback',\n",
       " 'heap',\n",
       " 'horseless_carriage',\n",
       " 'hot-rod',\n",
       " 'hot_rod',\n",
       " 'jalopy',\n",
       " 'jeep',\n",
       " 'landrover',\n",
       " 'limo',\n",
       " 'limousine',\n",
       " 'loaner',\n",
       " 'minicar',\n",
       " 'minivan',\n",
       " 'pace_car',\n",
       " 'patrol_car',\n",
       " 'phaeton',\n",
       " 'police_car',\n",
       " 'police_cruiser',\n",
       " 'prowl_car',\n",
       " 'race_car',\n",
       " 'racer',\n",
       " 'racing_car',\n",
       " 'roadster',\n",
       " 'runabout',\n",
       " 'saloon',\n",
       " 'secondhand_car',\n",
       " 'sedan',\n",
       " 'sport_car',\n",
       " 'sport_utility',\n",
       " 'sport_utility_vehicle',\n",
       " 'sports_car',\n",
       " 'squad_car',\n",
       " 'station_waggon',\n",
       " 'station_wagon',\n",
       " 'stock_car',\n",
       " 'subcompact',\n",
       " 'subcompact_car',\n",
       " 'taxi',\n",
       " 'taxicab',\n",
       " 'tourer',\n",
       " 'touring_car',\n",
       " 'two-seater',\n",
       " 'used-car',\n",
       " 'waggon',\n",
       " 'wagon']"
      ]
     },
     "execution_count": 181,
     "metadata": {},
     "output_type": "execute_result"
    }
   ],
   "source": [
    "sorted(lemma.name() for synset in types_of_motorcar for lemma in synset.lemmas())"
   ]
  },
  {
   "cell_type": "markdown",
   "metadata": {},
   "source": [
    "<font size=2 style=\"color:#2ECC71\">**Example**</font>\n",
    "\n",
    "Navigate up the hierarchy by visiting hypernyms.\n",
    " \n",
    "Some words have multiple paths, because they can be <font style=\"background:#00FF00\"><strong>classified in more than one way</strong></font>. There are two paths between `car.n.01` and `entity.n.01` because `wheeled_vehicle.n.01` can be classified as both a `vehicle` and a `container`."
   ]
  },
  {
   "cell_type": "code",
   "execution_count": 182,
   "metadata": {},
   "outputs": [
    {
     "data": {
      "text/plain": [
       "[Synset('motor_vehicle.n.01')]"
      ]
     },
     "execution_count": 182,
     "metadata": {},
     "output_type": "execute_result"
    }
   ],
   "source": [
    "motorcar.hypernyms()"
   ]
  },
  {
   "cell_type": "code",
   "execution_count": 183,
   "metadata": {},
   "outputs": [],
   "source": [
    "paths = motorcar.hypernym_paths()"
   ]
  },
  {
   "cell_type": "code",
   "execution_count": 184,
   "metadata": {},
   "outputs": [
    {
     "data": {
      "text/plain": [
       "2"
      ]
     },
     "execution_count": 184,
     "metadata": {},
     "output_type": "execute_result"
    }
   ],
   "source": [
    "len(paths)"
   ]
  },
  {
   "cell_type": "code",
   "execution_count": 185,
   "metadata": {},
   "outputs": [
    {
     "data": {
      "text/plain": [
       "['entity.n.01',\n",
       " 'physical_entity.n.01',\n",
       " 'object.n.01',\n",
       " 'whole.n.02',\n",
       " 'artifact.n.01',\n",
       " 'instrumentality.n.03',\n",
       " 'container.n.01',\n",
       " 'wheeled_vehicle.n.01',\n",
       " 'self-propelled_vehicle.n.01',\n",
       " 'motor_vehicle.n.01',\n",
       " 'car.n.01']"
      ]
     },
     "execution_count": 185,
     "metadata": {},
     "output_type": "execute_result"
    }
   ],
   "source": [
    "[synset.name() for synset in paths[0]]"
   ]
  },
  {
   "cell_type": "code",
   "execution_count": 186,
   "metadata": {},
   "outputs": [
    {
     "data": {
      "text/plain": [
       "['entity.n.01',\n",
       " 'physical_entity.n.01',\n",
       " 'object.n.01',\n",
       " 'whole.n.02',\n",
       " 'artifact.n.01',\n",
       " 'instrumentality.n.03',\n",
       " 'conveyance.n.03',\n",
       " 'vehicle.n.01',\n",
       " 'wheeled_vehicle.n.01',\n",
       " 'self-propelled_vehicle.n.01',\n",
       " 'motor_vehicle.n.01',\n",
       " 'car.n.01']"
      ]
     },
     "execution_count": 186,
     "metadata": {},
     "output_type": "execute_result"
    }
   ],
   "source": [
    "[synset.name() for synset in paths[1]]"
   ]
  },
  {
   "cell_type": "markdown",
   "metadata": {},
   "source": [
    "We can get the most general hypernyms (or root hypernyms) of a synset as follows:"
   ]
  },
  {
   "cell_type": "code",
   "execution_count": 187,
   "metadata": {},
   "outputs": [
    {
     "data": {
      "text/plain": [
       "[Synset('entity.n.01')]"
      ]
     },
     "execution_count": 187,
     "metadata": {},
     "output_type": "execute_result"
    }
   ],
   "source": [
    "motorcar.root_hypernyms()"
   ]
  },
  {
   "cell_type": "markdown",
   "metadata": {},
   "source": [
    "<font size=2 style=\"color:#BA4A00\">**Exercise**</font>\n",
    "\n",
    "Try out NLTK's convenient graphical WordNet browser: `nltk.app.wordnet_app.wnb()`. Explore the WordNet hierarchy by following the hypernym and hyponym links."
   ]
  },
  {
   "cell_type": "markdown",
   "metadata": {},
   "source": [
    "## 5.3   More Lexical Relations"
   ]
  },
  {
   "cell_type": "markdown",
   "metadata": {},
   "source": [
    "Hypernyms and hyponyms are called lexical relations because they relate one synset to another. These two relations <font style=\"background:#00FF00\"><strong>navigate up and down the \"is-a\" hierarchy</strong></font>. \n",
    "\n",
    "Another important way to navigate the WordNet network is <font style=\"background:#00FF00\"><strong>from items to their components (meronyms) or to the things they are contained in (holonyms)</strong></font>. \n",
    "\n",
    "For example, the <font style=\"background:#00FF00\"><strong>parts</strong></font> of a tree are its trunk, crown, and so on (树的组成部分有树干、树冠等); the `part_meronyms()`. The <font style=\"background:#00FF00\"><strong>substance</strong></font> a tree is made of includes heartwood and sapwood (构成树木的物质包括心材和边材); the substance_meronyms(). A collection of trees <font style=\"background:#00FF00\"><strong>forms</strong></font> a forest (树木的集合形成了森林); the `member_holonyms()`:"
   ]
  },
  {
   "cell_type": "code",
   "execution_count": 188,
   "metadata": {},
   "outputs": [
    {
     "data": {
      "text/plain": [
       "[Synset('burl.n.02'),\n",
       " Synset('crown.n.07'),\n",
       " Synset('limb.n.02'),\n",
       " Synset('stump.n.01'),\n",
       " Synset('trunk.n.01')]"
      ]
     },
     "execution_count": 188,
     "metadata": {},
     "output_type": "execute_result"
    }
   ],
   "source": [
    "wn.synset('tree.n.01').part_meronyms() # meronyms，由哪些部分组成"
   ]
  },
  {
   "cell_type": "code",
   "execution_count": 189,
   "metadata": {},
   "outputs": [
    {
     "data": {
      "text/plain": [
       "[Synset('heartwood.n.01'), Synset('sapwood.n.01')]"
      ]
     },
     "execution_count": 189,
     "metadata": {},
     "output_type": "execute_result"
    }
   ],
   "source": [
    "wn.synset('tree.n.01').substance_meronyms()"
   ]
  },
  {
   "cell_type": "code",
   "execution_count": 190,
   "metadata": {},
   "outputs": [
    {
     "data": {
      "text/plain": [
       "[Synset('forest.n.01')]"
      ]
     },
     "execution_count": 190,
     "metadata": {},
     "output_type": "execute_result"
    }
   ],
   "source": [
    "wn.synset('tree.n.01').member_holonyms()"
   ]
  },
  {
   "cell_type": "markdown",
   "metadata": {},
   "source": [
    "<font size=2 style=\"color:#2ECC71\">**Example**</font>\n",
    "\n",
    "Consider the word ***mint*** (薄荷), which has several closely-related senses. We can see more complex things. \n",
    "\n",
    "`mint.n.04` is part of `mint.n.02` and the substance from which `mint.n.05` is made."
   ]
  },
  {
   "cell_type": "code",
   "execution_count": 191,
   "metadata": {},
   "outputs": [
    {
     "name": "stdout",
     "output_type": "stream",
     "text": [
      "batch.n.02: (often followed by `of') a large number or amount or extent\n",
      "mint.n.02: any north temperate plant of the genus Mentha with aromatic leaves and small mauve flowers\n",
      "mint.n.03: any member of the mint family of plants\n",
      "mint.n.04: the leaves of a mint plant used fresh or candied\n",
      "mint.n.05: a candy that is flavored with a mint oil\n",
      "mint.n.06: a plant where money is coined by authority of the government\n"
     ]
    }
   ],
   "source": [
    "for synset in wn.synsets('mint', wn.NOUN):\n",
    "    print(synset.name() + ':', synset.definition())"
   ]
  },
  {
   "cell_type": "code",
   "execution_count": 192,
   "metadata": {},
   "outputs": [
    {
     "data": {
      "text/plain": [
       "[Synset('mint.n.02')]"
      ]
     },
     "execution_count": 192,
     "metadata": {},
     "output_type": "execute_result"
    }
   ],
   "source": [
    "wn.synset('mint.n.04').part_holonyms() # holonyms，是什么的一部分"
   ]
  },
  {
   "cell_type": "code",
   "execution_count": 193,
   "metadata": {},
   "outputs": [
    {
     "data": {
      "text/plain": [
       "[Synset('mint.n.05')]"
      ]
     },
     "execution_count": 193,
     "metadata": {},
     "output_type": "execute_result"
    }
   ],
   "source": [
    "wn.synset('mint.n.04').substance_holonyms()"
   ]
  },
  {
   "cell_type": "markdown",
   "metadata": {},
   "source": [
    "There are also relationships between verbs. \n",
    "\n",
    "For example, the act of ***walking*** involves the act of ***stepping***, so walking <font size=2 style=\"color:#3498DB\">**entails**</font> stepping. <font style=\"background:#00FF00\"><strong>Some verbs have multiple entailments</strong></font>:"
   ]
  },
  {
   "cell_type": "code",
   "execution_count": 194,
   "metadata": {},
   "outputs": [
    {
     "data": {
      "text/plain": [
       "[Synset('step.v.01')]"
      ]
     },
     "execution_count": 194,
     "metadata": {},
     "output_type": "execute_result"
    }
   ],
   "source": [
    "wn.synset('walk.v.01').entailments()"
   ]
  },
  {
   "cell_type": "code",
   "execution_count": 195,
   "metadata": {},
   "outputs": [
    {
     "data": {
      "text/plain": [
       "[Synset('chew.v.01'), Synset('swallow.v.01')]"
      ]
     },
     "execution_count": 195,
     "metadata": {},
     "output_type": "execute_result"
    }
   ],
   "source": [
    "wn.synset('eat.v.01').entailments()"
   ]
  },
  {
   "cell_type": "markdown",
   "metadata": {},
   "source": [
    "Some lexical relationships hold between lemmas, e.g., <font size=2 style=\"color:#3498DB\">**antonymy**</font> (反义词):"
   ]
  },
  {
   "cell_type": "code",
   "execution_count": 196,
   "metadata": {},
   "outputs": [
    {
     "data": {
      "text/plain": [
       "[Lemma('demand.n.02.demand')]"
      ]
     },
     "execution_count": 196,
     "metadata": {},
     "output_type": "execute_result"
    }
   ],
   "source": [
    "wn.lemma('supply.n.02.supply').antonyms() # 名词"
   ]
  },
  {
   "cell_type": "code",
   "execution_count": 197,
   "metadata": {},
   "outputs": [
    {
     "data": {
      "text/plain": [
       "[Lemma('vertical.a.01.vertical'), Lemma('inclined.a.02.inclined')]"
      ]
     },
     "execution_count": 197,
     "metadata": {},
     "output_type": "execute_result"
    }
   ],
   "source": [
    "wn.lemma('horizontal.a.01.horizontal').antonyms() # 水平-垂直，水平-倾斜，形容词"
   ]
  },
  {
   "cell_type": "code",
   "execution_count": 198,
   "metadata": {},
   "outputs": [
    {
     "data": {
      "text/plain": [
       "[Lemma('legato.r.01.legato')]"
      ]
     },
     "execution_count": 198,
     "metadata": {},
     "output_type": "execute_result"
    }
   ],
   "source": [
    "wn.lemma('staccato.r.01.staccato').antonyms() # 断奏-连音，副词"
   ]
  },
  {
   "cell_type": "code",
   "execution_count": 199,
   "metadata": {},
   "outputs": [
    {
     "data": {
      "text/plain": [
       "[Lemma('linger.v.04.linger')]"
      ]
     },
     "execution_count": 199,
     "metadata": {},
     "output_type": "execute_result"
    }
   ],
   "source": [
    "wn.lemma('rush.v.01.rush').antonyms() # 冲-徘徊，动词"
   ]
  },
  {
   "cell_type": "markdown",
   "metadata": {},
   "source": [
    "You can see the lexical relations, and the other methods defined on a synset, using `dir()`."
   ]
  },
  {
   "cell_type": "code",
   "execution_count": 200,
   "metadata": {},
   "outputs": [
    {
     "data": {
      "text/plain": [
       "['__class__',\n",
       " '__delattr__',\n",
       " '__dict__',\n",
       " '__dir__',\n",
       " '__doc__',\n",
       " '__eq__',\n",
       " '__format__',\n",
       " '__ge__',\n",
       " '__getattribute__',\n",
       " '__gt__',\n",
       " '__hash__',\n",
       " '__init__',\n",
       " '__init_subclass__',\n",
       " '__le__',\n",
       " '__lt__',\n",
       " '__module__',\n",
       " '__ne__',\n",
       " '__new__',\n",
       " '__reduce__',\n",
       " '__reduce_ex__',\n",
       " '__repr__',\n",
       " '__setattr__',\n",
       " '__sizeof__',\n",
       " '__slots__',\n",
       " '__str__',\n",
       " '__subclasshook__',\n",
       " '__weakref__',\n",
       " '_all_hypernyms',\n",
       " '_definition',\n",
       " '_examples',\n",
       " '_frame_ids',\n",
       " '_hypernyms',\n",
       " '_instance_hypernyms',\n",
       " '_iter_hypernym_lists',\n",
       " '_lemma_names',\n",
       " '_lemma_pointers',\n",
       " '_lemmas',\n",
       " '_lexname',\n",
       " '_max_depth',\n",
       " '_min_depth',\n",
       " '_name',\n",
       " '_needs_root',\n",
       " '_offset',\n",
       " '_pointers',\n",
       " '_pos',\n",
       " '_related',\n",
       " '_shortest_hypernym_paths',\n",
       " '_wordnet_corpus_reader',\n",
       " 'also_sees',\n",
       " 'attributes',\n",
       " 'causes',\n",
       " 'closure',\n",
       " 'common_hypernyms',\n",
       " 'definition',\n",
       " 'entailments',\n",
       " 'examples',\n",
       " 'frame_ids',\n",
       " 'hypernym_distances',\n",
       " 'hypernym_paths',\n",
       " 'hypernyms',\n",
       " 'hyponyms',\n",
       " 'in_region_domains',\n",
       " 'in_topic_domains',\n",
       " 'in_usage_domains',\n",
       " 'instance_hypernyms',\n",
       " 'instance_hyponyms',\n",
       " 'jcn_similarity',\n",
       " 'lch_similarity',\n",
       " 'lemma_names',\n",
       " 'lemmas',\n",
       " 'lexname',\n",
       " 'lin_similarity',\n",
       " 'lowest_common_hypernyms',\n",
       " 'max_depth',\n",
       " 'member_holonyms',\n",
       " 'member_meronyms',\n",
       " 'min_depth',\n",
       " 'name',\n",
       " 'offset',\n",
       " 'part_holonyms',\n",
       " 'part_meronyms',\n",
       " 'path_similarity',\n",
       " 'pos',\n",
       " 'region_domains',\n",
       " 'res_similarity',\n",
       " 'root_hypernyms',\n",
       " 'shortest_path_distance',\n",
       " 'similar_tos',\n",
       " 'substance_holonyms',\n",
       " 'substance_meronyms',\n",
       " 'topic_domains',\n",
       " 'tree',\n",
       " 'usage_domains',\n",
       " 'verb_groups',\n",
       " 'wup_similarity']"
      ]
     },
     "execution_count": 200,
     "metadata": {},
     "output_type": "execute_result"
    }
   ],
   "source": [
    "dir(wn.synset('harmony.n.02')) # 和谐"
   ]
  },
  {
   "cell_type": "markdown",
   "metadata": {},
   "source": [
    "## 5.4   Semantic Similarity"
   ]
  },
  {
   "cell_type": "markdown",
   "metadata": {},
   "source": [
    "We have seen that synsets are linked by <font style=\"background:#00FF00\"><strong>a complex network of lexical relations</strong></font>. \n",
    "\n",
    "Given a particular synset, we can traverse (遍历) the WordNet network to find synsets with related meanings.\n",
    "\n",
    "Knowing which words are semantically related is useful for indexing a collection of texts, so that a search for a general term like ***vehicle*** will match documents containing specific terms like ***limousine*** (豪华轿车)."
   ]
  },
  {
   "cell_type": "markdown",
   "metadata": {},
   "source": [
    "Recall that each synset has one or more hypernym paths that link it to a root hypernym such as `entity.n.01`. \n",
    "\n",
    "Two synsets linked to the same root may have several hypernyms in common. <font style=\"background:#00FF00\"><strong>If two synsets share a very specific hypernym — one that is low down in the hypernym hierarchy — they must be closely related</strong></font>. See the above [Fragment of WordNet Concept Hierarchy](#divtop)."
   ]
  },
  {
   "cell_type": "code",
   "execution_count": 201,
   "metadata": {},
   "outputs": [],
   "source": [
    "right = wn.synset('right_whale.n.01') # 右鲸\n",
    "orca = wn.synset('orca.n.01') # 逆戟鲸\n",
    "minke = wn.synset('minke_whale.n.01') # 小须鲸\n",
    "tortoise = wn.synset('tortoise.n.01') # 乌龟\n",
    "novel = wn.synset('novel.n.01') # 小说"
   ]
  },
  {
   "cell_type": "code",
   "execution_count": 202,
   "metadata": {},
   "outputs": [
    {
     "data": {
      "text/plain": [
       "[Synset('baleen_whale.n.01')]"
      ]
     },
     "execution_count": 202,
     "metadata": {},
     "output_type": "execute_result"
    }
   ],
   "source": [
    "right.lowest_common_hypernyms(minke) # 须鲸"
   ]
  },
  {
   "cell_type": "code",
   "execution_count": 203,
   "metadata": {},
   "outputs": [
    {
     "data": {
      "text/plain": [
       "[Synset('whale.n.02')]"
      ]
     },
     "execution_count": 203,
     "metadata": {},
     "output_type": "execute_result"
    }
   ],
   "source": [
    "right.lowest_common_hypernyms(orca) # 鲸"
   ]
  },
  {
   "cell_type": "code",
   "execution_count": 204,
   "metadata": {},
   "outputs": [
    {
     "data": {
      "text/plain": [
       "[Synset('vertebrate.n.01')]"
      ]
     },
     "execution_count": 204,
     "metadata": {},
     "output_type": "execute_result"
    }
   ],
   "source": [
    "right.lowest_common_hypernyms(tortoise) # 脊椎动物"
   ]
  },
  {
   "cell_type": "code",
   "execution_count": 205,
   "metadata": {},
   "outputs": [
    {
     "data": {
      "text/plain": [
       "[Synset('entity.n.01')]"
      ]
     },
     "execution_count": 205,
     "metadata": {},
     "output_type": "execute_result"
    }
   ],
   "source": [
    "right.lowest_common_hypernyms(novel) # 实体"
   ]
  },
  {
   "cell_type": "markdown",
   "metadata": {},
   "source": [
    "Of course we know that ***whale*** is very specific (and ***baleen whale*** even more so), while ***vertebrate*** is more general and ***entity*** is completely general. We can <font style=\"background:#00FF00\"><strong>quantify this concept of generality by looking up the depth of each synset</strong></font>:"
   ]
  },
  {
   "cell_type": "code",
   "execution_count": 206,
   "metadata": {},
   "outputs": [
    {
     "data": {
      "text/plain": [
       "14"
      ]
     },
     "execution_count": 206,
     "metadata": {},
     "output_type": "execute_result"
    }
   ],
   "source": [
    "wn.synset('baleen_whale.n.01').min_depth()"
   ]
  },
  {
   "cell_type": "code",
   "execution_count": 207,
   "metadata": {},
   "outputs": [
    {
     "data": {
      "text/plain": [
       "13"
      ]
     },
     "execution_count": 207,
     "metadata": {},
     "output_type": "execute_result"
    }
   ],
   "source": [
    "wn.synset('whale.n.02').min_depth()"
   ]
  },
  {
   "cell_type": "code",
   "execution_count": 208,
   "metadata": {},
   "outputs": [
    {
     "data": {
      "text/plain": [
       "8"
      ]
     },
     "execution_count": 208,
     "metadata": {},
     "output_type": "execute_result"
    }
   ],
   "source": [
    "wn.synset('vertebrate.n.01').min_depth()"
   ]
  },
  {
   "cell_type": "code",
   "execution_count": 209,
   "metadata": {},
   "outputs": [
    {
     "data": {
      "text/plain": [
       "0"
      ]
     },
     "execution_count": 209,
     "metadata": {},
     "output_type": "execute_result"
    }
   ],
   "source": [
    "wn.synset('entity.n.01').min_depth()"
   ]
  },
  {
   "cell_type": "markdown",
   "metadata": {},
   "source": [
    "<font size=2 style=\"color:#3498DB\">Similarity measures</font> have been defined over the collection of WordNet synsets which incorporate the above insight. \n",
    "\n",
    "For example, <font size=2 style=\"color:#3498DB\">path_similarity</font> assigns a score in the range 0–1 based on <font style=\"background:#00FF00\"><strong>the shortest path that connects the concepts in the hypernym hierarchy</strong></font> (-1 is returned in those cases where a path cannot be found). \n",
    "\n",
    "Comparing a synset with itself will return 1."
   ]
  },
  {
   "cell_type": "code",
   "execution_count": 210,
   "metadata": {},
   "outputs": [
    {
     "data": {
      "text/plain": [
       "0.25"
      ]
     },
     "execution_count": 210,
     "metadata": {},
     "output_type": "execute_result"
    }
   ],
   "source": [
    "right.path_similarity(minke)"
   ]
  },
  {
   "cell_type": "code",
   "execution_count": 211,
   "metadata": {},
   "outputs": [
    {
     "data": {
      "text/plain": [
       "0.16666666666666666"
      ]
     },
     "execution_count": 211,
     "metadata": {},
     "output_type": "execute_result"
    }
   ],
   "source": [
    "right.path_similarity(orca)"
   ]
  },
  {
   "cell_type": "code",
   "execution_count": 212,
   "metadata": {},
   "outputs": [
    {
     "data": {
      "text/plain": [
       "0.07692307692307693"
      ]
     },
     "execution_count": 212,
     "metadata": {},
     "output_type": "execute_result"
    }
   ],
   "source": [
    "right.path_similarity(tortoise)"
   ]
  },
  {
   "cell_type": "code",
   "execution_count": 213,
   "metadata": {},
   "outputs": [
    {
     "data": {
      "text/plain": [
       "0.043478260869565216"
      ]
     },
     "execution_count": 213,
     "metadata": {},
     "output_type": "execute_result"
    }
   ],
   "source": [
    "right.path_similarity(novel)"
   ]
  },
  {
   "cell_type": "markdown",
   "metadata": {},
   "source": [
    "<font size=2 style=\"color:#BA4A00\">**Exercise**</font>\n",
    "\n",
    "Several other similarity measures are available; you can type `help(wn)` for more information. NLTK also includes `VerbNet`, <font style=\"background:#00FF00\"><strong>a hierarhical verb lexicon linked to WordNet</strong></font>. It can be accessed with `nltk.corpus.verbnet`."
   ]
  },
  {
   "cell_type": "markdown",
   "metadata": {},
   "source": [
    "# 6.   Summary"
   ]
  },
  {
   "cell_type": "markdown",
   "metadata": {},
   "source": [
    "- A text corpus is a large, structured collection of texts. NLTK comes with many corpora, e.g., the Brown Corpus, `nltk.corpus.brown`.\n",
    "\n",
    "- Some text corpora are categorized, e.g., by genre or topic; sometimes the categories of a corpus overlap each other.\n",
    "\n",
    "- A conditional frequency distribution is a collection of frequency distributions, each one for a different condition. They can be used for counting word frequencies, given a context or a genre.\n",
    "\n",
    "- Python programs more than a few lines long should be entered using a text editor, saved to a file with a `.py` extension, and accessed using an `import` statement.\n",
    "\n",
    "- Python functions permit you to associate a name with a particular block of code, and re-use that code as often as necessary.\n",
    "\n",
    "- Some functions, known as \"methods\", are associated with an object and we give the object name followed by a period followed by the function, like this: `x.funct(y)`, e.g., `word.isalpha()`.\n",
    "\n",
    "- To find out about some variable v, type `help(v)` in the Python interactive interpreter to read the help entry for this kind of object.\n",
    "\n",
    "- WordNet is a semantically-oriented dictionary of English, consisting of synonym sets — or synsets — and organized into a network.\n",
    "\n",
    "- Some functions are not available by default, but must be accessed using Python's `import` statement."
   ]
  },
  {
   "cell_type": "markdown",
   "metadata": {},
   "source": [
    "# 7.   Further Reading"
   ]
  },
  {
   "cell_type": "markdown",
   "metadata": {},
   "source": [
    "- A good tool for creating annotated text corpora is called Brat, and available from http://brat.nlplab.org/.\n",
    "\n",
    "- These and many other language resources have been documented using OLAC Metadata, and can be searched via the OLAC homepage at http://www.language-archives.org/. \n",
    "\n",
    "- Although WordNet was originally developed for research in psycholinguistics, it is now widely used in NLP and Information Retrieval. WordNets are being developed for many other languages, as documented at http://www.globalwordnet.org/. For a study of WordNet similarity measures, see (<a href=\"https://aclanthology.org/J06-1003.pdf\" target=\"_blank\">Budanitsky & Hirst, 2006</a>). "
   ]
  },
  {
   "cell_type": "markdown",
   "metadata": {},
   "source": [
    "<br>\n",
    "<center><font size=5 style=\"color:#D68910\"><strong>The End</strong></font></center>"
   ]
  }
 ],
 "metadata": {
  "kernelspec": {
   "display_name": "Python 3",
   "language": "python",
   "name": "python3"
  },
  "language_info": {
   "codemirror_mode": {
    "name": "ipython",
    "version": 3
   },
   "file_extension": ".py",
   "mimetype": "text/x-python",
   "name": "python",
   "nbconvert_exporter": "python",
   "pygments_lexer": "ipython3",
   "version": "3.7.1"
  }
 },
 "nbformat": 4,
 "nbformat_minor": 4
}
