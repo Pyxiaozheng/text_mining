{
 "cells": [
  {
   "cell_type": "markdown",
   "id": "b6cd1279-43b7-4b36-b552-27058684a6e1",
   "metadata": {},
   "source": [
    "<center><font size=4 style=\"color:#BA4A00\"><strong>以隐私政策为例预处理互联网文本</strong></font></center>"
   ]
  },
  {
   "cell_type": "markdown",
   "id": "6b6bde01-738d-4645-a384-8162cace58cf",
   "metadata": {},
   "source": [
    "**在Kaggle中运行该代码时，请注意修改相应的文件路径。**\n",
    "\n",
    "**本课程所用数据集均已上传为Kaggle公开数据集，地址如下：**\n",
    "\n",
    "https://www.kaggle.com/datasets/jianzhangzhang/text-mining-course-data"
   ]
  },
  {
   "cell_type": "markdown",
   "id": "7541eb15-ad7b-4229-ab04-6808c91fcf91",
   "metadata": {},
   "source": [
    "### 1. 使用BeautifulSoup解析html原始内容"
   ]
  },
  {
   "cell_type": "code",
   "execution_count": 1,
   "id": "5eff2711-5959-4fce-9646-8128516f471d",
   "metadata": {},
   "outputs": [],
   "source": [
    "from bs4 import BeautifulSoup\n",
    "from lxml.html.clean import Cleaner"
   ]
  },
  {
   "cell_type": "code",
   "execution_count": 3,
   "id": "6358a187-47fb-4ee2-b07c-3117f5b87b97",
   "metadata": {},
   "outputs": [],
   "source": [
    "with open('../materials/app_privacy/com.xunmeng.pinduoduo.html') as f:\n",
    "    html = f.read()"
   ]
  },
  {
   "cell_type": "code",
   "execution_count": 5,
   "id": "1e22c398-1f30-47f8-b091-3a5b1d1ad50a",
   "metadata": {},
   "outputs": [],
   "source": [
    "# print(html)"
   ]
  },
  {
   "cell_type": "markdown",
   "id": "15ba8537-a658-4ba0-a3e3-1cc53b7fe5c0",
   "metadata": {},
   "source": [
    "定义一些文本过滤函数：去除空白，去除包含大量源代码的网页"
   ]
  },
  {
   "cell_type": "code",
   "execution_count": 6,
   "id": "c87c2c0f-80a5-41d2-a4b8-57dde5bada10",
   "metadata": {},
   "outputs": [],
   "source": [
    "def remove_invisible_chars(text):\n",
    "    \"\"\"移除所有不可见字符，除\\r\\t\\n和空格外\"\"\"\n",
    "    result = ''\n",
    "    for char in text:\n",
    "        if char in ['\\r','\\t','\\n',' '] or char.isprintable():\n",
    "            result += char\n",
    "    return result"
   ]
  },
  {
   "cell_type": "code",
   "execution_count": 10,
   "id": "dd537432-4526-4b7f-8cb5-3e0aa40313bf",
   "metadata": {},
   "outputs": [],
   "source": [
    "# https://wbt5.com/lxml-cleaner.html\n",
    "cleaner = Cleaner(\n",
    "    style=True,\n",
    "    scripts=True,\n",
    "    javascript=True,\n",
    ")\n",
    " \n",
    "html_notag = cleaner.clean_html(html)"
   ]
  },
  {
   "cell_type": "code",
   "execution_count": 12,
   "id": "8e46b85b-455a-4f08-81e4-2788e7d71df6",
   "metadata": {},
   "outputs": [],
   "source": [
    "soup = BeautifulSoup(html_notag, 'html.parser')"
   ]
  },
  {
   "cell_type": "code",
   "execution_count": 13,
   "id": "1a270e5a-b884-47e9-b6e7-7cd6c70f4c10",
   "metadata": {},
   "outputs": [],
   "source": [
    "raw_text = soup.get_text()"
   ]
  },
  {
   "cell_type": "code",
   "execution_count": 15,
   "id": "85af3483-b0b3-478b-92e2-fce7c2943edd",
   "metadata": {},
   "outputs": [],
   "source": [
    "clean_text = remove_invisible_chars(raw_text)"
   ]
  },
  {
   "cell_type": "code",
   "execution_count": 17,
   "id": "a4fd2168-3d4d-4f4a-af29-b0ff12368dae",
   "metadata": {},
   "outputs": [
    {
     "data": {
      "text/plain": [
       "'拼多多隐私政策拼多多隐私政策（V3.4.1）更新日期：2023年2月3日特别提示：拼多多（以下或称“我们”）非常注重保护用户（以下或称“您”）的个人信息，鉴于您在使用我们的产品或服务时，我们可能会收集 ... ... 制的公司。前述“控制”是指，直接或间接拥有的权力，从而通过行使表决权、合同或其他方式决定或影响某一方的管理或决策方向，包括Pinduoduo Inc最新上市公司年报披露的拼多多服务提供者的关联公司。\\n'"
      ]
     },
     "execution_count": 17,
     "metadata": {},
     "output_type": "execute_result"
    }
   ],
   "source": [
    "clean_text[:100] + ' ... ... ' + clean_text[-100:]"
   ]
  },
  {
   "cell_type": "code",
   "execution_count": 18,
   "id": "0668e6b1-07ba-4c83-90b7-4fa02aa792e1",
   "metadata": {},
   "outputs": [
    {
     "data": {
      "text/plain": [
       "'称以及第三方授权页面显示的其他信息），以帮助您登录并使用拼多多综合服务平台（以下或称“拼多多综合平台”），保护您的账号安全。若您不提供上述信息，您将无法注册或登录拼多多账号，但您仍可浏览或搜索商品/服务（以下或单称“商品”）。2.1.2.在注册及登录使用拼多多账号的过程中，若您选择提供以下一项或多项额外信息补全个人资料的，将有助于我们给您提供更优质更个性化的服务，上述额外信息包括您的头像、昵称、性别、地区、生日、个性签名、加好友介绍等。此外，您可以根据认证要求提交相应的身份证件信息及/或面部信息以完成实名认证（为了便于您完成实名认证，系统可能会自动向您推荐您以往使用拼多多产品/服务时向我们提供的身份信息）。其中，您设置的头像及昵称将公开显示。若您不提供这些额外信息，不会影响您使用我们产品或服务的基本功能。2.2.展示商品/服务为向您提供更契合您需求的页面展示和搜索结果以及更好地向您展示我们提供的相关服务，我们可能会收集您在访问或使用拼多多综合平台时的设备信息与日志信息，以及其他取得您授权的信息，提取您的偏好特征，并基于特征标签形成的间接用户画像向您推荐您可能感兴趣的内容，包括但不限于匹'"
      ]
     },
     "execution_count": 18,
     "metadata": {},
     "output_type": "execute_result"
    }
   ],
   "source": [
    "clean_text[1000:1500] "
   ]
  },
  {
   "cell_type": "markdown",
   "id": "25399845-fa3b-4c69-9a26-3c92c8166e33",
   "metadata": {},
   "source": [
    "### 2. 句子分割"
   ]
  },
  {
   "cell_type": "code",
   "execution_count": 19,
   "id": "bf3d756c-5207-45d3-89bd-f9b9fcb7c30b",
   "metadata": {},
   "outputs": [],
   "source": [
    "sample_doc = '''您可以通过我们为您提供的评价、拼小圈分享及其他信息发布功能，选择发表评价，公开发布图文/视频以及分享购买过的商品/服务的信息。我们尊重并保护您对相关信息是否发布以及发布范围的设置。'''"
   ]
  },
  {
   "cell_type": "code",
   "execution_count": 20,
   "id": "af225a45-edf7-4e7a-9368-81970c19ab91",
   "metadata": {},
   "outputs": [],
   "source": [
    "import re"
   ]
  },
  {
   "cell_type": "code",
   "execution_count": 21,
   "id": "503aade8-2ffc-45c3-bf7a-ca88694b8739",
   "metadata": {},
   "outputs": [
    {
     "data": {
      "text/plain": [
       "['您可以通过我们为您提供的评价、拼小圈分享及其他信息发布功能，选择发表评价，公开发布图文/视频以及分享购买过的商品/服务的信息',\n",
       " '。',\n",
       " '我们尊重并保护您对相关信息是否发布以及发布范围的设置',\n",
       " '。',\n",
       " '']"
      ]
     },
     "execution_count": 21,
     "metadata": {},
     "output_type": "execute_result"
    }
   ],
   "source": [
    "# 划分句子并保留标点\n",
    "re.split('(。|？|！)', sample_doc)"
   ]
  },
  {
   "cell_type": "markdown",
   "id": "79848bfa-8ebf-41ae-abe7-cbc10361b3b2",
   "metadata": {},
   "source": [
    "### 3. 分词"
   ]
  },
  {
   "cell_type": "code",
   "execution_count": 22,
   "id": "96945548-b981-4e2f-9d08-8e12fd11f500",
   "metadata": {},
   "outputs": [],
   "source": [
    "raw = \"\"\"'When I'M a Duchess,' she said to herself, (not in a very hopeful tone though), 'I won't have any pepper in my kitchen AT ALL. Soup does very well without--Maybe it's always pepper that makes people hot-tempered,'...\"\"\""
   ]
  },
  {
   "cell_type": "code",
   "execution_count": 23,
   "id": "98bdaa5a-2171-41c1-9055-1236406f3598",
   "metadata": {},
   "outputs": [
    {
     "name": "stdout",
     "output_type": "stream",
     "text": [
      "[\"'When\", \"I'M\", 'a', \"Duchess,'\", 'she', 'said', 'to', 'herself,', '(not', 'in', 'a', 'very', 'hopeful', 'tone', 'though),', \"'I\", \"won't\", 'have', 'any', 'pepper', 'in', 'my', 'kitchen', 'AT', 'ALL.', 'Soup', 'does', 'very', 'well', 'without--Maybe', \"it's\", 'always', 'pepper', 'that', 'makes', 'people', \"hot-tempered,'...\"]\n"
     ]
    }
   ],
   "source": [
    "print(raw.split())"
   ]
  },
  {
   "cell_type": "code",
   "execution_count": 28,
   "id": "ac6b74d3-9869-444c-ba09-b3b665e82de6",
   "metadata": {},
   "outputs": [],
   "source": [
    "from nltk import word_tokenize"
   ]
  },
  {
   "cell_type": "code",
   "execution_count": 29,
   "id": "c4f30aa4-a33f-4d36-8198-b5d6eed9d2b5",
   "metadata": {},
   "outputs": [
    {
     "name": "stdout",
     "output_type": "stream",
     "text": [
      "[\"'When\", 'I', \"'M\", 'a', 'Duchess', ',', \"'\", 'she', 'said', 'to', 'herself', ',', '(', 'not', 'in', 'a', 'very', 'hopeful', 'tone', 'though', ')', ',', \"'\", 'I', 'wo', \"n't\", 'have', 'any', 'pepper', 'in', 'my', 'kitchen', 'AT', 'ALL', '.', 'Soup', 'does', 'very', 'well', 'without', '--', 'Maybe', 'it', \"'s\", 'always', 'pepper', 'that', 'makes', 'people', 'hot-tempered', ',', \"'\", '...']\n"
     ]
    }
   ],
   "source": [
    "print(word_tokenize(raw))"
   ]
  },
  {
   "cell_type": "code",
   "execution_count": 30,
   "id": "2739293d-159d-463f-adfc-67ed720b225a",
   "metadata": {},
   "outputs": [],
   "source": [
    "import jieba"
   ]
  },
  {
   "cell_type": "code",
   "execution_count": 31,
   "id": "a0d25bc4-1224-4542-88dc-1ad653426f75",
   "metadata": {},
   "outputs": [],
   "source": [
    "craw = '我们尊重并保护您对相关信息是否发布以及发布范围的设置'"
   ]
  },
  {
   "cell_type": "code",
   "execution_count": 32,
   "id": "79a9ba55-4ded-4ad0-8c20-e5e161ee81a6",
   "metadata": {},
   "outputs": [
    {
     "name": "stderr",
     "output_type": "stream",
     "text": [
      "Building prefix dict from the default dictionary ...\n",
      "Dumping model to file cache /tmp/jieba.cache\n",
      "Loading model cost 0.690 seconds.\n",
      "Prefix dict has been built successfully.\n"
     ]
    },
    {
     "name": "stdout",
     "output_type": "stream",
     "text": [
      "我们\n",
      "尊重\n",
      "并\n",
      "保护\n",
      "您\n",
      "对\n",
      "相关\n",
      "信息\n",
      "是否\n",
      "发布\n",
      "以及\n",
      "发布\n",
      "范围\n",
      "的\n",
      "设置\n"
     ]
    }
   ],
   "source": [
    "for word in jieba.cut(craw):\n",
    "    print(word)"
   ]
  },
  {
   "cell_type": "markdown",
   "id": "a9dbe46f-12e8-45bc-a6e2-3b493c43bb34",
   "metadata": {},
   "source": [
    "### 4. 词性标注"
   ]
  },
  {
   "cell_type": "code",
   "execution_count": 33,
   "id": "e705f0f0-ea84-4043-8e15-da874200805f",
   "metadata": {},
   "outputs": [],
   "source": [
    "import jieba.posseg"
   ]
  },
  {
   "cell_type": "code",
   "execution_count": 34,
   "id": "2a67e26b-ad52-43e6-9460-999b6c3d074b",
   "metadata": {},
   "outputs": [
    {
     "name": "stdout",
     "output_type": "stream",
     "text": [
      "我们 r\n",
      "尊重 a\n",
      "并 c\n",
      "保护 v\n",
      "您 r\n",
      "对 p\n",
      "相关 v\n",
      "信息 n\n",
      "是否 v\n",
      "发布 v\n",
      "以及 c\n",
      "发布 v\n",
      "范围 n\n",
      "的 uj\n",
      "设置 vn\n"
     ]
    }
   ],
   "source": [
    "for word,pos in jieba.posseg.cut(craw):\n",
    "    print(word,pos)"
   ]
  },
  {
   "cell_type": "code",
   "execution_count": 35,
   "id": "5f0be32a-b132-4807-a395-044daf7bf3eb",
   "metadata": {},
   "outputs": [],
   "source": [
    "import nltk"
   ]
  },
  {
   "cell_type": "code",
   "execution_count": 36,
   "id": "3ae065a6-26d5-48f3-a9e5-91b2bf6b0952",
   "metadata": {},
   "outputs": [
    {
     "name": "stdout",
     "output_type": "stream",
     "text": [
      "[(\"'When\", 'POS'), ('I', 'PRP'), (\"'M\", 'VBP'), ('a', 'DT'), ('Duchess', 'NNP'), (',', ','), (\"'\", \"''\"), ('she', 'PRP'), ('said', 'VBD'), ('to', 'TO'), ('herself', 'VB'), (',', ','), ('(', '('), ('not', 'RB'), ('in', 'IN'), ('a', 'DT'), ('very', 'RB'), ('hopeful', 'JJ'), ('tone', 'NN'), ('though', 'IN'), (')', ')'), (',', ','), (\"'\", \"''\"), ('I', 'PRP'), ('wo', 'MD'), (\"n't\", 'RB'), ('have', 'VB'), ('any', 'DT'), ('pepper', 'NN'), ('in', 'IN'), ('my', 'PRP$'), ('kitchen', 'NN'), ('AT', 'NNP'), ('ALL', 'NNP'), ('.', '.'), ('Soup', 'NNP'), ('does', 'VBZ'), ('very', 'RB'), ('well', 'RB'), ('without', 'IN'), ('--', ':'), ('Maybe', 'VBP'), ('it', 'PRP'), (\"'s\", 'VBZ'), ('always', 'RB'), ('pepper', 'JJ'), ('that', 'IN'), ('makes', 'VBZ'), ('people', 'NNS'), ('hot-tempered', 'JJ'), (',', ','), (\"'\", \"''\"), ('...', ':')]\n"
     ]
    }
   ],
   "source": [
    "print(nltk.pos_tag(word_tokenize(raw)))"
   ]
  },
  {
   "cell_type": "markdown",
   "id": "323d5984-2251-4055-a474-46e36b1bb342",
   "metadata": {},
   "source": [
    "### 5. 停用词过滤"
   ]
  },
  {
   "cell_type": "markdown",
   "id": "1199797c-0968-4bf5-942d-892d5bb43ecd",
   "metadata": {},
   "source": [
    "中文停用词表：https://github.com/goto456/stopwords"
   ]
  },
  {
   "cell_type": "code",
   "execution_count": 40,
   "id": "0fadffb7-00fa-4f70-ab72-4b40020d2d24",
   "metadata": {},
   "outputs": [],
   "source": [
    "with open('../materials/stopwords.txt') as f:\n",
    "    cstopwords = f.read().strip().split()"
   ]
  },
  {
   "cell_type": "code",
   "execution_count": 44,
   "id": "6492c454-cbc1-49c0-a69d-2c6fdc68e032",
   "metadata": {},
   "outputs": [],
   "source": [
    "# print(stopwords)"
   ]
  },
  {
   "cell_type": "code",
   "execution_count": 41,
   "id": "a5d9f36c-55c3-4d22-b0cc-dd28bfa32368",
   "metadata": {},
   "outputs": [
    {
     "name": "stdout",
     "output_type": "stream",
     "text": [
      "尊重 a\n",
      "保护 v\n",
      "相关 v\n",
      "信息 n\n",
      "发布 v\n",
      "发布 v\n",
      "设置 vn\n"
     ]
    }
   ],
   "source": [
    "for word,pos in jieba.posseg.cut(craw):\n",
    "    if word not in cstopwords:\n",
    "        print(word,pos)"
   ]
  },
  {
   "cell_type": "code",
   "execution_count": 42,
   "id": "dc319c34-3c30-4360-a289-a89c97c7f87e",
   "metadata": {},
   "outputs": [],
   "source": [
    "from nltk.corpus import stopwords\n",
    "estopwords = set(stopwords.words('english'))"
   ]
  },
  {
   "cell_type": "code",
   "execution_count": 44,
   "id": "379441d8-e18f-46c8-b1a9-f2a90d5d25b5",
   "metadata": {},
   "outputs": [],
   "source": [
    "import string"
   ]
  },
  {
   "cell_type": "code",
   "execution_count": 45,
   "id": "5b19f3ed-47f0-4f0e-825d-66906be58ced",
   "metadata": {},
   "outputs": [
    {
     "data": {
      "text/plain": [
       "'!\"#$%&\\'()*+,-./:;<=>?@[\\\\]^_`{|}~'"
      ]
     },
     "execution_count": 45,
     "metadata": {},
     "output_type": "execute_result"
    }
   ],
   "source": [
    "string.punctuation"
   ]
  },
  {
   "cell_type": "code",
   "execution_count": 46,
   "id": "014dc0b4-7138-4eab-99a7-b1fe6a12cff1",
   "metadata": {},
   "outputs": [
    {
     "name": "stdout",
     "output_type": "stream",
     "text": [
      "(\"'When\", 'POS')\n",
      "(\"'M\", 'VBP')\n",
      "('Duchess', 'NNP')\n",
      "('said', 'VBD')\n",
      "('hopeful', 'JJ')\n",
      "('tone', 'NN')\n",
      "('though', 'IN')\n",
      "('wo', 'MD')\n",
      "(\"n't\", 'RB')\n",
      "('pepper', 'NN')\n",
      "('kitchen', 'NN')\n",
      "('Soup', 'NNP')\n",
      "('well', 'RB')\n",
      "('without', 'IN')\n",
      "('--', ':')\n",
      "('Maybe', 'VBP')\n",
      "(\"'s\", 'VBZ')\n",
      "('always', 'RB')\n",
      "('pepper', 'JJ')\n",
      "('makes', 'VBZ')\n",
      "('people', 'NNS')\n",
      "('hot-tempered', 'JJ')\n",
      "('...', ':')\n"
     ]
    }
   ],
   "source": [
    "for item in nltk.pos_tag(word_tokenize(raw)):\n",
    "    if item[0].lower() not in estopwords and item[0] not in string.punctuation:\n",
    "        print(item)"
   ]
  },
  {
   "cell_type": "markdown",
   "id": "6aabc16f-7826-470f-8e6e-97904b4c61b5",
   "metadata": {},
   "source": [
    "### 6. 正则表达式实例"
   ]
  },
  {
   "cell_type": "code",
   "execution_count": 51,
   "id": "118baa33-98c8-411c-9c92-db66c91a0057",
   "metadata": {},
   "outputs": [],
   "source": [
    "import re\n",
    "\n",
    "raw = \"\"\"'When I'M a Duchess,' she said to herself, (not in a very hopeful tone though), 'I won't have any pepper in my kitchen AT ALL. Soup does very well without--Maybe it's always pepper that makes people hot-tempered,'...\"\"\"\n",
    "\n",
    "# 编译正则表达式，一次编译后可多次用于匹配，效率高\n",
    "spliter = re.compile(r'\\W+')\n",
    "\n",
    "# 匹配，以非单词字符分割输入文本\n",
    "token_list = re.split(spliter, raw)"
   ]
  },
  {
   "cell_type": "code",
   "execution_count": 53,
   "id": "49e0010b-e102-4f6a-a91a-822bf05f6d3f",
   "metadata": {},
   "outputs": [
    {
     "name": "stdout",
     "output_type": "stream",
     "text": [
      "['', 'When', 'I', 'M', 'a', 'Duchess', 'she', 'said', 'to', 'herself', 'not', 'in', 'a', 'very', 'hopeful', 'tone', 'though', 'I', 'won', 't', 'have', 'any', 'pepper', 'in', 'my', 'kitchen', 'AT', 'ALL', 'Soup', 'does', 'very', 'well', 'without', 'Maybe', 'it', 's', 'always', 'pepper', 'that', 'makes', 'people', 'hot', 'tempered', '']\n"
     ]
    }
   ],
   "source": [
    "print(token_list)"
   ]
  },
  {
   "cell_type": "code",
   "execution_count": 54,
   "id": "f8b11a08-36d9-4e41-bef4-cd8805f429b8",
   "metadata": {},
   "outputs": [],
   "source": [
    "# 编译+匹配，每次匹配都需要编译，效率低\n",
    "token_list = re.split(r'\\W+', raw)"
   ]
  },
  {
   "cell_type": "code",
   "execution_count": 55,
   "id": "4be0fb68-743e-40c5-b7dd-0695b52cb968",
   "metadata": {},
   "outputs": [
    {
     "name": "stdout",
     "output_type": "stream",
     "text": [
      "['', 'When', 'I', 'M', 'a', 'Duchess', 'she', 'said', 'to', 'herself', 'not', 'in', 'a', 'very', 'hopeful', 'tone', 'though', 'I', 'won', 't', 'have', 'any', 'pepper', 'in', 'my', 'kitchen', 'AT', 'ALL', 'Soup', 'does', 'very', 'well', 'without', 'Maybe', 'it', 's', 'always', 'pepper', 'that', 'makes', 'people', 'hot', 'tempered', '']\n"
     ]
    }
   ],
   "source": [
    "print(token_list)"
   ]
  },
  {
   "cell_type": "code",
   "execution_count": 56,
   "id": "69db6525-dcc6-4c59-a5ab-d884495d4b40",
   "metadata": {},
   "outputs": [
    {
     "name": "stdout",
     "output_type": "stream",
     "text": [
      "[\"'\", 'When', \"I'M\", 'a', 'Duchess', ',', \"'\", 'she', 'said', 'to', 'herself', ',', '(', 'not', 'in', 'a', 'very', 'hopeful', 'tone', 'though', ')', ',', \"'\", 'I', \"won't\", 'have', 'any', 'pepper', 'in', 'my', 'kitchen', 'AT', 'ALL', '.', 'Soup', 'does', 'very', 'well', 'without', '--', 'Maybe', \"it's\", 'always', 'pepper', 'that', 'makes', 'people', 'hot-tempered', ',', \"'\", '...']\n"
     ]
    }
   ],
   "source": [
    "# 多次试错后可以得到更加完善的分词正则表达式\n",
    "print(re.findall(r\"\\w+(?:[-']\\w+)*|'|[-.(]+|\\S\\w*\", raw))"
   ]
  },
  {
   "cell_type": "code",
   "execution_count": 59,
   "id": "4770fcde-cd3a-4c69-ad72-45becbc2c57e",
   "metadata": {},
   "outputs": [],
   "source": [
    "pattern1 = r'\\d+'\n",
    "text1 = '阿里巴巴商学院成立于2008年10月31日'\n",
    "match1 = re.findall(pattern1, text1)"
   ]
  },
  {
   "cell_type": "code",
   "execution_count": 60,
   "id": "ba6f87cb-2beb-4c87-8cb3-29a16730dbf2",
   "metadata": {},
   "outputs": [
    {
     "data": {
      "text/plain": [
       "['2008', '10', '31']"
      ]
     },
     "execution_count": 60,
     "metadata": {},
     "output_type": "execute_result"
    }
   ],
   "source": [
    "match1"
   ]
  },
  {
   "cell_type": "code",
   "execution_count": 61,
   "id": "558edebb-6b77-4543-852f-11dc95aced99",
   "metadata": {},
   "outputs": [
    {
     "name": "stdout",
     "output_type": "stream",
     "text": [
      "['阿', '里', '巴', '巴', '商', '学', '院', '成', '立', '于', '年', '月', '日']\n"
     ]
    }
   ],
   "source": [
    "match2 = re.findall(r'[\\u4e00-\\u9fa5]', text1)\n",
    "print(match2)"
   ]
  },
  {
   "cell_type": "code",
   "execution_count": 96,
   "id": "20e37c88-e92e-4873-989e-e8bd870dc8a4",
   "metadata": {},
   "outputs": [
    {
     "name": "stdout",
     "output_type": "stream",
     "text": [
      "Username: Jhon, Domain: gmail.com\n",
      "Username: peng_zhang, Domain: hznu.edu.com\n",
      "Username: jianzhang.zhang, Domain: foxmail.com\n"
     ]
    }
   ],
   "source": [
    "import re\n",
    "\n",
    "emails = ['Jhon@gmail.com', 'peng_zhang@hznu.edu.com', 'jianzhang.zhang@foxmail.com']\n",
    "\n",
    "for email in emails:\n",
    "    match = re.match(r'^([\\w\\.]+)@([\\w\\.]{2,})$', email)\n",
    "    if match:\n",
    "        username = match.group(1)\n",
    "        domain = match.group(2)\n",
    "        print(f'Username: {username}, Domain: {domain}')"
   ]
  }
 ],
 "metadata": {
  "kernelspec": {
   "display_name": "Python 3 (ipykernel)",
   "language": "python",
   "name": "python3"
  },
  "language_info": {
   "codemirror_mode": {
    "name": "ipython",
    "version": 3
   },
   "file_extension": ".py",
   "mimetype": "text/x-python",
   "name": "python",
   "nbconvert_exporter": "python",
   "pygments_lexer": "ipython3",
   "version": "3.9.7"
  }
 },
 "nbformat": 4,
 "nbformat_minor": 5
}
