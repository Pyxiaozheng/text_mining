{
 "cells": [
  {
   "cell_type": "markdown",
   "id": "439f1f4d-9ae8-4887-88a1-7191de2d0788",
   "metadata": {},
   "source": [
    "<center><font size=4 style=\"color:#BA4A00\"><strong>文本向量化</strong></font></center>"
   ]
  },
  {
   "cell_type": "markdown",
   "id": "150614d4-33f3-4acd-bf1f-cfa4630bf91f",
   "metadata": {},
   "source": [
    "### 1. 计算IT新闻的词频矩阵"
   ]
  },
  {
   "cell_type": "code",
   "execution_count": 1,
   "id": "7c0e1b5a-ffdc-4cb2-aa39-f32d3504311f",
   "metadata": {},
   "outputs": [],
   "source": [
    "from nltk.corpus.reader import CategorizedTaggedCorpusReader"
   ]
  },
  {
   "cell_type": "code",
   "execution_count": 2,
   "id": "348e2655-d055-41dc-89cc-e170abafeb1f",
   "metadata": {},
   "outputs": [],
   "source": [
    "creader = CategorizedTaggedCorpusReader('./cn_news_tagged/', '.*',cat_pattern = r'(.+)/.+txt')"
   ]
  },
  {
   "cell_type": "code",
   "execution_count": 3,
   "id": "cfd07927-94d4-432c-8f1b-c21a0ef3c0f4",
   "metadata": {},
   "outputs": [],
   "source": [
    "import re\n",
    "import string"
   ]
  },
  {
   "cell_type": "code",
   "execution_count": 4,
   "id": "84ef2067-07cc-4fa0-9cf1-3bd99b2be6ac",
   "metadata": {},
   "outputs": [],
   "source": [
    "zh_char = re.compile(r'[\\u4e00-\\u9fa5]')"
   ]
  },
  {
   "cell_type": "code",
   "execution_count": 5,
   "id": "04b1d9a3-c432-48d9-b99f-83fc93059141",
   "metadata": {},
   "outputs": [],
   "source": [
    "with open('./stopwords.txt') as f:\n",
    "    stopwords = f.read().strip().split()\n",
    "    \n",
    "domain_stopwords = ['记者', '报道']"
   ]
  },
  {
   "cell_type": "code",
   "execution_count": 6,
   "id": "ad500a37-0236-4169-bdda-9ba286a81565",
   "metadata": {},
   "outputs": [],
   "source": [
    "cn_filter = lambda item: len(zh_char.findall(item)) > 1 and item not in (stopwords + domain_stopwords) and not set(item) & set(string.punctuation)"
   ]
  },
  {
   "cell_type": "code",
   "execution_count": 7,
   "id": "8e46c590-b762-41ed-becb-df385c1f2886",
   "metadata": {},
   "outputs": [],
   "source": [
    "tokenized_docs = []\n",
    "for file_id in creader.fileids(categories=['IT']):\n",
    "    doc = creader.words(fileids=[file_id])\n",
    "    clean_doc = filter(cn_filter, doc)\n",
    "    tokenized_docs.append(clean_doc)"
   ]
  },
  {
   "cell_type": "code",
   "execution_count": 8,
   "id": "6b66fde1-c8bc-4967-9054-82335cd11755",
   "metadata": {},
   "outputs": [],
   "source": [
    "import numpy as np\n",
    "from sklearn.feature_extraction.text import CountVectorizer, TfidfTransformer"
   ]
  },
  {
   "cell_type": "code",
   "execution_count": 9,
   "id": "38285d1f-d611-4fac-8e5e-219bfe786f60",
   "metadata": {},
   "outputs": [],
   "source": [
    "count_vectorizer = CountVectorizer(tokenizer=lambda text:list(text), lowercase=False, min_df = 5)\n",
    "\n",
    "count_matrix = count_vectorizer.fit_transform(tokenized_docs)\n",
    "binary_matrix = np.where(count_matrix.toarray() > 0, 1, 0)\n",
    "tfidf_transformer = TfidfTransformer()\n",
    "tfidf_matrix = tfidf_transformer.fit_transform(count_matrix)"
   ]
  },
  {
   "cell_type": "code",
   "execution_count": 10,
   "id": "7851a909-0afa-4f0f-ae4b-9caa7b4cdbaf",
   "metadata": {},
   "outputs": [
    {
     "name": "stdout",
     "output_type": "stream",
     "text": [
      "Vocabulary Size: 7045\n",
      "Vocabulary (100): ['10月份' '11月份' '1990年代' '1亿多' '1月份' '200多万' '20多万' '2月份' '3亿多' '3月份' '3月底'\n",
      " '4月份' '4月初' '4月底' '5月份' '65纳米' '6月份' '6月底' '70年代' '7月份' '80年代' '90年代'\n",
      " '9月份' 'CEO一职' 'C生活' 'E系列' 'V牌照' '一一' '一万' '一下子' '一两' '一个个' '一举' '一些' '一亿'\n",
      " '一代' '一体' '一体化' '一共' '一再' '一半' '一口气' '一句话' '一同' '一向' '一味' '一块' '一大' '一大堆'\n",
      " '一头' '一季度' '一定' '一审' '一家' '一对' '一对一' '一帆风顺' '一席之地' '一年一度' '一并' '一度' '一开始'\n",
      " '一律' '一手' '一批' '一整套' '一方' '一旁' '一族' '一时' '一时间' '一月' '一次性' '一次次' '一流'\n",
      " '一清二楚' '一点' '一点儿' '一环' '一生' '一百' '一百多' '一目了然' '一直' '一瞬间' '一站式' '一类' '一系列'\n",
      " '一级' '一线' '一经' '一般来说' '一行' '一贯' '一路' '一身' '一道' '一部分' '七八' '七月']\n",
      "Matrix Shape (1990, 7045)\n",
      "Count Matrix:\n",
      "[[0 0 0 ... 0 0 0]\n",
      " [0 0 0 ... 0 0 0]\n",
      " [0 0 0 ... 0 0 0]\n",
      " ...\n",
      " [0 0 0 ... 0 0 0]\n",
      " [0 0 0 ... 0 0 0]\n",
      " [0 0 0 ... 0 0 0]]\n"
     ]
    }
   ],
   "source": [
    "# 打印词表规模\n",
    "print('Vocabulary Size:', len(count_vectorizer.get_feature_names_out()))\n",
    "# 打印词汇表中的100个词语\n",
    "print(\"Vocabulary (100):\", count_vectorizer.get_feature_names_out()[:100])\n",
    "\n",
    "print('Matrix Shape', count_matrix.shape)\n",
    "\n",
    "# 打印词频矩阵\n",
    "print(\"Count Matrix:\")\n",
    "print(count_matrix.toarray())"
   ]
  },
  {
   "cell_type": "code",
   "execution_count": 11,
   "id": "313f9b5d-24e0-4411-a0a9-5d4ac3c6f382",
   "metadata": {},
   "outputs": [
    {
     "name": "stdout",
     "output_type": "stream",
     "text": [
      "Binary Matrix:\n",
      "[[0 0 0 ... 0 0 0]\n",
      " [0 0 0 ... 0 0 0]\n",
      " [0 0 0 ... 0 0 0]\n",
      " ...\n",
      " [0 0 0 ... 0 0 0]\n",
      " [0 0 0 ... 0 0 0]\n",
      " [0 0 0 ... 0 0 0]]\n"
     ]
    }
   ],
   "source": [
    "# 打印二进制词频矩阵\n",
    "print(\"Binary Matrix:\")\n",
    "print(binary_matrix)"
   ]
  },
  {
   "cell_type": "code",
   "execution_count": 12,
   "id": "09023d96-8641-433d-904d-b06c00ef88ab",
   "metadata": {},
   "outputs": [
    {
     "name": "stdout",
     "output_type": "stream",
     "text": [
      "TF-IDF Matrix:\n",
      "[[0. 0. 0. ... 0. 0. 0.]\n",
      " [0. 0. 0. ... 0. 0. 0.]\n",
      " [0. 0. 0. ... 0. 0. 0.]\n",
      " ...\n",
      " [0. 0. 0. ... 0. 0. 0.]\n",
      " [0. 0. 0. ... 0. 0. 0.]\n",
      " [0. 0. 0. ... 0. 0. 0.]]\n"
     ]
    }
   ],
   "source": [
    "# 打印TF-IDF矩阵\n",
    "print(\"TF-IDF Matrix:\")\n",
    "print(tfidf_matrix.toarray())"
   ]
  },
  {
   "cell_type": "code",
   "execution_count": 13,
   "id": "50d70ab0-9f17-4d45-8305-f8f9908402a4",
   "metadata": {},
   "outputs": [],
   "source": [
    "# help(CountVectorizer)"
   ]
  },
  {
   "cell_type": "code",
   "execution_count": 14,
   "id": "304cbf06-cd2f-41d2-b8ca-d3881a05a7c5",
   "metadata": {},
   "outputs": [
    {
     "name": "stdout",
     "output_type": "stream",
     "text": [
      "0.04207719181487542\n",
      "0.03942975607759037\n",
      "0.02966734752137295\n",
      "0.04487850625562139\n",
      "0.04390752521587121\n",
      "0.027856694223604078\n",
      "0.03312093426531009\n",
      "0.03478019507323494\n",
      "0.3073526765110985\n",
      "0.032801992536907174\n",
      "0.04062863606172611\n",
      "0.044642552416873864\n",
      "0.03907191835851229\n",
      "0.021313513191736255\n",
      "0.01601485354046968\n",
      "0.02534874055722864\n",
      "0.017782744475892075\n",
      "0.053397769351626066\n",
      "0.12278710878047562\n",
      "0.026572055964009408\n",
      "0.04020570014681188\n",
      "0.024142161871521302\n",
      "0.018679048588090958\n",
      "0.034064048278973566\n",
      "0.08718098858147377\n",
      "0.13071837519175822\n",
      "0.031644170420844685\n",
      "0.04064134334474956\n",
      "0.0550072236478882\n",
      "0.021071536124294292\n",
      "0.02051313369986972\n",
      "0.046395798779019726\n",
      "0.041560191921660807\n",
      "0.03240597810015758\n",
      "0.10673507008911315\n",
      "0.10737908761310158\n",
      "0.022601878347951732\n",
      "0.04290332476001578\n",
      "0.015520749322655833\n",
      "0.04747120109665891\n",
      "0.059701890236309015\n",
      "0.023220872836151603\n",
      "0.019286066582305982\n",
      "0.021204930361092875\n",
      "0.015003749429441219\n",
      "0.044642552416873864\n",
      "0.014062510978038529\n",
      "0.04390752521587121\n",
      "0.03053448643209404\n",
      "0.6720317724996062\n",
      "0.5572972378332092\n",
      "0.013005101325551327\n",
      "0.022003091984228982\n",
      "0.0372415849575165\n",
      "0.03779998738194107\n",
      "0.015217383873893634\n",
      "0.04107887653608617\n",
      "0.02651416097586823\n",
      "0.03942975607759037\n",
      "0.027637775690180593\n",
      "0.029758542362872526\n",
      "0.13088479145369253\n",
      "0.028579014141583283\n",
      "0.02156418588447068\n"
     ]
    }
   ],
   "source": [
    "# 查看TF-IDF矩阵中的非0元素值\n",
    "for item in tfidf_matrix.toarray()[2]:\n",
    "    if item != 0:\n",
    "        print(item)"
   ]
  },
  {
   "cell_type": "markdown",
   "id": "15eadc55-6dc8-43b0-824e-fcde6de3df7e",
   "metadata": {},
   "source": [
    "### 2. 计算三种文本相似度"
   ]
  },
  {
   "cell_type": "code",
   "execution_count": 17,
   "id": "692f0595-ccfa-42a4-9d20-62fdf0aba14a",
   "metadata": {},
   "outputs": [
    {
     "data": {
      "text/plain": [
       "1990"
      ]
     },
     "execution_count": 17,
     "metadata": {},
     "output_type": "execute_result"
    }
   ],
   "source": [
    "len(creader.fileids(categories=['IT']))"
   ]
  },
  {
   "cell_type": "code",
   "execution_count": 16,
   "id": "d357b020-1254-49b9-b8f1-dcb4f9b20746",
   "metadata": {},
   "outputs": [
    {
     "data": {
      "text/plain": [
       "(1990, 7045)"
      ]
     },
     "execution_count": 16,
     "metadata": {},
     "output_type": "execute_result"
    }
   ],
   "source": [
    "count_matrix.shape"
   ]
  },
  {
   "cell_type": "code",
   "execution_count": 18,
   "id": "2837320a-ecf1-4e9b-aac3-2f39f13b7047",
   "metadata": {},
   "outputs": [
    {
     "data": {
      "text/plain": [
       "'IT/1017.txt'"
      ]
     },
     "execution_count": 18,
     "metadata": {},
     "output_type": "execute_result"
    }
   ],
   "source": [
    "# Document A\n",
    "creader.fileids(categories=['IT'])[20]"
   ]
  },
  {
   "cell_type": "code",
   "execution_count": 21,
   "id": "23ac6577-dfc9-4f6a-aa4b-ded59b0acfd2",
   "metadata": {},
   "outputs": [
    {
     "data": {
      "text/plain": [
       "'IT/1044.txt'"
      ]
     },
     "execution_count": 21,
     "metadata": {},
     "output_type": "execute_result"
    }
   ],
   "source": [
    "# Document B\n",
    "creader.fileids(categories=['IT'])[50]"
   ]
  },
  {
   "cell_type": "code",
   "execution_count": 20,
   "id": "1f90a1b8-a345-46dd-82fd-982d42ce9583",
   "metadata": {},
   "outputs": [
    {
     "name": "stdout",
     "output_type": "stream",
     "text": [
      "新华网/PROPN 华盛顿/PROPN ５月/NOUN ３日/NOUN 电/NOUN （/PUNCT 记者/NOUN 潘云召/PROPN 　/SPACE 杨晴川/PROPN ）/PUNCT\n",
      "据/ADP 美国/PROPN 《/PUNCT 纽约/PROPN 时报/NOUN 》/PUNCT ３日/NOUN 报道/VERB ，/PUNCT 美国/PROPN 政府/NOUN 正在/ADV 准备/VERB 研制/VERB 一/NUM 种/NUM 威力/NOUN 强大/VERB 的/PART 地基/NOUN 激光/ADJ 武器/NOUN ，/PUNCT 用于/VERB 摧毁/VERB 敌方/NOUN 沿/ADP 轨道/NOUN 运行/VERB 的/PART 卫星/NOUN 。/PUNCT\n",
      "\n",
      "据/ADP 报道/NOUN ，/PUNCT 这种/ADV 激光/ADJ 武器/NOUN 比/ADP 克林顿/PROPN 政府/NOUN 于/ADP １９９７年/NOUN 进行/VERB 的/PART 反卫星/ADJ 激光/NOUN 试验/NOUN 更为/ADV 大胆/VERB 。/PUNCT\n",
      "新/VERB 的/PART 激光/ADJ 武器/NOUN 将/ADV 利用/VERB 结合/VERB 了/PART 传感器/NOUN 、/PUNCT 计算机/NOUN 和/CCONJ 活动/NOUN 反射镜/NOUN 等/PART 的/PART 先进/ADJ 光学/NOUN 技术/NOUN ，/PUNCT 以/PART 减少/VERB 大气/NOUN 对/ADP 激光束/NOUN 的/PART 影响/NOUN 。/PUNCT\n",
      "\n",
      "这种/DET\n",
      "激光/ADJ 武器/NOUN 原本/ADV 是/VERB 一个/DET 秘密/ADJ 项目/NOUN ，/PUNCT 但/ADV 项目/NOUN 的/PART 部分/NUM 内容/NOUN 在/ADP 空军/NOUN 向/ADP 国会/NOUN 呈交/VERB 的/PART 预算/NOUN 文件/NOUN 中/PART 被/X 披露/VERB 出来/VERB 。/PUNCT\n",
      "据/ADP 报道/NOUN ，/PUNCT 美/PROPN 军方/NOUN ２００６年/NOUN 研制/VERB 这种/DET 激光/ADJ 武器/NOUN 的/PART 费用/NOUN 大约/ADV 为/VERB ２０００万/NUM 美元/NUM 。/PUNCT\n",
      "\n",
      "这/DET 篇/NUM 报道/NOUN 说/VERB ，/PUNCT 美国/PROPN 会/VERB 众议院/NOUN 军事/NOUN 委员会/NOUN 中/PART 一个/DET 小组/NOUN 委员会/NOUN 上周/NOUN 削减/VERB 了/PART 布什/PROPN 政府/NOUN ２００７/NUM 年度/NOUN 预算/NOUN 报告/NOUN 中/PART 用于/VERB 研制/VERB 这种/DET 激光/ADJ 武器/NOUN 的/PART 经费/NOUN ，/PUNCT 但/ADV 没有/ADV 说明/VERB 削减/VERB 该/DET 项目/NOUN 经费/NOUN 的/PART 原因/NOUN 。/PUNCT\n",
      "一些/NUM 议员/NOUN 的/PART 助手/NOUN 表示/VERB ，/PUNCT 这个/DET 小组/NOUN 委员会/NOUN 认为/VERB 在/ADP 研制/VERB 太空/NOUN 武器/NOUN 方面/NOUN 应持/VERB 谨慎/ADJ 态度/NOUN 。/PUNCT\n",
      "（/PUNCT 完/VERB ）/PUNCT\n"
     ]
    }
   ],
   "source": [
    "print(creader.raw(fileids=['IT/1017.txt']))"
   ]
  },
  {
   "cell_type": "code",
   "execution_count": 22,
   "id": "707fba6d-bfee-4a4c-b7f4-032058744ce5",
   "metadata": {},
   "outputs": [
    {
     "name": "stdout",
     "output_type": "stream",
     "text": [
      "天极网/NOUN 5月/NOUN 3日/NOUN 消息/NOUN (宁/NOUN 一/NUM 编译/NOUN )据/NOUN 外电/NOUN 报道/VERB ，/PUNCT 喜新厌旧/VERB 的/PART Investcom/PROPN 公司/NOUN 本/DET 周二/NOUN 宣布/VERB ，/PUNCT 将/ADV 以/ADP 55亿/NUM 美元/NUM 的/PART 价格/NOUN 收购/VERB 南非/PROPN 的/PART MTN/PROPN 。/PUNCT\n",
      "此前/ADV 在/ADP 对/ADP Millicom/PROPN\n",
      "\n",
      "International/PROPN\n",
      "\n",
      "Cellular(/VERB 以下/ADV 简称/VERB “/PUNCT Millicom/PROPN ”/PUNCT )/NOUN 的/PART 竞购战/NOUN 中/PART ，/PUNCT Investcom/PROPN 公司/NOUN 提出/VERB 了/PART 逾/VERB 50亿/NUM 美元/NUM 的/PART 报价/NOUN ，/PUNCT 成为/VERB 有/VERB 可能/NOUN 最终/ADV 击败/VERB 中国/PROPN 移动/NOUN 的/PART 对手/NOUN 。/PUNCT\n",
      "而/ADV 现在/NOUN Investcom/PROPN 公司/NOUN 转而/ADV 收购/VERB MTN/PROPN ，/PUNCT 意味着/VERB 中国/PROPN 移动/NOUN 在/ADP 竞购/VERB Millicom/PROPN 的/PART 过程/NOUN 中将/PART 占据/VERB 有利/ADJ 位置/NOUN 。/PUNCT\n",
      "据/ADP 消息/NOUN 人士/NOUN 称/VERB ，/PUNCT 此前/ADV Investcom/PROPN 向/ADP Millicom/PROPN 提交/VERB 的/PART 报价/NOUN 高于/VERB 中国/PROPN 移动/NOUN 和/CCONJ 其它/DET 竞购/NOUN 对手/NOUN 。/PUNCT\n",
      "\n",
      "Millicom/PROPN 是/VERB 一家/ADV 在/ADP 纳斯达克/PROPN 上市/VERB 的/PART 国际/NOUN 移动/NOUN 通信/NOUN 运营商/NOUN ，/PUNCT 由/ADP 瑞典/PROPN 电信/NOUN 和/CCONJ 媒体/NOUN 集团/NOUN Kinnevik/PROPN 控股/NOUN ，/PUNCT 目前/NOUN 市值/NOUN 约/ADV 49亿/NUM 美元/NUM 。/PUNCT\n",
      "中国/PROPN 移动/NOUN 表示/VERB ，/PUNCT Millicom/PROPN 股价/NOUN 的/PART 大幅/ADJ 增长/NOUN ，/PUNCT 从/ADP 很/ADV 大/ADJ 程度/NOUN 上/PART 是/VERB 受/VERB 收购/NOUN 传闻/NOUN 的/PART 推动/NOUN 。/PUNCT\n"
     ]
    }
   ],
   "source": [
    "print(creader.raw(fileids=['IT/1044.txt']))"
   ]
  },
  {
   "cell_type": "markdown",
   "id": "67d8707c-6212-4328-ba18-5acef32678d9",
   "metadata": {},
   "source": [
    "#### **Jaccard**相似度"
   ]
  },
  {
   "cell_type": "code",
   "execution_count": 23,
   "id": "f4d375cf-9760-4f53-a479-e936c3f2731b",
   "metadata": {},
   "outputs": [],
   "source": [
    "from sklearn.metrics import jaccard_score"
   ]
  },
  {
   "cell_type": "code",
   "execution_count": 25,
   "id": "c20f03ed-c44c-413e-8aed-6b5951ca61cc",
   "metadata": {},
   "outputs": [
    {
     "name": "stdout",
     "output_type": "stream",
     "text": [
      "Jaccard Similarity: 0.01\n"
     ]
    }
   ],
   "source": [
    "# 计算 Jaccard 相似度\n",
    "jaccard_similarity = jaccard_score(binary_matrix[20], binary_matrix[50], average='binary')\n",
    "\n",
    "print(\"Jaccard Similarity:\", jaccard_similarity)"
   ]
  },
  {
   "cell_type": "markdown",
   "id": "cb430621-97a9-45d3-a890-19ebe559d806",
   "metadata": {},
   "source": [
    "#### **余弦相似度**"
   ]
  },
  {
   "cell_type": "code",
   "execution_count": 35,
   "id": "5bd9c80a-dc23-400f-b959-47ceade3ee8d",
   "metadata": {},
   "outputs": [],
   "source": [
    "# 使用scikit learn计算"
   ]
  },
  {
   "cell_type": "code",
   "execution_count": 26,
   "id": "e64cfda8-8a44-4b79-97d9-65c72d2272c8",
   "metadata": {},
   "outputs": [],
   "source": [
    "from sklearn.metrics.pairwise import cosine_similarity"
   ]
  },
  {
   "cell_type": "code",
   "execution_count": 28,
   "id": "16ab7656-e552-4eda-822b-ff9729297913",
   "metadata": {},
   "outputs": [
    {
     "data": {
      "text/plain": [
       "array([[0.00652492]])"
      ]
     },
     "execution_count": 28,
     "metadata": {},
     "output_type": "execute_result"
    }
   ],
   "source": [
    "cosine_similarity(tfidf_matrix[20], tfidf_matrix[50])"
   ]
  },
  {
   "cell_type": "code",
   "execution_count": null,
   "id": "f355b605-9f2f-41ae-8d0e-8a8c0e94a85c",
   "metadata": {},
   "outputs": [],
   "source": [
    "# 使用numpy进行计算"
   ]
  },
  {
   "cell_type": "code",
   "execution_count": 29,
   "id": "ceaa6981-40b4-45f0-9686-0fb0d25a054a",
   "metadata": {},
   "outputs": [],
   "source": [
    "import numpy as np"
   ]
  },
  {
   "cell_type": "code",
   "execution_count": 34,
   "id": "00a70b63-3a35-4d71-85d9-bee7d08e1a28",
   "metadata": {},
   "outputs": [
    {
     "name": "stdout",
     "output_type": "stream",
     "text": [
      "Cosine Similarity: 0.00652492138880123\n"
     ]
    }
   ],
   "source": [
    "vector_a = tfidf_matrix[20].toarray()[0]\n",
    "vector_b = tfidf_matrix[50].toarray()[0]\n",
    "\n",
    "# 计算向量的点积\n",
    "dot_product = np.dot(vector_a, vector_b)\n",
    "\n",
    "# 计算向量的 L2 范数\n",
    "norm_a = np.linalg.norm(vector_a)\n",
    "norm_b = np.linalg.norm(vector_b)\n",
    "\n",
    "# 计算余弦相似度\n",
    "cosine_similarity = dot_product / (norm_a * norm_b)\n",
    "\n",
    "print(\"Cosine Similarity:\", cosine_similarity)"
   ]
  },
  {
   "cell_type": "markdown",
   "id": "070012a3-01ef-46eb-a514-cf39f40aafb6",
   "metadata": {},
   "source": [
    "#### **欧氏距离**"
   ]
  },
  {
   "cell_type": "code",
   "execution_count": 38,
   "id": "500d9cda-2ea2-46a3-a261-2ced792fa463",
   "metadata": {},
   "outputs": [],
   "source": [
    "# 使用scikit learn计算"
   ]
  },
  {
   "cell_type": "code",
   "execution_count": 36,
   "id": "cde581c2-714c-42f5-b2a2-c97144f473c0",
   "metadata": {},
   "outputs": [],
   "source": [
    "from sklearn.metrics.pairwise import euclidean_distances"
   ]
  },
  {
   "cell_type": "code",
   "execution_count": 37,
   "id": "1e1b3cbe-84bb-48c5-80a2-c19e9c04b1e6",
   "metadata": {},
   "outputs": [
    {
     "data": {
      "text/plain": [
       "array([[1.4095922]])"
      ]
     },
     "execution_count": 37,
     "metadata": {},
     "output_type": "execute_result"
    }
   ],
   "source": [
    "euclidean_distances(tfidf_matrix[20], tfidf_matrix[50])"
   ]
  },
  {
   "cell_type": "code",
   "execution_count": 39,
   "id": "326f8e07-57d4-4b03-8944-5d76686d6870",
   "metadata": {},
   "outputs": [],
   "source": [
    "# 使用numpy进行计算"
   ]
  },
  {
   "cell_type": "code",
   "execution_count": 40,
   "id": "ec7a4ba6-660b-4080-aa03-caa489f7d595",
   "metadata": {},
   "outputs": [],
   "source": [
    "vector_a = tfidf_matrix[20].toarray()[0]\n",
    "vector_b = tfidf_matrix[50].toarray()[0]"
   ]
  },
  {
   "cell_type": "code",
   "execution_count": 41,
   "id": "6eeea997-52f2-4b36-acbf-871c2df4a311",
   "metadata": {},
   "outputs": [
    {
     "name": "stdout",
     "output_type": "stream",
     "text": [
      "Euclidean Distance: 1.4095921953609127\n"
     ]
    }
   ],
   "source": [
    "# 计算向量之间的差\n",
    "vector_diff = vector_a - vector_b\n",
    "\n",
    "# 计算差向量的 L2 范数（即欧氏距离）\n",
    "euclidean_distance = np.linalg.norm(vector_diff)\n",
    "\n",
    "print(\"Euclidean Distance:\", euclidean_distance)"
   ]
  },
  {
   "cell_type": "code",
   "execution_count": null,
   "id": "5b1269b6-af0b-4afc-8505-4dad6b5d823b",
   "metadata": {},
   "outputs": [],
   "source": []
  }
 ],
 "metadata": {
  "kernelspec": {
   "display_name": "Python 3 (ipykernel)",
   "language": "python",
   "name": "python3"
  },
  "language_info": {
   "codemirror_mode": {
    "name": "ipython",
    "version": 3
   },
   "file_extension": ".py",
   "mimetype": "text/x-python",
   "name": "python",
   "nbconvert_exporter": "python",
   "pygments_lexer": "ipython3",
   "version": "3.9.7"
  }
 },
 "nbformat": 4,
 "nbformat_minor": 5
}
