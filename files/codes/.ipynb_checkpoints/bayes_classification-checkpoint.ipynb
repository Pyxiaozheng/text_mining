{
 "cells": [
  {
   "cell_type": "markdown",
   "id": "2df7bc53-b016-42ce-8e73-44f19a26b91b",
   "metadata": {},
   "source": [
    "<center><font size=4 style=\"color:#BA4A00\"><strong>中文体育新闻二分类 （伯努利朴素贝叶斯）</strong></font></center>"
   ]
  },
  {
   "cell_type": "markdown",
   "id": "0708b5f0-95e9-4e82-a852-37e085187a16",
   "metadata": {},
   "source": [
    "### 导入中文新闻语料库"
   ]
  },
  {
   "cell_type": "code",
   "execution_count": 1,
   "id": "8b31dbac-1e41-43ea-9460-670fd3cf6b3e",
   "metadata": {},
   "outputs": [],
   "source": [
    "from nltk.corpus.reader import CategorizedTaggedCorpusReader"
   ]
  },
  {
   "cell_type": "code",
   "execution_count": 2,
   "id": "cd81ab16-1b2c-418d-a3e4-f6dd24b4eb18",
   "metadata": {},
   "outputs": [],
   "source": [
    "creader = CategorizedTaggedCorpusReader('./cn_news_tagged/', '.*',cat_pattern = r'(.+)/.+txt')"
   ]
  },
  {
   "cell_type": "code",
   "execution_count": 3,
   "id": "7371a978-1235-416e-b957-f0598f9940ff",
   "metadata": {},
   "outputs": [],
   "source": [
    "import re\n",
    "import string"
   ]
  },
  {
   "cell_type": "code",
   "execution_count": 4,
   "id": "bad168d0-ddcd-437c-ab36-f88302853d6b",
   "metadata": {},
   "outputs": [],
   "source": [
    "zh_char = re.compile(r'[\\u4e00-\\u9fa5]')"
   ]
  },
  {
   "cell_type": "code",
   "execution_count": 5,
   "id": "e7cf007b-83f4-4558-8a1b-d94fe4daf165",
   "metadata": {},
   "outputs": [],
   "source": [
    "with open('./stopwords.txt') as f:\n",
    "    stopwords = f.read().strip().split()\n",
    "    \n",
    "domain_stopwords = ['记者', '报道']"
   ]
  },
  {
   "cell_type": "code",
   "execution_count": 6,
   "id": "4f8dd33a-2d36-4189-9701-30db2a44eabd",
   "metadata": {},
   "outputs": [],
   "source": [
    "cn_filter = lambda item: len(zh_char.findall(item)) > 1 and item not in (stopwords + domain_stopwords) and not set(item) & set(string.punctuation)"
   ]
  },
  {
   "cell_type": "markdown",
   "id": "e5ecb836-7d25-444b-9a00-b6be35113295",
   "metadata": {},
   "source": [
    "### 构造标注数据集"
   ]
  },
  {
   "cell_type": "code",
   "execution_count": 7,
   "id": "80e41a68-1ad9-44b5-823d-4cf1b510ae38",
   "metadata": {},
   "outputs": [],
   "source": [
    "# 设置随机数种子，便于复现结果\n",
    "import random\n",
    "random.seed(100)"
   ]
  },
  {
   "cell_type": "code",
   "execution_count": 8,
   "id": "8909ff3b-3ea6-4fe9-a9f7-ea04d5efc50a",
   "metadata": {},
   "outputs": [],
   "source": [
    "# 随机采样1200条Sports新闻作为正样本\n",
    "sport_files = creader.fileids(categories=['Sports'])\n",
    "random.shuffle(sport_files)\n",
    "sport_docs = []\n",
    "for file_id in sport_files[:1200]:\n",
    "    doc = creader.words(fileids=[file_id])\n",
    "    clean_doc = list(filter(cn_filter, doc))\n",
    "    sport_docs.append(clean_doc)"
   ]
  },
  {
   "cell_type": "code",
   "execution_count": 9,
   "id": "33ac072c-031b-4c8f-9771-820b55086328",
   "metadata": {},
   "outputs": [],
   "source": [
    "# 随机采样1200条非Sports新闻作为负样本\n",
    "other_files = creader.fileids(categories=['Travel', 'Finance', 'Health'])\n",
    "random.shuffle(other_files)\n",
    "other_docs = []\n",
    "for file_id in other_files[:1200]:\n",
    "    doc = creader.words(fileids=[file_id])\n",
    "    clean_doc = list(filter(cn_filter, doc))\n",
    "    other_docs.append(clean_doc)"
   ]
  },
  {
   "cell_type": "code",
   "execution_count": 10,
   "id": "a41e2a56-d63a-45d7-bc55-6741153c8778",
   "metadata": {},
   "outputs": [],
   "source": [
    "assert len(sport_docs) == 1200\n",
    "assert len(other_docs) == 1200"
   ]
  },
  {
   "cell_type": "markdown",
   "id": "7d0502ad-b661-411b-8746-ab0401c830d5",
   "metadata": {},
   "source": [
    "### 文本向量化"
   ]
  },
  {
   "cell_type": "code",
   "execution_count": 11,
   "id": "e408c852-f6d6-4bb8-8357-a1e59280cc64",
   "metadata": {},
   "outputs": [],
   "source": [
    "from sklearn.model_selection import train_test_split"
   ]
  },
  {
   "cell_type": "code",
   "execution_count": 12,
   "id": "f3746c9a-80c6-46cd-94e9-f95715d59ffb",
   "metadata": {},
   "outputs": [],
   "source": [
    "X = sport_docs + other_docs"
   ]
  },
  {
   "cell_type": "code",
   "execution_count": 13,
   "id": "ff840782-98c1-4fa3-853d-9feaaaa9d55c",
   "metadata": {},
   "outputs": [],
   "source": [
    "# S表示标签Sports, O表示标签Other\n",
    "y = ['S'] * 1200 + ['O'] * 1200"
   ]
  },
  {
   "cell_type": "code",
   "execution_count": 14,
   "id": "5fc3dab1-953b-4775-865a-29f7851fd58f",
   "metadata": {},
   "outputs": [],
   "source": [
    "X_train, X_test, y_train, y_test = train_test_split(X, y, test_size=0.2, random_state=100)"
   ]
  },
  {
   "cell_type": "code",
   "execution_count": 15,
   "id": "067f85d5-5d29-4682-9df6-50e14d43aa6d",
   "metadata": {},
   "outputs": [],
   "source": [
    "import numpy as np\n",
    "from sklearn.feature_extraction.text import CountVectorizer"
   ]
  },
  {
   "cell_type": "code",
   "execution_count": 16,
   "id": "053219d0-7dd8-4c30-8bb0-bbf29d5bcec8",
   "metadata": {},
   "outputs": [],
   "source": [
    "# 将训练集向量化，二进制词频矩阵\n",
    "count_vectorizer = CountVectorizer(tokenizer=lambda text:text, lowercase=False, min_df = 5)\n",
    "X_train_count_matrix = count_vectorizer.fit_transform(X_train)\n",
    "X_train_binary_matrix = np.where(X_train_count_matrix.toarray() > 0, 1, 0)"
   ]
  },
  {
   "cell_type": "code",
   "execution_count": 17,
   "id": "ef95decb-737b-4b22-a4e5-425b51a01a15",
   "metadata": {},
   "outputs": [
    {
     "data": {
      "text/plain": [
       "(1920, 9359)"
      ]
     },
     "execution_count": 17,
     "metadata": {},
     "output_type": "execute_result"
    }
   ],
   "source": [
    "X_train_binary_matrix.shape"
   ]
  },
  {
   "cell_type": "code",
   "execution_count": 18,
   "id": "a69dc5bf-822a-4deb-a30f-2aa703a9b19d",
   "metadata": {},
   "outputs": [
    {
     "name": "stdout",
     "output_type": "stream",
     "text": [
      "[[0 0 0 ... 0 0 0]\n",
      " [0 0 0 ... 0 0 0]\n",
      " [0 0 0 ... 0 0 0]\n",
      " ...\n",
      " [0 0 0 ... 0 0 0]\n",
      " [0 0 0 ... 0 0 0]\n",
      " [0 0 0 ... 0 0 0]]\n"
     ]
    }
   ],
   "source": [
    "print(X_train_binary_matrix)"
   ]
  },
  {
   "cell_type": "code",
   "execution_count": 19,
   "id": "cf57d752-ddb1-44c5-99d3-4ff242a0f5b7",
   "metadata": {},
   "outputs": [],
   "source": [
    "# 将测试集向量化，二进制词频矩阵"
   ]
  },
  {
   "cell_type": "code",
   "execution_count": 20,
   "id": "3fa2731d-5609-4a57-a437-7324bd9c6cc7",
   "metadata": {},
   "outputs": [],
   "source": [
    "X_test_count_matrix = count_vectorizer.transform(X_test)\n",
    "X_test_binary_matrix = np.where(X_test_count_matrix.toarray() > 0, 1, 0)"
   ]
  },
  {
   "cell_type": "code",
   "execution_count": 21,
   "id": "33bcaf61-47b6-4202-bdfe-c7aff889b22c",
   "metadata": {},
   "outputs": [
    {
     "data": {
      "text/plain": [
       "(480, 9359)"
      ]
     },
     "execution_count": 21,
     "metadata": {},
     "output_type": "execute_result"
    }
   ],
   "source": [
    "X_test_binary_matrix.shape"
   ]
  },
  {
   "cell_type": "code",
   "execution_count": 22,
   "id": "cae2834c-0a77-4b42-9f8d-0399617525c0",
   "metadata": {},
   "outputs": [
    {
     "name": "stdout",
     "output_type": "stream",
     "text": [
      "[[0 0 0 ... 0 0 0]\n",
      " [0 0 0 ... 0 0 0]\n",
      " [0 0 0 ... 0 0 0]\n",
      " ...\n",
      " [0 0 0 ... 0 0 0]\n",
      " [0 0 0 ... 0 0 0]\n",
      " [0 0 0 ... 0 0 0]]\n"
     ]
    }
   ],
   "source": [
    "print(X_test_binary_matrix)"
   ]
  },
  {
   "cell_type": "markdown",
   "id": "14b8b3ff-24f5-4407-a96a-5868a79c8fbc",
   "metadata": {},
   "source": [
    "### 训练和测试文本二分类器"
   ]
  },
  {
   "cell_type": "code",
   "execution_count": 23,
   "id": "d304fd65-c7b9-4d91-ab20-1d7bfc4f5a37",
   "metadata": {},
   "outputs": [],
   "source": [
    "from sklearn.naive_bayes import BernoulliNB\n",
    "from sklearn.metrics import accuracy_score, confusion_matrix"
   ]
  },
  {
   "cell_type": "code",
   "execution_count": 24,
   "id": "f43fd87c-593e-49f2-94ca-da701ecc1121",
   "metadata": {},
   "outputs": [
    {
     "name": "stdout",
     "output_type": "stream",
     "text": [
      "Accuracy: 0.98125\n",
      "Confusion Matrix:\n",
      " [[216   8]\n",
      " [  1 255]]\n"
     ]
    }
   ],
   "source": [
    "# 使用伯努利贝叶斯进行分类\n",
    "clf = BernoulliNB()\n",
    "clf.fit(X_train_binary_matrix, y_train)\n",
    "\n",
    "# 在测试集上进行预测\n",
    "y_pred = clf.predict(X_test_binary_matrix)\n",
    "\n",
    "# 评估分类器性能\n",
    "accuracy = accuracy_score(y_test, y_pred)\n",
    "confusion = confusion_matrix(y_test, y_pred)\n",
    "\n",
    "print(\"Accuracy:\", accuracy)\n",
    "print(\"Confusion Matrix:\\n\", confusion)"
   ]
  },
  {
   "cell_type": "code",
   "execution_count": 25,
   "id": "4d884b85-2a2c-4ede-b4d2-7595f8f0f862",
   "metadata": {},
   "outputs": [
    {
     "data": {
      "text/plain": [
       "array(['O', 'S'], dtype='<U1')"
      ]
     },
     "execution_count": 25,
     "metadata": {},
     "output_type": "execute_result"
    }
   ],
   "source": [
    "clf.classes_"
   ]
  },
  {
   "cell_type": "code",
   "execution_count": 26,
   "id": "4606a8f6-4eff-46ea-9f8a-50d470cddb51",
   "metadata": {},
   "outputs": [],
   "source": [
    "# 混淆矩阵含义如下\n",
    "# 行表示True\n",
    "# 列表示Predicted"
   ]
  },
  {
   "cell_type": "code",
   "execution_count": 27,
   "id": "57f650c7-43c1-4bdf-a396-5cb0d6c9259b",
   "metadata": {},
   "outputs": [],
   "source": [
    "# 255表示把测试集中256条体育新闻中的255条正确地分类为Sports\n",
    "# 8  表示把测试集中224条其他新闻中的 8 条错误地分类为Sports"
   ]
  }
 ],
 "metadata": {
  "kernelspec": {
   "display_name": "Python 3 (ipykernel)",
   "language": "python",
   "name": "python3"
  },
  "language_info": {
   "codemirror_mode": {
    "name": "ipython",
    "version": 3
   },
   "file_extension": ".py",
   "mimetype": "text/x-python",
   "name": "python",
   "nbconvert_exporter": "python",
   "pygments_lexer": "ipython3",
   "version": "3.9.7"
  }
 },
 "nbformat": 4,
 "nbformat_minor": 5
}
