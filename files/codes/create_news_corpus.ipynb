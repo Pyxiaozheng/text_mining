{
 "cells": [
  {
   "cell_type": "markdown",
   "id": "c3870d15-4ead-4413-bde4-7eaa82e09f3d",
   "metadata": {},
   "source": [
    "<center><font size=4 style=\"color:#BA4A00\"><strong>创建中文新闻分类语料库</strong></font></center>"
   ]
  },
  {
   "cell_type": "markdown",
   "id": "ae004ece-5430-4f1d-88de-1d15cb4a1562",
   "metadata": {},
   "source": [
    "### 1. 构建结构化语料库"
   ]
  },
  {
   "cell_type": "markdown",
   "id": "5294ad45-6885-47c9-9a22-7ab5abce480e",
   "metadata": {},
   "source": [
    "使用NLTK中语料库`CategorizedTaggedCorpusReader`API创建中文新闻分类标注语料库，便于高效组织文本语料，计算文本词汇统计量。\n",
    "\n",
    "\n",
    "`CategorizedTaggedCorpusReader`的用法可参考如下资料：\n",
    "\n",
    "- https://www.nltk.org/api/nltk.corpus.reader.tagged.html#nltk.corpus.reader.tagged.CategorizedTaggedCorpusReader.__init__\n",
    "- https://www.nltk.org/api/nltk.corpus.reader.api.html#nltk.corpus.reader.api.CategorizedCorpusReader\n",
    "- https://www.nltk.org/_modules/nltk/corpus/reader/tagged.html#CategorizedTaggedCorpusReader.__init__\n",
    "- https://www.geeksforgeeks.org/nlp-categorized-text-corpus/"
   ]
  },
  {
   "cell_type": "code",
   "execution_count": 1,
   "id": "c4af09f1-8e72-4c0d-8b1b-b23a0f8c9746",
   "metadata": {},
   "outputs": [],
   "source": [
    "from nltk.corpus.reader import CategorizedTaggedCorpusReader"
   ]
  },
  {
   "cell_type": "code",
   "execution_count": 2,
   "id": "368a31ca-9410-488b-8b8f-f183102c3100",
   "metadata": {},
   "outputs": [],
   "source": [
    "creader = CategorizedTaggedCorpusReader('./cn_news_tagged/', '.*',cat_pattern = r'(.+)/.+txt')"
   ]
  },
  {
   "cell_type": "markdown",
   "id": "2c611731-1338-4fbc-8771-a722151d93ff",
   "metadata": {},
   "source": [
    "### 2. 从多种视图查看语料库"
   ]
  },
  {
   "cell_type": "markdown",
   "id": "c09e71eb-5cfc-43dc-bc54-eed1499cd71b",
   "metadata": {},
   "source": [
    "使用NLTK中的语料库管理功能，从多个视图结构化查阅所构建的中文新闻语料库。\n",
    "\n",
    "#### 2.1 基本查阅功能\n",
    "\n",
    "NLTK中基本的语料库查阅方法如下：\n",
    " - https://www.nltk.org/book/ch02.html#tab-corpus"
   ]
  },
  {
   "cell_type": "markdown",
   "id": "61a49eb1-022d-476a-aa79-4ae5ef746542",
   "metadata": {},
   "source": [
    "<table border=\"1\" class=\"docutils\" id=\"tab-corpus\">\n",
    "<colgroup>\n",
    "<col width=\"35%\">\n",
    "<col width=\"65%\">\n",
    "</colgroup>\n",
    "<thead valign=\"bottom\">\n",
    "<tr><th class=\"head\">Example</th>\n",
    "<th class=\"head\">Description</th>\n",
    "</tr>\n",
    "</thead>\n",
    "<tbody valign=\"top\">\n",
    "<tr><td><tt class=\"doctest\"><span class=\"pre\">fileids()</span></tt></td>\n",
    "<td>the files of the corpus</td>\n",
    "</tr>\n",
    "<tr><td><tt class=\"doctest\"><span class=\"pre\">fileids([categories])</span></tt></td>\n",
    "<td>the files of the corpus corresponding to these categories</td>\n",
    "</tr>\n",
    "<tr><td><tt class=\"doctest\"><span class=\"pre\">categories()</span></tt></td>\n",
    "<td>the categories of the corpus</td>\n",
    "</tr>\n",
    "<tr><td><tt class=\"doctest\"><span class=\"pre\">categories([fileids])</span></tt></td>\n",
    "<td>the categories of the corpus corresponding to these files</td>\n",
    "</tr>\n",
    "<tr><td><tt class=\"doctest\"><span class=\"pre\">raw()</span></tt></td>\n",
    "<td>the raw content of the corpus</td>\n",
    "</tr>\n",
    "<tr><td><tt class=\"doctest\"><span class=\"pre\">raw(fileids=[f1,f2,f3])</span></tt></td>\n",
    "<td>the raw content of the specified files</td>\n",
    "</tr>\n",
    "<tr><td><tt class=\"doctest\"><span class=\"pre\">raw(categories=[c1,c2])</span></tt></td>\n",
    "<td>the raw content of the specified categories</td>\n",
    "</tr>\n",
    "<tr><td><tt class=\"doctest\"><span class=\"pre\">words()</span></tt></td>\n",
    "<td>the words of the whole corpus</td>\n",
    "</tr>\n",
    "<tr><td><tt class=\"doctest\"><span class=\"pre\">words(fileids=[f1,f2,f3])</span></tt></td>\n",
    "<td>the words of the specified fileids</td>\n",
    "</tr>\n",
    "<tr><td><tt class=\"doctest\"><span class=\"pre\">words(categories=[c1,c2])</span></tt></td>\n",
    "<td>the words of the specified categories</td>\n",
    "</tr>\n",
    "<tr><td><tt class=\"doctest\"><span class=\"pre\">sents()</span></tt></td>\n",
    "<td>the sentences of the whole corpus</td>\n",
    "</tr>\n",
    "<tr><td><tt class=\"doctest\"><span class=\"pre\">sents(fileids=[f1,f2,f3])</span></tt></td>\n",
    "<td>the sentences of the specified fileids</td>\n",
    "</tr>\n",
    "<tr><td><tt class=\"doctest\"><span class=\"pre\">sents(categories=[c1,c2])</span></tt></td>\n",
    "<td>the sentences of the specified categories</td>\n",
    "</tr>\n",
    "<tr><td><tt class=\"doctest\"><span class=\"pre\">abspath(fileid)</span></tt></td>\n",
    "<td>the location of the given file on disk</td>\n",
    "</tr>\n",
    "<tr><td><tt class=\"doctest\"><span class=\"pre\">encoding(fileid)</span></tt></td>\n",
    "<td>the encoding of the file (if known)</td>\n",
    "</tr>\n",
    "<tr><td><tt class=\"doctest\"><span class=\"pre\">open(fileid)</span></tt></td>\n",
    "<td>open a stream for reading the given corpus file</td>\n",
    "</tr>\n",
    "<tr><td><tt class=\"doctest\"><span class=\"pre\">root</span></tt></td>\n",
    "<td>if the path to the root of locally installed corpus</td>\n",
    "</tr>\n",
    "<tr><td><tt class=\"doctest\"><span class=\"pre\">readme()</span></tt></td>\n",
    "<td>the contents of the README file of the corpus</td>\n",
    "</tr>\n",
    "</tbody>\n",
    "\n",
    "\n",
    "</table>"
   ]
  },
  {
   "cell_type": "code",
   "execution_count": 3,
   "id": "168fb6d5-102e-4253-9b60-499e090b37d5",
   "metadata": {},
   "outputs": [
    {
     "data": {
      "text/plain": [
       "['Culture/10.txt',\n",
       " 'Culture/100.txt',\n",
       " 'Culture/1000.txt',\n",
       " 'Culture/1001.txt',\n",
       " 'Culture/1002.txt',\n",
       " 'Culture/1003.txt',\n",
       " 'Culture/1004.txt',\n",
       " 'Culture/1005.txt',\n",
       " 'Culture/1006.txt',\n",
       " 'Culture/1007.txt']"
      ]
     },
     "execution_count": 3,
     "metadata": {},
     "output_type": "execute_result"
    }
   ],
   "source": [
    "creader.fileids()[:10]"
   ]
  },
  {
   "cell_type": "code",
   "execution_count": 4,
   "id": "4262d752-c05b-42ed-8be9-38cea03b5f02",
   "metadata": {},
   "outputs": [
    {
     "data": {
      "text/plain": [
       "['Culture',\n",
       " 'Education',\n",
       " 'Finance',\n",
       " 'Health',\n",
       " 'IT',\n",
       " 'Military',\n",
       " 'Recruit',\n",
       " 'Sports',\n",
       " 'Travel']"
      ]
     },
     "execution_count": 4,
     "metadata": {},
     "output_type": "execute_result"
    }
   ],
   "source": [
    "creader.categories()"
   ]
  },
  {
   "cell_type": "code",
   "execution_count": 5,
   "id": "6414d9e6-6b22-45b4-9936-433bebf86452",
   "metadata": {},
   "outputs": [
    {
     "data": {
      "text/plain": [
       "['Culture/109.txt',\n",
       " 'Culture/1090.txt',\n",
       " 'Culture/1091.txt',\n",
       " 'Culture/1092.txt',\n",
       " 'Culture/1093.txt',\n",
       " 'Culture/1094.txt',\n",
       " 'Culture/1095.txt',\n",
       " 'Culture/1096.txt',\n",
       " 'Culture/1097.txt',\n",
       " 'Culture/1098.txt']"
      ]
     },
     "execution_count": 5,
     "metadata": {},
     "output_type": "execute_result"
    }
   ],
   "source": [
    "creader.fileids(['Culture', 'IT'])[100:110]"
   ]
  },
  {
   "cell_type": "code",
   "execution_count": 6,
   "id": "50458eeb-61da-4cf6-b0c1-0d6dd507955b",
   "metadata": {},
   "outputs": [
    {
     "data": {
      "text/plain": [
       "['IT/90.txt',\n",
       " 'IT/900.txt',\n",
       " 'IT/901.txt',\n",
       " 'IT/902.txt',\n",
       " 'IT/903.txt',\n",
       " 'IT/904.txt',\n",
       " 'IT/905.txt',\n",
       " 'IT/906.txt',\n",
       " 'IT/907.txt',\n",
       " 'IT/908.txt']"
      ]
     },
     "execution_count": 6,
     "metadata": {},
     "output_type": "execute_result"
    }
   ],
   "source": [
    "creader.fileids(['Culture', 'IT'])[-110:-100]"
   ]
  },
  {
   "cell_type": "code",
   "execution_count": 7,
   "id": "ced38118-8015-41ec-8e9c-64e8423a50d1",
   "metadata": {},
   "outputs": [
    {
     "data": {
      "text/plain": [
       "['Culture', 'IT']"
      ]
     },
     "execution_count": 7,
     "metadata": {},
     "output_type": "execute_result"
    }
   ],
   "source": [
    "creader.categories(['IT/90.txt','IT/900.txt','Culture/1095.txt','Culture/1096.txt'])"
   ]
  },
  {
   "cell_type": "code",
   "execution_count": 8,
   "id": "c6d4e5e6-70da-469d-bc8f-1f56305db498",
   "metadata": {},
   "outputs": [
    {
     "data": {
      "text/plain": [
       "'从/ADP 今天/NOUN 的/PART 影响/NOUN 来看/PART ，/PUNCT 2004年/NOUN 创立/VERB 的/PART \"/PUNCT 数字/NOUN 炼金馆/NOUN \"/PUNCT 无疑/ADV 是/VERB \"数/PRON 独\"/NOUN 兴起/ADJ 历程/NOUN 中/PART 一个/NUM 标志性/ADJ 事件/NOUN ，/PUNCT 尽管/SCONJ 它/PRON 当初/ADV 不过/ADV 是/VERB 数独/NOUN 天才们/NOUN 互相/ADV 诘难/VERB 的/PART 产物/NOUN 。/PUNCT\\n\\u3000\\u3000/SPACE 随着/ADP 不断/AD'"
      ]
     },
     "execution_count": 8,
     "metadata": {},
     "output_type": "execute_result"
    }
   ],
   "source": [
    "creader.raw()[:300]"
   ]
  },
  {
   "cell_type": "code",
   "execution_count": 9,
   "id": "dd5fa636-fcec-4f0f-9c2f-5e0db8d0159b",
   "metadata": {},
   "outputs": [
    {
     "data": {
      "text/plain": [
       "'ERB 小费/NOUN ，/PUNCT 旺季/NOUN 的/PART 时候/NOUN ，/PUNCT 带/VERB 一个/NUM 团/NOUN 一/NUM 天/NUM 小费/NOUN 也/ADV 有/VERB 300/NUM 元/NUM 人民币/NOUN ，/PUNCT 照此计算/VERB ，/PUNCT 一个/ADV 小语/NOUN 种/NUM 导游/NOUN ，/PUNCT 在/ADP 旺季/NOUN 的/PART 时候/NOUN 一个/ADV 月/NOUN 的/PART 工资/NOUN 可/VERB 高达/VERB 6000~10000/NUM 元/NUM 不等/VERB 。/PUNCT'"
      ]
     },
     "execution_count": 9,
     "metadata": {},
     "output_type": "execute_result"
    }
   ],
   "source": [
    "creader.raw()[-300:]"
   ]
  },
  {
   "cell_type": "code",
   "execution_count": 10,
   "id": "20d8a63e-a2bf-4c49-9feb-5f0b0307e80c",
   "metadata": {},
   "outputs": [
    {
     "data": {
      "text/plain": [
       "' 工作/NOUN ，/PUNCT 正/ADV 准备/VERB 离开/VERB 长岛/NOUN ，/PUNCT 而/ADV 徐/PROPN 先生/NOUN 一个/NUM 人/NOUN 住/VERB 在/ADP 皇后区/NOUN 的/PART 亲属家/NOUN ，/PUNCT 能/VERB 提供/VERB 住处/NOUN ；/PUNCT 其二/NOUN 是/VERB 当时/NOUN 她/PRON 老公/NOUN 的/PART 留学/NOUN 签证/NOUN 又/ADV 被/X 拒/VERB 了/PART ，/PUNCT 她/PRON 感到/VERB ，/PUNCT 自己/PRON \"/PUNCT 不得不/ADV 从/ADP 梦想/NOUN 中/PART 回到/VERB 现实/NOUN \"/PUNCT ，/PUNCT 便/ADV 选择/VERB 了/PART 能/VERB 解决/VERB 实际/ADJ 生活/NOUN 问题/NOUN 的/PART 同居/NOUN 。/PUNCT\\n\\n徐/PROPN 先生/NOUN 的/PART 朋友/NOUN 透露/VERB 说/VERB ，/PUNCT 在/'"
      ]
     },
     "execution_count": 10,
     "metadata": {},
     "output_type": "execute_result"
    }
   ],
   "source": [
    "creader.raw()[30000:30500]"
   ]
  },
  {
   "cell_type": "code",
   "execution_count": 11,
   "id": "086620a4-e988-4fdc-a92a-cd127908911e",
   "metadata": {},
   "outputs": [
    {
     "data": {
      "text/plain": [
       "'天极网/NOUN 5月/NOUN 6日/NOUN 消息/NOUN (孙/NOUN 淑艳/NOUN 编译/NOUN )/PROPN 据/ADP 外电/NOUN 报道/VERB ，/PUNCT 为了/ADP 强化/VERB 其/PRON 本地/NOUN 搜索/NOUN 和/CCONJ 在线/ADJ 地图/NOUN 服务/VERB ，/PUNCT 微软/PROPN 已经/ADV 收购/VERB 了/PART 一家/NUM 公司/NOUN ，/PUNCT 该/DET 公司/NOUN 的/PART 产品/NOUN 可以/VERB 利用/VERB 航拍/NOUN 和/CCONJ 卫星/NOUN 照片/NOUN 创建/VERB 地图/NOUN 。/PUNCT\\n\\n微软/PROPN 本周四/NOUN 公布/VERB 了/PART 收购/VERB Vexcel/PROPN 的/PART 消息/NOUN ，/PUNCT 但/ADV 没有/ADV 公布/VERB 这/DET 一/NUM 交易/NOUN 的/PART 相关/ADJ 财务/NOUN 资料/NOUN 。/PUNCT\\n微软/PROPN 期望/VERB Vexcel/PROPN 的/PART 产品/NOUN 和/CCONJ 技术/NOUN 能够/VERB 强化/VERB 其/PRON Windows/PROPN Live/NOUN Local/PROPN 服务/NOUN ，/PUNCT 使用户/NOUN 可以/VERB 更/ADV 方便/VERB 地/PART 查找/VERB 本地/NOUN 企业/NOUN 和/CCONJ 显示/VERB 在线/ADJ 地图/NOUN 。/PUNCT\\n\\nWindows/PROPN Live/PROPN Local/PROPN 是/VERB 微软/PROPN 在/ADP 竞争/NOUN 激烈/VERB 的/PART 本地/NOUN 搜索/NOUN 和/CCONJ 在线/ADJ 地图/NOUN 市场/NOUN 上/PART 推出/VERB 的/PART 产品/NOUN 。/PUNCT\\n包括/VERB 微软/PROPN 、/PUNCT 雅虎/PROPN 、/PUNCT Google/PROPN 、/PUNCT AOL/PROPN 、/PUNCT Ask.com/NOUN 在内/PART 的/PART 各/DET 大/ADJ 搜索/NOUN 服务/NOUN 提供/VERB 商都/NOUN 提供/VERB 整合/NOUN 有/VERB 在线/ADJ 地图/NOUN 的/PART 本地/NOUN 搜索/NOUN 服务/NOUN ，/PUNCT 并/CCONJ 对/ADP 这/DET 类/NUM 服务/NOUN 吸引/NOUN 的/PART 不断/ADJ 增长/VERB 的/PART 广告/NOUN 收入/NOUN 有着/VERB 强烈/ADJ 的/PART 兴趣/NOUN 。/PUNCT\\n本地/NOUN 搜索/NOUN 和/CCONJ 地图/NOUN 服务/VERB 相当于/VERB 互联网/NOUN 上/PART 的/PART 电话/NOUN 号码/NOUN 簿/VERB ，/PUNCT 用户/NOUN 可以/VERB 查找/VERB 特定/ADJ 地区/NOUN 的/PART 企业/NOUN ，/PUNCT 获得/VERB 行车/NOUN 路线/NOUN ，/PUNCT 有时/ADV 甚至/ADV 能够/VERB 获得/VERB 客户/NOUN 对/ADP 企业/NOUN 的/PART 评价/NOUN 。/PUNCT\\n\\n微软/PROPN 对/ADP Windows/PROPN Live/PROPN Local/PROPN 有着/VERB 很/ADV 高/ADJ 的/PART 期望/NOUN ，/PUNCT 希望/VERB 它/PRON 能够/VERB 向/ADP 消费者/NOUN 和/CCONJ 商业/NOUN 用户/NOUN 提供/VERB 所谓/ADJ 的/PART “/PUNCT 拟真/NOUN ”/PUNCT 体验/NOUN 。/PUNCT在/ADP 发达/ADJ 国家/NOUN 中/PART ，/PUNCT 对/ADP 中国/PROPN 经济/NOUN 发展/NOUN 抱/VERB 积极/ADJ 态度/NOUN 人数/NOUN 比例/NOUN 最多/VERB 的/PART 是/VERB 澳大利亚/PROPN ，/PUNCT 占/VERB 总数/NOUN 的/PART 56%/NOUN ，/PUNCT 接下来/ADV 依次/ADV 是/VERB 法国/PROPN 、/PUNCT 加拿大/PROPN 、/PUNCT 英国/PROPN 和/CCONJ 意大利/PROPN 。/PUNCT\\n\\n考蒂尔/NOUN 分析/VERB 说/VERB ，/PUNCT 从/ADP 这次/ADJ 调查/NOUN 结果/NOUN 可以/VERB 看出/VERB ，/PUNCT 对/ADP 中国/PROPN 的/PART 看法/NOUN 存在/VERB 明显/VERB 的/PART 地域/NOUN 区别/NOUN ，/PUNCT 多数/NUM 亚非拉/PROPN 发展中国家/NOUN 希望/VERB 中国/PROPN 经济/NOUN 强大/VERB ；/PUNCT 澳大利亚/PROPN 是/VERB 中国/PROPN 发展/VERB 的/PART 获益者/NOUN ，/PUNCT 所以/ADV 持/VERB 正面/ADJ 态度/NOUN ；/PUNCT 欧洲/PROPN 对/ADP 中国/PROPN 发展/VERB 的/PART 感情/NOUN 复杂/VERB 一些/ADV ，/PUNCT 而/ADV 在/ADP 北美/PROPN 则/ADV 出现/VERB 加拿大/PROPN 和/CCONJ 美国/PROPN 之间/PART 截然不同/VERB 的/PART 差异/NOUN 。/PUNCT\\n同时/ADV ，/PUNCT 阿拉伯/PROPN 国家/NOUN 的/PART 受访者/NOUN 以/ADP 压倒/ADJ 多数/NOUN 支持/VERB 中国/PROPN 发展/VERB ，/PUNCT 令人瞩目/VERB 。/PUNCT\\n\\n此外/ADV ，/PUNCT 从/ADP 受访者/NOUN 年龄/NOUN 层次/NOUN 上/PART 看/VERB ，/PUNCT 年轻/ADJ 的/PART 受访者/NOUN 更/ADV 倾向于/VERB 对/ADP 中国/PROPN 发展/VERB 持/VERB 积极/ADJ 态度/NOUN ，/PUNCT 18/NUM ─/PUNCT 29/NUM 岁/NUM 的/PART 青年人/NOUN 中/PART 有/VERB 58%/NOUN 的/PART 人/NOUN 认为/VERB 中国/PROPN 是/VERB 良性/ADJ 发展/NOUN ，/PUNCT 而/ADV 60/NUM 岁/NUM 以上/PART 人士/NOUN 抱/VERB 同样/ADJ 看法/NOUN 的/PART 只有/ADJ 43%/NOUN 。/PUNCT\\n从/ADP 受访者/NOUN 受/VERB 教育/NOUN 程度/NOUN 上/PART 看/VERB ，/PUNCT 越是/ADV 受/VERB 过/PART 高等/ADJ 教育/NOUN 的/PART 人/NOUN 越/ADV 积极/ADV 看待/VERB 中国/PROPN 的/PART 经济/NOUN 发展/NOUN ，/PUNCT 而/ADV 受/VERB 较/ADV 少/ADJ 教育/NOUN 的/PART 人/NOUN 则/ADV 对/ADP 中国/PROPN 发展/VERB 持/VERB 负面/ADJ 看法/NOUN 。/PUNCT\\n\\n中国/PROPN “/PUNCT 软力量/NOUN ”/PUNCT 更/ADV 能/VERB 影响/VERB 世界/NOUN\\n\\n考蒂尔/NOUN 强调/VERB ，/PUNCT 调查/NOUN 也/ADV 显示/VERB 了/PART 国际/NOUN 上/PART 对/ADP 中国/PROPN 强大/ADJ 后何/NOUN 去何/NOUN 从/ADP 的/PART 担心/NOUN ，/PUNCT 多数/NUM 国家/NOUN 都/ADV 对/ADP 中国/PROPN 可能/VERB 更加/ADV 强大/VERB 的/PART 军事/NOUN 力量/NOUN 持/VERB 消极/ADJ 态度/NOUN 。/PUNCT\\n她/PRON 认为/VERB ，/PUNCT 当今/NOUN 世界/NOUN 普遍/ADV 不/ADV 支持/VERB 用/ADP 军事/NOUN 手段/NOUN 解决/VERB 国际/NOUN 问题/NOUN ，/PUNCT 世界/NOUN 上/PART 大多数/NUM 人/NOUN 不/ADV 希望/VERB 中国/PROPN 通过/ADP 扩张/VERB 军事/NOUN 力量/NOUN 的/PART 方法/NOUN 取得/VERB 成功/NOUN ，/PUNCT 而/ADV 希望/VERB 中国/PROPN 通过/VERB “/PUNCT 软力量/NOUN ”/PUNCT (如/NOUN 经济/NOUN 、/PUNCT 文化/NOUN 和/CCONJ 外交/NOUN 力量/NOUN 等/PART )/NOUN 的/PART 形式/NOUN 扩大/VERB 国际/NOUN 影响力/NOUN 。/PUNCT\\n\\n一些/NUM 国际/NOUN 知名/ADJ 媒体/NOUN 和/CCONJ 专家/NOUN 认为/VERB ，/PUNCT 近年来/ADV 国际/NOUN 舆论/NOUN 围绕/VERB 中国/PROPN 展开/VERB 的/PART 辩论/NOUN 此起彼伏/NUM ，/PUNCT 显示/VERB 出/VERB 中国/PROPN 的/PART 发展/NOUN 对/ADP 世界/NOUN 格局/NOUN 的/PART 影响/NOUN 极为/ADV 深远/VERB 。/PUNCT\\n这/DET 一/NUM 次/NUM ，/PUNCT 一个/NUM 外国/NOUN 机构/NOUN 主动/ADV 对/ADP 中国/PROPN 进行/VERB 全球/NOUN 范围/NOUN 的/PART 影响力/NOUN 调查/NOUN ，/PUNCT 由此/ADV 就/ADV 可以/VERB 看出/VERB 中国/PROPN 在/ADP 世界/NOUN 上/PART 的/PART 影响力/NOUN 。/PUNCT\\n在/ADP 现实/NOUN 的/PART 国际/NOUN 环境/NOUN 中/PART ，/PUNCT 一/NUM 国/NOUN 的/PART 综合/ADJ 实力/NOUN 是/VERB 左右/VERB 国际/NOUN 舆论/NOUN 的/PART 关键/ADJ 砝码/PROPN 。/PUNCT\\n多年/NOUN 来/PART 中国/PROPN 凭借/ADP 不断/ADV 增强/VERB 的/PART 经济/NOUN 实力/NOUN ，/PUNCT 配合/VERB 积极/VERB 稳健/VERB 的/PART 外交/NOUN 政策/NOUN ，/PUNCT 为/ADP 中国/PROPN 树立/VERB 较/ADV 佳/VERB 的/PART 国际/NOUN 形象/NOUN 打下/VERB 了/PART 良好/ADJ 基础/NOUN ，/PUNCT 今后/NOUN 世界/NOUN 对/ADP 中国/PROPN 的/PART 舆论/NOUN 环境/NOUN 将/ADV 更加/ADV 客观/VERB 。/PUNCT\\n虽说/SCONJ 这个/DET 调查/NOUN 只能/ADV 作为/VERB 国际/NOUN 社会/NOUN 对/ADP 中国/PROPN 看法/NOUN 的/PART 一个/PART 参考/NOUN ，/PUNCT 但是/ADV 它/PRON 同时/ADV 也/ADV 为/ADP 中国/PROPN 坚持/VERB 走/VERB 和平/NOUN 发展/NOUN 道路/NOUN 提供/VERB 了/PART 一/NUM 次/NUM 国际/NOUN 舆论/NOUN 指向/VERB 。/PUNCT\\n\\n如何/ADV 看待/VERB 中国/PROPN 在/ADP 世界/NOUN 的/PART 影响/NOUN\\n\\n上/DET 一/NUM 页/NUM \\xa0/SPACE [/PROPN 1/NUM ]/NUM \\xa0/SPACE [/PROPN\\n2/NUM ]/NOUN'"
      ]
     },
     "execution_count": 11,
     "metadata": {},
     "output_type": "execute_result"
    }
   ],
   "source": [
    "creader.raw(fileids=['IT/900.txt','Culture/1095.txt'])"
   ]
  },
  {
   "cell_type": "code",
   "execution_count": 12,
   "id": "2fda0f3c-9989-4268-9065-5f9bf6725fa2",
   "metadata": {},
   "outputs": [
    {
     "data": {
      "text/plain": [
       "['从', '今天', '的', '影响', '来看', '，', '2004年', '创立', '的', ...]"
      ]
     },
     "execution_count": 12,
     "metadata": {},
     "output_type": "execute_result"
    }
   ],
   "source": [
    "creader.words()"
   ]
  },
  {
   "cell_type": "code",
   "execution_count": 3,
   "id": "2153a313-d927-494d-937e-1c9c7e7ffce8",
   "metadata": {},
   "outputs": [
    {
     "data": {
      "text/plain": [
       "15712276"
      ]
     },
     "execution_count": 3,
     "metadata": {},
     "output_type": "execute_result"
    }
   ],
   "source": [
    "len(creader.words())"
   ]
  },
  {
   "cell_type": "code",
   "execution_count": 13,
   "id": "8fe57570-74f5-42c1-a646-91e4f70b0442",
   "metadata": {},
   "outputs": [
    {
     "data": {
      "text/plain": [
       "['天极网', '5月', '6日', '消息', '(孙', '淑艳', '编译', ')', '据', ...]"
      ]
     },
     "execution_count": 13,
     "metadata": {},
     "output_type": "execute_result"
    }
   ],
   "source": [
    "creader.words(fileids=['IT/900.txt','Culture/1095.txt'])"
   ]
  },
  {
   "cell_type": "code",
   "execution_count": 14,
   "id": "ed50c5c5-53fe-46bc-8fa4-a1a9ee8779fb",
   "metadata": {},
   "outputs": [
    {
     "data": {
      "text/plain": [
       "[['从', '今天', '的', '影响', '来看', '，', '2004年', '创立', '的', '\"', '数字', '炼金馆', '\"', '无疑', '是', '\"数', '独\"', '兴起', '历程', '中', '一个', '标志性', '事件', '，', '尽管', '它', '当初', '不过', '是', '数独', '天才们', '互相', '诘难', '的', '产物', '。'], ['', '随着', '不断', '有', '更', '多', '的', '数独', '爱好者', '向', '他们', '提问', '，', '\"', '数字', '炼金馆', '\"', '认为', '有', '必要', '精炼', '\"数', '独', '\"题', '的', '篇目', '，', '以', '原创', '的', '经典', '题目', '让', '更', '多数', '独迷', '得到', '打开', '数字', '迷宫', '的', '快乐', '，', '而', '不是', '被', '垃圾', '题目', '弄', '得', '晕头转向', '。'], ...]"
      ]
     },
     "execution_count": 14,
     "metadata": {},
     "output_type": "execute_result"
    }
   ],
   "source": [
    "creader.sents()"
   ]
  },
  {
   "cell_type": "code",
   "execution_count": 15,
   "id": "747c9780-d08c-4419-a49d-8a5ba1673256",
   "metadata": {},
   "outputs": [
    {
     "data": {
      "text/plain": [
       "[['天极网', '5月', '6日', '消息', '(孙', '淑艳', '编译', ')', '据', '外电', '报道', '，', '为了', '强化', '其', '本地', '搜索', '和', '在线', '地图', '服务', '，', '微软', '已经', '收购', '了', '一家', '公司', '，', '该', '公司', '的', '产品', '可以', '利用', '航拍', '和', '卫星', '照片', '创建', '地图', '。'], ['微软', '本周四', '公布', '了', '收购', 'Vexcel', '的', '消息', '，', '但', '没有', '公布', '这', '一', '交易', '的', '相关', '财务', '资料', '。'], ...]"
      ]
     },
     "execution_count": 15,
     "metadata": {},
     "output_type": "execute_result"
    }
   ],
   "source": [
    "creader.sents(fileids=['IT/900.txt'])"
   ]
  },
  {
   "cell_type": "code",
   "execution_count": 16,
   "id": "843d19ad-2e5b-43e3-98b5-52d5a2e8880d",
   "metadata": {},
   "outputs": [
    {
     "data": {
      "text/plain": [
       "FileSystemPathPointer('/home/zjz/text_mining/files/codes/cn_news_tagged/IT/900.txt')"
      ]
     },
     "execution_count": 16,
     "metadata": {},
     "output_type": "execute_result"
    }
   ],
   "source": [
    "creader.abspath('IT/900.txt')"
   ]
  },
  {
   "cell_type": "markdown",
   "id": "478a776d-77ce-4c08-9166-0b5c6d1e107c",
   "metadata": {},
   "source": [
    "#### 2.2 标注信息查阅功能"
   ]
  },
  {
   "cell_type": "code",
   "execution_count": 17,
   "id": "5efddce9-514d-44de-b437-28c34020c983",
   "metadata": {},
   "outputs": [
    {
     "data": {
      "text/plain": [
       "[('天极网', 'NOUN'), ('5月', 'NOUN'), ('6日', 'NOUN'), ...]"
      ]
     },
     "execution_count": 17,
     "metadata": {},
     "output_type": "execute_result"
    }
   ],
   "source": [
    "creader.tagged_words(fileids=['IT/900.txt'])"
   ]
  },
  {
   "cell_type": "code",
   "execution_count": 18,
   "id": "4e8ade25-8c50-4ac2-8db9-febc614317fb",
   "metadata": {},
   "outputs": [
    {
     "data": {
      "text/plain": [
       "[('从', 'ADP'), ('今天', 'NOUN'), ('的', 'PART'), ...]"
      ]
     },
     "execution_count": 18,
     "metadata": {},
     "output_type": "execute_result"
    }
   ],
   "source": [
    "creader.tagged_words(categories=['Culture','Education'])"
   ]
  },
  {
   "cell_type": "code",
   "execution_count": 19,
   "id": "c69ff377-1caf-49da-b13e-8d77a2451e2d",
   "metadata": {},
   "outputs": [
    {
     "data": {
      "text/plain": [
       "[[('天极网', 'NOUN'), ('5月', 'NOUN'), ('6日', 'NOUN'), ('消息', 'NOUN'), ('(孙', 'NOUN'), ('淑艳', 'NOUN'), ('编译', 'NOUN'), (')', 'PROPN'), ('据', 'ADP'), ('外电', 'NOUN'), ('报道', 'VERB'), ('，', 'PUNCT'), ('为了', 'ADP'), ('强化', 'VERB'), ('其', 'PRON'), ('本地', 'NOUN'), ('搜索', 'NOUN'), ('和', 'CCONJ'), ('在线', 'ADJ'), ('地图', 'NOUN'), ('服务', 'VERB'), ('，', 'PUNCT'), ('微软', 'PROPN'), ('已经', 'ADV'), ('收购', 'VERB'), ('了', 'PART'), ('一家', 'NUM'), ('公司', 'NOUN'), ('，', 'PUNCT'), ('该', 'DET'), ('公司', 'NOUN'), ('的', 'PART'), ('产品', 'NOUN'), ('可以', 'VERB'), ('利用', 'VERB'), ('航拍', 'NOUN'), ('和', 'CCONJ'), ('卫星', 'NOUN'), ('照片', 'NOUN'), ('创建', 'VERB'), ('地图', 'NOUN'), ('。', 'PUNCT')], [('微软', 'PROPN'), ('本周四', 'NOUN'), ('公布', 'VERB'), ('了', 'PART'), ('收购', 'VERB'), ('Vexcel', 'PROPN'), ('的', 'PART'), ('消息', 'NOUN'), ('，', 'PUNCT'), ('但', 'ADV'), ('没有', 'ADV'), ('公布', 'VERB'), ('这', 'DET'), ('一', 'NUM'), ('交易', 'NOUN'), ('的', 'PART'), ('相关', 'ADJ'), ('财务', 'NOUN'), ('资料', 'NOUN'), ('。', 'PUNCT')], ...]"
      ]
     },
     "execution_count": 19,
     "metadata": {},
     "output_type": "execute_result"
    }
   ],
   "source": [
    "creader.tagged_sents(fileids=['IT/900.txt'])"
   ]
  },
  {
   "cell_type": "code",
   "execution_count": 20,
   "id": "c1aeb1b0-c58f-4ebd-b3d2-5ae76f00196e",
   "metadata": {},
   "outputs": [
    {
     "data": {
      "text/plain": [
       "[[[('从', 'ADP'), ('今天', 'NOUN'), ('的', 'PART'), ('影响', 'NOUN'), ('来看', 'PART'), ('，', 'PUNCT'), ('2004年', 'NOUN'), ('创立', 'VERB'), ('的', 'PART'), ('\"', 'PUNCT'), ('数字', 'NOUN'), ('炼金馆', 'NOUN'), ('\"', 'PUNCT'), ('无疑', 'ADV'), ('是', 'VERB'), ('\"数', 'PRON'), ('独\"', 'NOUN'), ('兴起', 'ADJ'), ('历程', 'NOUN'), ('中', 'PART'), ('一个', 'NUM'), ('标志性', 'ADJ'), ('事件', 'NOUN'), ('，', 'PUNCT'), ('尽管', 'SCONJ'), ('它', 'PRON'), ('当初', 'ADV'), ('不过', 'ADV'), ('是', 'VERB'), ('数独', 'NOUN'), ('天才们', 'NOUN'), ('互相', 'ADV'), ('诘难', 'VERB'), ('的', 'PART'), ('产物', 'NOUN'), ('。', 'PUNCT')], [('', 'SPACE'), ('随着', 'ADP'), ('不断', 'ADV'), ('有', 'VERB'), ('更', 'ADV'), ('多', 'NUM'), ('的', 'PART'), ('数独', 'NOUN'), ('爱好者', 'NOUN'), ('向', 'ADP'), ('他们', 'PRON'), ('提问', 'VERB'), ('，', 'PUNCT'), ('\"', 'PUNCT'), ('数字', 'NOUN'), ('炼金馆', 'NOUN'), ('\"', 'PUNCT'), ('认为', 'VERB'), ('有', 'VERB'), ('必要', 'ADJ'), ('精炼', 'VERB'), ('\"数', 'NOUN'), ('独', 'NOUN'), ('\"题', 'NOUN'), ('的', 'PART'), ('篇目', 'NOUN'), ('，', 'PUNCT'), ('以', 'ADP'), ('原创', 'ADJ'), ('的', 'PART'), ('经典', 'ADJ'), ('题目', 'NOUN'), ('让', 'VERB'), ('更', 'ADV'), ('多数', 'NUM'), ('独迷', 'VERB'), ('得到', 'VERB'), ('打开', 'NOUN'), ('数字', 'NOUN'), ('迷宫', 'NOUN'), ('的', 'PART'), ('快乐', 'NOUN'), ('，', 'PUNCT'), ('而', 'ADV'), ('不是', 'ADV'), ('被', 'X'), ('垃圾', 'NOUN'), ('题目', 'NOUN'), ('弄', 'VERB'), ('得', 'PART'), ('晕头转向', 'VERB'), ('。', 'PUNCT')], [('', 'SPACE'), ('现在', 'NOUN'), ('，', 'PUNCT'), ('68%', 'NUM'), ('的', 'PART'), ('数', 'NOUN'), ('独迷', 'NOUN'), ('只', 'ADV'), ('做', 'VERB'), ('《', 'PUNCT'), ('疯狂', 'ADJ'), ('数', 'NOUN'), ('独', 'NOUN'), ('》', 'PUNCT'), ('的', 'PART'), ('题目', 'NOUN'), ('，', 'PUNCT'), ('因为', 'ADP'), ('，', 'PUNCT'), ('它', 'PRON'), ('意味着', 'VERB'), ('更', 'ADV'), ('多', 'NUM'), ('的', 'PART'), ('原创', 'NOUN'), ('、', 'PUNCT'), ('更', 'ADV'), ('多', 'NUM'), ('的', 'PART'), ('经典', 'ADJ'), ('、', 'PUNCT'), ('更', 'ADV'), ('多', 'NUM'), ('的', 'PART'), ('快乐', 'VERB'), ('、', 'PUNCT'), ('更', 'ADV'), ('多', 'NUM'), ('的', 'PART'), ('疯狂', 'VERB'), ('。', 'PUNCT')], [('', 'SPACE'), ('数独', 'NOUN'), ('（', 'PUNCT'), ('Sudoku', 'PROPN'), ('）', 'PUNCT'), ('是', 'VERB'), ('目前', 'NOUN'), ('风靡', 'VERB'), ('全球', 'NOUN'), ('的', 'PART'), ('一', 'NUM'), ('种', 'NUM'), ('数字', 'NOUN'), ('游戏', 'NOUN'), ('，', 'PUNCT'), ('其', 'PRON'), ('概念', 'NOUN'), ('源自', 'VERB'), ('两百', 'NUM'), ('年前', 'PART'), ('盲眼', 'NOUN'), ('的', 'PART'), ('瑞士', 'PROPN'), ('数学家', 'NUM'), ('欧拉发明', 'PROPN'), ('的', 'PART'), ('\"拉丁', 'PUNCT'), ('方格\"', 'NOUN'), ('的', 'PART'), ('游戏', 'NOUN'), ('。', 'PUNCT')], [('但', 'ADV'), ('数独', 'NOUN'), ('一', 'NUM'), ('词', 'NOUN'), ('来自', 'VERB'), ('日文', 'NOUN'), ('（', 'PUNCT'), ('すう', 'VERB'), ('どく', 'NOUN'), ('）', 'PUNCT'), ('，', 'PUNCT'), ('是', 'VERB'), ('由', 'ADP'), ('\"数', 'NOUN'), ('\"', 'PUNCT'), ('和', 'CCONJ'), ('\"独', 'NOUN'), ('\"', 'PUNCT'), ('两', 'NUM'), ('个', 'NUM'), ('词', 'NOUN'), ('组成', 'VERB'), ('，', 'PUNCT'), ('这', 'DET'), ('一', 'NUM'), ('游戏', 'NOUN'), ('完全', 'ADV'), ('适合', 'VERB'), ('当今', 'NOUN'), ('这个', 'DET'), ('以', 'ADP'), ('游戏', 'NOUN'), ('为', 'ADP'), ('乐事', 'NOUN'), ('的', 'PART'), ('时代', 'NOUN'), ('，', 'PUNCT'), ('而且', 'ADV'), ('数独', 'NOUN'), ('游戏', 'NOUN'), ('无需', 'VERB'), ('翻译', 'VERB'), ('就', 'ADV'), ('能', 'VERB'), ('跨越', 'VERB'), ('一切', 'DET'), ('国界', 'NOUN'), ('。', 'PUNCT')], [('', 'SPACE'), ('这种', 'ADV'), ('游戏令', 'PROPN'), ('很多', 'NUM'), ('人为', 'ADJ'), ('之', 'PART'), ('痴', 'NOUN'), ('狂', 'VERB'), ('，', 'PUNCT'), ('而且', 'ADV'), ('同步', 'ADV'), ('席卷', 'VERB'), ('了', 'PART'), ('整个', 'DET'), ('世界', 'NOUN'), ('。', 'PUNCT')], [('英国', 'PROPN'), ('几乎', 'ADV'), ('所有', 'DET'), ('的', 'PART'), ('报纸', 'NOUN'), ('都', 'ADV'), ('刊登', 'VERB'), ('了', 'PART'), ('数', 'NUM'), ('独', 'NOUN'), ('游戏', 'NOUN'), ('，', 'PUNCT'), ('甚至', 'ADV'), ('还', 'ADV'), ('进', 'VERB'), ('了', 'PART'), ('黄金', 'NOUN'), ('时间', 'NOUN'), ('的', 'PART'), ('电视', 'NOUN'), ('节目', 'NOUN'), ('里', 'PART'), ('；', 'PUNCT'), ('从', 'ADP'), ('澳大利亚', 'PROPN'), ('到', 'VERB'), ('克罗地亚', 'PROPN'), ('，', 'PUNCT'), ('从', 'ADP'), ('法国', 'PROPN'), ('到', 'VERB'), ('美国', 'PROPN'), ('，', 'PUNCT'), ('各家', 'PROPN'), ('报纸', 'NOUN'), ('杂志', 'NOUN'), ('纷纷', 'ADV'), ('刊登', 'VERB'), ('这种', 'DET'), ('填数', 'NOUN'), ('游戏', 'NOUN'), ('，', 'PUNCT'), ('日本人', 'NOUN'), ('每月', 'ADV'), ('购买', 'VERB'), ('的', 'PART'), ('数独', 'ADJ'), ('杂志', 'NOUN'), ('超过', 'VERB'), ('60万', 'NUM'), ('份', 'NUM'), ('，', 'PUNCT'), ('《', 'PUNCT'), ('纽约', 'PROPN'), ('时报', 'NOUN'), ('》', 'PUNCT'), ('甚至', 'ADV'), ('考虑', 'VERB'), ('将', 'X'), ('数独', 'NOUN'), ('与其', 'ADV'), ('备受', 'VERB'), ('推崇', 'VERB'), ('的', 'PART'), ('纵横', 'ADJ'), ('字谜', 'NOUN'), ('一同', 'ADV'), ('纳入', 'VERB'), ('在', 'ADP'), ('周日', 'NOUN'), ('刊上', 'VERB'), ('；', 'PUNCT'), ('网络', 'NOUN'), ('上', 'PART'), ('的', 'PART'), ('数独', 'NOUN'), ('游戏', 'NOUN'), ('数不胜数', 'VERB'), ('，', 'PUNCT'), ('人们', 'NOUN'), ('甚至', 'ADV'), ('可以', 'VERB'), ('将', 'X'), ('它', 'PRON'), ('下载', 'VERB'), ('到', 'VERB'), ('手机', 'NOUN'), ('上', 'PART'), ('。', 'PUNCT')], [('有人', 'VERB'), ('预言', 'VERB'), ('，', 'PUNCT'), ('数独', 'NOUN'), ('可能', 'VERB'), ('会', 'VERB'), ('重演', 'VERB'), ('20', 'NUM'), ('世纪', 'NOUN'), ('80年代', 'NOUN'), ('全球', 'NOUN'), ('人手', 'NOUN'), ('一个', 'NUM'), ('\"魔', 'NUM'), ('方\"', 'NOUN'), ('的', 'PART'), ('盛况', 'NOUN'), ('。', 'PUNCT')], [('', 'SPACE'), ('人们', 'NOUN'), ('在', 'ADP'), ('推究', 'VERB'), ('数独', 'ADJ'), ('热', 'VERB'), ('的', 'PART'), ('原因', 'NOUN'), ('时', 'PART'), ('，', 'PUNCT'), ('首先', 'ADV'), ('想到', 'VERB'), ('的', 'PART'), ('是', 'VERB'), ('很多', 'NUM'), ('国家', 'NOUN'), ('的', 'PART'), ('人', 'NOUN'), ('本来', 'ADV'), ('就', 'ADV'), ('喜爱', 'VERB'), ('玩', 'VERB'), ('拼图', 'NOUN'), ('游戏', 'NOUN'), ('；', 'PUNCT'), ('再者', 'ADV'), ('，', 'PUNCT'), ('数字', 'NOUN'), ('具有', 'VERB'), ('神奇', 'ADJ'), ('的', 'PART'), ('属性', 'NOUN'), ('，', 'PUNCT'), ('数', 'NUM'), ('的', 'PART'), ('性质', 'NOUN'), ('让', 'VERB'), ('无数', 'NUM'), ('数学', 'NOUN'), ('大师', 'NOUN'), ('痴迷', 'VERB'), ('，', 'PUNCT'), ('很多', 'NUM'), ('举世闻名', 'VERB'), ('的', 'PART'), ('数学', 'NOUN'), ('难题', 'NOUN'), ('都', 'ADV'), ('是', 'VERB'), ('数论', 'NOUN'), ('问题', 'NOUN'), ('。', 'PUNCT')], [('', 'SPACE'), ('当然', 'ADV'), ('，', 'PUNCT'), ('数独', 'NOUN'), ('的', 'PART'), ('流行', 'NOUN'), ('还有', 'CCONJ'), ('深层次', 'PROPN'), ('的', 'PART'), ('原因', 'NOUN'), ('，', 'PUNCT'), ('在', 'ADP'), ('3D', 'NUM'), ('游戏', 'NOUN'), ('、', 'PUNCT'), ('网游', 'NOUN'), ('等', 'PART'), ('各种', 'ADJ'), ('高级', 'ADJ'), ('游戏', 'NOUN'), ('越来越', 'ADV'), ('华丽', 'VERB'), ('、', 'PUNCT'), ('玩法', 'NOUN'), ('越来越', 'ADV'), ('复杂', 'VERB'), ('的', 'PART'), ('今天', 'NOUN'), ('，', 'PUNCT'), ('如同', 'ADP'), ('其他', 'DET'), ('很多', 'NUM'), ('越来越', 'ADV'), ('复杂', 'VERB'), ('的', 'PART'), ('新', 'ADJ'), ('事物', 'NOUN'), ('一样', 'VERB'), ('，', 'PUNCT'), ('新', 'ADJ'), ('游戏', 'NOUN'), ('已经', 'ADV'), ('丧失', 'VERB'), ('了', 'PART'), ('简单', 'ADJ'), ('游戏', 'NOUN'), ('的', 'PART'), ('很多', 'NUM'), ('优点', 'NOUN'), ('。', 'PUNCT')], [('然而', 'ADV'), ('，', 'PUNCT'), ('数独', 'NOUN'), ('由于', 'ADP'), ('规则', 'NOUN'), ('简单', 'VERB'), ('，', 'PUNCT'), ('却', 'ADV'), ('变化', 'VERB'), ('无穷', 'VERB'), ('，', 'PUNCT'), ('在', 'ADP'), ('推敲', 'NOUN'), ('之中', 'PART'), ('完全', 'ADV'), ('不', 'ADV'), ('必用', 'VERB'), ('到', 'VERB'), ('数学', 'NOUN'), ('计算', 'VERB'), ('，', 'PUNCT'), ('只', 'ADV'), ('需', 'VERB'), ('运用', 'VERB'), ('逻辑', 'NOUN'), ('推理', 'NOUN'), ('能力', 'NOUN'), ('，', 'PUNCT'), ('所以', 'ADV'), ('受到', 'VERB'), ('老少', 'NOUN'), ('男女', 'NOUN'), ('的', 'PART'), ('喜爱', 'NOUN'), ('。', 'PUNCT')], [('', 'SPACE'), ('数独', 'NOUN'), ('也许', 'ADV'), ('算', 'VERB'), ('不', 'ADV'), ('上', 'VERB'), ('刺激', 'NOUN'), ('，', 'PUNCT'), ('但', 'ADV'), ('非常', 'ADV'), ('有趣', 'VERB'), ('，', 'PUNCT'), ('似乎', 'ADV'), ('思路', 'NOUN'), ('被', 'X'), ('卡住', 'VERB'), ('了', 'PART'), ('，', 'PUNCT'), ('却', 'ADV'), ('突然之间', 'ADV'), ('推敲', 'VERB'), ('出', 'VERB'), ('某个', 'DET'), ('数字', 'NOUN'), ('，', 'PUNCT'), ('从而', 'ADV'), ('成功', 'VERB'), ('地', 'PART'), ('解出', 'VERB'), ('答案', 'NOUN'), ('，', 'PUNCT'), ('由此而生', 'PROPN'), ('的', 'PART'), ('满足', 'NOUN'), ('感棒', 'VERB'), ('极了', 'PART'), ('。', 'PUNCT')], [('这是', 'VERB'), ('一个', 'ADV'), ('从', 'ADP'), ('混乱', 'NOUN'), ('中理', 'NOUN'), ('出头绪', 'VERB'), ('的', 'PART'), ('游戏', 'NOUN'), ('，', 'PUNCT'), ('能够', 'VERB'), ('在', 'ADP'), ('不', 'ADV'), ('确定', 'VERB'), ('的', 'PART'), ('生活', 'NOUN'), ('里', 'PART'), ('，', 'PUNCT'), ('随时', 'ADV'), ('拥有', 'VERB'), ('如此', 'ADV'), ('简单', 'VERB'), ('且', 'CCONJ'), ('立即', 'VERB'), ('的', 'PART'), ('\"惊', 'NOUN'), ('喜\"', 'VERB'), ('，', 'PUNCT'), ('总是', 'ADV'), ('令', 'VERB'), ('人', 'NOUN'), ('心情', 'NOUN'), ('愉快', 'VERB'), ('的', 'PART'), ('。', 'PUNCT')], [('', 'SPACE'), ('在', 'ADP'), ('中国', 'PROPN'), ('，', 'PUNCT'), ('《', 'PUNCT'), ('疯狂', 'ADJ'), ('数', 'NOUN'), ('独', 'NOUN'), ('》', 'PUNCT'), ('作为', 'VERB'), ('数字', 'NOUN'), ('炼金馆', 'NOUN'), ('的', 'PART'), ('原创', 'ADJ'), ('经典', 'NOUN'), ('，', 'PUNCT'), ('引领', 'VERB'), ('了', 'PART'), ('数独', 'NOUN'), ('爱好者', 'NOUN'), ('的', 'PART'), ('疯狂', 'NOUN'), ('，', 'PUNCT'), ('数独', 'NOUN'), ('在', 'ADP'), ('中国', 'PROPN'), ('即将', 'ADV'), ('掀起', 'VERB'), ('一阵', 'ADJ'), ('数字', 'NOUN'), ('游戏', 'NOUN'), ('的', 'PART'), ('狂风', 'NOUN'), ('，', 'PUNCT'), ('迅速', 'ADV'), ('中小', 'ADJ'), ('学生', 'NOUN'), ('手中', 'NOUN'), ('风靡', 'VERB'), ('起来', 'VERB'), ('，', 'PUNCT'), ('随之', 'ADV'), ('成为', 'VERB'), ('众多', 'NUM'), ('青少年', 'NOUN'), ('和', 'CCONJ'), ('都市', 'NOUN'), ('白领', 'NOUN'), ('为', 'VERB'), ('之', 'PRON'), ('痴迷', 'NOUN'), ('的', 'PART'), ('智力', 'NOUN'), ('、', 'PUNCT'), ('娱乐', 'NOUN'), ('游戏', 'NOUN'), ('。', 'PUNCT')], [('人手一册', 'NOUN'), ('《', 'PUNCT'), ('疯狂', 'ADJ'), ('数', 'NOUN'), ('独', 'NOUN'), ('》', 'PUNCT'), ('，', 'PUNCT'), ('考验', 'VERB'), ('和', 'ADP'), ('你', 'PRON'), ('智力', 'NOUN'), ('和', 'CCONJ'), ('能力', 'NOUN'), ('，', 'PUNCT'), ('挑战', 'VERB'), ('数独', 'NOUN'), ('的', 'PART'), ('极限', 'NOUN'), ('境界', 'NOUN'), ('。', 'PUNCT')], [('', 'SPACE'), ('出版社', 'NOUN'), ('：', 'PUNCT'), ('中国', 'PROPN'), ('三峡', 'PROPN'), ('出版社', 'NOUN'), ('', 'SPACE'), ('出版', 'NOUN'), ('时间', 'NOUN'), ('：', 'PUNCT'), ('2005年', 'NOUN'), ('10月', 'NOUN'), ('', 'SPACE'), ('定价', 'NOUN'), ('：', 'PUNCT'), ('20', 'NUM'), ('元', 'NUM'), ('', 'SPACE'), ('共', 'ADV'), ('找到', 'VERB'), ('20', 'NUM'), (',', 'PUNCT'), ('159', 'NUM'), (',', 'PUNCT'), ('004', 'NUM')]], [[('个', 'NUM'), ('相关', 'ADJ'), ('网页', 'NOUN'), ('.', 'PUNCT')]], ...]"
      ]
     },
     "execution_count": 20,
     "metadata": {},
     "output_type": "execute_result"
    }
   ],
   "source": [
    "creader.tagged_paras(categories=['Culture','Education'])"
   ]
  },
  {
   "cell_type": "markdown",
   "id": "98f87905-0166-422a-8f77-94a856ce91c0",
   "metadata": {},
   "source": [
    "#### 2.3 查看词语上下文"
   ]
  },
  {
   "cell_type": "code",
   "execution_count": 21,
   "id": "a59aaeb7-19e6-49cc-ace2-457acb358468",
   "metadata": {},
   "outputs": [],
   "source": [
    "import nltk\n",
    "\n",
    "news_t = nltk.Text(creader.words())"
   ]
  },
  {
   "cell_type": "code",
   "execution_count": 22,
   "id": "f5105473-ac47-4eab-b40a-586a1176d295",
   "metadata": {},
   "outputs": [
    {
     "name": "stdout",
     "output_type": "stream",
     "text": [
      "Displaying 50 of 496 matches:\n",
      "交纳 象牙 等 ， 这 正是 大流士 所 津津乐道 的 ， 波斯帝国 地大物博 的 体现 。 在 货币 方面 ， 大 流士 规定 帝国 流通 三 种 合法 铸币 ， 金币 只能 由 中央 铸造 ， 各\n",
      "国 长期 延续 。 他 建立 的 很多 制度 都 具有 开创性 ， 如 行 省制 、 军区制 、 货币 税收 制度 等 ， 深刻 地 影响 了 后来 的 罗马 帝国 、 阿拉伯 帝国 、 奥斯曼帝国 \n",
      " 在 中央 部委 中 ， 央行 是 最为 用力 的 ， 只要 看看 早 几 个 季度 推出 央行 货币 政策 报告 ， 每 一 次 都 房地产 发展 状况 作 最 详细 的 描述 ， 也 多 对 房地\n",
      " 象 您 预期 真的 升值 20% ， 房地产 价格 是 什么 走势 ？ 杨帆 ： 一般来说 ， 货币 升值 使 本币 资产 升值 ， 股市 和 房地产 会 继续 上升 。 在 中国 ， 股市 已经 \n",
      "影响 银行 。 问题 ： 银行 垮台 是 人民币 要 贬值 吧 ？ 杨帆 ： 银行 垮台 意味着 货币 改革 ， 旧币 换 新币 。 我 讲 了 半天 蒋经国 ， 你们 看 一下 历史 就 知道 了 \n",
      "我 的 解释 就是 他们 脑子 里面 老 想 自由 兑换 ， 把 人民币 变成 完全 自由 兑换 货币 ， 他们 脑子 里 有 这个 毛病 。 想 在 有 升值 压力 情况 下 把 人民币 尽快 自由\n",
      " 。 除了 粮食 涨价 就是 进口 价格 ， 两 方面 都 是 成本 推动 ， 涨利率 和 限制 货币 供应 解决 不 了 物价 ， 最 大 作用 是 打击 股市 和 房市 ， 股市 现在 已经 崩盘\n",
      "失败 。 蒋经国 写 了 一个 《 告 上海市 人民书 》 ， 他 说 ： “ 上海 同胞们 ， 货币 的 问题 其实 就是 信心 问题 ” , 终于 知道 一点 真理 ， 说 ： “ 军事 手段 是\n",
      " “ 本末 并利 ” 、 “ 上下 俱足 ” 、 广开 财源 的 基础 上 ， 提出 了 他 的 货币 政策 ， 确保 财货 正常 流通 、 赋税 正常 缴纳 ， 促进 经济 发展 、 市场 繁荣 ，\n",
      " 、 赋税 正常 缴纳 ， 促进 经济 发展 、 市场 繁荣 ， 这种 开源 节流 的 经济 、 货币 政策 ， 实为 国家 经济 发展 的 上策 。 姜太 公深 知 ， 农 、 工 、 商三业 对 \n",
      "。 此 发展 经济 的 指导 思想 ， 延续 至 当今 世界 。 7 、 九府 圜法 姜太公 的 货币 政策 ， 主要 是 他 制定 的 九府 圜法 。 所谓 “ 九府 圜法 ” ， 颜师古 《 注 \n",
      "难望 其 项背 ；  —— 最 早 ， 古代 钱币 从 4000多 年前 我国 最 早 的 原始 货币 “ 贝币 ” 开始 ， 到 骨贝 、 “ 蚁 鼻 钱 ” 、 秦半 两 、 “ 一化 ” 、 刀\n",
      " 禁赌 经验 丰富 的 云南 警方 也 感到 棘手 。 据 王晓平 介绍 ， 在 打击 处理 由 货币 转为 筹码 ， 再 转为 电子 交易 的 网赌 方式 时 ， 无论 是 经验 还是 技术 与 能\n",
      " 大 的 毛病 ， 实际上 是 一个 地球 管理 委员会 ; 经济 上 有 世界 银行 和 国际 货币 基金 组织 ， WTO; 还有 国际 法院 。 地球 管理 机构 在 慢慢 形成 。 其二 ， \n",
      "以 金融 证券 市场 走势 作为 赌注 对象 。 这种 网络 赌博 往往 以 金融 市场 ， 如 货币 、 股票 、 期货 市场 的 走势 和 波动 作为 赌注 对象 。 如赌 中国 股票 沪 、 深\n",
      "接税 为主 ， 在 农村 征收 以 实物 为主 的 人 头税 和 土地税 ， 在 城市 征收 以 货币 为主 的 人 头税 。 为了 保证 税源 ， 戴克里 先 颁布 了 各项 法令 ， 把 农民 和\n",
      " 能 老是 被 西方 的 模式 所 误导 。 换句话说 ， 不 能 老是 跟着 美国人 和 国际 货币 基金 组织 给 中国人 设置 和 引导 的 路子 走 。 那 是 一系列 的 圈套 ， 走 一 \n",
      "市场 ， 正是 由于 国内 的 工业 生产 能力 过剩 所 决定 的 （ 但 由此可知 ， 国际 货币 基金 组织 通过 某些 经济学家 开给 中国人 的 “ 以内 需 主导 发展 经济 ” 的 药方\n",
      "我 感到 困惑 的 是 ， 中国 在 80年代 末 和 90年代初 已 拒绝 了 美国 及 国际 货币 基金 组织 一再 推荐 和 鼓励 我们 试验 的 “ 休克 疗法 ” ， 从而 取得 经济 改革\n",
      "霉 。 亚洲 金融 危机 以后 ， 亚洲 地区 约 七千亿 美元 进入 美国 ； 在 欧洲 统一 货币 过程 中 ， 78万亿 美金 为 规避 欧洲 金融 风险 也 流入 美国 ； 苏联 东欧 垮台 \n",
      " ， 都 是 日益 阻隔 危险 ； 国内 国外 的 贸易 ， 都 日益 停滞 ； 财政 经济 及 货币 流通 ， 都 是 日益 破坏 ， 国内 工业 的 很 小 的 基础 正在 崩坏 ， 以前 所有 \n",
      "富国强兵 ， 32 座 内殿 库房 堆满 绢段 ， 又 再 造库 房 堆积 。 如此 之 多 的 货币 ， 如果 交给 银行 打理 ， 岂 不是 更 可 富国 ？ 如此 之 多 的 粮绢 ， 如果 投\n",
      " 。 作者 对 经济 的 论述 更 是 让 人 啼笑皆非 、 贻笑大方 。 美元 的 国际 流通 货币 地位 不是 美国人 自封 的 ， 也 不是 中国 迷信 美元 造成 的 。 单靠 中国 迷信 美\n",
      "而 通胀 的 受害者 大多数 是 美国 的 贸易 伙伴国 。 ” 美元 之所以 成为 国际 流通 货币 就是 因为 美国 其 强大 的 经济 实力 以及 坚挺 的 货币 币值 。 如果 美国 象 作者\n",
      "美元 之所以 成为 国际 流通 货币 就是 因为 美国 其 强大 的 经济 实力 以及 坚挺 的 货币 币值 。 如果 美国 象 作者 想象 的 那样 不 负 责任 的话 ， 国际 美元 金融 体系 \n",
      "体系 。 今年 ， 我国 对 低 收入 家庭 实行 了 廉租 住房 制度 ， 初步 形成 了 以 货币 补贴 为主 、 实物 配租 为辅 、 多种 方式 并举 的 廉租 住房 制度 。 同时 ， 住房\n",
      "访 ， 向 大家 娓娓道来 ——  一 问 ： 对 去年 金融 调控 的 评价  2003年 的 货币 供应量 偏高 ， 2004年 就 偏紧 一些 。 两 年 平均 下来 ， 货币 供应量 的 增幅\n",
      " 2003年 的 货币 供应量 偏高 ， 2004年 就 偏紧 一些 。 两 年 平均 下来 ， 货币 供应量 的 增幅 和 前5年 接近  记者 ： 说起 2004年 的 金融 调控 ， 我们 在 \n",
      "听到 一 片 喝彩声 的 同时 ， 也 听到 了 这样 一 种 声音 ： 央行 确实 把 住 了 货币 信贷 “ 闸门 ” ， 但 这个 “ 闸门 ” 把 得 过头 了 ， 货币 供应量 偏紧 。 对\n",
      "行 确实 把 住 了 货币 信贷 “ 闸门 ” ， 但 这个 “ 闸门 ” 把 得 过头 了 ， 货币 供应量 偏紧 。 对此 ， 您 怎么 看 ？ 还有 一 种 声音 说 ， 去年 ， 在 信贷 投\n",
      "切 ” 现象 ， 导致 一些 企业 资金 吃紧 。 对此 ， 您 又 怎么 看 ？  周小川 ： 货币 投放 与 经济 景气 程度 之间 是 有时滞 的 ， 也就是说 ， 货币 供应量 是否 合适 ，\n",
      " 看 ？  周小川 ： 货币 投放 与 经济 景气 程度 之间 是 有时滞 的 ， 也就是说 ， 货币 供应量 是否 合适 ， 不是 马上 在 经济 中 反映 出来 。 应当 说 ， 2003年 的 \n",
      " 供应量 是否 合适 ， 不是 马上 在 经济 中 反映 出来 。 应当 说 ， 2003年 的 货币 供应量 是 偏 高 的 ， 但 造成 这种 状况 有 当时 的 特殊 背景 。 新 一 届 中央\n",
      "产生 的 ， 随后 发生 了 伊拉克 战争 、 “ 非典 ” 疫情 。 在 本 应该 适当 收紧 货币 供应 的 时候 ， 由于 增加 了 这些 不 确定 因素 ， 需要 我们 冷静 观察 、 防范 \n",
      "会 都 希望 把 非典 造成 的 损失 夺 回来 。 在 这样 的 背景 下 ， 2003年 的 货币 供应量 是 偏 高 的 ， 并且 到 2004年 还有 滞后 效应 。 2004年 ， 货币 供\n",
      "的 货币 供应量 是 偏 高 的 ， 并且 到 2004年 还有 滞后 效应 。 2004年 ， 货币 供应 就 收得 稍紧 了 一些 。 如果 把 两 年 的 货币 供应量 做 一个 指数化 平均 \n",
      " 滞后 效应 。 2004年 ， 货币 供应 就 收得 稍紧 了 一些 。 如果 把 两 年 的 货币 供应量 做 一个 指数化 平均 ， 我们 会 发现 ， 广义 货币 供应量 M2 年 平均 增长\n",
      "些 。 如果 把 两 年 的 货币 供应量 做 一个 指数化 平均 ， 我们 会 发现 ， 广义 货币 供应量 M2 年 平均 增长 17% ， 狭义 货币 供应量 M1 年 平均 增长 16.3 %\n",
      "指数化 平均 ， 我们 会 发现 ， 广义 货币 供应量 M2 年 平均 增长 17% ， 狭义 货币 供应量 M1 年 平均 增长 16.3 % ， 与此前5年 15% 左右 的 货币 增长 水平 \n",
      "% ， 狭义 货币 供应量 M1 年 平均 增长 16.3 % ， 与此前5年 15% 左右 的 货币 增长 水平 比较 接近 ， 还 略微 高 一些 。 整个 经济 在 某 一时 点 上 货币 供应\n",
      " 的 货币 增长 水平 比较 接近 ， 还 略微 高 一些 。 整个 经济 在 某 一时 点 上 货币 供应量 是否 合适 ， 要 有 时滞 的 考虑 ， 还 可 参考 货币 市场 的 利率 水平 。\n",
      "济 在 某 一时 点 上 货币 供应量 是否 合适 ， 要 有 时滞 的 考虑 ， 还 可 参考 货币 市场 的 利率 水平 。  应该 看到 ， 在 货币 供应 总量 大体 适度 的 情况 下 ， \n",
      " 要 有 时滞 的 考虑 ， 还 可 参考 货币 市场 的 利率 水平 。  应该 看到 ， 在 货币 供应 总量 大体 适度 的 情况 下 ， 结构 方面 存在 某些 问题 有 一定 的 必然性 。\n",
      "， 保持 整体 金融 系统 的 稳定  记者 ： 2005年 ， 央行 将 继续 执行 稳健 的 货币 政策 ， 这里 的 “ 稳健 ” 是 什么 含义 ？ 2005年 将要 注意 哪些 问题 ， 相\n",
      " CPI 产生 一些 拉动 。 这些 情况 都 值得 我们 密切 关注 。  为 落实 稳健 的 货币 政策 ， 今年 的 金融 调控 要 注意 五 条 ： 第一 ， 切实 提高 对 经济 金融 运行\n",
      "运行 趋势 判断 的 预见性 ； 第二 ， 进一步 完善 间接 调控 机制 ， 灵活 运用 有关 货币 政策 工具 及其 组合 ， 保持 货币 信贷 平稳 合理 增长 ； 第三 ， 引导 金融 机构 \n",
      "， 进一步 完善 间接 调控 机制 ， 灵活 运用 有关 货币 政策 工具 及其 组合 ， 保持 货币 信贷 平稳 合理 增长 ； 第三 ， 引导 金融 机构 着力 优化 信贷 结构 ， 发挥 好 价\n",
      " 。 同时 ， 房价 涉及 多 项 政策 ， 是 难以 用 一 种 政策 来 单独 调控 的 。 货币 政策 是 一 种 总量 政策 ， 不 可能 将 各方 利益 都 平衡 到 最好 的 位置 上 ，\n",
      " 市场化 ， 建立 健全 由 市场 供求 决定 的 利率 形成 机制 ， 中央 银行 通过 运用 货币 政策 工具 引导 市场 利率 。  近年来 ， 央行 一直 致力于 稳步 推进 利率 市场化 改\n",
      " 其 后尘 。 美元 也 将 日渐 凋零 ， 自 今年 8月份 以来 ， 美元 兑换 世界 主要 货币 一路 下挫 ， 汇率 下跌 了 9% 左右 。 这 意味着 美元 开始 疲软 ， 美国 的 风光\n"
     ]
    }
   ],
   "source": [
    "news_t.concordance('货币',lines=50, width=100)"
   ]
  },
  {
   "cell_type": "code",
   "execution_count": 23,
   "id": "7171b23f-832a-4587-9d4e-b65c33e49392",
   "metadata": {},
   "outputs": [
    {
     "name": "stdout",
     "output_type": "stream",
     "text": [
      "Displaying 50 of 881 matches:\n",
      " 也 不 高 ， 但 由于 城市化 进程 的 加快 与 房地产 市场 的 红火 ， 这 方面 的 得分 比 农村 群众 高出 10 个 百分点 。 但 在 住宅 建筑 质量 方面 ， 钢筋 混凝土 结\n",
      " 。 不过 ， 在 华尔街 上 有 一 句 格言 却说 ， 钱 并 不 重要 ， 它 只是 记录 得分 。 这 句 话 我们 听 着 可能 不 中听 ， 但 对 某些 人 来讲 可能 就是 这样 。 \n",
      "个 零 的 问题 了 ， 就 跟 我们 玩 大富翁 游戏 似的 ， 你 说 它 不是 用来 记录 得分 是 用来 干什么 的 。 这种 金钱 观离 我们 是 远 了 一点 。 我 更 喜欢 书 中 犹\n",
      "说 ， 口袋 里 有钱 的 时候 ， 你 才 可以 说 钱 是 不 重要 的 ， 钱 只是 记录 得分 的 。 总之 ， 有钱 之后 很多 事 才 可以 做 ， 很多 话 才 可以 说 ， 也 才 有\n",
      " 。 不过 ， 在 华尔街 上 有 一 句 格言 却说 ， 钱 并 不 重要 ， 它 只是 记录 得分 。 这 句 话 我们 听 着 可能 不 中听 ， 但 对 某些 人 来讲 可能 就是 这样 。 \n",
      "个 零 的 问题 了 ， 就 跟 我们 玩 大富翁 游戏 似的 ， 你 说 它 不是 用来 记录 得分 是 用来 干什么 的 。 这种 金钱 观离 我们 是 远 了 一点 。 我 更 喜欢 书 中 犹\n",
      "说 ， 口袋 里 有钱 的 时候 ， 你 才 可以 说 钱 是 不 重要 的 ， 钱 只是 记录 得分 的 。 总之 ， 有钱 之后 很多 事 才 可以 做 ， 很多 话 才 可以 说 ， 也 才 有\n",
      " 下台 并代 之 以 社会 民主派 与 自由派 联合 政府 的 国家 ， 自由派 甚至 还 有所 得分 。 因此 “ 左派 复兴 ” 与 “ 右派 衰落 ” 的 综合 结果 就 趋向于 形成 一 种 \n",
      "标准 ， 但 “ 如果 做 调查 ， 看看 北京 和 其他 城市 比较 哪个 更 宜居 ， 北京 得分 不 会 特别 高 ” 。 不过 ， 已 有的 一些 调查 并不 太 支持 赵中枢 的 判断 。 \n",
      "第37 题 第② ④问 的 得分率 不 高 ， 原因 是 书写 不 规范 ， 如 第② 问 平均 得分 在 7~9分之间 ， 两 位 总统 演讲 的 经济 背景 没有 分别 回答 ； 第39 题 有 \n",
      "、 结构 3 条 、 语言 3 条 ， 只要 符合 其中 一 条 ， 就 可 在 发展 等级 上 得分 。 比如 有 一 条 要求 是 词语 丰富 、 句式 灵活 就 可 加分 ， 那么 ， 只要 你\n",
      "比 句 ， 用 起来 气势 恢弘 ， 容易 渲染 感情 。 这些 都 是 能 在 发展 等级 里 得分 的 地方 。 学生们 的 作文 修养 并不 是 靠 这 30 天 就 能 明显 提高 的 ， 但\n",
      "填空 和 阅读 理解 这 类 考查 英语 运用 能力 的 题 上 。 另 不少 同学 书面 表达 得分 不 高 ， 漏掉 书信 中 第5 要点 （ 欢迎 届时 来京 ） 和 第6 要点 （ 结尾 ） \n",
      " 得 潦草 、 涂改处 很多 、 从头到尾 不 分段 ， 给 阅卷人 印象 不 好 ， 降低 了 得分 档次 。 5. 应考 经验 不足 。 有的 同学 时间 分配 不 合理 或 时间 观念 不 强 \n",
      "， 最好 能 用到 几 个 出现 频率 较 低 的 单词 或 词组 ， 这 对 提高 英语 作文 得分 是 很 重要 的 。 中国 有 个 说法 叫做 “ 熟读 唐诗 三百 首 ， 不 会 写诗 也 \n",
      "分值 ， 考生 不仅 能 从 网上 查到 自己 的 总分 ， 还 可以 知道 自己 每 道题 的 得分 ， 尽量 减少 考生 往返 的 辛苦 ， 关注 并 服务 考生 学习 的 全 过程 。 浙江省 \n",
      "通 高等 学校 统一 考试 申请 入学 的 内地 学生 ， 校方 会 按 同期 申请者 的 高考 得分 及 英语 成绩 选出 奖学金 得主 。 他们 在 入读 香港 理工 大学 后 ， 只要 每 学期\n",
      " ， 对 其余 的 答案 连 看 都 不 看 一眼 就 放 过去 ， 从而 失去 了 许多 应该 得分 的 机会 。 请 记往 ， 一定 要 看清 所有 的 选择 答案 。 一道 周密 的 单项 选择\n",
      " 是 错误 的 答案 。 尽可能 排除 一些 选择 项 ， 就 可以 提高 你 选 对 答案 而 得分 的 机率 。 例如 ： 如果 控制 风险 水平 初步 评估 为 中等 水平 ， 注册 会计师 应\n",
      " 一般 较 大( 20% —— 40%) ， 必须 予以 足够 的 重视 ， 如果 本 类题 你 得分 不 多 ， 要 想 通过 考试 就 很 困难 。 所幸 的 是 ， 在 一 门 课程 中 ， 可\n",
      " 基础 知识 掌握 不 牢 ， 同时 对 衰老 细胞 的 特征 不 太 了解 ， 造成 犹豫 未 得分 。 而 第3 题 的 失分 ， 部分 同学 是 对 题干 未 仔细 阅读 ， 对 胚胎 干细胞 \n",
      "单选 和 任 选题 较 客易 拿分 ， 一定 要 认真 仔细 完成 ， 不要 轻易 放弃 。 从 得分 成效 上 讲 ， 应 寄 希望 于 在 简单 题 上 拿分 ， 而 不 能 寄 希望 于 在 复\n",
      "简单 题 上 拿分 ， 而 不 能 寄 希望 于 在 复杂 题 上 拿分 。 ④ 案例 分析 题 得分 一般 出入 不大 ， 答题 不 求 深入 细致 ， 但 求 按照 分值 分配 时间 ， 掌握 好\n",
      " 我 拿到 卷四 先 看 最后 一 道题 ， 发现 不是 预测 中和 传说 中 的 ， 意识 到 得分 机会 来 了 。 但 没有 注意 到 它 的 分值 ， 所以 从 第一 题 按部就班 顺利 做到\n",
      "绩 都 将 量化 ， 被 评对 象 各 方面 的 情况 被 量化 为 分值 ， 评委 依据 量化 得分 投票 。 外语 、 计算机 、 水平 能力 测试 3 项 考试 （ 测试 ） 不 合格 人员 ，\n",
      " 没有 希望 ， 就 把 时间 用 在 克服 简单题 和 中 档题 上 ， 确保 简单 题 全部 得分 。 答题 是 要 处理 好 答题 时 准 与 快 的 关系 。 正确 处理 好 答题 中 准 与\n",
      "转化 为 解决 问题 的 能力 。 重视 过程 提高 书写 规范 俗话说 ， “ 不怕 难题 不 得分 ， 就 怕 每 题 都 扣分 ” ， 高考 复习 需要 大量 练习 ， 有些 学生 为了 追求 \n",
      "做 ； 把 会 做 的 变为 单位 时间 内 会 做 ， 最后 要 把 会 做 提升 为 做 对 得分 。 不 能 仅仅 满足于 答案 正确 ， 还要 学会 优化 解题 过程 。 体验 成功 保持 良\n",
      "如果 复习 指导 得法 ， 考生 在 这 部分 收获 颇丰 ； 如果 复习 方法 不当 ， 学生 得分 将 令 人 沮丧 。 现代文 的 阅读 应 与 一般 文章 的 阅读 有所 区别 ， 即 应 抓\n",
      " 协作 使 我们 班 在 各项 体育 比赛 中 ， 连连 获奖 ， 他们 自己 也 是 场上 的 得分 高手 ， 他们 为 班级 的 荣誉而战 。 我们 班 现在 有 51 人 在 班级 任职 ， 参\n",
      "开始 了 ， 我们 的 运动员 在 拼搏 ， 他们 一 分 一 分 的 争取 ， 不 放过 任何 得分 机会 。 小庚 在 赛前 告诉 我 ， 他 能 给 我 拿 两 个 第一 ， 结果 只有 100\n",
      " ， 一直 领先 的 13 班 ， 前途 并不 乐观 。 然而 ， 我们 还 只有 两 项 可以 得分 ， 男子 4× 400 接力 ， 必须 拿下 ， 紧急 之下 ， 小博 跑出 接力区 去 接 他\n",
      " 方法 。 2 多 项 选择 题( 本题型 共 10 题 。 不 答 、 错答 、 漏答 均 不 得分 。 答案 正确 的 ， 每 题 得 1. 5分 。 本题型 共 15 分 。 ) 。 1 ． 下\n",
      " 答案 错误 的 ， 每 题 倒扣 0．5分 。 本题型 扣至 零分 为止 。 不 答题 既 不 得分 ， 也 不 扣分 。 本题型 10分 。 ) 1 ． 对 资产 计提 减值 准备 符合 资产 的\n",
      "题 和 经验 ， 有的放矢 进行 备考 。 从 历年 英研 考试 来看 ， 翻译 是 困扰 学生 得分 的 大 问题 。 所以 对于 报考 翻译 方向 的 考生 来说 ， 翻译 的 水平 和 要求 就\n",
      "些许 错误 可以 原谅 。 (4 ) 恰当 使用 语言 的 连接 成分 使 全文 结构 紧凑 是 得分 的 重要 指标 。 总之 ， 让 学生 熟悉 评分 标准 ， 以便 确立 自己 更上一层楼 的 \n",
      " 奖学金 。 地理 试题 是 文科 综合 三 个 科目 中 最 难 的 ， 是 文科 综合 试卷 得分 的 “ 瓶颈 ” ， 可以 说 ， 得 地理者 得 文综 。 一 、 如何 提高 地理 综合 能\n",
      "00多 元 你 与 其花 在 复议费 上 ， 不如 上 新 东方 雅思 写作 培训班 。 为什么 得分 5分 ？ 我 给 大家 说 一下 ， 雅思 考试 有 四 个 评分 标准 ， 也 是 中国 考生\n",
      "的 东西 ， 比方说 和谐 社会 、 以人为本 ， 这些 东西 写 上去 都 是 亮点 ， 肯定 得分 ， 而且 老师 会 对 你 的 印象 特别 好 ， 觉得 你 不是 死 读书 。 来源 : 第二\n",
      "提高 。 考生 若 想 大幅度 提高 分数 ， 还 得 进行 认真 、 深入 的 学习 。 雅思 得分 研究 结果 表明 ， 考生 在 两 次 考试 之间 若 不 经过 正规 全面 的 英语 学习 ，\n",
      "以及 在 许多 课题 实验 学校 取得 了 成功 的 特殊 训练 法 迅速 提升 应考 水平 和 得分 能力 的 训练 等 。 《 高考 研究 》 丛刊 是 全国 学习 科学 研究会 考试 研究 中心\n",
      " 两 年 学龄 的 考生 来说 ， 必 有 所得 。 特殊 训练 法 迅速 提升 应考 水平 和 得分 能力 的 训练 ， 在 许多 课题 实验 学校 取得 了 成功 。 2006年 最新 模拟 试卷\n",
      "信息 ， 最好 能 归纳 成 几 个 要点 来 解答 ， 这样 能 比较 好 地 与 阅卷 采点 得分 对应 起来 。 诗歌 鉴赏 的 文字 表述 要求 比较 高 ， 为了 防止 思维 不周 而 产生\n",
      " 增加 ， 各 批 分数线 就 相对 下 移; 高考 试题 多数 考生 都 感觉 偏难 ， 总体 得分 减少 时 ， 分数线 也 会 下移 。 要 估计 自己 能 进入 哪 一类 分数 线区 只能 迂\n",
      "出题 形式 进行 归纳 总结 ， 翻来覆去 就 这么 几 种 题型 ) ， 所以 说 比较 容易 得分 。 针对 线性 代数 的 特点 ， 我们 可以 这样 准备 复习 ： 首先 要 将 线性 代数 \n",
      "上 对 考生 每 题 解答 内容 的 电子 图像 进行 评分 ， 最后 由 计算机 对 考生 的 得分 进行 统计 合成 。 在 所有 考场 安装 手机 信号 屏蔽器 ， 是 遏制 利用 手机 等 现\n",
      " 2000年 之前 的 整整 一 套 呢 ， 总之 ， 政治 是 最 不 重要 的 ， 最 容易 得分 的 ！ ！ 特别是 今年 的 题 特别 贴近 生活 ， 只要 对题 写 满 他们 留 的 空 ，\n",
      "娱乐 ， 保证 必要 的 休息 时间 ， 这样 做 更 有利于 提高 复习 效率 。 提高 高考 得分 的 有效 策略 要 想 在 高考 中 多 得分 ， 首先 是 要 有 “ 底气 ” 。 即要 有\n",
      "做 更 有利于 提高 复习 效率 。 提高 高考 得分 的 有效 策略 要 想 在 高考 中 多 得分 ， 首先 是 要 有 “ 底气 ” 。 即要 有 充分 的 知识 准备 ， 过 好 基础关 。 \n",
      " 着手 解决 ， 否则 就 努力 写好 相关 的 基本 公式 、 起始 步骤 ， 这样 可以 多 得分 。 对于 久攻不下 的 题 可 暂时 “ 放弃 ” ， 防止 “ 前面 难题 久攻 不 下 ， \n"
     ]
    }
   ],
   "source": [
    "news_t.concordance('得分',lines=50, width=100)"
   ]
  },
  {
   "cell_type": "markdown",
   "id": "fbf432b8-16b0-4aaf-aaa0-c09b2e3bfac6",
   "metadata": {},
   "source": [
    "#### 2.4 挖掘常见词语搭配"
   ]
  },
  {
   "cell_type": "code",
   "execution_count": 24,
   "id": "156a5cb0-bdb3-4a07-8685-d9f0595f0d0d",
   "metadata": {},
   "outputs": [],
   "source": [
    "IT_t = nltk.Text(creader.words(categories=['IT']))"
   ]
  },
  {
   "cell_type": "code",
   "execution_count": 27,
   "id": "15712433-1830-46a4-8951-9a7a16de462b",
   "metadata": {},
   "outputs": [
    {
     "name": "stdout",
     "output_type": "stream",
     "text": [
      "Xbox 360; CNET 资讯网; Play Station; Windows Live; Core Duo; Windows\n",
      "Vista; 巴塞罗那 俱乐部; Windows Mobile; Web 2.0; PS3 游戏机; 360 游戏机; 2008年 奥运会;\n",
      "Xbox 游戏机; Cisco Unified; AIM Phoneline; Jean Giroux; SOMA Networks;\n",
      "CDMA 2000; Christophe Giroux; Times Reader; Live Mail; Jean\n",
      "Christophe; IPT V牌照; 合肥市 公安局; box 360; 天极网 (羽人; Display Search; 108\n",
      "168; 中石化 分公司; DVD 播放器; 2006年 31日; CCW Research; 台式机 处理器; Windows 2000;\n",
      "台式机 笔记本; 基本费 500; Business Objects; 笔记本 处理器; 国防部 信息局; Windows Mail;\n",
      "AMD 处理器; MP3 播放器; 事业部 总经理; NTT DoCoMo; SSL VPN; 下一代 游戏机; Opteron 服务器;\n",
      "Unified Connector; THOM SON; 资讯网 29日; Cisco Connector; Wits View; 天极网\n",
      "28日; CNET 29日; PMP 3606; WEB 2.0; CRM Connector; Oracle Demand; Google\n",
      "Earth; 2005年 11月; SGH 820; 西班牙 巴塞罗那; 第十六 展览会; Build Forge; TMV 680;\n",
      "英特尔 处理器; Strategy Analytics; Babble Fish; Market Watch; SON 3606; THOM\n",
      "3606; 阿帕比 读书网; Unified CRM; 1920 1080; SON PMP; THOM PMP; Apabi 读书网;\n",
      "EMC 中国区; Cisco CRM; 大中华区 总经理; 会计师 事务所; Conroe 处理器; 资讯网 28日; Piper\n",
      "Jaffray; Scientific Atlanta; Office 2007; Office Live; 董事局 黄宏生; Paul\n",
      "Otellini; Inter woven; MMO RPG; Play 游戏机; AMD Opteron; Mio A700; 英特尔\n",
      "执行官; LSI Logic; 58同城 分类网; Hutchison Essar; x86 服务器; DVD 播放机\n"
     ]
    }
   ],
   "source": [
    "IT_t.collocations(num=100,window_size=5)"
   ]
  },
  {
   "cell_type": "code",
   "execution_count": null,
   "id": "f418350e-b83e-475e-84fc-d7bab7c1c912",
   "metadata": {},
   "outputs": [],
   "source": []
  }
 ],
 "metadata": {
  "kernelspec": {
   "display_name": "Python 3 (ipykernel)",
   "language": "python",
   "name": "python3"
  },
  "language_info": {
   "codemirror_mode": {
    "name": "ipython",
    "version": 3
   },
   "file_extension": ".py",
   "mimetype": "text/x-python",
   "name": "python",
   "nbconvert_exporter": "python",
   "pygments_lexer": "ipython3",
   "version": "3.9.7"
  }
 },
 "nbformat": 4,
 "nbformat_minor": 5
}
